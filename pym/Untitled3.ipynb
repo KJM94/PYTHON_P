{
 "cells": [
  {
   "cell_type": "code",
   "execution_count": 1,
   "id": "c20a395c",
   "metadata": {},
   "outputs": [
    {
     "name": "stdout",
     "output_type": "stream",
     "text": [
      "Collecting duckdb\n",
      "  Downloading duckdb-1.0.0-cp39-cp39-win_amd64.whl (10.0 MB)\n",
      "Installing collected packages: duckdb\n",
      "Successfully installed duckdb-1.0.0\n",
      "Note: you may need to restart the kernel to use updated packages.\n"
     ]
    }
   ],
   "source": [
    "pip install duckdb pandas"
   ]
  },
  {
   "cell_type": "code",
   "execution_count": 3,
   "id": "9eed3def",
   "metadata": {},
   "outputs": [
    {
     "name": "stdout",
     "output_type": "stream",
     "text": [
      "Tables in database: [('metrics',)]\n"
     ]
    }
   ],
   "source": [
    "import duckdb\n",
    "import pandas as pd\n",
    "\n",
    "db_path = './load-testing-sample.duckdb'\n",
    "\n",
    "con = duckdb.connect(database=db_path)\n",
    "\n",
    "# 데이터베이스의 모든 테이블 목록 가져오기\n",
    "tables = con.execute(\"SHOW TABLES\").fetchall()\n",
    "print(\"Tables in database:\", tables)"
   ]
  },
  {
   "cell_type": "code",
   "execution_count": 5,
   "id": "865b9e63",
   "metadata": {},
   "outputs": [],
   "source": [
    "pd.options.display.float_format = '{:.5f}'.format"
   ]
  },
  {
   "cell_type": "code",
   "execution_count": 6,
   "id": "bb3efd1b",
   "metadata": {},
   "outputs": [
    {
     "name": "stdout",
     "output_type": "stream",
     "text": [
      "                 timestamp    network_in   requests  num_of_instances  \\\n",
      "0      2024-05-30 09:20:42   11755.62012    0.00000                 1   \n",
      "1      2024-05-30 09:20:47    4123.50098    0.00000                 1   \n",
      "2      2024-05-30 09:20:53    3346.76367    0.00000                 1   \n",
      "3      2024-05-30 09:20:58    4049.43872    0.00000                 1   \n",
      "4      2024-05-30 09:21:03    3624.60693    0.00000                 1   \n",
      "...                    ...           ...        ...               ...   \n",
      "712248 2024-06-04 06:20:28 3268923.00000 1834.79272                 7   \n",
      "712249 2024-06-04 06:20:33 3430668.75000 1809.18311                 7   \n",
      "712250 2024-06-04 06:20:38 3623121.50000 1946.67810                 7   \n",
      "712251 2024-06-04 06:20:43 4124254.75000 2169.24146                 7   \n",
      "712252 2024-06-04 06:20:48 4057447.50000 2275.87012                 9   \n",
      "\n",
      "        cpu_core_request      cpu  latency  \n",
      "0                4.20000  0.00787      NaN  \n",
      "1                4.20000  0.00685      NaN  \n",
      "2                2.10000  0.00540      NaN  \n",
      "3                2.10000  0.00576      NaN  \n",
      "4                2.10000  0.00529      NaN  \n",
      "...                  ...      ...      ...  \n",
      "712248           3.60000  9.44662  0.29501  \n",
      "712249           3.60000 11.44352  0.11398  \n",
      "712250           3.30000 12.27349  0.30954  \n",
      "712251           3.30000 12.06038  0.58932  \n",
      "712252           3.26667 12.26528  0.50283  \n",
      "\n",
      "[712253 rows x 7 columns]\n"
     ]
    }
   ],
   "source": [
    "table_name = 'metrics'\n",
    "df = con.execute(f\"SELECT * FROM {table_name}\").fetchdf()\n",
    "\n",
    "# DataFrame 출력\n",
    "print(df)"
   ]
  },
  {
   "cell_type": "code",
   "execution_count": 9,
   "id": "18e72804",
   "metadata": {},
   "outputs": [],
   "source": [
    "df.dropna(subset=['network_in', 'cpu'], inplace=True)  # 결측치 제거"
   ]
  },
  {
   "cell_type": "code",
   "execution_count": 10,
   "id": "16832a18",
   "metadata": {},
   "outputs": [],
   "source": [
    "X = df[['network_in']].values\n",
    "y = df['cpu'].values"
   ]
  },
  {
   "cell_type": "code",
   "execution_count": 12,
   "id": "7cee72fd",
   "metadata": {},
   "outputs": [],
   "source": [
    "from sklearn.model_selection import train_test_split\n",
    "from sklearn.preprocessing import StandardScaler\n",
    "from sklearn.ensemble import RandomForestRegressor\n",
    "import numpy as np"
   ]
  },
  {
   "cell_type": "code",
   "execution_count": 13,
   "id": "3d6b0ad9",
   "metadata": {},
   "outputs": [],
   "source": [
    "# 데이터 스케일링\n",
    "scaler = StandardScaler()\n",
    "X_scaled = scaler.fit_transform(X)"
   ]
  },
  {
   "cell_type": "code",
   "execution_count": 14,
   "id": "6f03b010",
   "metadata": {},
   "outputs": [],
   "source": [
    "# 훈련 데이터와 테스트 데이터 분리\n",
    "X_train, X_test, y_train, y_test = train_test_split(X_scaled, y, test_size=0.2, random_state=42)"
   ]
  },
  {
   "cell_type": "code",
   "execution_count": 15,
   "id": "f256599f",
   "metadata": {},
   "outputs": [
    {
     "data": {
      "text/plain": [
       "RandomForestRegressor(random_state=42)"
      ]
     },
     "execution_count": 15,
     "metadata": {},
     "output_type": "execute_result"
    }
   ],
   "source": [
    "# Random Forest Regressor 모델 생성 및 학습\n",
    "model = RandomForestRegressor(n_estimators=100, random_state=42)\n",
    "model.fit(X_train, y_train)"
   ]
  },
  {
   "cell_type": "code",
   "execution_count": 25,
   "id": "9e9d34ec",
   "metadata": {},
   "outputs": [
    {
     "name": "stdout",
     "output_type": "stream",
     "text": [
      "Model R^2 score: 0.8206756493692103\n"
     ]
    }
   ],
   "source": [
    "# 모델 평가\n",
    "score = model.score(X_test, y_test)\n",
    "print(f'Model R^2 score: {score}')"
   ]
  },
  {
   "cell_type": "code",
   "execution_count": 19,
   "id": "d7c47bfb",
   "metadata": {},
   "outputs": [],
   "source": [
    "# 테스트 데이터에 대한 예측\n",
    "y_pred = model.predict(X_test)"
   ]
  },
  {
   "cell_type": "code",
   "execution_count": 31,
   "id": "d9790bc0",
   "metadata": {},
   "outputs": [],
   "source": [
    "# 새로운 network_in 값으로 예측\n",
    "new_network_in = np.array([[500000], [10000000]])  # interpolation과 extrapolation 예시\n",
    "new_network_in_scaled = scaler.transform(new_network_in)\n",
    "predicted_cpu = model.predict(new_network_in_scaled)"
   ]
  },
  {
   "cell_type": "code",
   "execution_count": 32,
   "id": "0e9994f5",
   "metadata": {},
   "outputs": [
    {
     "name": "stdout",
     "output_type": "stream",
     "text": [
      "Network in: 500000, Predicted CPU: 2.236097972523599\n",
      "Network in: 10000000, Predicted CPU: 46.0842227935791\n"
     ]
    }
   ],
   "source": [
    "# 예측 결과 출력\n",
    "for ni, cpu in zip(new_network_in.flatten(), predicted_cpu):\n",
    "    print(f'Network in: {ni}, Predicted CPU: {cpu}')"
   ]
  },
  {
   "cell_type": "code",
   "execution_count": 7,
   "id": "b26a5b66",
   "metadata": {},
   "outputs": [],
   "source": [
    "import matplotlib.pyplot as plt\n",
    "plt.rcParams['font.family'] ='Malgun Gothic'\n",
    "plt.rcParams['axes.unicode_minus'] =False"
   ]
  },
  {
   "cell_type": "code",
   "execution_count": 33,
   "id": "59b039c8",
   "metadata": {},
   "outputs": [
    {
     "data": {
      "text/plain": [
       "<matplotlib.collections.PathCollection at 0x1d71940c3d0>"
      ]
     },
     "execution_count": 33,
     "metadata": {},
     "output_type": "execute_result"
    },
    {
     "data": {
      "image/png": "[encoded data removed]",
      "text/plain": [
       "<Figure size 1008x504 with 1 Axes>"
      ]
     },
     "metadata": {
      "needs_background": "light"
     },
     "output_type": "display_data"
    }
   ],
   "source": [
    "# 실제 값 vs 예측 값 (테스트 데이터)\n",
    "plt.figure(figsize=(14, 7))\n",
    "plt.scatter(X_test, y_test, color='blue', label='Actual data')\n",
    "plt.scatter(X_test, y_pred, color='red', label='Predicted data')"
   ]
  },
  {
   "cell_type": "code",
   "execution_count": 34,
   "id": "884ab74e",
   "metadata": {},
   "outputs": [
    {
     "data": {
      "image/png": "[encoded data removed]",
      "text/plain": [
       "<Figure size 1008x504 with 1 Axes>"
      ]
     },
     "metadata": {
      "needs_background": "light"
     },
     "output_type": "display_data"
    }
   ],
   "source": [
    "# 새로운 값 예측 결과\n",
    "plt.figure(figsize=(14, 7))\n",
    "plt.scatter(new_network_in, predicted_cpu, color='green', label='New predictions', s=100)\n",
    "plt.xlabel('Network In')\n",
    "plt.ylabel('CPU Usage')\n",
    "plt.title('Network In vs CPU Usage')\n",
    "plt.legend()\n",
    "plt.show()"
   ]
  }
 ],
 "metadata": {
  "kernelspec": {
   "display_name": "Python 3 (ipykernel)",
   "language": "python",
   "name": "python3"
  },
  "language_info": {
   "codemirror_mode": {
    "name": "ipython",
    "version": 3
   },
   "file_extension": ".py",
   "mimetype": "text/x-python",
   "name": "python",
   "nbconvert_exporter": "python",
   "pygments_lexer": "ipython3",
   "version": "3.9.7"
  }
 },
 "nbformat": 4,
 "nbformat_minor": 5
}
