{
 "cells": [
  {
   "cell_type": "code",
   "execution_count": 1,
   "id": "c20a395c",
   "metadata": {},
   "outputs": [
    {
     "name": "stdout",
     "output_type": "stream",
     "text": [
      "Requirement already satisfied: duckdb in c:\\users\\kjm\\anaconda3\\lib\\site-packages (1.0.0)\n",
      "Requirement already satisfied: pandas in c:\\users\\kjm\\anaconda3\\lib\\site-packages (1.3.4)\n",
      "Requirement already satisfied: python-dateutil>=2.7.3 in c:\\users\\kjm\\anaconda3\\lib\\site-packages (from pandas) (2.8.2)\n",
      "Requirement already satisfied: pytz>=2017.3 in c:\\users\\kjm\\anaconda3\\lib\\site-packages (from pandas) (2021.3)\n",
      "Requirement already satisfied: numpy>=1.17.3 in c:\\users\\kjm\\anaconda3\\lib\\site-packages (from pandas) (1.20.3)\n",
      "Requirement already satisfied: six>=1.5 in c:\\users\\kjm\\anaconda3\\lib\\site-packages (from python-dateutil>=2.7.3->pandas) (1.16.0)\n",
      "Note: you may need to restart the kernel to use updated packages.\n"
     ]
    }
   ],
   "source": [
    "pip install duckdb pandas"
   ]
  },
  {
   "cell_type": "code",
   "execution_count": 2,
   "id": "9eed3def",
   "metadata": {},
   "outputs": [
    {
     "name": "stdout",
     "output_type": "stream",
     "text": [
      "Tables in database: [('metrics',)]\n"
     ]
    }
   ],
   "source": [
    "import duckdb\n",
    "import pandas as pd\n",
    "\n",
    "db_path = './load-testing-sample.duckdb'\n",
    "\n",
    "con = duckdb.connect(database=db_path)\n",
    "\n",
    "# 데이터베이스의 모든 테이블 목록 가져오기\n",
    "tables = con.execute(\"SHOW TABLES\").fetchall()\n",
    "print(\"Tables in database:\", tables)"
   ]
  },
  {
   "cell_type": "code",
   "execution_count": 3,
   "id": "865b9e63",
   "metadata": {},
   "outputs": [],
   "source": [
    "pd.options.display.float_format = '{:.5f}'.format"
   ]
  },
  {
   "cell_type": "code",
   "execution_count": 4,
   "id": "bb3efd1b",
   "metadata": {},
   "outputs": [
    {
     "name": "stdout",
     "output_type": "stream",
     "text": [
      "                 timestamp    network_in   requests  num_of_instances  \\\n",
      "0      2024-05-30 09:20:42   11755.62012    0.00000                 1   \n",
      "1      2024-05-30 09:20:47    4123.50098    0.00000                 1   \n",
      "2      2024-05-30 09:20:53    3346.76367    0.00000                 1   \n",
      "3      2024-05-30 09:20:58    4049.43872    0.00000                 1   \n",
      "4      2024-05-30 09:21:03    3624.60693    0.00000                 1   \n",
      "...                    ...           ...        ...               ...   \n",
      "712248 2024-06-04 06:20:28 3268923.00000 1834.79272                 7   \n",
      "712249 2024-06-04 06:20:33 3430668.75000 1809.18311                 7   \n",
      "712250 2024-06-04 06:20:38 3623121.50000 1946.67810                 7   \n",
      "712251 2024-06-04 06:20:43 4124254.75000 2169.24146                 7   \n",
      "712252 2024-06-04 06:20:48 4057447.50000 2275.87012                 9   \n",
      "\n",
      "        cpu_core_request      cpu  latency  \n",
      "0                4.20000  0.00787      NaN  \n",
      "1                4.20000  0.00685      NaN  \n",
      "2                2.10000  0.00540      NaN  \n",
      "3                2.10000  0.00576      NaN  \n",
      "4                2.10000  0.00529      NaN  \n",
      "...                  ...      ...      ...  \n",
      "712248           3.60000  9.44662  0.29501  \n",
      "712249           3.60000 11.44352  0.11398  \n",
      "712250           3.30000 12.27349  0.30954  \n",
      "712251           3.30000 12.06038  0.58932  \n",
      "712252           3.26667 12.26528  0.50283  \n",
      "\n",
      "[712253 rows x 7 columns]\n"
     ]
    }
   ],
   "source": [
    "table_name = 'metrics'\n",
    "df = con.execute(f\"SELECT * FROM {table_name}\").fetchdf()\n",
    "\n",
    "# DataFrame 출력\n",
    "print(df)"
   ]
  },
  {
   "cell_type": "code",
   "execution_count": 5,
   "id": "18e72804",
   "metadata": {},
   "outputs": [],
   "source": [
    "df.dropna(subset=['network_in', 'cpu'], inplace=True)  # 결측치 제거"
   ]
  },
  {
   "cell_type": "code",
   "execution_count": 6,
   "id": "16832a18",
   "metadata": {},
   "outputs": [],
   "source": [
    "X = df[['network_in']].values\n",
    "y = df['cpu'].values"
   ]
  },
  {
   "cell_type": "code",
   "execution_count": 7,
   "id": "7cee72fd",
   "metadata": {},
   "outputs": [],
   "source": [
    "from sklearn.model_selection import train_test_split\n",
    "from sklearn.preprocessing import StandardScaler\n",
    "from sklearn.ensemble import RandomForestRegressor\n",
    "import numpy as np"
   ]
  },
  {
   "cell_type": "code",
   "execution_count": 8,
   "id": "3d6b0ad9",
   "metadata": {},
   "outputs": [],
   "source": [
    "scaler = StandardScaler()\n",
    "X_scaled = scaler.fit_transform(X)"
   ]
  },
  {
   "cell_type": "code",
   "execution_count": 9,
   "id": "6f03b010",
   "metadata": {},
   "outputs": [],
   "source": [
    "X_train, X_test, y_train, y_test = train_test_split(X_scaled, y, test_size=0.2, random_state=42)"
   ]
  },
  {
   "cell_type": "code",
   "execution_count": 10,
   "id": "f256599f",
   "metadata": {},
   "outputs": [
    {
     "data": {
      "text/plain": [
       "RandomForestRegressor(random_state=42)"
      ]
     },
     "execution_count": 10,
     "metadata": {},
     "output_type": "execute_result"
    }
   ],
   "source": [
    "model = RandomForestRegressor(n_estimators=100, random_state=42)\n",
    "model.fit(X_train, y_train)"
   ]
  },
  {
   "cell_type": "code",
   "execution_count": 11,
   "id": "9e9d34ec",
   "metadata": {},
   "outputs": [
    {
     "name": "stdout",
     "output_type": "stream",
     "text": [
      "Model R^2 score: 0.8206756493692103\n"
     ]
    }
   ],
   "source": [
    "score = model.score(X_test, y_test)\n",
    "print(f'Model R^2 score: {score}')"
   ]
  },
  {
   "cell_type": "code",
   "execution_count": 12,
   "id": "d7c47bfb",
   "metadata": {},
   "outputs": [],
   "source": [
    "y_pred = model.predict(X_test)"
   ]
  },
  {
   "cell_type": "code",
   "execution_count": 13,
   "id": "d9790bc0",
   "metadata": {},
   "outputs": [],
   "source": [
    "new_network_in = np.array([[500000], [1000000], [20000000]])  # interpolation과 extrapolation 예시\n",
    "new_network_in_scaled = scaler.transform(new_network_in)\n",
    "predicted_cpu = model.predict(new_network_in_scaled)"
   ]
  },
  {
   "cell_type": "code",
   "execution_count": 14,
   "id": "0e9994f5",
   "metadata": {},
   "outputs": [
    {
     "name": "stdout",
     "output_type": "stream",
     "text": [
      "Network in: 500000, Predicted CPU: 2.236097972523599\n",
      "Network in: 1000000, Predicted CPU: 2.217164539019267\n",
      "Network in: 20000000, Predicted CPU: 50.40215911865234\n"
     ]
    }
   ],
   "source": [
    "for ni, cpu in zip(new_network_in.flatten(), predicted_cpu):\n",
    "    print(f'Network in: {ni}, Predicted CPU: {cpu}')"
   ]
  },
  {
   "cell_type": "code",
   "execution_count": 15,
   "id": "b26a5b66",
   "metadata": {},
   "outputs": [],
   "source": [
    "import matplotlib.pyplot as plt\n",
    "plt.rcParams['font.family'] ='Malgun Gothic'\n",
    "plt.rcParams['axes.unicode_minus'] =False"
   ]
  },
  {
   "cell_type": "code",
   "execution_count": 16,
   "id": "59b039c8",
   "metadata": {},
   "outputs": [
    {
     "data": {
      "text/plain": [
       "<matplotlib.collections.PathCollection at 0x19ff125de20>"
      ]
     },
     "execution_count": 16,
     "metadata": {},
     "output_type": "execute_result"
    },
    {
     "data": {
      "image/png": "[encoded data removed]",
      "text/plain": [
       "<Figure size 1008x504 with 1 Axes>"
      ]
     },
     "metadata": {
      "needs_background": "light"
     },
     "output_type": "display_data"
    }
   ],
   "source": [
    "plt.figure(figsize=(14, 7))\n",
    "plt.scatter(X_test, y_test, color='blue', label='Actual data', s=100)\n",
    "plt.scatter(X_test, y_pred, color='red', label='Predicted data', s=100)"
   ]
  },
  {
   "cell_type": "code",
   "execution_count": 17,
   "id": "884ab74e",
   "metadata": {},
   "outputs": [
    {
     "data": {
      "image/png": "[encoded data removed]",
      "text/plain": [
       "<Figure size 1008x504 with 1 Axes>"
      ]
     },
     "metadata": {
      "needs_background": "light"
     },
     "output_type": "display_data"
    }
   ],
   "source": [
    "plt.figure(figsize=(14, 7))\n",
    "plt.scatter(new_network_in, predicted_cpu, color='green', label='New predictions', s=100)\n",
    "plt.xlabel('Network In')\n",
    "plt.ylabel('CPU Usage')\n",
    "plt.title('Network In vs CPU Usage')\n",
    "plt.legend()\n",
    "plt.show()"
   ]
  },
  {
   "cell_type": "markdown",
   "id": "cfb952eb",
   "metadata": {},
   "source": [
    "첫 번째 플롯 (실제 값 vs 예측 값)\n",
    "파란색 점: 실제 데이터 (테스트 데이터셋)\n",
    "빨간색 점: 모델의 예측 값\n",
    "이 플롯은 모델이 학습된 데이터 범위 내에서 network_in 값을 입력으로 받아 cpu 값을 얼마나 잘 예측하는지를 보여줍니다. 이상적으로는 빨간색 점(예측 값)과 파란색 점(실제 값)이 겹치거나 가까워야 합니다.\n",
    "\n",
    "해석:\n",
    "\n",
    "대부분의 경우 모델의 예측 값(빨간색 점)은 실제 값(파란색 점)과 잘 일치합니다.\n",
    "일부 점에서는 예측 값이 실제 값과 약간 차이가 나는 것을 볼 수 있습니다.\n",
    "전반적으로 모델이 데이터의 패턴을 잘 학습하여 예측하고 있음을 보여줍니다.\n",
    "두 번째 플롯 (새로운 예측 값)\n",
    "녹색 점: 새로운 network_in 값에 대한 예측 값 (Interpolation과 Extrapolation)\n",
    "이 플롯은 새로운 network_in 값(500,000, 1,000,000, 20,000,000)에 대해 모델이 cpu 값을 어떻게 예측하는지를 보여줍니다. 여기서 중요한 것은 두 개의 값을 학습 데이터 범위 내에서, 하나의 값을 학습 데이터 범위 밖에서 예측하는 것입니다.\n",
    "\n",
    "해석:\n",
    "\n",
    "500,000과 1,000,000은 학습 데이터 범위 내의 값으로, 모델이 예측한 cpu 값은 매우 낮은 값을 가리킵니다.\n",
    "20,000,000은 학습 데이터 범위를 벗어난 값으로, 모델이 예측한 cpu 값이 높은 값을 가리키고 있습니다.\n",
    "이 플롯에서는 데이터 분포가 왼쪽 하단에 집중되어 있기 때문에, 새로운 값에 대한 예측이 분포에서 벗어나게 보입니다. 학습 데이터의 대부분이 낮은 network_in 값에 집중되어 있어, 고차원의 값을 예측할 때 모델의 신뢰도가 떨어질 수 있습니다.\n",
    "종합적인 해석\n",
    "Interpolation: 학습 데이터 범위 내에서 모델의 예측은 신뢰할 만하며, 실제 값과 잘 일치합니다.\n",
    "Extrapolation: 학습 데이터 범위를 벗어난 경우, 모델의 예측이 불확실할 수 있으며, 고차원의 값을 예측할 때 예측 오차가 커질 가능성이 있습니다.\n",
    "추가적으로, 모델의 성능을 향상시키기 위해 다음을 고려할 수 있습니다:\n",
    "\n",
    "더 많은 데이터를 수집하여 학습 데이터의 다양성을 높입니다.\n",
    "비선형성을 더 잘 반영할 수 있는 모델을 사용합니다 (예: 딥러닝 모델, 앙상블 모델 등).\n",
    "모델의 하이퍼파라미터를 최적화하여 성능을 개선합니다."
   ]
  }
 ],
 "metadata": {
  "kernelspec": {
   "display_name": "Python 3 (ipykernel)",
   "language": "python",
   "name": "python3"
  },
  "language_info": {
   "codemirror_mode": {
    "name": "ipython",
    "version": 3
   },
   "file_extension": ".py",
   "mimetype": "text/x-python",
   "name": "python",
   "nbconvert_exporter": "python",
   "pygments_lexer": "ipython3",
   "version": "3.9.7"
  }
 },
 "nbformat": 4,
 "nbformat_minor": 5
}
