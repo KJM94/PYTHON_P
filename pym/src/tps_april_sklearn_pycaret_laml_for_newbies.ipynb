{
  "nbformat": 4,
  "nbformat_minor": 0,
  "metadata": {
    "kernelspec": {
      "language": "python",
      "display_name": "Python 3",
      "name": "python3"
    },
    "language_info": {
      "name": "python",
      "version": "3.7.9",
      "mimetype": "text/x-python",
      "codemirror_mode": {
        "name": "ipython",
        "version": 3
      },
      "pygments_lexer": "ipython3",
      "nbconvert_exporter": "python",
      "file_extension": ".py"
    },
    "colab": {
      "name": "tps-april-sklearn-pycaret-laml-for-newbies.ipynb",
      "provenance": [],
      "include_colab_link": true
    },
    "widgets": {
      "application/vnd.jupyter.widget-state+json": {
        "523dbdbfdcc442d08b18925142b35b96": {
          "model_module": "@jupyter-widgets/controls",
          "model_name": "IntProgressModel",
          "state": {
            "_view_name": "ProgressView",
            "style": "IPY_MODEL_5a8660b180a240aebd48437a2e63ce49",
            "_dom_classes": [],
            "description": "Processing: ",
            "_model_name": "IntProgressModel",
            "bar_style": "",
            "max": 3,
            "_view_module": "@jupyter-widgets/controls",
            "_model_module_version": "1.5.0",
            "value": 3,
            "_view_count": null,
            "_view_module_version": "1.5.0",
            "orientation": "horizontal",
            "min": 0,
            "description_tooltip": null,
            "_model_module": "@jupyter-widgets/controls",
            "layout": "IPY_MODEL_24cb8af0a183484eb51e437268b4dac4"
          }
        },
        "691807b2b36e45c6846cf53f5e09c0a2": {
          "model_module": "@jupyter-widgets/controls",
          "model_name": "IntProgressModel",
          "state": {
            "_view_name": "ProgressView",
            "style": "IPY_MODEL_f20026f48f604accae1143b88a0f9e53",
            "_dom_classes": [],
            "description": "Processing: ",
            "_model_name": "IntProgressModel",
            "bar_style": "",
            "max": 79,
            "_view_module": "@jupyter-widgets/controls",
            "_model_module_version": "1.5.0",
            "value": 79,
            "_view_count": null,
            "_view_module_version": "1.5.0",
            "orientation": "horizontal",
            "min": 0,
            "description_tooltip": null,
            "_model_module": "@jupyter-widgets/controls",
            "layout": "IPY_MODEL_e16b67d65e6649f9ad3a01a86954d481"
          }
        },
        "f20026f48f604accae1143b88a0f9e53": {
          "model_module": "@jupyter-widgets/controls",
          "model_name": "ProgressStyleModel",
          "state": {
            "_view_name": "StyleView",
            "_model_name": "ProgressStyleModel",
            "description_width": "",
            "_view_module": "@jupyter-widgets/base",
            "_model_module_version": "1.5.0",
            "_view_count": null,
            "_view_module_version": "1.2.0",
            "bar_color": null,
            "_model_module": "@jupyter-widgets/controls"
          }
        },
        "e16b67d65e6649f9ad3a01a86954d481": {
          "model_module": "@jupyter-widgets/base",
          "model_name": "LayoutModel",
          "state": {
            "_view_name": "LayoutView",
            "grid_template_rows": null,
            "right": null,
            "justify_content": null,
            "_view_module": "@jupyter-widgets/base",
            "overflow": null,
            "_model_module_version": "1.2.0",
            "_view_count": null,
            "flex_flow": null,
            "width": null,
            "min_width": null,
            "border": null,
            "align_items": null,
            "bottom": null,
            "_model_module": "@jupyter-widgets/base",
            "top": null,
            "grid_column": null,
            "overflow_y": null,
            "overflow_x": null,
            "grid_auto_flow": null,
            "grid_area": null,
            "grid_template_columns": null,
            "flex": null,
            "_model_name": "LayoutModel",
            "justify_items": null,
            "grid_row": null,
            "max_height": null,
            "align_content": null,
            "visibility": null,
            "align_self": null,
            "height": null,
            "min_height": null,
            "padding": null,
            "grid_auto_rows": null,
            "grid_gap": null,
            "max_width": null,
            "order": null,
            "_view_module_version": "1.2.0",
            "grid_template_areas": null,
            "object_position": null,
            "object_fit": null,
            "grid_auto_columns": null,
            "margin": null,
            "display": null,
            "left": null
          }
        },
        "f46305577e0049afb868331aded1fc08": {
          "model_module": "@jupyter-widgets/controls",
          "model_name": "IntProgressModel",
          "state": {
            "_view_name": "ProgressView",
            "style": "IPY_MODEL_4cf6bc3b93da4acdbeb4f21653148310",
            "_dom_classes": [],
            "description": "Processing: ",
            "_model_name": "IntProgressModel",
            "bar_style": "",
            "max": 4,
            "_view_module": "@jupyter-widgets/controls",
            "_model_module_version": "1.5.0",
            "value": 4,
            "_view_count": null,
            "_view_module_version": "1.5.0",
            "orientation": "horizontal",
            "min": 0,
            "description_tooltip": null,
            "_model_module": "@jupyter-widgets/controls",
            "layout": "IPY_MODEL_dc5e5124f6154427b3dc7a36aa449329"
          }
        },
        "4cf6bc3b93da4acdbeb4f21653148310": {
          "model_module": "@jupyter-widgets/controls",
          "model_name": "ProgressStyleModel",
          "state": {
            "_view_name": "StyleView",
            "_model_name": "ProgressStyleModel",
            "description_width": "",
            "_view_module": "@jupyter-widgets/base",
            "_model_module_version": "1.5.0",
            "_view_count": null,
            "_view_module_version": "1.2.0",
            "bar_color": null,
            "_model_module": "@jupyter-widgets/controls"
          }
        },
        "dc5e5124f6154427b3dc7a36aa449329": {
          "model_module": "@jupyter-widgets/base",
          "model_name": "LayoutModel",
          "state": {
            "_view_name": "LayoutView",
            "grid_template_rows": null,
            "right": null,
            "justify_content": null,
            "_view_module": "@jupyter-widgets/base",
            "overflow": null,
            "_model_module_version": "1.2.0",
            "_view_count": null,
            "flex_flow": null,
            "width": null,
            "min_width": null,
            "border": null,
            "align_items": null,
            "bottom": null,
            "_model_module": "@jupyter-widgets/base",
            "top": null,
            "grid_column": null,
            "overflow_y": null,
            "overflow_x": null,
            "grid_auto_flow": null,
            "grid_area": null,
            "grid_template_columns": null,
            "flex": null,
            "_model_name": "LayoutModel",
            "justify_items": null,
            "grid_row": null,
            "max_height": null,
            "align_content": null,
            "visibility": null,
            "align_self": null,
            "height": null,
            "min_height": null,
            "padding": null,
            "grid_auto_rows": null,
            "grid_gap": null,
            "max_width": null,
            "order": null,
            "_view_module_version": "1.2.0",
            "grid_template_areas": null,
            "object_position": null,
            "object_fit": null,
            "grid_auto_columns": null,
            "margin": null,
            "display": null,
            "left": null
          }
        },
        "08bbf175579d4a3b9a472a2b0f688956": {
          "model_module": "@jupyter-widgets/controls",
          "model_name": "IntProgressModel",
          "state": {
            "_view_name": "ProgressView",
            "style": "IPY_MODEL_8dd7c85d83a9445697c2157068bd9678",
            "_dom_classes": [],
            "description": "Processing: ",
            "_model_name": "IntProgressModel",
            "bar_style": "",
            "max": 7,
            "_view_module": "@jupyter-widgets/controls",
            "_model_module_version": "1.5.0",
            "value": 7,
            "_view_count": null,
            "_view_module_version": "1.5.0",
            "orientation": "horizontal",
            "min": 0,
            "description_tooltip": null,
            "_model_module": "@jupyter-widgets/controls",
            "layout": "IPY_MODEL_8f17563e11904aaba43cd288dd08986e"
          }
        },
        "8dd7c85d83a9445697c2157068bd9678": {
          "model_module": "@jupyter-widgets/controls",
          "model_name": "ProgressStyleModel",
          "state": {
            "_view_name": "StyleView",
            "_model_name": "ProgressStyleModel",
            "description_width": "",
            "_view_module": "@jupyter-widgets/base",
            "_model_module_version": "1.5.0",
            "_view_count": null,
            "_view_module_version": "1.2.0",
            "bar_color": null,
            "_model_module": "@jupyter-widgets/controls"
          }
        },
        "8f17563e11904aaba43cd288dd08986e": {
          "model_module": "@jupyter-widgets/base",
          "model_name": "LayoutModel",
          "state": {
            "_view_name": "LayoutView",
            "grid_template_rows": null,
            "right": null,
            "justify_content": null,
            "_view_module": "@jupyter-widgets/base",
            "overflow": null,
            "_model_module_version": "1.2.0",
            "_view_count": null,
            "flex_flow": null,
            "width": null,
            "min_width": null,
            "border": null,
            "align_items": null,
            "bottom": null,
            "_model_module": "@jupyter-widgets/base",
            "top": null,
            "grid_column": null,
            "overflow_y": null,
            "overflow_x": null,
            "grid_auto_flow": null,
            "grid_area": null,
            "grid_template_columns": null,
            "flex": null,
            "_model_name": "LayoutModel",
            "justify_items": null,
            "grid_row": null,
            "max_height": null,
            "align_content": null,
            "visibility": null,
            "align_self": null,
            "height": null,
            "min_height": null,
            "padding": null,
            "grid_auto_rows": null,
            "grid_gap": null,
            "max_width": null,
            "order": null,
            "_view_module_version": "1.2.0",
            "grid_template_areas": null,
            "object_position": null,
            "object_fit": null,
            "grid_auto_columns": null,
            "margin": null,
            "display": null,
            "left": null
          }
        }
      }
    }
  },
  "cells": [
    {
      "cell_type": "markdown",
      "metadata": {
        "id": "view-in-github",
        "colab_type": "text"
      },
      "source": [
        "<a href=\"https://colab.research.google.com/github/KJM94/pym/blob/main/src/tps_april_sklearn_pycaret_laml_for_newbies.ipynb\" target=\"_parent\"><img src=\"https://colab.research.google.com/assets/colab-badge.svg\" alt=\"Open In Colab\"/></a>"
      ]
    },
    {
      "cell_type": "markdown",
      "metadata": {
        "id": "3AYYf5vl8U-T"
      },
      "source": [
        "- [Overview](#overview)\n",
        "    - [Etiquette](#etiquette)\n",
        "    \n",
        "- [Feature Engineering](#feature_engineering)\n",
        "    - [(1) Data Import](#data_import)\n",
        "    - [(2) Data Combine](#data_combine)\n",
        "    - [(3) Handling Missing Values](#handling_missing_values)\n",
        "    - [(4) Feature Encoding](#feature_encoding)\n",
        "    - [(5) Split Data](#split_data)\n",
        "    - [(6) Limitation](#limitation)\n",
        "    \n",
        "- [Scikit Learn](#scikit_learn)\n",
        "    - [(1) Data Split](#data_split)\n",
        "    - [(2) Base Model - Decision Tree](#base_model_tree)\n",
        "    - [(3) Create Helper Class and Submission Function](#helper_class)\n",
        "        * [(A) DecisionTreeClassifier](#DecisionTreeClassifier)\n",
        "        * [(B) RandomForestClassifier](#RandomForestClassifier)\n",
        "        * [(C) LightGBM](#lightgbm)\n",
        "        * [(D) Feature Importance](#feature_importance)\n",
        "        * [(E) Submission](#submission) \n",
        "\n",
        "- [PyCaret](#pycaret)\n",
        "    - [(1) Intro](#intro)\n",
        "    - [(2) PyCaret Tutorials](#pycaret_tutorials)\n",
        "    - [(3) Base Model](#base_model)\n",
        "        + [(A) Initialize Setup](#initialize_setup)\n",
        "        + [(B) Comparing All Models](#compare_models)\n",
        "        + [(C) Create Model](#create_pycaret_model)\n",
        "        + [(D) Tune Model](#tune_pycaret_model)\n",
        "        + [(E) Plot Model](#plot_pycaret_model)\n",
        "        + [(F) Predictions and Submissions](#preds_submissions)\n",
        "\n",
        "> If you want to know how to create table of contents in Kaggle Notebooks, please check this article [Create Table of Contents in a Notebook](https://www.kaggle.com/dcstang/create-table-of-contents-in-a-notebook) by David Tang"
      ]
    },
    {
      "cell_type": "markdown",
      "metadata": {
        "id": "_PQnHFpV8U-c"
      },
      "source": [
        "<a id=\"overview\"></a>\n",
        "## Overview\n",
        "- This is my personal tutorial sharing with my students as example. \n",
        "- The whole processes will be shared from EDA to Modeling and Evaluation, Finally Submission. \n",
        "    + Let's Check My [EDA Code](https://www.kaggle.com/j2hoon85/2021-april-play-ground-eda-for-kaggle-newbies)\n",
        "- The well-known notebooks shared will be enough for students to learn Kaggle as an entry level. \n",
        "\n",
        "> Happy to Code"
      ]
    },
    {
      "cell_type": "markdown",
      "metadata": {
        "id": "3ZLG0gzL8U-c"
      },
      "source": [
        "<a id='etiquette'></a>\n",
        "### Etiquette\n",
        "- When students get codes and ideas from other notebooks, then please make sure to leave a reference and upvote it as well. 👆👆👆"
      ]
    },
    {
      "cell_type": "markdown",
      "metadata": {
        "id": "WG9qFIWV8U-d"
      },
      "source": [
        "<a id=\"feature_engineering\"></a>\n",
        "## Feature Engineering\n",
        "- After EDA, it's time to conduct Feature Engineering. \n",
        "- If you are not familiar with this concept, then please read a book\n",
        "\n",
        "![Feature Engineering for Machine Learning](https://learning.oreilly.com/library/cover/9781491953235/250w/)\n",
        "    \n",
        "- And If you need a short summary about feature engineering, then please check this article as well. \n",
        "    + [@Chris Deotte Feature Engineering Techniques](https://www.kaggle.com/c/ieee-fraud-detection/discussion/108575)"
      ]
    },
    {
      "cell_type": "markdown",
      "metadata": {
        "id": "812uRm5G8U-d"
      },
      "source": [
        "<a id='data_import'></a>\n",
        "### (1) Data Import\n",
        "- Let's get datasets"
      ]
    },
    {
      "cell_type": "code",
      "metadata": {
        "trusted": true,
        "colab": {
          "base_uri": "https://localhost:8080/"
        },
        "id": "HhGcqzUk8U-e",
        "outputId": "f2039e36-f175-4626-9583-e37aeb3f36e3"
      },
      "source": [
        "import pandas as pd\n",
        "import matplotlib\n",
        "import matplotlib.pyplot as plt\n",
        "import numpy as np\n",
        "import seaborn as sb\n",
        "import os\n",
        "\n",
        "print(\"Version Pandas\", pd.__version__)\n",
        "print(\"Version Matplotlib\", matplotlib.__version__)\n",
        "print(\"Version Numpy\", np.__version__)\n",
        "print(\"Version Seaborn\", sb.__version__)\n",
        "\n",
        "os.listdir('/content/drive/MyDrive/Colab Notebooks/kaggle2portpolio/data')"
      ],
      "execution_count": 3,
      "outputs": [
        {
          "output_type": "stream",
          "text": [
            "Version Pandas 1.1.5\n",
            "Version Matplotlib 3.2.2\n",
            "Version Numpy 1.19.5\n",
            "Version Seaborn 0.11.1\n"
          ],
          "name": "stdout"
        },
        {
          "output_type": "execute_result",
          "data": {
            "text/plain": [
              "['gender_submission.csv',\n",
              " 'train.csv',\n",
              " 'test.csv',\n",
              " 'german_credit_data.csv',\n",
              " 'Lemonade2016.csv']"
            ]
          },
          "metadata": {
            "tags": []
          },
          "execution_count": 3
        }
      ]
    },
    {
      "cell_type": "code",
      "metadata": {
        "trusted": true,
        "colab": {
          "base_uri": "https://localhost:8080/"
        },
        "id": "3LK2Y3Sy8U-f",
        "outputId": "139419fb-fdb1-4179-f20e-9344ad0557b1"
      },
      "source": [
        "BASE_DIR = '/content/drive/MyDrive/Colab Notebooks/kaggle2portpolio/data/'\n",
        "train = pd.read_csv(BASE_DIR + 'train.csv')\n",
        "test = pd.read_csv(BASE_DIR + 'test.csv')\n",
        "gender_submission = pd.read_csv(BASE_DIR + 'gender_submission.csv')\n",
        "\n",
        "train.shape, test.shape, gender_submission.shape"
      ],
      "execution_count": 4,
      "outputs": [
        {
          "output_type": "execute_result",
          "data": {
            "text/plain": [
              "((891, 12), (418, 11), (418, 2))"
            ]
          },
          "metadata": {
            "tags": []
          },
          "execution_count": 4
        }
      ]
    },
    {
      "cell_type": "code",
      "metadata": {
        "trusted": true,
        "colab": {
          "base_uri": "https://localhost:8080/",
          "height": 204
        },
        "id": "ebspKCcM8U-f",
        "outputId": "de9ca3e4-9a04-4d71-a6a7-aef5172501dd"
      },
      "source": [
        "train.head()"
      ],
      "execution_count": 5,
      "outputs": [
        {
          "output_type": "execute_result",
          "data": {
            "text/html": [
              "<div>\n",
              "<style scoped>\n",
              "    .dataframe tbody tr th:only-of-type {\n",
              "        vertical-align: middle;\n",
              "    }\n",
              "\n",
              "    .dataframe tbody tr th {\n",
              "        vertical-align: top;\n",
              "    }\n",
              "\n",
              "    .dataframe thead th {\n",
              "        text-align: right;\n",
              "    }\n",
              "</style>\n",
              "<table border=\"1\" class=\"dataframe\">\n",
              "  <thead>\n",
              "    <tr style=\"text-align: right;\">\n",
              "      <th></th>\n",
              "      <th>PassengerId</th>\n",
              "      <th>Survived</th>\n",
              "      <th>Pclass</th>\n",
              "      <th>Name</th>\n",
              "      <th>Sex</th>\n",
              "      <th>Age</th>\n",
              "      <th>SibSp</th>\n",
              "      <th>Parch</th>\n",
              "      <th>Ticket</th>\n",
              "      <th>Fare</th>\n",
              "      <th>Cabin</th>\n",
              "      <th>Embarked</th>\n",
              "    </tr>\n",
              "  </thead>\n",
              "  <tbody>\n",
              "    <tr>\n",
              "      <th>0</th>\n",
              "      <td>1</td>\n",
              "      <td>0</td>\n",
              "      <td>3</td>\n",
              "      <td>Braund, Mr. Owen Harris</td>\n",
              "      <td>male</td>\n",
              "      <td>22.0</td>\n",
              "      <td>1</td>\n",
              "      <td>0</td>\n",
              "      <td>A/5 21171</td>\n",
              "      <td>7.2500</td>\n",
              "      <td>NaN</td>\n",
              "      <td>S</td>\n",
              "    </tr>\n",
              "    <tr>\n",
              "      <th>1</th>\n",
              "      <td>2</td>\n",
              "      <td>1</td>\n",
              "      <td>1</td>\n",
              "      <td>Cumings, Mrs. John Bradley (Florence Briggs Th...</td>\n",
              "      <td>female</td>\n",
              "      <td>38.0</td>\n",
              "      <td>1</td>\n",
              "      <td>0</td>\n",
              "      <td>PC 17599</td>\n",
              "      <td>71.2833</td>\n",
              "      <td>C85</td>\n",
              "      <td>C</td>\n",
              "    </tr>\n",
              "    <tr>\n",
              "      <th>2</th>\n",
              "      <td>3</td>\n",
              "      <td>1</td>\n",
              "      <td>3</td>\n",
              "      <td>Heikkinen, Miss. Laina</td>\n",
              "      <td>female</td>\n",
              "      <td>26.0</td>\n",
              "      <td>0</td>\n",
              "      <td>0</td>\n",
              "      <td>STON/O2. 3101282</td>\n",
              "      <td>7.9250</td>\n",
              "      <td>NaN</td>\n",
              "      <td>S</td>\n",
              "    </tr>\n",
              "    <tr>\n",
              "      <th>3</th>\n",
              "      <td>4</td>\n",
              "      <td>1</td>\n",
              "      <td>1</td>\n",
              "      <td>Futrelle, Mrs. Jacques Heath (Lily May Peel)</td>\n",
              "      <td>female</td>\n",
              "      <td>35.0</td>\n",
              "      <td>1</td>\n",
              "      <td>0</td>\n",
              "      <td>113803</td>\n",
              "      <td>53.1000</td>\n",
              "      <td>C123</td>\n",
              "      <td>S</td>\n",
              "    </tr>\n",
              "    <tr>\n",
              "      <th>4</th>\n",
              "      <td>5</td>\n",
              "      <td>0</td>\n",
              "      <td>3</td>\n",
              "      <td>Allen, Mr. William Henry</td>\n",
              "      <td>male</td>\n",
              "      <td>35.0</td>\n",
              "      <td>0</td>\n",
              "      <td>0</td>\n",
              "      <td>373450</td>\n",
              "      <td>8.0500</td>\n",
              "      <td>NaN</td>\n",
              "      <td>S</td>\n",
              "    </tr>\n",
              "  </tbody>\n",
              "</table>\n",
              "</div>"
            ],
            "text/plain": [
              "   PassengerId  Survived  Pclass  ...     Fare Cabin  Embarked\n",
              "0            1         0       3  ...   7.2500   NaN         S\n",
              "1            2         1       1  ...  71.2833   C85         C\n",
              "2            3         1       3  ...   7.9250   NaN         S\n",
              "3            4         1       1  ...  53.1000  C123         S\n",
              "4            5         0       3  ...   8.0500   NaN         S\n",
              "\n",
              "[5 rows x 12 columns]"
            ]
          },
          "metadata": {
            "tags": []
          },
          "execution_count": 5
        }
      ]
    },
    {
      "cell_type": "code",
      "metadata": {
        "trusted": true,
        "colab": {
          "base_uri": "https://localhost:8080/",
          "height": 204
        },
        "id": "o1QQ1XZV8U-f",
        "outputId": "99d02afd-c47c-4dd8-a247-a4273e11f768"
      },
      "source": [
        "test.head()"
      ],
      "execution_count": 6,
      "outputs": [
        {
          "output_type": "execute_result",
          "data": {
            "text/html": [
              "<div>\n",
              "<style scoped>\n",
              "    .dataframe tbody tr th:only-of-type {\n",
              "        vertical-align: middle;\n",
              "    }\n",
              "\n",
              "    .dataframe tbody tr th {\n",
              "        vertical-align: top;\n",
              "    }\n",
              "\n",
              "    .dataframe thead th {\n",
              "        text-align: right;\n",
              "    }\n",
              "</style>\n",
              "<table border=\"1\" class=\"dataframe\">\n",
              "  <thead>\n",
              "    <tr style=\"text-align: right;\">\n",
              "      <th></th>\n",
              "      <th>PassengerId</th>\n",
              "      <th>Pclass</th>\n",
              "      <th>Name</th>\n",
              "      <th>Sex</th>\n",
              "      <th>Age</th>\n",
              "      <th>SibSp</th>\n",
              "      <th>Parch</th>\n",
              "      <th>Ticket</th>\n",
              "      <th>Fare</th>\n",
              "      <th>Cabin</th>\n",
              "      <th>Embarked</th>\n",
              "    </tr>\n",
              "  </thead>\n",
              "  <tbody>\n",
              "    <tr>\n",
              "      <th>0</th>\n",
              "      <td>892</td>\n",
              "      <td>3</td>\n",
              "      <td>Kelly, Mr. James</td>\n",
              "      <td>male</td>\n",
              "      <td>34.5</td>\n",
              "      <td>0</td>\n",
              "      <td>0</td>\n",
              "      <td>330911</td>\n",
              "      <td>7.8292</td>\n",
              "      <td>NaN</td>\n",
              "      <td>Q</td>\n",
              "    </tr>\n",
              "    <tr>\n",
              "      <th>1</th>\n",
              "      <td>893</td>\n",
              "      <td>3</td>\n",
              "      <td>Wilkes, Mrs. James (Ellen Needs)</td>\n",
              "      <td>female</td>\n",
              "      <td>47.0</td>\n",
              "      <td>1</td>\n",
              "      <td>0</td>\n",
              "      <td>363272</td>\n",
              "      <td>7.0000</td>\n",
              "      <td>NaN</td>\n",
              "      <td>S</td>\n",
              "    </tr>\n",
              "    <tr>\n",
              "      <th>2</th>\n",
              "      <td>894</td>\n",
              "      <td>2</td>\n",
              "      <td>Myles, Mr. Thomas Francis</td>\n",
              "      <td>male</td>\n",
              "      <td>62.0</td>\n",
              "      <td>0</td>\n",
              "      <td>0</td>\n",
              "      <td>240276</td>\n",
              "      <td>9.6875</td>\n",
              "      <td>NaN</td>\n",
              "      <td>Q</td>\n",
              "    </tr>\n",
              "    <tr>\n",
              "      <th>3</th>\n",
              "      <td>895</td>\n",
              "      <td>3</td>\n",
              "      <td>Wirz, Mr. Albert</td>\n",
              "      <td>male</td>\n",
              "      <td>27.0</td>\n",
              "      <td>0</td>\n",
              "      <td>0</td>\n",
              "      <td>315154</td>\n",
              "      <td>8.6625</td>\n",
              "      <td>NaN</td>\n",
              "      <td>S</td>\n",
              "    </tr>\n",
              "    <tr>\n",
              "      <th>4</th>\n",
              "      <td>896</td>\n",
              "      <td>3</td>\n",
              "      <td>Hirvonen, Mrs. Alexander (Helga E Lindqvist)</td>\n",
              "      <td>female</td>\n",
              "      <td>22.0</td>\n",
              "      <td>1</td>\n",
              "      <td>1</td>\n",
              "      <td>3101298</td>\n",
              "      <td>12.2875</td>\n",
              "      <td>NaN</td>\n",
              "      <td>S</td>\n",
              "    </tr>\n",
              "  </tbody>\n",
              "</table>\n",
              "</div>"
            ],
            "text/plain": [
              "   PassengerId  Pclass  ... Cabin Embarked\n",
              "0          892       3  ...   NaN        Q\n",
              "1          893       3  ...   NaN        S\n",
              "2          894       2  ...   NaN        Q\n",
              "3          895       3  ...   NaN        S\n",
              "4          896       3  ...   NaN        S\n",
              "\n",
              "[5 rows x 11 columns]"
            ]
          },
          "metadata": {
            "tags": []
          },
          "execution_count": 6
        }
      ]
    },
    {
      "cell_type": "code",
      "metadata": {
        "trusted": true,
        "colab": {
          "base_uri": "https://localhost:8080/",
          "height": 204
        },
        "id": "B1AliaNA8U-f",
        "outputId": "e5604001-cc78-40c6-8c59-6e4efdd9f68e"
      },
      "source": [
        "gender_submission.head()"
      ],
      "execution_count": 7,
      "outputs": [
        {
          "output_type": "execute_result",
          "data": {
            "text/html": [
              "<div>\n",
              "<style scoped>\n",
              "    .dataframe tbody tr th:only-of-type {\n",
              "        vertical-align: middle;\n",
              "    }\n",
              "\n",
              "    .dataframe tbody tr th {\n",
              "        vertical-align: top;\n",
              "    }\n",
              "\n",
              "    .dataframe thead th {\n",
              "        text-align: right;\n",
              "    }\n",
              "</style>\n",
              "<table border=\"1\" class=\"dataframe\">\n",
              "  <thead>\n",
              "    <tr style=\"text-align: right;\">\n",
              "      <th></th>\n",
              "      <th>PassengerId</th>\n",
              "      <th>Survived</th>\n",
              "    </tr>\n",
              "  </thead>\n",
              "  <tbody>\n",
              "    <tr>\n",
              "      <th>0</th>\n",
              "      <td>892</td>\n",
              "      <td>0</td>\n",
              "    </tr>\n",
              "    <tr>\n",
              "      <th>1</th>\n",
              "      <td>893</td>\n",
              "      <td>1</td>\n",
              "    </tr>\n",
              "    <tr>\n",
              "      <th>2</th>\n",
              "      <td>894</td>\n",
              "      <td>0</td>\n",
              "    </tr>\n",
              "    <tr>\n",
              "      <th>3</th>\n",
              "      <td>895</td>\n",
              "      <td>0</td>\n",
              "    </tr>\n",
              "    <tr>\n",
              "      <th>4</th>\n",
              "      <td>896</td>\n",
              "      <td>1</td>\n",
              "    </tr>\n",
              "  </tbody>\n",
              "</table>\n",
              "</div>"
            ],
            "text/plain": [
              "   PassengerId  Survived\n",
              "0          892         0\n",
              "1          893         1\n",
              "2          894         0\n",
              "3          895         0\n",
              "4          896         1"
            ]
          },
          "metadata": {
            "tags": []
          },
          "execution_count": 7
        }
      ]
    },
    {
      "cell_type": "markdown",
      "metadata": {
        "id": "TAAp7F3x8U-g"
      },
      "source": [
        "<a id='data_combine'></a>\n",
        "### (2) Data Combine\n",
        "- Let's combine train with test as all_df"
      ]
    },
    {
      "cell_type": "code",
      "metadata": {
        "trusted": true,
        "colab": {
          "base_uri": "https://localhost:8080/"
        },
        "id": "gPVttQyl8U-g",
        "outputId": "4bad069f-f08c-4abe-a07a-5070a1c3b693"
      },
      "source": [
        "all_df = pd.concat([train, test])\n",
        "all_df.shape"
      ],
      "execution_count": 9,
      "outputs": [
        {
          "output_type": "execute_result",
          "data": {
            "text/plain": [
              "(1309, 12)"
            ]
          },
          "metadata": {
            "tags": []
          },
          "execution_count": 9
        }
      ]
    },
    {
      "cell_type": "markdown",
      "metadata": {
        "id": "ericxxmT8U-g"
      },
      "source": [
        "<a id='handling_missing_values'></a>\n",
        "### (3) Handling Missing Values\n",
        "- Let's fill with some value in each column.\n",
        "> *Important Note:* This idea is from [TPS Apr 2021 LightGBM CV](https://www.kaggle.com/jmargni/tps-apr-2021-lightgbm-cv). Thank you. \n"
      ]
    },
    {
      "cell_type": "code",
      "metadata": {
        "trusted": true,
        "colab": {
          "base_uri": "https://localhost:8080/"
        },
        "id": "ptWQBJk58U-g",
        "outputId": "c999b53a-7692-4d14-f2f3-10f36bf533ca"
      },
      "source": [
        "# Start\n",
        "print(\"Before Handling:\", all_df.shape)\n",
        "\n",
        "# Age\n",
        "age_dict = all_df[['Age', 'Pclass']].dropna().groupby('Pclass').mean().round(0).to_dict()\n",
        "print(\"Avg. Mean of Age by Pclass:\", age_dict)\n",
        "all_df['Age'] = all_df['Age'].fillna(all_df.Pclass.map(age_dict['Age']))\n",
        "\n",
        "# Cabin\n",
        "all_df[\"Cabin\"].fillna(\"No Cabin\", inplace = True)\n",
        "print(\"Values from Cabin: \", all_df[\"Cabin\"].unique())\n",
        "all_df['Cabin_Code'] = all_df['Cabin'].fillna('X').map(lambda x: x[0].strip())\n",
        "print(\"Values from Cabin Code: \", all_df[\"Cabin_Code\"].unique())\n",
        "\n",
        "# Fare\n",
        "print(\"Avg. Mean:\", np.round(all_df['Fare'].mean(), 2))\n",
        "all_df['Fare'] = all_df['Fare'].fillna(round(all_df['Fare'].mean(), 2))\n",
        "\n",
        "# Embarked\n",
        "all_df[\"Embarked\"].fillna(\"X\", inplace = True)\n",
        "print(\"Values from Embarked: \", all_df[\"Embarked\"].unique())\n",
        "\n",
        "# Delete Columns\n",
        "all_df.drop(['Ticket', 'Cabin', 'Name', 'PassengerId'], axis=1, inplace=True)\n",
        "print(\"After Handling:\", all_df.shape)"
      ],
      "execution_count": 10,
      "outputs": [
        {
          "output_type": "stream",
          "text": [
            "Before Handling: (1309, 12)\n",
            "Avg. Mean of Age by Pclass: {'Age': {1: 39.0, 2: 30.0, 3: 25.0}}\n",
            "Values from Cabin:  ['No Cabin' 'C85' 'C123' 'E46' 'G6' 'C103' 'D56' 'A6' 'C23 C25 C27' 'B78'\n",
            " 'D33' 'B30' 'C52' 'B28' 'C83' 'F33' 'F G73' 'E31' 'A5' 'D10 D12' 'D26'\n",
            " 'C110' 'B58 B60' 'E101' 'F E69' 'D47' 'B86' 'F2' 'C2' 'E33' 'B19' 'A7'\n",
            " 'C49' 'F4' 'A32' 'B4' 'B80' 'A31' 'D36' 'D15' 'C93' 'C78' 'D35' 'C87'\n",
            " 'B77' 'E67' 'B94' 'C125' 'C99' 'C118' 'D7' 'A19' 'B49' 'D' 'C22 C26'\n",
            " 'C106' 'C65' 'E36' 'C54' 'B57 B59 B63 B66' 'C7' 'E34' 'C32' 'B18' 'C124'\n",
            " 'C91' 'E40' 'T' 'C128' 'D37' 'B35' 'E50' 'C82' 'B96 B98' 'E10' 'E44'\n",
            " 'A34' 'C104' 'C111' 'C92' 'E38' 'D21' 'E12' 'E63' 'A14' 'B37' 'C30' 'D20'\n",
            " 'B79' 'E25' 'D46' 'B73' 'C95' 'B38' 'B39' 'B22' 'C86' 'C70' 'A16' 'C101'\n",
            " 'C68' 'A10' 'E68' 'B41' 'A20' 'D19' 'D50' 'D9' 'A23' 'B50' 'A26' 'D48'\n",
            " 'E58' 'C126' 'B71' 'B51 B53 B55' 'D49' 'B5' 'B20' 'F G63' 'C62 C64' 'E24'\n",
            " 'C90' 'C45' 'E8' 'B101' 'D45' 'C46' 'D30' 'E121' 'D11' 'E77' 'F38' 'B3'\n",
            " 'D6' 'B82 B84' 'D17' 'A36' 'B102' 'B69' 'E49' 'C47' 'D28' 'E17' 'A24'\n",
            " 'C50' 'B42' 'C148' 'B45' 'B36' 'A21' 'D34' 'A9' 'C31' 'B61' 'C53' 'D43'\n",
            " 'C130' 'C132' 'C55 C57' 'C116' 'F' 'A29' 'C6' 'C28' 'C51' 'C97' 'D22'\n",
            " 'B10' 'E45' 'E52' 'A11' 'B11' 'C80' 'C89' 'F E46' 'B26' 'F E57' 'A18'\n",
            " 'E60' 'E39 E41' 'B52 B54 B56' 'C39' 'B24' 'D40' 'D38' 'C105']\n",
            "Values from Cabin Code:  ['N' 'C' 'E' 'G' 'D' 'A' 'B' 'F' 'T']\n",
            "Avg. Mean: 33.3\n",
            "Values from Embarked:  ['S' 'C' 'Q' 'X']\n",
            "After Handling: (1309, 9)\n"
          ],
          "name": "stdout"
        }
      ]
    },
    {
      "cell_type": "markdown",
      "metadata": {
        "id": "C90MRZvK8U-h"
      },
      "source": [
        "<a id='feature_encoding'></a>\n",
        "### (4) Feature Encoding\n",
        "- Let's check each column's data type"
      ]
    },
    {
      "cell_type": "code",
      "metadata": {
        "trusted": true,
        "colab": {
          "base_uri": "https://localhost:8080/"
        },
        "id": "_Hi1sJmN8U-h",
        "outputId": "7c1c2fb4-667c-4fc6-df34-5661e259cc62"
      },
      "source": [
        "all_df.info()"
      ],
      "execution_count": 11,
      "outputs": [
        {
          "output_type": "stream",
          "text": [
            "<class 'pandas.core.frame.DataFrame'>\n",
            "Int64Index: 1309 entries, 0 to 417\n",
            "Data columns (total 9 columns):\n",
            " #   Column      Non-Null Count  Dtype  \n",
            "---  ------      --------------  -----  \n",
            " 0   Survived    891 non-null    float64\n",
            " 1   Pclass      1309 non-null   int64  \n",
            " 2   Sex         1309 non-null   object \n",
            " 3   Age         1309 non-null   float64\n",
            " 4   SibSp       1309 non-null   int64  \n",
            " 5   Parch       1309 non-null   int64  \n",
            " 6   Fare        1309 non-null   float64\n",
            " 7   Embarked    1309 non-null   object \n",
            " 8   Cabin_Code  1309 non-null   object \n",
            "dtypes: float64(3), int64(3), object(3)\n",
            "memory usage: 102.3+ KB\n"
          ],
          "name": "stdout"
        }
      ]
    },
    {
      "cell_type": "markdown",
      "metadata": {
        "id": "vW2gWUgZ8U-h"
      },
      "source": [
        "- Dataset will be divided into two groups - categorical variables and numerical variables\n"
      ]
    },
    {
      "cell_type": "code",
      "metadata": {
        "trusted": true,
        "colab": {
          "base_uri": "https://localhost:8080/"
        },
        "id": "Q3piOTtc8U-h",
        "outputId": "c2fb3abf-e940-4708-f3b5-74cf1d04d51e"
      },
      "source": [
        "cat_cols = ['Pclass', 'Sex', 'Cabin_Code', 'Embarked']\n",
        "num_cols = ['Age', 'SibSp', 'Parch', 'Fare', 'Survived']\n",
        "\n",
        "onehot_df = pd.get_dummies(all_df[cat_cols])\n",
        "print(\"onehot_df Shape:\", onehot_df.shape)\n",
        "\n",
        "num_df = all_df[num_cols]\n",
        "print(\"num_df Shape:\", num_df.shape)\n",
        "\n",
        "all_cleansed_df = pd.concat([num_df, onehot_df], axis=1)\n",
        "print(\"all_cleansed_df Shape:\", all_df.shape)"
      ],
      "execution_count": 12,
      "outputs": [
        {
          "output_type": "stream",
          "text": [
            "onehot_df Shape: (1309, 16)\n",
            "num_df Shape: (1309, 5)\n",
            "all_cleansed_df Shape: (1309, 9)\n"
          ],
          "name": "stdout"
        }
      ]
    },
    {
      "cell_type": "markdown",
      "metadata": {
        "id": "fPzXfvhI8U-h"
      },
      "source": [
        "> Important note: When conducting feature encoding, Newbies must understand difference between ordinal encoding, label encoding, and one-hot encoding. See. https://machinelearningmastery.com/one-hot-encoding-for-categorical-data/\n"
      ]
    },
    {
      "cell_type": "markdown",
      "metadata": {
        "id": "Uqcvjr0x8U-i"
      },
      "source": [
        "<a id='split_data'></a>\n",
        "### (5) Split Data\n",
        "- Based on Feature Engineering, the final task is to re-split all data into independent variables and dependent variables. \n",
        "\n",
        "\n",
        "\n"
      ]
    },
    {
      "cell_type": "code",
      "metadata": {
        "trusted": true,
        "colab": {
          "base_uri": "https://localhost:8080/"
        },
        "id": "eGytbTr88U-i",
        "outputId": "c6bbac8c-ad2a-46fb-f9f3-582a774a10ad"
      },
      "source": [
        "X = all_cleansed_df[:train.shape[0]]\n",
        "print(\"X Shape is:\", X.shape)\n",
        "y = X['Survived']\n",
        "X.drop(['Survived'], axis=1, inplace=True)\n",
        "test_data = all_cleansed_df[train.shape[0]:].drop(columns=['Survived'])\n",
        "test_data.info()"
      ],
      "execution_count": 13,
      "outputs": [
        {
          "output_type": "stream",
          "text": [
            "X Shape is: (891, 21)\n",
            "<class 'pandas.core.frame.DataFrame'>\n",
            "Int64Index: 418 entries, 0 to 417\n",
            "Data columns (total 20 columns):\n",
            " #   Column        Non-Null Count  Dtype  \n",
            "---  ------        --------------  -----  \n",
            " 0   Age           418 non-null    float64\n",
            " 1   SibSp         418 non-null    int64  \n",
            " 2   Parch         418 non-null    int64  \n",
            " 3   Fare          418 non-null    float64\n",
            " 4   Pclass        418 non-null    int64  \n",
            " 5   Sex_female    418 non-null    uint8  \n",
            " 6   Sex_male      418 non-null    uint8  \n",
            " 7   Cabin_Code_A  418 non-null    uint8  \n",
            " 8   Cabin_Code_B  418 non-null    uint8  \n",
            " 9   Cabin_Code_C  418 non-null    uint8  \n",
            " 10  Cabin_Code_D  418 non-null    uint8  \n",
            " 11  Cabin_Code_E  418 non-null    uint8  \n",
            " 12  Cabin_Code_F  418 non-null    uint8  \n",
            " 13  Cabin_Code_G  418 non-null    uint8  \n",
            " 14  Cabin_Code_N  418 non-null    uint8  \n",
            " 15  Cabin_Code_T  418 non-null    uint8  \n",
            " 16  Embarked_C    418 non-null    uint8  \n",
            " 17  Embarked_Q    418 non-null    uint8  \n",
            " 18  Embarked_S    418 non-null    uint8  \n",
            " 19  Embarked_X    418 non-null    uint8  \n",
            "dtypes: float64(2), int64(3), uint8(15)\n",
            "memory usage: 25.7 KB\n"
          ],
          "name": "stdout"
        },
        {
          "output_type": "stream",
          "text": [
            "/usr/local/lib/python3.7/dist-packages/pandas/core/frame.py:4174: SettingWithCopyWarning: \n",
            "A value is trying to be set on a copy of a slice from a DataFrame\n",
            "\n",
            "See the caveats in the documentation: https://pandas.pydata.org/pandas-docs/stable/user_guide/indexing.html#returning-a-view-versus-a-copy\n",
            "  errors=errors,\n"
          ],
          "name": "stderr"
        }
      ]
    },
    {
      "cell_type": "code",
      "metadata": {
        "trusted": true,
        "colab": {
          "base_uri": "https://localhost:8080/"
        },
        "id": "DdBGzw2N8U-i",
        "outputId": "30f12ffb-d052-4f71-c9cb-4481842da0cd"
      },
      "source": [
        "X.shape, y.shape"
      ],
      "execution_count": 14,
      "outputs": [
        {
          "output_type": "execute_result",
          "data": {
            "text/plain": [
              "((891, 20), (891,))"
            ]
          },
          "metadata": {
            "tags": []
          },
          "execution_count": 14
        }
      ]
    },
    {
      "cell_type": "code",
      "metadata": {
        "trusted": true,
        "colab": {
          "base_uri": "https://localhost:8080/",
          "height": 439
        },
        "id": "C868cQs68U-j",
        "outputId": "4728c26f-16f6-46e3-96c1-9902b0ea2187"
      },
      "source": [
        "test_data"
      ],
      "execution_count": 15,
      "outputs": [
        {
          "output_type": "execute_result",
          "data": {
            "text/html": [
              "<div>\n",
              "<style scoped>\n",
              "    .dataframe tbody tr th:only-of-type {\n",
              "        vertical-align: middle;\n",
              "    }\n",
              "\n",
              "    .dataframe tbody tr th {\n",
              "        vertical-align: top;\n",
              "    }\n",
              "\n",
              "    .dataframe thead th {\n",
              "        text-align: right;\n",
              "    }\n",
              "</style>\n",
              "<table border=\"1\" class=\"dataframe\">\n",
              "  <thead>\n",
              "    <tr style=\"text-align: right;\">\n",
              "      <th></th>\n",
              "      <th>Age</th>\n",
              "      <th>SibSp</th>\n",
              "      <th>Parch</th>\n",
              "      <th>Fare</th>\n",
              "      <th>Pclass</th>\n",
              "      <th>Sex_female</th>\n",
              "      <th>Sex_male</th>\n",
              "      <th>Cabin_Code_A</th>\n",
              "      <th>Cabin_Code_B</th>\n",
              "      <th>Cabin_Code_C</th>\n",
              "      <th>Cabin_Code_D</th>\n",
              "      <th>Cabin_Code_E</th>\n",
              "      <th>Cabin_Code_F</th>\n",
              "      <th>Cabin_Code_G</th>\n",
              "      <th>Cabin_Code_N</th>\n",
              "      <th>Cabin_Code_T</th>\n",
              "      <th>Embarked_C</th>\n",
              "      <th>Embarked_Q</th>\n",
              "      <th>Embarked_S</th>\n",
              "      <th>Embarked_X</th>\n",
              "    </tr>\n",
              "  </thead>\n",
              "  <tbody>\n",
              "    <tr>\n",
              "      <th>0</th>\n",
              "      <td>34.5</td>\n",
              "      <td>0</td>\n",
              "      <td>0</td>\n",
              "      <td>7.8292</td>\n",
              "      <td>3</td>\n",
              "      <td>0</td>\n",
              "      <td>1</td>\n",
              "      <td>0</td>\n",
              "      <td>0</td>\n",
              "      <td>0</td>\n",
              "      <td>0</td>\n",
              "      <td>0</td>\n",
              "      <td>0</td>\n",
              "      <td>0</td>\n",
              "      <td>1</td>\n",
              "      <td>0</td>\n",
              "      <td>0</td>\n",
              "      <td>1</td>\n",
              "      <td>0</td>\n",
              "      <td>0</td>\n",
              "    </tr>\n",
              "    <tr>\n",
              "      <th>1</th>\n",
              "      <td>47.0</td>\n",
              "      <td>1</td>\n",
              "      <td>0</td>\n",
              "      <td>7.0000</td>\n",
              "      <td>3</td>\n",
              "      <td>1</td>\n",
              "      <td>0</td>\n",
              "      <td>0</td>\n",
              "      <td>0</td>\n",
              "      <td>0</td>\n",
              "      <td>0</td>\n",
              "      <td>0</td>\n",
              "      <td>0</td>\n",
              "      <td>0</td>\n",
              "      <td>1</td>\n",
              "      <td>0</td>\n",
              "      <td>0</td>\n",
              "      <td>0</td>\n",
              "      <td>1</td>\n",
              "      <td>0</td>\n",
              "    </tr>\n",
              "    <tr>\n",
              "      <th>2</th>\n",
              "      <td>62.0</td>\n",
              "      <td>0</td>\n",
              "      <td>0</td>\n",
              "      <td>9.6875</td>\n",
              "      <td>2</td>\n",
              "      <td>0</td>\n",
              "      <td>1</td>\n",
              "      <td>0</td>\n",
              "      <td>0</td>\n",
              "      <td>0</td>\n",
              "      <td>0</td>\n",
              "      <td>0</td>\n",
              "      <td>0</td>\n",
              "      <td>0</td>\n",
              "      <td>1</td>\n",
              "      <td>0</td>\n",
              "      <td>0</td>\n",
              "      <td>1</td>\n",
              "      <td>0</td>\n",
              "      <td>0</td>\n",
              "    </tr>\n",
              "    <tr>\n",
              "      <th>3</th>\n",
              "      <td>27.0</td>\n",
              "      <td>0</td>\n",
              "      <td>0</td>\n",
              "      <td>8.6625</td>\n",
              "      <td>3</td>\n",
              "      <td>0</td>\n",
              "      <td>1</td>\n",
              "      <td>0</td>\n",
              "      <td>0</td>\n",
              "      <td>0</td>\n",
              "      <td>0</td>\n",
              "      <td>0</td>\n",
              "      <td>0</td>\n",
              "      <td>0</td>\n",
              "      <td>1</td>\n",
              "      <td>0</td>\n",
              "      <td>0</td>\n",
              "      <td>0</td>\n",
              "      <td>1</td>\n",
              "      <td>0</td>\n",
              "    </tr>\n",
              "    <tr>\n",
              "      <th>4</th>\n",
              "      <td>22.0</td>\n",
              "      <td>1</td>\n",
              "      <td>1</td>\n",
              "      <td>12.2875</td>\n",
              "      <td>3</td>\n",
              "      <td>1</td>\n",
              "      <td>0</td>\n",
              "      <td>0</td>\n",
              "      <td>0</td>\n",
              "      <td>0</td>\n",
              "      <td>0</td>\n",
              "      <td>0</td>\n",
              "      <td>0</td>\n",
              "      <td>0</td>\n",
              "      <td>1</td>\n",
              "      <td>0</td>\n",
              "      <td>0</td>\n",
              "      <td>0</td>\n",
              "      <td>1</td>\n",
              "      <td>0</td>\n",
              "    </tr>\n",
              "    <tr>\n",
              "      <th>...</th>\n",
              "      <td>...</td>\n",
              "      <td>...</td>\n",
              "      <td>...</td>\n",
              "      <td>...</td>\n",
              "      <td>...</td>\n",
              "      <td>...</td>\n",
              "      <td>...</td>\n",
              "      <td>...</td>\n",
              "      <td>...</td>\n",
              "      <td>...</td>\n",
              "      <td>...</td>\n",
              "      <td>...</td>\n",
              "      <td>...</td>\n",
              "      <td>...</td>\n",
              "      <td>...</td>\n",
              "      <td>...</td>\n",
              "      <td>...</td>\n",
              "      <td>...</td>\n",
              "      <td>...</td>\n",
              "      <td>...</td>\n",
              "    </tr>\n",
              "    <tr>\n",
              "      <th>413</th>\n",
              "      <td>25.0</td>\n",
              "      <td>0</td>\n",
              "      <td>0</td>\n",
              "      <td>8.0500</td>\n",
              "      <td>3</td>\n",
              "      <td>0</td>\n",
              "      <td>1</td>\n",
              "      <td>0</td>\n",
              "      <td>0</td>\n",
              "      <td>0</td>\n",
              "      <td>0</td>\n",
              "      <td>0</td>\n",
              "      <td>0</td>\n",
              "      <td>0</td>\n",
              "      <td>1</td>\n",
              "      <td>0</td>\n",
              "      <td>0</td>\n",
              "      <td>0</td>\n",
              "      <td>1</td>\n",
              "      <td>0</td>\n",
              "    </tr>\n",
              "    <tr>\n",
              "      <th>414</th>\n",
              "      <td>39.0</td>\n",
              "      <td>0</td>\n",
              "      <td>0</td>\n",
              "      <td>108.9000</td>\n",
              "      <td>1</td>\n",
              "      <td>1</td>\n",
              "      <td>0</td>\n",
              "      <td>0</td>\n",
              "      <td>0</td>\n",
              "      <td>1</td>\n",
              "      <td>0</td>\n",
              "      <td>0</td>\n",
              "      <td>0</td>\n",
              "      <td>0</td>\n",
              "      <td>0</td>\n",
              "      <td>0</td>\n",
              "      <td>1</td>\n",
              "      <td>0</td>\n",
              "      <td>0</td>\n",
              "      <td>0</td>\n",
              "    </tr>\n",
              "    <tr>\n",
              "      <th>415</th>\n",
              "      <td>38.5</td>\n",
              "      <td>0</td>\n",
              "      <td>0</td>\n",
              "      <td>7.2500</td>\n",
              "      <td>3</td>\n",
              "      <td>0</td>\n",
              "      <td>1</td>\n",
              "      <td>0</td>\n",
              "      <td>0</td>\n",
              "      <td>0</td>\n",
              "      <td>0</td>\n",
              "      <td>0</td>\n",
              "      <td>0</td>\n",
              "      <td>0</td>\n",
              "      <td>1</td>\n",
              "      <td>0</td>\n",
              "      <td>0</td>\n",
              "      <td>0</td>\n",
              "      <td>1</td>\n",
              "      <td>0</td>\n",
              "    </tr>\n",
              "    <tr>\n",
              "      <th>416</th>\n",
              "      <td>25.0</td>\n",
              "      <td>0</td>\n",
              "      <td>0</td>\n",
              "      <td>8.0500</td>\n",
              "      <td>3</td>\n",
              "      <td>0</td>\n",
              "      <td>1</td>\n",
              "      <td>0</td>\n",
              "      <td>0</td>\n",
              "      <td>0</td>\n",
              "      <td>0</td>\n",
              "      <td>0</td>\n",
              "      <td>0</td>\n",
              "      <td>0</td>\n",
              "      <td>1</td>\n",
              "      <td>0</td>\n",
              "      <td>0</td>\n",
              "      <td>0</td>\n",
              "      <td>1</td>\n",
              "      <td>0</td>\n",
              "    </tr>\n",
              "    <tr>\n",
              "      <th>417</th>\n",
              "      <td>25.0</td>\n",
              "      <td>1</td>\n",
              "      <td>1</td>\n",
              "      <td>22.3583</td>\n",
              "      <td>3</td>\n",
              "      <td>0</td>\n",
              "      <td>1</td>\n",
              "      <td>0</td>\n",
              "      <td>0</td>\n",
              "      <td>0</td>\n",
              "      <td>0</td>\n",
              "      <td>0</td>\n",
              "      <td>0</td>\n",
              "      <td>0</td>\n",
              "      <td>1</td>\n",
              "      <td>0</td>\n",
              "      <td>1</td>\n",
              "      <td>0</td>\n",
              "      <td>0</td>\n",
              "      <td>0</td>\n",
              "    </tr>\n",
              "  </tbody>\n",
              "</table>\n",
              "<p>418 rows × 20 columns</p>\n",
              "</div>"
            ],
            "text/plain": [
              "      Age  SibSp  Parch  ...  Embarked_Q  Embarked_S  Embarked_X\n",
              "0    34.5      0      0  ...           1           0           0\n",
              "1    47.0      1      0  ...           0           1           0\n",
              "2    62.0      0      0  ...           1           0           0\n",
              "3    27.0      0      0  ...           0           1           0\n",
              "4    22.0      1      1  ...           0           1           0\n",
              "..    ...    ...    ...  ...         ...         ...         ...\n",
              "413  25.0      0      0  ...           0           1           0\n",
              "414  39.0      0      0  ...           0           0           0\n",
              "415  38.5      0      0  ...           0           1           0\n",
              "416  25.0      0      0  ...           0           1           0\n",
              "417  25.0      1      1  ...           0           0           0\n",
              "\n",
              "[418 rows x 20 columns]"
            ]
          },
          "metadata": {
            "tags": []
          },
          "execution_count": 15
        }
      ]
    },
    {
      "cell_type": "markdown",
      "metadata": {
        "id": "CB4uYcUd8U-j"
      },
      "source": [
        "<a id=\"limitation\"></a>\n",
        "### (6) Limitation\n",
        "- What I missed here is not to create new variable so-called wealthy class and others, yet. My assumption is wealthy people were more survived than other group. This will be compared baseline model with the more upgraded model, reflecting new feature. If some readers get this idea, then please implement it. Hope to see a better model. "
      ]
    },
    {
      "cell_type": "markdown",
      "metadata": {
        "id": "eL4oRGbN8U-j"
      },
      "source": [
        "<a id=\"scikit_learn\"></a>\n",
        "## Scikit Learn\n",
        "- Let's make simple model based on Scikit Learn Framework.\n",
        "- URL: https://scikit-learn.org/stable/\n",
        "\n",
        "![](https://scikit-learn.org/stable/_images/scikit-learn-logo-notext.png)"
      ]
    },
    {
      "cell_type": "markdown",
      "metadata": {
        "id": "PO3VNxBS8U-j"
      },
      "source": [
        "<a id=\"data_split\"></a>\n",
        "### (1) Data Split\n",
        "- We know test data exists as final testset, so we create validation set from sklearn module. \n",
        "- We will use [Stratified Sampling](https://medium.com/@411.codebrain/train-test-split-vs-stratifiedshufflesplit-374c3dbdcc36). "
      ]
    },
    {
      "cell_type": "code",
      "metadata": {
        "trusted": true,
        "colab": {
          "base_uri": "https://localhost:8080/"
        },
        "id": "EPI5ZDFk8U-k",
        "outputId": "1a69f029-ac11-44d2-b995-8f8040dca57f"
      },
      "source": [
        "!pip install scikit-learn==0.23.2"
      ],
      "execution_count": 16,
      "outputs": [
        {
          "output_type": "stream",
          "text": [
            "Collecting scikit-learn==0.23.2\n",
            "\u001b[?25l  Downloading https://files.pythonhosted.org/packages/f4/cb/64623369f348e9bfb29ff898a57ac7c91ed4921f228e9726546614d63ccb/scikit_learn-0.23.2-cp37-cp37m-manylinux1_x86_64.whl (6.8MB)\n",
            "\u001b[K     |████████████████████████████████| 6.8MB 8.2MB/s \n",
            "\u001b[?25hRequirement already satisfied: joblib>=0.11 in /usr/local/lib/python3.7/dist-packages (from scikit-learn==0.23.2) (1.0.1)\n",
            "Requirement already satisfied: scipy>=0.19.1 in /usr/local/lib/python3.7/dist-packages (from scikit-learn==0.23.2) (1.4.1)\n",
            "Requirement already satisfied: numpy>=1.13.3 in /usr/local/lib/python3.7/dist-packages (from scikit-learn==0.23.2) (1.19.5)\n",
            "Collecting threadpoolctl>=2.0.0\n",
            "  Downloading https://files.pythonhosted.org/packages/f7/12/ec3f2e203afa394a149911729357aa48affc59c20e2c1c8297a60f33f133/threadpoolctl-2.1.0-py3-none-any.whl\n",
            "Installing collected packages: threadpoolctl, scikit-learn\n",
            "  Found existing installation: scikit-learn 0.22.2.post1\n",
            "    Uninstalling scikit-learn-0.22.2.post1:\n",
            "      Successfully uninstalled scikit-learn-0.22.2.post1\n",
            "Successfully installed scikit-learn-0.23.2 threadpoolctl-2.1.0\n"
          ],
          "name": "stdout"
        }
      ]
    },
    {
      "cell_type": "code",
      "metadata": {
        "trusted": true,
        "colab": {
          "base_uri": "https://localhost:8080/"
        },
        "id": "ldWB7nU-8U-k",
        "outputId": "bb0c8845-70c5-4ba4-84dd-1a225c2fa3f5"
      },
      "source": [
        "import sklearn\n",
        "print(sklearn.__version__)"
      ],
      "execution_count": 17,
      "outputs": [
        {
          "output_type": "stream",
          "text": [
            "0.23.2\n"
          ],
          "name": "stdout"
        }
      ]
    },
    {
      "cell_type": "code",
      "metadata": {
        "trusted": true,
        "colab": {
          "base_uri": "https://localhost:8080/"
        },
        "id": "4iQB0MQE8U-k",
        "outputId": "77dbb20a-170e-45aa-c3af-563830721140"
      },
      "source": [
        "from sklearn.model_selection import train_test_split\n",
        "\n",
        "X_train, X_val, y_train, y_val = train_test_split(X, y, test_size = 0.3, stratify = X[['Pclass']], random_state=42)\n",
        "X_train.shape, X_val.shape, y_train.shape, y_val.shape"
      ],
      "execution_count": 18,
      "outputs": [
        {
          "output_type": "execute_result",
          "data": {
            "text/plain": [
              "((623, 20), (268, 20), (623,), (268,))"
            ]
          },
          "metadata": {
            "tags": []
          },
          "execution_count": 18
        }
      ]
    },
    {
      "cell_type": "markdown",
      "metadata": {
        "id": "-S-eqCAq8U-k"
      },
      "source": [
        "<a id=\"base_model_tree\"></a>\n",
        "### (2) Base Model - Decision Tree\n",
        "- Let's create Base Model\n",
        "- Model Evaluation is [Accuracy](https://www.kaggle.com/c/tabular-playground-series-apr-2021/overview/evaluation)\n",
        "    + If you want to know more, please see https://en.wikipedia.org/wiki/Accuracy_and_precision#In_binary_classification"
      ]
    },
    {
      "cell_type": "code",
      "metadata": {
        "trusted": true,
        "id": "-I8_oLPf8U-l"
      },
      "source": [
        "from sklearn.metrics import accuracy_score\n",
        "def acc_score(y_true, y_pred, **kwargs):\n",
        "    return accuracy_score(y_true, (y_pred > 0.5).astype(int), **kwargs)"
      ],
      "execution_count": 19,
      "outputs": []
    },
    {
      "cell_type": "markdown",
      "metadata": {
        "id": "kpaqJFyG8U-l"
      },
      "source": [
        "- Let's evaluate of base model using validation set\n",
        "- AUC & Accurarcy are measured at this moment. "
      ]
    },
    {
      "cell_type": "code",
      "metadata": {
        "trusted": true,
        "colab": {
          "base_uri": "https://localhost:8080/",
          "height": 476
        },
        "id": "KKKRwkqc8U-l",
        "outputId": "831d9b07-b771-44ed-bbaa-1c5677169000"
      },
      "source": [
        "from sklearn import tree\n",
        "from sklearn.tree import DecisionTreeClassifier\n",
        "from sklearn.metrics import roc_curve, roc_auc_score\n",
        "from matplotlib import pyplot as plt\n",
        "\n",
        "tree_model = DecisionTreeClassifier(max_depth=3)\n",
        "tree_model.fit(X_train, y_train)\n",
        "predictions = tree_model.predict_proba(X_val)\n",
        "AUC = roc_auc_score(y_val, predictions[:,1])\n",
        "ACC = acc_score(y_val, predictions[:,1])\n",
        "print(\"Model AUC:\", AUC)\n",
        "print(\"Model Accurarcy:\", ACC)\n",
        "print(\"\\n\")\n",
        "\n",
        "fpr, tpr, _ = roc_curve(y_val, predictions[:,1])\n",
        "\n",
        "fig, ax = plt.subplots(figsize=(10, 6))\n",
        "\n",
        "ax.plot(fpr, tpr)\n",
        "ax.text(x = 0.3, \n",
        "        y = 0.4, \n",
        "        s = \"Model AUC is {}\\n\\nModel Accuracy is {}\".format(np.round(AUC, 2), np.round(ACC, 2)), \n",
        "        fontsize=16, bbox=dict(facecolor='gray', alpha=0.3))\n",
        "ax.set_xlabel('FPR')\n",
        "ax.set_ylabel('TPR')\n",
        "ax.set_title('ROC curve')\n",
        "\n",
        "plt.show()"
      ],
      "execution_count": 22,
      "outputs": [
        {
          "output_type": "stream",
          "text": [
            "Model AUC: 0.8694668623135241\n",
            "Model Accurarcy: 0.8134328358208955\n",
            "\n",
            "\n"
          ],
          "name": "stdout"
        },
        {
          "output_type": "display_data",
          "data": {
            "image/png": "[encoded data removed]",
            "text/plain": [
              "<Figure size 720x432 with 1 Axes>"
            ]
          },
          "metadata": {
            "tags": [],
            "needs_background": "light"
          }
        }
      ]
    },
    {
      "cell_type": "markdown",
      "metadata": {
        "id": "HLo5_bjd8U-l"
      },
      "source": [
        "- Good, great. \n",
        "- Now, we finally submit file to competition. \n",
        "- `.5` Threshold could be different, depending upon your assumption. \n",
        "    + If you are not familar with the concept Threshold, then please read this article. https://developers.google.com/machine-learning/crash-course/classification/thresholding"
      ]
    },
    {
      "cell_type": "code",
      "metadata": {
        "trusted": true,
        "id": "9PaJZ0M-8U-l"
      },
      "source": [
        "final_preds = tree_model.predict(test_data)\n",
        "binarizer = np.vectorize(lambda x: 1 if x >= .5 else 0)\n",
        "prediction_binarized = binarizer(final_preds)\n",
        "submission = pd.concat([gender_submission,pd.DataFrame(prediction_binarized)], axis=1).drop(columns=['Survived'])\n",
        "submission.columns = ['PassengerId', 'Survived']\n",
        "submission.to_csv('tree_base_submission.csv', index=False)"
      ],
      "execution_count": 24,
      "outputs": []
    },
    {
      "cell_type": "markdown",
      "metadata": {
        "id": "7t-8bU4T8U-m"
      },
      "source": [
        "<a id=\"helper_class\"></a>\n",
        "### (3) Create Helper Class and Submission Function\n",
        "- we need to create helper class with common tasks such as model, train, predict, fit, feature_importance, and even ROC Curve Graph\n",
        "- \n"
      ]
    },
    {
      "cell_type": "code",
      "metadata": {
        "trusted": true,
        "id": "rRYPj9G08U-m"
      },
      "source": [
        "from sklearn import tree\n",
        "from sklearn.tree import DecisionTreeClassifier\n",
        "from sklearn.metrics import roc_curve, roc_auc_score, accuracy_score, confusion_matrix\n",
        "from matplotlib import pyplot as plt\n",
        "\n",
        "SEED = 0 # for Reproducibility\n",
        "\n",
        "# class \n",
        "class sk_helper(object):\n",
        "    def __init__(self, model, seed = 0, params={}):\n",
        "        params['random_state'] = seed\n",
        "        self.model = model(**params)\n",
        "        self.model_name = str(model).split(\".\")[-1][:-2]\n",
        "        \n",
        "    # train\n",
        "    def train(self, X_train, y_train):\n",
        "        self.model.fit(X_train, y_train)\n",
        "        \n",
        "    # predict\n",
        "    def predict(self, y_val):\n",
        "        return self.model.predict(y_val)\n",
        "    \n",
        "    # inner fit\n",
        "    def fit(self, x, y):\n",
        "        return self.model.fit(x, y)\n",
        "    \n",
        "    # feature importance\n",
        "    def feature_importances(self, X_train, y_train):\n",
        "        return self.model.fit(X_train, y_train).feature_importances_\n",
        "        \n",
        "    # roc_curve\n",
        "    def roc_curve_graph(self, X_train, y_train, X_val, y_val):\n",
        "        self.model.fit(X_train, y_train)\n",
        "        \n",
        "        print(\"model_name:\", self.model_name)\n",
        "        model_name = self.model_name\n",
        "        preds_proba = self.model.predict_proba(X_val)\n",
        "        preds = (preds_proba[:, 1] > 0.5).astype(int)\n",
        "        auc = roc_auc_score(y_val, preds_proba[:, 1])\n",
        "        acc = accuracy_score(y_val, preds)\n",
        "        confusion = confusion_matrix(y_val, preds)\n",
        "        print('Confusion Matrix')\n",
        "        print(confusion)\n",
        "        print(\"Model AUC: {0:.3f}, Model Accuracy: {1:.3f}\\n\".format(auc, acc))\n",
        "        fpr, tpr, _ = roc_curve(y_val, predictions[:,1])\n",
        "        fig, ax = plt.subplots(figsize=(10, 6))\n",
        "\n",
        "        ax.plot(fpr, tpr)\n",
        "        ax.text(x = 0.3, \n",
        "                y = 0.4, \n",
        "                s = \"Model AUC is {}\\n\\nModel Accuracy is {}\".format(np.round(auc, 2), np.round(acc, 2)), \n",
        "                fontsize=16, bbox=dict(facecolor='gray', alpha=0.3))\n",
        "        ax.set_xlabel('FPR')\n",
        "        ax.set_ylabel('TPR')\n",
        "        ax.set_title('ROC curve of {}'.format(model_name), fontsize=16)\n",
        "\n",
        "        plt.show()"
      ],
      "execution_count": 25,
      "outputs": []
    },
    {
      "cell_type": "markdown",
      "metadata": {
        "id": "Pe5WU5In8U-m"
      },
      "source": [
        "- Now, Let's test if this works or not"
      ]
    },
    {
      "cell_type": "markdown",
      "metadata": {
        "id": "X0tgmRmA8U-m"
      },
      "source": [
        "<a id=\"DecisionTreeClassifier\"></a>\n",
        "#### (A) DecisionTreeClassifier\n",
        "- This is DecisionTreeClassifier Model from [sklearn.tree.DecisionTreeClassifier](https://scikit-learn.org/stable/modules/generated/sklearn.tree.DecisionTreeClassifier.html). "
      ]
    },
    {
      "cell_type": "code",
      "metadata": {
        "trusted": true,
        "colab": {
          "base_uri": "https://localhost:8080/",
          "height": 550
        },
        "id": "cfEDfX828U-m",
        "outputId": "3f6aceb7-f8bf-437e-f298-a1b0c89086e4"
      },
      "source": [
        "%%time\n",
        "tree_params = {'max_depth': 6}\n",
        "\n",
        "tree_model = sk_helper(model=DecisionTreeClassifier, seed=SEED, params=tree_params)\n",
        "tree_model.roc_curve_graph(X_train, y_train, X_val, y_val)"
      ],
      "execution_count": 26,
      "outputs": [
        {
          "output_type": "stream",
          "text": [
            "model_name: DecisionTreeClassifier\n",
            "Confusion Matrix\n",
            "[[146  28]\n",
            " [ 30  64]]\n",
            "Model AUC: 0.790, Model Accuracy: 0.784\n",
            "\n"
          ],
          "name": "stdout"
        },
        {
          "output_type": "display_data",
          "data": {
            "image/png": "[encoded data removed]",
            "text/plain": [
              "<Figure size 720x432 with 1 Axes>"
            ]
          },
          "metadata": {
            "tags": [],
            "needs_background": "light"
          }
        },
        {
          "output_type": "stream",
          "text": [
            "CPU times: user 174 ms, sys: 4.51 ms, total: 178 ms\n",
            "Wall time: 179 ms\n"
          ],
          "name": "stdout"
        }
      ]
    },
    {
      "cell_type": "markdown",
      "metadata": {
        "id": "DgHZLAuC8U-n"
      },
      "source": [
        "<a id=\"RandomForestClassifier\"></a>\n",
        "#### (B) RandomForestClassifier\n",
        "- This is RandomForestClassifier Model from [sklearn.tree.DecisionTreeClassifier](https://scikit-learn.org/stable/modules/generated/sklearn.ensemble.RandomForestClassifier.html). "
      ]
    },
    {
      "cell_type": "code",
      "metadata": {
        "trusted": true,
        "colab": {
          "base_uri": "https://localhost:8080/",
          "height": 730
        },
        "id": "tDbhMWiv8U-n",
        "outputId": "09f1a59d-c5f1-491e-dd0a-d84607e7bf76"
      },
      "source": [
        "%%time\n",
        "from sklearn.ensemble import RandomForestClassifier\n",
        "\n",
        "rf_params = {\n",
        "    'n_jobs': -1,\n",
        "    'n_estimators': 500,\n",
        "     'warm_start': True, \n",
        "     #'max_features': 0.2,\n",
        "    'max_depth': 6,\n",
        "    'min_samples_leaf': 2,\n",
        "    'max_features' : 'sqrt',\n",
        "    'verbose': 1\n",
        "}\n",
        "\n",
        "rf_model = sk_helper(model=RandomForestClassifier, seed=SEED, params=rf_params)\n",
        "rf_model.roc_curve_graph(X_train, y_train, X_val, y_val)"
      ],
      "execution_count": 27,
      "outputs": [
        {
          "output_type": "stream",
          "text": [
            "[Parallel(n_jobs=-1)]: Using backend ThreadingBackend with 2 concurrent workers.\n",
            "[Parallel(n_jobs=-1)]: Done  46 tasks      | elapsed:    0.1s\n",
            "[Parallel(n_jobs=-1)]: Done 196 tasks      | elapsed:    0.3s\n",
            "[Parallel(n_jobs=-1)]: Done 446 tasks      | elapsed:    0.7s\n",
            "[Parallel(n_jobs=-1)]: Done 500 out of 500 | elapsed:    0.8s finished\n",
            "[Parallel(n_jobs=2)]: Using backend ThreadingBackend with 2 concurrent workers.\n",
            "[Parallel(n_jobs=2)]: Done  46 tasks      | elapsed:    0.0s\n"
          ],
          "name": "stderr"
        },
        {
          "output_type": "stream",
          "text": [
            "model_name: RandomForestClassifier\n"
          ],
          "name": "stdout"
        },
        {
          "output_type": "stream",
          "text": [
            "[Parallel(n_jobs=2)]: Done 196 tasks      | elapsed:    0.1s\n",
            "[Parallel(n_jobs=2)]: Done 446 tasks      | elapsed:    0.1s\n",
            "[Parallel(n_jobs=2)]: Done 500 out of 500 | elapsed:    0.2s finished\n"
          ],
          "name": "stderr"
        },
        {
          "output_type": "stream",
          "text": [
            "Confusion Matrix\n",
            "[[146  28]\n",
            " [ 25  69]]\n",
            "Model AUC: 0.870, Model Accuracy: 0.802\n",
            "\n"
          ],
          "name": "stdout"
        },
        {
          "output_type": "display_data",
          "data": {
            "image/png": "[encoded data removed]",
            "text/plain": [
              "<Figure size 720x432 with 1 Axes>"
            ]
          },
          "metadata": {
            "tags": [],
            "needs_background": "light"
          }
        },
        {
          "output_type": "stream",
          "text": [
            "CPU times: user 1.43 s, sys: 216 ms, total: 1.64 s\n",
            "Wall time: 1.53 s\n"
          ],
          "name": "stdout"
        }
      ]
    },
    {
      "cell_type": "markdown",
      "metadata": {
        "id": "vUwRqSQi8U-n"
      },
      "source": [
        "<a id=\"lightgbm\"></a>\n",
        "#### (C) LightGBM\n",
        "- Let's implement LightGBM with best parameters. You can found it here: https://www.kaggle.com/jmargni/tps-apr-2021-lightgbm-optuna"
      ]
    },
    {
      "cell_type": "code",
      "metadata": {
        "trusted": true,
        "colab": {
          "base_uri": "https://localhost:8080/",
          "height": 568
        },
        "id": "uywbm7pg8U-o",
        "outputId": "106b2de6-c778-44ad-a399-98a9eaf6f2f5"
      },
      "source": [
        "%%time\n",
        "\n",
        "import lightgbm\n",
        "from lightgbm import LGBMClassifier\n",
        "print(lightgbm.__version__)\n",
        "lgb_params = {\n",
        "    'metric': 'auc',\n",
        "    'n_estimators': 10000,\n",
        "    'objective': 'binary',\n",
        "}\n",
        "\n",
        "lgb_model = sk_helper(model=LGBMClassifier, seed=SEED, params=lgb_params)\n",
        "lgb_model.roc_curve_graph(X_train, y_train, X_val, y_val)"
      ],
      "execution_count": 28,
      "outputs": [
        {
          "output_type": "stream",
          "text": [
            "2.2.3\n",
            "model_name: LGBMClassifier\n",
            "Confusion Matrix\n",
            "[[136  38]\n",
            " [ 26  68]]\n",
            "Model AUC: 0.808, Model Accuracy: 0.761\n",
            "\n"
          ],
          "name": "stdout"
        },
        {
          "output_type": "display_data",
          "data": {
            "image/png": "[encoded data removed]",
            "text/plain": [
              "<Figure size 720x432 with 1 Axes>"
            ]
          },
          "metadata": {
            "tags": [],
            "needs_background": "light"
          }
        },
        {
          "output_type": "stream",
          "text": [
            "CPU times: user 6.47 s, sys: 557 ms, total: 7.02 s\n",
            "Wall time: 3.82 s\n"
          ],
          "name": "stdout"
        }
      ]
    },
    {
      "cell_type": "markdown",
      "metadata": {
        "id": "obcSkOp58U-o"
      },
      "source": [
        "<a id=\"feature_importance\"></a>\n",
        "#### (D) Feature Importance \n",
        "- Let's draw graph feature importance plot"
      ]
    },
    {
      "cell_type": "code",
      "metadata": {
        "trusted": true,
        "colab": {
          "base_uri": "https://localhost:8080/"
        },
        "id": "acjU7GZf8U-o",
        "outputId": "a8c08631-76bf-4c0f-c797-4dfe3fc88c0e"
      },
      "source": [
        "tree_features = tree_model.feature_importances(X_train, y_train)\n",
        "rf_features = rf_model.feature_importances(X_train, y_train)\n",
        "lgb_features = lgb_model.feature_importances(X_train, y_train)"
      ],
      "execution_count": 29,
      "outputs": [
        {
          "output_type": "stream",
          "text": [
            "/usr/local/lib/python3.7/dist-packages/sklearn/ensemble/_forest.py:368: UserWarning: Warm-start fitting without increasing n_estimators does not fit new trees.\n",
            "  warn(\"Warm-start fitting without increasing n_estimators does not \"\n"
          ],
          "name": "stderr"
        }
      ]
    },
    {
      "cell_type": "code",
      "metadata": {
        "trusted": true,
        "colab": {
          "base_uri": "https://localhost:8080/",
          "height": 669
        },
        "id": "pv9uXwkv8U-p",
        "outputId": "2f859673-f0ea-4aab-f786-2be4612fdcc3"
      },
      "source": [
        "cols = X.columns.values\n",
        "feature_df = pd.DataFrame({'features': cols, \n",
        "                          'Decision Tree': tree_features, \n",
        "                          'RandomForest': rf_features, \n",
        "                          'LightGBM': lgb_features})\n",
        "\n",
        "feature_df"
      ],
      "execution_count": 30,
      "outputs": [
        {
          "output_type": "execute_result",
          "data": {
            "text/html": [
              "<div>\n",
              "<style scoped>\n",
              "    .dataframe tbody tr th:only-of-type {\n",
              "        vertical-align: middle;\n",
              "    }\n",
              "\n",
              "    .dataframe tbody tr th {\n",
              "        vertical-align: top;\n",
              "    }\n",
              "\n",
              "    .dataframe thead th {\n",
              "        text-align: right;\n",
              "    }\n",
              "</style>\n",
              "<table border=\"1\" class=\"dataframe\">\n",
              "  <thead>\n",
              "    <tr style=\"text-align: right;\">\n",
              "      <th></th>\n",
              "      <th>features</th>\n",
              "      <th>Decision Tree</th>\n",
              "      <th>RandomForest</th>\n",
              "      <th>LightGBM</th>\n",
              "    </tr>\n",
              "  </thead>\n",
              "  <tbody>\n",
              "    <tr>\n",
              "      <th>0</th>\n",
              "      <td>Age</td>\n",
              "      <td>0.131732</td>\n",
              "      <td>0.098029</td>\n",
              "      <td>53954</td>\n",
              "    </tr>\n",
              "    <tr>\n",
              "      <th>1</th>\n",
              "      <td>SibSp</td>\n",
              "      <td>0.056648</td>\n",
              "      <td>0.041422</td>\n",
              "      <td>3981</td>\n",
              "    </tr>\n",
              "    <tr>\n",
              "      <th>2</th>\n",
              "      <td>Parch</td>\n",
              "      <td>0.012762</td>\n",
              "      <td>0.034683</td>\n",
              "      <td>6486</td>\n",
              "    </tr>\n",
              "    <tr>\n",
              "      <th>3</th>\n",
              "      <td>Fare</td>\n",
              "      <td>0.126136</td>\n",
              "      <td>0.112136</td>\n",
              "      <td>66988</td>\n",
              "    </tr>\n",
              "    <tr>\n",
              "      <th>4</th>\n",
              "      <td>Pclass</td>\n",
              "      <td>0.098942</td>\n",
              "      <td>0.079791</td>\n",
              "      <td>4768</td>\n",
              "    </tr>\n",
              "    <tr>\n",
              "      <th>5</th>\n",
              "      <td>Sex_female</td>\n",
              "      <td>0.510503</td>\n",
              "      <td>0.238834</td>\n",
              "      <td>3745</td>\n",
              "    </tr>\n",
              "    <tr>\n",
              "      <th>6</th>\n",
              "      <td>Sex_male</td>\n",
              "      <td>0.000000</td>\n",
              "      <td>0.253036</td>\n",
              "      <td>3633</td>\n",
              "    </tr>\n",
              "    <tr>\n",
              "      <th>7</th>\n",
              "      <td>Cabin_Code_A</td>\n",
              "      <td>0.000000</td>\n",
              "      <td>0.003109</td>\n",
              "      <td>0</td>\n",
              "    </tr>\n",
              "    <tr>\n",
              "      <th>8</th>\n",
              "      <td>Cabin_Code_B</td>\n",
              "      <td>0.000000</td>\n",
              "      <td>0.005421</td>\n",
              "      <td>422</td>\n",
              "    </tr>\n",
              "    <tr>\n",
              "      <th>9</th>\n",
              "      <td>Cabin_Code_C</td>\n",
              "      <td>0.000000</td>\n",
              "      <td>0.005402</td>\n",
              "      <td>470</td>\n",
              "    </tr>\n",
              "    <tr>\n",
              "      <th>10</th>\n",
              "      <td>Cabin_Code_D</td>\n",
              "      <td>0.000000</td>\n",
              "      <td>0.009340</td>\n",
              "      <td>59</td>\n",
              "    </tr>\n",
              "    <tr>\n",
              "      <th>11</th>\n",
              "      <td>Cabin_Code_E</td>\n",
              "      <td>0.016721</td>\n",
              "      <td>0.020592</td>\n",
              "      <td>457</td>\n",
              "    </tr>\n",
              "    <tr>\n",
              "      <th>12</th>\n",
              "      <td>Cabin_Code_F</td>\n",
              "      <td>0.000000</td>\n",
              "      <td>0.001489</td>\n",
              "      <td>0</td>\n",
              "    </tr>\n",
              "    <tr>\n",
              "      <th>13</th>\n",
              "      <td>Cabin_Code_G</td>\n",
              "      <td>0.000000</td>\n",
              "      <td>0.000000</td>\n",
              "      <td>0</td>\n",
              "    </tr>\n",
              "    <tr>\n",
              "      <th>14</th>\n",
              "      <td>Cabin_Code_N</td>\n",
              "      <td>0.041545</td>\n",
              "      <td>0.061011</td>\n",
              "      <td>3944</td>\n",
              "    </tr>\n",
              "    <tr>\n",
              "      <th>15</th>\n",
              "      <td>Cabin_Code_T</td>\n",
              "      <td>0.000000</td>\n",
              "      <td>0.000000</td>\n",
              "      <td>0</td>\n",
              "    </tr>\n",
              "    <tr>\n",
              "      <th>16</th>\n",
              "      <td>Embarked_C</td>\n",
              "      <td>0.005010</td>\n",
              "      <td>0.014700</td>\n",
              "      <td>2071</td>\n",
              "    </tr>\n",
              "    <tr>\n",
              "      <th>17</th>\n",
              "      <td>Embarked_Q</td>\n",
              "      <td>0.000000</td>\n",
              "      <td>0.006270</td>\n",
              "      <td>1514</td>\n",
              "    </tr>\n",
              "    <tr>\n",
              "      <th>18</th>\n",
              "      <td>Embarked_S</td>\n",
              "      <td>0.000000</td>\n",
              "      <td>0.014735</td>\n",
              "      <td>4398</td>\n",
              "    </tr>\n",
              "    <tr>\n",
              "      <th>19</th>\n",
              "      <td>Embarked_X</td>\n",
              "      <td>0.000000</td>\n",
              "      <td>0.000000</td>\n",
              "      <td>0</td>\n",
              "    </tr>\n",
              "  </tbody>\n",
              "</table>\n",
              "</div>"
            ],
            "text/plain": [
              "        features  Decision Tree  RandomForest  LightGBM\n",
              "0            Age       0.131732      0.098029     53954\n",
              "1          SibSp       0.056648      0.041422      3981\n",
              "2          Parch       0.012762      0.034683      6486\n",
              "3           Fare       0.126136      0.112136     66988\n",
              "4         Pclass       0.098942      0.079791      4768\n",
              "5     Sex_female       0.510503      0.238834      3745\n",
              "6       Sex_male       0.000000      0.253036      3633\n",
              "7   Cabin_Code_A       0.000000      0.003109         0\n",
              "8   Cabin_Code_B       0.000000      0.005421       422\n",
              "9   Cabin_Code_C       0.000000      0.005402       470\n",
              "10  Cabin_Code_D       0.000000      0.009340        59\n",
              "11  Cabin_Code_E       0.016721      0.020592       457\n",
              "12  Cabin_Code_F       0.000000      0.001489         0\n",
              "13  Cabin_Code_G       0.000000      0.000000         0\n",
              "14  Cabin_Code_N       0.041545      0.061011      3944\n",
              "15  Cabin_Code_T       0.000000      0.000000         0\n",
              "16    Embarked_C       0.005010      0.014700      2071\n",
              "17    Embarked_Q       0.000000      0.006270      1514\n",
              "18    Embarked_S       0.000000      0.014735      4398\n",
              "19    Embarked_X       0.000000      0.000000         0"
            ]
          },
          "metadata": {
            "tags": []
          },
          "execution_count": 30
        }
      ]
    },
    {
      "cell_type": "code",
      "metadata": {
        "trusted": true,
        "colab": {
          "base_uri": "https://localhost:8080/",
          "height": 1000
        },
        "id": "GtDIHF_J8U-p",
        "outputId": "78dda8e3-ef1d-4bab-d842-c3399970a57b"
      },
      "source": [
        "%matplotlib inline\n",
        "\n",
        "import seaborn as sb\n",
        "import matplotlib.pyplot as plt\n",
        "\n",
        "width = 0.3\n",
        "x = np.arange(0, len(feature_df.index))\n",
        "\n",
        "## ax[0] graph\n",
        "fig, ax = plt.subplots(nrows = 2, ncols = 1, figsize = (16, 16)) # Option sharex=True\n",
        "ax[0].bar(x - width/2, feature_df['Decision Tree'], color = \"#0095FF\", width = width)\n",
        "ax[0].bar(x + width/2, feature_df['RandomForest'], color = \"#E6C0B1\", width = width)\n",
        "ax[0].set_xticks(x)\n",
        "ax[0].set_xticklabels(feature_df['features'], rotation=90)\n",
        "\n",
        "## ax[0] legend\n",
        "colors = {'Decision Tree':'#0095FF', 'RandomForest':'#E6C0B1'} \n",
        "labels = list(colors.keys())\n",
        "handles = [plt.Rectangle((0,0),1,1, color=colors[label]) for label in labels]\n",
        "\n",
        "ax[0].legend(handles, labels, bbox_to_anchor = (0.95, 0.95))\n",
        "ax[0].set_title(\"Feature Importance between Decision Tree and RandomForest\", fontsize=20)\n",
        "\n",
        "## ax[1] graph\n",
        "ax[1].bar(x, feature_df['LightGBM'], color = \"#60F09E\")\n",
        "ax[1].set_xticks(x)\n",
        "ax[1].set_xticklabels(feature_df['features'], rotation=90)\n",
        "ax[1].set_title(\"Feature Importance of LightGBM\", fontsize=20)\n",
        "\n",
        "## plt manage\n",
        "## plt.xticks(x, feature_df['features'], rotation=90)\n",
        "plt.tight_layout()\n",
        "plt.show()"
      ],
      "execution_count": 31,
      "outputs": [
        {
          "output_type": "display_data",
          "data": {
            "image/png": "[encoded data removed]",
            "text/plain": [
              "<Figure size 1152x1152 with 2 Axes>"
            ]
          },
          "metadata": {
            "tags": [],
            "needs_background": "light"
          }
        }
      ]
    },
    {
      "cell_type": "markdown",
      "metadata": {
        "id": "gOuatBxZ8U-p"
      },
      "source": [
        "- Each algorithm provides different feature important values. \n",
        "    + If you want to know this concept further, please read this article: [How to Calculate Feature Importance With Python](https://machinelearningmastery.com/calculate-feature-importance-with-python/)\n",
        "- The main goal here is to improve a predictive model, deleting some features. For example, feature SisSp and Parch in both algorithm are not quite important. So, At this moment, we can delete them.\n",
        "    + This code will be worked with feature engineering section. \n"
      ]
    },
    {
      "cell_type": "markdown",
      "metadata": {
        "id": "sq736MjO8U-q"
      },
      "source": [
        "### "
      ]
    },
    {
      "cell_type": "markdown",
      "metadata": {
        "id": "EqE1Ynp48U-r"
      },
      "source": [
        "<a id=\"submission\"></a>\n",
        "#### (E) Submission\n",
        "- Now, we create submission function. "
      ]
    },
    {
      "cell_type": "code",
      "metadata": {
        "trusted": true,
        "id": "wUIEKdR78U-r"
      },
      "source": [
        "import numpy as np\n",
        "from datetime import datetime\n",
        "\n",
        "version = datetime.now().strftime(\"%d-%m-%Y %H-%M-%S\")\n",
        "\n",
        "def final_submission(model, data, version):\n",
        "    final_preds = model.predict(data)\n",
        "    binarizer = np.vectorize(lambda x: 1 if x >= .5 else 0)\n",
        "    prediction_binarized = binarizer(final_preds)\n",
        "    submission = pd.concat([gender_submission,pd.DataFrame(prediction_binarized)], axis=1).drop(columns=['Survived'])\n",
        "    submission.columns = ['PassengerId', 'Survived']\n",
        "    submission.to_csv('Sklearn of Submit Date {} Submission.csv'.format(version), index=False)\n",
        "    \n",
        "final_submission(lgb_model, test_data, version)"
      ],
      "execution_count": 33,
      "outputs": []
    },
    {
      "cell_type": "markdown",
      "metadata": {
        "id": "gb3CTetr8U-r"
      },
      "source": [
        "- Now, We will move on `PyCaret` Framework. "
      ]
    },
    {
      "cell_type": "markdown",
      "metadata": {
        "id": "DnoI5TFv8U-r"
      },
      "source": [
        "<a id='pycaret'></a>\n",
        "## PyCaret\n",
        "![](https://miro.medium.com/max/2048/1*Cku5-rqmqSIuhUyFkIAdIA.png)\n",
        "\n",
        "- PyCaret.. Caret in R?\n",
        "    + My 1st reaction on this.. when got heard .. was \"is it copy of [caret](https://cran.r-project.org/web/packages/caret/vignettes/caret.html) package in R?\"\n",
        "    \n",
        "- Let's look at this framework. \n"
      ]
    },
    {
      "cell_type": "markdown",
      "metadata": {
        "id": "WDkIeMRj8U-r"
      },
      "source": [
        "<a id=\"intro\"></a>\n",
        "### (1) Intro\n",
        "- URL: https://pycaret.org/about/\n",
        "> It's an open source low-code machine learning library that aims to reduce cycle time from hypothesis to insights. \n",
        "\n",
        "- Point 1. Simple and Easy to use\n",
        "> All the operations performed in PyCaret are automatically stored in a custom `Pipeline` that is fully orchestrated for `deployment`. \n",
        "- Point 2. Python Wrapper\n",
        "> Around several machine learning libraries and frameworks such as scikit-learn, XGBoost, Microsoft LightGBM, spaCy and many more. \n",
        "- Point 3. Train Multiple Models \n",
        "> It trains multiple models SIMULTANEOUSLY.. (interesting!) and outputs a table comparing performaces of each model you developed. \n",
        "- Point 4. [PyCaret on GPU](https://pycaret.readthedocs.io/en/latest/installation.html)\n",
        "> `PyCaret >= 2.2` provides the option to use GPU for select model training and hyperparameter tuning. There is no change in the use of the API, however, in some cases, additional libraries have to be installed as they are not installed with the default slim version or the full version. The following estimators can be trained on GPU."
      ]
    },
    {
      "cell_type": "markdown",
      "metadata": {
        "id": "glq9Jl9P8U-s"
      },
      "source": [
        "<a id=\"pycaret_tutorials\"></a>\n",
        "### (2) PyCaret Tutorials \n",
        "- If you want to learn some basic tutorials, then please visit here: https://pycaret.readthedocs.io/en/latest/tutorials.html\n",
        "     + I will skip out introducing some basic codes here. "
      ]
    },
    {
      "cell_type": "markdown",
      "metadata": {
        "id": "zdnAmCMR8U-s"
      },
      "source": [
        "<a id=\"base_model\"></a>\n",
        "### (3) Base Model\n",
        "- Unfortunately, if you want to use this framework, then you should install it with following command. \n",
        "> !pip install pycaret\n",
        "\n",
        "- It will take a few minutes."
      ]
    },
    {
      "cell_type": "markdown",
      "metadata": {
        "id": "FhtnwbQ58U-s"
      },
      "source": [
        "- We will downgrade it this since we are going to use PyCaret. Some issues are reported.\n",
        "    + https://github.com/pycaret/pycaret/issues/1140"
      ]
    },
    {
      "cell_type": "code",
      "metadata": {
        "_kg_hide-output": true,
        "trusted": true,
        "colab": {
          "base_uri": "https://localhost:8080/",
          "height": 1000
        },
        "id": "sMKSm50u8U-s",
        "outputId": "da48b3b6-b85c-4b5b-ef94-8dfdf52fba96"
      },
      "source": [
        "# !pip uninstall scikit-learn -y\n",
        "!pip install pycaret==2.2.3"
      ],
      "execution_count": 34,
      "outputs": [
        {
          "output_type": "stream",
          "text": [
            "Collecting pycaret==2.2.3\n",
            "\u001b[?25l  Downloading https://files.pythonhosted.org/packages/a2/7b/70e41d8aa900ed47e0e2ac6a8f5cbaf9e359efdf8ae10bf89502c14ce3ed/pycaret-2.2.3-py3-none-any.whl (249kB)\n",
            "\u001b[K     |████████████████████████████████| 256kB 7.6MB/s \n",
            "\u001b[?25hCollecting pandas-profiling>=2.8.0\n",
            "\u001b[?25l  Downloading https://files.pythonhosted.org/packages/dd/12/e2870750c5320116efe7bebd4ae1709cd7e35e3bc23ac8039864b05b9497/pandas_profiling-2.11.0-py2.py3-none-any.whl (243kB)\n",
            "\u001b[K     |████████████████████████████████| 245kB 13.2MB/s \n",
            "\u001b[?25hRequirement already satisfied: joblib in /usr/local/lib/python3.7/dist-packages (from pycaret==2.2.3) (1.0.1)\n",
            "Requirement already satisfied: spacy in /usr/local/lib/python3.7/dist-packages (from pycaret==2.2.3) (2.2.4)\n",
            "Collecting pyLDAvis\n",
            "\u001b[?25l  Downloading https://files.pythonhosted.org/packages/03/a5/15a0da6b0150b8b68610cc78af80364a80a9a4c8b6dd5ee549b8989d4b60/pyLDAvis-3.3.1.tar.gz (1.7MB)\n",
            "\u001b[K     |████████████████████████████████| 1.7MB 14.7MB/s \n",
            "\u001b[?25h  Installing build dependencies ... \u001b[?25l\u001b[?25hdone\n",
            "  Getting requirements to build wheel ... \u001b[?25l\u001b[?25hdone\n",
            "  Installing backend dependencies ... \u001b[?25l\u001b[?25hdone\n",
            "    Preparing wheel metadata ... \u001b[?25l\u001b[?25hdone\n",
            "Requirement already satisfied: plotly>=4.4.1 in /usr/local/lib/python3.7/dist-packages (from pycaret==2.2.3) (4.4.1)\n",
            "Requirement already satisfied: wordcloud in /usr/local/lib/python3.7/dist-packages (from pycaret==2.2.3) (1.5.0)\n",
            "Collecting imbalanced-learn>=0.7.0\n",
            "\u001b[?25l  Downloading https://files.pythonhosted.org/packages/80/98/dc784205a7e3034e84d41ac4781660c67ad6327f2f5a80c568df31673d1c/imbalanced_learn-0.8.0-py3-none-any.whl (206kB)\n",
            "\u001b[K     |████████████████████████████████| 215kB 37.9MB/s \n",
            "\u001b[?25hCollecting lightgbm>=2.3.1\n",
            "\u001b[?25l  Downloading https://files.pythonhosted.org/packages/18/b2/fff8370f48549ce223f929fe8cab4ee6bf285a41f86037d91312b48ed95b/lightgbm-3.2.1-py3-none-manylinux1_x86_64.whl (2.0MB)\n",
            "\u001b[K     |████████████████████████████████| 2.0MB 38.3MB/s \n",
            "\u001b[?25hCollecting kmodes>=0.10.1\n",
            "  Downloading https://files.pythonhosted.org/packages/9b/34/fffc601aa4d44b94e945a7cc72f477e09dffa7dce888898f2ffd9f4e343e/kmodes-0.11.0-py2.py3-none-any.whl\n",
            "Requirement already satisfied: gensim in /usr/local/lib/python3.7/dist-packages (from pycaret==2.2.3) (3.6.0)\n",
            "Collecting catboost>=0.23.2\n",
            "\u001b[?25l  Downloading https://files.pythonhosted.org/packages/47/80/8e9c57ec32dfed6ba2922bc5c96462cbf8596ce1a6f5de532ad1e43e53fe/catboost-0.25.1-cp37-none-manylinux1_x86_64.whl (67.3MB)\n",
            "\u001b[K     |████████████████████████████████| 67.3MB 62kB/s \n",
            "\u001b[?25hCollecting pyod\n",
            "\u001b[?25l  Downloading https://files.pythonhosted.org/packages/37/50/94ac3c301b06e291ce52938e4a037b147cf01b40ff458dea5441ac42addf/pyod-0.8.7.tar.gz (101kB)\n",
            "\u001b[K     |████████████████████████████████| 102kB 11.7MB/s \n",
            "\u001b[?25hCollecting umap-learn\n",
            "\u001b[?25l  Downloading https://files.pythonhosted.org/packages/75/69/85e7f950bb75792ad5d666d86c5f3e62eedbb942848e7e3126513af9999c/umap-learn-0.5.1.tar.gz (80kB)\n",
            "\u001b[K     |████████████████████████████████| 81kB 9.7MB/s \n",
            "\u001b[?25hRequirement already satisfied: textblob in /usr/local/lib/python3.7/dist-packages (from pycaret==2.2.3) (0.15.3)\n",
            "Collecting mlflow\n",
            "\u001b[?25l  Downloading https://files.pythonhosted.org/packages/44/03/27a5457d0dfd7cd05016e54c0c00b33e99b968d3cc49e4b87824307f1560/mlflow-1.15.0-py3-none-any.whl (14.2MB)\n",
            "\u001b[K     |████████████████████████████████| 14.2MB 42.3MB/s \n",
            "\u001b[?25hCollecting xgboost>=1.1.0\n",
            "\u001b[?25l  Downloading https://files.pythonhosted.org/packages/05/45/978cd7e30860a5e2852500d55b7598d8f0806927ff30c86d01d01b28c43b/xgboost-1.4.0-py3-none-manylinux2010_x86_64.whl (166.7MB)\n",
            "\u001b[K     |████████████████████████████████| 166.7MB 81kB/s \n",
            "\u001b[?25hRequirement already satisfied: IPython in /usr/local/lib/python3.7/dist-packages (from pycaret==2.2.3) (5.5.0)\n",
            "Requirement already satisfied: pandas in /usr/local/lib/python3.7/dist-packages (from pycaret==2.2.3) (1.1.5)\n",
            "Collecting yellowbrick>=1.0.1\n",
            "\u001b[?25l  Downloading https://files.pythonhosted.org/packages/3a/15/58feb940b6a2f52d3335cccf9e5d00704ec5ba62782da83f7e2abeca5e4b/yellowbrick-1.3.post1-py3-none-any.whl (271kB)\n",
            "\u001b[K     |████████████████████████████████| 276kB 22.2MB/s \n",
            "\u001b[?25hCollecting scikit-plot\n",
            "  Downloading https://files.pythonhosted.org/packages/7c/47/32520e259340c140a4ad27c1b97050dd3254fdc517b1d59974d47037510e/scikit_plot-0.3.7-py3-none-any.whl\n",
            "Requirement already satisfied: matplotlib in /usr/local/lib/python3.7/dist-packages (from pycaret==2.2.3) (3.2.2)\n",
            "Requirement already satisfied: scikit-learn==0.23.2 in /usr/local/lib/python3.7/dist-packages (from pycaret==2.2.3) (0.23.2)\n",
            "Requirement already satisfied: mlxtend in /usr/local/lib/python3.7/dist-packages (from pycaret==2.2.3) (0.14.0)\n",
            "Requirement already satisfied: cufflinks>=0.17.0 in /usr/local/lib/python3.7/dist-packages (from pycaret==2.2.3) (0.17.3)\n",
            "Requirement already satisfied: nltk in /usr/local/lib/python3.7/dist-packages (from pycaret==2.2.3) (3.2.5)\n",
            "Requirement already satisfied: ipywidgets in /usr/local/lib/python3.7/dist-packages (from pycaret==2.2.3) (7.6.3)\n",
            "Requirement already satisfied: seaborn in /usr/local/lib/python3.7/dist-packages (from pycaret==2.2.3) (0.11.1)\n",
            "Requirement already satisfied: numpy>=1.17 in /usr/local/lib/python3.7/dist-packages (from pycaret==2.2.3) (1.19.5)\n",
            "Requirement already satisfied: attrs>=19.3.0 in /usr/local/lib/python3.7/dist-packages (from pandas-profiling>=2.8.0->pycaret==2.2.3) (20.3.0)\n",
            "Requirement already satisfied: jinja2>=2.11.1 in /usr/local/lib/python3.7/dist-packages (from pandas-profiling>=2.8.0->pycaret==2.2.3) (2.11.3)\n",
            "Collecting phik>=0.10.0\n",
            "\u001b[?25l  Downloading https://files.pythonhosted.org/packages/b7/ce/193e8ddf62d4be643b9b4b20e8e9c63b2f6a20f92778c0410c629f89bdaa/phik-0.11.2.tar.gz (1.1MB)\n",
            "\u001b[K     |████████████████████████████████| 1.1MB 32.2MB/s \n",
            "\u001b[?25hCollecting confuse>=1.0.0\n",
            "  Downloading https://files.pythonhosted.org/packages/6d/55/b4726d81e5d6509fa3441f770f8a9524612627dc1b2a7d6209d1d20083fe/confuse-1.4.0-py2.py3-none-any.whl\n",
            "Collecting tqdm>=4.48.2\n",
            "\u001b[?25l  Downloading https://files.pythonhosted.org/packages/72/8a/34efae5cf9924328a8f34eeb2fdaae14c011462d9f0e3fcded48e1266d1c/tqdm-4.60.0-py2.py3-none-any.whl (75kB)\n",
            "\u001b[K     |████████████████████████████████| 81kB 7.2MB/s \n",
            "\u001b[?25hCollecting tangled-up-in-unicode>=0.0.6\n",
            "\u001b[?25l  Downloading https://files.pythonhosted.org/packages/ec/d1/58bfbe263494741a47140049b989ad42a8941854e8d34f1af90640c6c9f9/tangled_up_in_unicode-0.0.7-py3-none-any.whl (3.1MB)\n",
            "\u001b[K     |████████████████████████████████| 3.2MB 23.4MB/s \n",
            "\u001b[?25hRequirement already satisfied: scipy>=1.4.1 in /usr/local/lib/python3.7/dist-packages (from pandas-profiling>=2.8.0->pycaret==2.2.3) (1.4.1)\n",
            "Collecting requests>=2.24.0\n",
            "\u001b[?25l  Downloading https://files.pythonhosted.org/packages/29/c1/24814557f1d22c56d50280771a17307e6bf87b70727d975fd6b2ce6b014a/requests-2.25.1-py2.py3-none-any.whl (61kB)\n",
            "\u001b[K     |████████████████████████████████| 61kB 6.5MB/s \n",
            "\u001b[?25hCollecting htmlmin>=0.1.12\n",
            "  Downloading https://files.pythonhosted.org/packages/b3/e7/fcd59e12169de19f0131ff2812077f964c6b960e7c09804d30a7bf2ab461/htmlmin-0.1.12.tar.gz\n",
            "Collecting visions[type_image_path]==0.6.0\n",
            "\u001b[?25l  Downloading https://files.pythonhosted.org/packages/98/30/b1e70bc55962239c4c3c9660e892be2d8247a882135a3035c10ff7f02cde/visions-0.6.0-py3-none-any.whl (75kB)\n",
            "\u001b[K     |████████████████████████████████| 81kB 6.1MB/s \n",
            "\u001b[?25hRequirement already satisfied: missingno>=0.4.2 in /usr/local/lib/python3.7/dist-packages (from pandas-profiling>=2.8.0->pycaret==2.2.3) (0.4.2)\n",
            "Requirement already satisfied: cymem<2.1.0,>=2.0.2 in /usr/local/lib/python3.7/dist-packages (from spacy->pycaret==2.2.3) (2.0.5)\n",
            "Requirement already satisfied: thinc==7.4.0 in /usr/local/lib/python3.7/dist-packages (from spacy->pycaret==2.2.3) (7.4.0)\n",
            "Requirement already satisfied: blis<0.5.0,>=0.4.0 in /usr/local/lib/python3.7/dist-packages (from spacy->pycaret==2.2.3) (0.4.1)\n",
            "Requirement already satisfied: plac<1.2.0,>=0.9.6 in /usr/local/lib/python3.7/dist-packages (from spacy->pycaret==2.2.3) (1.1.3)\n",
            "Requirement already satisfied: catalogue<1.1.0,>=0.0.7 in /usr/local/lib/python3.7/dist-packages (from spacy->pycaret==2.2.3) (1.0.0)\n",
            "Requirement already satisfied: wasabi<1.1.0,>=0.4.0 in /usr/local/lib/python3.7/dist-packages (from spacy->pycaret==2.2.3) (0.8.2)\n",
            "Requirement already satisfied: srsly<1.1.0,>=1.0.2 in /usr/local/lib/python3.7/dist-packages (from spacy->pycaret==2.2.3) (1.0.5)\n",
            "Requirement already satisfied: murmurhash<1.1.0,>=0.28.0 in /usr/local/lib/python3.7/dist-packages (from spacy->pycaret==2.2.3) (1.0.5)\n",
            "Requirement already satisfied: setuptools in /usr/local/lib/python3.7/dist-packages (from spacy->pycaret==2.2.3) (54.2.0)\n",
            "Requirement already satisfied: preshed<3.1.0,>=3.0.2 in /usr/local/lib/python3.7/dist-packages (from spacy->pycaret==2.2.3) (3.0.5)\n",
            "Requirement already satisfied: numexpr in /usr/local/lib/python3.7/dist-packages (from pyLDAvis->pycaret==2.2.3) (2.7.3)\n",
            "Requirement already satisfied: future in /usr/local/lib/python3.7/dist-packages (from pyLDAvis->pycaret==2.2.3) (0.16.0)\n",
            "Collecting funcy\n",
            "  Downloading https://files.pythonhosted.org/packages/66/89/479de0afbbfb98d1c4b887936808764627300208bb771fcd823403645a36/funcy-1.15-py2.py3-none-any.whl\n",
            "Requirement already satisfied: sklearn in /usr/local/lib/python3.7/dist-packages (from pyLDAvis->pycaret==2.2.3) (0.0)\n",
            "Requirement already satisfied: retrying>=1.3.3 in /usr/local/lib/python3.7/dist-packages (from plotly>=4.4.1->pycaret==2.2.3) (1.3.3)\n",
            "Requirement already satisfied: six in /usr/local/lib/python3.7/dist-packages (from plotly>=4.4.1->pycaret==2.2.3) (1.15.0)\n",
            "Requirement already satisfied: pillow in /usr/local/lib/python3.7/dist-packages (from wordcloud->pycaret==2.2.3) (7.1.2)\n",
            "Requirement already satisfied: wheel in /usr/local/lib/python3.7/dist-packages (from lightgbm>=2.3.1->pycaret==2.2.3) (0.36.2)\n",
            "Requirement already satisfied: smart-open>=1.2.1 in /usr/local/lib/python3.7/dist-packages (from gensim->pycaret==2.2.3) (5.0.0)\n",
            "Requirement already satisfied: graphviz in /usr/local/lib/python3.7/dist-packages (from catboost>=0.23.2->pycaret==2.2.3) (0.10.1)\n",
            "Requirement already satisfied: numba>=0.35 in /usr/local/lib/python3.7/dist-packages (from pyod->pycaret==2.2.3) (0.51.2)\n",
            "Requirement already satisfied: statsmodels in /usr/local/lib/python3.7/dist-packages (from pyod->pycaret==2.2.3) (0.10.2)\n",
            "Collecting pynndescent>=0.5\n",
            "\u001b[?25l  Downloading https://files.pythonhosted.org/packages/af/65/8189298dd3a05bbad716ee8e249764ff8800e365d8dc652ad2192ca01b4a/pynndescent-0.5.2.tar.gz (1.1MB)\n",
            "\u001b[K     |████████████████████████████████| 1.2MB 33.1MB/s \n",
            "\u001b[?25hCollecting gunicorn; platform_system != \"Windows\"\n",
            "\u001b[?25l  Downloading https://files.pythonhosted.org/packages/28/5b/0d1f0296485a6af03366604142ea8f19f0833894db3512a40ed07b2a56dd/gunicorn-20.1.0.tar.gz (370kB)\n",
            "\u001b[K     |████████████████████████████████| 378kB 34.9MB/s \n",
            "\u001b[?25hRequirement already satisfied: pyyaml in /usr/local/lib/python3.7/dist-packages (from mlflow->pycaret==2.2.3) (3.13)\n",
            "Requirement already satisfied: sqlparse>=0.3.1 in /usr/local/lib/python3.7/dist-packages (from mlflow->pycaret==2.2.3) (0.4.1)\n",
            "Collecting querystring-parser\n",
            "  Downloading https://files.pythonhosted.org/packages/88/6b/572b2590fd55114118bf08bde63c0a421dcc82d593700f3e2ad89908a8a9/querystring_parser-1.2.4-py2.py3-none-any.whl\n",
            "Collecting alembic<=1.4.1\n",
            "\u001b[?25l  Downloading https://files.pythonhosted.org/packages/e0/e9/359dbb77c35c419df0aedeb1d53e71e7e3f438ff64a8fdb048c907404de3/alembic-1.4.1.tar.gz (1.1MB)\n",
            "\u001b[K     |████████████████████████████████| 1.1MB 19.6MB/s \n",
            "\u001b[?25hCollecting gitpython>=2.1.0\n",
            "\u001b[?25l  Downloading https://files.pythonhosted.org/packages/a6/99/98019716955ba243657daedd1de8f3a88ca1f5b75057c38e959db22fb87b/GitPython-3.1.14-py3-none-any.whl (159kB)\n",
            "\u001b[K     |████████████████████████████████| 163kB 39.1MB/s \n",
            "\u001b[?25hRequirement already satisfied: sqlalchemy in /usr/local/lib/python3.7/dist-packages (from mlflow->pycaret==2.2.3) (1.4.7)\n",
            "Collecting docker>=4.0.0\n",
            "\u001b[?25l  Downloading https://files.pythonhosted.org/packages/b2/5a/f988909dfed18c1ac42ad8d9e611e6c5657e270aa6eb68559985dbb69c13/docker-5.0.0-py2.py3-none-any.whl (146kB)\n",
            "\u001b[K     |████████████████████████████████| 153kB 37.6MB/s \n",
            "\u001b[?25hRequirement already satisfied: cloudpickle in /usr/local/lib/python3.7/dist-packages (from mlflow->pycaret==2.2.3) (1.3.0)\n",
            "Requirement already satisfied: pytz in /usr/local/lib/python3.7/dist-packages (from mlflow->pycaret==2.2.3) (2018.9)\n",
            "Requirement already satisfied: protobuf>=3.6.0 in /usr/local/lib/python3.7/dist-packages (from mlflow->pycaret==2.2.3) (3.12.4)\n",
            "Requirement already satisfied: entrypoints in /usr/local/lib/python3.7/dist-packages (from mlflow->pycaret==2.2.3) (0.3)\n",
            "Collecting prometheus-flask-exporter\n",
            "  Downloading https://files.pythonhosted.org/packages/4c/d5/8a046d683c2cc084b6a502812827ede69b1064f95d93f94b83f809b21723/prometheus_flask_exporter-0.18.1.tar.gz\n",
            "Collecting databricks-cli>=0.8.7\n",
            "\u001b[?25l  Downloading https://files.pythonhosted.org/packages/bc/af/631375abc29e59cedfa4467a5f7755503ba19898890751e1f2636ef02f92/databricks-cli-0.14.3.tar.gz (54kB)\n",
            "\u001b[K     |████████████████████████████████| 61kB 6.5MB/s \n",
            "\u001b[?25hRequirement already satisfied: Flask in /usr/local/lib/python3.7/dist-packages (from mlflow->pycaret==2.2.3) (1.1.2)\n",
            "Requirement already satisfied: click>=7.0 in /usr/local/lib/python3.7/dist-packages (from mlflow->pycaret==2.2.3) (7.1.2)\n",
            "Requirement already satisfied: decorator in /usr/local/lib/python3.7/dist-packages (from IPython->pycaret==2.2.3) (4.4.2)\n",
            "Requirement already satisfied: simplegeneric>0.8 in /usr/local/lib/python3.7/dist-packages (from IPython->pycaret==2.2.3) (0.8.1)\n",
            "Requirement already satisfied: traitlets>=4.2 in /usr/local/lib/python3.7/dist-packages (from IPython->pycaret==2.2.3) (5.0.5)\n",
            "Requirement already satisfied: pexpect; sys_platform != \"win32\" in /usr/local/lib/python3.7/dist-packages (from IPython->pycaret==2.2.3) (4.8.0)\n",
            "Requirement already satisfied: pygments in /usr/local/lib/python3.7/dist-packages (from IPython->pycaret==2.2.3) (2.6.1)\n",
            "Requirement already satisfied: prompt-toolkit<2.0.0,>=1.0.4 in /usr/local/lib/python3.7/dist-packages (from IPython->pycaret==2.2.3) (1.0.18)\n",
            "Requirement already satisfied: pickleshare in /usr/local/lib/python3.7/dist-packages (from IPython->pycaret==2.2.3) (0.7.5)\n",
            "Requirement already satisfied: python-dateutil>=2.7.3 in /usr/local/lib/python3.7/dist-packages (from pandas->pycaret==2.2.3) (2.8.1)\n",
            "Requirement already satisfied: cycler>=0.10.0 in /usr/local/lib/python3.7/dist-packages (from yellowbrick>=1.0.1->pycaret==2.2.3) (0.10.0)\n",
            "Requirement already satisfied: pyparsing!=2.0.4,!=2.1.2,!=2.1.6,>=2.0.1 in /usr/local/lib/python3.7/dist-packages (from matplotlib->pycaret==2.2.3) (2.4.7)\n",
            "Requirement already satisfied: kiwisolver>=1.0.1 in /usr/local/lib/python3.7/dist-packages (from matplotlib->pycaret==2.2.3) (1.3.1)\n",
            "Requirement already satisfied: threadpoolctl>=2.0.0 in /usr/local/lib/python3.7/dist-packages (from scikit-learn==0.23.2->pycaret==2.2.3) (2.1.0)\n",
            "Requirement already satisfied: colorlover>=0.2.1 in /usr/local/lib/python3.7/dist-packages (from cufflinks>=0.17.0->pycaret==2.2.3) (0.3.0)\n",
            "Requirement already satisfied: widgetsnbextension~=3.5.0 in /usr/local/lib/python3.7/dist-packages (from ipywidgets->pycaret==2.2.3) (3.5.1)\n",
            "Requirement already satisfied: ipykernel>=4.5.1 in /usr/local/lib/python3.7/dist-packages (from ipywidgets->pycaret==2.2.3) (4.10.1)\n",
            "Requirement already satisfied: nbformat>=4.2.0 in /usr/local/lib/python3.7/dist-packages (from ipywidgets->pycaret==2.2.3) (5.1.3)\n",
            "Requirement already satisfied: jupyterlab-widgets>=1.0.0; python_version >= \"3.6\" in /usr/local/lib/python3.7/dist-packages (from ipywidgets->pycaret==2.2.3) (1.0.0)\n",
            "Requirement already satisfied: MarkupSafe>=0.23 in /usr/local/lib/python3.7/dist-packages (from jinja2>=2.11.1->pandas-profiling>=2.8.0->pycaret==2.2.3) (1.1.1)\n",
            "Requirement already satisfied: urllib3<1.27,>=1.21.1 in /usr/local/lib/python3.7/dist-packages (from requests>=2.24.0->pandas-profiling>=2.8.0->pycaret==2.2.3) (1.24.3)\n",
            "Requirement already satisfied: chardet<5,>=3.0.2 in /usr/local/lib/python3.7/dist-packages (from requests>=2.24.0->pandas-profiling>=2.8.0->pycaret==2.2.3) (3.0.4)\n",
            "Requirement already satisfied: certifi>=2017.4.17 in /usr/local/lib/python3.7/dist-packages (from requests>=2.24.0->pandas-profiling>=2.8.0->pycaret==2.2.3) (2020.12.5)\n",
            "Requirement already satisfied: idna<3,>=2.5 in /usr/local/lib/python3.7/dist-packages (from requests>=2.24.0->pandas-profiling>=2.8.0->pycaret==2.2.3) (2.10)\n",
            "Requirement already satisfied: networkx>=2.4 in /usr/local/lib/python3.7/dist-packages (from visions[type_image_path]==0.6.0->pandas-profiling>=2.8.0->pycaret==2.2.3) (2.5.1)\n",
            "Collecting imagehash; extra == \"type_image_path\"\n",
            "\u001b[?25l  Downloading https://files.pythonhosted.org/packages/8e/18/9dbb772b5ef73a3069c66bb5bf29b9fb4dd57af0d5790c781c3f559bcca6/ImageHash-4.2.0-py2.py3-none-any.whl (295kB)\n",
            "\u001b[K     |████████████████████████████████| 296kB 33.9MB/s \n",
            "\u001b[?25hRequirement already satisfied: importlib-metadata>=0.20; python_version < \"3.8\" in /usr/local/lib/python3.7/dist-packages (from catalogue<1.1.0,>=0.0.7->spacy->pycaret==2.2.3) (3.10.1)\n",
            "Requirement already satisfied: llvmlite<0.35,>=0.34.0.dev0 in /usr/local/lib/python3.7/dist-packages (from numba>=0.35->pyod->pycaret==2.2.3) (0.34.0)\n",
            "Requirement already satisfied: patsy>=0.4.0 in /usr/local/lib/python3.7/dist-packages (from statsmodels->pyod->pycaret==2.2.3) (0.5.1)\n",
            "Collecting Mako\n",
            "\u001b[?25l  Downloading https://files.pythonhosted.org/packages/f3/54/dbc07fbb20865d3b78fdb7cf7fa713e2cba4f87f71100074ef2dc9f9d1f7/Mako-1.1.4-py2.py3-none-any.whl (75kB)\n",
            "\u001b[K     |████████████████████████████████| 81kB 7.2MB/s \n",
            "\u001b[?25hCollecting python-editor>=0.3\n",
            "  Downloading https://files.pythonhosted.org/packages/c6/d3/201fc3abe391bbae6606e6f1d598c15d367033332bd54352b12f35513717/python_editor-1.0.4-py3-none-any.whl\n",
            "Collecting gitdb<5,>=4.0.1\n",
            "\u001b[?25l  Downloading https://files.pythonhosted.org/packages/ea/e8/f414d1a4f0bbc668ed441f74f44c116d9816833a48bf81d22b697090dba8/gitdb-4.0.7-py3-none-any.whl (63kB)\n",
            "\u001b[K     |████████████████████████████████| 71kB 7.2MB/s \n",
            "\u001b[?25hRequirement already satisfied: greenlet!=0.4.17; python_version >= \"3\" in /usr/local/lib/python3.7/dist-packages (from sqlalchemy->mlflow->pycaret==2.2.3) (1.0.0)\n",
            "Collecting websocket-client>=0.32.0\n",
            "\u001b[?25l  Downloading https://files.pythonhosted.org/packages/08/33/80e0d4f60e84a1ddd9a03f340be1065a2a363c47ce65c4bd3bae65ce9631/websocket_client-0.58.0-py2.py3-none-any.whl (61kB)\n",
            "\u001b[K     |████████████████████████████████| 61kB 6.7MB/s \n",
            "\u001b[?25hRequirement already satisfied: prometheus_client in /usr/local/lib/python3.7/dist-packages (from prometheus-flask-exporter->mlflow->pycaret==2.2.3) (0.10.1)\n",
            "Requirement already satisfied: tabulate>=0.7.7 in /usr/local/lib/python3.7/dist-packages (from databricks-cli>=0.8.7->mlflow->pycaret==2.2.3) (0.8.9)\n",
            "Requirement already satisfied: Werkzeug>=0.15 in /usr/local/lib/python3.7/dist-packages (from Flask->mlflow->pycaret==2.2.3) (1.0.1)\n",
            "Requirement already satisfied: itsdangerous>=0.24 in /usr/local/lib/python3.7/dist-packages (from Flask->mlflow->pycaret==2.2.3) (1.1.0)\n",
            "Requirement already satisfied: ipython-genutils in /usr/local/lib/python3.7/dist-packages (from traitlets>=4.2->IPython->pycaret==2.2.3) (0.2.0)\n",
            "Requirement already satisfied: ptyprocess>=0.5 in /usr/local/lib/python3.7/dist-packages (from pexpect; sys_platform != \"win32\"->IPython->pycaret==2.2.3) (0.7.0)\n",
            "Requirement already satisfied: wcwidth in /usr/local/lib/python3.7/dist-packages (from prompt-toolkit<2.0.0,>=1.0.4->IPython->pycaret==2.2.3) (0.2.5)\n",
            "Requirement already satisfied: notebook>=4.4.1 in /usr/local/lib/python3.7/dist-packages (from widgetsnbextension~=3.5.0->ipywidgets->pycaret==2.2.3) (5.3.1)\n",
            "Requirement already satisfied: tornado>=4.0 in /usr/local/lib/python3.7/dist-packages (from ipykernel>=4.5.1->ipywidgets->pycaret==2.2.3) (5.1.1)\n",
            "Requirement already satisfied: jupyter-client in /usr/local/lib/python3.7/dist-packages (from ipykernel>=4.5.1->ipywidgets->pycaret==2.2.3) (5.3.5)\n",
            "Requirement already satisfied: jupyter-core in /usr/local/lib/python3.7/dist-packages (from nbformat>=4.2.0->ipywidgets->pycaret==2.2.3) (4.7.1)\n",
            "Requirement already satisfied: jsonschema!=2.5.0,>=2.4 in /usr/local/lib/python3.7/dist-packages (from nbformat>=4.2.0->ipywidgets->pycaret==2.2.3) (2.6.0)\n",
            "Requirement already satisfied: PyWavelets in /usr/local/lib/python3.7/dist-packages (from imagehash; extra == \"type_image_path\"->visions[type_image_path]==0.6.0->pandas-profiling>=2.8.0->pycaret==2.2.3) (1.1.1)\n",
            "Requirement already satisfied: zipp>=0.5 in /usr/local/lib/python3.7/dist-packages (from importlib-metadata>=0.20; python_version < \"3.8\"->catalogue<1.1.0,>=0.0.7->spacy->pycaret==2.2.3) (3.4.1)\n",
            "Requirement already satisfied: typing-extensions>=3.6.4; python_version < \"3.8\" in /usr/local/lib/python3.7/dist-packages (from importlib-metadata>=0.20; python_version < \"3.8\"->catalogue<1.1.0,>=0.0.7->spacy->pycaret==2.2.3) (3.7.4.3)\n",
            "Collecting smmap<5,>=3.0.1\n",
            "  Downloading https://files.pythonhosted.org/packages/68/ee/d540eb5e5996eb81c26ceffac6ee49041d473bc5125f2aa995cf51ec1cf1/smmap-4.0.0-py2.py3-none-any.whl\n",
            "Requirement already satisfied: terminado>=0.8.1 in /usr/local/lib/python3.7/dist-packages (from notebook>=4.4.1->widgetsnbextension~=3.5.0->ipywidgets->pycaret==2.2.3) (0.9.4)\n",
            "Requirement already satisfied: nbconvert in /usr/local/lib/python3.7/dist-packages (from notebook>=4.4.1->widgetsnbextension~=3.5.0->ipywidgets->pycaret==2.2.3) (5.6.1)\n",
            "Requirement already satisfied: Send2Trash in /usr/local/lib/python3.7/dist-packages (from notebook>=4.4.1->widgetsnbextension~=3.5.0->ipywidgets->pycaret==2.2.3) (1.5.0)\n",
            "Requirement already satisfied: pyzmq>=13 in /usr/local/lib/python3.7/dist-packages (from jupyter-client->ipykernel>=4.5.1->ipywidgets->pycaret==2.2.3) (22.0.3)\n",
            "Requirement already satisfied: testpath in /usr/local/lib/python3.7/dist-packages (from nbconvert->notebook>=4.4.1->widgetsnbextension~=3.5.0->ipywidgets->pycaret==2.2.3) (0.4.4)\n",
            "Requirement already satisfied: defusedxml in /usr/local/lib/python3.7/dist-packages (from nbconvert->notebook>=4.4.1->widgetsnbextension~=3.5.0->ipywidgets->pycaret==2.2.3) (0.7.1)\n",
            "Requirement already satisfied: bleach in /usr/local/lib/python3.7/dist-packages (from nbconvert->notebook>=4.4.1->widgetsnbextension~=3.5.0->ipywidgets->pycaret==2.2.3) (3.3.0)\n",
            "Requirement already satisfied: pandocfilters>=1.4.1 in /usr/local/lib/python3.7/dist-packages (from nbconvert->notebook>=4.4.1->widgetsnbextension~=3.5.0->ipywidgets->pycaret==2.2.3) (1.4.3)\n",
            "Requirement already satisfied: mistune<2,>=0.8.1 in /usr/local/lib/python3.7/dist-packages (from nbconvert->notebook>=4.4.1->widgetsnbextension~=3.5.0->ipywidgets->pycaret==2.2.3) (0.8.4)\n",
            "Requirement already satisfied: packaging in /usr/local/lib/python3.7/dist-packages (from bleach->nbconvert->notebook>=4.4.1->widgetsnbextension~=3.5.0->ipywidgets->pycaret==2.2.3) (20.9)\n",
            "Requirement already satisfied: webencodings in /usr/local/lib/python3.7/dist-packages (from bleach->nbconvert->notebook>=4.4.1->widgetsnbextension~=3.5.0->ipywidgets->pycaret==2.2.3) (0.5.1)\n",
            "Building wheels for collected packages: pyLDAvis\n",
            "  Building wheel for pyLDAvis (PEP 517) ... \u001b[?25l\u001b[?25hdone\n",
            "  Created wheel for pyLDAvis: filename=pyLDAvis-3.3.1-cp37-none-any.whl size=136870 sha256=e7ccad8e0ed10ec394a1d04ec574f81f941072d2d1ba585c0ce11046c507952d\n",
            "  Stored in directory: /root/.cache/pip/wheels/a0/9c/fc/c6e00689d35c82cf96a8adc70edfe7ba7904374fdac3240ac2\n",
            "Successfully built pyLDAvis\n",
            "Building wheels for collected packages: pyod, umap-learn, phik, htmlmin, pynndescent, gunicorn, alembic, prometheus-flask-exporter, databricks-cli\n",
            "  Building wheel for pyod (setup.py) ... \u001b[?25l\u001b[?25hdone\n",
            "  Created wheel for pyod: filename=pyod-0.8.7-cp37-none-any.whl size=115979 sha256=514cf4d36cc3ad35aa172520ea14a4cd538aa5ce2ba6d0f2865be2b6c3eaf91a\n",
            "  Stored in directory: /root/.cache/pip/wheels/b7/8a/c9/5fe3f32692ad445fe573cf5b953d7a0d55dc1f7c8e229ebda0\n",
            "  Building wheel for umap-learn (setup.py) ... \u001b[?25l\u001b[?25hdone\n",
            "  Created wheel for umap-learn: filename=umap_learn-0.5.1-cp37-none-any.whl size=76569 sha256=5a86fac741536cb786f99c569d6ec450646fec61c267e677e6ec3d6345c61251\n",
            "  Stored in directory: /root/.cache/pip/wheels/ad/df/d5/a3691296ff779f25cd1cf415a3af954b987fb53111e3392cf4\n",
            "  Building wheel for phik (setup.py) ... \u001b[?25l\u001b[?25hdone\n",
            "  Created wheel for phik: filename=phik-0.11.2-cp37-none-any.whl size=1107413 sha256=1d3bffb24b13591d9b578f013b03cc33128559fae591b91aec6c7709e988418a\n",
            "  Stored in directory: /root/.cache/pip/wheels/c0/a3/b0/f27b1cfe32ea131a3715169132ff6d85653789e80e966c3bf6\n",
            "  Building wheel for htmlmin (setup.py) ... \u001b[?25l\u001b[?25hdone\n",
            "  Created wheel for htmlmin: filename=htmlmin-0.1.12-cp37-none-any.whl size=27085 sha256=833f4bb5a8378900bea4563932018125dbaaf0fc65c702497ebb9004870fa94e\n",
            "  Stored in directory: /root/.cache/pip/wheels/43/07/ac/7c5a9d708d65247ac1f94066cf1db075540b85716c30255459\n",
            "  Building wheel for pynndescent (setup.py) ... \u001b[?25l\u001b[?25hdone\n",
            "  Created wheel for pynndescent: filename=pynndescent-0.5.2-cp37-none-any.whl size=51351 sha256=6be087c26f936a972987dfc3cefd5f5abd91f9ccba633d65466beb1128cdc037\n",
            "  Stored in directory: /root/.cache/pip/wheels/ba/52/4e/4c28d04d144a28f89e2575fb63628df6e6d49b56c5ddd0c74e\n",
            "  Building wheel for gunicorn (setup.py) ... \u001b[?25l\u001b[?25hdone\n",
            "  Created wheel for gunicorn: filename=gunicorn-20.1.0-cp37-none-any.whl size=78918 sha256=21f7b390c5ace30297bd307683247927b266975bdb45ceb71208aa79ffee6b52\n",
            "  Stored in directory: /root/.cache/pip/wheels/4c/ea/e2/698dde91d46e32a449e60f785a91954f67f72fea8890bb1072\n",
            "  Building wheel for alembic (setup.py) ... \u001b[?25l\u001b[?25hdone\n",
            "  Created wheel for alembic: filename=alembic-1.4.1-py2.py3-none-any.whl size=158155 sha256=8b213577f52b446c6afbf06c64fdf94c5a1da55f8a2d0bcac59454a7c2713d8e\n",
            "  Stored in directory: /root/.cache/pip/wheels/84/07/f7/12f7370ca47a66030c2edeedcc23dec26ea0ac22dcb4c4a0f3\n",
            "  Building wheel for prometheus-flask-exporter (setup.py) ... \u001b[?25l\u001b[?25hdone\n",
            "  Created wheel for prometheus-flask-exporter: filename=prometheus_flask_exporter-0.18.1-cp37-none-any.whl size=17159 sha256=f81771eb6776a2aae44240af36b15d16daa9775642b1582e0d126ad0da89cbd5\n",
            "  Stored in directory: /root/.cache/pip/wheels/b4/1f/b8/66bd9bc3a9d6c6987ff6c4dfeb6f1fe97b5a0e5ed5849c0437\n",
            "  Building wheel for databricks-cli (setup.py) ... \u001b[?25l\u001b[?25hdone\n",
            "  Created wheel for databricks-cli: filename=databricks_cli-0.14.3-cp37-none-any.whl size=100557 sha256=7e6a2e14e1be8b15dc844a103de8318beee15827523efba0abd92d12c161692c\n",
            "  Stored in directory: /root/.cache/pip/wheels/5b/24/f3/34d8e3964dac4ba849d844273c49a679111b00d5799ebb934a\n",
            "Successfully built pyod umap-learn phik htmlmin pynndescent gunicorn alembic prometheus-flask-exporter databricks-cli\n",
            "\u001b[31mERROR: imbalanced-learn 0.8.0 has requirement scikit-learn>=0.24, but you'll have scikit-learn 0.23.2 which is incompatible.\u001b[0m\n",
            "\u001b[31mERROR: google-colab 1.0.0 has requirement requests~=2.23.0, but you'll have requests 2.25.1 which is incompatible.\u001b[0m\n",
            "\u001b[31mERROR: datascience 0.10.6 has requirement folium==0.2.1, but you'll have folium 0.8.3 which is incompatible.\u001b[0m\n",
            "\u001b[31mERROR: phik 0.11.2 has requirement scipy>=1.5.2, but you'll have scipy 1.4.1 which is incompatible.\u001b[0m\n",
            "\u001b[31mERROR: pyldavis 3.3.1 has requirement numpy>=1.20.0, but you'll have numpy 1.19.5 which is incompatible.\u001b[0m\n",
            "\u001b[31mERROR: pyldavis 3.3.1 has requirement pandas>=1.2.0, but you'll have pandas 1.1.5 which is incompatible.\u001b[0m\n",
            "Installing collected packages: phik, confuse, tqdm, tangled-up-in-unicode, requests, htmlmin, imagehash, visions, pandas-profiling, funcy, pyLDAvis, imbalanced-learn, lightgbm, kmodes, catboost, pyod, pynndescent, umap-learn, gunicorn, querystring-parser, Mako, python-editor, alembic, smmap, gitdb, gitpython, websocket-client, docker, prometheus-flask-exporter, databricks-cli, mlflow, xgboost, yellowbrick, scikit-plot, pycaret\n",
            "  Found existing installation: tqdm 4.41.1\n",
            "    Uninstalling tqdm-4.41.1:\n",
            "      Successfully uninstalled tqdm-4.41.1\n",
            "  Found existing installation: requests 2.23.0\n",
            "    Uninstalling requests-2.23.0:\n",
            "      Successfully uninstalled requests-2.23.0\n",
            "  Found existing installation: pandas-profiling 1.4.1\n",
            "    Uninstalling pandas-profiling-1.4.1:\n",
            "      Successfully uninstalled pandas-profiling-1.4.1\n",
            "  Found existing installation: imbalanced-learn 0.4.3\n",
            "    Uninstalling imbalanced-learn-0.4.3:\n",
            "      Successfully uninstalled imbalanced-learn-0.4.3\n",
            "  Found existing installation: lightgbm 2.2.3\n",
            "    Uninstalling lightgbm-2.2.3:\n",
            "      Successfully uninstalled lightgbm-2.2.3\n",
            "  Found existing installation: xgboost 0.90\n",
            "    Uninstalling xgboost-0.90:\n",
            "      Successfully uninstalled xgboost-0.90\n",
            "  Found existing installation: yellowbrick 0.9.1\n",
            "    Uninstalling yellowbrick-0.9.1:\n",
            "      Successfully uninstalled yellowbrick-0.9.1\n",
            "Successfully installed Mako-1.1.4 alembic-1.4.1 catboost-0.25.1 confuse-1.4.0 databricks-cli-0.14.3 docker-5.0.0 funcy-1.15 gitdb-4.0.7 gitpython-3.1.14 gunicorn-20.1.0 htmlmin-0.1.12 imagehash-4.2.0 imbalanced-learn-0.8.0 kmodes-0.11.0 lightgbm-3.2.1 mlflow-1.15.0 pandas-profiling-2.11.0 phik-0.11.2 prometheus-flask-exporter-0.18.1 pyLDAvis-3.3.1 pycaret-2.2.3 pynndescent-0.5.2 pyod-0.8.7 python-editor-1.0.4 querystring-parser-1.2.4 requests-2.25.1 scikit-plot-0.3.7 smmap-4.0.0 tangled-up-in-unicode-0.0.7 tqdm-4.60.0 umap-learn-0.5.1 visions-0.6.0 websocket-client-0.58.0 xgboost-1.4.0 yellowbrick-1.3.post1\n"
          ],
          "name": "stdout"
        },
        {
          "output_type": "display_data",
          "data": {
            "application/vnd.colab-display-data+json": {
              "pip_warning": {
                "packages": [
                  "lightgbm"
                ]
              }
            }
          },
          "metadata": {
            "tags": []
          }
        }
      ]
    },
    {
      "cell_type": "markdown",
      "metadata": {
        "id": "5hX9c8mF8U-s"
      },
      "source": [
        "- Let's check version"
      ]
    },
    {
      "cell_type": "code",
      "metadata": {
        "trusted": true,
        "colab": {
          "base_uri": "https://localhost:8080/"
        },
        "id": "NCW03xk98U-s",
        "outputId": "4588d000-3e38-4c73-df1d-31e0a96436f6"
      },
      "source": [
        "# check version\n",
        "from pycaret.utils import version\n",
        "import sklearn\n",
        "print(\"pycaret version:\", version())\n",
        "print(\"sklearn version:\", sklearn.__version__)"
      ],
      "execution_count": 35,
      "outputs": [
        {
          "output_type": "stream",
          "text": [
            "pycaret version: 2.2.3\n",
            "sklearn version: 0.23.2\n"
          ],
          "name": "stdout"
        }
      ]
    },
    {
      "cell_type": "markdown",
      "metadata": {
        "id": "KOGoiKh98U-s"
      },
      "source": [
        "<a id=\"initialize_setup\"></a>\n",
        "#### (A) Initialize Setup\n",
        "- Before you train, you need to setup with following code. \n",
        "- Here, We need to combine two dataframe, X and y and stored it as train_data\n"
      ]
    },
    {
      "cell_type": "code",
      "metadata": {
        "trusted": true,
        "colab": {
          "base_uri": "https://localhost:8080/"
        },
        "id": "Fef0uIyW8U-t",
        "outputId": "d9abba95-aa74-49da-e5d1-b21fee9d3f89"
      },
      "source": [
        "all_df_pycaret = pd.concat([X, y], axis=1)\n",
        "all_df_pycaret['Survived'] = all_df_pycaret['Survived'].astype('int64')\n",
        "all_df_pycaret.info()"
      ],
      "execution_count": 36,
      "outputs": [
        {
          "output_type": "stream",
          "text": [
            "<class 'pandas.core.frame.DataFrame'>\n",
            "Int64Index: 891 entries, 0 to 890\n",
            "Data columns (total 21 columns):\n",
            " #   Column        Non-Null Count  Dtype  \n",
            "---  ------        --------------  -----  \n",
            " 0   Age           891 non-null    float64\n",
            " 1   SibSp         891 non-null    int64  \n",
            " 2   Parch         891 non-null    int64  \n",
            " 3   Fare          891 non-null    float64\n",
            " 4   Pclass        891 non-null    int64  \n",
            " 5   Sex_female    891 non-null    uint8  \n",
            " 6   Sex_male      891 non-null    uint8  \n",
            " 7   Cabin_Code_A  891 non-null    uint8  \n",
            " 8   Cabin_Code_B  891 non-null    uint8  \n",
            " 9   Cabin_Code_C  891 non-null    uint8  \n",
            " 10  Cabin_Code_D  891 non-null    uint8  \n",
            " 11  Cabin_Code_E  891 non-null    uint8  \n",
            " 12  Cabin_Code_F  891 non-null    uint8  \n",
            " 13  Cabin_Code_G  891 non-null    uint8  \n",
            " 14  Cabin_Code_N  891 non-null    uint8  \n",
            " 15  Cabin_Code_T  891 non-null    uint8  \n",
            " 16  Embarked_C    891 non-null    uint8  \n",
            " 17  Embarked_Q    891 non-null    uint8  \n",
            " 18  Embarked_S    891 non-null    uint8  \n",
            " 19  Embarked_X    891 non-null    uint8  \n",
            " 20  Survived      891 non-null    int64  \n",
            "dtypes: float64(2), int64(4), uint8(15)\n",
            "memory usage: 61.8 KB\n"
          ],
          "name": "stdout"
        }
      ]
    },
    {
      "cell_type": "markdown",
      "metadata": {
        "id": "s6VnnUIX8U-t"
      },
      "source": [
        "- This code is simple but very powerful. \n",
        "- If you want to study more setting up more options such as Data Preparation, Scale and Transformation, and Feature Engineering, Feature Selection. Then please visit here: https://pycaret.org/train-test-split/\n"
      ]
    },
    {
      "cell_type": "code",
      "metadata": {
        "_kg_hide-output": true,
        "trusted": true,
        "colab": {
          "base_uri": "https://localhost:8080/",
          "height": 1000,
          "referenced_widgets": [
            "523dbdbfdcc442d08b18925142b35b96"
          ]
        },
        "id": "4jH8Em8G8U-t",
        "outputId": "79730e22-925e-466e-ddaf-2174a0d28cf1"
      },
      "source": [
        "from pycaret.classification import *\n",
        "\n",
        "setup(data = all_df_pycaret, \n",
        "      target = 'Survived', \n",
        "      fold = 3,\n",
        "      silent = True\n",
        "     )"
      ],
      "execution_count": 37,
      "outputs": [
        {
          "output_type": "display_data",
          "data": {
            "text/html": [
              "<div>\n",
              "<style scoped>\n",
              "    .dataframe tbody tr th:only-of-type {\n",
              "        vertical-align: middle;\n",
              "    }\n",
              "\n",
              "    .dataframe tbody tr th {\n",
              "        vertical-align: top;\n",
              "    }\n",
              "\n",
              "    .dataframe thead th {\n",
              "        text-align: right;\n",
              "    }\n",
              "</style>\n",
              "<table border=\"1\" class=\"dataframe\">\n",
              "  <thead>\n",
              "    <tr style=\"text-align: right;\">\n",
              "      <th></th>\n",
              "      <th>Description</th>\n",
              "      <th>Value</th>\n",
              "    </tr>\n",
              "  </thead>\n",
              "  <tbody>\n",
              "    <tr>\n",
              "      <th>0</th>\n",
              "      <td>session_id</td>\n",
              "      <td>3218</td>\n",
              "    </tr>\n",
              "    <tr>\n",
              "      <th>1</th>\n",
              "      <td>Target</td>\n",
              "      <td>Survived</td>\n",
              "    </tr>\n",
              "    <tr>\n",
              "      <th>2</th>\n",
              "      <td>Target Type</td>\n",
              "      <td>Binary</td>\n",
              "    </tr>\n",
              "    <tr>\n",
              "      <th>3</th>\n",
              "      <td>Label Encoded</td>\n",
              "      <td>0: 0, 1: 1</td>\n",
              "    </tr>\n",
              "    <tr>\n",
              "      <th>4</th>\n",
              "      <td>Original Data</td>\n",
              "      <td>(891, 21)</td>\n",
              "    </tr>\n",
              "    <tr>\n",
              "      <th>5</th>\n",
              "      <td>Missing Values</td>\n",
              "      <td>False</td>\n",
              "    </tr>\n",
              "    <tr>\n",
              "      <th>6</th>\n",
              "      <td>Numeric Features</td>\n",
              "      <td>17</td>\n",
              "    </tr>\n",
              "    <tr>\n",
              "      <th>7</th>\n",
              "      <td>Categorical Features</td>\n",
              "      <td>3</td>\n",
              "    </tr>\n",
              "    <tr>\n",
              "      <th>8</th>\n",
              "      <td>Ordinal Features</td>\n",
              "      <td>False</td>\n",
              "    </tr>\n",
              "    <tr>\n",
              "      <th>9</th>\n",
              "      <td>High Cardinality Features</td>\n",
              "      <td>False</td>\n",
              "    </tr>\n",
              "    <tr>\n",
              "      <th>10</th>\n",
              "      <td>High Cardinality Method</td>\n",
              "      <td>None</td>\n",
              "    </tr>\n",
              "    <tr>\n",
              "      <th>11</th>\n",
              "      <td>Transformed Train Set</td>\n",
              "      <td>(623, 33)</td>\n",
              "    </tr>\n",
              "    <tr>\n",
              "      <th>12</th>\n",
              "      <td>Transformed Test Set</td>\n",
              "      <td>(268, 33)</td>\n",
              "    </tr>\n",
              "    <tr>\n",
              "      <th>13</th>\n",
              "      <td>Shuffle Train-Test</td>\n",
              "      <td>True</td>\n",
              "    </tr>\n",
              "    <tr>\n",
              "      <th>14</th>\n",
              "      <td>Stratify Train-Test</td>\n",
              "      <td>False</td>\n",
              "    </tr>\n",
              "    <tr>\n",
              "      <th>15</th>\n",
              "      <td>Fold Generator</td>\n",
              "      <td>StratifiedKFold</td>\n",
              "    </tr>\n",
              "    <tr>\n",
              "      <th>16</th>\n",
              "      <td>Fold Number</td>\n",
              "      <td>3</td>\n",
              "    </tr>\n",
              "    <tr>\n",
              "      <th>17</th>\n",
              "      <td>CPU Jobs</td>\n",
              "      <td>-1</td>\n",
              "    </tr>\n",
              "    <tr>\n",
              "      <th>18</th>\n",
              "      <td>Use GPU</td>\n",
              "      <td>False</td>\n",
              "    </tr>\n",
              "    <tr>\n",
              "      <th>19</th>\n",
              "      <td>Log Experiment</td>\n",
              "      <td>False</td>\n",
              "    </tr>\n",
              "    <tr>\n",
              "      <th>20</th>\n",
              "      <td>Experiment Name</td>\n",
              "      <td>clf-default-name</td>\n",
              "    </tr>\n",
              "    <tr>\n",
              "      <th>21</th>\n",
              "      <td>USI</td>\n",
              "      <td>07b6</td>\n",
              "    </tr>\n",
              "    <tr>\n",
              "      <th>22</th>\n",
              "      <td>Imputation Type</td>\n",
              "      <td>simple</td>\n",
              "    </tr>\n",
              "    <tr>\n",
              "      <th>23</th>\n",
              "      <td>Iterative Imputation Iteration</td>\n",
              "      <td>None</td>\n",
              "    </tr>\n",
              "    <tr>\n",
              "      <th>24</th>\n",
              "      <td>Numeric Imputer</td>\n",
              "      <td>mean</td>\n",
              "    </tr>\n",
              "    <tr>\n",
              "      <th>25</th>\n",
              "      <td>Iterative Imputation Numeric Model</td>\n",
              "      <td>None</td>\n",
              "    </tr>\n",
              "    <tr>\n",
              "      <th>26</th>\n",
              "      <td>Categorical Imputer</td>\n",
              "      <td>constant</td>\n",
              "    </tr>\n",
              "    <tr>\n",
              "      <th>27</th>\n",
              "      <td>Iterative Imputation Categorical Model</td>\n",
              "      <td>None</td>\n",
              "    </tr>\n",
              "    <tr>\n",
              "      <th>28</th>\n",
              "      <td>Unknown Categoricals Handling</td>\n",
              "      <td>least_frequent</td>\n",
              "    </tr>\n",
              "    <tr>\n",
              "      <th>29</th>\n",
              "      <td>Normalize</td>\n",
              "      <td>False</td>\n",
              "    </tr>\n",
              "    <tr>\n",
              "      <th>30</th>\n",
              "      <td>Normalize Method</td>\n",
              "      <td>None</td>\n",
              "    </tr>\n",
              "    <tr>\n",
              "      <th>31</th>\n",
              "      <td>Transformation</td>\n",
              "      <td>False</td>\n",
              "    </tr>\n",
              "    <tr>\n",
              "      <th>32</th>\n",
              "      <td>Transformation Method</td>\n",
              "      <td>None</td>\n",
              "    </tr>\n",
              "    <tr>\n",
              "      <th>33</th>\n",
              "      <td>PCA</td>\n",
              "      <td>False</td>\n",
              "    </tr>\n",
              "    <tr>\n",
              "      <th>34</th>\n",
              "      <td>PCA Method</td>\n",
              "      <td>None</td>\n",
              "    </tr>\n",
              "    <tr>\n",
              "      <th>35</th>\n",
              "      <td>PCA Components</td>\n",
              "      <td>None</td>\n",
              "    </tr>\n",
              "    <tr>\n",
              "      <th>36</th>\n",
              "      <td>Ignore Low Variance</td>\n",
              "      <td>False</td>\n",
              "    </tr>\n",
              "    <tr>\n",
              "      <th>37</th>\n",
              "      <td>Combine Rare Levels</td>\n",
              "      <td>False</td>\n",
              "    </tr>\n",
              "    <tr>\n",
              "      <th>38</th>\n",
              "      <td>Rare Level Threshold</td>\n",
              "      <td>None</td>\n",
              "    </tr>\n",
              "    <tr>\n",
              "      <th>39</th>\n",
              "      <td>Numeric Binning</td>\n",
              "      <td>False</td>\n",
              "    </tr>\n",
              "    <tr>\n",
              "      <th>40</th>\n",
              "      <td>Remove Outliers</td>\n",
              "      <td>False</td>\n",
              "    </tr>\n",
              "    <tr>\n",
              "      <th>41</th>\n",
              "      <td>Outliers Threshold</td>\n",
              "      <td>None</td>\n",
              "    </tr>\n",
              "    <tr>\n",
              "      <th>42</th>\n",
              "      <td>Remove Multicollinearity</td>\n",
              "      <td>False</td>\n",
              "    </tr>\n",
              "    <tr>\n",
              "      <th>43</th>\n",
              "      <td>Multicollinearity Threshold</td>\n",
              "      <td>None</td>\n",
              "    </tr>\n",
              "    <tr>\n",
              "      <th>44</th>\n",
              "      <td>Clustering</td>\n",
              "      <td>False</td>\n",
              "    </tr>\n",
              "    <tr>\n",
              "      <th>45</th>\n",
              "      <td>Clustering Iteration</td>\n",
              "      <td>None</td>\n",
              "    </tr>\n",
              "    <tr>\n",
              "      <th>46</th>\n",
              "      <td>Polynomial Features</td>\n",
              "      <td>False</td>\n",
              "    </tr>\n",
              "    <tr>\n",
              "      <th>47</th>\n",
              "      <td>Polynomial Degree</td>\n",
              "      <td>None</td>\n",
              "    </tr>\n",
              "    <tr>\n",
              "      <th>48</th>\n",
              "      <td>Trignometry Features</td>\n",
              "      <td>False</td>\n",
              "    </tr>\n",
              "    <tr>\n",
              "      <th>49</th>\n",
              "      <td>Polynomial Threshold</td>\n",
              "      <td>None</td>\n",
              "    </tr>\n",
              "    <tr>\n",
              "      <th>50</th>\n",
              "      <td>Group Features</td>\n",
              "      <td>False</td>\n",
              "    </tr>\n",
              "    <tr>\n",
              "      <th>51</th>\n",
              "      <td>Feature Selection</td>\n",
              "      <td>False</td>\n",
              "    </tr>\n",
              "    <tr>\n",
              "      <th>52</th>\n",
              "      <td>Features Selection Threshold</td>\n",
              "      <td>None</td>\n",
              "    </tr>\n",
              "    <tr>\n",
              "      <th>53</th>\n",
              "      <td>Feature Interaction</td>\n",
              "      <td>False</td>\n",
              "    </tr>\n",
              "    <tr>\n",
              "      <th>54</th>\n",
              "      <td>Feature Ratio</td>\n",
              "      <td>False</td>\n",
              "    </tr>\n",
              "    <tr>\n",
              "      <th>55</th>\n",
              "      <td>Interaction Threshold</td>\n",
              "      <td>None</td>\n",
              "    </tr>\n",
              "    <tr>\n",
              "      <th>56</th>\n",
              "      <td>Fix Imbalance</td>\n",
              "      <td>False</td>\n",
              "    </tr>\n",
              "    <tr>\n",
              "      <th>57</th>\n",
              "      <td>Fix Imbalance Method</td>\n",
              "      <td>SMOTE</td>\n",
              "    </tr>\n",
              "  </tbody>\n",
              "</table>\n",
              "</div>"
            ],
            "text/plain": [
              "                               Description             Value\n",
              "0                               session_id              3218\n",
              "1                                   Target          Survived\n",
              "2                              Target Type            Binary\n",
              "3                            Label Encoded        0: 0, 1: 1\n",
              "4                            Original Data         (891, 21)\n",
              "5                           Missing Values             False\n",
              "6                         Numeric Features                17\n",
              "7                     Categorical Features                 3\n",
              "8                         Ordinal Features             False\n",
              "9                High Cardinality Features             False\n",
              "10                 High Cardinality Method              None\n",
              "11                   Transformed Train Set         (623, 33)\n",
              "12                    Transformed Test Set         (268, 33)\n",
              "13                      Shuffle Train-Test              True\n",
              "14                     Stratify Train-Test             False\n",
              "15                          Fold Generator   StratifiedKFold\n",
              "16                             Fold Number                 3\n",
              "17                                CPU Jobs                -1\n",
              "18                                 Use GPU             False\n",
              "19                          Log Experiment             False\n",
              "20                         Experiment Name  clf-default-name\n",
              "21                                     USI              07b6\n",
              "22                         Imputation Type            simple\n",
              "23          Iterative Imputation Iteration              None\n",
              "24                         Numeric Imputer              mean\n",
              "25      Iterative Imputation Numeric Model              None\n",
              "26                     Categorical Imputer          constant\n",
              "27  Iterative Imputation Categorical Model              None\n",
              "28           Unknown Categoricals Handling    least_frequent\n",
              "29                               Normalize             False\n",
              "30                        Normalize Method              None\n",
              "31                          Transformation             False\n",
              "32                   Transformation Method              None\n",
              "33                                     PCA             False\n",
              "34                              PCA Method              None\n",
              "35                          PCA Components              None\n",
              "36                     Ignore Low Variance             False\n",
              "37                     Combine Rare Levels             False\n",
              "38                    Rare Level Threshold              None\n",
              "39                         Numeric Binning             False\n",
              "40                         Remove Outliers             False\n",
              "41                      Outliers Threshold              None\n",
              "42                Remove Multicollinearity             False\n",
              "43             Multicollinearity Threshold              None\n",
              "44                              Clustering             False\n",
              "45                    Clustering Iteration              None\n",
              "46                     Polynomial Features             False\n",
              "47                       Polynomial Degree              None\n",
              "48                    Trignometry Features             False\n",
              "49                    Polynomial Threshold              None\n",
              "50                          Group Features             False\n",
              "51                       Feature Selection             False\n",
              "52            Features Selection Threshold              None\n",
              "53                     Feature Interaction             False\n",
              "54                           Feature Ratio             False\n",
              "55                   Interaction Threshold              None\n",
              "56                           Fix Imbalance             False\n",
              "57                    Fix Imbalance Method             SMOTE"
            ]
          },
          "metadata": {
            "tags": []
          }
        },
        {
          "output_type": "execute_result",
          "data": {
            "text/plain": [
              "({'Bagging': <pycaret.containers.models.classification.BaggingClassifierContainer at 0x7ffa2e5572d0>,\n",
              "  'CalibratedCV': <pycaret.containers.models.classification.CalibratedClassifierCVContainer at 0x7ffa2e557590>,\n",
              "  'Stacking': <pycaret.containers.models.classification.StackingClassifierContainer at 0x7ffa2e5573d0>,\n",
              "  'Voting': <pycaret.containers.models.classification.VotingClassifierContainer at 0x7ffa2e557510>,\n",
              "  'ada': <pycaret.containers.models.classification.AdaBoostClassifierContainer at 0x7ffa2e597150>,\n",
              "  'catboost': <pycaret.containers.models.classification.CatBoostClassifierContainer at 0x7ffa2e5bedd0>,\n",
              "  'dt': <pycaret.containers.models.classification.DecisionTreeClassifierContainer at 0x7ffa2e5974d0>,\n",
              "  'et': <pycaret.containers.models.classification.ExtraTreesClassifierContainer at 0x7ffa2e5be610>,\n",
              "  'gbc': <pycaret.containers.models.classification.GradientBoostingClassifierContainer at 0x7ffa2e5be250>,\n",
              "  'gpc': <pycaret.containers.models.classification.GaussianProcessClassifierContainer at 0x7ffa2e597290>,\n",
              "  'knn': <pycaret.containers.models.classification.KNeighborsClassifierContainer at 0x7ffa2e5972d0>,\n",
              "  'lda': <pycaret.containers.models.classification.LinearDiscriminantAnalysisContainer at 0x7ffa2e5be510>,\n",
              "  'lightgbm': <pycaret.containers.models.classification.LGBMClassifierContainer at 0x7ffa2e5bed90>,\n",
              "  'lr': <pycaret.containers.models.classification.LogisticRegressionClassifierContainer at 0x7ffa2e597190>,\n",
              "  'mlp': <pycaret.containers.models.classification.MLPClassifierContainer at 0x7ffa2e597bd0>,\n",
              "  'nb': <pycaret.containers.models.classification.GaussianNBClassifierContainer at 0x7ffa2e597410>,\n",
              "  'qda': <pycaret.containers.models.classification.QuadraticDiscriminantAnalysisContainer at 0x7ffa2e5faf50>,\n",
              "  'rbfsvm': <pycaret.containers.models.classification.SVCClassifierContainer at 0x7ffa2e597a10>,\n",
              "  'rf': <pycaret.containers.models.classification.RandomForestClassifierContainer at 0x7ffa2e5977d0>,\n",
              "  'ridge': <pycaret.containers.models.classification.RidgeClassifierContainer at 0x7ffa2e597e50>,\n",
              "  'svm': <pycaret.containers.models.classification.SGDClassifierContainer at 0x7ffa2e597750>,\n",
              "  'xgboost': <pycaret.containers.models.classification.XGBClassifierContainer at 0x7ffa2e5be950>},\n",
              " Pipeline(memory=None,\n",
              "          steps=[('dtypes',\n",
              "                  DataTypes_Auto_infer(categorical_features=[],\n",
              "                                       display_types=False, features_todrop=[],\n",
              "                                       id_columns=[],\n",
              "                                       ml_usecase='classification',\n",
              "                                       numerical_features=[], target='Survived',\n",
              "                                       time_features=[])),\n",
              "                 ('imputer',\n",
              "                  Simple_Imputer(categorical_strategy='not_available',\n",
              "                                 fill_value_categorical=None,\n",
              "                                 fill_value_numerical=None,\n",
              "                                 numeric_st...\n",
              "                 ('scaling', 'passthrough'), ('P_transform', 'passthrough'),\n",
              "                 ('binn', 'passthrough'), ('rem_outliers', 'passthrough'),\n",
              "                 ('cluster_all', 'passthrough'),\n",
              "                 ('dummy', Dummify(target='Survived')),\n",
              "                 ('fix_perfect', Remove_100(target='Survived')),\n",
              "                 ('clean_names', Clean_Colum_Names()),\n",
              "                 ('feature_select', 'passthrough'), ('fix_multi', 'passthrough'),\n",
              "                 ('dfs', 'passthrough'), ('pca', 'passthrough')],\n",
              "          verbose=False),\n",
              " [],\n",
              " 'clf-default-name',\n",
              "       Age  SibSp  Parch     Fare  ...  Embarked_Q  Embarked_S  Embarked_X  Survived\n",
              " 0    22.0      1      0   7.2500  ...           0           1           0         0\n",
              " 1    38.0      1      0  71.2833  ...           0           0           0         1\n",
              " 2    26.0      0      0   7.9250  ...           0           1           0         1\n",
              " 3    35.0      1      0  53.1000  ...           0           1           0         1\n",
              " 4    35.0      0      0   8.0500  ...           0           1           0         0\n",
              " ..    ...    ...    ...      ...  ...         ...         ...         ...       ...\n",
              " 886  27.0      0      0  13.0000  ...           0           1           0         0\n",
              " 887  19.0      0      0  30.0000  ...           0           1           0         1\n",
              " 888  25.0      1      2  23.4500  ...           0           1           0         0\n",
              " 889  26.0      0      0  30.0000  ...           0           0           0         1\n",
              " 890  32.0      0      0   7.7500  ...           1           0           0         0\n",
              " \n",
              " [891 rows x 21 columns],\n",
              " 5,\n",
              " [<pandas.io.formats.style.Styler at 0x7ffa2e557c10>],\n",
              " [('Setup Config',                                Description             Value\n",
              "   0                               session_id              3218\n",
              "   1                                   Target          Survived\n",
              "   2                              Target Type            Binary\n",
              "   3                            Label Encoded        0: 0, 1: 1\n",
              "   4                            Original Data         (891, 21)\n",
              "   5                           Missing Values             False\n",
              "   6                         Numeric Features                17\n",
              "   7                     Categorical Features                 3\n",
              "   8                         Ordinal Features             False\n",
              "   9                High Cardinality Features             False\n",
              "   10                 High Cardinality Method              None\n",
              "   11                   Transformed Train Set         (623, 33)\n",
              "   12                    Transformed Test Set         (268, 33)\n",
              "   13                      Shuffle Train-Test              True\n",
              "   14                     Stratify Train-Test             False\n",
              "   15                          Fold Generator   StratifiedKFold\n",
              "   16                             Fold Number                 3\n",
              "   17                                CPU Jobs                -1\n",
              "   18                                 Use GPU             False\n",
              "   19                          Log Experiment             False\n",
              "   20                         Experiment Name  clf-default-name\n",
              "   21                                     USI              07b6\n",
              "   22                         Imputation Type            simple\n",
              "   23          Iterative Imputation Iteration              None\n",
              "   24                         Numeric Imputer              mean\n",
              "   25      Iterative Imputation Numeric Model              None\n",
              "   26                     Categorical Imputer          constant\n",
              "   27  Iterative Imputation Categorical Model              None\n",
              "   28           Unknown Categoricals Handling    least_frequent\n",
              "   29                               Normalize             False\n",
              "   30                        Normalize Method              None\n",
              "   31                          Transformation             False\n",
              "   32                   Transformation Method              None\n",
              "   33                                     PCA             False\n",
              "   34                              PCA Method              None\n",
              "   35                          PCA Components              None\n",
              "   36                     Ignore Low Variance             False\n",
              "   37                     Combine Rare Levels             False\n",
              "   38                    Rare Level Threshold              None\n",
              "   39                         Numeric Binning             False\n",
              "   40                         Remove Outliers             False\n",
              "   41                      Outliers Threshold              None\n",
              "   42                Remove Multicollinearity             False\n",
              "   43             Multicollinearity Threshold              None\n",
              "   44                              Clustering             False\n",
              "   45                    Clustering Iteration              None\n",
              "   46                     Polynomial Features             False\n",
              "   47                       Polynomial Degree              None\n",
              "   48                    Trignometry Features             False\n",
              "   49                    Polynomial Threshold              None\n",
              "   50                          Group Features             False\n",
              "   51                       Feature Selection             False\n",
              "   52            Features Selection Threshold              None\n",
              "   53                     Feature Interaction             False\n",
              "   54                           Feature Ratio             False\n",
              "   55                   Interaction Threshold              None\n",
              "   56                           Fix Imbalance             False\n",
              "   57                    Fix Imbalance Method             SMOTE),\n",
              "  ('X_training Set',\n",
              "         Age      Fare  Sex_male  ...  Pclass_1  Pclass_2  Pclass_3\n",
              "   531  25.0    7.2292         1  ...       0.0       0.0       1.0\n",
              "   253  30.0   16.1000         1  ...       0.0       0.0       1.0\n",
              "   337  41.0  134.5000         0  ...       1.0       0.0       0.0\n",
              "   699  42.0    7.6500         1  ...       0.0       0.0       1.0\n",
              "   77   25.0    8.0500         1  ...       0.0       0.0       1.0\n",
              "   ..    ...       ...       ...  ...       ...       ...       ...\n",
              "   359  25.0    7.8792         0  ...       0.0       0.0       1.0\n",
              "   292  36.0   12.8750         1  ...       0.0       1.0       0.0\n",
              "   709  25.0   15.2458         1  ...       0.0       0.0       1.0\n",
              "   834  18.0    8.3000         1  ...       0.0       0.0       1.0\n",
              "   352  15.0    7.2292         1  ...       0.0       0.0       1.0\n",
              "   \n",
              "   [623 rows x 33 columns]),\n",
              "  ('y_training Set', 531    0\n",
              "   253    0\n",
              "   337    1\n",
              "   699    0\n",
              "   77     0\n",
              "         ..\n",
              "   359    1\n",
              "   292    0\n",
              "   709    1\n",
              "   834    0\n",
              "   352    0\n",
              "   Name: Survived, Length: 623, dtype: int64),\n",
              "  ('X_test Set',\n",
              "         Age       Fare  Sex_male  ...  Pclass_1  Pclass_2  Pclass_3\n",
              "   291  19.0  91.079201         0  ...       1.0       0.0       0.0\n",
              "   385  18.0  73.500000         1  ...       0.0       1.0       0.0\n",
              "   667  25.0   7.775000         1  ...       0.0       0.0       1.0\n",
              "   752  33.0   9.500000         1  ...       0.0       0.0       1.0\n",
              "   508  28.0  22.525000         1  ...       0.0       0.0       1.0\n",
              "   ..    ...        ...       ...  ...       ...       ...       ...\n",
              "   439  31.0  10.500000         1  ...       0.0       1.0       0.0\n",
              "   844  17.0   8.662500         1  ...       0.0       0.0       1.0\n",
              "   295  39.0  27.720800         1  ...       1.0       0.0       0.0\n",
              "   596  30.0  33.000000         0  ...       0.0       1.0       0.0\n",
              "   814  30.5   8.050000         1  ...       0.0       0.0       1.0\n",
              "   \n",
              "   [268 rows x 33 columns]),\n",
              "  ('y_test Set', 291    1\n",
              "   385    0\n",
              "   667    0\n",
              "   752    0\n",
              "   508    0\n",
              "         ..\n",
              "   439    0\n",
              "   844    0\n",
              "   295    0\n",
              "   596    1\n",
              "   814    0\n",
              "   Name: Survived, Length: 268, dtype: int64),\n",
              "  ('Transformation Pipeline', Pipeline(memory=None,\n",
              "            steps=[('dtypes',\n",
              "                    DataTypes_Auto_infer(categorical_features=[],\n",
              "                                         display_types=False, features_todrop=[],\n",
              "                                         id_columns=[],\n",
              "                                         ml_usecase='classification',\n",
              "                                         numerical_features=[], target='Survived',\n",
              "                                         time_features=[])),\n",
              "                   ('imputer',\n",
              "                    Simple_Imputer(categorical_strategy='not_available',\n",
              "                                   fill_value_categorical=None,\n",
              "                                   fill_value_numerical=None,\n",
              "                                   numeric_st...\n",
              "                   ('scaling', 'passthrough'), ('P_transform', 'passthrough'),\n",
              "                   ('binn', 'passthrough'), ('rem_outliers', 'passthrough'),\n",
              "                   ('cluster_all', 'passthrough'),\n",
              "                   ('dummy', Dummify(target='Survived')),\n",
              "                   ('fix_perfect', Remove_100(target='Survived')),\n",
              "                   ('clean_names', Clean_Colum_Names()),\n",
              "                   ('feature_select', 'passthrough'), ('fix_multi', 'passthrough'),\n",
              "                   ('dfs', 'passthrough'), ('pca', 'passthrough')],\n",
              "            verbose=False))],\n",
              " False,\n",
              " False,\n",
              " 531    0\n",
              " 253    0\n",
              " 337    1\n",
              " 699    0\n",
              " 77     0\n",
              "       ..\n",
              " 359    1\n",
              " 292    0\n",
              " 709    1\n",
              " 834    0\n",
              " 352    0\n",
              " Name: Survived, Length: 623, dtype: int64,\n",
              "       Age      Fare  Sex_male  ...  Pclass_1  Pclass_2  Pclass_3\n",
              " 531  25.0    7.2292         1  ...       0.0       0.0       1.0\n",
              " 253  30.0   16.1000         1  ...       0.0       0.0       1.0\n",
              " 337  41.0  134.5000         0  ...       1.0       0.0       0.0\n",
              " 699  42.0    7.6500         1  ...       0.0       0.0       1.0\n",
              " 77   25.0    8.0500         1  ...       0.0       0.0       1.0\n",
              " ..    ...       ...       ...  ...       ...       ...       ...\n",
              " 359  25.0    7.8792         0  ...       0.0       0.0       1.0\n",
              " 292  36.0   12.8750         1  ...       0.0       1.0       0.0\n",
              " 709  25.0   15.2458         1  ...       0.0       0.0       1.0\n",
              " 834  18.0    8.3000         1  ...       0.0       0.0       1.0\n",
              " 352  15.0    7.2292         1  ...       0.0       0.0       1.0\n",
              " \n",
              " [623 rows x 33 columns],\n",
              " False,\n",
              " {'USI',\n",
              "  'X',\n",
              "  'X_test',\n",
              "  'X_train',\n",
              "  '_all_metrics',\n",
              "  '_all_models',\n",
              "  '_all_models_internal',\n",
              "  '_available_plots',\n",
              "  '_gpu_n_jobs_param',\n",
              "  '_internal_pipeline',\n",
              "  '_ml_usecase',\n",
              "  'create_model_container',\n",
              "  'data_before_preprocess',\n",
              "  'display_container',\n",
              "  'exp_name_log',\n",
              "  'experiment__',\n",
              "  'fix_imbalance_method_param',\n",
              "  'fix_imbalance_param',\n",
              "  'fold_generator',\n",
              "  'fold_groups_param',\n",
              "  'fold_param',\n",
              "  'fold_shuffle_param',\n",
              "  'gpu_param',\n",
              "  'html_param',\n",
              "  'imputation_classifier',\n",
              "  'imputation_regressor',\n",
              "  'iterative_imputation_iters_param',\n",
              "  'log_plots_param',\n",
              "  'logging_param',\n",
              "  'master_model_container',\n",
              "  'n_jobs_param',\n",
              "  'prep_pipe',\n",
              "  'pycaret_globals',\n",
              "  'seed',\n",
              "  'stratify_param',\n",
              "  'target_param',\n",
              "  'transform_target_method_param',\n",
              "  'transform_target_param',\n",
              "  'y',\n",
              "  'y_test',\n",
              "  'y_train'},\n",
              " StratifiedKFold(n_splits=3, random_state=3218, shuffle=False),\n",
              " 'lightgbm',\n",
              " False,\n",
              " <MLUsecase.CLASSIFICATION: 1>,\n",
              " '07b6',\n",
              " 'lightgbm',\n",
              " 291    1\n",
              " 385    0\n",
              " 667    0\n",
              " 752    0\n",
              " 508    0\n",
              "       ..\n",
              " 439    0\n",
              " 844    0\n",
              " 295    0\n",
              " 596    1\n",
              " 814    0\n",
              " Name: Survived, Length: 268, dtype: int64,\n",
              " -1,\n",
              " True,\n",
              " Pipeline(memory=None, steps=[('empty_step', 'passthrough')], verbose=False),\n",
              " 0      0\n",
              " 1      1\n",
              " 2      1\n",
              " 3      1\n",
              " 4      0\n",
              "       ..\n",
              " 886    0\n",
              " 887    1\n",
              " 888    0\n",
              " 889    1\n",
              " 890    0\n",
              " Name: Survived, Length: 891, dtype: int64,\n",
              " {'ada': <pycaret.containers.models.classification.AdaBoostClassifierContainer at 0x7ffa2e695550>,\n",
              "  'catboost': <pycaret.containers.models.classification.CatBoostClassifierContainer at 0x7ffa2e5faa50>,\n",
              "  'dt': <pycaret.containers.models.classification.DecisionTreeClassifierContainer at 0x7ffa2e700a50>,\n",
              "  'et': <pycaret.containers.models.classification.ExtraTreesClassifierContainer at 0x7ffa2e700d50>,\n",
              "  'gbc': <pycaret.containers.models.classification.GradientBoostingClassifierContainer at 0x7ffa2e5eef90>,\n",
              "  'gpc': <pycaret.containers.models.classification.GaussianProcessClassifierContainer at 0x7ffa2e700fd0>,\n",
              "  'knn': <pycaret.containers.models.classification.KNeighborsClassifierContainer at 0x7ffa2e700e10>,\n",
              "  'lda': <pycaret.containers.models.classification.LinearDiscriminantAnalysisContainer at 0x7ffa2e68e710>,\n",
              "  'lightgbm': <pycaret.containers.models.classification.LGBMClassifierContainer at 0x7ffa2e5faa10>,\n",
              "  'lr': <pycaret.containers.models.classification.LogisticRegressionClassifierContainer at 0x7ffa2e700ed0>,\n",
              "  'mlp': <pycaret.containers.models.classification.MLPClassifierContainer at 0x7ffa2e6d69d0>,\n",
              "  'nb': <pycaret.containers.models.classification.GaussianNBClassifierContainer at 0x7ffa2e700a10>,\n",
              "  'qda': <pycaret.containers.models.classification.QuadraticDiscriminantAnalysisContainer at 0x7ffa2e6953d0>,\n",
              "  'rbfsvm': <pycaret.containers.models.classification.SVCClassifierContainer at 0x7ffa2e6d6b10>,\n",
              "  'rf': <pycaret.containers.models.classification.RandomForestClassifierContainer at 0x7ffa2e700950>,\n",
              "  'ridge': <pycaret.containers.models.classification.RidgeClassifierContainer at 0x7ffa2e700f50>,\n",
              "  'svm': <pycaret.containers.models.classification.SGDClassifierContainer at 0x7ffa2e6d6dd0>,\n",
              "  'xgboost': <pycaret.containers.models.classification.XGBClassifierContainer at 0x7ffa2e5fa2d0>},\n",
              " 'box-cox',\n",
              " False,\n",
              " False,\n",
              "       Age       Fare  Sex_male  ...  Pclass_1  Pclass_2  Pclass_3\n",
              " 291  19.0  91.079201         0  ...       1.0       0.0       0.0\n",
              " 385  18.0  73.500000         1  ...       0.0       1.0       0.0\n",
              " 667  25.0   7.775000         1  ...       0.0       0.0       1.0\n",
              " 752  33.0   9.500000         1  ...       0.0       0.0       1.0\n",
              " 508  28.0  22.525000         1  ...       0.0       0.0       1.0\n",
              " ..    ...        ...       ...  ...       ...       ...       ...\n",
              " 439  31.0  10.500000         1  ...       0.0       1.0       0.0\n",
              " 844  17.0   8.662500         1  ...       0.0       0.0       1.0\n",
              " 295  39.0  27.720800         1  ...       1.0       0.0       0.0\n",
              " 596  30.0  33.000000         0  ...       0.0       1.0       0.0\n",
              " 814  30.5   8.050000         1  ...       0.0       0.0       1.0\n",
              " \n",
              " [268 rows x 33 columns],\n",
              " {'auc': 'AUC',\n",
              "  'boundary': 'Decision Boundary',\n",
              "  'calibration': 'Calibration Curve',\n",
              "  'class_report': 'Class Report',\n",
              "  'confusion_matrix': 'Confusion Matrix',\n",
              "  'dimension': 'Dimensions',\n",
              "  'error': 'Prediction Error',\n",
              "  'feature': 'Feature Importance',\n",
              "  'feature_all': 'Feature Importance (All)',\n",
              "  'gain': 'Gain Chart',\n",
              "  'learning': 'Learning Curve',\n",
              "  'lift': 'Lift Chart',\n",
              "  'manifold': 'Manifold Learning',\n",
              "  'parameter': 'Hyperparameters',\n",
              "  'pr': 'Precision Recall',\n",
              "  'rfe': 'Feature Selection',\n",
              "  'threshold': 'Threshold',\n",
              "  'tree': 'Decision Tree',\n",
              "  'vc': 'Validation Curve'},\n",
              " -1,\n",
              " 3218,\n",
              " {'acc': <pycaret.containers.metrics.classification.AccuracyMetricContainer at 0x7ffa2e5576d0>,\n",
              "  'auc': <pycaret.containers.metrics.classification.ROCAUCMetricContainer at 0x7ffa2e557710>,\n",
              "  'f1': <pycaret.containers.metrics.classification.F1MetricContainer at 0x7ffa2e557a90>,\n",
              "  'kappa': <pycaret.containers.metrics.classification.KappaMetricContainer at 0x7ffa2e557c50>,\n",
              "  'mcc': <pycaret.containers.metrics.classification.MCCMetricContainer at 0x7ffa2e557cd0>,\n",
              "  'precision': <pycaret.containers.metrics.classification.PrecisionMetricContainer at 0x7ffa2e557910>,\n",
              "  'recall': <pycaret.containers.metrics.classification.RecallMetricContainer at 0x7ffa2e557790>},\n",
              " 3,\n",
              "       Age       Fare  Sex_male  ...  Pclass_1  Pclass_2  Pclass_3\n",
              " 0    22.0   7.250000         1  ...       0.0       0.0       1.0\n",
              " 1    38.0  71.283302         0  ...       1.0       0.0       0.0\n",
              " 2    26.0   7.925000         0  ...       0.0       0.0       1.0\n",
              " 3    35.0  53.099998         0  ...       1.0       0.0       0.0\n",
              " 4    35.0   8.050000         1  ...       0.0       0.0       1.0\n",
              " ..    ...        ...       ...  ...       ...       ...       ...\n",
              " 886  27.0  13.000000         1  ...       0.0       1.0       0.0\n",
              " 887  19.0  30.000000         0  ...       1.0       0.0       0.0\n",
              " 888  25.0  23.450001         0  ...       0.0       0.0       1.0\n",
              " 889  26.0  30.000000         1  ...       1.0       0.0       0.0\n",
              " 890  32.0   7.750000         1  ...       0.0       0.0       1.0\n",
              " \n",
              " [891 rows x 33 columns],\n",
              " [],\n",
              " 'Survived',\n",
              " None,\n",
              " False,\n",
              " None)"
            ]
          },
          "metadata": {
            "tags": []
          },
          "execution_count": 37
        }
      ]
    },
    {
      "cell_type": "markdown",
      "metadata": {
        "id": "BOJxvHuH8U-t"
      },
      "source": [
        "<a id=\"compare_models\"></a>\n",
        "#### (B) Comparing All Models\n",
        "- This is starting point to recommend a model, evaluating performaces of all models when the setup is completed. \n",
        "- This function trains all models in the model library and scores them using stratified cross validation for metric evaluation."
      ]
    },
    {
      "cell_type": "code",
      "metadata": {
        "trusted": true,
        "colab": {
          "base_uri": "https://localhost:8080/",
          "height": 550,
          "referenced_widgets": [
            "691807b2b36e45c6846cf53f5e09c0a2",
            "f20026f48f604accae1143b88a0f9e53",
            "e16b67d65e6649f9ad3a01a86954d481"
          ]
        },
        "id": "dx_UAH6x8U-t",
        "outputId": "2f97dc96-9c2a-4e8c-d3e5-7b0a82413bac"
      },
      "source": [
        "%%time\n",
        "\n",
        "best_model = compare_models(sort = 'Accuracy', n_select = 3)"
      ],
      "execution_count": 38,
      "outputs": [
        {
          "output_type": "display_data",
          "data": {
            "text/html": [
              "<div>\n",
              "<style scoped>\n",
              "    .dataframe tbody tr th:only-of-type {\n",
              "        vertical-align: middle;\n",
              "    }\n",
              "\n",
              "    .dataframe tbody tr th {\n",
              "        vertical-align: top;\n",
              "    }\n",
              "\n",
              "    .dataframe thead th {\n",
              "        text-align: right;\n",
              "    }\n",
              "</style>\n",
              "<table border=\"1\" class=\"dataframe\">\n",
              "  <thead>\n",
              "    <tr style=\"text-align: right;\">\n",
              "      <th></th>\n",
              "      <th>Model</th>\n",
              "      <th>Accuracy</th>\n",
              "      <th>AUC</th>\n",
              "      <th>Recall</th>\n",
              "      <th>Prec.</th>\n",
              "      <th>F1</th>\n",
              "      <th>Kappa</th>\n",
              "      <th>MCC</th>\n",
              "      <th>TT (Sec)</th>\n",
              "    </tr>\n",
              "  </thead>\n",
              "  <tbody>\n",
              "    <tr>\n",
              "      <th>catboost</th>\n",
              "      <td>CatBoost Classifier</td>\n",
              "      <td>0.8010</td>\n",
              "      <td>0.8489</td>\n",
              "      <td>0.6676</td>\n",
              "      <td>0.7913</td>\n",
              "      <td>0.7202</td>\n",
              "      <td>0.5679</td>\n",
              "      <td>0.5763</td>\n",
              "      <td>1.1667</td>\n",
              "    </tr>\n",
              "    <tr>\n",
              "      <th>lr</th>\n",
              "      <td>Logistic Regression</td>\n",
              "      <td>0.7978</td>\n",
              "      <td>0.8317</td>\n",
              "      <td>0.6928</td>\n",
              "      <td>0.7638</td>\n",
              "      <td>0.7255</td>\n",
              "      <td>0.5661</td>\n",
              "      <td>0.5687</td>\n",
              "      <td>1.2767</td>\n",
              "    </tr>\n",
              "    <tr>\n",
              "      <th>ridge</th>\n",
              "      <td>Ridge Classifier</td>\n",
              "      <td>0.7930</td>\n",
              "      <td>0.0000</td>\n",
              "      <td>0.6887</td>\n",
              "      <td>0.7554</td>\n",
              "      <td>0.7197</td>\n",
              "      <td>0.5562</td>\n",
              "      <td>0.5584</td>\n",
              "      <td>0.0300</td>\n",
              "    </tr>\n",
              "    <tr>\n",
              "      <th>lda</th>\n",
              "      <td>Linear Discriminant Analysis</td>\n",
              "      <td>0.7930</td>\n",
              "      <td>0.8294</td>\n",
              "      <td>0.6887</td>\n",
              "      <td>0.7554</td>\n",
              "      <td>0.7197</td>\n",
              "      <td>0.5562</td>\n",
              "      <td>0.5584</td>\n",
              "      <td>0.0367</td>\n",
              "    </tr>\n",
              "    <tr>\n",
              "      <th>gbc</th>\n",
              "      <td>Gradient Boosting Classifier</td>\n",
              "      <td>0.7929</td>\n",
              "      <td>0.8483</td>\n",
              "      <td>0.6470</td>\n",
              "      <td>0.7818</td>\n",
              "      <td>0.7064</td>\n",
              "      <td>0.5489</td>\n",
              "      <td>0.5560</td>\n",
              "      <td>0.1033</td>\n",
              "    </tr>\n",
              "    <tr>\n",
              "      <th>rf</th>\n",
              "      <td>Random Forest Classifier</td>\n",
              "      <td>0.7865</td>\n",
              "      <td>0.8463</td>\n",
              "      <td>0.6761</td>\n",
              "      <td>0.7503</td>\n",
              "      <td>0.7096</td>\n",
              "      <td>0.5417</td>\n",
              "      <td>0.5450</td>\n",
              "      <td>0.6067</td>\n",
              "    </tr>\n",
              "    <tr>\n",
              "      <th>ada</th>\n",
              "      <td>Ada Boost Classifier</td>\n",
              "      <td>0.7753</td>\n",
              "      <td>0.8105</td>\n",
              "      <td>0.6970</td>\n",
              "      <td>0.7148</td>\n",
              "      <td>0.7048</td>\n",
              "      <td>0.5236</td>\n",
              "      <td>0.5246</td>\n",
              "      <td>0.1200</td>\n",
              "    </tr>\n",
              "    <tr>\n",
              "      <th>xgboost</th>\n",
              "      <td>Extreme Gradient Boosting</td>\n",
              "      <td>0.7737</td>\n",
              "      <td>0.8431</td>\n",
              "      <td>0.6509</td>\n",
              "      <td>0.7420</td>\n",
              "      <td>0.6871</td>\n",
              "      <td>0.5119</td>\n",
              "      <td>0.5199</td>\n",
              "      <td>2.7200</td>\n",
              "    </tr>\n",
              "    <tr>\n",
              "      <th>et</th>\n",
              "      <td>Extra Trees Classifier</td>\n",
              "      <td>0.7496</td>\n",
              "      <td>0.8142</td>\n",
              "      <td>0.6470</td>\n",
              "      <td>0.6923</td>\n",
              "      <td>0.6662</td>\n",
              "      <td>0.4666</td>\n",
              "      <td>0.4696</td>\n",
              "      <td>0.6033</td>\n",
              "    </tr>\n",
              "    <tr>\n",
              "      <th>dt</th>\n",
              "      <td>Decision Tree Classifier</td>\n",
              "      <td>0.7384</td>\n",
              "      <td>0.7143</td>\n",
              "      <td>0.6262</td>\n",
              "      <td>0.6828</td>\n",
              "      <td>0.6491</td>\n",
              "      <td>0.4416</td>\n",
              "      <td>0.4463</td>\n",
              "      <td>0.0200</td>\n",
              "    </tr>\n",
              "    <tr>\n",
              "      <th>knn</th>\n",
              "      <td>K Neighbors Classifier</td>\n",
              "      <td>0.6822</td>\n",
              "      <td>0.6920</td>\n",
              "      <td>0.4980</td>\n",
              "      <td>0.6082</td>\n",
              "      <td>0.5467</td>\n",
              "      <td>0.3063</td>\n",
              "      <td>0.3103</td>\n",
              "      <td>0.1667</td>\n",
              "    </tr>\n",
              "    <tr>\n",
              "      <th>svm</th>\n",
              "      <td>SVM - Linear Kernel</td>\n",
              "      <td>0.5652</td>\n",
              "      <td>0.0000</td>\n",
              "      <td>0.4813</td>\n",
              "      <td>0.4846</td>\n",
              "      <td>0.4719</td>\n",
              "      <td>0.1105</td>\n",
              "      <td>0.1058</td>\n",
              "      <td>0.0200</td>\n",
              "    </tr>\n",
              "    <tr>\n",
              "      <th>qda</th>\n",
              "      <td>Quadratic Discriminant Analysis</td>\n",
              "      <td>0.4959</td>\n",
              "      <td>0.5438</td>\n",
              "      <td>0.7525</td>\n",
              "      <td>0.4179</td>\n",
              "      <td>0.5201</td>\n",
              "      <td>0.0755</td>\n",
              "      <td>0.1255</td>\n",
              "      <td>0.0300</td>\n",
              "    </tr>\n",
              "    <tr>\n",
              "      <th>nb</th>\n",
              "      <td>Naive Bayes</td>\n",
              "      <td>0.4238</td>\n",
              "      <td>0.7462</td>\n",
              "      <td>0.9669</td>\n",
              "      <td>0.3990</td>\n",
              "      <td>0.5648</td>\n",
              "      <td>0.0381</td>\n",
              "      <td>0.1004</td>\n",
              "      <td>0.0200</td>\n",
              "    </tr>\n",
              "    <tr>\n",
              "      <th>lightgbm</th>\n",
              "      <td>Light Gradient Boosting Machine</td>\n",
              "      <td>0.0000</td>\n",
              "      <td>0.0000</td>\n",
              "      <td>0.0000</td>\n",
              "      <td>0.0000</td>\n",
              "      <td>0.0000</td>\n",
              "      <td>0.0000</td>\n",
              "      <td>0.0000</td>\n",
              "      <td>0.0100</td>\n",
              "    </tr>\n",
              "  </tbody>\n",
              "</table>\n",
              "</div>"
            ],
            "text/plain": [
              "                                    Model  Accuracy     AUC  Recall   Prec.  \\\n",
              "catboost              CatBoost Classifier    0.8010  0.8489  0.6676  0.7913   \n",
              "lr                    Logistic Regression    0.7978  0.8317  0.6928  0.7638   \n",
              "ridge                    Ridge Classifier    0.7930  0.0000  0.6887  0.7554   \n",
              "lda          Linear Discriminant Analysis    0.7930  0.8294  0.6887  0.7554   \n",
              "gbc          Gradient Boosting Classifier    0.7929  0.8483  0.6470  0.7818   \n",
              "rf               Random Forest Classifier    0.7865  0.8463  0.6761  0.7503   \n",
              "ada                  Ada Boost Classifier    0.7753  0.8105  0.6970  0.7148   \n",
              "xgboost         Extreme Gradient Boosting    0.7737  0.8431  0.6509  0.7420   \n",
              "et                 Extra Trees Classifier    0.7496  0.8142  0.6470  0.6923   \n",
              "dt               Decision Tree Classifier    0.7384  0.7143  0.6262  0.6828   \n",
              "knn                K Neighbors Classifier    0.6822  0.6920  0.4980  0.6082   \n",
              "svm                   SVM - Linear Kernel    0.5652  0.0000  0.4813  0.4846   \n",
              "qda       Quadratic Discriminant Analysis    0.4959  0.5438  0.7525  0.4179   \n",
              "nb                            Naive Bayes    0.4238  0.7462  0.9669  0.3990   \n",
              "lightgbm  Light Gradient Boosting Machine    0.0000  0.0000  0.0000  0.0000   \n",
              "\n",
              "              F1   Kappa     MCC  TT (Sec)  \n",
              "catboost  0.7202  0.5679  0.5763    1.1667  \n",
              "lr        0.7255  0.5661  0.5687    1.2767  \n",
              "ridge     0.7197  0.5562  0.5584    0.0300  \n",
              "lda       0.7197  0.5562  0.5584    0.0367  \n",
              "gbc       0.7064  0.5489  0.5560    0.1033  \n",
              "rf        0.7096  0.5417  0.5450    0.6067  \n",
              "ada       0.7048  0.5236  0.5246    0.1200  \n",
              "xgboost   0.6871  0.5119  0.5199    2.7200  \n",
              "et        0.6662  0.4666  0.4696    0.6033  \n",
              "dt        0.6491  0.4416  0.4463    0.0200  \n",
              "knn       0.5467  0.3063  0.3103    0.1667  \n",
              "svm       0.4719  0.1105  0.1058    0.0200  \n",
              "qda       0.5201  0.0755  0.1255    0.0300  \n",
              "nb        0.5648  0.0381  0.1004    0.0200  \n",
              "lightgbm  0.0000  0.0000  0.0000    0.0100  "
            ]
          },
          "metadata": {
            "tags": []
          }
        },
        {
          "output_type": "stream",
          "text": [
            "CPU times: user 6.33 s, sys: 858 ms, total: 7.19 s\n",
            "Wall time: 26.9 s\n"
          ],
          "name": "stdout"
        }
      ]
    },
    {
      "cell_type": "code",
      "metadata": {
        "trusted": true,
        "colab": {
          "base_uri": "https://localhost:8080/"
        },
        "id": "mgMHIL-B8U-u",
        "outputId": "af618ed6-698b-408e-cf9d-094e4bef346c"
      },
      "source": [
        "print(best_model)"
      ],
      "execution_count": 39,
      "outputs": [
        {
          "output_type": "stream",
          "text": [
            "[<catboost.core.CatBoostClassifier object at 0x7ffa2e3e5310>, LogisticRegression(C=1.0, class_weight=None, dual=False, fit_intercept=True,\n",
            "                   intercept_scaling=1, l1_ratio=None, max_iter=1000,\n",
            "                   multi_class='auto', n_jobs=None, penalty='l2',\n",
            "                   random_state=3218, solver='lbfgs', tol=0.0001, verbose=0,\n",
            "                   warm_start=False), RidgeClassifier(alpha=1.0, class_weight=None, copy_X=True, fit_intercept=True,\n",
            "                max_iter=None, normalize=False, random_state=3218,\n",
            "                solver='auto', tol=0.001)]\n"
          ],
          "name": "stdout"
        }
      ]
    },
    {
      "cell_type": "markdown",
      "metadata": {
        "id": "ffBEsDFF8U-u"
      },
      "source": [
        "- To me, the best model is `Gradient Boosting Classifier`\n",
        "- So, We will create GBC model in this tutorial. "
      ]
    },
    {
      "cell_type": "markdown",
      "metadata": {
        "id": "WtXZiTBs8U-u"
      },
      "source": [
        "<a id=\"create_pycaret_model\"></a>\n",
        "#### (C) Create Model\n",
        "- This function creates a model and scores it using Stratified Cross Validation.The output prints a score grid that shows Accuracy, AUC, Recall, Precision, F1, Kappa and MCC by fold (default = 10 Fold). This function returns a trained model object. \n",
        "- You can create different models here. \n",
        "    + Examples: https://pycaret.org/classification/\n",
        "\n",
        "```python\n",
        "# train logistic regression model\n",
        "lr = create_model('lr') #lr is the id of the model\n",
        "# check the model library to see all models\n",
        "models()\n",
        "# train rf model using 5 fold CV\n",
        "rf = create_model('rf', fold = 5)\n",
        "# train svm model without CV\n",
        "svm = create_model('svm', cross_validation = False)\n",
        "# train xgboost model with max_depth = 10\n",
        "xgboost = create_model('xgboost', max_depth = 10)\n",
        "# train xgboost model on gpu\n",
        "xgboost_gpu = create_model('xgboost', tree_method = 'gpu_hist', gpu_id = 0) #0 is gpu-id\n",
        "# train multiple lightgbm models with n learning_rate<br>import numpy as np\n",
        "lgbms = [create_model('lightgbm', learning_rate = i) for i in np.arange(0.1,1,0.1)]\n",
        "# train custom model\n",
        "from gplearn.genetic import SymbolicClassifier\n",
        "symclf = SymbolicClassifier(generation = 50)\n",
        "sc = create_model(symclf)\n",
        "```"
      ]
    },
    {
      "cell_type": "code",
      "metadata": {
        "trusted": true,
        "colab": {
          "base_uri": "https://localhost:8080/",
          "height": 240,
          "referenced_widgets": [
            "f46305577e0049afb868331aded1fc08",
            "4cf6bc3b93da4acdbeb4f21653148310",
            "dc5e5124f6154427b3dc7a36aa449329"
          ]
        },
        "id": "K8bjkbUc8U-u",
        "outputId": "83f272cf-0a33-42ab-c610-8c31ac82e043"
      },
      "source": [
        "%%time\n",
        "gbc_model = create_model('gbc')"
      ],
      "execution_count": 40,
      "outputs": [
        {
          "output_type": "display_data",
          "data": {
            "text/html": [
              "<div>\n",
              "<style scoped>\n",
              "    .dataframe tbody tr th:only-of-type {\n",
              "        vertical-align: middle;\n",
              "    }\n",
              "\n",
              "    .dataframe tbody tr th {\n",
              "        vertical-align: top;\n",
              "    }\n",
              "\n",
              "    .dataframe thead th {\n",
              "        text-align: right;\n",
              "    }\n",
              "</style>\n",
              "<table border=\"1\" class=\"dataframe\">\n",
              "  <thead>\n",
              "    <tr style=\"text-align: right;\">\n",
              "      <th></th>\n",
              "      <th>Accuracy</th>\n",
              "      <th>AUC</th>\n",
              "      <th>Recall</th>\n",
              "      <th>Prec.</th>\n",
              "      <th>F1</th>\n",
              "      <th>Kappa</th>\n",
              "      <th>MCC</th>\n",
              "    </tr>\n",
              "  </thead>\n",
              "  <tbody>\n",
              "    <tr>\n",
              "      <th>0</th>\n",
              "      <td>0.7596</td>\n",
              "      <td>0.8347</td>\n",
              "      <td>0.6125</td>\n",
              "      <td>0.7206</td>\n",
              "      <td>0.6622</td>\n",
              "      <td>0.4775</td>\n",
              "      <td>0.4813</td>\n",
              "    </tr>\n",
              "    <tr>\n",
              "      <th>1</th>\n",
              "      <td>0.8221</td>\n",
              "      <td>0.8514</td>\n",
              "      <td>0.7284</td>\n",
              "      <td>0.7973</td>\n",
              "      <td>0.7613</td>\n",
              "      <td>0.6200</td>\n",
              "      <td>0.6216</td>\n",
              "    </tr>\n",
              "    <tr>\n",
              "      <th>2</th>\n",
              "      <td>0.7971</td>\n",
              "      <td>0.8590</td>\n",
              "      <td>0.6000</td>\n",
              "      <td>0.8276</td>\n",
              "      <td>0.6957</td>\n",
              "      <td>0.5492</td>\n",
              "      <td>0.5652</td>\n",
              "    </tr>\n",
              "    <tr>\n",
              "      <th>Mean</th>\n",
              "      <td>0.7929</td>\n",
              "      <td>0.8483</td>\n",
              "      <td>0.6470</td>\n",
              "      <td>0.7818</td>\n",
              "      <td>0.7064</td>\n",
              "      <td>0.5489</td>\n",
              "      <td>0.5560</td>\n",
              "    </tr>\n",
              "    <tr>\n",
              "      <th>SD</th>\n",
              "      <td>0.0257</td>\n",
              "      <td>0.0102</td>\n",
              "      <td>0.0578</td>\n",
              "      <td>0.0450</td>\n",
              "      <td>0.0412</td>\n",
              "      <td>0.0582</td>\n",
              "      <td>0.0576</td>\n",
              "    </tr>\n",
              "  </tbody>\n",
              "</table>\n",
              "</div>"
            ],
            "text/plain": [
              "      Accuracy     AUC  Recall   Prec.      F1   Kappa     MCC\n",
              "0       0.7596  0.8347  0.6125  0.7206  0.6622  0.4775  0.4813\n",
              "1       0.8221  0.8514  0.7284  0.7973  0.7613  0.6200  0.6216\n",
              "2       0.7971  0.8590  0.6000  0.8276  0.6957  0.5492  0.5652\n",
              "Mean    0.7929  0.8483  0.6470  0.7818  0.7064  0.5489  0.5560\n",
              "SD      0.0257  0.0102  0.0578  0.0450  0.0412  0.0582  0.0576"
            ]
          },
          "metadata": {
            "tags": []
          }
        },
        {
          "output_type": "stream",
          "text": [
            "CPU times: user 435 ms, sys: 9.59 ms, total: 445 ms\n",
            "Wall time: 760 ms\n"
          ],
          "name": "stdout"
        }
      ]
    },
    {
      "cell_type": "markdown",
      "metadata": {
        "id": "Fbph5zNh8U-u"
      },
      "source": [
        "<a id=\"tune_pycaret_model\"></a>\n",
        "#### (D) Tune Model\n",
        "- This function tunes the hyperparameters of a model and scores it using Stratified Cross Validation. The output prints a score grid that shows Accuracy, AUC, Recall Precision, F1, Kappa, and MCCby fold (by default = 10 Folds). This function returns a trained model object.\n",
        "    + Examples: https://pycaret.org/classification/#tune-model\n",
        "    \n",
        "```python\n",
        "# train a decision tree model with default parameters\n",
        "dt = create_model('dt')\n",
        "\n",
        "# tune hyperparameters of decision tree\n",
        "tuned_dt = tune_model(dt)\n",
        "\n",
        "# tune hyperparameters with increased n_iter\n",
        "tuned_dt = tune_model(dt, n_iter = 50)\n",
        "\n",
        "# tune hyperparameters to optimize AUC\n",
        "tuned_dt = tune_model(dt, optimize = 'AUC') #default is 'Accuracy'\n",
        "\n",
        "# tune hyperparameters with custom_grid\n",
        "params = {\"max_depth\": np.random.randint(1, (len(data.columns)*.85),20),\n",
        "          \"max_features\": np.random.randint(1, len(data.columns),20),\n",
        "          \"min_samples_leaf\": [2,3,4,5,6],\n",
        "          \"criterion\": [\"gini\", \"entropy\"]\n",
        "          }\n",
        "\n",
        "tuned_dt_custom = tune_model(dt, custom_grid = params)\n",
        "\n",
        "# tune multiple models dynamically\n",
        "top3 = compare_models(n_select = 3)\n",
        "tuned_top3 = [tune_model(i) for i in top3]\n",
        "```"
      ]
    },
    {
      "cell_type": "code",
      "metadata": {
        "trusted": true,
        "colab": {
          "base_uri": "https://localhost:8080/",
          "height": 240,
          "referenced_widgets": [
            "08bbf175579d4a3b9a472a2b0f688956",
            "8dd7c85d83a9445697c2157068bd9678",
            "8f17563e11904aaba43cd288dd08986e"
          ]
        },
        "id": "UejDBtFP8U-u",
        "outputId": "28bdb451-3da2-44ef-c8a2-c6eef08974ca"
      },
      "source": [
        "%%time\n",
        "tuned_gbc = tune_model(gbc_model, n_iter = 50)"
      ],
      "execution_count": 41,
      "outputs": [
        {
          "output_type": "display_data",
          "data": {
            "text/html": [
              "<div>\n",
              "<style scoped>\n",
              "    .dataframe tbody tr th:only-of-type {\n",
              "        vertical-align: middle;\n",
              "    }\n",
              "\n",
              "    .dataframe tbody tr th {\n",
              "        vertical-align: top;\n",
              "    }\n",
              "\n",
              "    .dataframe thead th {\n",
              "        text-align: right;\n",
              "    }\n",
              "</style>\n",
              "<table border=\"1\" class=\"dataframe\">\n",
              "  <thead>\n",
              "    <tr style=\"text-align: right;\">\n",
              "      <th></th>\n",
              "      <th>Accuracy</th>\n",
              "      <th>AUC</th>\n",
              "      <th>Recall</th>\n",
              "      <th>Prec.</th>\n",
              "      <th>F1</th>\n",
              "      <th>Kappa</th>\n",
              "      <th>MCC</th>\n",
              "    </tr>\n",
              "  </thead>\n",
              "  <tbody>\n",
              "    <tr>\n",
              "      <th>0</th>\n",
              "      <td>0.7981</td>\n",
              "      <td>0.8479</td>\n",
              "      <td>0.6625</td>\n",
              "      <td>0.7794</td>\n",
              "      <td>0.7162</td>\n",
              "      <td>0.5611</td>\n",
              "      <td>0.5656</td>\n",
              "    </tr>\n",
              "    <tr>\n",
              "      <th>1</th>\n",
              "      <td>0.8462</td>\n",
              "      <td>0.8688</td>\n",
              "      <td>0.8025</td>\n",
              "      <td>0.8025</td>\n",
              "      <td>0.8025</td>\n",
              "      <td>0.6765</td>\n",
              "      <td>0.6765</td>\n",
              "    </tr>\n",
              "    <tr>\n",
              "      <th>2</th>\n",
              "      <td>0.7874</td>\n",
              "      <td>0.8440</td>\n",
              "      <td>0.6250</td>\n",
              "      <td>0.7812</td>\n",
              "      <td>0.6944</td>\n",
              "      <td>0.5345</td>\n",
              "      <td>0.5424</td>\n",
              "    </tr>\n",
              "    <tr>\n",
              "      <th>Mean</th>\n",
              "      <td>0.8106</td>\n",
              "      <td>0.8536</td>\n",
              "      <td>0.6967</td>\n",
              "      <td>0.7877</td>\n",
              "      <td>0.7377</td>\n",
              "      <td>0.5907</td>\n",
              "      <td>0.5948</td>\n",
              "    </tr>\n",
              "    <tr>\n",
              "      <th>SD</th>\n",
              "      <td>0.0255</td>\n",
              "      <td>0.0109</td>\n",
              "      <td>0.0764</td>\n",
              "      <td>0.0105</td>\n",
              "      <td>0.0466</td>\n",
              "      <td>0.0616</td>\n",
              "      <td>0.0585</td>\n",
              "    </tr>\n",
              "  </tbody>\n",
              "</table>\n",
              "</div>"
            ],
            "text/plain": [
              "      Accuracy     AUC  Recall   Prec.      F1   Kappa     MCC\n",
              "0       0.7981  0.8479  0.6625  0.7794  0.7162  0.5611  0.5656\n",
              "1       0.8462  0.8688  0.8025  0.8025  0.8025  0.6765  0.6765\n",
              "2       0.7874  0.8440  0.6250  0.7812  0.6944  0.5345  0.5424\n",
              "Mean    0.8106  0.8536  0.6967  0.7877  0.7377  0.5907  0.5948\n",
              "SD      0.0255  0.0109  0.0764  0.0105  0.0466  0.0616  0.0585"
            ]
          },
          "metadata": {
            "tags": []
          }
        },
        {
          "output_type": "stream",
          "text": [
            "CPU times: user 1.31 s, sys: 47.5 ms, total: 1.35 s\n",
            "Wall time: 18.4 s\n"
          ],
          "name": "stdout"
        }
      ]
    },
    {
      "cell_type": "markdown",
      "metadata": {
        "id": "6rgkKAbM8U-v"
      },
      "source": [
        "<a id = \"plot_pycaret_model\"></a>\n",
        "#### (E) Plot Model\n",
        "- This function takes a trained model object and returns a plot based on the test / hold-out set. The process may require the model to be re-trained in certain cases. See list of plots supported below. Model must be created using create_model() or tune_model().\n",
        "    + Examples: https://pycaret.org/classification/#plot-model\n",
        "\n",
        "```python\n",
        "#create a model\n",
        "lr = create_model('lr')\n",
        "#plot a model\n",
        "plot_model(lr)\n",
        "```\n",
        "\n",
        "- Many options are avaiable. "
      ]
    },
    {
      "cell_type": "code",
      "metadata": {
        "trusted": true,
        "colab": {
          "base_uri": "https://localhost:8080/",
          "height": 401
        },
        "id": "antRiszM8U-v",
        "outputId": "5fb2be3d-dcb0-4d84-a9db-36b9b82c1640"
      },
      "source": [
        "plot_model(tuned_gbc, plot = 'confusion_matrix')"
      ],
      "execution_count": 42,
      "outputs": [
        {
          "output_type": "display_data",
          "data": {
            "image/png": "[encoded data removed]",
            "text/plain": [
              "<Figure size 576x396 with 1 Axes>"
            ]
          },
          "metadata": {
            "tags": []
          }
        }
      ]
    },
    {
      "cell_type": "code",
      "metadata": {
        "trusted": true,
        "colab": {
          "base_uri": "https://localhost:8080/",
          "height": 1000
        },
        "id": "nRZ55YtI8U-v",
        "outputId": "67297c6a-75dc-4d42-a7bc-8d14c9ff38b1"
      },
      "source": [
        "plot_model(tuned_gbc, plot = 'feature_all')"
      ],
      "execution_count": 43,
      "outputs": [
        {
          "output_type": "display_data",
          "data": {
            "image/png": "[encoded data removed]",
            "text/plain": [
              "<Figure size 800x1500 with 1 Axes>"
            ]
          },
          "metadata": {
            "tags": []
          }
        }
      ]
    },
    {
      "cell_type": "code",
      "metadata": {
        "trusted": true,
        "colab": {
          "base_uri": "https://localhost:8080/",
          "height": 376
        },
        "id": "u0l4tKuC8U-v",
        "outputId": "896c0f32-f2f2-4027-b6f4-2a77d62be461"
      },
      "source": [
        "plot_model(tuned_gbc, plot = 'auc')"
      ],
      "execution_count": 44,
      "outputs": [
        {
          "output_type": "display_data",
          "data": {
            "image/png": "[encoded data removed]",
            "text/plain": [
              "<Figure size 576x396 with 1 Axes>"
            ]
          },
          "metadata": {
            "tags": []
          }
        }
      ]
    },
    {
      "cell_type": "markdown",
      "metadata": {
        "id": "DfzNxcSl8U-v"
      },
      "source": [
        "<a id=\"preds_submissions\"></a>\n",
        "#### (F) Predictions and Submissions\n",
        "- Now, it's time to predict and submit it. \n"
      ]
    },
    {
      "cell_type": "code",
      "metadata": {
        "trusted": true,
        "colab": {
          "base_uri": "https://localhost:8080/"
        },
        "id": "SMqIGy4X8U-v",
        "outputId": "b5ef6d77-b07c-4610-b627-dbaefc89660a"
      },
      "source": [
        "predictions = predict_model(tuned_gbc, data = test_data)\n",
        "predictions.info()"
      ],
      "execution_count": 45,
      "outputs": [
        {
          "output_type": "stream",
          "text": [
            "<class 'pandas.core.frame.DataFrame'>\n",
            "Int64Index: 418 entries, 0 to 417\n",
            "Data columns (total 22 columns):\n",
            " #   Column        Non-Null Count  Dtype  \n",
            "---  ------        --------------  -----  \n",
            " 0   Age           418 non-null    float64\n",
            " 1   SibSp         418 non-null    int64  \n",
            " 2   Parch         418 non-null    int64  \n",
            " 3   Fare          418 non-null    float64\n",
            " 4   Pclass        418 non-null    int64  \n",
            " 5   Sex_female    418 non-null    uint8  \n",
            " 6   Sex_male      418 non-null    uint8  \n",
            " 7   Cabin_Code_A  418 non-null    uint8  \n",
            " 8   Cabin_Code_B  418 non-null    uint8  \n",
            " 9   Cabin_Code_C  418 non-null    uint8  \n",
            " 10  Cabin_Code_D  418 non-null    uint8  \n",
            " 11  Cabin_Code_E  418 non-null    uint8  \n",
            " 12  Cabin_Code_F  418 non-null    uint8  \n",
            " 13  Cabin_Code_G  418 non-null    uint8  \n",
            " 14  Cabin_Code_N  418 non-null    uint8  \n",
            " 15  Cabin_Code_T  418 non-null    uint8  \n",
            " 16  Embarked_C    418 non-null    uint8  \n",
            " 17  Embarked_Q    418 non-null    uint8  \n",
            " 18  Embarked_S    418 non-null    uint8  \n",
            " 19  Embarked_X    418 non-null    uint8  \n",
            " 20  Label         418 non-null    int64  \n",
            " 21  Score         418 non-null    float64\n",
            "dtypes: float64(3), int64(4), uint8(15)\n",
            "memory usage: 32.2 KB\n"
          ],
          "name": "stdout"
        }
      ]
    },
    {
      "cell_type": "code",
      "metadata": {
        "trusted": true,
        "colab": {
          "base_uri": "https://localhost:8080/",
          "height": 204
        },
        "id": "Z8GB4NxS8U-v",
        "outputId": "dc9071d1-68a6-48a8-bae6-46b33cd7d8f3"
      },
      "source": [
        "submission = pd.read_csv(BASE_DIR + 'gender_submission.csv')\n",
        "submission['Survived'] = predictions['Label']\n",
        "submission.to_csv('PyCaret Submission.csv', index=False)\n",
        "submission.head()"
      ],
      "execution_count": 46,
      "outputs": [
        {
          "output_type": "execute_result",
          "data": {
            "text/html": [
              "<div>\n",
              "<style scoped>\n",
              "    .dataframe tbody tr th:only-of-type {\n",
              "        vertical-align: middle;\n",
              "    }\n",
              "\n",
              "    .dataframe tbody tr th {\n",
              "        vertical-align: top;\n",
              "    }\n",
              "\n",
              "    .dataframe thead th {\n",
              "        text-align: right;\n",
              "    }\n",
              "</style>\n",
              "<table border=\"1\" class=\"dataframe\">\n",
              "  <thead>\n",
              "    <tr style=\"text-align: right;\">\n",
              "      <th></th>\n",
              "      <th>PassengerId</th>\n",
              "      <th>Survived</th>\n",
              "    </tr>\n",
              "  </thead>\n",
              "  <tbody>\n",
              "    <tr>\n",
              "      <th>0</th>\n",
              "      <td>892</td>\n",
              "      <td>0</td>\n",
              "    </tr>\n",
              "    <tr>\n",
              "      <th>1</th>\n",
              "      <td>893</td>\n",
              "      <td>0</td>\n",
              "    </tr>\n",
              "    <tr>\n",
              "      <th>2</th>\n",
              "      <td>894</td>\n",
              "      <td>0</td>\n",
              "    </tr>\n",
              "    <tr>\n",
              "      <th>3</th>\n",
              "      <td>895</td>\n",
              "      <td>0</td>\n",
              "    </tr>\n",
              "    <tr>\n",
              "      <th>4</th>\n",
              "      <td>896</td>\n",
              "      <td>0</td>\n",
              "    </tr>\n",
              "  </tbody>\n",
              "</table>\n",
              "</div>"
            ],
            "text/plain": [
              "   PassengerId  Survived\n",
              "0          892         0\n",
              "1          893         0\n",
              "2          894         0\n",
              "3          895         0\n",
              "4          896         0"
            ]
          },
          "metadata": {
            "tags": []
          },
          "execution_count": 46
        }
      ]
    },
    {
      "cell_type": "markdown",
      "metadata": {
        "id": "JUP6p-VI8U-v"
      },
      "source": [
        "- Finally Done. I will review the framework later. "
      ]
    },
    {
      "cell_type": "markdown",
      "metadata": {
        "id": "-Jq5p0Uw8U-w"
      },
      "source": [
        "#### "
      ]
    }
  ]
}