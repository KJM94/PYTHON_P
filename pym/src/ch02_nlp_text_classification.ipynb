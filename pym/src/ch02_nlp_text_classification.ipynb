{
  "nbformat": 4,
  "nbformat_minor": 0,
  "metadata": {
    "colab": {
      "name": "ch02_nlp_text_classification.ipynb",
      "provenance": [],
      "collapsed_sections": [],
      "toc_visible": true,
      "include_colab_link": true
    },
    "kernelspec": {
      "display_name": "Python 3",
      "name": "python3"
    },
    "accelerator": "GPU"
  },
  "cells": [
    {
      "cell_type": "markdown",
      "metadata": {
        "id": "view-in-github",
        "colab_type": "text"
      },
      "source": [
        "<a href=\"https://colab.research.google.com/github/KJM94/pym/blob/main/src/ch02_nlp_text_classification.ipynb\" target=\"_parent\"><img src=\"https://colab.research.google.com/assets/colab-badge.svg\" alt=\"Open In Colab\"/></a>"
      ]
    },
    {
      "cell_type": "markdown",
      "metadata": {
        "id": "fDA8G_nYAoZ_"
      },
      "source": [
        "## Kaggle API"
      ]
    },
    {
      "cell_type": "code",
      "metadata": {
        "id": "J_bQpLw3Bqn7"
      },
      "source": [
        "!mkdir ~/.kaggle\n",
        "!echo '{\"username\":\"kwonjungmin\",\"key\":\"71b01b2de87cdc8cf37537ed0b9057b2\"}' > ~/.kaggle/kaggle.json\n",
        "!chmod 600 ~/.kaggle/kaggle.json"
      ],
      "execution_count": 1,
      "outputs": []
    },
    {
      "cell_type": "code",
      "metadata": {
        "colab": {
          "base_uri": "https://localhost:8080/"
        },
        "id": "c2YP34MX3SFZ",
        "outputId": "3e36f117-f82a-4a8f-bfa9-950b2f9fe7d5"
      },
      "source": [
        "!pip install kaggle"
      ],
      "execution_count": 2,
      "outputs": [
        {
          "output_type": "stream",
          "text": [
            "Requirement already satisfied: kaggle in /usr/local/lib/python3.7/dist-packages (1.5.12)\n",
            "Requirement already satisfied: certifi in /usr/local/lib/python3.7/dist-packages (from kaggle) (2020.12.5)\n",
            "Requirement already satisfied: requests in /usr/local/lib/python3.7/dist-packages (from kaggle) (2.23.0)\n",
            "Requirement already satisfied: tqdm in /usr/local/lib/python3.7/dist-packages (from kaggle) (4.41.1)\n",
            "Requirement already satisfied: python-slugify in /usr/local/lib/python3.7/dist-packages (from kaggle) (4.0.1)\n",
            "Requirement already satisfied: python-dateutil in /usr/local/lib/python3.7/dist-packages (from kaggle) (2.8.1)\n",
            "Requirement already satisfied: six>=1.10 in /usr/local/lib/python3.7/dist-packages (from kaggle) (1.15.0)\n",
            "Requirement already satisfied: urllib3 in /usr/local/lib/python3.7/dist-packages (from kaggle) (1.24.3)\n",
            "Requirement already satisfied: chardet<4,>=3.0.2 in /usr/local/lib/python3.7/dist-packages (from requests->kaggle) (3.0.4)\n",
            "Requirement already satisfied: idna<3,>=2.5 in /usr/local/lib/python3.7/dist-packages (from requests->kaggle) (2.10)\n",
            "Requirement already satisfied: text-unidecode>=1.3 in /usr/local/lib/python3.7/dist-packages (from python-slugify->kaggle) (1.3)\n"
          ],
          "name": "stdout"
        }
      ]
    },
    {
      "cell_type": "code",
      "metadata": {
        "colab": {
          "resources": {
            "http://localhost:8080/nbextensions/google.colab/files.js": {
              "data": "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",
              "ok": true,
              "headers": [
                [
                  "content-type",
                  "application/javascript"
                ]
              ],
              "status": 200,
              "status_text": ""
            }
          },
          "base_uri": "https://localhost:8080/",
          "height": 418
        },
        "id": "CVEIe_pvA4bl",
        "outputId": "b6d5c783-dd30-4dbe-b3d8-97a289b1a070"
      },
      "source": [
        "from google.colab import files\n",
        "\n",
        "uploaded = files.upload()\n",
        "\n",
        "for fn in uploaded.keys():\n",
        "  print('User uploaded file \"{name}\" with length {length} bytes'.format(\n",
        "      name=fn, length=len(uploaded[fn])))\n",
        "  \n",
        "# Then move kaggle.json into the folder where the API expects to find it.\n",
        "!mkdir -p ~/.kaggle/ && mv kaggle.json ~/.kaggle/ && chmod 600 ~/.kaggle/kaggle.json"
      ],
      "execution_count": 35,
      "outputs": [
        {
          "output_type": "display_data",
          "data": {
            "text/html": [
              "\n",
              "     <input type=\"file\" id=\"files-a6ca2ff3-1d87-4553-8103-c39abf9ecb13\" name=\"files[]\" multiple disabled\n",
              "        style=\"border:none\" />\n",
              "     <output id=\"result-a6ca2ff3-1d87-4553-8103-c39abf9ecb13\">\n",
              "      Upload widget is only available when the cell has been executed in the\n",
              "      current browser session. Please rerun this cell to enable.\n",
              "      </output>\n",
              "      <script src=\"/nbextensions/google.colab/files.js\"></script> "
            ],
            "text/plain": [
              "<IPython.core.display.HTML object>"
            ]
          },
          "metadata": {
            "tags": []
          }
        },
        {
          "output_type": "error",
          "ename": "KeyboardInterrupt",
          "evalue": "ignored",
          "traceback": [
            "\u001b[0;31m---------------------------------------------------------------------------\u001b[0m",
            "\u001b[0;31mKeyboardInterrupt\u001b[0m                         Traceback (most recent call last)",
            "\u001b[0;32m<ipython-input-35-5e2b5f92ba05>\u001b[0m in \u001b[0;36m<module>\u001b[0;34m()\u001b[0m\n\u001b[1;32m      1\u001b[0m \u001b[0;32mfrom\u001b[0m \u001b[0mgoogle\u001b[0m\u001b[0;34m.\u001b[0m\u001b[0mcolab\u001b[0m \u001b[0;32mimport\u001b[0m \u001b[0mfiles\u001b[0m\u001b[0;34m\u001b[0m\u001b[0;34m\u001b[0m\u001b[0m\n\u001b[1;32m      2\u001b[0m \u001b[0;34m\u001b[0m\u001b[0m\n\u001b[0;32m----> 3\u001b[0;31m \u001b[0muploaded\u001b[0m \u001b[0;34m=\u001b[0m \u001b[0mfiles\u001b[0m\u001b[0;34m.\u001b[0m\u001b[0mupload\u001b[0m\u001b[0;34m(\u001b[0m\u001b[0;34m)\u001b[0m\u001b[0;34m\u001b[0m\u001b[0;34m\u001b[0m\u001b[0m\n\u001b[0m\u001b[1;32m      4\u001b[0m \u001b[0;34m\u001b[0m\u001b[0m\n\u001b[1;32m      5\u001b[0m \u001b[0;32mfor\u001b[0m \u001b[0mfn\u001b[0m \u001b[0;32min\u001b[0m \u001b[0muploaded\u001b[0m\u001b[0;34m.\u001b[0m\u001b[0mkeys\u001b[0m\u001b[0;34m(\u001b[0m\u001b[0;34m)\u001b[0m\u001b[0;34m:\u001b[0m\u001b[0;34m\u001b[0m\u001b[0;34m\u001b[0m\u001b[0m\n",
            "\u001b[0;32m/usr/local/lib/python3.7/dist-packages/google/colab/files.py\u001b[0m in \u001b[0;36mupload\u001b[0;34m()\u001b[0m\n\u001b[1;32m     62\u001b[0m   result = _output.eval_js(\n\u001b[1;32m     63\u001b[0m       'google.colab._files._uploadFiles(\"{input_id}\", \"{output_id}\")'.format(\n\u001b[0;32m---> 64\u001b[0;31m           input_id=input_id, output_id=output_id))\n\u001b[0m\u001b[1;32m     65\u001b[0m   \u001b[0mfiles\u001b[0m \u001b[0;34m=\u001b[0m \u001b[0m_collections\u001b[0m\u001b[0;34m.\u001b[0m\u001b[0mdefaultdict\u001b[0m\u001b[0;34m(\u001b[0m\u001b[0m_six\u001b[0m\u001b[0;34m.\u001b[0m\u001b[0mbinary_type\u001b[0m\u001b[0;34m)\u001b[0m\u001b[0;34m\u001b[0m\u001b[0;34m\u001b[0m\u001b[0m\n\u001b[1;32m     66\u001b[0m   \u001b[0;31m# Mapping from original filename to filename as saved locally.\u001b[0m\u001b[0;34m\u001b[0m\u001b[0;34m\u001b[0m\u001b[0;34m\u001b[0m\u001b[0m\n",
            "\u001b[0;32m/usr/local/lib/python3.7/dist-packages/google/colab/output/_js.py\u001b[0m in \u001b[0;36meval_js\u001b[0;34m(script, ignore_result, timeout_sec)\u001b[0m\n\u001b[1;32m     38\u001b[0m   \u001b[0;32mif\u001b[0m \u001b[0mignore_result\u001b[0m\u001b[0;34m:\u001b[0m\u001b[0;34m\u001b[0m\u001b[0;34m\u001b[0m\u001b[0m\n\u001b[1;32m     39\u001b[0m     \u001b[0;32mreturn\u001b[0m\u001b[0;34m\u001b[0m\u001b[0;34m\u001b[0m\u001b[0m\n\u001b[0;32m---> 40\u001b[0;31m   \u001b[0;32mreturn\u001b[0m \u001b[0m_message\u001b[0m\u001b[0;34m.\u001b[0m\u001b[0mread_reply_from_input\u001b[0m\u001b[0;34m(\u001b[0m\u001b[0mrequest_id\u001b[0m\u001b[0;34m,\u001b[0m \u001b[0mtimeout_sec\u001b[0m\u001b[0;34m)\u001b[0m\u001b[0;34m\u001b[0m\u001b[0;34m\u001b[0m\u001b[0m\n\u001b[0m\u001b[1;32m     41\u001b[0m \u001b[0;34m\u001b[0m\u001b[0m\n\u001b[1;32m     42\u001b[0m \u001b[0;34m\u001b[0m\u001b[0m\n",
            "\u001b[0;32m/usr/local/lib/python3.7/dist-packages/google/colab/_message.py\u001b[0m in \u001b[0;36mread_reply_from_input\u001b[0;34m(message_id, timeout_sec)\u001b[0m\n\u001b[1;32m     99\u001b[0m     \u001b[0mreply\u001b[0m \u001b[0;34m=\u001b[0m \u001b[0m_read_next_input_message\u001b[0m\u001b[0;34m(\u001b[0m\u001b[0;34m)\u001b[0m\u001b[0;34m\u001b[0m\u001b[0;34m\u001b[0m\u001b[0m\n\u001b[1;32m    100\u001b[0m     \u001b[0;32mif\u001b[0m \u001b[0mreply\u001b[0m \u001b[0;34m==\u001b[0m \u001b[0m_NOT_READY\u001b[0m \u001b[0;32mor\u001b[0m \u001b[0;32mnot\u001b[0m \u001b[0misinstance\u001b[0m\u001b[0;34m(\u001b[0m\u001b[0mreply\u001b[0m\u001b[0;34m,\u001b[0m \u001b[0mdict\u001b[0m\u001b[0;34m)\u001b[0m\u001b[0;34m:\u001b[0m\u001b[0;34m\u001b[0m\u001b[0;34m\u001b[0m\u001b[0m\n\u001b[0;32m--> 101\u001b[0;31m       \u001b[0mtime\u001b[0m\u001b[0;34m.\u001b[0m\u001b[0msleep\u001b[0m\u001b[0;34m(\u001b[0m\u001b[0;36m0.025\u001b[0m\u001b[0;34m)\u001b[0m\u001b[0;34m\u001b[0m\u001b[0;34m\u001b[0m\u001b[0m\n\u001b[0m\u001b[1;32m    102\u001b[0m       \u001b[0;32mcontinue\u001b[0m\u001b[0;34m\u001b[0m\u001b[0;34m\u001b[0m\u001b[0m\n\u001b[1;32m    103\u001b[0m     if (reply.get('type') == 'colab_reply' and\n",
            "\u001b[0;31mKeyboardInterrupt\u001b[0m: "
          ]
        }
      ]
    },
    {
      "cell_type": "code",
      "metadata": {
        "colab": {
          "base_uri": "https://localhost:8080/"
        },
        "id": "MAuFeb8gA-ID",
        "outputId": "aedad9f4-57d1-44ce-cb28-4c03cf617b73"
      },
      "source": [
        "!kaggle competitions download -c nlp-getting-started"
      ],
      "execution_count": 3,
      "outputs": [
        {
          "output_type": "stream",
          "text": [
            "Warning: Looks like you're using an outdated API Version, please consider updating (server 1.5.12 / client 1.5.4)\n",
            "Downloading train.csv to /content\n",
            "  0% 0.00/965k [00:00<?, ?B/s]\n",
            "100% 965k/965k [00:00<00:00, 65.8MB/s]\n",
            "Downloading sample_submission.csv to /content\n",
            "  0% 0.00/22.2k [00:00<?, ?B/s]\n",
            "100% 22.2k/22.2k [00:00<00:00, 21.2MB/s]\n",
            "Downloading test.csv to /content\n",
            "  0% 0.00/411k [00:00<?, ?B/s]\n",
            "100% 411k/411k [00:00<00:00, 134MB/s]\n"
          ],
          "name": "stdout"
        }
      ]
    },
    {
      "cell_type": "code",
      "metadata": {
        "colab": {
          "base_uri": "https://localhost:8080/"
        },
        "id": "9CeRCavggpTq",
        "outputId": "277cfb7c-6275-4619-d978-c5b933d2b049"
      },
      "source": [
        "import os \n",
        "DATA_PATH = \"./\"\n",
        "for file in os.listdir(DATA_PATH):\n",
        "  if 'csv' in file and 'zip' not in file:\n",
        "    print(file.ljust(30) + str(round(os.path.getsize(file) / 1000000, 2)) + 'MB')"
      ],
      "execution_count": 4,
      "outputs": [
        {
          "output_type": "stream",
          "text": [
            "test.csv                      0.42MB\n",
            "train.csv                     0.99MB\n",
            "sample_submission.csv         0.02MB\n"
          ],
          "name": "stdout"
        }
      ]
    },
    {
      "cell_type": "markdown",
      "metadata": {
        "id": "vmp2Qm97BB4H"
      },
      "source": [
        "## 데이터 둘러보기"
      ]
    },
    {
      "cell_type": "code",
      "metadata": {
        "colab": {
          "base_uri": "https://localhost:8080/"
        },
        "id": "NrnGWhdxBGtG",
        "outputId": "9fefd361-8c4f-427d-c5b7-c312b4730f61"
      },
      "source": [
        "import pandas as pd \n",
        "train = pd.read_csv('train.csv')\n",
        "test = pd.read_csv('test.csv')\n",
        "print('Data Loading is done!')"
      ],
      "execution_count": 5,
      "outputs": [
        {
          "output_type": "stream",
          "text": [
            "Data Loading is done!\n"
          ],
          "name": "stdout"
        }
      ]
    },
    {
      "cell_type": "markdown",
      "metadata": {
        "id": "4KA4v81dGBBO"
      },
      "source": [
        "### 데이터 셋 확인\n"
      ]
    },
    {
      "cell_type": "code",
      "metadata": {
        "colab": {
          "base_uri": "https://localhost:8080/",
          "height": 204
        },
        "id": "8XbpfhyBchvR",
        "outputId": "aedfe134-4458-490e-b5d3-e22dd3032c2c"
      },
      "source": [
        "train.head()"
      ],
      "execution_count": 6,
      "outputs": [
        {
          "output_type": "execute_result",
          "data": {
            "text/html": [
              "<div>\n",
              "<style scoped>\n",
              "    .dataframe tbody tr th:only-of-type {\n",
              "        vertical-align: middle;\n",
              "    }\n",
              "\n",
              "    .dataframe tbody tr th {\n",
              "        vertical-align: top;\n",
              "    }\n",
              "\n",
              "    .dataframe thead th {\n",
              "        text-align: right;\n",
              "    }\n",
              "</style>\n",
              "<table border=\"1\" class=\"dataframe\">\n",
              "  <thead>\n",
              "    <tr style=\"text-align: right;\">\n",
              "      <th></th>\n",
              "      <th>id</th>\n",
              "      <th>keyword</th>\n",
              "      <th>location</th>\n",
              "      <th>text</th>\n",
              "      <th>target</th>\n",
              "    </tr>\n",
              "  </thead>\n",
              "  <tbody>\n",
              "    <tr>\n",
              "      <th>0</th>\n",
              "      <td>1</td>\n",
              "      <td>NaN</td>\n",
              "      <td>NaN</td>\n",
              "      <td>Our Deeds are the Reason of this #earthquake M...</td>\n",
              "      <td>1</td>\n",
              "    </tr>\n",
              "    <tr>\n",
              "      <th>1</th>\n",
              "      <td>4</td>\n",
              "      <td>NaN</td>\n",
              "      <td>NaN</td>\n",
              "      <td>Forest fire near La Ronge Sask. Canada</td>\n",
              "      <td>1</td>\n",
              "    </tr>\n",
              "    <tr>\n",
              "      <th>2</th>\n",
              "      <td>5</td>\n",
              "      <td>NaN</td>\n",
              "      <td>NaN</td>\n",
              "      <td>All residents asked to 'shelter in place' are ...</td>\n",
              "      <td>1</td>\n",
              "    </tr>\n",
              "    <tr>\n",
              "      <th>3</th>\n",
              "      <td>6</td>\n",
              "      <td>NaN</td>\n",
              "      <td>NaN</td>\n",
              "      <td>13,000 people receive #wildfires evacuation or...</td>\n",
              "      <td>1</td>\n",
              "    </tr>\n",
              "    <tr>\n",
              "      <th>4</th>\n",
              "      <td>7</td>\n",
              "      <td>NaN</td>\n",
              "      <td>NaN</td>\n",
              "      <td>Just got sent this photo from Ruby #Alaska as ...</td>\n",
              "      <td>1</td>\n",
              "    </tr>\n",
              "  </tbody>\n",
              "</table>\n",
              "</div>"
            ],
            "text/plain": [
              "   id keyword  ...                                               text target\n",
              "0   1     NaN  ...  Our Deeds are the Reason of this #earthquake M...      1\n",
              "1   4     NaN  ...             Forest fire near La Ronge Sask. Canada      1\n",
              "2   5     NaN  ...  All residents asked to 'shelter in place' are ...      1\n",
              "3   6     NaN  ...  13,000 people receive #wildfires evacuation or...      1\n",
              "4   7     NaN  ...  Just got sent this photo from Ruby #Alaska as ...      1\n",
              "\n",
              "[5 rows x 5 columns]"
            ]
          },
          "metadata": {
            "tags": []
          },
          "execution_count": 6
        }
      ]
    },
    {
      "cell_type": "code",
      "metadata": {
        "colab": {
          "base_uri": "https://localhost:8080/"
        },
        "id": "yc8dkk5Scl1P",
        "outputId": "8188a881-7261-4758-afe0-596db427c36f"
      },
      "source": [
        "train.shape, test.shape"
      ],
      "execution_count": 7,
      "outputs": [
        {
          "output_type": "execute_result",
          "data": {
            "text/plain": [
              "((7613, 5), (3263, 4))"
            ]
          },
          "metadata": {
            "tags": []
          },
          "execution_count": 7
        }
      ]
    },
    {
      "cell_type": "code",
      "metadata": {
        "colab": {
          "base_uri": "https://localhost:8080/"
        },
        "id": "HZAb1N5dGoEj",
        "outputId": "ac8e0b6a-120c-459c-c6dd-d46c9ad752a0"
      },
      "source": [
        "print(train.info())"
      ],
      "execution_count": 8,
      "outputs": [
        {
          "output_type": "stream",
          "text": [
            "<class 'pandas.core.frame.DataFrame'>\n",
            "RangeIndex: 7613 entries, 0 to 7612\n",
            "Data columns (total 5 columns):\n",
            " #   Column    Non-Null Count  Dtype \n",
            "---  ------    --------------  ----- \n",
            " 0   id        7613 non-null   int64 \n",
            " 1   keyword   7552 non-null   object\n",
            " 2   location  5080 non-null   object\n",
            " 3   text      7613 non-null   object\n",
            " 4   target    7613 non-null   int64 \n",
            "dtypes: int64(2), object(3)\n",
            "memory usage: 297.5+ KB\n",
            "None\n"
          ],
          "name": "stdout"
        }
      ]
    },
    {
      "cell_type": "code",
      "metadata": {
        "colab": {
          "base_uri": "https://localhost:8080/"
        },
        "id": "Ggo5GYEMK23H",
        "outputId": "9c8ba97f-38ec-4e03-cff8-b09c4ed74975"
      },
      "source": [
        "print(train.head())"
      ],
      "execution_count": 9,
      "outputs": [
        {
          "output_type": "stream",
          "text": [
            "   id keyword  ...                                               text target\n",
            "0   1     NaN  ...  Our Deeds are the Reason of this #earthquake M...      1\n",
            "1   4     NaN  ...             Forest fire near La Ronge Sask. Canada      1\n",
            "2   5     NaN  ...  All residents asked to 'shelter in place' are ...      1\n",
            "3   6     NaN  ...  13,000 people receive #wildfires evacuation or...      1\n",
            "4   7     NaN  ...  Just got sent this photo from Ruby #Alaska as ...      1\n",
            "\n",
            "[5 rows x 5 columns]\n"
          ],
          "name": "stdout"
        }
      ]
    },
    {
      "cell_type": "code",
      "metadata": {
        "colab": {
          "base_uri": "https://localhost:8080/"
        },
        "id": "feeRoVe6UL2_",
        "outputId": "66ce0917-df01-4ed4-8cd9-395fc847b594"
      },
      "source": [
        "print(test.info())"
      ],
      "execution_count": 10,
      "outputs": [
        {
          "output_type": "stream",
          "text": [
            "<class 'pandas.core.frame.DataFrame'>\n",
            "RangeIndex: 3263 entries, 0 to 3262\n",
            "Data columns (total 4 columns):\n",
            " #   Column    Non-Null Count  Dtype \n",
            "---  ------    --------------  ----- \n",
            " 0   id        3263 non-null   int64 \n",
            " 1   keyword   3237 non-null   object\n",
            " 2   location  2158 non-null   object\n",
            " 3   text      3263 non-null   object\n",
            "dtypes: int64(1), object(3)\n",
            "memory usage: 102.1+ KB\n",
            "None\n"
          ],
          "name": "stdout"
        }
      ]
    },
    {
      "cell_type": "code",
      "metadata": {
        "colab": {
          "base_uri": "https://localhost:8080/"
        },
        "id": "j176BeITKonk",
        "outputId": "7168fc5a-94f3-4381-9638-e69b5d911540"
      },
      "source": [
        "print(test.head())"
      ],
      "execution_count": 11,
      "outputs": [
        {
          "output_type": "stream",
          "text": [
            "   id keyword location                                               text\n",
            "0   0     NaN      NaN                 Just happened a terrible car crash\n",
            "1   2     NaN      NaN  Heard about #earthquake is different cities, s...\n",
            "2   3     NaN      NaN  there is a forest fire at spot pond, geese are...\n",
            "3   9     NaN      NaN           Apocalypse lighting. #Spokane #wildfires\n",
            "4  11     NaN      NaN      Typhoon Soudelor kills 28 in China and Taiwan\n"
          ],
          "name": "stdout"
        }
      ]
    },
    {
      "cell_type": "markdown",
      "metadata": {
        "id": "_yu8B_z9PuZL"
      },
      "source": [
        "## EDA"
      ]
    },
    {
      "cell_type": "code",
      "metadata": {
        "colab": {
          "base_uri": "https://localhost:8080/",
          "height": 428
        },
        "id": "m4WWWj5_Pt21",
        "outputId": "26f10042-9c45-4565-cff3-937fd43547a5"
      },
      "source": [
        "import matplotlib.pyplot as plt\n",
        "import seaborn as sns\n",
        "\n",
        "print(train['target'].value_counts())\n",
        "news_class = train['target'].value_counts()\n",
        "labels = ['Non-Disaster', 'Disaster']\n",
        "\n",
        "fig, ax = plt.subplots(figsize=(10, 6))\n",
        "ax.bar(labels, news_class, color=['green', 'orange'])\n",
        "\n",
        "fig.show()"
      ],
      "execution_count": 12,
      "outputs": [
        {
          "output_type": "stream",
          "text": [
            "0    4342\n",
            "1    3271\n",
            "Name: target, dtype: int64\n"
          ],
          "name": "stdout"
        },
        {
          "output_type": "display_data",
          "data": {
            "image/png": "[encoded data removed]",
            "text/plain": [
              "<Figure size 720x432 with 1 Axes>"
            ]
          },
          "metadata": {
            "tags": [],
            "needs_background": "light"
          }
        }
      ]
    },
    {
      "cell_type": "code",
      "metadata": {
        "colab": {
          "base_uri": "https://localhost:8080/",
          "height": 417
        },
        "id": "SMmekcY_SK6j",
        "outputId": "13edb34a-50f3-4011-a2a4-a3d2ca5953ba"
      },
      "source": [
        "disaster_tweet_len = train[train['target']==1]['text'].str.len()\n",
        "non_disaster_tweet_len = train[train['target']==0]['text'].str.len()\n",
        "\n",
        "fig, ax = plt.subplots(1, 2, figsize=(12, 6))\n",
        "ax[0].hist(disaster_tweet_len, color='green')\n",
        "ax[0].set_title(\"Disaster Tweet Length\")\n",
        "\n",
        "ax[1].hist(non_disaster_tweet_len, color='orange')\n",
        "ax[1].set_title(\"Non Disaster Tweet Length\")\n",
        "\n",
        "fig.suptitle('All words in Tweets')\n",
        "plt.show()"
      ],
      "execution_count": 13,
      "outputs": [
        {
          "output_type": "display_data",
          "data": {
            "image/png": "[encoded data removed]",
            "text/plain": [
              "<Figure size 864x432 with 2 Axes>"
            ]
          },
          "metadata": {
            "tags": [],
            "needs_background": "light"
          }
        }
      ]
    },
    {
      "cell_type": "code",
      "metadata": {
        "colab": {
          "base_uri": "https://localhost:8080/",
          "height": 417
        },
        "id": "diPLv6Xt6voe",
        "outputId": "7beb5d01-c97a-43f0-c58d-4bd2ba64e706"
      },
      "source": [
        "fig, ax = plt.subplots(1, 2, figsize=(12, 6))\n",
        "ax[0].boxplot(disaster_tweet_len, labels=['counts'], showmeans=True)\n",
        "ax[0].set_title(\"Disaster Tweet Length\")\n",
        "\n",
        "ax[1].boxplot(non_disaster_tweet_len, labels=['counts'], showmeans=True)\n",
        "ax[1].set_title(\"Non Disaster Tweet Length\")\n",
        "\n",
        "fig.suptitle('All words in Tweets')\n",
        "plt.show()"
      ],
      "execution_count": 14,
      "outputs": [
        {
          "output_type": "display_data",
          "data": {
            "image/png": "[encoded data removed]",
            "text/plain": [
              "<Figure size 864x432 with 2 Axes>"
            ]
          },
          "metadata": {
            "tags": [],
            "needs_background": "light"
          }
        }
      ]
    },
    {
      "cell_type": "code",
      "metadata": {
        "colab": {
          "base_uri": "https://localhost:8080/"
        },
        "id": "qQumqbRYPwQn",
        "outputId": "48de5ca6-9db6-4a6d-ee55-184d28515b25"
      },
      "source": [
        "import numpy as np\n",
        "disaster_tweet_len = train[train['target']==1]['text'].str.len()\n",
        "non_disaster_tweet_len = train[train['target']==0]['text'].str.len()\n",
        "\n",
        "print(\"Max Length of Disaster Tweet: {}\".format(np.max(disaster_tweet_len)))\n",
        "print(\"Min Length of Disaster Tweet: {}\".format(np.min(disaster_tweet_len)))\n",
        "print(\"Mean Length of Disaster Tweet: {:.2f}\".format(np.mean(disaster_tweet_len)))\n",
        "print(\"Median Length of Disaster Tweet: {}\".format(np.median(disaster_tweet_len)))\n",
        "\n",
        "print(\"Max Length of Non Disaster Tweet: {}\".format(np.max(non_disaster_tweet_len)))\n",
        "print(\"Min Length of Non Disaster Tweet: {}\".format(np.min(non_disaster_tweet_len)))\n",
        "print(\"Mean Length of Non Disaster Tweet: {:.2f}\".format(np.mean(non_disaster_tweet_len)))\n",
        "print(\"Median Length of Non Disaster Tweet: {}\".format(np.median(non_disaster_tweet_len)))"
      ],
      "execution_count": 15,
      "outputs": [
        {
          "output_type": "stream",
          "text": [
            "Max Length of Disaster Tweet: 151\n",
            "Min Length of Disaster Tweet: 14\n",
            "Mean Length of Disaster Tweet: 108.11\n",
            "Median Length of Disaster Tweet: 115.0\n",
            "Max Length of Non Disaster Tweet: 157\n",
            "Min Length of Non Disaster Tweet: 7\n",
            "Mean Length of Non Disaster Tweet: 95.71\n",
            "Median Length of Non Disaster Tweet: 101.0\n"
          ],
          "name": "stdout"
        }
      ]
    },
    {
      "cell_type": "code",
      "metadata": {
        "colab": {
          "base_uri": "https://localhost:8080/",
          "height": 250
        },
        "id": "F0xBBh-wkLrI",
        "outputId": "4c03fdff-da8f-4cfe-a8cc-4bf788cc328e"
      },
      "source": [
        "from wordcloud import WordCloud, STOPWORDS\n",
        "\n",
        "disaster_tweet_keywords = dict(train[train['target']==1]['keyword'].value_counts())\n",
        "non_disaster_tweet_keywords = dict(train[train['target']==0]['keyword'].value_counts())\n",
        "\n",
        "stopwords = set(STOPWORDS)\n",
        "disaster_wordcloud = WordCloud(stopwords=stopwords, width=800, height=400, background_color=\"white\").\\\n",
        "generate_from_frequencies(disaster_tweet_keywords)\n",
        "non_disaster_wordcloud = WordCloud(stopwords=stopwords, width=800, height=400, background_color=\"white\").\\\n",
        "generate_from_frequencies(non_disaster_tweet_keywords)\n",
        "\n",
        "\n",
        "fig, ax = plt.subplots(1, 2, figsize=(16, 10))\n",
        "ax[0].imshow(disaster_wordcloud, interpolation='bilinear')\n",
        "ax[0].axis('off')\n",
        "ax[0].set_title(\"Disaster Tweet\")\n",
        "ax[1].imshow(non_disaster_wordcloud, interpolation='bilinear')\n",
        "ax[1].axis('off')\n",
        "ax[1].set_title(\"Non Disaster Tweet\")\n",
        "fig.show()"
      ],
      "execution_count": 16,
      "outputs": [
        {
          "output_type": "display_data",
          "data": {
            "image/png": "[encoded data removed]",
            "text/plain": [
              "<Figure size 1152x720 with 2 Axes>"
            ]
          },
          "metadata": {
            "tags": [],
            "needs_background": "light"
          }
        }
      ]
    },
    {
      "cell_type": "markdown",
      "metadata": {
        "id": "WF9WH0dWLCan"
      },
      "source": [
        "## Feature Engineering"
      ]
    },
    {
      "cell_type": "markdown",
      "metadata": {
        "id": "-VHS_YhSEAJH"
      },
      "source": [
        "### 결측치 확인\n",
        "- 다행히 텍스트에는 결측치가 없음"
      ]
    },
    {
      "cell_type": "code",
      "metadata": {
        "colab": {
          "base_uri": "https://localhost:8080/"
        },
        "id": "u5p7JGbmLFRd",
        "outputId": "a9dc396b-a755-467b-ce00-f3c451cea882"
      },
      "source": [
        "import pandas as pd\n",
        "def check_na(data):\n",
        "  isnull_na = (data.isnull().sum() / len(data)) * 100\n",
        "  data_na = isnull_na.drop(isnull_na[isnull_na == 0].index).sort_values(ascending=False)\n",
        "  missing_data = pd.DataFrame({'Missing Ratio': data_na, \n",
        "                               'Data Type': data.dtypes[data_na.index]})\n",
        "  print(\"결측치 데이터 컬럼과 건수:\\n\", missing_data)\n",
        "\n",
        "check_na(train)\n",
        "check_na(test)"
      ],
      "execution_count": 17,
      "outputs": [
        {
          "output_type": "stream",
          "text": [
            "결측치 데이터 컬럼과 건수:\n",
            "           Missing Ratio Data Type\n",
            "location      33.272035    object\n",
            "keyword        0.801261    object\n",
            "결측치 데이터 컬럼과 건수:\n",
            "           Missing Ratio Data Type\n",
            "location      33.864542    object\n",
            "keyword        0.796813    object\n"
          ],
          "name": "stdout"
        }
      ]
    },
    {
      "cell_type": "markdown",
      "metadata": {
        "id": "cqjD4h-93Sv5"
      },
      "source": [
        "### 변수 삭제"
      ]
    },
    {
      "cell_type": "code",
      "metadata": {
        "colab": {
          "base_uri": "https://localhost:8080/"
        },
        "id": "iXYDiGoE3VLQ",
        "outputId": "bef8430b-cbd7-4e1e-9695-c97dead83077"
      },
      "source": [
        "test_id = test['id']\n",
        "\n",
        "for datas in [train, test]:\n",
        "  datas = datas.drop(['id', 'keyword', 'location'], axis=1, inplace=True)\n",
        "\n",
        "train.shape, test.shape"
      ],
      "execution_count": 18,
      "outputs": [
        {
          "output_type": "execute_result",
          "data": {
            "text/plain": [
              "((7613, 2), (3263, 1))"
            ]
          },
          "metadata": {
            "tags": []
          },
          "execution_count": 18
        }
      ]
    },
    {
      "cell_type": "markdown",
      "metadata": {
        "id": "6ZWPf9dbD3WW"
      },
      "source": [
        "### Text Cleansing\n",
        "- HTML 태그 제거\n",
        "- 특수문자 공백으로 바꾸기\n",
        "- 대문자 소문자로 바꾼 후, 리스트로 만들기\n",
        "- 불용어 제거하기"
      ]
    },
    {
      "cell_type": "markdown",
      "metadata": {
        "id": "E7r0h1Eqks5o"
      },
      "source": [
        "#### remove_url\n"
      ]
    },
    {
      "cell_type": "code",
      "metadata": {
        "colab": {
          "base_uri": "https://localhost:8080/",
          "height": 35
        },
        "id": "oeboCzgsksWW",
        "outputId": "60709116-9f9b-4356-d2a1-d2f9c19a3b00"
      },
      "source": [
        "import re\n",
        "\n",
        "def remove_url(text):\n",
        "  url = re.compile(r'https?://\\S+|www\\.\\S+')\n",
        "  return url.sub(r'', text)\n",
        "\n",
        "sample_text = \"새로운 캐글 대회가 열렸습니다. 주소: https://www.kaggle.com/c/nlp-getting-started\"\n",
        "remove_url(sample_text)"
      ],
      "execution_count": 19,
      "outputs": [
        {
          "output_type": "execute_result",
          "data": {
            "application/vnd.google.colaboratory.intrinsic+json": {
              "type": "string"
            },
            "text/plain": [
              "'새로운 캐글 대회가 열렸습니다. 주소: '"
            ]
          },
          "metadata": {
            "tags": []
          },
          "execution_count": 19
        }
      ]
    },
    {
      "cell_type": "markdown",
      "metadata": {
        "id": "BpJQ-ROBvchd"
      },
      "source": [
        "#### remove_html"
      ]
    },
    {
      "cell_type": "code",
      "metadata": {
        "colab": {
          "base_uri": "https://localhost:8080/"
        },
        "id": "utrIjcetrLcw",
        "outputId": "69a7a7fd-70ea-4bbe-aacc-128a76930751"
      },
      "source": [
        "def remove_html(text):\n",
        "  html = re.compile(r'<.*?>')\n",
        "  return html.sub(r'', text)\n",
        "\n",
        "sample_text =\"\"\"<div>\n",
        "<h1> Real News or Fake News </h1>\n",
        "<p> Kaggle Machine Learning </p>\n",
        "</div>\"\"\"\n",
        "\n",
        "print(remove_html(sample_text))"
      ],
      "execution_count": 20,
      "outputs": [
        {
          "output_type": "stream",
          "text": [
            "\n",
            " Real News or Fake News \n",
            " Kaggle Machine Learning \n",
            "\n"
          ],
          "name": "stdout"
        }
      ]
    },
    {
      "cell_type": "markdown",
      "metadata": {
        "id": "6_Duqemnve3n"
      },
      "source": [
        "#### remove_emoji"
      ]
    },
    {
      "cell_type": "code",
      "metadata": {
        "colab": {
          "base_uri": "https://localhost:8080/"
        },
        "id": "SOOZd3akuEoA",
        "outputId": "f3cfc2ef-ea97-4e8d-a026-7ac1876f4f30"
      },
      "source": [
        "!pip install emoji --upgrade"
      ],
      "execution_count": 21,
      "outputs": [
        {
          "output_type": "stream",
          "text": [
            "Collecting emoji\n",
            "\u001b[?25l  Downloading https://files.pythonhosted.org/packages/24/fa/b3368f41b95a286f8d300e323449ab4e86b85334c2e0b477e94422b8ed0f/emoji-1.2.0-py3-none-any.whl (131kB)\n",
            "\r\u001b[K     |██▌                             | 10kB 20.2MB/s eta 0:00:01\r\u001b[K     |█████                           | 20kB 27.0MB/s eta 0:00:01\r\u001b[K     |███████▌                        | 30kB 21.6MB/s eta 0:00:01\r\u001b[K     |██████████                      | 40kB 25.1MB/s eta 0:00:01\r\u001b[K     |████████████▌                   | 51kB 17.2MB/s eta 0:00:01\r\u001b[K     |███████████████                 | 61kB 15.8MB/s eta 0:00:01\r\u001b[K     |█████████████████▌              | 71kB 17.4MB/s eta 0:00:01\r\u001b[K     |████████████████████            | 81kB 16.7MB/s eta 0:00:01\r\u001b[K     |██████████████████████▌         | 92kB 16.2MB/s eta 0:00:01\r\u001b[K     |█████████████████████████       | 102kB 15.9MB/s eta 0:00:01\r\u001b[K     |███████████████████████████▌    | 112kB 15.9MB/s eta 0:00:01\r\u001b[K     |██████████████████████████████  | 122kB 15.9MB/s eta 0:00:01\r\u001b[K     |████████████████████████████████| 133kB 15.9MB/s \n",
            "\u001b[?25hInstalling collected packages: emoji\n",
            "Successfully installed emoji-1.2.0\n"
          ],
          "name": "stdout"
        }
      ]
    },
    {
      "cell_type": "code",
      "metadata": {
        "colab": {
          "base_uri": "https://localhost:8080/"
        },
        "id": "3LsqFSf7uJRK",
        "outputId": "356f8df1-6278-42ec-84c9-ff37ca12849a"
      },
      "source": [
        "import emoji\n",
        "print(emoji.emojize('Phd is very easy!!! :thumbs_up:'))"
      ],
      "execution_count": 22,
      "outputs": [
        {
          "output_type": "stream",
          "text": [
            "Phd is very easy!!! 👍\n"
          ],
          "name": "stdout"
        }
      ]
    },
    {
      "cell_type": "code",
      "metadata": {
        "colab": {
          "base_uri": "https://localhost:8080/",
          "height": 35
        },
        "id": "DOPdO5LrtZ4f",
        "outputId": "d0e3020e-e8a2-4568-cde3-10e4b5ab8620"
      },
      "source": [
        "def remove_emoji(text):\n",
        "  emoji_pattern = re.compile(\"[\"\n",
        "                           u\"\\U0001F600-\\U0001F64F\"  # emoticons\n",
        "                           u\"\\U0001F300-\\U0001F5FF\"  # symbols & pictographs\n",
        "                           u\"\\U0001F680-\\U0001F6FF\"  # transport & map symbols\n",
        "                           u\"\\U0001F1E0-\\U0001F1FF\"  # flags (iOS)\n",
        "                           u\"\\U00002702-\\U000027B0\"\n",
        "                           u\"\\U000024C2-\\U0001F251\"\n",
        "                           \"]+\", flags=re.UNICODE)\n",
        "  return emoji_pattern.sub(r'', text)\n",
        "\n",
        "remove_emoji(\"Hello, 👍\")"
      ],
      "execution_count": 23,
      "outputs": [
        {
          "output_type": "execute_result",
          "data": {
            "application/vnd.google.colaboratory.intrinsic+json": {
              "type": "string"
            },
            "text/plain": [
              "'Hello, '"
            ]
          },
          "metadata": {
            "tags": []
          },
          "execution_count": 23
        }
      ]
    },
    {
      "cell_type": "markdown",
      "metadata": {
        "id": "ZVLYOBtQv5Fz"
      },
      "source": [
        "#### Remove Special Letters"
      ]
    },
    {
      "cell_type": "code",
      "metadata": {
        "colab": {
          "base_uri": "https://localhost:8080/",
          "height": 35
        },
        "id": "e4REbpZ2v71q",
        "outputId": "3b92dc46-43ce-4e5e-eaee-13929f77f766"
      },
      "source": [
        "def remove_punct(text):\n",
        "  return re.sub(\"[^a-zA-Z]\", \" \", text)\n",
        "\n",
        "sample_text = \"Hello!, Can I have one question?.., Is it #Outbreak?\"\n",
        "remove_punct(sample_text)"
      ],
      "execution_count": 24,
      "outputs": [
        {
          "output_type": "execute_result",
          "data": {
            "application/vnd.google.colaboratory.intrinsic+json": {
              "type": "string"
            },
            "text/plain": [
              "'Hello   Can I have one question     Is it  Outbreak '"
            ]
          },
          "metadata": {
            "tags": []
          },
          "execution_count": 24
        }
      ]
    },
    {
      "cell_type": "code",
      "metadata": {
        "colab": {
          "base_uri": "https://localhost:8080/"
        },
        "id": "xSpjVOs3z5p3",
        "outputId": "9153a54d-9ca4-4066-f956-f470a7c42a90"
      },
      "source": [
        "import nltk\n",
        "nltk.download('stopwords')\n",
        "from nltk.corpus import stopwords\n",
        "\n",
        "print(\"Total Length of stopwords:\", len(stopwords.words('english')))\n",
        "print(stopwords.words('english')[:10])"
      ],
      "execution_count": 25,
      "outputs": [
        {
          "output_type": "stream",
          "text": [
            "[nltk_data] Downloading package stopwords to /root/nltk_data...\n",
            "[nltk_data]   Unzipping corpora/stopwords.zip.\n",
            "Total Length of stopwords: 179\n",
            "['i', 'me', 'my', 'myself', 'we', 'our', 'ours', 'ourselves', 'you', \"you're\"]\n"
          ],
          "name": "stdout"
        }
      ]
    },
    {
      "cell_type": "code",
      "metadata": {
        "colab": {
          "base_uri": "https://localhost:8080/"
        },
        "id": "lN72Whqx8-w9",
        "outputId": "79793dda-9cd0-413f-b3a5-1d88b54b7132"
      },
      "source": [
        "import string\n",
        "import re\n",
        "from nltk.corpus import stopwords\n",
        "import nltk\n",
        "nltk.download('stopwords')\n",
        "\n",
        "def data_cleansing(text, remove_stopwords = False):\n",
        "  # remove url \n",
        "  url = re.compile(r'https?://\\S+|www\\.\\S+')\n",
        "  cleaned_text = url.sub(r'', text)\n",
        "\n",
        "  # remove html\n",
        "  html = re.compile(r'<.*?>')\n",
        "  cleaned_text = html.sub(r'', cleaned_text)\n",
        "\n",
        "  # remove emoji\n",
        "  emoji_pattern = re.compile(\"[\"\n",
        "                           u\"\\U0001F600-\\U0001F64F\"  # emoticons\n",
        "                           u\"\\U0001F300-\\U0001F5FF\"  # symbols & pictographs\n",
        "                           u\"\\U0001F680-\\U0001F6FF\"  # transport & map symbols\n",
        "                           u\"\\U0001F1E0-\\U0001F1FF\"  # flags (iOS)\n",
        "                           u\"\\U00002702-\\U000027B0\"\n",
        "                           u\"\\U000024C2-\\U0001F251\"\n",
        "                           \"]+\", flags=re.UNICODE)\n",
        "  cleaned_text = emoji_pattern.sub(r'', cleaned_text)\n",
        "\n",
        "  # Special Letters to empty space\n",
        "  cleaned_text = re.sub(\"[^a-zA-Z]\", \" \", cleaned_text)\n",
        "\n",
        "  # Lowercase\n",
        "  cleaned_text = cleaned_text.lower().split()\n",
        "\n",
        "  if remove_stopwords:\n",
        "    stops = set(stopwords.words(\"english\"))\n",
        "    cleaned_text = [word for word in cleaned_text if not word in stops]\n",
        "    clean_review = ' '.join(cleaned_text)\n",
        "  else:\n",
        "    clean_review = ' '.join(cleaned_text)\n",
        "\n",
        "  return clean_review"
      ],
      "execution_count": 26,
      "outputs": [
        {
          "output_type": "stream",
          "text": [
            "[nltk_data] Downloading package stopwords to /root/nltk_data...\n",
            "[nltk_data]   Package stopwords is already up-to-date!\n"
          ],
          "name": "stdout"
        }
      ]
    },
    {
      "cell_type": "code",
      "metadata": {
        "colab": {
          "base_uri": "https://localhost:8080/",
          "height": 204
        },
        "id": "wsLXNT50c9zU",
        "outputId": "65a21e70-22b3-487a-f189-57464684bc0f"
      },
      "source": [
        "clean_train_reviews = []\n",
        "for datas in [train, test]:\n",
        "    datas['cleaned_text'] = datas['text'].apply(lambda x : data_cleansing(x, remove_stopwords=True))\n",
        "\n",
        "train.head(5)"
      ],
      "execution_count": 27,
      "outputs": [
        {
          "output_type": "execute_result",
          "data": {
            "text/html": [
              "<div>\n",
              "<style scoped>\n",
              "    .dataframe tbody tr th:only-of-type {\n",
              "        vertical-align: middle;\n",
              "    }\n",
              "\n",
              "    .dataframe tbody tr th {\n",
              "        vertical-align: top;\n",
              "    }\n",
              "\n",
              "    .dataframe thead th {\n",
              "        text-align: right;\n",
              "    }\n",
              "</style>\n",
              "<table border=\"1\" class=\"dataframe\">\n",
              "  <thead>\n",
              "    <tr style=\"text-align: right;\">\n",
              "      <th></th>\n",
              "      <th>text</th>\n",
              "      <th>target</th>\n",
              "      <th>cleaned_text</th>\n",
              "    </tr>\n",
              "  </thead>\n",
              "  <tbody>\n",
              "    <tr>\n",
              "      <th>0</th>\n",
              "      <td>Our Deeds are the Reason of this #earthquake M...</td>\n",
              "      <td>1</td>\n",
              "      <td>deeds reason earthquake may allah forgive us</td>\n",
              "    </tr>\n",
              "    <tr>\n",
              "      <th>1</th>\n",
              "      <td>Forest fire near La Ronge Sask. Canada</td>\n",
              "      <td>1</td>\n",
              "      <td>forest fire near la ronge sask canada</td>\n",
              "    </tr>\n",
              "    <tr>\n",
              "      <th>2</th>\n",
              "      <td>All residents asked to 'shelter in place' are ...</td>\n",
              "      <td>1</td>\n",
              "      <td>residents asked shelter place notified officer...</td>\n",
              "    </tr>\n",
              "    <tr>\n",
              "      <th>3</th>\n",
              "      <td>13,000 people receive #wildfires evacuation or...</td>\n",
              "      <td>1</td>\n",
              "      <td>people receive wildfires evacuation orders cal...</td>\n",
              "    </tr>\n",
              "    <tr>\n",
              "      <th>4</th>\n",
              "      <td>Just got sent this photo from Ruby #Alaska as ...</td>\n",
              "      <td>1</td>\n",
              "      <td>got sent photo ruby alaska smoke wildfires pou...</td>\n",
              "    </tr>\n",
              "  </tbody>\n",
              "</table>\n",
              "</div>"
            ],
            "text/plain": [
              "                                                text  ...                                       cleaned_text\n",
              "0  Our Deeds are the Reason of this #earthquake M...  ...       deeds reason earthquake may allah forgive us\n",
              "1             Forest fire near La Ronge Sask. Canada  ...              forest fire near la ronge sask canada\n",
              "2  All residents asked to 'shelter in place' are ...  ...  residents asked shelter place notified officer...\n",
              "3  13,000 people receive #wildfires evacuation or...  ...  people receive wildfires evacuation orders cal...\n",
              "4  Just got sent this photo from Ruby #Alaska as ...  ...  got sent photo ruby alaska smoke wildfires pou...\n",
              "\n",
              "[5 rows x 3 columns]"
            ]
          },
          "metadata": {
            "tags": []
          },
          "execution_count": 27
        }
      ]
    },
    {
      "cell_type": "code",
      "metadata": {
        "colab": {
          "base_uri": "https://localhost:8080/",
          "height": 204
        },
        "id": "1T6ScHIRejxv",
        "outputId": "30de435f-a7f3-4e75-a754-ea93e441c127"
      },
      "source": [
        "test.head(5)"
      ],
      "execution_count": 28,
      "outputs": [
        {
          "output_type": "execute_result",
          "data": {
            "text/html": [
              "<div>\n",
              "<style scoped>\n",
              "    .dataframe tbody tr th:only-of-type {\n",
              "        vertical-align: middle;\n",
              "    }\n",
              "\n",
              "    .dataframe tbody tr th {\n",
              "        vertical-align: top;\n",
              "    }\n",
              "\n",
              "    .dataframe thead th {\n",
              "        text-align: right;\n",
              "    }\n",
              "</style>\n",
              "<table border=\"1\" class=\"dataframe\">\n",
              "  <thead>\n",
              "    <tr style=\"text-align: right;\">\n",
              "      <th></th>\n",
              "      <th>text</th>\n",
              "      <th>cleaned_text</th>\n",
              "    </tr>\n",
              "  </thead>\n",
              "  <tbody>\n",
              "    <tr>\n",
              "      <th>0</th>\n",
              "      <td>Just happened a terrible car crash</td>\n",
              "      <td>happened terrible car crash</td>\n",
              "    </tr>\n",
              "    <tr>\n",
              "      <th>1</th>\n",
              "      <td>Heard about #earthquake is different cities, s...</td>\n",
              "      <td>heard earthquake different cities stay safe ev...</td>\n",
              "    </tr>\n",
              "    <tr>\n",
              "      <th>2</th>\n",
              "      <td>there is a forest fire at spot pond, geese are...</td>\n",
              "      <td>forest fire spot pond geese fleeing across str...</td>\n",
              "    </tr>\n",
              "    <tr>\n",
              "      <th>3</th>\n",
              "      <td>Apocalypse lighting. #Spokane #wildfires</td>\n",
              "      <td>apocalypse lighting spokane wildfires</td>\n",
              "    </tr>\n",
              "    <tr>\n",
              "      <th>4</th>\n",
              "      <td>Typhoon Soudelor kills 28 in China and Taiwan</td>\n",
              "      <td>typhoon soudelor kills china taiwan</td>\n",
              "    </tr>\n",
              "  </tbody>\n",
              "</table>\n",
              "</div>"
            ],
            "text/plain": [
              "                                                text                                       cleaned_text\n",
              "0                 Just happened a terrible car crash                        happened terrible car crash\n",
              "1  Heard about #earthquake is different cities, s...  heard earthquake different cities stay safe ev...\n",
              "2  there is a forest fire at spot pond, geese are...  forest fire spot pond geese fleeing across str...\n",
              "3           Apocalypse lighting. #Spokane #wildfires              apocalypse lighting spokane wildfires\n",
              "4      Typhoon Soudelor kills 28 in China and Taiwan                typhoon soudelor kills china taiwan"
            ]
          },
          "metadata": {
            "tags": []
          },
          "execution_count": 28
        }
      ]
    },
    {
      "cell_type": "markdown",
      "metadata": {
        "id": "EsRAzUsx586T"
      },
      "source": [
        "### Text Transformation Vectorizer"
      ]
    },
    {
      "cell_type": "markdown",
      "metadata": {
        "id": "WUKm_d5e6GCN"
      },
      "source": [
        "#### CountVectorizer"
      ]
    },
    {
      "cell_type": "code",
      "metadata": {
        "colab": {
          "base_uri": "https://localhost:8080/"
        },
        "id": "-O7c-Q1f5_uS",
        "outputId": "1aae4790-955b-4bab-e086-b697887a018e"
      },
      "source": [
        "from sklearn.feature_extraction.text import CountVectorizer\n",
        "corpus = ['As you know, I want to be with you']\n",
        "vector = CountVectorizer()\n",
        "print(vector.fit_transform(corpus).toarray()) \n",
        "print(vector.vocabulary_)"
      ],
      "execution_count": 29,
      "outputs": [
        {
          "output_type": "stream",
          "text": [
            "[[1 1 1 1 1 1 2]]\n",
            "{'as': 0, 'you': 6, 'know': 2, 'want': 4, 'to': 3, 'be': 1, 'with': 5}\n"
          ],
          "name": "stdout"
        }
      ]
    },
    {
      "cell_type": "code",
      "metadata": {
        "colab": {
          "base_uri": "https://localhost:8080/"
        },
        "id": "ZNvyuRdr-hI_",
        "outputId": "264ae2e2-a656-4c6d-f1f9-6a58270dd53c"
      },
      "source": [
        "from sklearn.feature_extraction.text import CountVectorizer\n",
        "corpus = ['As you know, I want to be with you', \n",
        "          'Thank you, but I cannot be with you']\n",
        "vector = CountVectorizer()\n",
        "print(vector.fit_transform(corpus).toarray()) \n",
        "print(vector.vocabulary_)"
      ],
      "execution_count": 30,
      "outputs": [
        {
          "output_type": "stream",
          "text": [
            "[[1 1 0 0 1 0 1 1 1 2]\n",
            " [0 1 1 1 0 1 0 0 1 2]]\n",
            "{'as': 0, 'you': 9, 'know': 4, 'want': 7, 'to': 6, 'be': 1, 'with': 8, 'thank': 5, 'but': 2, 'cannot': 3}\n"
          ],
          "name": "stdout"
        }
      ]
    },
    {
      "cell_type": "markdown",
      "metadata": {
        "id": "VnN4bKOqk7pq"
      },
      "source": [
        "#### TfidfVectorizer"
      ]
    },
    {
      "cell_type": "code",
      "metadata": {
        "colab": {
          "base_uri": "https://localhost:8080/"
        },
        "id": "KN_cChgCD78A",
        "outputId": "aae6840d-7ee9-4ba4-a11e-af69d1f394d0"
      },
      "source": [
        "from sklearn.feature_extraction.text import TfidfVectorizer\n",
        "corpus = ['Can I have lunch with you?', \n",
        "          'No, I cannot have it with you.', \n",
        "          'Because, I need to study later']\n",
        "tfidfv = TfidfVectorizer().fit(corpus)\n",
        "print(np.round(tfidfv.transform(corpus).toarray(), 2))\n",
        "print(tfidfv.vocabulary_)"
      ],
      "execution_count": 31,
      "outputs": [
        {
          "output_type": "stream",
          "text": [
            "[[0.   0.52 0.   0.39 0.   0.   0.52 0.   0.   0.   0.   0.39 0.39]\n",
            " [0.   0.   0.46 0.35 0.46 0.   0.   0.   0.46 0.   0.   0.35 0.35]\n",
            " [0.45 0.   0.   0.   0.   0.45 0.   0.45 0.   0.45 0.45 0.   0.  ]]\n",
            "{'can': 1, 'have': 3, 'lunch': 6, 'with': 11, 'you': 12, 'no': 8, 'cannot': 2, 'it': 4, 'because': 0, 'need': 7, 'to': 10, 'study': 9, 'later': 5}\n"
          ],
          "name": "stdout"
        }
      ]
    },
    {
      "cell_type": "markdown",
      "metadata": {
        "id": "4QirrzEzEz_3"
      },
      "source": [
        "## Modeling"
      ]
    },
    {
      "cell_type": "markdown",
      "metadata": {
        "id": "dCpcxdONE4yr"
      },
      "source": [
        "### Data Split"
      ]
    },
    {
      "cell_type": "code",
      "metadata": {
        "id": "8TsH8M2dE-C0"
      },
      "source": [
        "from sklearn.metrics import confusion_matrix\n",
        "from sklearn.metrics import accuracy_score\n",
        "from sklearn.metrics import f1_score\n",
        "from sklearn.metrics import roc_curve\n",
        "from sklearn.metrics import auc"
      ],
      "execution_count": 32,
      "outputs": []
    },
    {
      "cell_type": "code",
      "metadata": {
        "id": "Qr_glNv6Ezbg"
      },
      "source": [
        "from sklearn.feature_extraction.text import TfidfVectorizer\n",
        "\n",
        "vectorizer = TfidfVectorizer(min_df = 0.0, analyzer='char', sublinear_tf=True, ngram_range=(1, 3), max_features = 10000)\n",
        "X = vectorizer.fit_transform(train['cleaned_text']).todense()\n",
        "y = train['target'].values"
      ],
      "execution_count": 33,
      "outputs": []
    },
    {
      "cell_type": "code",
      "metadata": {
        "colab": {
          "base_uri": "https://localhost:8080/"
        },
        "id": "0u-bttTkFOZl",
        "outputId": "18267ff5-dc64-4b34-8ea1-3ead905c925c"
      },
      "source": [
        "print(X.shape)\n",
        "print(y.shape)"
      ],
      "execution_count": 34,
      "outputs": [
        {
          "output_type": "stream",
          "text": [
            "(7613, 9444)\n",
            "(7613,)\n"
          ],
          "name": "stdout"
        }
      ]
    },
    {
      "cell_type": "code",
      "metadata": {
        "id": "JlQkNP5lFRpe",
        "colab": {
          "base_uri": "https://localhost:8080/"
        },
        "outputId": "64bb6663-0777-41ef-ad0f-635c7ea2ed9f"
      },
      "source": [
        "from sklearn.model_selection import train_test_split\n",
        "\n",
        "X_train, X_valid, y_train, y_valid = train_test_split(X, y, test_size=0.3, random_state=0)\n",
        "X_train.shape, X_valid.shape, y_train.shape, y_valid.shape"
      ],
      "execution_count": 35,
      "outputs": [
        {
          "output_type": "execute_result",
          "data": {
            "text/plain": [
              "((5329, 9444), (2284, 9444), (5329,), (2284,))"
            ]
          },
          "metadata": {
            "tags": []
          },
          "execution_count": 35
        }
      ]
    },
    {
      "cell_type": "markdown",
      "metadata": {
        "id": "hUN7impPFYUi"
      },
      "source": [
        "### Modeling"
      ]
    },
    {
      "cell_type": "code",
      "metadata": {
        "colab": {
          "base_uri": "https://localhost:8080/"
        },
        "id": "pSXYN8hjis26",
        "outputId": "b7683651-6099-4a90-8eb4-f5d078f269cb"
      },
      "source": [
        "from sklearn.linear_model import LogisticRegression\n",
        "lgs = LogisticRegression(class_weight = 'balanced')\n",
        "lgs.fit(X_train, y_train)"
      ],
      "execution_count": 36,
      "outputs": [
        {
          "output_type": "execute_result",
          "data": {
            "text/plain": [
              "LogisticRegression(C=1.0, class_weight='balanced', dual=False,\n",
              "                   fit_intercept=True, intercept_scaling=1, l1_ratio=None,\n",
              "                   max_iter=100, multi_class='auto', n_jobs=None, penalty='l2',\n",
              "                   random_state=None, solver='lbfgs', tol=0.0001, verbose=0,\n",
              "                   warm_start=False)"
            ]
          },
          "metadata": {
            "tags": []
          },
          "execution_count": 36
        }
      ]
    },
    {
      "cell_type": "markdown",
      "metadata": {
        "id": "eN5cQyW9lLsX"
      },
      "source": [
        "#### Test"
      ]
    },
    {
      "cell_type": "code",
      "metadata": {
        "colab": {
          "base_uri": "https://localhost:8080/"
        },
        "id": "P0QXDDQulOYm",
        "outputId": "ec1f686f-d532-48b3-8ee4-45889a08dbcb"
      },
      "source": [
        "import numpy as np\n",
        "from sklearn.feature_extraction.text import TfidfVectorizer\n",
        "\n",
        "X_testset = vectorizer.transform(test['cleaned_text']).todense()\n",
        "print(\"The Shape of Test Dataset:\", X_testset.shape)\n",
        "\n",
        "y_test_pred = lgs.predict(X_testset)\n",
        "print(\"The Predict Value:\", y_test_pred)\n",
        "y_test_pred = np.where(y_test_pred >= 0.5, 1, 0)\n",
        "print(\"The Predict Class:\", y_test_pred)\n",
        "\n",
        "submission_file = pd.DataFrame({'id': test_id, 'target': y_test_pred})\n",
        "print(submission_file.head())\n",
        "\n",
        "submission_file.to_csv('submission_lgs_20210210.csv', index = False)"
      ],
      "execution_count": 66,
      "outputs": [
        {
          "output_type": "stream",
          "text": [
            "The Shape of Test Dataset: (3263, 9444)\n",
            "The Predict Value: [1 0 1 ... 1 1 1]\n",
            "The Predict Class: [1 0 1 ... 1 1 1]\n",
            "   id  target\n",
            "0   0       1\n",
            "1   2       0\n",
            "2   3       1\n",
            "3   9       1\n",
            "4  11       1\n"
          ],
          "name": "stdout"
        }
      ]
    },
    {
      "cell_type": "markdown",
      "metadata": {
        "id": "9OyWpseKi83d"
      },
      "source": [
        "#### Validation"
      ]
    },
    {
      "cell_type": "code",
      "metadata": {
        "id": "SAQlO1-ekb87"
      },
      "source": [
        "y_pred_lgs = lgs.predict(X_valid)"
      ],
      "execution_count": 67,
      "outputs": []
    },
    {
      "cell_type": "code",
      "metadata": {
        "colab": {
          "base_uri": "https://localhost:8080/"
        },
        "id": "bHUAjugLkk1S",
        "outputId": "c39b6e97-25b1-4a07-a78c-20bef024dd92"
      },
      "source": [
        "confusion_matrix(y_valid, y_pred_lgs)"
      ],
      "execution_count": 68,
      "outputs": [
        {
          "output_type": "execute_result",
          "data": {
            "text/plain": [
              "array([[1090,  248],\n",
              "       [ 233,  713]])"
            ]
          },
          "metadata": {
            "tags": []
          },
          "execution_count": 68
        }
      ]
    },
    {
      "cell_type": "code",
      "metadata": {
        "colab": {
          "base_uri": "https://localhost:8080/"
        },
        "id": "Pe2jtbWejEdu",
        "outputId": "d574a53b-e165-4f1a-d745-ebf121c25da8"
      },
      "source": [
        "print(\"Accuracy: {}\".format(accuracy_score(y_valid, y_pred_lgs)))"
      ],
      "execution_count": 40,
      "outputs": [
        {
          "output_type": "stream",
          "text": [
            "Accuracy: 0.7894045534150613\n"
          ],
          "name": "stdout"
        }
      ]
    },
    {
      "cell_type": "code",
      "metadata": {
        "colab": {
          "base_uri": "https://localhost:8080/"
        },
        "id": "XjK30j5klIVd",
        "outputId": "9499c2c0-483e-4ef6-e27d-8289eeff7140"
      },
      "source": [
        "f1_score(y_valid, y_pred_lgs)"
      ],
      "execution_count": 41,
      "outputs": [
        {
          "output_type": "execute_result",
          "data": {
            "text/plain": [
              "0.7477713686418458"
            ]
          },
          "metadata": {
            "tags": []
          },
          "execution_count": 41
        }
      ]
    },
    {
      "cell_type": "code",
      "metadata": {
        "colab": {
          "base_uri": "https://localhost:8080/",
          "height": 295
        },
        "id": "9JU7dnMWlPsW",
        "outputId": "feca8588-50ee-4e18-b449-6f88e842772c"
      },
      "source": [
        "fpr, tpr, _ = roc_curve(y_valid, y_pred_lgs)\n",
        "auc_score = auc(fpr, tpr)\n",
        "\n",
        "# clear current figure\n",
        "plt.clf()\n",
        "\n",
        "plt.title('ROC Curve')\n",
        "plt.plot(fpr, tpr, marker='.', label='AUC = {:.2f}'.format(auc_score))\n",
        "\n",
        "# it's helpful to add a diagonal to indicate where chance \n",
        "# scores lie (i.e. just flipping a coin)\n",
        "plt.plot([0,1],[0,1],'r--')\n",
        "\n",
        "plt.xlim([-0.1,1.1])\n",
        "plt.ylim([-0.1,1.1])\n",
        "plt.ylabel('True Positive Rate')\n",
        "plt.xlabel('False Positive Rate')\n",
        "\n",
        "plt.legend(loc='lower right')\n",
        "plt.show()"
      ],
      "execution_count": 42,
      "outputs": [
        {
          "output_type": "display_data",
          "data": {
            "image/png": "[encoded data removed]",
            "text/plain": [
              "<Figure size 432x288 with 1 Axes>"
            ]
          },
          "metadata": {
            "tags": [],
            "needs_background": "light"
          }
        }
      ]
    },
    {
      "cell_type": "markdown",
      "metadata": {
        "id": "s9qREydnlfAm"
      },
      "source": [
        "### Submit"
      ]
    },
    {
      "cell_type": "code",
      "metadata": {
        "id": "S7kq1_EvlgMe"
      },
      "source": [
        "X_testset = vectorizer.transform(test['cleaned_text']).todense()"
      ],
      "execution_count": 43,
      "outputs": []
    },
    {
      "cell_type": "code",
      "metadata": {
        "colab": {
          "base_uri": "https://localhost:8080/"
        },
        "id": "792b5jyHljoo",
        "outputId": "466074f8-7d5e-4eab-8ad0-8aa1815f7842"
      },
      "source": [
        "print(X_testset.shape)"
      ],
      "execution_count": 44,
      "outputs": [
        {
          "output_type": "stream",
          "text": [
            "(3263, 9444)\n"
          ],
          "name": "stdout"
        }
      ]
    },
    {
      "cell_type": "code",
      "metadata": {
        "id": "aeExEhmrlsNf"
      },
      "source": [
        "y_test_pred = lgs.predict(X_testset)"
      ],
      "execution_count": 45,
      "outputs": []
    },
    {
      "cell_type": "code",
      "metadata": {
        "colab": {
          "base_uri": "https://localhost:8080/"
        },
        "id": "UiKBD1X-lolS",
        "outputId": "8e22380c-0ff1-4f15-8dd6-bcb87a22232c"
      },
      "source": [
        "import numpy as np\n",
        "y_test_pred = np.where(y_test_pred >= 0.5, 1, 0)\n",
        "y_test_pred"
      ],
      "execution_count": 46,
      "outputs": [
        {
          "output_type": "execute_result",
          "data": {
            "text/plain": [
              "array([1, 0, 1, ..., 1, 1, 1])"
            ]
          },
          "metadata": {
            "tags": []
          },
          "execution_count": 46
        }
      ]
    },
    {
      "cell_type": "code",
      "metadata": {
        "colab": {
          "base_uri": "https://localhost:8080/",
          "height": 419
        },
        "id": "M6J7EP-DmPWs",
        "outputId": "836d5d11-b7bd-4bca-9116-a020d99c4815"
      },
      "source": [
        "submission_file = pd.DataFrame({'id': test_id, 'target': y_test_pred})\n",
        "submission_file"
      ],
      "execution_count": 47,
      "outputs": [
        {
          "output_type": "execute_result",
          "data": {
            "text/html": [
              "<div>\n",
              "<style scoped>\n",
              "    .dataframe tbody tr th:only-of-type {\n",
              "        vertical-align: middle;\n",
              "    }\n",
              "\n",
              "    .dataframe tbody tr th {\n",
              "        vertical-align: top;\n",
              "    }\n",
              "\n",
              "    .dataframe thead th {\n",
              "        text-align: right;\n",
              "    }\n",
              "</style>\n",
              "<table border=\"1\" class=\"dataframe\">\n",
              "  <thead>\n",
              "    <tr style=\"text-align: right;\">\n",
              "      <th></th>\n",
              "      <th>id</th>\n",
              "      <th>target</th>\n",
              "    </tr>\n",
              "  </thead>\n",
              "  <tbody>\n",
              "    <tr>\n",
              "      <th>0</th>\n",
              "      <td>0</td>\n",
              "      <td>1</td>\n",
              "    </tr>\n",
              "    <tr>\n",
              "      <th>1</th>\n",
              "      <td>2</td>\n",
              "      <td>0</td>\n",
              "    </tr>\n",
              "    <tr>\n",
              "      <th>2</th>\n",
              "      <td>3</td>\n",
              "      <td>1</td>\n",
              "    </tr>\n",
              "    <tr>\n",
              "      <th>3</th>\n",
              "      <td>9</td>\n",
              "      <td>1</td>\n",
              "    </tr>\n",
              "    <tr>\n",
              "      <th>4</th>\n",
              "      <td>11</td>\n",
              "      <td>1</td>\n",
              "    </tr>\n",
              "    <tr>\n",
              "      <th>...</th>\n",
              "      <td>...</td>\n",
              "      <td>...</td>\n",
              "    </tr>\n",
              "    <tr>\n",
              "      <th>3258</th>\n",
              "      <td>10861</td>\n",
              "      <td>0</td>\n",
              "    </tr>\n",
              "    <tr>\n",
              "      <th>3259</th>\n",
              "      <td>10865</td>\n",
              "      <td>1</td>\n",
              "    </tr>\n",
              "    <tr>\n",
              "      <th>3260</th>\n",
              "      <td>10868</td>\n",
              "      <td>1</td>\n",
              "    </tr>\n",
              "    <tr>\n",
              "      <th>3261</th>\n",
              "      <td>10874</td>\n",
              "      <td>1</td>\n",
              "    </tr>\n",
              "    <tr>\n",
              "      <th>3262</th>\n",
              "      <td>10875</td>\n",
              "      <td>1</td>\n",
              "    </tr>\n",
              "  </tbody>\n",
              "</table>\n",
              "<p>3263 rows × 2 columns</p>\n",
              "</div>"
            ],
            "text/plain": [
              "         id  target\n",
              "0         0       1\n",
              "1         2       0\n",
              "2         3       1\n",
              "3         9       1\n",
              "4        11       1\n",
              "...     ...     ...\n",
              "3258  10861       0\n",
              "3259  10865       1\n",
              "3260  10868       1\n",
              "3261  10874       1\n",
              "3262  10875       1\n",
              "\n",
              "[3263 rows x 2 columns]"
            ]
          },
          "metadata": {
            "tags": []
          },
          "execution_count": 47
        }
      ]
    },
    {
      "cell_type": "code",
      "metadata": {
        "id": "yp7qhqS2mgFz"
      },
      "source": [
        "submission_file.to_csv('submission_lgs_20210210.csv', index = False)"
      ],
      "execution_count": 69,
      "outputs": []
    },
    {
      "cell_type": "markdown",
      "metadata": {
        "id": "_W0hvrO0ETMS"
      },
      "source": [
        "### Evaluation"
      ]
    },
    {
      "cell_type": "markdown",
      "metadata": {
        "id": "wsCxp09TEXGq"
      },
      "source": [
        "#### Accuracy (정확도)\n",
        "- URL: https://scikit-learn.org/stable/modules/generated/sklearn.metrics.accuracy_score.html"
      ]
    },
    {
      "cell_type": "code",
      "metadata": {
        "id": "AEuw6C_zFP1J"
      },
      "source": [
        "def accuracy(y_true, y_pred):\n",
        "  correct_counter = 0\n",
        "  for yt, yp in zip(y_true, y_pred):\n",
        "    if yt == yp:\n",
        "      correct_counter +=1\n",
        "  return correct_counter / len(y_true)"
      ],
      "execution_count": 49,
      "outputs": []
    },
    {
      "cell_type": "code",
      "metadata": {
        "id": "NaHko8i7EVXB",
        "colab": {
          "base_uri": "https://localhost:8080/"
        },
        "outputId": "c1b03290-a514-40d6-a5e7-b14427ce0cd6"
      },
      "source": [
        "from sklearn import metrics\n",
        "y_true = [0, 1, 1, 1, 0, 0, 0, 1, 0]\n",
        "y_pred = [0, 0, 1, 0, 0, 0, 0, 1, 1]\n",
        "\n",
        "print(round(metrics.accuracy_score(y_true, y_pred), 2))\n",
        "print(round(accuracy(y_true, y_pred), 2))"
      ],
      "execution_count": 50,
      "outputs": [
        {
          "output_type": "stream",
          "text": [
            "0.67\n",
            "0.67\n"
          ],
          "name": "stdout"
        }
      ]
    },
    {
      "cell_type": "markdown",
      "metadata": {
        "id": "9hPXe-LvF8aR"
      },
      "source": [
        "#### Confusion Metrics (혼동행렬)\n",
        "\n",
        "![](https://blog.kakaocdn.net/dn/bYy2ck/btqyuEJMtta/3qkcbPk3rQiic6J7mHVWQ0/img.png)\n",
        "\n",
        "- True Positive (TP): 모형은 암이다 예측, 실제로도 암이었음\n",
        "- True Negative (TN): 모형은 암이 아니다 예측, 실제로도 암이 아니었음 \n",
        "- False Positive (FP): 모형은 암이다 예측, 실제로는 아니었음\n",
        "- False Negative (FN): 모형은 암이 아니다 예측, 실제로는 암이었음"
      ]
    },
    {
      "cell_type": "code",
      "metadata": {
        "id": "iPoBk3fvIRuP"
      },
      "source": [
        "def true_positive(y_true, y_pred):\n",
        "  tp = 0\n",
        "  for yt, yp in zip(y_true, y_pred):\n",
        "    if yt == 1 and yp == 1:\n",
        "      tp += 1\n",
        "  return tp\n",
        "\n",
        "def true_negative(y_true, y_pred):\n",
        "  tn = 0\n",
        "  for yt, yp in zip(y_true, y_pred):\n",
        "    if yt == 0 and yp == 0:\n",
        "      tn += 1\n",
        "  return tn \n",
        "\n",
        "def false_positive(y_true, y_pred):\n",
        "  fp = 0\n",
        "  for yt, yp in zip(y_true, y_pred):\n",
        "    if yt == 0 and yp == 1:\n",
        "      fp += 1\n",
        "  return fp\n",
        "\n",
        "def false_negative(y_true, y_pred):\n",
        "  fn = 0\n",
        "  for yt, yp in zip(y_true, y_pred):\n",
        "    if yt == 1 and yp == 0:\n",
        "      fn += 1\n",
        "  return fn "
      ],
      "execution_count": 51,
      "outputs": []
    },
    {
      "cell_type": "code",
      "metadata": {
        "id": "_0ACNR93Jav3",
        "colab": {
          "base_uri": "https://localhost:8080/"
        },
        "outputId": "67035f9d-4bf2-4fd4-e55a-13fcbc0d3083"
      },
      "source": [
        "y_true = [0, 1, 1, 1, 0, 0, 0, 1, 0, 1]\n",
        "y_pred = [0, 0, 1, 0, 0, 0, 0, 1, 1, 0]\n",
        "\n",
        "print(\"True Negative {}\".format(true_negative(y_true, y_pred)))\n",
        "print(\"False Positive {}\".format(false_positive(y_true, y_pred)))\n",
        "print(\"False Negative {}\".format(false_negative(y_true, y_pred)))\n",
        "print(\"True Positive {}\".format(true_positive(y_true, y_pred)))"
      ],
      "execution_count": 52,
      "outputs": [
        {
          "output_type": "stream",
          "text": [
            "True Negative 4\n",
            "False Positive 1\n",
            "False Negative 3\n",
            "True Positive 2\n"
          ],
          "name": "stdout"
        }
      ]
    },
    {
      "cell_type": "code",
      "metadata": {
        "colab": {
          "base_uri": "https://localhost:8080/"
        },
        "id": "fQWxHHudEgRw",
        "outputId": "7522da78-d6c0-45ed-d264-51c108fb1131"
      },
      "source": [
        "from sklearn.metrics import confusion_matrix\n",
        "confusion_matrix(y_true, y_pred)"
      ],
      "execution_count": 53,
      "outputs": [
        {
          "output_type": "execute_result",
          "data": {
            "text/plain": [
              "array([[4, 1],\n",
              "       [3, 2]])"
            ]
          },
          "metadata": {
            "tags": []
          },
          "execution_count": 53
        }
      ]
    },
    {
      "cell_type": "code",
      "metadata": {
        "colab": {
          "base_uri": "https://localhost:8080/"
        },
        "id": "9oy70S3OGPOO",
        "outputId": "4e8ce8cc-b890-487b-c3d8-7485b1b5582b"
      },
      "source": [
        "tn, fp, fn, tp = confusion_matrix(y_true, y_pred).ravel()\n",
        "tn, fp, fn, tp"
      ],
      "execution_count": 54,
      "outputs": [
        {
          "output_type": "execute_result",
          "data": {
            "text/plain": [
              "(4, 1, 3, 2)"
            ]
          },
          "metadata": {
            "tags": []
          },
          "execution_count": 54
        }
      ]
    },
    {
      "cell_type": "code",
      "metadata": {
        "id": "9-NYhFHyKe42",
        "colab": {
          "base_uri": "https://localhost:8080/"
        },
        "outputId": "1ad582cf-8a9c-4dc9-ff51-69c4d26dc278"
      },
      "source": [
        "def accuracy_v2(y_true, y_pred):\n",
        "  tp = true_positive(y_true, y_pred)\n",
        "  tn = true_negative(y_true, y_pred)\n",
        "  fp = false_positive(y_true, y_pred)\n",
        "  fn = false_negative(y_true, y_pred)\n",
        "\n",
        "  accuracy_score = (tp + tn) / (tp + tn + fp + fn)\n",
        "  return accuracy_score\n",
        "\n",
        "print(round(accuracy_v2(y_true, y_pred), 2))"
      ],
      "execution_count": 55,
      "outputs": [
        {
          "output_type": "stream",
          "text": [
            "0.6\n"
          ],
          "name": "stdout"
        }
      ]
    },
    {
      "cell_type": "markdown",
      "metadata": {
        "id": "C1lsJD0pLKqd"
      },
      "source": [
        "#### Precision (정밀도)\n",
        "- 총 100개의 이미지\n",
        "- 90개는 정상 이미지 / 10개는 암진단 이미지\n",
        "  + 정상 이미지 중 80개는 정상으로 예측, 10개는 암으로 예측 (오류)\n",
        "  + 암 진단 이미지 중 8개는 암으로 예측, 2개는 정상으로 예측 (오류)\n",
        "- 계산하면, 다음과 같다. \n",
        "  + TP: 8개\n",
        "  + TN: 80개\n",
        "  + FP: 10개\n",
        "  + FN: 2개\n",
        "\n",
        "![](https://blog.kakaocdn.net/dn/bYy2ck/btqyuEJMtta/3qkcbPk3rQiic6J7mHVWQ0/img.png)\n",
        "\n",
        "- Precision = TP / (TP + FP)\n",
        "  + 모형이 양성이라고 예측한 것 중에서, 실제로 양성인 것\n",
        "  + 양성으로 예측한 것 중에서 실제로 양성으로 예측한 비율은 8 / (8 + 10) = 0.444\n",
        "  + Precision을 올리기 위해서는 TP를 올리거나 FP를 내려야 함\n",
        "  + 예측 성능의 모델의 입장에서 보는 것\n",
        "\n"
      ]
    },
    {
      "cell_type": "code",
      "metadata": {
        "id": "PHk1l2ITO5hC",
        "colab": {
          "base_uri": "https://localhost:8080/"
        },
        "outputId": "391d9fab-8990-4d25-8e70-0df20c03d843"
      },
      "source": [
        "from sklearn.metrics import precision_score\n",
        "\n",
        "def precision(y_true, y_pred):\n",
        "  tp = true_positive(y_true, y_pred)\n",
        "  fp = false_positive(y_true, y_pred)\n",
        "\n",
        "  precision = tp / (tp + fp)\n",
        "  return precision\n",
        "\n",
        "print(\"user function:\", precision(y_true, y_pred))\n",
        "print(\"scikit-learn function:\", precision_score(y_true, y_pred))"
      ],
      "execution_count": 56,
      "outputs": [
        {
          "output_type": "stream",
          "text": [
            "user function: 0.6666666666666666\n",
            "scikit-learn function: 0.6666666666666666\n"
          ],
          "name": "stdout"
        }
      ]
    },
    {
      "cell_type": "markdown",
      "metadata": {
        "id": "hbMp0bhvVFqm"
      },
      "source": [
        "#### Recall (재현율) \n",
        "- 실제 양성 중에서, 모델이 양성이라고 예측한 것\n",
        "- Recall = TP / (TP + FN) = 8 / (8 + 2)\n"
      ]
    },
    {
      "cell_type": "code",
      "metadata": {
        "id": "vyZ_DLm9V609",
        "colab": {
          "base_uri": "https://localhost:8080/"
        },
        "outputId": "6b548acb-ee6a-4929-d5ff-58aa3e6e56cd"
      },
      "source": [
        "from sklearn.metrics import recall_score\n",
        "\n",
        "def recall(y_true, y_pred):\n",
        "  tp = true_positive(y_true, y_pred)\n",
        "  fn = false_negative(y_true, y_pred)\n",
        "\n",
        "  recall = tp / (tp + fn)\n",
        "  return recall \n",
        "\n",
        "print(\"user function:\", recall(y_true, y_pred))\n",
        "print(\"scikit-learn function:\", recall_score(y_true, y_pred))"
      ],
      "execution_count": 57,
      "outputs": [
        {
          "output_type": "stream",
          "text": [
            "user function: 0.4\n",
            "scikit-learn function: 0.4\n"
          ],
          "name": "stdout"
        }
      ]
    },
    {
      "cell_type": "markdown",
      "metadata": {
        "id": "LXm8ohANYYHM"
      },
      "source": [
        "> 좋은 모델은 정밀도와 재현율이 모두 높아야 한다. "
      ]
    },
    {
      "cell_type": "markdown",
      "metadata": {
        "id": "pWTgvbA2XXMU"
      },
      "source": [
        "#### Threshold\n",
        "- 분류는 보통 확률값으로 우선 먼저 떨어지고, 그 다음에 임계값을 정한다. \n",
        "- Default는 보통 0.5이다. \n"
      ]
    },
    {
      "cell_type": "code",
      "metadata": {
        "id": "WaGnkEgVaEKa",
        "colab": {
          "base_uri": "https://localhost:8080/"
        },
        "outputId": "25750958-699d-4cec-beeb-87cbc96af495"
      },
      "source": [
        "y_true = [0, 0, 0, 1, 0, 0, 0, 0, 0, 0, 1, 0, 0, 0, 0, 0, 0, 0, 1, 0]\n",
        "y_pred = [0.02638412, 0.11114267, 0.31620708, \n",
        "          0.0490937, 0.0191491, 0.17554844, \n",
        "          0.15952202, 0.03819563, 0.11639273, \n",
        "          0.079377, 0.08584789, 0.39095342, \n",
        "          0.27259048, 0.03447096, 0.04644807, \n",
        "          0.03543574, 0.18521942, 0.05934905, \n",
        "          0.61977213, 0.33056815]\n",
        "\n",
        "len(y_true), len(y_pred)"
      ],
      "execution_count": 58,
      "outputs": [
        {
          "output_type": "execute_result",
          "data": {
            "text/plain": [
              "(20, 20)"
            ]
          },
          "metadata": {
            "tags": []
          },
          "execution_count": 58
        }
      ]
    },
    {
      "cell_type": "code",
      "metadata": {
        "id": "6GZkuRFHak5u",
        "colab": {
          "base_uri": "https://localhost:8080/",
          "height": 393
        },
        "outputId": "d2dbf08e-5ea6-4007-a987-01d37c19a769"
      },
      "source": [
        "import matplotlib.pyplot as plt\n",
        "\n",
        "precisions = []\n",
        "recalls = []\n",
        "\n",
        "thresholds =  [0.0490937 , 0.05934905, 0.079377, \n",
        "               0.08584789, 0.11114267, 0.11639273, \n",
        "               0.15952202, 0.17554844, 0.18521942, \n",
        "               0.27259048, 0.31620708, 0.33056815, \n",
        "               0.39095342, 0.61977213]\n",
        "\n",
        "for i in thresholds:\n",
        "  temp_prediction = [1 if x >= i else 0 for x in y_pred]\n",
        "  p = precision(y_true, temp_prediction)\n",
        "  r = recall(y_true, temp_prediction)\n",
        "\n",
        "  precisions.append(p)\n",
        "  recalls.append(r)\n",
        "\n",
        "fig, ax = plt.subplots(figsize=(10, 6))\n",
        "ax.plot(recalls, precisions)\n",
        "ax.set_xlabel('Recall', fontsize=15)\n",
        "ax.set_ylabel('Precision', fontsize=15)\n",
        "ax.set_xlim(0, 1.0)\n",
        "fig.show()"
      ],
      "execution_count": 59,
      "outputs": [
        {
          "output_type": "display_data",
          "data": {
            "image/png": "[encoded data removed]",
            "text/plain": [
              "<Figure size 720x432 with 1 Axes>"
            ]
          },
          "metadata": {
            "tags": [],
            "needs_background": "light"
          }
        }
      ]
    },
    {
      "cell_type": "markdown",
      "metadata": {
        "id": "gwrxdGaDeIZZ"
      },
      "source": [
        "> 임계값을 어떻게 설정하느냐에 따라 정밀도와 재현율의 값이 달라진다. \n",
        "- https://developers.google.com/machine-learning/crash-course/classification/precision-and-recall\n"
      ]
    },
    {
      "cell_type": "markdown",
      "metadata": {
        "id": "uF5MWto1gG7e"
      },
      "source": [
        "#### F1 Score\n",
        "- Precision & Recall의 가중 평균(Weighted Average)\n",
        "- P: Precision (정밀도)\n",
        "- R: Recall (재현율)\n",
        "- 공식은 다음과 같다. \n",
        "  + F1 = 2PR / (P + R)\n",
        "  + F1 = 2TP / (2TP + FP + FN)\n"
      ]
    },
    {
      "cell_type": "code",
      "metadata": {
        "id": "ACZj7vljgGNf"
      },
      "source": [
        "def f1(y_true, y_pred):\n",
        "  p = precision(y_true, y_pred)\n",
        "  r = recall(y_true, y_pred)\n",
        "  score = 2 * p * r / (p + r)\n",
        "  return score"
      ],
      "execution_count": 60,
      "outputs": []
    },
    {
      "cell_type": "code",
      "metadata": {
        "id": "TuzVF3CXheF2",
        "colab": {
          "base_uri": "https://localhost:8080/"
        },
        "outputId": "3544d591-0770-4f42-ccb6-df98e187a1a6"
      },
      "source": [
        "y_true = [0, 0, 0, 1, 0, 0, 0, 0, 0, 0, 1, 0, 0, 0, 0, 0, 0, 0, 1, 0]\n",
        "y_pred = [0, 0, 1, 0, 0, 0, 1, 0, 0, 0, 1, 0, 0, 0, 0, 0, 0, 0, 1, 0]\n",
        "\n",
        "f1(y_true, y_pred)"
      ],
      "execution_count": 61,
      "outputs": [
        {
          "output_type": "execute_result",
          "data": {
            "text/plain": [
              "0.5714285714285715"
            ]
          },
          "metadata": {
            "tags": []
          },
          "execution_count": 61
        }
      ]
    },
    {
      "cell_type": "code",
      "metadata": {
        "id": "QqG6oe0DhrNE",
        "colab": {
          "base_uri": "https://localhost:8080/"
        },
        "outputId": "6537717c-a94a-4eb3-b701-eb82554f2032"
      },
      "source": [
        "from sklearn import metrics\n",
        "print(metrics.f1_score(y_true, y_pred))"
      ],
      "execution_count": 62,
      "outputs": [
        {
          "output_type": "stream",
          "text": [
            "0.5714285714285715\n"
          ],
          "name": "stdout"
        }
      ]
    },
    {
      "cell_type": "markdown",
      "metadata": {
        "id": "e7Vy4hR8iAdM"
      },
      "source": [
        "- 종속변수의 라벨이 주로 불균형을 이룰 때에는 Accuracy 보다는 F1 스코어를 주요 평가 지표로 삼는다. \n",
        "- F1 스코어가 1에 가까울수록 좋은 모델이라고 평가한다. "
      ]
    },
    {
      "cell_type": "markdown",
      "metadata": {
        "id": "kHkQgrKBizgV"
      },
      "source": [
        "#### AUC\n",
        "- TPR = Recall\n",
        "- FPR = False Positive Rate = FP / (TN + FP)\n"
      ]
    },
    {
      "cell_type": "code",
      "metadata": {
        "id": "a33i20mGjUZa"
      },
      "source": [
        "def tpr(y_true, y_pred):\n",
        "  return recall(y_true, y_pred)\n",
        "\n",
        "def fpr(y_true, y_pred):\n",
        "  fp = false_positive(y_true, y_pred)\n",
        "  tn = true_negative(y_true, y_pred)\n",
        "  return fp / (tn + fp)"
      ],
      "execution_count": 63,
      "outputs": []
    },
    {
      "cell_type": "markdown",
      "metadata": {
        "id": "qiJWOqOklLA6"
      },
      "source": [
        "- why? fp / (tn + fp) if (tn + fp) else 0\n",
        "  + [Make division by zero equal to zero](https://stackoverflow.com/questions/27317517/make-division-by-zero-equal-to-zero)"
      ]
    },
    {
      "cell_type": "code",
      "metadata": {
        "id": "Rpu6Vqs0jnk1",
        "colab": {
          "base_uri": "https://localhost:8080/",
          "height": 649
        },
        "outputId": "cacadce6-c366-41f4-a908-1edd716cb137"
      },
      "source": [
        "import pandas as pd\n",
        "import matplotlib.pyplot as plt\n",
        "\n",
        "tpr_list = []\n",
        "fpr_list = []\n",
        "\n",
        "y_true = [0, 0, 0, 0, 1, 0, 1, 0, 0, 1, 0, 1, 0, 0, 1]\n",
        "y_pred = [0.1, 0.3, 0.2, 0.6, 0.8, 0.05, 0.9, 0.5, 0.3, 0.66, 0.3, 0.2, 0.85, 0.15, 0.99]\n",
        "thresholds = [0, 0.1, 0.2, 0.3, 0.4, 0.5, 0.6, 0.7, 0.8, 0.85, 0.9, 0.99, 1.0]\n",
        "\n",
        "\n",
        "for thresh in thresholds:\n",
        "  temp_pred = [1 if x >= thresh else 0 for x in y_pred]\n",
        "  temp_tpr = tpr(y_true, temp_pred) \n",
        "  temp_fpr = fpr(y_true, temp_pred)\n",
        "  temp_fpr = round(temp_fpr, 1)\n",
        "  tpr_list.append(temp_tpr)\n",
        "  fpr_list.append(temp_fpr)\n",
        "\n",
        "print(pd.DataFrame({\"threshold\": thresholds, \"fpr\": fpr_list, \"tpr\": tpr_list}))\n",
        "\n",
        "fig, ax = plt.subplots(figsize=(10, 6))\n",
        "ax.fill_between(fpr_list, tpr_list, alpha=0.4)\n",
        "ax.plot(fpr_list, tpr_list, lw=2)\n",
        "ax.set_xlim(0, 1.0)\n",
        "ax.set_ylim(0, 1.0)\n",
        "ax.set_xlabel(\"FPR\", fontsize=15)\n",
        "ax.set_ylabel(\"TPR\", fontsize=15)\n",
        "plt.show()"
      ],
      "execution_count": 64,
      "outputs": [
        {
          "output_type": "stream",
          "text": [
            "    threshold  fpr  tpr\n",
            "0        0.00  1.0  1.0\n",
            "1        0.10  0.9  1.0\n",
            "2        0.20  0.7  1.0\n",
            "3        0.30  0.6  0.8\n",
            "4        0.40  0.3  0.8\n",
            "5        0.50  0.3  0.8\n",
            "6        0.60  0.2  0.8\n",
            "7        0.70  0.1  0.6\n",
            "8        0.80  0.1  0.6\n",
            "9        0.85  0.1  0.4\n",
            "10       0.90  0.0  0.4\n",
            "11       0.99  0.0  0.2\n",
            "12       1.00  0.0  0.0\n"
          ],
          "name": "stdout"
        },
        {
          "output_type": "display_data",
          "data": {
            "image/png": "[encoded data removed]",
            "text/plain": [
              "<Figure size 720x432 with 1 Axes>"
            ]
          },
          "metadata": {
            "tags": [],
            "needs_background": "light"
          }
        }
      ]
    },
    {
      "cell_type": "code",
      "metadata": {
        "id": "HpIkfNMboGnK",
        "colab": {
          "base_uri": "https://localhost:8080/"
        },
        "outputId": "cbac8141-8b52-4409-dfaf-fb6ca3427b94"
      },
      "source": [
        "from sklearn import metrics\n",
        "\n",
        "y_true = [0, 0, 0, 0, 1, 0, 1, 0, 0, 1, 0, 1, 0, 0, 1]\n",
        "y_pred = [0.1, 0.3, 0.2, 0.6, 0.8, 0.05, 0.9, 0.5, 0.3, 0.66, 0.3, 0.2, 0.85, 0.15, 0.99]\n",
        "\n",
        "metrics.roc_auc_score(y_true, y_pred)"
      ],
      "execution_count": 65,
      "outputs": [
        {
          "output_type": "execute_result",
          "data": {
            "text/plain": [
              "0.8300000000000001"
            ]
          },
          "metadata": {
            "tags": []
          },
          "execution_count": 65
        }
      ]
    },
    {
      "cell_type": "markdown",
      "metadata": {
        "id": "TkxPU7fHoRjE"
      },
      "source": [
        "- AUC에 관한 결과 해석\n",
        "  + AUC = 1.0: 가장 좋은 모델\n",
        "  + AUC = 0.5: 직관적으로, 인간이 직접 분류하는 것과 차이가 없거나 더 못한 경우\n",
        "  + AUC = 0.0: 데이터 전처리 및 학습에 문제가 생긴 것"
      ]
    }
  ]
}