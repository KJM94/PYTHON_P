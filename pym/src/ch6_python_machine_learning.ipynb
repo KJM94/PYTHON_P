{
  "nbformat": 4,
  "nbformat_minor": 0,
  "metadata": {
    "colab": {
      "name": "ch6_python_machine_learning.ipynb",
      "provenance": [],
      "collapsed_sections": [],
      "toc_visible": true,
      "include_colab_link": true
    },
    "kernelspec": {
      "name": "python3",
      "display_name": "Python 3"
    },
    "accelerator": "GPU"
  },
  "cells": [
    {
      "cell_type": "markdown",
      "metadata": {
        "id": "view-in-github",
        "colab_type": "text"
      },
      "source": [
        "<a href=\"https://colab.research.google.com/github/KJM94/pym/blob/main/src/ch6_python_machine_learning.ipynb\" target=\"_parent\"><img src=\"https://colab.research.google.com/assets/colab-badge.svg\" alt=\"Open In Colab\"/></a>"
      ]
    },
    {
      "cell_type": "markdown",
      "metadata": {
        "id": "ShsgdwsWGDUZ"
      },
      "source": [
        "# 회귀분석이란 무엇인가 \n",
        "\n",
        "회귀분석은 데이터과학의 기초라 할 수 있는 기법입니다. 각 데이터는 평균으로 회귀한다는, 즉 돌아온다는 경향을 이용하는 제일 전통적 데이터 분석 기법이며 실제로 아직도 많이 사용되고 있습니다. 회귀분석은 간단히 말하자면 변수 사이의 선형 상관 관계를 분석하는 기법입니다. 독립변수가 종속변수에 미치는 통계적 영향을 분석하여, 독립변수의 특정값에 대응하는 종속변수 값을 예측하는 원리입니다. 물론 여정확하게 예측을 못할지라도 실제값과 예측값의 차이를 추출해서 분석 모델의 정확성을 파악하고 개선할 수도 있구요.     \n",
        "\n",
        "예를 들어, 수년째 해결되고 있지 않은 국내 집값을 생각봅시다. 집값과 함께 범죄 발생률, 고속도로 접근 용이도 등 다양한 변수들이 포함되어 있는 데이터를 학습해본다면 집값을 예측해볼 수 있지 않을까요? 바로 간단하게 실습을 해보죠. \n",
        "\n",
        "\n",
        "## 선형 회귀를 나타내주는 간단한 그래프가 있으면 좋을 것 같아요. 점들과 중간 선까지의 선이 그려진. 아래 예시 그림입니다.\n",
        "https://philosopher-chan.tistory.com/461\n",
        "\n"
      ]
    },
    {
      "cell_type": "code",
      "metadata": {
        "id": "FC1Kkb5FKcxO"
      },
      "source": [
        "import numpy as np\n",
        "import pandas as pd \n",
        "import matplotlib as plt \n",
        "import seaborn as sns \n",
        "import sklearn\n",
        "from sklearn.datasets import load_boston"
      ],
      "execution_count": 1,
      "outputs": []
    },
    {
      "cell_type": "markdown",
      "metadata": {
        "id": "zl_kQLldeBX-"
      },
      "source": [
        "필요한 라이브러리들과 함께, 간단한 실습용으로, 보스턴 주택 가격 예측을 하기 위하여 scikit-learn에서 boston 데이터를 호출합니다. "
      ]
    },
    {
      "cell_type": "code",
      "metadata": {
        "id": "BTa5VqGNef92",
        "colab": {
          "base_uri": "https://localhost:8080/",
          "height": 204
        },
        "outputId": "fcfcd10e-e064-4feb-b2b9-9c844ac673f2"
      },
      "source": [
        "boston = load_boston() \n",
        "boston_df = pd.DataFrame(boston.data, columns= boston.feature_names)\n",
        "boston_df.head() "
      ],
      "execution_count": 2,
      "outputs": [
        {
          "output_type": "execute_result",
          "data": {
            "text/html": [
              "<div>\n",
              "<style scoped>\n",
              "    .dataframe tbody tr th:only-of-type {\n",
              "        vertical-align: middle;\n",
              "    }\n",
              "\n",
              "    .dataframe tbody tr th {\n",
              "        vertical-align: top;\n",
              "    }\n",
              "\n",
              "    .dataframe thead th {\n",
              "        text-align: right;\n",
              "    }\n",
              "</style>\n",
              "<table border=\"1\" class=\"dataframe\">\n",
              "  <thead>\n",
              "    <tr style=\"text-align: right;\">\n",
              "      <th></th>\n",
              "      <th>CRIM</th>\n",
              "      <th>ZN</th>\n",
              "      <th>INDUS</th>\n",
              "      <th>CHAS</th>\n",
              "      <th>NOX</th>\n",
              "      <th>RM</th>\n",
              "      <th>AGE</th>\n",
              "      <th>DIS</th>\n",
              "      <th>RAD</th>\n",
              "      <th>TAX</th>\n",
              "      <th>PTRATIO</th>\n",
              "      <th>B</th>\n",
              "      <th>LSTAT</th>\n",
              "    </tr>\n",
              "  </thead>\n",
              "  <tbody>\n",
              "    <tr>\n",
              "      <th>0</th>\n",
              "      <td>0.00632</td>\n",
              "      <td>18.0</td>\n",
              "      <td>2.31</td>\n",
              "      <td>0.0</td>\n",
              "      <td>0.538</td>\n",
              "      <td>6.575</td>\n",
              "      <td>65.2</td>\n",
              "      <td>4.0900</td>\n",
              "      <td>1.0</td>\n",
              "      <td>296.0</td>\n",
              "      <td>15.3</td>\n",
              "      <td>396.90</td>\n",
              "      <td>4.98</td>\n",
              "    </tr>\n",
              "    <tr>\n",
              "      <th>1</th>\n",
              "      <td>0.02731</td>\n",
              "      <td>0.0</td>\n",
              "      <td>7.07</td>\n",
              "      <td>0.0</td>\n",
              "      <td>0.469</td>\n",
              "      <td>6.421</td>\n",
              "      <td>78.9</td>\n",
              "      <td>4.9671</td>\n",
              "      <td>2.0</td>\n",
              "      <td>242.0</td>\n",
              "      <td>17.8</td>\n",
              "      <td>396.90</td>\n",
              "      <td>9.14</td>\n",
              "    </tr>\n",
              "    <tr>\n",
              "      <th>2</th>\n",
              "      <td>0.02729</td>\n",
              "      <td>0.0</td>\n",
              "      <td>7.07</td>\n",
              "      <td>0.0</td>\n",
              "      <td>0.469</td>\n",
              "      <td>7.185</td>\n",
              "      <td>61.1</td>\n",
              "      <td>4.9671</td>\n",
              "      <td>2.0</td>\n",
              "      <td>242.0</td>\n",
              "      <td>17.8</td>\n",
              "      <td>392.83</td>\n",
              "      <td>4.03</td>\n",
              "    </tr>\n",
              "    <tr>\n",
              "      <th>3</th>\n",
              "      <td>0.03237</td>\n",
              "      <td>0.0</td>\n",
              "      <td>2.18</td>\n",
              "      <td>0.0</td>\n",
              "      <td>0.458</td>\n",
              "      <td>6.998</td>\n",
              "      <td>45.8</td>\n",
              "      <td>6.0622</td>\n",
              "      <td>3.0</td>\n",
              "      <td>222.0</td>\n",
              "      <td>18.7</td>\n",
              "      <td>394.63</td>\n",
              "      <td>2.94</td>\n",
              "    </tr>\n",
              "    <tr>\n",
              "      <th>4</th>\n",
              "      <td>0.06905</td>\n",
              "      <td>0.0</td>\n",
              "      <td>2.18</td>\n",
              "      <td>0.0</td>\n",
              "      <td>0.458</td>\n",
              "      <td>7.147</td>\n",
              "      <td>54.2</td>\n",
              "      <td>6.0622</td>\n",
              "      <td>3.0</td>\n",
              "      <td>222.0</td>\n",
              "      <td>18.7</td>\n",
              "      <td>396.90</td>\n",
              "      <td>5.33</td>\n",
              "    </tr>\n",
              "  </tbody>\n",
              "</table>\n",
              "</div>"
            ],
            "text/plain": [
              "      CRIM    ZN  INDUS  CHAS    NOX  ...  RAD    TAX  PTRATIO       B  LSTAT\n",
              "0  0.00632  18.0   2.31   0.0  0.538  ...  1.0  296.0     15.3  396.90   4.98\n",
              "1  0.02731   0.0   7.07   0.0  0.469  ...  2.0  242.0     17.8  396.90   9.14\n",
              "2  0.02729   0.0   7.07   0.0  0.469  ...  2.0  242.0     17.8  392.83   4.03\n",
              "3  0.03237   0.0   2.18   0.0  0.458  ...  3.0  222.0     18.7  394.63   2.94\n",
              "4  0.06905   0.0   2.18   0.0  0.458  ...  3.0  222.0     18.7  396.90   5.33\n",
              "\n",
              "[5 rows x 13 columns]"
            ]
          },
          "metadata": {
            "tags": []
          },
          "execution_count": 2
        }
      ]
    },
    {
      "cell_type": "markdown",
      "metadata": {
        "id": "kLJG6-dygUPM"
      },
      "source": [
        "## 변수 의미 \n",
        "CRIM : 지역별 범죄 발생률\n",
        "\n",
        "ZN : 25,000 평방피트를 초과하는 거주지역의 비율\n",
        "\n",
        "INDUS: 비상업지역 토지의 비율\n",
        "\n",
        "CHAS : 찰스강에 대한 더미변수(강의 경계에 위치한 경우는 1, 아니면 0)\n",
        "\n",
        "NOX : 일산화질소 농도\n",
        "\n",
        "RM : 주택 1가구당 평균 방의 개수\n",
        "\n",
        "AGE : 1940년 이전에 건축된 소유주택의 비율\n",
        "\n",
        "DIS : 5개의 보스턴 고용센터까지의 접근성 지수\n",
        "\n",
        "RAD : 고속도로까지의 접근성 지수\n",
        "\n",
        "TAX : 10,000 달러 당 재산세율\n",
        "\n",
        "PTRATIO : 지역별 교사 한명당 학생 비율\n",
        "\n",
        "B : 지역의 흑인 거주 비율\n",
        "\n",
        "LSTAT: 하위계층의 비율(%)\n",
        "\n",
        "MEDV : Target. 본인 소유의 주택가격(중앙값) (단위: $1,000)\n",
        "\n",
        "이렇게 다양한 변수들이 내장되어 있는 데이터입니다. 그런데, 제일 중요한 가격이 포함이 되어 있지 않네요. 본 데이터는 사실 독립변수들만 있는 데이터고, 종속변수인 가격은 따로 호출해서 추가해야 합니다. "
      ]
    },
    {
      "cell_type": "code",
      "metadata": {
        "id": "F3_i2dYbjkY7"
      },
      "source": [
        "boston_df['PRICE'] = boston.target # boston.target = 가격들이 담겨져 있음. 호출해서 데이터에 추가 "
      ],
      "execution_count": 3,
      "outputs": []
    },
    {
      "cell_type": "markdown",
      "metadata": {
        "id": "S1CmMVXEk38N"
      },
      "source": [
        "자 이제 살펴볼 데이터가 완성되었습니다. 간단히 살펴보도록 하죠. "
      ]
    },
    {
      "cell_type": "code",
      "metadata": {
        "id": "LZSW_HaWk8Eo",
        "colab": {
          "base_uri": "https://localhost:8080/"
        },
        "outputId": "da34809b-911d-4d43-93f2-ea52f908bc51"
      },
      "source": [
        "print('boston_df 데이터 사이즈:', boston_df.shape)"
      ],
      "execution_count": 4,
      "outputs": [
        {
          "output_type": "stream",
          "text": [
            "boston_df 데이터 사이즈: (506, 14)\n"
          ],
          "name": "stdout"
        }
      ]
    },
    {
      "cell_type": "markdown",
      "metadata": {
        "id": "9grxbO2UlIZS"
      },
      "source": [
        "총 506개의 행과 14가지 열이 있다는 점을 확인할 수 있습니다. \n",
        "\n",
        "데이터가 어떤지도 첫 3개의 행을 통해서 살펴보도록 해보죠. "
      ]
    },
    {
      "cell_type": "code",
      "metadata": {
        "id": "Oj2BM9X3lPw6",
        "colab": {
          "base_uri": "https://localhost:8080/",
          "height": 142
        },
        "outputId": "91db3ac6-02c6-452f-a9e9-8ec4b8895014"
      },
      "source": [
        "boston_df.head(3)"
      ],
      "execution_count": 5,
      "outputs": [
        {
          "output_type": "execute_result",
          "data": {
            "text/html": [
              "<div>\n",
              "<style scoped>\n",
              "    .dataframe tbody tr th:only-of-type {\n",
              "        vertical-align: middle;\n",
              "    }\n",
              "\n",
              "    .dataframe tbody tr th {\n",
              "        vertical-align: top;\n",
              "    }\n",
              "\n",
              "    .dataframe thead th {\n",
              "        text-align: right;\n",
              "    }\n",
              "</style>\n",
              "<table border=\"1\" class=\"dataframe\">\n",
              "  <thead>\n",
              "    <tr style=\"text-align: right;\">\n",
              "      <th></th>\n",
              "      <th>CRIM</th>\n",
              "      <th>ZN</th>\n",
              "      <th>INDUS</th>\n",
              "      <th>CHAS</th>\n",
              "      <th>NOX</th>\n",
              "      <th>RM</th>\n",
              "      <th>AGE</th>\n",
              "      <th>DIS</th>\n",
              "      <th>RAD</th>\n",
              "      <th>TAX</th>\n",
              "      <th>PTRATIO</th>\n",
              "      <th>B</th>\n",
              "      <th>LSTAT</th>\n",
              "      <th>PRICE</th>\n",
              "    </tr>\n",
              "  </thead>\n",
              "  <tbody>\n",
              "    <tr>\n",
              "      <th>0</th>\n",
              "      <td>0.00632</td>\n",
              "      <td>18.0</td>\n",
              "      <td>2.31</td>\n",
              "      <td>0.0</td>\n",
              "      <td>0.538</td>\n",
              "      <td>6.575</td>\n",
              "      <td>65.2</td>\n",
              "      <td>4.0900</td>\n",
              "      <td>1.0</td>\n",
              "      <td>296.0</td>\n",
              "      <td>15.3</td>\n",
              "      <td>396.90</td>\n",
              "      <td>4.98</td>\n",
              "      <td>24.0</td>\n",
              "    </tr>\n",
              "    <tr>\n",
              "      <th>1</th>\n",
              "      <td>0.02731</td>\n",
              "      <td>0.0</td>\n",
              "      <td>7.07</td>\n",
              "      <td>0.0</td>\n",
              "      <td>0.469</td>\n",
              "      <td>6.421</td>\n",
              "      <td>78.9</td>\n",
              "      <td>4.9671</td>\n",
              "      <td>2.0</td>\n",
              "      <td>242.0</td>\n",
              "      <td>17.8</td>\n",
              "      <td>396.90</td>\n",
              "      <td>9.14</td>\n",
              "      <td>21.6</td>\n",
              "    </tr>\n",
              "    <tr>\n",
              "      <th>2</th>\n",
              "      <td>0.02729</td>\n",
              "      <td>0.0</td>\n",
              "      <td>7.07</td>\n",
              "      <td>0.0</td>\n",
              "      <td>0.469</td>\n",
              "      <td>7.185</td>\n",
              "      <td>61.1</td>\n",
              "      <td>4.9671</td>\n",
              "      <td>2.0</td>\n",
              "      <td>242.0</td>\n",
              "      <td>17.8</td>\n",
              "      <td>392.83</td>\n",
              "      <td>4.03</td>\n",
              "      <td>34.7</td>\n",
              "    </tr>\n",
              "  </tbody>\n",
              "</table>\n",
              "</div>"
            ],
            "text/plain": [
              "      CRIM    ZN  INDUS  CHAS    NOX  ...    TAX  PTRATIO       B  LSTAT  PRICE\n",
              "0  0.00632  18.0   2.31   0.0  0.538  ...  296.0     15.3  396.90   4.98   24.0\n",
              "1  0.02731   0.0   7.07   0.0  0.469  ...  242.0     17.8  396.90   9.14   21.6\n",
              "2  0.02729   0.0   7.07   0.0  0.469  ...  242.0     17.8  392.83   4.03   34.7\n",
              "\n",
              "[3 rows x 14 columns]"
            ]
          },
          "metadata": {
            "tags": []
          },
          "execution_count": 5
        }
      ]
    },
    {
      "cell_type": "markdown",
      "metadata": {
        "id": "CFRJy1w1lj7T"
      },
      "source": [
        "자, 이제 바로 간단한 선형회귀 모델을 만들어보겠습니다"
      ]
    },
    {
      "cell_type": "code",
      "metadata": {
        "id": "vBvGJQ9UlogL",
        "colab": {
          "base_uri": "https://localhost:8080/"
        },
        "outputId": "10d078c0-93c0-44bb-d4c4-d130199137ef"
      },
      "source": [
        "from sklearn.model_selection import train_test_split # train과 test 분리용 \n",
        "from sklearn.linear_model import LinearRegression #선형 회귀 분석 패키지 \n",
        "from sklearn.metrics import mean_squared_error, r2_score #모델 평가용 패키지 \n",
        "\n",
        "# 데이터 분리\n",
        "y_target = boston_df['PRICE']\n",
        "x_data= boston_df.drop(['PRICE'], axis=1, inplace=False)\n",
        "\n",
        "\n",
        "x_train, x_test, y_train, y_test = train_test_split(x_data, y_target, test_size=0.3, random_state=156)\n",
        "\n",
        "# 모형 학습\n",
        "lr= LinearRegression()\n",
        "lr.fit(x_train, y_train)\n"
      ],
      "execution_count": 6,
      "outputs": [
        {
          "output_type": "execute_result",
          "data": {
            "text/plain": [
              "LinearRegression(copy_X=True, fit_intercept=True, n_jobs=None, normalize=False)"
            ]
          },
          "metadata": {
            "tags": []
          },
          "execution_count": 6
        }
      ]
    },
    {
      "cell_type": "markdown",
      "metadata": {
        "id": "Ips__eXgnrME"
      },
      "source": [
        "기초적인 선형모델을 만들었습니다. 간단하죠?\n",
        "모델의 성능을 한번 확인해볼까요?"
      ]
    },
    {
      "cell_type": "code",
      "metadata": {
        "id": "HsdnE1DNnlf1",
        "colab": {
          "base_uri": "https://localhost:8080/"
        },
        "outputId": "51197040-06cb-4ca9-9d5b-ca3e4b2fcc57"
      },
      "source": [
        "# 모형 예측\n",
        "y_pred = lr.predict(x_test)\n",
        "mse=mean_squared_error(y_test, y_pred)\n",
        "\n",
        "# 모형 평가\n",
        "rmse=np.sqrt(mse)\n",
        "r2 = r2_score(y_test, y_pred)\n",
        "\n",
        "print(\"MSE: \", round(mse,3))\n",
        "print(\"RMSE: \", round(rmse,3))\n",
        "print(\"R^2 (Variance Score): \", round(r2,3))"
      ],
      "execution_count": 7,
      "outputs": [
        {
          "output_type": "stream",
          "text": [
            "MSE:  17.297\n",
            "RMSE:  4.159\n",
            "R^2 (Variance Score):  0.757\n"
          ],
          "name": "stdout"
        }
      ]
    },
    {
      "cell_type": "markdown",
      "metadata": {
        "id": "NZAJhM7LqOiu"
      },
      "source": [
        "## 레모네이드 회귀 \n",
        "한가지 더 재미있는 실습으로 회귀를 살펴보겠습니다. \n",
        "한 아이가 여름방학 대 음료를 팔면서 기록한 판매 데이터입니다.\n",
        "레모네이드 세일에 대한 회귀 분석을 실시해볼까요?"
      ]
    },
    {
      "cell_type": "code",
      "metadata": {
        "id": "Y2jnIuySrPKr",
        "colab": {
          "base_uri": "https://localhost:8080/",
          "height": 366
        },
        "outputId": "8df8768a-25e6-4602-b489-0f390ff137b5"
      },
      "source": [
        "ade = pd.read_csv('/philip/Lemonade2016.csv') \n",
        "\n",
        "print(\"데이터 사이즈: \",ade.shape)\n",
        "print(\"변수들의 자료형 확인:\\n\",ade.dtypes)\n",
        "ade.head()"
      ],
      "execution_count": null,
      "outputs": [
        {
          "output_type": "stream",
          "text": [
            "데이터 사이즈:  (32, 7)\n",
            "변수들의 자료형 확인:\n",
            " Date            object\n",
            "Location        object\n",
            "Lemon            int64\n",
            "Orange           int64\n",
            "Temperature      int64\n",
            "Leaflets       float64\n",
            "Price          float64\n",
            "dtype: object\n"
          ],
          "name": "stdout"
        },
        {
          "output_type": "execute_result",
          "data": {
            "text/html": [
              "<div>\n",
              "<style scoped>\n",
              "    .dataframe tbody tr th:only-of-type {\n",
              "        vertical-align: middle;\n",
              "    }\n",
              "\n",
              "    .dataframe tbody tr th {\n",
              "        vertical-align: top;\n",
              "    }\n",
              "\n",
              "    .dataframe thead th {\n",
              "        text-align: right;\n",
              "    }\n",
              "</style>\n",
              "<table border=\"1\" class=\"dataframe\">\n",
              "  <thead>\n",
              "    <tr style=\"text-align: right;\">\n",
              "      <th></th>\n",
              "      <th>Date</th>\n",
              "      <th>Location</th>\n",
              "      <th>Lemon</th>\n",
              "      <th>Orange</th>\n",
              "      <th>Temperature</th>\n",
              "      <th>Leaflets</th>\n",
              "      <th>Price</th>\n",
              "    </tr>\n",
              "  </thead>\n",
              "  <tbody>\n",
              "    <tr>\n",
              "      <th>0</th>\n",
              "      <td>7/1/2016</td>\n",
              "      <td>Park</td>\n",
              "      <td>97</td>\n",
              "      <td>67</td>\n",
              "      <td>70</td>\n",
              "      <td>90.0</td>\n",
              "      <td>0.25</td>\n",
              "    </tr>\n",
              "    <tr>\n",
              "      <th>1</th>\n",
              "      <td>7/2/2016</td>\n",
              "      <td>Park</td>\n",
              "      <td>98</td>\n",
              "      <td>67</td>\n",
              "      <td>72</td>\n",
              "      <td>90.0</td>\n",
              "      <td>0.25</td>\n",
              "    </tr>\n",
              "    <tr>\n",
              "      <th>2</th>\n",
              "      <td>7/3/2016</td>\n",
              "      <td>Park</td>\n",
              "      <td>110</td>\n",
              "      <td>77</td>\n",
              "      <td>71</td>\n",
              "      <td>104.0</td>\n",
              "      <td>0.25</td>\n",
              "    </tr>\n",
              "    <tr>\n",
              "      <th>3</th>\n",
              "      <td>7/4/2016</td>\n",
              "      <td>Beach</td>\n",
              "      <td>134</td>\n",
              "      <td>99</td>\n",
              "      <td>76</td>\n",
              "      <td>98.0</td>\n",
              "      <td>0.25</td>\n",
              "    </tr>\n",
              "    <tr>\n",
              "      <th>4</th>\n",
              "      <td>7/5/2016</td>\n",
              "      <td>Beach</td>\n",
              "      <td>159</td>\n",
              "      <td>118</td>\n",
              "      <td>78</td>\n",
              "      <td>135.0</td>\n",
              "      <td>0.25</td>\n",
              "    </tr>\n",
              "  </tbody>\n",
              "</table>\n",
              "</div>"
            ],
            "text/plain": [
              "       Date Location  Lemon  Orange  Temperature  Leaflets  Price\n",
              "0  7/1/2016     Park     97      67           70      90.0   0.25\n",
              "1  7/2/2016     Park     98      67           72      90.0   0.25\n",
              "2  7/3/2016     Park    110      77           71     104.0   0.25\n",
              "3  7/4/2016    Beach    134      99           76      98.0   0.25\n",
              "4  7/5/2016    Beach    159     118           78     135.0   0.25"
            ]
          },
          "metadata": {
            "tags": []
          },
          "execution_count": 56
        }
      ]
    },
    {
      "cell_type": "code",
      "metadata": {
        "id": "E0aAV7SHs-wP",
        "colab": {
          "base_uri": "https://localhost:8080/",
          "height": 105
        },
        "outputId": "f72d4b7c-077d-419e-f795-bdc0d84513fd"
      },
      "source": [
        "# NA값 없는지 확인 \n",
        "is_NaN = ade.isnull()\n",
        "row_has_NaN = is_NaN.any(axis=1)\n",
        "ade[row_has_NaN]"
      ],
      "execution_count": null,
      "outputs": [
        {
          "output_type": "execute_result",
          "data": {
            "text/html": [
              "<div>\n",
              "<style scoped>\n",
              "    .dataframe tbody tr th:only-of-type {\n",
              "        vertical-align: middle;\n",
              "    }\n",
              "\n",
              "    .dataframe tbody tr th {\n",
              "        vertical-align: top;\n",
              "    }\n",
              "\n",
              "    .dataframe thead th {\n",
              "        text-align: right;\n",
              "    }\n",
              "</style>\n",
              "<table border=\"1\" class=\"dataframe\">\n",
              "  <thead>\n",
              "    <tr style=\"text-align: right;\">\n",
              "      <th></th>\n",
              "      <th>Date</th>\n",
              "      <th>Location</th>\n",
              "      <th>Lemon</th>\n",
              "      <th>Orange</th>\n",
              "      <th>Temperature</th>\n",
              "      <th>Leaflets</th>\n",
              "      <th>Price</th>\n",
              "    </tr>\n",
              "  </thead>\n",
              "  <tbody>\n",
              "    <tr>\n",
              "      <th>8</th>\n",
              "      <td>NaN</td>\n",
              "      <td>Beach</td>\n",
              "      <td>123</td>\n",
              "      <td>86</td>\n",
              "      <td>82</td>\n",
              "      <td>113.0</td>\n",
              "      <td>0.25</td>\n",
              "    </tr>\n",
              "    <tr>\n",
              "      <th>20</th>\n",
              "      <td>7/20/2016</td>\n",
              "      <td>Park</td>\n",
              "      <td>71</td>\n",
              "      <td>42</td>\n",
              "      <td>70</td>\n",
              "      <td>NaN</td>\n",
              "      <td>0.50</td>\n",
              "    </tr>\n",
              "  </tbody>\n",
              "</table>\n",
              "</div>"
            ],
            "text/plain": [
              "         Date Location  Lemon  Orange  Temperature  Leaflets  Price\n",
              "8         NaN    Beach    123      86           82     113.0   0.25\n",
              "20  7/20/2016     Park     71      42           70       NaN   0.50"
            ]
          },
          "metadata": {
            "tags": []
          },
          "execution_count": 57
        }
      ]
    },
    {
      "cell_type": "markdown",
      "metadata": {
        "id": "D_i5QWp4zCa1"
      },
      "source": [
        "NA값이 있는지 살펴보니, 위와 같이 나타났습니다. \n",
        "원래 데이터 분석을 할 때는, 가능하다면 NA를 채우기 위한 시도를 해봐야 하나, 속도를 위해 NA 값을 제거하고 넘어가는 것으로 진행해보겠습니다. \n",
        "추가적으로, 레몬과 오렌지 판매개수의 합을 Sale라는 변수로 만들고, Sale와 Price를 곱하여 Revenue 변수또한 생성해봅시다. "
      ]
    },
    {
      "cell_type": "code",
      "metadata": {
        "id": "_rNIwsfhzVK0",
        "colab": {
          "base_uri": "https://localhost:8080/",
          "height": 191
        },
        "outputId": "20e3acd9-f3d5-44fe-e0c8-d4fa243e9e7b"
      },
      "source": [
        "ade=lemon.dropna() \n",
        "ade['Sale'] = ade['Lemon'] + ade['Orange']\n",
        "ade['Revenue'] = ade['Sale'] * ade['Price']\n",
        "\n",
        "ade.head()"
      ],
      "execution_count": null,
      "outputs": [
        {
          "output_type": "execute_result",
          "data": {
            "text/html": [
              "<div>\n",
              "<style scoped>\n",
              "    .dataframe tbody tr th:only-of-type {\n",
              "        vertical-align: middle;\n",
              "    }\n",
              "\n",
              "    .dataframe tbody tr th {\n",
              "        vertical-align: top;\n",
              "    }\n",
              "\n",
              "    .dataframe thead th {\n",
              "        text-align: right;\n",
              "    }\n",
              "</style>\n",
              "<table border=\"1\" class=\"dataframe\">\n",
              "  <thead>\n",
              "    <tr style=\"text-align: right;\">\n",
              "      <th></th>\n",
              "      <th>Date</th>\n",
              "      <th>Location</th>\n",
              "      <th>Lemon</th>\n",
              "      <th>Orange</th>\n",
              "      <th>Temperature</th>\n",
              "      <th>Leaflets</th>\n",
              "      <th>Price</th>\n",
              "      <th>Sale</th>\n",
              "      <th>Revenue</th>\n",
              "    </tr>\n",
              "  </thead>\n",
              "  <tbody>\n",
              "    <tr>\n",
              "      <th>0</th>\n",
              "      <td>7/1/2016</td>\n",
              "      <td>Park</td>\n",
              "      <td>97</td>\n",
              "      <td>67</td>\n",
              "      <td>70</td>\n",
              "      <td>90.0</td>\n",
              "      <td>0.25</td>\n",
              "      <td>164</td>\n",
              "      <td>41.00</td>\n",
              "    </tr>\n",
              "    <tr>\n",
              "      <th>1</th>\n",
              "      <td>7/2/2016</td>\n",
              "      <td>Park</td>\n",
              "      <td>98</td>\n",
              "      <td>67</td>\n",
              "      <td>72</td>\n",
              "      <td>90.0</td>\n",
              "      <td>0.25</td>\n",
              "      <td>165</td>\n",
              "      <td>41.25</td>\n",
              "    </tr>\n",
              "    <tr>\n",
              "      <th>2</th>\n",
              "      <td>7/3/2016</td>\n",
              "      <td>Park</td>\n",
              "      <td>110</td>\n",
              "      <td>77</td>\n",
              "      <td>71</td>\n",
              "      <td>104.0</td>\n",
              "      <td>0.25</td>\n",
              "      <td>187</td>\n",
              "      <td>46.75</td>\n",
              "    </tr>\n",
              "    <tr>\n",
              "      <th>3</th>\n",
              "      <td>7/4/2016</td>\n",
              "      <td>Beach</td>\n",
              "      <td>134</td>\n",
              "      <td>99</td>\n",
              "      <td>76</td>\n",
              "      <td>98.0</td>\n",
              "      <td>0.25</td>\n",
              "      <td>233</td>\n",
              "      <td>58.25</td>\n",
              "    </tr>\n",
              "    <tr>\n",
              "      <th>4</th>\n",
              "      <td>7/5/2016</td>\n",
              "      <td>Beach</td>\n",
              "      <td>159</td>\n",
              "      <td>118</td>\n",
              "      <td>78</td>\n",
              "      <td>135.0</td>\n",
              "      <td>0.25</td>\n",
              "      <td>277</td>\n",
              "      <td>69.25</td>\n",
              "    </tr>\n",
              "  </tbody>\n",
              "</table>\n",
              "</div>"
            ],
            "text/plain": [
              "       Date Location  Lemon  Orange  ...  Leaflets  Price  Sale  Revenue\n",
              "0  7/1/2016     Park     97      67  ...      90.0   0.25   164    41.00\n",
              "1  7/2/2016     Park     98      67  ...      90.0   0.25   165    41.25\n",
              "2  7/3/2016     Park    110      77  ...     104.0   0.25   187    46.75\n",
              "3  7/4/2016    Beach    134      99  ...      98.0   0.25   233    58.25\n",
              "4  7/5/2016    Beach    159     118  ...     135.0   0.25   277    69.25\n",
              "\n",
              "[5 rows x 9 columns]"
            ]
          },
          "metadata": {
            "tags": []
          },
          "execution_count": 59
        }
      ]
    },
    {
      "cell_type": "markdown",
      "metadata": {
        "id": "jaaKD5fD0fAx"
      },
      "source": [
        "자, 그렇다면 독립변수들과 Revenue의 상관계를 살펴볼까요?"
      ]
    },
    {
      "cell_type": "code",
      "metadata": {
        "id": "6vUpLjes3Q8w",
        "colab": {
          "base_uri": "https://localhost:8080/",
          "height": 296
        },
        "outputId": "d8c3b847-5e0d-4b82-f3cb-c5a77fd13f95"
      },
      "source": [
        "sns.regplot(x='Temperature', y='Revenue', data=ade)"
      ],
      "execution_count": null,
      "outputs": [
        {
          "output_type": "execute_result",
          "data": {
            "text/plain": [
              "<matplotlib.axes._subplots.AxesSubplot at 0x7f19ef0f06d8>"
            ]
          },
          "metadata": {
            "tags": []
          },
          "execution_count": 62
        },
        {
          "output_type": "display_data",
          "data": {
            "image/png": "[encoded data removed]",
            "text/plain": [
              "<Figure size 432x288 with 1 Axes>"
            ]
          },
          "metadata": {
            "tags": [],
            "needs_background": "light"
          }
        }
      ]
    },
    {
      "cell_type": "code",
      "metadata": {
        "id": "qUu91Bzt3tbD",
        "colab": {
          "base_uri": "https://localhost:8080/",
          "height": 296
        },
        "outputId": "22d99dcb-9410-4321-d343-c0fdbb8f173a"
      },
      "source": [
        "sns.regplot(x='Leaflets', y='Revenue', data=ade)"
      ],
      "execution_count": null,
      "outputs": [
        {
          "output_type": "execute_result",
          "data": {
            "text/plain": [
              "<matplotlib.axes._subplots.AxesSubplot at 0x7f19ef01a5f8>"
            ]
          },
          "metadata": {
            "tags": []
          },
          "execution_count": 63
        },
        {
          "output_type": "display_data",
          "data": {
            "image/png": "[encoded data removed]",
            "text/plain": [
              "<Figure size 432x288 with 1 Axes>"
            ]
          },
          "metadata": {
            "tags": [],
            "needs_background": "light"
          }
        }
      ]
    },
    {
      "cell_type": "code",
      "metadata": {
        "id": "KCk7g1_f3vot",
        "colab": {
          "base_uri": "https://localhost:8080/",
          "height": 296
        },
        "outputId": "b60e1626-47c0-42a7-d7bf-8cf451afbdd3"
      },
      "source": [
        "sns.regplot(x='Price', y='Revenue', data=ade)"
      ],
      "execution_count": null,
      "outputs": [
        {
          "output_type": "execute_result",
          "data": {
            "text/plain": [
              "<matplotlib.axes._subplots.AxesSubplot at 0x7f19eefea2e8>"
            ]
          },
          "metadata": {
            "tags": []
          },
          "execution_count": 67
        },
        {
          "output_type": "display_data",
          "data": {
            "image/png": "[encoded data removed]",
            "text/plain": [
              "<Figure size 432x288 with 1 Axes>"
            ]
          },
          "metadata": {
            "tags": [],
            "needs_background": "light"
          }
        }
      ]
    },
    {
      "cell_type": "markdown",
      "metadata": {
        "id": "NVQHidPw5zGU"
      },
      "source": [
        "자 변수들의 관계를 확인해보았으니, 한번 더 회귀 모델을 만들어볼까요?"
      ]
    },
    {
      "cell_type": "code",
      "metadata": {
        "id": "lHLbPA6O6Vbo",
        "colab": {
          "base_uri": "https://localhost:8080/"
        },
        "outputId": "f43711d5-fd21-4b5c-b5b5-9c66b33b39c4"
      },
      "source": [
        "y_target=ade['Revenue']\n",
        "x_data=ade[['Temperature','Leaflets','Price']]\n",
        "\n",
        "x_train, x_test, y_train, y_test = train_test_split(x_data,y_target, test_size=0.3, random_state=2021)\n",
        "\n",
        "lr= LinearRegression()\n",
        "lr.fit(x_train, y_train)\n"
      ],
      "execution_count": null,
      "outputs": [
        {
          "output_type": "execute_result",
          "data": {
            "text/plain": [
              "LinearRegression(copy_X=True, fit_intercept=True, n_jobs=None, normalize=False)"
            ]
          },
          "metadata": {
            "tags": []
          },
          "execution_count": 70
        }
      ]
    },
    {
      "cell_type": "code",
      "metadata": {
        "id": "TTpVBkbJ7nTQ",
        "colab": {
          "base_uri": "https://localhost:8080/"
        },
        "outputId": "d58a6581-f587-4e87-b557-080cfcaeebce"
      },
      "source": [
        "y_pred = lr.predict(x_test)\n",
        "mse=mean_squared_error(y_test, y_pred)\n",
        "rmse=np.sqrt(mse)\n",
        "r2 = r2_score(y_test, y_pred)\n",
        "\n",
        "print(\"MSE: \", round(mse,3))\n",
        "print(\"RMSE: \", round(rmse,3))\n",
        "print(\"R^2 (Variance Score): \", round(r2,3))"
      ],
      "execution_count": null,
      "outputs": [
        {
          "output_type": "stream",
          "text": [
            "MSE:  73.811\n",
            "RMSE:  8.591\n",
            "R^2 (Variance Score):  0.64\n"
          ],
          "name": "stdout"
        }
      ]
    },
    {
      "cell_type": "markdown",
      "metadata": {
        "id": "9QwEJ3gC7zff"
      },
      "source": [
        "자 이렇게 ade 데이터의 선형 실습을 완료하였습니다. \n",
        "RMSE가 8.591로 나왔서, 오차가 생각보다 크게 나왔네요. \n",
        "추후, 회귀 모델의 성능을 어떻게 더 개선시킬 수 있는지에 대한 여러가지 방법론을 다루게 될 것입니다.  "
      ]
    },
    {
      "cell_type": "markdown",
      "metadata": {
        "id": "mssJKMZT9hfF"
      },
      "source": [
        "## 캐글 주택 가격 실습 예제 \n",
        "이번에는 캐글 데이터로 실습을 해보도록 하죠. 캐글에서 <House Prices: Advanced Regression Techniques> 라는 프로젝트의 데이터입니다. 들어가셔서 관련 데이터들을 다운로드 하시면 됩니다. \n"
      ]
    },
    {
      "cell_type": "code",
      "metadata": {
        "id": "OadcAydWJCEQ"
      },
      "source": [
        "house_df = pd.read_csv('/philip/train.csv') "
      ],
      "execution_count": null,
      "outputs": []
    },
    {
      "cell_type": "markdown",
      "metadata": {
        "id": "3T9cFd5_JU2s"
      },
      "source": [
        "데이터가 어떠한지 살펴봐볼까요?"
      ]
    },
    {
      "cell_type": "code",
      "metadata": {
        "id": "2HODnFRzJWfC",
        "colab": {
          "base_uri": "https://localhost:8080/"
        },
        "outputId": "9f19bace-2d38-4ba5-ff1b-e2951f44d55e"
      },
      "source": [
        "house_df.head(3)\n",
        "\n",
        "print(\"\\n데이터 구조: \", house_df.shape)\n",
        "\n",
        "print(\"\\n\\n데이터 변수 자료형\\n \", house_df.dtypes)\n",
        "\n",
        "\n",
        "df_na = pd.DataFrame(house_df.isnull().sum())\n",
        "df_na.columns=['count']\n",
        "df_na.sort_values(by='count',ascending=False, inplace=True)\n",
        "print(\"\\n\\n데이터 NA 개수:\\n\", df_na.head(10))\n"
      ],
      "execution_count": null,
      "outputs": [
        {
          "output_type": "stream",
          "text": [
            "\n",
            "데이터 구조:  (1460, 81)\n",
            "\n",
            "\n",
            "데이터 변수 자료형\n",
            "  Id                 int64\n",
            "MSSubClass         int64\n",
            "MSZoning          object\n",
            "LotFrontage      float64\n",
            "LotArea            int64\n",
            "                  ...   \n",
            "MoSold             int64\n",
            "YrSold             int64\n",
            "SaleType          object\n",
            "SaleCondition     object\n",
            "SalePrice          int64\n",
            "Length: 81, dtype: object\n",
            "\n",
            "\n",
            "데이터 NA 개수:\n",
            "               count\n",
            "PoolQC         1453\n",
            "MiscFeature    1406\n",
            "Alley          1369\n",
            "Fence          1179\n",
            "FireplaceQu     690\n",
            "LotFrontage     259\n",
            "GarageYrBlt      81\n",
            "GarageCond       81\n",
            "GarageType       81\n",
            "GarageFinish     81\n"
          ],
          "name": "stdout"
        }
      ]
    },
    {
      "cell_type": "markdown",
      "metadata": {
        "id": "ssQUG-lqJycz"
      },
      "source": [
        "변수가 무려 81개나 됩니다. 게다가 NA값이 많은 변수들 또한 다양합니다. \n",
        "이를 해결하기 위한 전처리가 시급해보입니다. \n",
        "불필요하고 NA값 100 이상인변수들을 전부 제거해보겠습니다. 그리고 제거하지 않은 숫자형 NA값은 평균값으로 바꾸겠습니다. "
      ]
    },
    {
      "cell_type": "code",
      "metadata": {
        "id": "8a0Tpp4KKujZ"
      },
      "source": [
        "#house_df.drop(['Id','PoolQC','MiscFeature','Alley','Fence','FireplaceQu','LotFrontage'], axis=1, inplace=True)\n",
        "house_df.fillna(house_df.mean(), inplace=True)"
      ],
      "execution_count": null,
      "outputs": []
    },
    {
      "cell_type": "markdown",
      "metadata": {
        "id": "M5grXewHNPSq"
      },
      "source": [
        "자 이제 져"
      ]
    },
    {
      "cell_type": "code",
      "metadata": {
        "id": "rOLLQp5FNG51",
        "colab": {
          "base_uri": "https://localhost:8080/",
          "height": 386
        },
        "outputId": "b91b6c59-9c08-4e4b-9160-63d7bf285b77"
      },
      "source": [
        "# 분포 확인 \n",
        "sns.displot(house_df['SalePrice'])\n"
      ],
      "execution_count": null,
      "outputs": [
        {
          "output_type": "execute_result",
          "data": {
            "text/plain": [
              "<seaborn.axisgrid.FacetGrid at 0x7f19ec3d03c8>"
            ]
          },
          "metadata": {
            "tags": []
          },
          "execution_count": 117
        },
        {
          "output_type": "display_data",
          "data": {
            "image/png": "[encoded data removed]",
            "text/plain": [
              "<Figure size 360x360 with 1 Axes>"
            ]
          },
          "metadata": {
            "tags": [],
            "needs_background": "light"
          }
        }
      ]
    },
    {
      "cell_type": "markdown",
      "metadata": {
        "id": "7JChUGqUPlKm"
      },
      "source": [
        "보니, 정규 분포가 아닙니다. 선형회귀분석은 정규 분포를 가정으로 하는 분석이기 때문에, 로그 변환을 통해서 정규 분포로 학습을 진행보도록 하죠. "
      ]
    },
    {
      "cell_type": "code",
      "metadata": {
        "id": "q4owBcFRPxgt",
        "colab": {
          "base_uri": "https://localhost:8080/",
          "height": 386
        },
        "outputId": "725fd579-a3a7-47a5-9f0a-0f2811aefea2"
      },
      "source": [
        "house_df['SalePrice'] = np.log1p(house_df['SalePrice'])\n",
        "sns.displot(house_df['SalePrice'])"
      ],
      "execution_count": null,
      "outputs": [
        {
          "output_type": "execute_result",
          "data": {
            "text/plain": [
              "<seaborn.axisgrid.FacetGrid at 0x7f19ec450668>"
            ]
          },
          "metadata": {
            "tags": []
          },
          "execution_count": 118
        },
        {
          "output_type": "display_data",
          "data": {
            "image/png": "[encoded data removed]",
            "text/plain": [
              "<Figure size 360x360 with 1 Axes>"
            ]
          },
          "metadata": {
            "tags": [],
            "needs_background": "light"
          }
        }
      ]
    },
    {
      "cell_type": "markdown",
      "metadata": {
        "id": "aA3ery7BP6gS"
      },
      "source": [
        "이제 데이터 값의 분포가 왼쪽이나 오른쪽으로 치우쳐 있지 않고, 정규 분포 형태를 띄우는 점을 확인할 수 있습니다. \n",
        "\n",
        "자, 그런데 sklearn은 숫자형 데이터로 분석을 합니다. 그렇다면 문자형 변수를 숫자형으로 바꿔야 합니다. 이를 쉽게 해주는 것이 원-핫 인코딩입니다. 원-핫 인코딩은 해당되는 하나의 데이터만 1로 변경해 주고 나머지는 0으로 채워주는 것을 뜻합니다. get_dummies()는 pandas에 내장되어 있는 원-핫 인코딩 함수인데, 이를 이용해보도록 하겠습니다. "
      ]
    },
    {
      "cell_type": "code",
      "metadata": {
        "id": "vzlLSDqEQmKj",
        "colab": {
          "base_uri": "https://localhost:8080/"
        },
        "outputId": "9f057367-424e-4f80-cc24-2b4e36465c60"
      },
      "source": [
        "house_df_dummies = pd.get_dummies(house_df)\n",
        "house_df_dummies.isnull().sum()"
      ],
      "execution_count": null,
      "outputs": [
        {
          "output_type": "execute_result",
          "data": {
            "text/plain": [
              "MSSubClass               0\n",
              "LotArea                  0\n",
              "OverallQual              0\n",
              "OverallCond              0\n",
              "YearBuilt                0\n",
              "                        ..\n",
              "SaleCondition_AdjLand    0\n",
              "SaleCondition_Alloca     0\n",
              "SaleCondition_Family     0\n",
              "SaleCondition_Normal     0\n",
              "SaleCondition_Partial    0\n",
              "Length: 270, dtype: int64"
            ]
          },
          "metadata": {
            "tags": []
          },
          "execution_count": 119
        }
      ]
    },
    {
      "cell_type": "markdown",
      "metadata": {
        "id": "J6_UT4DVVghJ"
      },
      "source": [
        "자 그러면 드디어 선형 회귀 모델을 학습하여 예측을 시도해보겠습니다. "
      ]
    },
    {
      "cell_type": "code",
      "metadata": {
        "id": "_f15Y8ZRVxJI",
        "colab": {
          "base_uri": "https://localhost:8080/"
        },
        "outputId": "d963749c-d5bf-454e-8c0d-fb100b206370"
      },
      "source": [
        "y_target=house_df_dummies['SalePrice']\n",
        "x_features= house_df_dummies.drop('SalePrice', axis=1, inplace=False)\n",
        "x_train, x_test, y_train, y_test = train_test_split(x_features, y_target, test_size=0.3, random_state=2021)\n",
        "\n",
        "lr = LinearRegression()\n",
        "lr.fit(x_train, y_train)"
      ],
      "execution_count": null,
      "outputs": [
        {
          "output_type": "execute_result",
          "data": {
            "text/plain": [
              "LinearRegression(copy_X=True, fit_intercept=True, n_jobs=None, normalize=False)"
            ]
          },
          "metadata": {
            "tags": []
          },
          "execution_count": 123
        }
      ]
    },
    {
      "cell_type": "code",
      "metadata": {
        "id": "h0IqQagpatnd",
        "colab": {
          "base_uri": "https://localhost:8080/"
        },
        "outputId": "ab3df7c0-b54f-44b6-efcd-3c1a3604d5d5"
      },
      "source": [
        "y_pred = lr.predict(x_test)\n",
        "mse=mean_squared_error(y_test, y_pred)\n",
        "rmse=np.sqrt(mse)\n",
        "\n",
        "print(\"RMSE: \", round(rmse,5))"
      ],
      "execution_count": null,
      "outputs": [
        {
          "output_type": "stream",
          "text": [
            "RMSE:  0.00998\n"
          ],
          "name": "stdout"
        }
      ]
    },
    {
      "cell_type": "code",
      "metadata": {
        "id": "oCI4MYQLbC1z",
        "colab": {
          "base_uri": "https://localhost:8080/"
        },
        "outputId": "957c4af0-e395-4812-e6dd-0f726e1398ad"
      },
      "source": [
        "house_df_dummies['SalePrice'].head()"
      ],
      "execution_count": null,
      "outputs": [
        {
          "output_type": "execute_result",
          "data": {
            "text/plain": [
              "0    2.583824\n",
              "1    2.573300\n",
              "2    2.589054\n",
              "3    2.553297\n",
              "4    2.597433\n",
              "Name: SalePrice, dtype: float64"
            ]
          },
          "metadata": {
            "tags": []
          },
          "execution_count": 127
        }
      ]
    },
    {
      "cell_type": "markdown",
      "metadata": {
        "id": "FzhdQBR5cXv5"
      },
      "source": [
        "이렇게 해서 캐글의 주택 가격 데이터를 통한 기본적인 선형회귀분석이 끝났습니다. "
      ]
    }
  ]
}