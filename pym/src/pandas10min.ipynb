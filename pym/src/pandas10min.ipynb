{
  "nbformat": 4,
  "nbformat_minor": 0,
  "metadata": {
    "colab": {
      "name": "pandas10min.ipynb",
      "provenance": [],
      "toc_visible": true,
      "authorship_tag": "ABX9TyPId/AqCceeCeke3Lnrpta6",
      "include_colab_link": true
    },
    "kernelspec": {
      "name": "python3",
      "display_name": "Python 3"
    },
    "language_info": {
      "name": "python"
    },
    "accelerator": "GPU"
  },
  "cells": [
    {
      "cell_type": "markdown",
      "metadata": {
        "id": "view-in-github",
        "colab_type": "text"
      },
      "source": [
        "<a href=\"https://colab.research.google.com/github/KJM94/pym/blob/main/src/pandas10min.ipynb\" target=\"_parent\"><img src=\"https://colab.research.google.com/assets/colab-badge.svg\" alt=\"Open In Colab\"/></a>"
      ]
    },
    {
      "cell_type": "markdown",
      "metadata": {
        "id": "51xcxu614s_f"
      },
      "source": [
        "# Pandas new users"
      ]
    },
    {
      "cell_type": "markdown",
      "metadata": {
        "id": "nxlIJsIU48JF"
      },
      "source": [
        "## import"
      ]
    },
    {
      "cell_type": "code",
      "metadata": {
        "id": "zQnpgQmB4ciT"
      },
      "source": [
        "import numpy as np\n",
        "import pandas as pd"
      ],
      "execution_count": 26,
      "outputs": []
    },
    {
      "cell_type": "markdown",
      "metadata": {
        "id": "nBXuFR4O4_nW"
      },
      "source": [
        "# 객체 생성"
      ]
    },
    {
      "cell_type": "code",
      "metadata": {
        "colab": {
          "base_uri": "https://localhost:8080/"
        },
        "id": "yVXpeqpS5D6m",
        "outputId": "fdb87f1f-3a19-4b00-f356-8f9f24efd0d5"
      },
      "source": [
        "s = pd.Series([1,3,5,np.nan,6,8])\n",
        "\n",
        "s"
      ],
      "execution_count": 30,
      "outputs": [
        {
          "output_type": "execute_result",
          "data": {
            "text/plain": [
              "0    1.0\n",
              "1    3.0\n",
              "2    5.0\n",
              "3    NaN\n",
              "4    6.0\n",
              "5    8.0\n",
              "dtype: float64"
            ]
          },
          "metadata": {
            "tags": []
          },
          "execution_count": 30
        }
      ]
    },
    {
      "cell_type": "markdown",
      "metadata": {
        "id": "S8KL4Dyp5TTe"
      },
      "source": [
        "DataFrameDatetime 인덱스와 레이블이 지정된 열이 있는 Numpy 배열을 전달하여 생성"
      ]
    },
    {
      "cell_type": "code",
      "metadata": {
        "colab": {
          "base_uri": "https://localhost:8080/"
        },
        "id": "pmymh-rP5aTt",
        "outputId": "2c89c6cb-232d-4fe1-8651-ec214f3146cc"
      },
      "source": [
        "dates = pd.date_range(\"20130101\", periods=6)\n",
        "\n",
        "dates"
      ],
      "execution_count": 31,
      "outputs": [
        {
          "output_type": "execute_result",
          "data": {
            "text/plain": [
              "DatetimeIndex(['2013-01-01', '2013-01-02', '2013-01-03', '2013-01-04',\n",
              "               '2013-01-05', '2013-01-06'],\n",
              "              dtype='datetime64[ns]', freq='D')"
            ]
          },
          "metadata": {
            "tags": []
          },
          "execution_count": 31
        }
      ]
    },
    {
      "cell_type": "code",
      "metadata": {
        "colab": {
          "base_uri": "https://localhost:8080/",
          "height": 235
        },
        "id": "ZzUBVLMG5jx9",
        "outputId": "6afcfac3-80c0-44c2-8a0c-fd7a073e034e"
      },
      "source": [
        "df = pd.DataFrame(np.random.randn(6,4),index=dates, columns=list(\"ABCD\"))\n",
        "\n",
        "df"
      ],
      "execution_count": 32,
      "outputs": [
        {
          "output_type": "execute_result",
          "data": {
            "text/html": [
              "<div>\n",
              "<style scoped>\n",
              "    .dataframe tbody tr th:only-of-type {\n",
              "        vertical-align: middle;\n",
              "    }\n",
              "\n",
              "    .dataframe tbody tr th {\n",
              "        vertical-align: top;\n",
              "    }\n",
              "\n",
              "    .dataframe thead th {\n",
              "        text-align: right;\n",
              "    }\n",
              "</style>\n",
              "<table border=\"1\" class=\"dataframe\">\n",
              "  <thead>\n",
              "    <tr style=\"text-align: right;\">\n",
              "      <th></th>\n",
              "      <th>A</th>\n",
              "      <th>B</th>\n",
              "      <th>C</th>\n",
              "      <th>D</th>\n",
              "    </tr>\n",
              "  </thead>\n",
              "  <tbody>\n",
              "    <tr>\n",
              "      <th>2013-01-01</th>\n",
              "      <td>-1.338161</td>\n",
              "      <td>0.110530</td>\n",
              "      <td>0.536230</td>\n",
              "      <td>2.030842</td>\n",
              "    </tr>\n",
              "    <tr>\n",
              "      <th>2013-01-02</th>\n",
              "      <td>0.357603</td>\n",
              "      <td>-0.355747</td>\n",
              "      <td>0.054411</td>\n",
              "      <td>-0.102109</td>\n",
              "    </tr>\n",
              "    <tr>\n",
              "      <th>2013-01-03</th>\n",
              "      <td>-0.319073</td>\n",
              "      <td>-1.183950</td>\n",
              "      <td>0.094337</td>\n",
              "      <td>0.616546</td>\n",
              "    </tr>\n",
              "    <tr>\n",
              "      <th>2013-01-04</th>\n",
              "      <td>0.350805</td>\n",
              "      <td>1.549371</td>\n",
              "      <td>1.245585</td>\n",
              "      <td>-0.153351</td>\n",
              "    </tr>\n",
              "    <tr>\n",
              "      <th>2013-01-05</th>\n",
              "      <td>-0.515572</td>\n",
              "      <td>-2.377644</td>\n",
              "      <td>-0.042456</td>\n",
              "      <td>0.071252</td>\n",
              "    </tr>\n",
              "    <tr>\n",
              "      <th>2013-01-06</th>\n",
              "      <td>-0.260635</td>\n",
              "      <td>-1.106064</td>\n",
              "      <td>-1.276920</td>\n",
              "      <td>1.408237</td>\n",
              "    </tr>\n",
              "  </tbody>\n",
              "</table>\n",
              "</div>"
            ],
            "text/plain": [
              "                   A         B         C         D\n",
              "2013-01-01 -1.338161  0.110530  0.536230  2.030842\n",
              "2013-01-02  0.357603 -0.355747  0.054411 -0.102109\n",
              "2013-01-03 -0.319073 -1.183950  0.094337  0.616546\n",
              "2013-01-04  0.350805  1.549371  1.245585 -0.153351\n",
              "2013-01-05 -0.515572 -2.377644 -0.042456  0.071252\n",
              "2013-01-06 -0.260635 -1.106064 -1.276920  1.408237"
            ]
          },
          "metadata": {
            "tags": []
          },
          "execution_count": 32
        }
      ]
    },
    {
      "cell_type": "markdown",
      "metadata": {
        "id": "s_KSTPd55ypG"
      },
      "source": [
        "DataFrame 시리즈와 같은 변환을 할 수 있는 개체의 DICT를 전달하여 만들기."
      ]
    },
    {
      "cell_type": "code",
      "metadata": {
        "colab": {
          "base_uri": "https://localhost:8080/",
          "height": 173
        },
        "id": "9RmA4fK157qP",
        "outputId": "dd747066-0504-439c-d938-6fce385d6913"
      },
      "source": [
        "df2 = pd.DataFrame(\n",
        "    {\n",
        "        \"A\" : 1.0,\n",
        "        \"B\" : pd.Timestamp(\"20130102\"),\n",
        "        \"C\" : pd.Series(1, index=list(range(4)), dtype=\"float32\"),\n",
        "        \"D\" : np.array([3] * 4, dtype=\"int32\"),\n",
        "        \"E\" : pd.Categorical([\"test\",\"train\",\"test\",\"train\"]),\n",
        "        \"F\" : \"foo\"\n",
        "    }\n",
        ")\n",
        "\n",
        "df2"
      ],
      "execution_count": null,
      "outputs": [
        {
          "output_type": "execute_result",
          "data": {
            "text/html": [
              "<div>\n",
              "<style scoped>\n",
              "    .dataframe tbody tr th:only-of-type {\n",
              "        vertical-align: middle;\n",
              "    }\n",
              "\n",
              "    .dataframe tbody tr th {\n",
              "        vertical-align: top;\n",
              "    }\n",
              "\n",
              "    .dataframe thead th {\n",
              "        text-align: right;\n",
              "    }\n",
              "</style>\n",
              "<table border=\"1\" class=\"dataframe\">\n",
              "  <thead>\n",
              "    <tr style=\"text-align: right;\">\n",
              "      <th></th>\n",
              "      <th>A</th>\n",
              "      <th>B</th>\n",
              "      <th>C</th>\n",
              "      <th>D</th>\n",
              "      <th>E</th>\n",
              "      <th>F</th>\n",
              "    </tr>\n",
              "  </thead>\n",
              "  <tbody>\n",
              "    <tr>\n",
              "      <th>0</th>\n",
              "      <td>1.0</td>\n",
              "      <td>2013-01-02</td>\n",
              "      <td>1.0</td>\n",
              "      <td>3</td>\n",
              "      <td>test</td>\n",
              "      <td>foo</td>\n",
              "    </tr>\n",
              "    <tr>\n",
              "      <th>1</th>\n",
              "      <td>1.0</td>\n",
              "      <td>2013-01-02</td>\n",
              "      <td>1.0</td>\n",
              "      <td>3</td>\n",
              "      <td>train</td>\n",
              "      <td>foo</td>\n",
              "    </tr>\n",
              "    <tr>\n",
              "      <th>2</th>\n",
              "      <td>1.0</td>\n",
              "      <td>2013-01-02</td>\n",
              "      <td>1.0</td>\n",
              "      <td>3</td>\n",
              "      <td>test</td>\n",
              "      <td>foo</td>\n",
              "    </tr>\n",
              "    <tr>\n",
              "      <th>3</th>\n",
              "      <td>1.0</td>\n",
              "      <td>2013-01-02</td>\n",
              "      <td>1.0</td>\n",
              "      <td>3</td>\n",
              "      <td>train</td>\n",
              "      <td>foo</td>\n",
              "    </tr>\n",
              "  </tbody>\n",
              "</table>\n",
              "</div>"
            ],
            "text/plain": [
              "     A          B    C  D      E    F\n",
              "0  1.0 2013-01-02  1.0  3   test  foo\n",
              "1  1.0 2013-01-02  1.0  3  train  foo\n",
              "2  1.0 2013-01-02  1.0  3   test  foo\n",
              "3  1.0 2013-01-02  1.0  3  train  foo"
            ]
          },
          "metadata": {
            "tags": []
          },
          "execution_count": 6
        }
      ]
    },
    {
      "cell_type": "markdown",
      "metadata": {
        "id": "HCa8LoN46gHW"
      },
      "source": [
        "그 결과 열 DataFrame은 다른 dtypes를 갖습니다."
      ]
    },
    {
      "cell_type": "code",
      "metadata": {
        "colab": {
          "base_uri": "https://localhost:8080/"
        },
        "id": "CR3tYjRm6kh9",
        "outputId": "c65fdd30-335b-4902-fa9b-914b66756550"
      },
      "source": [
        "df2.dtypes"
      ],
      "execution_count": 36,
      "outputs": [
        {
          "output_type": "execute_result",
          "data": {
            "text/plain": [
              "A    float64\n",
              "B    float64\n",
              "dtype: object"
            ]
          },
          "metadata": {
            "tags": []
          },
          "execution_count": 36
        }
      ]
    },
    {
      "cell_type": "markdown",
      "metadata": {
        "id": "xSs8fY5s8C62"
      },
      "source": [
        "# 데이터 보기\n",
        "\n",
        "프레임의 상단 및 하단 행을 보는 방법"
      ]
    },
    {
      "cell_type": "code",
      "metadata": {
        "colab": {
          "base_uri": "https://localhost:8080/",
          "height": 204
        },
        "id": "yn8ntRPi8HcV",
        "outputId": "76885463-0a95-4b25-fe85-5c46d602f0f3"
      },
      "source": [
        "df.head()"
      ],
      "execution_count": 37,
      "outputs": [
        {
          "output_type": "execute_result",
          "data": {
            "text/html": [
              "<div>\n",
              "<style scoped>\n",
              "    .dataframe tbody tr th:only-of-type {\n",
              "        vertical-align: middle;\n",
              "    }\n",
              "\n",
              "    .dataframe tbody tr th {\n",
              "        vertical-align: top;\n",
              "    }\n",
              "\n",
              "    .dataframe thead th {\n",
              "        text-align: right;\n",
              "    }\n",
              "</style>\n",
              "<table border=\"1\" class=\"dataframe\">\n",
              "  <thead>\n",
              "    <tr style=\"text-align: right;\">\n",
              "      <th></th>\n",
              "      <th>A</th>\n",
              "      <th>B</th>\n",
              "      <th>C</th>\n",
              "      <th>D</th>\n",
              "    </tr>\n",
              "  </thead>\n",
              "  <tbody>\n",
              "    <tr>\n",
              "      <th>2013-01-01</th>\n",
              "      <td>-1.338161</td>\n",
              "      <td>0.110530</td>\n",
              "      <td>0.536230</td>\n",
              "      <td>2.030842</td>\n",
              "    </tr>\n",
              "    <tr>\n",
              "      <th>2013-01-02</th>\n",
              "      <td>0.357603</td>\n",
              "      <td>-0.355747</td>\n",
              "      <td>0.054411</td>\n",
              "      <td>-0.102109</td>\n",
              "    </tr>\n",
              "    <tr>\n",
              "      <th>2013-01-03</th>\n",
              "      <td>-0.319073</td>\n",
              "      <td>-1.183950</td>\n",
              "      <td>0.094337</td>\n",
              "      <td>0.616546</td>\n",
              "    </tr>\n",
              "    <tr>\n",
              "      <th>2013-01-04</th>\n",
              "      <td>0.350805</td>\n",
              "      <td>1.549371</td>\n",
              "      <td>1.245585</td>\n",
              "      <td>-0.153351</td>\n",
              "    </tr>\n",
              "    <tr>\n",
              "      <th>2013-01-05</th>\n",
              "      <td>-0.515572</td>\n",
              "      <td>-2.377644</td>\n",
              "      <td>-0.042456</td>\n",
              "      <td>0.071252</td>\n",
              "    </tr>\n",
              "  </tbody>\n",
              "</table>\n",
              "</div>"
            ],
            "text/plain": [
              "                   A         B         C         D\n",
              "2013-01-01 -1.338161  0.110530  0.536230  2.030842\n",
              "2013-01-02  0.357603 -0.355747  0.054411 -0.102109\n",
              "2013-01-03 -0.319073 -1.183950  0.094337  0.616546\n",
              "2013-01-04  0.350805  1.549371  1.245585 -0.153351\n",
              "2013-01-05 -0.515572 -2.377644 -0.042456  0.071252"
            ]
          },
          "metadata": {
            "tags": []
          },
          "execution_count": 37
        }
      ]
    },
    {
      "cell_type": "code",
      "metadata": {
        "colab": {
          "base_uri": "https://localhost:8080/",
          "height": 142
        },
        "id": "tJnduage8KOO",
        "outputId": "e08760c7-e890-4f64-9f40-199f4c635ee4"
      },
      "source": [
        "df.tail(3)"
      ],
      "execution_count": 38,
      "outputs": [
        {
          "output_type": "execute_result",
          "data": {
            "text/html": [
              "<div>\n",
              "<style scoped>\n",
              "    .dataframe tbody tr th:only-of-type {\n",
              "        vertical-align: middle;\n",
              "    }\n",
              "\n",
              "    .dataframe tbody tr th {\n",
              "        vertical-align: top;\n",
              "    }\n",
              "\n",
              "    .dataframe thead th {\n",
              "        text-align: right;\n",
              "    }\n",
              "</style>\n",
              "<table border=\"1\" class=\"dataframe\">\n",
              "  <thead>\n",
              "    <tr style=\"text-align: right;\">\n",
              "      <th></th>\n",
              "      <th>A</th>\n",
              "      <th>B</th>\n",
              "      <th>C</th>\n",
              "      <th>D</th>\n",
              "    </tr>\n",
              "  </thead>\n",
              "  <tbody>\n",
              "    <tr>\n",
              "      <th>2013-01-04</th>\n",
              "      <td>0.350805</td>\n",
              "      <td>1.549371</td>\n",
              "      <td>1.245585</td>\n",
              "      <td>-0.153351</td>\n",
              "    </tr>\n",
              "    <tr>\n",
              "      <th>2013-01-05</th>\n",
              "      <td>-0.515572</td>\n",
              "      <td>-2.377644</td>\n",
              "      <td>-0.042456</td>\n",
              "      <td>0.071252</td>\n",
              "    </tr>\n",
              "    <tr>\n",
              "      <th>2013-01-06</th>\n",
              "      <td>-0.260635</td>\n",
              "      <td>-1.106064</td>\n",
              "      <td>-1.276920</td>\n",
              "      <td>1.408237</td>\n",
              "    </tr>\n",
              "  </tbody>\n",
              "</table>\n",
              "</div>"
            ],
            "text/plain": [
              "                   A         B         C         D\n",
              "2013-01-04  0.350805  1.549371  1.245585 -0.153351\n",
              "2013-01-05 -0.515572 -2.377644 -0.042456  0.071252\n",
              "2013-01-06 -0.260635 -1.106064 -1.276920  1.408237"
            ]
          },
          "metadata": {
            "tags": []
          },
          "execution_count": 38
        }
      ]
    },
    {
      "cell_type": "markdown",
      "metadata": {
        "id": "D9vSCwr48NDp"
      },
      "source": [
        "색인, 열 표시"
      ]
    },
    {
      "cell_type": "code",
      "metadata": {
        "colab": {
          "base_uri": "https://localhost:8080/"
        },
        "id": "DtPui8858OOu",
        "outputId": "fdf14497-2d9c-4195-eb02-99d4d41ffa8d"
      },
      "source": [
        "df.index"
      ],
      "execution_count": 39,
      "outputs": [
        {
          "output_type": "execute_result",
          "data": {
            "text/plain": [
              "DatetimeIndex(['2013-01-01', '2013-01-02', '2013-01-03', '2013-01-04',\n",
              "               '2013-01-05', '2013-01-06'],\n",
              "              dtype='datetime64[ns]', freq='D')"
            ]
          },
          "metadata": {
            "tags": []
          },
          "execution_count": 39
        }
      ]
    },
    {
      "cell_type": "code",
      "metadata": {
        "colab": {
          "base_uri": "https://localhost:8080/"
        },
        "id": "UILWR0n98QQV",
        "outputId": "370dc1e0-92b9-45dd-e454-a5969f8aa598"
      },
      "source": [
        "df.columns"
      ],
      "execution_count": 40,
      "outputs": [
        {
          "output_type": "execute_result",
          "data": {
            "text/plain": [
              "Index(['A', 'B', 'C', 'D'], dtype='object')"
            ]
          },
          "metadata": {
            "tags": []
          },
          "execution_count": 40
        }
      ]
    },
    {
      "cell_type": "markdown",
      "metadata": {
        "id": "N1_gA3008iDl"
      },
      "source": [
        "DataFrame.to_numpy()기본 데이터의 Numpy 표현을 제공합니다. DataFrame pandas와 Numpy의 근본적인 차이로 인해 데이터 유형이 다른 열이 있는 경우 이 작업은 비용이 많이들 수 있습니다.\n",
        "Numpy 배열에는 전체 배열에 대해 하나의 dtype이 있는 반면 pandas DataFrames에는 열당 하나의 dtype이 있습니다. DataFrame.to_numpy()를 호출하면 pandas는 DataFrame의 모든 dtype을 보유할 수 있는 Numpy dtype을 찾습니다. 결국 object 모든 값을 python 객체로 캐스팅해야 하는식으로 끝날 수 있습니다.\n",
        "\n",
        "df에 대한, DataFrame 모든 부동 소수점 값, DataFrame.to_numpy() 빠르고 및 복사 데이터를 필요로 하지 않는다."
      ]
    },
    {
      "cell_type": "code",
      "metadata": {
        "colab": {
          "base_uri": "https://localhost:8080/"
        },
        "id": "7AUKbEo89Qzv",
        "outputId": "995e4bdb-184e-42e5-8d44-70aa0e827c55"
      },
      "source": [
        "df.to_numpy()"
      ],
      "execution_count": 41,
      "outputs": [
        {
          "output_type": "execute_result",
          "data": {
            "text/plain": [
              "array([[-1.33816087,  0.11053004,  0.53623007,  2.03084207],\n",
              "       [ 0.35760296, -0.35574745,  0.0544108 , -0.10210902],\n",
              "       [-0.31907276, -1.18395015,  0.09433678,  0.61654553],\n",
              "       [ 0.35080472,  1.54937131,  1.24558483, -0.15335078],\n",
              "       [-0.51557247, -2.37764397, -0.04245553,  0.07125205],\n",
              "       [-0.26063518, -1.10606377, -1.27691993,  1.40823689]])"
            ]
          },
          "metadata": {
            "tags": []
          },
          "execution_count": 41
        }
      ]
    },
    {
      "cell_type": "markdown",
      "metadata": {
        "id": "T-ViP_yW9T1V"
      },
      "source": [
        "df2는 DataFrame 여러 dtype으로, DataFrame.to_numpy() 상대적으로 비싸다."
      ]
    },
    {
      "cell_type": "code",
      "metadata": {
        "colab": {
          "base_uri": "https://localhost:8080/"
        },
        "id": "_pVFbOGU9aml",
        "outputId": "0ff80162-6ae7-4e79-a5e2-80bb6c00b876"
      },
      "source": [
        "df2.to_numpy()"
      ],
      "execution_count": 42,
      "outputs": [
        {
          "output_type": "execute_result",
          "data": {
            "text/plain": [
              "array([[-0.37591379,  0.80689645],\n",
              "       [ 2.71741139, -1.18659735],\n",
              "       [ 0.34445035,  0.15736656],\n",
              "       [ 0.21151164,  0.70306021]])"
            ]
          },
          "metadata": {
            "tags": []
          },
          "execution_count": 42
        }
      ]
    },
    {
      "cell_type": "markdown",
      "metadata": {
        "id": "NKutUu_M9d4-"
      },
      "source": [
        "DataFrame.to_numpy()출력에 색인 또는 열 레이블을 포함 하지 않습니다.\n",
        "\n",
        "describe() 데이터에 대한 빠른 통계 요약을 보여줍니다."
      ]
    },
    {
      "cell_type": "code",
      "metadata": {
        "colab": {
          "base_uri": "https://localhost:8080/",
          "height": 297
        },
        "id": "GG9xXidA9mfF",
        "outputId": "355dc6c1-93a9-4e08-d61f-7eaa16fd480d"
      },
      "source": [
        "df.describe()"
      ],
      "execution_count": 43,
      "outputs": [
        {
          "output_type": "execute_result",
          "data": {
            "text/html": [
              "<div>\n",
              "<style scoped>\n",
              "    .dataframe tbody tr th:only-of-type {\n",
              "        vertical-align: middle;\n",
              "    }\n",
              "\n",
              "    .dataframe tbody tr th {\n",
              "        vertical-align: top;\n",
              "    }\n",
              "\n",
              "    .dataframe thead th {\n",
              "        text-align: right;\n",
              "    }\n",
              "</style>\n",
              "<table border=\"1\" class=\"dataframe\">\n",
              "  <thead>\n",
              "    <tr style=\"text-align: right;\">\n",
              "      <th></th>\n",
              "      <th>A</th>\n",
              "      <th>B</th>\n",
              "      <th>C</th>\n",
              "      <th>D</th>\n",
              "    </tr>\n",
              "  </thead>\n",
              "  <tbody>\n",
              "    <tr>\n",
              "      <th>count</th>\n",
              "      <td>6.000000</td>\n",
              "      <td>6.000000</td>\n",
              "      <td>6.000000</td>\n",
              "      <td>6.000000</td>\n",
              "    </tr>\n",
              "    <tr>\n",
              "      <th>mean</th>\n",
              "      <td>-0.287506</td>\n",
              "      <td>-0.560584</td>\n",
              "      <td>0.101865</td>\n",
              "      <td>0.645236</td>\n",
              "    </tr>\n",
              "    <tr>\n",
              "      <th>std</th>\n",
              "      <td>0.629478</td>\n",
              "      <td>1.336571</td>\n",
              "      <td>0.827158</td>\n",
              "      <td>0.897621</td>\n",
              "    </tr>\n",
              "    <tr>\n",
              "      <th>min</th>\n",
              "      <td>-1.338161</td>\n",
              "      <td>-2.377644</td>\n",
              "      <td>-1.276920</td>\n",
              "      <td>-0.153351</td>\n",
              "    </tr>\n",
              "    <tr>\n",
              "      <th>25%</th>\n",
              "      <td>-0.466448</td>\n",
              "      <td>-1.164479</td>\n",
              "      <td>-0.018239</td>\n",
              "      <td>-0.058769</td>\n",
              "    </tr>\n",
              "    <tr>\n",
              "      <th>50%</th>\n",
              "      <td>-0.289854</td>\n",
              "      <td>-0.730906</td>\n",
              "      <td>0.074374</td>\n",
              "      <td>0.343899</td>\n",
              "    </tr>\n",
              "    <tr>\n",
              "      <th>75%</th>\n",
              "      <td>0.197945</td>\n",
              "      <td>-0.006039</td>\n",
              "      <td>0.425757</td>\n",
              "      <td>1.210314</td>\n",
              "    </tr>\n",
              "    <tr>\n",
              "      <th>max</th>\n",
              "      <td>0.357603</td>\n",
              "      <td>1.549371</td>\n",
              "      <td>1.245585</td>\n",
              "      <td>2.030842</td>\n",
              "    </tr>\n",
              "  </tbody>\n",
              "</table>\n",
              "</div>"
            ],
            "text/plain": [
              "              A         B         C         D\n",
              "count  6.000000  6.000000  6.000000  6.000000\n",
              "mean  -0.287506 -0.560584  0.101865  0.645236\n",
              "std    0.629478  1.336571  0.827158  0.897621\n",
              "min   -1.338161 -2.377644 -1.276920 -0.153351\n",
              "25%   -0.466448 -1.164479 -0.018239 -0.058769\n",
              "50%   -0.289854 -0.730906  0.074374  0.343899\n",
              "75%    0.197945 -0.006039  0.425757  1.210314\n",
              "max    0.357603  1.549371  1.245585  2.030842"
            ]
          },
          "metadata": {
            "tags": []
          },
          "execution_count": 43
        }
      ]
    },
    {
      "cell_type": "markdown",
      "metadata": {
        "id": "yFGFahJE9qJs"
      },
      "source": [
        "데이터 전치 : "
      ]
    },
    {
      "cell_type": "code",
      "metadata": {
        "colab": {
          "base_uri": "https://localhost:8080/",
          "height": 173
        },
        "id": "zEbEDi-H9rbt",
        "outputId": "38ef9f51-dde7-4303-d7e0-9d53a239dc67"
      },
      "source": [
        "df.T"
      ],
      "execution_count": 44,
      "outputs": [
        {
          "output_type": "execute_result",
          "data": {
            "text/html": [
              "<div>\n",
              "<style scoped>\n",
              "    .dataframe tbody tr th:only-of-type {\n",
              "        vertical-align: middle;\n",
              "    }\n",
              "\n",
              "    .dataframe tbody tr th {\n",
              "        vertical-align: top;\n",
              "    }\n",
              "\n",
              "    .dataframe thead th {\n",
              "        text-align: right;\n",
              "    }\n",
              "</style>\n",
              "<table border=\"1\" class=\"dataframe\">\n",
              "  <thead>\n",
              "    <tr style=\"text-align: right;\">\n",
              "      <th></th>\n",
              "      <th>2013-01-01</th>\n",
              "      <th>2013-01-02</th>\n",
              "      <th>2013-01-03</th>\n",
              "      <th>2013-01-04</th>\n",
              "      <th>2013-01-05</th>\n",
              "      <th>2013-01-06</th>\n",
              "    </tr>\n",
              "  </thead>\n",
              "  <tbody>\n",
              "    <tr>\n",
              "      <th>A</th>\n",
              "      <td>-1.338161</td>\n",
              "      <td>0.357603</td>\n",
              "      <td>-0.319073</td>\n",
              "      <td>0.350805</td>\n",
              "      <td>-0.515572</td>\n",
              "      <td>-0.260635</td>\n",
              "    </tr>\n",
              "    <tr>\n",
              "      <th>B</th>\n",
              "      <td>0.110530</td>\n",
              "      <td>-0.355747</td>\n",
              "      <td>-1.183950</td>\n",
              "      <td>1.549371</td>\n",
              "      <td>-2.377644</td>\n",
              "      <td>-1.106064</td>\n",
              "    </tr>\n",
              "    <tr>\n",
              "      <th>C</th>\n",
              "      <td>0.536230</td>\n",
              "      <td>0.054411</td>\n",
              "      <td>0.094337</td>\n",
              "      <td>1.245585</td>\n",
              "      <td>-0.042456</td>\n",
              "      <td>-1.276920</td>\n",
              "    </tr>\n",
              "    <tr>\n",
              "      <th>D</th>\n",
              "      <td>2.030842</td>\n",
              "      <td>-0.102109</td>\n",
              "      <td>0.616546</td>\n",
              "      <td>-0.153351</td>\n",
              "      <td>0.071252</td>\n",
              "      <td>1.408237</td>\n",
              "    </tr>\n",
              "  </tbody>\n",
              "</table>\n",
              "</div>"
            ],
            "text/plain": [
              "   2013-01-01  2013-01-02  2013-01-03  2013-01-04  2013-01-05  2013-01-06\n",
              "A   -1.338161    0.357603   -0.319073    0.350805   -0.515572   -0.260635\n",
              "B    0.110530   -0.355747   -1.183950    1.549371   -2.377644   -1.106064\n",
              "C    0.536230    0.054411    0.094337    1.245585   -0.042456   -1.276920\n",
              "D    2.030842   -0.102109    0.616546   -0.153351    0.071252    1.408237"
            ]
          },
          "metadata": {
            "tags": []
          },
          "execution_count": 44
        }
      ]
    },
    {
      "cell_type": "markdown",
      "metadata": {
        "id": "xwpjaEbX9tCk"
      },
      "source": [
        "축으로 정렬 : "
      ]
    },
    {
      "cell_type": "code",
      "metadata": {
        "colab": {
          "base_uri": "https://localhost:8080/",
          "height": 235
        },
        "id": "lYJFB_uc9u_2",
        "outputId": "72a8b894-c247-4877-c312-86d08461e676"
      },
      "source": [
        "df.sort_index(axis=1, ascending=False)"
      ],
      "execution_count": 45,
      "outputs": [
        {
          "output_type": "execute_result",
          "data": {
            "text/html": [
              "<div>\n",
              "<style scoped>\n",
              "    .dataframe tbody tr th:only-of-type {\n",
              "        vertical-align: middle;\n",
              "    }\n",
              "\n",
              "    .dataframe tbody tr th {\n",
              "        vertical-align: top;\n",
              "    }\n",
              "\n",
              "    .dataframe thead th {\n",
              "        text-align: right;\n",
              "    }\n",
              "</style>\n",
              "<table border=\"1\" class=\"dataframe\">\n",
              "  <thead>\n",
              "    <tr style=\"text-align: right;\">\n",
              "      <th></th>\n",
              "      <th>D</th>\n",
              "      <th>C</th>\n",
              "      <th>B</th>\n",
              "      <th>A</th>\n",
              "    </tr>\n",
              "  </thead>\n",
              "  <tbody>\n",
              "    <tr>\n",
              "      <th>2013-01-01</th>\n",
              "      <td>2.030842</td>\n",
              "      <td>0.536230</td>\n",
              "      <td>0.110530</td>\n",
              "      <td>-1.338161</td>\n",
              "    </tr>\n",
              "    <tr>\n",
              "      <th>2013-01-02</th>\n",
              "      <td>-0.102109</td>\n",
              "      <td>0.054411</td>\n",
              "      <td>-0.355747</td>\n",
              "      <td>0.357603</td>\n",
              "    </tr>\n",
              "    <tr>\n",
              "      <th>2013-01-03</th>\n",
              "      <td>0.616546</td>\n",
              "      <td>0.094337</td>\n",
              "      <td>-1.183950</td>\n",
              "      <td>-0.319073</td>\n",
              "    </tr>\n",
              "    <tr>\n",
              "      <th>2013-01-04</th>\n",
              "      <td>-0.153351</td>\n",
              "      <td>1.245585</td>\n",
              "      <td>1.549371</td>\n",
              "      <td>0.350805</td>\n",
              "    </tr>\n",
              "    <tr>\n",
              "      <th>2013-01-05</th>\n",
              "      <td>0.071252</td>\n",
              "      <td>-0.042456</td>\n",
              "      <td>-2.377644</td>\n",
              "      <td>-0.515572</td>\n",
              "    </tr>\n",
              "    <tr>\n",
              "      <th>2013-01-06</th>\n",
              "      <td>1.408237</td>\n",
              "      <td>-1.276920</td>\n",
              "      <td>-1.106064</td>\n",
              "      <td>-0.260635</td>\n",
              "    </tr>\n",
              "  </tbody>\n",
              "</table>\n",
              "</div>"
            ],
            "text/plain": [
              "                   D         C         B         A\n",
              "2013-01-01  2.030842  0.536230  0.110530 -1.338161\n",
              "2013-01-02 -0.102109  0.054411 -0.355747  0.357603\n",
              "2013-01-03  0.616546  0.094337 -1.183950 -0.319073\n",
              "2013-01-04 -0.153351  1.245585  1.549371  0.350805\n",
              "2013-01-05  0.071252 -0.042456 -2.377644 -0.515572\n",
              "2013-01-06  1.408237 -1.276920 -1.106064 -0.260635"
            ]
          },
          "metadata": {
            "tags": []
          },
          "execution_count": 45
        }
      ]
    },
    {
      "cell_type": "markdown",
      "metadata": {
        "id": "kyOZQtzC9zvt"
      },
      "source": [
        "값으로 정렬 : "
      ]
    },
    {
      "cell_type": "code",
      "metadata": {
        "colab": {
          "base_uri": "https://localhost:8080/",
          "height": 235
        },
        "id": "ktRccAYq91LF",
        "outputId": "68c43702-e1fc-4e56-a5be-2cd1f1a806b8"
      },
      "source": [
        "df.sort_values(by=\"B\")"
      ],
      "execution_count": 46,
      "outputs": [
        {
          "output_type": "execute_result",
          "data": {
            "text/html": [
              "<div>\n",
              "<style scoped>\n",
              "    .dataframe tbody tr th:only-of-type {\n",
              "        vertical-align: middle;\n",
              "    }\n",
              "\n",
              "    .dataframe tbody tr th {\n",
              "        vertical-align: top;\n",
              "    }\n",
              "\n",
              "    .dataframe thead th {\n",
              "        text-align: right;\n",
              "    }\n",
              "</style>\n",
              "<table border=\"1\" class=\"dataframe\">\n",
              "  <thead>\n",
              "    <tr style=\"text-align: right;\">\n",
              "      <th></th>\n",
              "      <th>A</th>\n",
              "      <th>B</th>\n",
              "      <th>C</th>\n",
              "      <th>D</th>\n",
              "    </tr>\n",
              "  </thead>\n",
              "  <tbody>\n",
              "    <tr>\n",
              "      <th>2013-01-05</th>\n",
              "      <td>-0.515572</td>\n",
              "      <td>-2.377644</td>\n",
              "      <td>-0.042456</td>\n",
              "      <td>0.071252</td>\n",
              "    </tr>\n",
              "    <tr>\n",
              "      <th>2013-01-03</th>\n",
              "      <td>-0.319073</td>\n",
              "      <td>-1.183950</td>\n",
              "      <td>0.094337</td>\n",
              "      <td>0.616546</td>\n",
              "    </tr>\n",
              "    <tr>\n",
              "      <th>2013-01-06</th>\n",
              "      <td>-0.260635</td>\n",
              "      <td>-1.106064</td>\n",
              "      <td>-1.276920</td>\n",
              "      <td>1.408237</td>\n",
              "    </tr>\n",
              "    <tr>\n",
              "      <th>2013-01-02</th>\n",
              "      <td>0.357603</td>\n",
              "      <td>-0.355747</td>\n",
              "      <td>0.054411</td>\n",
              "      <td>-0.102109</td>\n",
              "    </tr>\n",
              "    <tr>\n",
              "      <th>2013-01-01</th>\n",
              "      <td>-1.338161</td>\n",
              "      <td>0.110530</td>\n",
              "      <td>0.536230</td>\n",
              "      <td>2.030842</td>\n",
              "    </tr>\n",
              "    <tr>\n",
              "      <th>2013-01-04</th>\n",
              "      <td>0.350805</td>\n",
              "      <td>1.549371</td>\n",
              "      <td>1.245585</td>\n",
              "      <td>-0.153351</td>\n",
              "    </tr>\n",
              "  </tbody>\n",
              "</table>\n",
              "</div>"
            ],
            "text/plain": [
              "                   A         B         C         D\n",
              "2013-01-05 -0.515572 -2.377644 -0.042456  0.071252\n",
              "2013-01-03 -0.319073 -1.183950  0.094337  0.616546\n",
              "2013-01-06 -0.260635 -1.106064 -1.276920  1.408237\n",
              "2013-01-02  0.357603 -0.355747  0.054411 -0.102109\n",
              "2013-01-01 -1.338161  0.110530  0.536230  2.030842\n",
              "2013-01-04  0.350805  1.549371  1.245585 -0.153351"
            ]
          },
          "metadata": {
            "tags": []
          },
          "execution_count": 46
        }
      ]
    },
    {
      "cell_type": "markdown",
      "metadata": {
        "id": "aCvAvr1T94kv"
      },
      "source": [
        "## 선택\n",
        "- 선택 및 설정을 위한 표준 python / Numpy 표현식은 직관적이고 대화형 작업에 유용하지만 프로덕션 코드의 경우 최적화 된 pandas 데이터 액세스 방법 .at인 .iat, .loc및 .lioc."
      ]
    },
    {
      "cell_type": "markdown",
      "metadata": {
        "id": "Vve_-Wge-LFx"
      },
      "source": [
        "## 얻기\n",
        "단일 열을 선택하면 다음 Series와 같은 결과가 생성됩니다."
      ]
    },
    {
      "cell_type": "code",
      "metadata": {
        "colab": {
          "base_uri": "https://localhost:8080/"
        },
        "id": "UQ6t_rjB-Uu1",
        "outputId": "98cbd527-dd1c-4b8b-b89c-4d9b54d0b960"
      },
      "source": [
        "df[\"A\"]"
      ],
      "execution_count": 47,
      "outputs": [
        {
          "output_type": "execute_result",
          "data": {
            "text/plain": [
              "2013-01-01   -1.338161\n",
              "2013-01-02    0.357603\n",
              "2013-01-03   -0.319073\n",
              "2013-01-04    0.350805\n",
              "2013-01-05   -0.515572\n",
              "2013-01-06   -0.260635\n",
              "Freq: D, Name: A, dtype: float64"
            ]
          },
          "metadata": {
            "tags": []
          },
          "execution_count": 47
        }
      ]
    },
    {
      "cell_type": "markdown",
      "metadata": {
        "id": "9morjzUs-Wvt"
      },
      "source": [
        "[]행을 분할하는 via를 선택합니다."
      ]
    },
    {
      "cell_type": "code",
      "metadata": {
        "colab": {
          "base_uri": "https://localhost:8080/",
          "height": 142
        },
        "id": "O35pYc9A-Ztd",
        "outputId": "0cd9b1da-c1aa-4c9f-c93c-9f34037312da"
      },
      "source": [
        "df[0:3]"
      ],
      "execution_count": 48,
      "outputs": [
        {
          "output_type": "execute_result",
          "data": {
            "text/html": [
              "<div>\n",
              "<style scoped>\n",
              "    .dataframe tbody tr th:only-of-type {\n",
              "        vertical-align: middle;\n",
              "    }\n",
              "\n",
              "    .dataframe tbody tr th {\n",
              "        vertical-align: top;\n",
              "    }\n",
              "\n",
              "    .dataframe thead th {\n",
              "        text-align: right;\n",
              "    }\n",
              "</style>\n",
              "<table border=\"1\" class=\"dataframe\">\n",
              "  <thead>\n",
              "    <tr style=\"text-align: right;\">\n",
              "      <th></th>\n",
              "      <th>A</th>\n",
              "      <th>B</th>\n",
              "      <th>C</th>\n",
              "      <th>D</th>\n",
              "    </tr>\n",
              "  </thead>\n",
              "  <tbody>\n",
              "    <tr>\n",
              "      <th>2013-01-01</th>\n",
              "      <td>-1.338161</td>\n",
              "      <td>0.110530</td>\n",
              "      <td>0.536230</td>\n",
              "      <td>2.030842</td>\n",
              "    </tr>\n",
              "    <tr>\n",
              "      <th>2013-01-02</th>\n",
              "      <td>0.357603</td>\n",
              "      <td>-0.355747</td>\n",
              "      <td>0.054411</td>\n",
              "      <td>-0.102109</td>\n",
              "    </tr>\n",
              "    <tr>\n",
              "      <th>2013-01-03</th>\n",
              "      <td>-0.319073</td>\n",
              "      <td>-1.183950</td>\n",
              "      <td>0.094337</td>\n",
              "      <td>0.616546</td>\n",
              "    </tr>\n",
              "  </tbody>\n",
              "</table>\n",
              "</div>"
            ],
            "text/plain": [
              "                   A         B         C         D\n",
              "2013-01-01 -1.338161  0.110530  0.536230  2.030842\n",
              "2013-01-02  0.357603 -0.355747  0.054411 -0.102109\n",
              "2013-01-03 -0.319073 -1.183950  0.094337  0.616546"
            ]
          },
          "metadata": {
            "tags": []
          },
          "execution_count": 48
        }
      ]
    },
    {
      "cell_type": "code",
      "metadata": {
        "colab": {
          "base_uri": "https://localhost:8080/",
          "height": 142
        },
        "id": "ESLOrqc5-beN",
        "outputId": "069f9753-1b1a-405e-8e3d-6827eba4c715"
      },
      "source": [
        "df[\"20130102\":\"20130104\"]"
      ],
      "execution_count": 49,
      "outputs": [
        {
          "output_type": "execute_result",
          "data": {
            "text/html": [
              "<div>\n",
              "<style scoped>\n",
              "    .dataframe tbody tr th:only-of-type {\n",
              "        vertical-align: middle;\n",
              "    }\n",
              "\n",
              "    .dataframe tbody tr th {\n",
              "        vertical-align: top;\n",
              "    }\n",
              "\n",
              "    .dataframe thead th {\n",
              "        text-align: right;\n",
              "    }\n",
              "</style>\n",
              "<table border=\"1\" class=\"dataframe\">\n",
              "  <thead>\n",
              "    <tr style=\"text-align: right;\">\n",
              "      <th></th>\n",
              "      <th>A</th>\n",
              "      <th>B</th>\n",
              "      <th>C</th>\n",
              "      <th>D</th>\n",
              "    </tr>\n",
              "  </thead>\n",
              "  <tbody>\n",
              "    <tr>\n",
              "      <th>2013-01-02</th>\n",
              "      <td>0.357603</td>\n",
              "      <td>-0.355747</td>\n",
              "      <td>0.054411</td>\n",
              "      <td>-0.102109</td>\n",
              "    </tr>\n",
              "    <tr>\n",
              "      <th>2013-01-03</th>\n",
              "      <td>-0.319073</td>\n",
              "      <td>-1.183950</td>\n",
              "      <td>0.094337</td>\n",
              "      <td>0.616546</td>\n",
              "    </tr>\n",
              "    <tr>\n",
              "      <th>2013-01-04</th>\n",
              "      <td>0.350805</td>\n",
              "      <td>1.549371</td>\n",
              "      <td>1.245585</td>\n",
              "      <td>-0.153351</td>\n",
              "    </tr>\n",
              "  </tbody>\n",
              "</table>\n",
              "</div>"
            ],
            "text/plain": [
              "                   A         B         C         D\n",
              "2013-01-02  0.357603 -0.355747  0.054411 -0.102109\n",
              "2013-01-03 -0.319073 -1.183950  0.094337  0.616546\n",
              "2013-01-04  0.350805  1.549371  1.245585 -0.153351"
            ]
          },
          "metadata": {
            "tags": []
          },
          "execution_count": 49
        }
      ]
    },
    {
      "cell_type": "markdown",
      "metadata": {
        "id": "det8Na47-gBa"
      },
      "source": [
        "## 라벨로 선택\n",
        "레이블을 사용하여 횡단면을 얻으려면 : "
      ]
    },
    {
      "cell_type": "code",
      "metadata": {
        "colab": {
          "base_uri": "https://localhost:8080/"
        },
        "id": "HYvwY86T-jot",
        "outputId": "6d6b3e29-319d-4e53-aaf4-0d0a12b350a7"
      },
      "source": [
        "df.loc[dates[0]]"
      ],
      "execution_count": 50,
      "outputs": [
        {
          "output_type": "execute_result",
          "data": {
            "text/plain": [
              "A   -1.338161\n",
              "B    0.110530\n",
              "C    0.536230\n",
              "D    2.030842\n",
              "Name: 2013-01-01 00:00:00, dtype: float64"
            ]
          },
          "metadata": {
            "tags": []
          },
          "execution_count": 50
        }
      ]
    },
    {
      "cell_type": "markdown",
      "metadata": {
        "id": "qY6OjHtZ_TWl"
      },
      "source": [
        "라벨로 다축 선택 : "
      ]
    },
    {
      "cell_type": "code",
      "metadata": {
        "colab": {
          "base_uri": "https://localhost:8080/",
          "height": 235
        },
        "id": "ziMNVe8T_V_N",
        "outputId": "eb20474b-7140-4cc5-dc22-51e426e7d467"
      },
      "source": [
        "df.loc[:,[\"A\",\"B\"]]"
      ],
      "execution_count": 51,
      "outputs": [
        {
          "output_type": "execute_result",
          "data": {
            "text/html": [
              "<div>\n",
              "<style scoped>\n",
              "    .dataframe tbody tr th:only-of-type {\n",
              "        vertical-align: middle;\n",
              "    }\n",
              "\n",
              "    .dataframe tbody tr th {\n",
              "        vertical-align: top;\n",
              "    }\n",
              "\n",
              "    .dataframe thead th {\n",
              "        text-align: right;\n",
              "    }\n",
              "</style>\n",
              "<table border=\"1\" class=\"dataframe\">\n",
              "  <thead>\n",
              "    <tr style=\"text-align: right;\">\n",
              "      <th></th>\n",
              "      <th>A</th>\n",
              "      <th>B</th>\n",
              "    </tr>\n",
              "  </thead>\n",
              "  <tbody>\n",
              "    <tr>\n",
              "      <th>2013-01-01</th>\n",
              "      <td>-1.338161</td>\n",
              "      <td>0.110530</td>\n",
              "    </tr>\n",
              "    <tr>\n",
              "      <th>2013-01-02</th>\n",
              "      <td>0.357603</td>\n",
              "      <td>-0.355747</td>\n",
              "    </tr>\n",
              "    <tr>\n",
              "      <th>2013-01-03</th>\n",
              "      <td>-0.319073</td>\n",
              "      <td>-1.183950</td>\n",
              "    </tr>\n",
              "    <tr>\n",
              "      <th>2013-01-04</th>\n",
              "      <td>0.350805</td>\n",
              "      <td>1.549371</td>\n",
              "    </tr>\n",
              "    <tr>\n",
              "      <th>2013-01-05</th>\n",
              "      <td>-0.515572</td>\n",
              "      <td>-2.377644</td>\n",
              "    </tr>\n",
              "    <tr>\n",
              "      <th>2013-01-06</th>\n",
              "      <td>-0.260635</td>\n",
              "      <td>-1.106064</td>\n",
              "    </tr>\n",
              "  </tbody>\n",
              "</table>\n",
              "</div>"
            ],
            "text/plain": [
              "                   A         B\n",
              "2013-01-01 -1.338161  0.110530\n",
              "2013-01-02  0.357603 -0.355747\n",
              "2013-01-03 -0.319073 -1.183950\n",
              "2013-01-04  0.350805  1.549371\n",
              "2013-01-05 -0.515572 -2.377644\n",
              "2013-01-06 -0.260635 -1.106064"
            ]
          },
          "metadata": {
            "tags": []
          },
          "execution_count": 51
        }
      ]
    },
    {
      "cell_type": "markdown",
      "metadata": {
        "id": "f2yLSFGB_auE"
      },
      "source": [
        "레이블 슬라이싱을 표시하며 두 엔드 포인트가 모두 포함됩니다."
      ]
    },
    {
      "cell_type": "code",
      "metadata": {
        "colab": {
          "base_uri": "https://localhost:8080/",
          "height": 142
        },
        "id": "JbP4LyCi_dpl",
        "outputId": "ee2ad689-86cd-4204-e70a-7019f7fca404"
      },
      "source": [
        "df.loc[\"20130102\":\"20130104\",[\"A\",\"B\"]]"
      ],
      "execution_count": 52,
      "outputs": [
        {
          "output_type": "execute_result",
          "data": {
            "text/html": [
              "<div>\n",
              "<style scoped>\n",
              "    .dataframe tbody tr th:only-of-type {\n",
              "        vertical-align: middle;\n",
              "    }\n",
              "\n",
              "    .dataframe tbody tr th {\n",
              "        vertical-align: top;\n",
              "    }\n",
              "\n",
              "    .dataframe thead th {\n",
              "        text-align: right;\n",
              "    }\n",
              "</style>\n",
              "<table border=\"1\" class=\"dataframe\">\n",
              "  <thead>\n",
              "    <tr style=\"text-align: right;\">\n",
              "      <th></th>\n",
              "      <th>A</th>\n",
              "      <th>B</th>\n",
              "    </tr>\n",
              "  </thead>\n",
              "  <tbody>\n",
              "    <tr>\n",
              "      <th>2013-01-02</th>\n",
              "      <td>0.357603</td>\n",
              "      <td>-0.355747</td>\n",
              "    </tr>\n",
              "    <tr>\n",
              "      <th>2013-01-03</th>\n",
              "      <td>-0.319073</td>\n",
              "      <td>-1.183950</td>\n",
              "    </tr>\n",
              "    <tr>\n",
              "      <th>2013-01-04</th>\n",
              "      <td>0.350805</td>\n",
              "      <td>1.549371</td>\n",
              "    </tr>\n",
              "  </tbody>\n",
              "</table>\n",
              "</div>"
            ],
            "text/plain": [
              "                   A         B\n",
              "2013-01-02  0.357603 -0.355747\n",
              "2013-01-03 -0.319073 -1.183950\n",
              "2013-01-04  0.350805  1.549371"
            ]
          },
          "metadata": {
            "tags": []
          },
          "execution_count": 52
        }
      ]
    },
    {
      "cell_type": "markdown",
      "metadata": {
        "id": "Oj-Cel9y_jWm"
      },
      "source": [
        "반환 된 객체의 크기 감소 : "
      ]
    },
    {
      "cell_type": "code",
      "metadata": {
        "colab": {
          "base_uri": "https://localhost:8080/"
        },
        "id": "-OePpPbi_lfi",
        "outputId": "0369653c-7094-41f4-d790-b60fb37eb193"
      },
      "source": [
        "df.loc[\"20130102\",[\"A\",\"B\"]]"
      ],
      "execution_count": 53,
      "outputs": [
        {
          "output_type": "execute_result",
          "data": {
            "text/plain": [
              "A    0.357603\n",
              "B   -0.355747\n",
              "Name: 2013-01-02 00:00:00, dtype: float64"
            ]
          },
          "metadata": {
            "tags": []
          },
          "execution_count": 53
        }
      ]
    },
    {
      "cell_type": "markdown",
      "metadata": {
        "id": "S6c6Nyh1_pvd"
      },
      "source": [
        "스칼라 값을 얻으려면 : "
      ]
    },
    {
      "cell_type": "code",
      "metadata": {
        "colab": {
          "base_uri": "https://localhost:8080/"
        },
        "id": "YlDX4K2R_sH2",
        "outputId": "dcbcc4c1-7e6a-4966-978e-c72ee64add33"
      },
      "source": [
        "df.loc[dates[0], \"A\"]"
      ],
      "execution_count": 54,
      "outputs": [
        {
          "output_type": "execute_result",
          "data": {
            "text/plain": [
              "-1.3381608728638592"
            ]
          },
          "metadata": {
            "tags": []
          },
          "execution_count": 54
        }
      ]
    },
    {
      "cell_type": "markdown",
      "metadata": {
        "id": "VM183anR_vmV"
      },
      "source": [
        "스칼라에 빠르게 액세스하려면 : "
      ]
    },
    {
      "cell_type": "code",
      "metadata": {
        "colab": {
          "base_uri": "https://localhost:8080/"
        },
        "id": "aJh2yzDD_yLh",
        "outputId": "6ef30e20-606e-4715-cefa-d123ccea0d88"
      },
      "source": [
        "df.at[dates[0], \"A\"]"
      ],
      "execution_count": 55,
      "outputs": [
        {
          "output_type": "execute_result",
          "data": {
            "text/plain": [
              "-1.3381608728638592"
            ]
          },
          "metadata": {
            "tags": []
          },
          "execution_count": 55
        }
      ]
    },
    {
      "cell_type": "markdown",
      "metadata": {
        "id": "xp1C1y_5_2DK"
      },
      "source": [
        "## 위치 별 선택\n",
        "\n",
        "전달 된 정수의 위치를 통해 선택 : "
      ]
    },
    {
      "cell_type": "code",
      "metadata": {
        "colab": {
          "base_uri": "https://localhost:8080/"
        },
        "id": "09PsP4BI_5v9",
        "outputId": "d32475f1-ea64-45b3-ab12-3bac32251af5"
      },
      "source": [
        "df.iloc[3]"
      ],
      "execution_count": 56,
      "outputs": [
        {
          "output_type": "execute_result",
          "data": {
            "text/plain": [
              "A    0.350805\n",
              "B    1.549371\n",
              "C    1.245585\n",
              "D   -0.153351\n",
              "Name: 2013-01-04 00:00:00, dtype: float64"
            ]
          },
          "metadata": {
            "tags": []
          },
          "execution_count": 56
        }
      ]
    },
    {
      "cell_type": "markdown",
      "metadata": {
        "id": "RhFbzWWz_-oK"
      },
      "source": [
        "정수 조각으로 numpy / python과 유사하게 작동합니다."
      ]
    },
    {
      "cell_type": "code",
      "metadata": {
        "colab": {
          "base_uri": "https://localhost:8080/",
          "height": 111
        },
        "id": "h4_OyrQ3ACaM",
        "outputId": "1c96c1d3-a61f-4dd8-8ffb-01e03bcb1f50"
      },
      "source": [
        "df.iloc[3:5, 0:2]"
      ],
      "execution_count": 57,
      "outputs": [
        {
          "output_type": "execute_result",
          "data": {
            "text/html": [
              "<div>\n",
              "<style scoped>\n",
              "    .dataframe tbody tr th:only-of-type {\n",
              "        vertical-align: middle;\n",
              "    }\n",
              "\n",
              "    .dataframe tbody tr th {\n",
              "        vertical-align: top;\n",
              "    }\n",
              "\n",
              "    .dataframe thead th {\n",
              "        text-align: right;\n",
              "    }\n",
              "</style>\n",
              "<table border=\"1\" class=\"dataframe\">\n",
              "  <thead>\n",
              "    <tr style=\"text-align: right;\">\n",
              "      <th></th>\n",
              "      <th>A</th>\n",
              "      <th>B</th>\n",
              "    </tr>\n",
              "  </thead>\n",
              "  <tbody>\n",
              "    <tr>\n",
              "      <th>2013-01-04</th>\n",
              "      <td>0.350805</td>\n",
              "      <td>1.549371</td>\n",
              "    </tr>\n",
              "    <tr>\n",
              "      <th>2013-01-05</th>\n",
              "      <td>-0.515572</td>\n",
              "      <td>-2.377644</td>\n",
              "    </tr>\n",
              "  </tbody>\n",
              "</table>\n",
              "</div>"
            ],
            "text/plain": [
              "                   A         B\n",
              "2013-01-04  0.350805  1.549371\n",
              "2013-01-05 -0.515572 -2.377644"
            ]
          },
          "metadata": {
            "tags": []
          },
          "execution_count": 57
        }
      ]
    },
    {
      "cell_type": "markdown",
      "metadata": {
        "id": "iaR2U-TgBLYd"
      },
      "source": [
        "Numpy / python 스타일과 유사한 정수 위치 목록 : "
      ]
    },
    {
      "cell_type": "code",
      "metadata": {
        "colab": {
          "base_uri": "https://localhost:8080/",
          "height": 142
        },
        "id": "dA3ICLNFBO11",
        "outputId": "b628dcde-89a9-4d49-9dd3-2d7821b2fa52"
      },
      "source": [
        "df.iloc[[1,2,4],[0,2]]"
      ],
      "execution_count": 58,
      "outputs": [
        {
          "output_type": "execute_result",
          "data": {
            "text/html": [
              "<div>\n",
              "<style scoped>\n",
              "    .dataframe tbody tr th:only-of-type {\n",
              "        vertical-align: middle;\n",
              "    }\n",
              "\n",
              "    .dataframe tbody tr th {\n",
              "        vertical-align: top;\n",
              "    }\n",
              "\n",
              "    .dataframe thead th {\n",
              "        text-align: right;\n",
              "    }\n",
              "</style>\n",
              "<table border=\"1\" class=\"dataframe\">\n",
              "  <thead>\n",
              "    <tr style=\"text-align: right;\">\n",
              "      <th></th>\n",
              "      <th>A</th>\n",
              "      <th>C</th>\n",
              "    </tr>\n",
              "  </thead>\n",
              "  <tbody>\n",
              "    <tr>\n",
              "      <th>2013-01-02</th>\n",
              "      <td>0.357603</td>\n",
              "      <td>0.054411</td>\n",
              "    </tr>\n",
              "    <tr>\n",
              "      <th>2013-01-03</th>\n",
              "      <td>-0.319073</td>\n",
              "      <td>0.094337</td>\n",
              "    </tr>\n",
              "    <tr>\n",
              "      <th>2013-01-05</th>\n",
              "      <td>-0.515572</td>\n",
              "      <td>-0.042456</td>\n",
              "    </tr>\n",
              "  </tbody>\n",
              "</table>\n",
              "</div>"
            ],
            "text/plain": [
              "                   A         C\n",
              "2013-01-02  0.357603  0.054411\n",
              "2013-01-03 -0.319073  0.094337\n",
              "2013-01-05 -0.515572 -0.042456"
            ]
          },
          "metadata": {
            "tags": []
          },
          "execution_count": 58
        }
      ]
    },
    {
      "cell_type": "markdown",
      "metadata": {
        "id": "kNI2YMWFBSin"
      },
      "source": [
        "행을 명시적으로 분할하려면 : "
      ]
    },
    {
      "cell_type": "code",
      "metadata": {
        "colab": {
          "base_uri": "https://localhost:8080/",
          "height": 111
        },
        "id": "Lo-MgVGyBUWf",
        "outputId": "da8ad1cb-f875-48bb-fa3d-954bca06f02a"
      },
      "source": [
        "df.iloc[1:3,:]"
      ],
      "execution_count": 59,
      "outputs": [
        {
          "output_type": "execute_result",
          "data": {
            "text/html": [
              "<div>\n",
              "<style scoped>\n",
              "    .dataframe tbody tr th:only-of-type {\n",
              "        vertical-align: middle;\n",
              "    }\n",
              "\n",
              "    .dataframe tbody tr th {\n",
              "        vertical-align: top;\n",
              "    }\n",
              "\n",
              "    .dataframe thead th {\n",
              "        text-align: right;\n",
              "    }\n",
              "</style>\n",
              "<table border=\"1\" class=\"dataframe\">\n",
              "  <thead>\n",
              "    <tr style=\"text-align: right;\">\n",
              "      <th></th>\n",
              "      <th>A</th>\n",
              "      <th>B</th>\n",
              "      <th>C</th>\n",
              "      <th>D</th>\n",
              "    </tr>\n",
              "  </thead>\n",
              "  <tbody>\n",
              "    <tr>\n",
              "      <th>2013-01-02</th>\n",
              "      <td>0.357603</td>\n",
              "      <td>-0.355747</td>\n",
              "      <td>0.054411</td>\n",
              "      <td>-0.102109</td>\n",
              "    </tr>\n",
              "    <tr>\n",
              "      <th>2013-01-03</th>\n",
              "      <td>-0.319073</td>\n",
              "      <td>-1.183950</td>\n",
              "      <td>0.094337</td>\n",
              "      <td>0.616546</td>\n",
              "    </tr>\n",
              "  </tbody>\n",
              "</table>\n",
              "</div>"
            ],
            "text/plain": [
              "                   A         B         C         D\n",
              "2013-01-02  0.357603 -0.355747  0.054411 -0.102109\n",
              "2013-01-03 -0.319073 -1.183950  0.094337  0.616546"
            ]
          },
          "metadata": {
            "tags": []
          },
          "execution_count": 59
        }
      ]
    },
    {
      "cell_type": "markdown",
      "metadata": {
        "id": "CBVY2SboBYWW"
      },
      "source": [
        "열을 명시적으로 분할하려면 다음을 수행하십시오."
      ]
    },
    {
      "cell_type": "code",
      "metadata": {
        "colab": {
          "base_uri": "https://localhost:8080/",
          "height": 235
        },
        "id": "v0mZIeRGBbLx",
        "outputId": "bcabdf67-48c1-4fa1-da8b-fa713116579b"
      },
      "source": [
        "df.iloc[:,1:3]"
      ],
      "execution_count": 60,
      "outputs": [
        {
          "output_type": "execute_result",
          "data": {
            "text/html": [
              "<div>\n",
              "<style scoped>\n",
              "    .dataframe tbody tr th:only-of-type {\n",
              "        vertical-align: middle;\n",
              "    }\n",
              "\n",
              "    .dataframe tbody tr th {\n",
              "        vertical-align: top;\n",
              "    }\n",
              "\n",
              "    .dataframe thead th {\n",
              "        text-align: right;\n",
              "    }\n",
              "</style>\n",
              "<table border=\"1\" class=\"dataframe\">\n",
              "  <thead>\n",
              "    <tr style=\"text-align: right;\">\n",
              "      <th></th>\n",
              "      <th>B</th>\n",
              "      <th>C</th>\n",
              "    </tr>\n",
              "  </thead>\n",
              "  <tbody>\n",
              "    <tr>\n",
              "      <th>2013-01-01</th>\n",
              "      <td>0.110530</td>\n",
              "      <td>0.536230</td>\n",
              "    </tr>\n",
              "    <tr>\n",
              "      <th>2013-01-02</th>\n",
              "      <td>-0.355747</td>\n",
              "      <td>0.054411</td>\n",
              "    </tr>\n",
              "    <tr>\n",
              "      <th>2013-01-03</th>\n",
              "      <td>-1.183950</td>\n",
              "      <td>0.094337</td>\n",
              "    </tr>\n",
              "    <tr>\n",
              "      <th>2013-01-04</th>\n",
              "      <td>1.549371</td>\n",
              "      <td>1.245585</td>\n",
              "    </tr>\n",
              "    <tr>\n",
              "      <th>2013-01-05</th>\n",
              "      <td>-2.377644</td>\n",
              "      <td>-0.042456</td>\n",
              "    </tr>\n",
              "    <tr>\n",
              "      <th>2013-01-06</th>\n",
              "      <td>-1.106064</td>\n",
              "      <td>-1.276920</td>\n",
              "    </tr>\n",
              "  </tbody>\n",
              "</table>\n",
              "</div>"
            ],
            "text/plain": [
              "                   B         C\n",
              "2013-01-01  0.110530  0.536230\n",
              "2013-01-02 -0.355747  0.054411\n",
              "2013-01-03 -1.183950  0.094337\n",
              "2013-01-04  1.549371  1.245585\n",
              "2013-01-05 -2.377644 -0.042456\n",
              "2013-01-06 -1.106064 -1.276920"
            ]
          },
          "metadata": {
            "tags": []
          },
          "execution_count": 60
        }
      ]
    },
    {
      "cell_type": "markdown",
      "metadata": {
        "id": "XNinkgx4Bf_m"
      },
      "source": [
        "명시적으로 값을 얻으려면 :"
      ]
    },
    {
      "cell_type": "code",
      "metadata": {
        "colab": {
          "base_uri": "https://localhost:8080/"
        },
        "id": "Mti902c5BiCU",
        "outputId": "4a8b1f12-0f73-4501-b0e3-17495541a619"
      },
      "source": [
        "df.iloc[1,1]"
      ],
      "execution_count": 61,
      "outputs": [
        {
          "output_type": "execute_result",
          "data": {
            "text/plain": [
              "-0.3557474474984722"
            ]
          },
          "metadata": {
            "tags": []
          },
          "execution_count": 61
        }
      ]
    },
    {
      "cell_type": "markdown",
      "metadata": {
        "id": "g3q0R602BkJ9"
      },
      "source": [
        "스칼라에 빠르게 액세스하려면 : "
      ]
    },
    {
      "cell_type": "code",
      "metadata": {
        "colab": {
          "base_uri": "https://localhost:8080/"
        },
        "id": "paDhXHB2BmWP",
        "outputId": "9b9bde47-e031-4b75-bda9-046621974cd8"
      },
      "source": [
        "df.iat[1,1]"
      ],
      "execution_count": 62,
      "outputs": [
        {
          "output_type": "execute_result",
          "data": {
            "text/plain": [
              "-0.3557474474984722"
            ]
          },
          "metadata": {
            "tags": []
          },
          "execution_count": 62
        }
      ]
    },
    {
      "cell_type": "markdown",
      "metadata": {
        "id": "ycoTshANIiQJ"
      },
      "source": [
        "# 불 인덱싱\n",
        "\n",
        "단일 열의 값을 사용하여 데이터를 선택합니다."
      ]
    },
    {
      "cell_type": "code",
      "metadata": {
        "colab": {
          "base_uri": "https://localhost:8080/",
          "height": 111
        },
        "id": "TKCf53j_Inmo",
        "outputId": "0e065fff-99dd-435d-b062-585a6e9cec02"
      },
      "source": [
        "df[df[\"A\"]>0]"
      ],
      "execution_count": 63,
      "outputs": [
        {
          "output_type": "execute_result",
          "data": {
            "text/html": [
              "<div>\n",
              "<style scoped>\n",
              "    .dataframe tbody tr th:only-of-type {\n",
              "        vertical-align: middle;\n",
              "    }\n",
              "\n",
              "    .dataframe tbody tr th {\n",
              "        vertical-align: top;\n",
              "    }\n",
              "\n",
              "    .dataframe thead th {\n",
              "        text-align: right;\n",
              "    }\n",
              "</style>\n",
              "<table border=\"1\" class=\"dataframe\">\n",
              "  <thead>\n",
              "    <tr style=\"text-align: right;\">\n",
              "      <th></th>\n",
              "      <th>A</th>\n",
              "      <th>B</th>\n",
              "      <th>C</th>\n",
              "      <th>D</th>\n",
              "    </tr>\n",
              "  </thead>\n",
              "  <tbody>\n",
              "    <tr>\n",
              "      <th>2013-01-02</th>\n",
              "      <td>0.357603</td>\n",
              "      <td>-0.355747</td>\n",
              "      <td>0.054411</td>\n",
              "      <td>-0.102109</td>\n",
              "    </tr>\n",
              "    <tr>\n",
              "      <th>2013-01-04</th>\n",
              "      <td>0.350805</td>\n",
              "      <td>1.549371</td>\n",
              "      <td>1.245585</td>\n",
              "      <td>-0.153351</td>\n",
              "    </tr>\n",
              "  </tbody>\n",
              "</table>\n",
              "</div>"
            ],
            "text/plain": [
              "                   A         B         C         D\n",
              "2013-01-02  0.357603 -0.355747  0.054411 -0.102109\n",
              "2013-01-04  0.350805  1.549371  1.245585 -0.153351"
            ]
          },
          "metadata": {
            "tags": []
          },
          "execution_count": 63
        }
      ]
    },
    {
      "cell_type": "markdown",
      "metadata": {
        "id": "8OCIjRPPI8Im"
      },
      "source": [
        "불 조건이 충족되는 DataFrame에서 값 선택"
      ]
    },
    {
      "cell_type": "code",
      "metadata": {
        "colab": {
          "base_uri": "https://localhost:8080/",
          "height": 235
        },
        "id": "k3nysWlnJAUD",
        "outputId": "ec85ec6e-637e-4cce-89e8-f9d9b65744af"
      },
      "source": [
        "df[df > 0]"
      ],
      "execution_count": 64,
      "outputs": [
        {
          "output_type": "execute_result",
          "data": {
            "text/html": [
              "<div>\n",
              "<style scoped>\n",
              "    .dataframe tbody tr th:only-of-type {\n",
              "        vertical-align: middle;\n",
              "    }\n",
              "\n",
              "    .dataframe tbody tr th {\n",
              "        vertical-align: top;\n",
              "    }\n",
              "\n",
              "    .dataframe thead th {\n",
              "        text-align: right;\n",
              "    }\n",
              "</style>\n",
              "<table border=\"1\" class=\"dataframe\">\n",
              "  <thead>\n",
              "    <tr style=\"text-align: right;\">\n",
              "      <th></th>\n",
              "      <th>A</th>\n",
              "      <th>B</th>\n",
              "      <th>C</th>\n",
              "      <th>D</th>\n",
              "    </tr>\n",
              "  </thead>\n",
              "  <tbody>\n",
              "    <tr>\n",
              "      <th>2013-01-01</th>\n",
              "      <td>NaN</td>\n",
              "      <td>0.110530</td>\n",
              "      <td>0.536230</td>\n",
              "      <td>2.030842</td>\n",
              "    </tr>\n",
              "    <tr>\n",
              "      <th>2013-01-02</th>\n",
              "      <td>0.357603</td>\n",
              "      <td>NaN</td>\n",
              "      <td>0.054411</td>\n",
              "      <td>NaN</td>\n",
              "    </tr>\n",
              "    <tr>\n",
              "      <th>2013-01-03</th>\n",
              "      <td>NaN</td>\n",
              "      <td>NaN</td>\n",
              "      <td>0.094337</td>\n",
              "      <td>0.616546</td>\n",
              "    </tr>\n",
              "    <tr>\n",
              "      <th>2013-01-04</th>\n",
              "      <td>0.350805</td>\n",
              "      <td>1.549371</td>\n",
              "      <td>1.245585</td>\n",
              "      <td>NaN</td>\n",
              "    </tr>\n",
              "    <tr>\n",
              "      <th>2013-01-05</th>\n",
              "      <td>NaN</td>\n",
              "      <td>NaN</td>\n",
              "      <td>NaN</td>\n",
              "      <td>0.071252</td>\n",
              "    </tr>\n",
              "    <tr>\n",
              "      <th>2013-01-06</th>\n",
              "      <td>NaN</td>\n",
              "      <td>NaN</td>\n",
              "      <td>NaN</td>\n",
              "      <td>1.408237</td>\n",
              "    </tr>\n",
              "  </tbody>\n",
              "</table>\n",
              "</div>"
            ],
            "text/plain": [
              "                   A         B         C         D\n",
              "2013-01-01       NaN  0.110530  0.536230  2.030842\n",
              "2013-01-02  0.357603       NaN  0.054411       NaN\n",
              "2013-01-03       NaN       NaN  0.094337  0.616546\n",
              "2013-01-04  0.350805  1.549371  1.245585       NaN\n",
              "2013-01-05       NaN       NaN       NaN  0.071252\n",
              "2013-01-06       NaN       NaN       NaN  1.408237"
            ]
          },
          "metadata": {
            "tags": []
          },
          "execution_count": 64
        }
      ]
    },
    {
      "cell_type": "markdown",
      "metadata": {
        "id": "2J_vVab9JGH3"
      },
      "source": [
        "isin()필터링 방법 사용 : "
      ]
    },
    {
      "cell_type": "code",
      "metadata": {
        "colab": {
          "base_uri": "https://localhost:8080/",
          "height": 235
        },
        "id": "1XR9WzqiJJdu",
        "outputId": "9ce22d0d-af10-4a2f-b5d3-ae09b56e91b7"
      },
      "source": [
        "df2 = df.copy()\n",
        "\n",
        "df2[\"E\"] = [\"one\", \"one\", \"two\", \"three\", \"four\", \"three\"]\n",
        "\n",
        "df2"
      ],
      "execution_count": 65,
      "outputs": [
        {
          "output_type": "execute_result",
          "data": {
            "text/html": [
              "<div>\n",
              "<style scoped>\n",
              "    .dataframe tbody tr th:only-of-type {\n",
              "        vertical-align: middle;\n",
              "    }\n",
              "\n",
              "    .dataframe tbody tr th {\n",
              "        vertical-align: top;\n",
              "    }\n",
              "\n",
              "    .dataframe thead th {\n",
              "        text-align: right;\n",
              "    }\n",
              "</style>\n",
              "<table border=\"1\" class=\"dataframe\">\n",
              "  <thead>\n",
              "    <tr style=\"text-align: right;\">\n",
              "      <th></th>\n",
              "      <th>A</th>\n",
              "      <th>B</th>\n",
              "      <th>C</th>\n",
              "      <th>D</th>\n",
              "      <th>E</th>\n",
              "    </tr>\n",
              "  </thead>\n",
              "  <tbody>\n",
              "    <tr>\n",
              "      <th>2013-01-01</th>\n",
              "      <td>-1.338161</td>\n",
              "      <td>0.110530</td>\n",
              "      <td>0.536230</td>\n",
              "      <td>2.030842</td>\n",
              "      <td>one</td>\n",
              "    </tr>\n",
              "    <tr>\n",
              "      <th>2013-01-02</th>\n",
              "      <td>0.357603</td>\n",
              "      <td>-0.355747</td>\n",
              "      <td>0.054411</td>\n",
              "      <td>-0.102109</td>\n",
              "      <td>one</td>\n",
              "    </tr>\n",
              "    <tr>\n",
              "      <th>2013-01-03</th>\n",
              "      <td>-0.319073</td>\n",
              "      <td>-1.183950</td>\n",
              "      <td>0.094337</td>\n",
              "      <td>0.616546</td>\n",
              "      <td>two</td>\n",
              "    </tr>\n",
              "    <tr>\n",
              "      <th>2013-01-04</th>\n",
              "      <td>0.350805</td>\n",
              "      <td>1.549371</td>\n",
              "      <td>1.245585</td>\n",
              "      <td>-0.153351</td>\n",
              "      <td>three</td>\n",
              "    </tr>\n",
              "    <tr>\n",
              "      <th>2013-01-05</th>\n",
              "      <td>-0.515572</td>\n",
              "      <td>-2.377644</td>\n",
              "      <td>-0.042456</td>\n",
              "      <td>0.071252</td>\n",
              "      <td>four</td>\n",
              "    </tr>\n",
              "    <tr>\n",
              "      <th>2013-01-06</th>\n",
              "      <td>-0.260635</td>\n",
              "      <td>-1.106064</td>\n",
              "      <td>-1.276920</td>\n",
              "      <td>1.408237</td>\n",
              "      <td>three</td>\n",
              "    </tr>\n",
              "  </tbody>\n",
              "</table>\n",
              "</div>"
            ],
            "text/plain": [
              "                   A         B         C         D      E\n",
              "2013-01-01 -1.338161  0.110530  0.536230  2.030842    one\n",
              "2013-01-02  0.357603 -0.355747  0.054411 -0.102109    one\n",
              "2013-01-03 -0.319073 -1.183950  0.094337  0.616546    two\n",
              "2013-01-04  0.350805  1.549371  1.245585 -0.153351  three\n",
              "2013-01-05 -0.515572 -2.377644 -0.042456  0.071252   four\n",
              "2013-01-06 -0.260635 -1.106064 -1.276920  1.408237  three"
            ]
          },
          "metadata": {
            "tags": []
          },
          "execution_count": 65
        }
      ]
    },
    {
      "cell_type": "markdown",
      "metadata": {
        "id": "9ULQPfadJgOx"
      },
      "source": [
        "# 설정\n",
        "\n",
        "새 열을 설정하면 인덱스별로 데이터가 자동으로 정렬됩니다."
      ]
    },
    {
      "cell_type": "code",
      "metadata": {
        "id": "s3-hBqeqJkgH"
      },
      "source": [
        "s1 = pd.Series([1,2,3,4,5,6], index=pd.date_range(\"20130102\", periods=6))\n",
        "\n",
        "s1\n",
        "\n",
        "df[\"F\"] = s1"
      ],
      "execution_count": 66,
      "outputs": []
    },
    {
      "cell_type": "markdown",
      "metadata": {
        "id": "TGpga5cXUxNa"
      },
      "source": [
        "라벨 별 설정 값:"
      ]
    },
    {
      "cell_type": "code",
      "metadata": {
        "id": "RQ4Uu7qXUy-O"
      },
      "source": [
        "df.at[dates[0], \"A\"] = 0"
      ],
      "execution_count": 67,
      "outputs": []
    },
    {
      "cell_type": "markdown",
      "metadata": {
        "id": "5OC5-Ak2U4Ln"
      },
      "source": [
        "위치 별 설정 값 :"
      ]
    },
    {
      "cell_type": "code",
      "metadata": {
        "id": "3vqaagXfU6JA"
      },
      "source": [
        "df.iat[0,1]=0"
      ],
      "execution_count": 68,
      "outputs": []
    },
    {
      "cell_type": "markdown",
      "metadata": {
        "id": "lX_-8q-0U80v"
      },
      "source": [
        "Numpy 배열로 할당하여 설정:"
      ]
    },
    {
      "cell_type": "code",
      "metadata": {
        "id": "QyQNP7H_U_tc"
      },
      "source": [
        "df.loc[:, \"D\"] = np.array([5] * len(df))"
      ],
      "execution_count": 69,
      "outputs": []
    },
    {
      "cell_type": "markdown",
      "metadata": {
        "id": "TTg_ESxYVF1n"
      },
      "source": [
        "이전 설정 작업의 결과 :"
      ]
    },
    {
      "cell_type": "code",
      "metadata": {
        "colab": {
          "base_uri": "https://localhost:8080/",
          "height": 235
        },
        "id": "IiB5PvXBVHXh",
        "outputId": "c2c6f807-8e08-4ceb-fee0-656a3e7bc182"
      },
      "source": [
        "df"
      ],
      "execution_count": 70,
      "outputs": [
        {
          "output_type": "execute_result",
          "data": {
            "text/html": [
              "<div>\n",
              "<style scoped>\n",
              "    .dataframe tbody tr th:only-of-type {\n",
              "        vertical-align: middle;\n",
              "    }\n",
              "\n",
              "    .dataframe tbody tr th {\n",
              "        vertical-align: top;\n",
              "    }\n",
              "\n",
              "    .dataframe thead th {\n",
              "        text-align: right;\n",
              "    }\n",
              "</style>\n",
              "<table border=\"1\" class=\"dataframe\">\n",
              "  <thead>\n",
              "    <tr style=\"text-align: right;\">\n",
              "      <th></th>\n",
              "      <th>A</th>\n",
              "      <th>B</th>\n",
              "      <th>C</th>\n",
              "      <th>D</th>\n",
              "      <th>F</th>\n",
              "    </tr>\n",
              "  </thead>\n",
              "  <tbody>\n",
              "    <tr>\n",
              "      <th>2013-01-01</th>\n",
              "      <td>0.000000</td>\n",
              "      <td>0.000000</td>\n",
              "      <td>0.536230</td>\n",
              "      <td>5</td>\n",
              "      <td>NaN</td>\n",
              "    </tr>\n",
              "    <tr>\n",
              "      <th>2013-01-02</th>\n",
              "      <td>0.357603</td>\n",
              "      <td>-0.355747</td>\n",
              "      <td>0.054411</td>\n",
              "      <td>5</td>\n",
              "      <td>1.0</td>\n",
              "    </tr>\n",
              "    <tr>\n",
              "      <th>2013-01-03</th>\n",
              "      <td>-0.319073</td>\n",
              "      <td>-1.183950</td>\n",
              "      <td>0.094337</td>\n",
              "      <td>5</td>\n",
              "      <td>2.0</td>\n",
              "    </tr>\n",
              "    <tr>\n",
              "      <th>2013-01-04</th>\n",
              "      <td>0.350805</td>\n",
              "      <td>1.549371</td>\n",
              "      <td>1.245585</td>\n",
              "      <td>5</td>\n",
              "      <td>3.0</td>\n",
              "    </tr>\n",
              "    <tr>\n",
              "      <th>2013-01-05</th>\n",
              "      <td>-0.515572</td>\n",
              "      <td>-2.377644</td>\n",
              "      <td>-0.042456</td>\n",
              "      <td>5</td>\n",
              "      <td>4.0</td>\n",
              "    </tr>\n",
              "    <tr>\n",
              "      <th>2013-01-06</th>\n",
              "      <td>-0.260635</td>\n",
              "      <td>-1.106064</td>\n",
              "      <td>-1.276920</td>\n",
              "      <td>5</td>\n",
              "      <td>5.0</td>\n",
              "    </tr>\n",
              "  </tbody>\n",
              "</table>\n",
              "</div>"
            ],
            "text/plain": [
              "                   A         B         C  D    F\n",
              "2013-01-01  0.000000  0.000000  0.536230  5  NaN\n",
              "2013-01-02  0.357603 -0.355747  0.054411  5  1.0\n",
              "2013-01-03 -0.319073 -1.183950  0.094337  5  2.0\n",
              "2013-01-04  0.350805  1.549371  1.245585  5  3.0\n",
              "2013-01-05 -0.515572 -2.377644 -0.042456  5  4.0\n",
              "2013-01-06 -0.260635 -1.106064 -1.276920  5  5.0"
            ]
          },
          "metadata": {
            "tags": []
          },
          "execution_count": 70
        }
      ]
    },
    {
      "cell_type": "markdown",
      "metadata": {
        "id": "QNfeEB_kVK8z"
      },
      "source": [
        "where 설정이 있는 작업"
      ]
    },
    {
      "cell_type": "code",
      "metadata": {
        "colab": {
          "base_uri": "https://localhost:8080/",
          "height": 235
        },
        "id": "dx-nYI7mVNBB",
        "outputId": "d6abf237-9e45-4c6a-b231-26d15682faa7"
      },
      "source": [
        "df2 = df.copy()\n",
        "\n",
        "df2[df2 > 0] = -df2\n",
        "\n",
        "df2"
      ],
      "execution_count": 71,
      "outputs": [
        {
          "output_type": "execute_result",
          "data": {
            "text/html": [
              "<div>\n",
              "<style scoped>\n",
              "    .dataframe tbody tr th:only-of-type {\n",
              "        vertical-align: middle;\n",
              "    }\n",
              "\n",
              "    .dataframe tbody tr th {\n",
              "        vertical-align: top;\n",
              "    }\n",
              "\n",
              "    .dataframe thead th {\n",
              "        text-align: right;\n",
              "    }\n",
              "</style>\n",
              "<table border=\"1\" class=\"dataframe\">\n",
              "  <thead>\n",
              "    <tr style=\"text-align: right;\">\n",
              "      <th></th>\n",
              "      <th>A</th>\n",
              "      <th>B</th>\n",
              "      <th>C</th>\n",
              "      <th>D</th>\n",
              "      <th>F</th>\n",
              "    </tr>\n",
              "  </thead>\n",
              "  <tbody>\n",
              "    <tr>\n",
              "      <th>2013-01-01</th>\n",
              "      <td>0.000000</td>\n",
              "      <td>0.000000</td>\n",
              "      <td>-0.536230</td>\n",
              "      <td>-5</td>\n",
              "      <td>NaN</td>\n",
              "    </tr>\n",
              "    <tr>\n",
              "      <th>2013-01-02</th>\n",
              "      <td>-0.357603</td>\n",
              "      <td>-0.355747</td>\n",
              "      <td>-0.054411</td>\n",
              "      <td>-5</td>\n",
              "      <td>-1.0</td>\n",
              "    </tr>\n",
              "    <tr>\n",
              "      <th>2013-01-03</th>\n",
              "      <td>-0.319073</td>\n",
              "      <td>-1.183950</td>\n",
              "      <td>-0.094337</td>\n",
              "      <td>-5</td>\n",
              "      <td>-2.0</td>\n",
              "    </tr>\n",
              "    <tr>\n",
              "      <th>2013-01-04</th>\n",
              "      <td>-0.350805</td>\n",
              "      <td>-1.549371</td>\n",
              "      <td>-1.245585</td>\n",
              "      <td>-5</td>\n",
              "      <td>-3.0</td>\n",
              "    </tr>\n",
              "    <tr>\n",
              "      <th>2013-01-05</th>\n",
              "      <td>-0.515572</td>\n",
              "      <td>-2.377644</td>\n",
              "      <td>-0.042456</td>\n",
              "      <td>-5</td>\n",
              "      <td>-4.0</td>\n",
              "    </tr>\n",
              "    <tr>\n",
              "      <th>2013-01-06</th>\n",
              "      <td>-0.260635</td>\n",
              "      <td>-1.106064</td>\n",
              "      <td>-1.276920</td>\n",
              "      <td>-5</td>\n",
              "      <td>-5.0</td>\n",
              "    </tr>\n",
              "  </tbody>\n",
              "</table>\n",
              "</div>"
            ],
            "text/plain": [
              "                   A         B         C  D    F\n",
              "2013-01-01  0.000000  0.000000 -0.536230 -5  NaN\n",
              "2013-01-02 -0.357603 -0.355747 -0.054411 -5 -1.0\n",
              "2013-01-03 -0.319073 -1.183950 -0.094337 -5 -2.0\n",
              "2013-01-04 -0.350805 -1.549371 -1.245585 -5 -3.0\n",
              "2013-01-05 -0.515572 -2.377644 -0.042456 -5 -4.0\n",
              "2013-01-06 -0.260635 -1.106064 -1.276920 -5 -5.0"
            ]
          },
          "metadata": {
            "tags": []
          },
          "execution_count": 71
        }
      ]
    },
    {
      "cell_type": "markdown",
      "metadata": {
        "id": "-yd_GkaTVUtY"
      },
      "source": [
        "# 누락 된 데이터\n",
        "\n",
        "pandas는 주로 값 np.nan을 사용하여 누락 된 데이터를 나타냅니다. 기본적으로 계산에 포함되지 않습니다.\n",
        "\n",
        "재 인덱싱을 사용하면 지정된 축에서 인덱스를 변경/ 추가/ 삭제할 수 있습니다. 이것은 데이터의 복사본을 반환합니다."
      ]
    },
    {
      "cell_type": "code",
      "metadata": {
        "colab": {
          "base_uri": "https://localhost:8080/",
          "height": 173
        },
        "id": "zIp_OXPmViEB",
        "outputId": "75c0c797-6eaf-4523-acad-7daf60e91024"
      },
      "source": [
        "df1 = df.reindex(index=dates[0:4], columns=list(df.columns) + [\"E\"])\n",
        "\n",
        "df1.loc[dates[0] : dates[1], \"E\"] = 1\n",
        "\n",
        "df1"
      ],
      "execution_count": 72,
      "outputs": [
        {
          "output_type": "execute_result",
          "data": {
            "text/html": [
              "<div>\n",
              "<style scoped>\n",
              "    .dataframe tbody tr th:only-of-type {\n",
              "        vertical-align: middle;\n",
              "    }\n",
              "\n",
              "    .dataframe tbody tr th {\n",
              "        vertical-align: top;\n",
              "    }\n",
              "\n",
              "    .dataframe thead th {\n",
              "        text-align: right;\n",
              "    }\n",
              "</style>\n",
              "<table border=\"1\" class=\"dataframe\">\n",
              "  <thead>\n",
              "    <tr style=\"text-align: right;\">\n",
              "      <th></th>\n",
              "      <th>A</th>\n",
              "      <th>B</th>\n",
              "      <th>C</th>\n",
              "      <th>D</th>\n",
              "      <th>F</th>\n",
              "      <th>E</th>\n",
              "    </tr>\n",
              "  </thead>\n",
              "  <tbody>\n",
              "    <tr>\n",
              "      <th>2013-01-01</th>\n",
              "      <td>0.000000</td>\n",
              "      <td>0.000000</td>\n",
              "      <td>0.536230</td>\n",
              "      <td>5</td>\n",
              "      <td>NaN</td>\n",
              "      <td>1.0</td>\n",
              "    </tr>\n",
              "    <tr>\n",
              "      <th>2013-01-02</th>\n",
              "      <td>0.357603</td>\n",
              "      <td>-0.355747</td>\n",
              "      <td>0.054411</td>\n",
              "      <td>5</td>\n",
              "      <td>1.0</td>\n",
              "      <td>1.0</td>\n",
              "    </tr>\n",
              "    <tr>\n",
              "      <th>2013-01-03</th>\n",
              "      <td>-0.319073</td>\n",
              "      <td>-1.183950</td>\n",
              "      <td>0.094337</td>\n",
              "      <td>5</td>\n",
              "      <td>2.0</td>\n",
              "      <td>NaN</td>\n",
              "    </tr>\n",
              "    <tr>\n",
              "      <th>2013-01-04</th>\n",
              "      <td>0.350805</td>\n",
              "      <td>1.549371</td>\n",
              "      <td>1.245585</td>\n",
              "      <td>5</td>\n",
              "      <td>3.0</td>\n",
              "      <td>NaN</td>\n",
              "    </tr>\n",
              "  </tbody>\n",
              "</table>\n",
              "</div>"
            ],
            "text/plain": [
              "                   A         B         C  D    F    E\n",
              "2013-01-01  0.000000  0.000000  0.536230  5  NaN  1.0\n",
              "2013-01-02  0.357603 -0.355747  0.054411  5  1.0  1.0\n",
              "2013-01-03 -0.319073 -1.183950  0.094337  5  2.0  NaN\n",
              "2013-01-04  0.350805  1.549371  1.245585  5  3.0  NaN"
            ]
          },
          "metadata": {
            "tags": []
          },
          "execution_count": 72
        }
      ]
    },
    {
      "cell_type": "markdown",
      "metadata": {
        "id": "1qWBzuTxWTkU"
      },
      "source": [
        "누락 된 데이터가 있는 행을 삭제합니다."
      ]
    },
    {
      "cell_type": "code",
      "metadata": {
        "colab": {
          "base_uri": "https://localhost:8080/",
          "height": 80
        },
        "id": "4tKHy6yiWVuD",
        "outputId": "0f0f39af-7227-4bcb-c16c-1a699845e10c"
      },
      "source": [
        "df1.dropna(how=\"any\")"
      ],
      "execution_count": 73,
      "outputs": [
        {
          "output_type": "execute_result",
          "data": {
            "text/html": [
              "<div>\n",
              "<style scoped>\n",
              "    .dataframe tbody tr th:only-of-type {\n",
              "        vertical-align: middle;\n",
              "    }\n",
              "\n",
              "    .dataframe tbody tr th {\n",
              "        vertical-align: top;\n",
              "    }\n",
              "\n",
              "    .dataframe thead th {\n",
              "        text-align: right;\n",
              "    }\n",
              "</style>\n",
              "<table border=\"1\" class=\"dataframe\">\n",
              "  <thead>\n",
              "    <tr style=\"text-align: right;\">\n",
              "      <th></th>\n",
              "      <th>A</th>\n",
              "      <th>B</th>\n",
              "      <th>C</th>\n",
              "      <th>D</th>\n",
              "      <th>F</th>\n",
              "      <th>E</th>\n",
              "    </tr>\n",
              "  </thead>\n",
              "  <tbody>\n",
              "    <tr>\n",
              "      <th>2013-01-02</th>\n",
              "      <td>0.357603</td>\n",
              "      <td>-0.355747</td>\n",
              "      <td>0.054411</td>\n",
              "      <td>5</td>\n",
              "      <td>1.0</td>\n",
              "      <td>1.0</td>\n",
              "    </tr>\n",
              "  </tbody>\n",
              "</table>\n",
              "</div>"
            ],
            "text/plain": [
              "                   A         B         C  D    F    E\n",
              "2013-01-02  0.357603 -0.355747  0.054411  5  1.0  1.0"
            ]
          },
          "metadata": {
            "tags": []
          },
          "execution_count": 73
        }
      ]
    },
    {
      "cell_type": "markdown",
      "metadata": {
        "id": "Nvfmf1vUWZnm"
      },
      "source": [
        "누락 된 데이터 채우기."
      ]
    },
    {
      "cell_type": "code",
      "metadata": {
        "colab": {
          "base_uri": "https://localhost:8080/",
          "height": 173
        },
        "id": "vpzg_6KXWcQ2",
        "outputId": "e8fc8de6-52a9-47be-ed29-0b9d5e188ea0"
      },
      "source": [
        "df1.fillna(value=5)"
      ],
      "execution_count": 74,
      "outputs": [
        {
          "output_type": "execute_result",
          "data": {
            "text/html": [
              "<div>\n",
              "<style scoped>\n",
              "    .dataframe tbody tr th:only-of-type {\n",
              "        vertical-align: middle;\n",
              "    }\n",
              "\n",
              "    .dataframe tbody tr th {\n",
              "        vertical-align: top;\n",
              "    }\n",
              "\n",
              "    .dataframe thead th {\n",
              "        text-align: right;\n",
              "    }\n",
              "</style>\n",
              "<table border=\"1\" class=\"dataframe\">\n",
              "  <thead>\n",
              "    <tr style=\"text-align: right;\">\n",
              "      <th></th>\n",
              "      <th>A</th>\n",
              "      <th>B</th>\n",
              "      <th>C</th>\n",
              "      <th>D</th>\n",
              "      <th>F</th>\n",
              "      <th>E</th>\n",
              "    </tr>\n",
              "  </thead>\n",
              "  <tbody>\n",
              "    <tr>\n",
              "      <th>2013-01-01</th>\n",
              "      <td>0.000000</td>\n",
              "      <td>0.000000</td>\n",
              "      <td>0.536230</td>\n",
              "      <td>5</td>\n",
              "      <td>5.0</td>\n",
              "      <td>1.0</td>\n",
              "    </tr>\n",
              "    <tr>\n",
              "      <th>2013-01-02</th>\n",
              "      <td>0.357603</td>\n",
              "      <td>-0.355747</td>\n",
              "      <td>0.054411</td>\n",
              "      <td>5</td>\n",
              "      <td>1.0</td>\n",
              "      <td>1.0</td>\n",
              "    </tr>\n",
              "    <tr>\n",
              "      <th>2013-01-03</th>\n",
              "      <td>-0.319073</td>\n",
              "      <td>-1.183950</td>\n",
              "      <td>0.094337</td>\n",
              "      <td>5</td>\n",
              "      <td>2.0</td>\n",
              "      <td>5.0</td>\n",
              "    </tr>\n",
              "    <tr>\n",
              "      <th>2013-01-04</th>\n",
              "      <td>0.350805</td>\n",
              "      <td>1.549371</td>\n",
              "      <td>1.245585</td>\n",
              "      <td>5</td>\n",
              "      <td>3.0</td>\n",
              "      <td>5.0</td>\n",
              "    </tr>\n",
              "  </tbody>\n",
              "</table>\n",
              "</div>"
            ],
            "text/plain": [
              "                   A         B         C  D    F    E\n",
              "2013-01-01  0.000000  0.000000  0.536230  5  5.0  1.0\n",
              "2013-01-02  0.357603 -0.355747  0.054411  5  1.0  1.0\n",
              "2013-01-03 -0.319073 -1.183950  0.094337  5  2.0  5.0\n",
              "2013-01-04  0.350805  1.549371  1.245585  5  3.0  5.0"
            ]
          },
          "metadata": {
            "tags": []
          },
          "execution_count": 74
        }
      ]
    },
    {
      "cell_type": "markdown",
      "metadata": {
        "id": "7XbztKxYWxcW"
      },
      "source": [
        "값이 불 인 마스크를 가져옵니다. nan"
      ]
    },
    {
      "cell_type": "code",
      "metadata": {
        "colab": {
          "base_uri": "https://localhost:8080/",
          "height": 173
        },
        "id": "scqqi0pbW0PE",
        "outputId": "16f8cdc5-65af-45d9-cf5b-9aba2a823e97"
      },
      "source": [
        "pd.isna(df1)"
      ],
      "execution_count": 75,
      "outputs": [
        {
          "output_type": "execute_result",
          "data": {
            "text/html": [
              "<div>\n",
              "<style scoped>\n",
              "    .dataframe tbody tr th:only-of-type {\n",
              "        vertical-align: middle;\n",
              "    }\n",
              "\n",
              "    .dataframe tbody tr th {\n",
              "        vertical-align: top;\n",
              "    }\n",
              "\n",
              "    .dataframe thead th {\n",
              "        text-align: right;\n",
              "    }\n",
              "</style>\n",
              "<table border=\"1\" class=\"dataframe\">\n",
              "  <thead>\n",
              "    <tr style=\"text-align: right;\">\n",
              "      <th></th>\n",
              "      <th>A</th>\n",
              "      <th>B</th>\n",
              "      <th>C</th>\n",
              "      <th>D</th>\n",
              "      <th>F</th>\n",
              "      <th>E</th>\n",
              "    </tr>\n",
              "  </thead>\n",
              "  <tbody>\n",
              "    <tr>\n",
              "      <th>2013-01-01</th>\n",
              "      <td>False</td>\n",
              "      <td>False</td>\n",
              "      <td>False</td>\n",
              "      <td>False</td>\n",
              "      <td>True</td>\n",
              "      <td>False</td>\n",
              "    </tr>\n",
              "    <tr>\n",
              "      <th>2013-01-02</th>\n",
              "      <td>False</td>\n",
              "      <td>False</td>\n",
              "      <td>False</td>\n",
              "      <td>False</td>\n",
              "      <td>False</td>\n",
              "      <td>False</td>\n",
              "    </tr>\n",
              "    <tr>\n",
              "      <th>2013-01-03</th>\n",
              "      <td>False</td>\n",
              "      <td>False</td>\n",
              "      <td>False</td>\n",
              "      <td>False</td>\n",
              "      <td>False</td>\n",
              "      <td>True</td>\n",
              "    </tr>\n",
              "    <tr>\n",
              "      <th>2013-01-04</th>\n",
              "      <td>False</td>\n",
              "      <td>False</td>\n",
              "      <td>False</td>\n",
              "      <td>False</td>\n",
              "      <td>False</td>\n",
              "      <td>True</td>\n",
              "    </tr>\n",
              "  </tbody>\n",
              "</table>\n",
              "</div>"
            ],
            "text/plain": [
              "                A      B      C      D      F      E\n",
              "2013-01-01  False  False  False  False   True  False\n",
              "2013-01-02  False  False  False  False  False  False\n",
              "2013-01-03  False  False  False  False  False   True\n",
              "2013-01-04  False  False  False  False  False   True"
            ]
          },
          "metadata": {
            "tags": []
          },
          "execution_count": 75
        }
      ]
    },
    {
      "cell_type": "markdown",
      "metadata": {
        "id": "HoqnRjeBW45P"
      },
      "source": [
        "# 통계\n",
        "\n",
        "일반적으로 연산은 누락 된 데이터를 제외합니다.\n",
        "\n",
        "기술 통계 수행 :"
      ]
    },
    {
      "cell_type": "code",
      "metadata": {
        "colab": {
          "base_uri": "https://localhost:8080/"
        },
        "id": "TGqwJ9bwW-4W",
        "outputId": "69a27fbd-6da6-4af8-b7f7-9c37f14268a5"
      },
      "source": [
        "df.mean()"
      ],
      "execution_count": 76,
      "outputs": [
        {
          "output_type": "execute_result",
          "data": {
            "text/plain": [
              "A   -0.064479\n",
              "B   -0.579006\n",
              "C    0.101865\n",
              "D    5.000000\n",
              "F    3.000000\n",
              "dtype: float64"
            ]
          },
          "metadata": {
            "tags": []
          },
          "execution_count": 76
        }
      ]
    },
    {
      "cell_type": "markdown",
      "metadata": {
        "id": "2x3AB4lpXIWu"
      },
      "source": [
        "다른 축에서 동일한 작업 :"
      ]
    },
    {
      "cell_type": "code",
      "metadata": {
        "colab": {
          "base_uri": "https://localhost:8080/"
        },
        "id": "ujcxeyDZXKz-",
        "outputId": "c5cecb39-d453-418a-8ee7-9c9dca3c1932"
      },
      "source": [
        "df.mean(1)"
      ],
      "execution_count": 77,
      "outputs": [
        {
          "output_type": "execute_result",
          "data": {
            "text/plain": [
              "2013-01-01    1.384058\n",
              "2013-01-02    1.211253\n",
              "2013-01-03    1.118263\n",
              "2013-01-04    2.229152\n",
              "2013-01-05    1.212866\n",
              "2013-01-06    1.471276\n",
              "Freq: D, dtype: float64"
            ]
          },
          "metadata": {
            "tags": []
          },
          "execution_count": 77
        }
      ]
    },
    {
      "cell_type": "markdown",
      "metadata": {
        "id": "-iOdSWGfXP4G"
      },
      "source": [
        "차원이 다르고 정렬이 필요한 개체로 작동합니다. 또한 Pandas는 지정된 차원을 따라 자동으로 발송됩니다."
      ]
    },
    {
      "cell_type": "code",
      "metadata": {
        "colab": {
          "base_uri": "https://localhost:8080/",
          "height": 235
        },
        "id": "7-tUhaHlXV8C",
        "outputId": "57b0e0b8-413f-4eb2-8616-04c8bee5e947"
      },
      "source": [
        "s = pd.Series([1,3,5,np.nan,6,8], index=dates).shift(2)\n",
        "\n",
        "s\n",
        "\n",
        "df.sub(s, axis=\"index\")"
      ],
      "execution_count": 78,
      "outputs": [
        {
          "output_type": "execute_result",
          "data": {
            "text/html": [
              "<div>\n",
              "<style scoped>\n",
              "    .dataframe tbody tr th:only-of-type {\n",
              "        vertical-align: middle;\n",
              "    }\n",
              "\n",
              "    .dataframe tbody tr th {\n",
              "        vertical-align: top;\n",
              "    }\n",
              "\n",
              "    .dataframe thead th {\n",
              "        text-align: right;\n",
              "    }\n",
              "</style>\n",
              "<table border=\"1\" class=\"dataframe\">\n",
              "  <thead>\n",
              "    <tr style=\"text-align: right;\">\n",
              "      <th></th>\n",
              "      <th>A</th>\n",
              "      <th>B</th>\n",
              "      <th>C</th>\n",
              "      <th>D</th>\n",
              "      <th>F</th>\n",
              "    </tr>\n",
              "  </thead>\n",
              "  <tbody>\n",
              "    <tr>\n",
              "      <th>2013-01-01</th>\n",
              "      <td>NaN</td>\n",
              "      <td>NaN</td>\n",
              "      <td>NaN</td>\n",
              "      <td>NaN</td>\n",
              "      <td>NaN</td>\n",
              "    </tr>\n",
              "    <tr>\n",
              "      <th>2013-01-02</th>\n",
              "      <td>NaN</td>\n",
              "      <td>NaN</td>\n",
              "      <td>NaN</td>\n",
              "      <td>NaN</td>\n",
              "      <td>NaN</td>\n",
              "    </tr>\n",
              "    <tr>\n",
              "      <th>2013-01-03</th>\n",
              "      <td>-1.319073</td>\n",
              "      <td>-2.183950</td>\n",
              "      <td>-0.905663</td>\n",
              "      <td>4.0</td>\n",
              "      <td>1.0</td>\n",
              "    </tr>\n",
              "    <tr>\n",
              "      <th>2013-01-04</th>\n",
              "      <td>-2.649195</td>\n",
              "      <td>-1.450629</td>\n",
              "      <td>-1.754415</td>\n",
              "      <td>2.0</td>\n",
              "      <td>0.0</td>\n",
              "    </tr>\n",
              "    <tr>\n",
              "      <th>2013-01-05</th>\n",
              "      <td>-5.515572</td>\n",
              "      <td>-7.377644</td>\n",
              "      <td>-5.042456</td>\n",
              "      <td>0.0</td>\n",
              "      <td>-1.0</td>\n",
              "    </tr>\n",
              "    <tr>\n",
              "      <th>2013-01-06</th>\n",
              "      <td>NaN</td>\n",
              "      <td>NaN</td>\n",
              "      <td>NaN</td>\n",
              "      <td>NaN</td>\n",
              "      <td>NaN</td>\n",
              "    </tr>\n",
              "  </tbody>\n",
              "</table>\n",
              "</div>"
            ],
            "text/plain": [
              "                   A         B         C    D    F\n",
              "2013-01-01       NaN       NaN       NaN  NaN  NaN\n",
              "2013-01-02       NaN       NaN       NaN  NaN  NaN\n",
              "2013-01-03 -1.319073 -2.183950 -0.905663  4.0  1.0\n",
              "2013-01-04 -2.649195 -1.450629 -1.754415  2.0  0.0\n",
              "2013-01-05 -5.515572 -7.377644 -5.042456  0.0 -1.0\n",
              "2013-01-06       NaN       NaN       NaN  NaN  NaN"
            ]
          },
          "metadata": {
            "tags": []
          },
          "execution_count": 78
        }
      ]
    },
    {
      "cell_type": "markdown",
      "metadata": {
        "id": "W176-H6TXoew"
      },
      "source": [
        "데이터에 함수 적용 :"
      ]
    },
    {
      "cell_type": "code",
      "metadata": {
        "colab": {
          "base_uri": "https://localhost:8080/"
        },
        "id": "bk6od0FCXqr4",
        "outputId": "4ea0d623-0c7f-474e-b618-a8038735d869"
      },
      "source": [
        "df.apply(np.cumsum)\n",
        "\n",
        "df.apply(lambda x: x.max() - x.min())"
      ],
      "execution_count": 79,
      "outputs": [
        {
          "output_type": "execute_result",
          "data": {
            "text/plain": [
              "A    0.873175\n",
              "B    3.927015\n",
              "C    2.522505\n",
              "D    0.000000\n",
              "F    4.000000\n",
              "dtype: float64"
            ]
          },
          "metadata": {
            "tags": []
          },
          "execution_count": 79
        }
      ]
    },
    {
      "cell_type": "markdown",
      "metadata": {
        "id": "y-mrEqzTX22G"
      },
      "source": [
        "# 히스토그램"
      ]
    },
    {
      "cell_type": "code",
      "metadata": {
        "colab": {
          "base_uri": "https://localhost:8080/"
        },
        "id": "QfeqMghwX6QI",
        "outputId": "e1ab3ba6-84e6-4016-a45d-c4e8fae493dd"
      },
      "source": [
        "s = pd.Series(np.random.randint(0,7,size=10))\n",
        "\n",
        "s\n",
        "\n",
        "s.value_counts()"
      ],
      "execution_count": 80,
      "outputs": [
        {
          "output_type": "execute_result",
          "data": {
            "text/plain": [
              "6    3\n",
              "0    3\n",
              "5    2\n",
              "3    1\n",
              "1    1\n",
              "dtype: int64"
            ]
          },
          "metadata": {
            "tags": []
          },
          "execution_count": 80
        }
      ]
    },
    {
      "cell_type": "markdown",
      "metadata": {
        "id": "Bkim6G-PYdNm"
      },
      "source": [
        "# 문자열 메소드\n",
        "\n",
        "시리즈에는 str 아래 코드 스 니펫에서와 같이 배열의 각 요소에서 쉽게 조작할 수 있도록 속성에 문자열 처리 메소드 세트가 있습니다. 패턴일치는 str일반적으로 기본적으로 정규식을 사용하며 경우에 따라 항상 정규식을 사용합니다."
      ]
    },
    {
      "cell_type": "code",
      "metadata": {
        "colab": {
          "base_uri": "https://localhost:8080/"
        },
        "id": "IMzUBaG8Yuhe",
        "outputId": "f041096b-1de2-4a9a-c971-dcb13239a6b4"
      },
      "source": [
        "s = pd.Series([\"A\",\"B\",\"C\",\"Aaba\",\"Baca\", np.nan, \"CABA\", \"dog\", \"cat\"])\n",
        "\n",
        "s.str.lower()"
      ],
      "execution_count": 81,
      "outputs": [
        {
          "output_type": "execute_result",
          "data": {
            "text/plain": [
              "0       a\n",
              "1       b\n",
              "2       c\n",
              "3    aaba\n",
              "4    baca\n",
              "5     NaN\n",
              "6    caba\n",
              "7     dog\n",
              "8     cat\n",
              "dtype: object"
            ]
          },
          "metadata": {
            "tags": []
          },
          "execution_count": 81
        }
      ]
    },
    {
      "cell_type": "markdown",
      "metadata": {
        "id": "P5Zwl5WRZEe-"
      },
      "source": [
        "# 병합\n",
        "\n",
        "## Concat\n",
        "\n",
        "Pandas는 Series 및 DataFrame 객체를 결합 / 병합 유형 작업의 경우 인덱스 및 관계형 대수 기능에 대한 다양한 종류의 세트 로직과 함께 쉽게 결합 할 수 있는 다양한 기능을 제공합니다.\n",
        "\n",
        "pandas 객체를 다음과 함께 연결 concat():"
      ]
    },
    {
      "cell_type": "code",
      "metadata": {
        "colab": {
          "base_uri": "https://localhost:8080/",
          "height": 359
        },
        "id": "enoFpg1HZTvm",
        "outputId": "61b8ee0a-7a6b-462a-dd3c-a8c6495a62af"
      },
      "source": [
        "df = pd.DataFrame(np.random.randn(10, 4))\n",
        "\n",
        "df\n",
        "\n",
        "# break it into pieces\n",
        "\n",
        "pieces = [df[:3],df[3:7],df[7:]]\n",
        "\n",
        "pd.concat(pieces)"
      ],
      "execution_count": 82,
      "outputs": [
        {
          "output_type": "execute_result",
          "data": {
            "text/html": [
              "<div>\n",
              "<style scoped>\n",
              "    .dataframe tbody tr th:only-of-type {\n",
              "        vertical-align: middle;\n",
              "    }\n",
              "\n",
              "    .dataframe tbody tr th {\n",
              "        vertical-align: top;\n",
              "    }\n",
              "\n",
              "    .dataframe thead th {\n",
              "        text-align: right;\n",
              "    }\n",
              "</style>\n",
              "<table border=\"1\" class=\"dataframe\">\n",
              "  <thead>\n",
              "    <tr style=\"text-align: right;\">\n",
              "      <th></th>\n",
              "      <th>0</th>\n",
              "      <th>1</th>\n",
              "      <th>2</th>\n",
              "      <th>3</th>\n",
              "    </tr>\n",
              "  </thead>\n",
              "  <tbody>\n",
              "    <tr>\n",
              "      <th>0</th>\n",
              "      <td>-1.192838</td>\n",
              "      <td>0.384087</td>\n",
              "      <td>0.887058</td>\n",
              "      <td>-1.348107</td>\n",
              "    </tr>\n",
              "    <tr>\n",
              "      <th>1</th>\n",
              "      <td>1.335282</td>\n",
              "      <td>-0.076665</td>\n",
              "      <td>0.227045</td>\n",
              "      <td>-0.612258</td>\n",
              "    </tr>\n",
              "    <tr>\n",
              "      <th>2</th>\n",
              "      <td>-0.483729</td>\n",
              "      <td>1.188195</td>\n",
              "      <td>-0.448694</td>\n",
              "      <td>-2.713682</td>\n",
              "    </tr>\n",
              "    <tr>\n",
              "      <th>3</th>\n",
              "      <td>-0.579994</td>\n",
              "      <td>-0.640704</td>\n",
              "      <td>-1.267504</td>\n",
              "      <td>-0.006364</td>\n",
              "    </tr>\n",
              "    <tr>\n",
              "      <th>4</th>\n",
              "      <td>1.413399</td>\n",
              "      <td>1.118911</td>\n",
              "      <td>-0.301100</td>\n",
              "      <td>0.044948</td>\n",
              "    </tr>\n",
              "    <tr>\n",
              "      <th>5</th>\n",
              "      <td>0.785531</td>\n",
              "      <td>-1.443541</td>\n",
              "      <td>-1.211024</td>\n",
              "      <td>-0.372210</td>\n",
              "    </tr>\n",
              "    <tr>\n",
              "      <th>6</th>\n",
              "      <td>0.006017</td>\n",
              "      <td>-1.521360</td>\n",
              "      <td>0.165257</td>\n",
              "      <td>0.633229</td>\n",
              "    </tr>\n",
              "    <tr>\n",
              "      <th>7</th>\n",
              "      <td>-0.633135</td>\n",
              "      <td>0.657720</td>\n",
              "      <td>0.524750</td>\n",
              "      <td>-1.968084</td>\n",
              "    </tr>\n",
              "    <tr>\n",
              "      <th>8</th>\n",
              "      <td>0.400773</td>\n",
              "      <td>-1.014635</td>\n",
              "      <td>2.229316</td>\n",
              "      <td>-1.433340</td>\n",
              "    </tr>\n",
              "    <tr>\n",
              "      <th>9</th>\n",
              "      <td>0.820736</td>\n",
              "      <td>-0.556207</td>\n",
              "      <td>-0.448710</td>\n",
              "      <td>1.945929</td>\n",
              "    </tr>\n",
              "  </tbody>\n",
              "</table>\n",
              "</div>"
            ],
            "text/plain": [
              "          0         1         2         3\n",
              "0 -1.192838  0.384087  0.887058 -1.348107\n",
              "1  1.335282 -0.076665  0.227045 -0.612258\n",
              "2 -0.483729  1.188195 -0.448694 -2.713682\n",
              "3 -0.579994 -0.640704 -1.267504 -0.006364\n",
              "4  1.413399  1.118911 -0.301100  0.044948\n",
              "5  0.785531 -1.443541 -1.211024 -0.372210\n",
              "6  0.006017 -1.521360  0.165257  0.633229\n",
              "7 -0.633135  0.657720  0.524750 -1.968084\n",
              "8  0.400773 -1.014635  2.229316 -1.433340\n",
              "9  0.820736 -0.556207 -0.448710  1.945929"
            ]
          },
          "metadata": {
            "tags": []
          },
          "execution_count": 82
        }
      ]
    },
    {
      "cell_type": "markdown",
      "metadata": {
        "id": "cVTejRrza4b_"
      },
      "source": [
        "a에 열을 추가하는 DataFrame것은 비교적 빠릅니다. 그러나 행을 추가하려면 복사본이 필요하며 비용이 많이들 수 있습니다. 반복적으로 레코드를 추가하여 DataFrame을 빌드하는 대신 미리 빌드 된 레코드 목록을 생성자에 전달하는 것이 좋습니다."
      ]
    },
    {
      "cell_type": "markdown",
      "metadata": {
        "id": "qXYwdbMibFnl"
      },
      "source": [
        "# 가입\n",
        "\n",
        "SQL스타일이 병합됩니다."
      ]
    },
    {
      "cell_type": "code",
      "metadata": {
        "colab": {
          "base_uri": "https://localhost:8080/",
          "height": 173
        },
        "id": "NdGIAgK7bIkd",
        "outputId": "e0049fc9-109b-4fc6-c227-c8eeef3a7274"
      },
      "source": [
        "left = pd.DataFrame({\"key\":[\"foo\",\"foo\"],\"lval\":[1,2]})\n",
        "right = pd.DataFrame({\"key\":[\"foo\",\"foo\"],\"rval\":[4,5]})\n",
        "\n",
        "left\n",
        "\n",
        "right\n",
        "\n",
        "pd.merge(left, right, on=\"key\")"
      ],
      "execution_count": 83,
      "outputs": [
        {
          "output_type": "execute_result",
          "data": {
            "text/html": [
              "<div>\n",
              "<style scoped>\n",
              "    .dataframe tbody tr th:only-of-type {\n",
              "        vertical-align: middle;\n",
              "    }\n",
              "\n",
              "    .dataframe tbody tr th {\n",
              "        vertical-align: top;\n",
              "    }\n",
              "\n",
              "    .dataframe thead th {\n",
              "        text-align: right;\n",
              "    }\n",
              "</style>\n",
              "<table border=\"1\" class=\"dataframe\">\n",
              "  <thead>\n",
              "    <tr style=\"text-align: right;\">\n",
              "      <th></th>\n",
              "      <th>key</th>\n",
              "      <th>lval</th>\n",
              "      <th>rval</th>\n",
              "    </tr>\n",
              "  </thead>\n",
              "  <tbody>\n",
              "    <tr>\n",
              "      <th>0</th>\n",
              "      <td>foo</td>\n",
              "      <td>1</td>\n",
              "      <td>4</td>\n",
              "    </tr>\n",
              "    <tr>\n",
              "      <th>1</th>\n",
              "      <td>foo</td>\n",
              "      <td>1</td>\n",
              "      <td>5</td>\n",
              "    </tr>\n",
              "    <tr>\n",
              "      <th>2</th>\n",
              "      <td>foo</td>\n",
              "      <td>2</td>\n",
              "      <td>4</td>\n",
              "    </tr>\n",
              "    <tr>\n",
              "      <th>3</th>\n",
              "      <td>foo</td>\n",
              "      <td>2</td>\n",
              "      <td>5</td>\n",
              "    </tr>\n",
              "  </tbody>\n",
              "</table>\n",
              "</div>"
            ],
            "text/plain": [
              "   key  lval  rval\n",
              "0  foo     1     4\n",
              "1  foo     1     5\n",
              "2  foo     2     4\n",
              "3  foo     2     5"
            ]
          },
          "metadata": {
            "tags": []
          },
          "execution_count": 83
        }
      ]
    },
    {
      "cell_type": "markdown",
      "metadata": {
        "id": "JUU1O_2wel5M"
      },
      "source": [
        "주어질 수 있는 또 다른 예는 다음과 같습니다."
      ]
    },
    {
      "cell_type": "code",
      "metadata": {
        "colab": {
          "base_uri": "https://localhost:8080/",
          "height": 111
        },
        "id": "h6CWb1A6esCA",
        "outputId": "59349195-341e-4a12-ae3a-fdaab95bd67b"
      },
      "source": [
        "left = pd.DataFrame({\"key\" : [\"foo\",\"bar\"], \"lval\" : [1,2]})\n",
        "right = pd.DataFrame({\"key\" : [\"foo\",\"bar\"], \"lval\" : [4,5]})\n",
        "\n",
        "left\n",
        "\n",
        "right\n",
        "\n",
        "pd.merge(left, right, on=\"key\")"
      ],
      "execution_count": 84,
      "outputs": [
        {
          "output_type": "execute_result",
          "data": {
            "text/html": [
              "<div>\n",
              "<style scoped>\n",
              "    .dataframe tbody tr th:only-of-type {\n",
              "        vertical-align: middle;\n",
              "    }\n",
              "\n",
              "    .dataframe tbody tr th {\n",
              "        vertical-align: top;\n",
              "    }\n",
              "\n",
              "    .dataframe thead th {\n",
              "        text-align: right;\n",
              "    }\n",
              "</style>\n",
              "<table border=\"1\" class=\"dataframe\">\n",
              "  <thead>\n",
              "    <tr style=\"text-align: right;\">\n",
              "      <th></th>\n",
              "      <th>key</th>\n",
              "      <th>lval_x</th>\n",
              "      <th>lval_y</th>\n",
              "    </tr>\n",
              "  </thead>\n",
              "  <tbody>\n",
              "    <tr>\n",
              "      <th>0</th>\n",
              "      <td>foo</td>\n",
              "      <td>1</td>\n",
              "      <td>4</td>\n",
              "    </tr>\n",
              "    <tr>\n",
              "      <th>1</th>\n",
              "      <td>bar</td>\n",
              "      <td>2</td>\n",
              "      <td>5</td>\n",
              "    </tr>\n",
              "  </tbody>\n",
              "</table>\n",
              "</div>"
            ],
            "text/plain": [
              "   key  lval_x  lval_y\n",
              "0  foo       1       4\n",
              "1  bar       2       5"
            ]
          },
          "metadata": {
            "tags": []
          },
          "execution_count": 84
        }
      ]
    },
    {
      "cell_type": "markdown",
      "metadata": {
        "id": "oBMYX2R1fRFb"
      },
      "source": [
        "# 그룹화\n",
        "\n",
        "\"그룹 별\"은 다음 단계 중 하나 이상을 포함하는 프로세스를 의미합니다.\n",
        "\n",
        "- 일부 기준에 따라 데이터를 그룹으로 분할\n",
        "- 각 그룹에 독립적으로 기능 적용\n",
        "- 결과를 데이터 구조로 결합"
      ]
    },
    {
      "cell_type": "code",
      "metadata": {
        "colab": {
          "base_uri": "https://localhost:8080/",
          "height": 297
        },
        "id": "k69jjxq-fbaP",
        "outputId": "f916f23e-b100-4f91-8df1-b2a4be38527d"
      },
      "source": [
        "df = pd.DataFrame({\n",
        "    \"A\" : [\"foo\", \"bar\", \"foo\", \"bar\", \"foo\", \"bar\", \"foo\", \"foo\"],\n",
        "    \"B\" : [\"one\", \"one\", \"two\", \"three\", \"two\", \"two\", \"one\", \"three\"],\n",
        "    \"C\" : np.random.randn(8),\n",
        "    \"D\" : np.random.randn(8)\n",
        "})\n",
        "\n",
        "df"
      ],
      "execution_count": 85,
      "outputs": [
        {
          "output_type": "execute_result",
          "data": {
            "text/html": [
              "<div>\n",
              "<style scoped>\n",
              "    .dataframe tbody tr th:only-of-type {\n",
              "        vertical-align: middle;\n",
              "    }\n",
              "\n",
              "    .dataframe tbody tr th {\n",
              "        vertical-align: top;\n",
              "    }\n",
              "\n",
              "    .dataframe thead th {\n",
              "        text-align: right;\n",
              "    }\n",
              "</style>\n",
              "<table border=\"1\" class=\"dataframe\">\n",
              "  <thead>\n",
              "    <tr style=\"text-align: right;\">\n",
              "      <th></th>\n",
              "      <th>A</th>\n",
              "      <th>B</th>\n",
              "      <th>C</th>\n",
              "      <th>D</th>\n",
              "    </tr>\n",
              "  </thead>\n",
              "  <tbody>\n",
              "    <tr>\n",
              "      <th>0</th>\n",
              "      <td>foo</td>\n",
              "      <td>one</td>\n",
              "      <td>-0.714119</td>\n",
              "      <td>0.465098</td>\n",
              "    </tr>\n",
              "    <tr>\n",
              "      <th>1</th>\n",
              "      <td>bar</td>\n",
              "      <td>one</td>\n",
              "      <td>-1.100206</td>\n",
              "      <td>-0.224802</td>\n",
              "    </tr>\n",
              "    <tr>\n",
              "      <th>2</th>\n",
              "      <td>foo</td>\n",
              "      <td>two</td>\n",
              "      <td>-0.919036</td>\n",
              "      <td>-0.011397</td>\n",
              "    </tr>\n",
              "    <tr>\n",
              "      <th>3</th>\n",
              "      <td>bar</td>\n",
              "      <td>three</td>\n",
              "      <td>-0.383577</td>\n",
              "      <td>1.100142</td>\n",
              "    </tr>\n",
              "    <tr>\n",
              "      <th>4</th>\n",
              "      <td>foo</td>\n",
              "      <td>two</td>\n",
              "      <td>1.012185</td>\n",
              "      <td>-0.492502</td>\n",
              "    </tr>\n",
              "    <tr>\n",
              "      <th>5</th>\n",
              "      <td>bar</td>\n",
              "      <td>two</td>\n",
              "      <td>0.757571</td>\n",
              "      <td>0.043945</td>\n",
              "    </tr>\n",
              "    <tr>\n",
              "      <th>6</th>\n",
              "      <td>foo</td>\n",
              "      <td>one</td>\n",
              "      <td>1.298525</td>\n",
              "      <td>1.664578</td>\n",
              "    </tr>\n",
              "    <tr>\n",
              "      <th>7</th>\n",
              "      <td>foo</td>\n",
              "      <td>three</td>\n",
              "      <td>-1.763909</td>\n",
              "      <td>-0.642626</td>\n",
              "    </tr>\n",
              "  </tbody>\n",
              "</table>\n",
              "</div>"
            ],
            "text/plain": [
              "     A      B         C         D\n",
              "0  foo    one -0.714119  0.465098\n",
              "1  bar    one -1.100206 -0.224802\n",
              "2  foo    two -0.919036 -0.011397\n",
              "3  bar  three -0.383577  1.100142\n",
              "4  foo    two  1.012185 -0.492502\n",
              "5  bar    two  0.757571  0.043945\n",
              "6  foo    one  1.298525  1.664578\n",
              "7  foo  three -1.763909 -0.642626"
            ]
          },
          "metadata": {
            "tags": []
          },
          "execution_count": 85
        }
      ]
    },
    {
      "cell_type": "markdown",
      "metadata": {
        "id": "O6SLn9_lf0lT"
      },
      "source": [
        "그룹화 한 다음 sum() 결과 그룹에 함수를 적용합니다."
      ]
    },
    {
      "cell_type": "code",
      "metadata": {
        "colab": {
          "base_uri": "https://localhost:8080/",
          "height": 142
        },
        "id": "kCAbH6l8f4WJ",
        "outputId": "9d4c7637-307d-4e4f-cdd0-4930cec97ac6"
      },
      "source": [
        "df.groupby(\"A\").sum()"
      ],
      "execution_count": 86,
      "outputs": [
        {
          "output_type": "execute_result",
          "data": {
            "text/html": [
              "<div>\n",
              "<style scoped>\n",
              "    .dataframe tbody tr th:only-of-type {\n",
              "        vertical-align: middle;\n",
              "    }\n",
              "\n",
              "    .dataframe tbody tr th {\n",
              "        vertical-align: top;\n",
              "    }\n",
              "\n",
              "    .dataframe thead th {\n",
              "        text-align: right;\n",
              "    }\n",
              "</style>\n",
              "<table border=\"1\" class=\"dataframe\">\n",
              "  <thead>\n",
              "    <tr style=\"text-align: right;\">\n",
              "      <th></th>\n",
              "      <th>C</th>\n",
              "      <th>D</th>\n",
              "    </tr>\n",
              "    <tr>\n",
              "      <th>A</th>\n",
              "      <th></th>\n",
              "      <th></th>\n",
              "    </tr>\n",
              "  </thead>\n",
              "  <tbody>\n",
              "    <tr>\n",
              "      <th>bar</th>\n",
              "      <td>-0.726212</td>\n",
              "      <td>0.919285</td>\n",
              "    </tr>\n",
              "    <tr>\n",
              "      <th>foo</th>\n",
              "      <td>-1.086354</td>\n",
              "      <td>0.983151</td>\n",
              "    </tr>\n",
              "  </tbody>\n",
              "</table>\n",
              "</div>"
            ],
            "text/plain": [
              "            C         D\n",
              "A                      \n",
              "bar -0.726212  0.919285\n",
              "foo -1.086354  0.983151"
            ]
          },
          "metadata": {
            "tags": []
          },
          "execution_count": 86
        }
      ]
    },
    {
      "cell_type": "markdown",
      "metadata": {
        "id": "z4mpvAf9f8Ip"
      },
      "source": [
        "여러 열로 그룹화하면 계층 적 색인이 형성되며 다시 sum()함수를 적용할 수 있습니다."
      ]
    },
    {
      "cell_type": "code",
      "metadata": {
        "colab": {
          "base_uri": "https://localhost:8080/",
          "height": 266
        },
        "id": "E59xp8oZgBNm",
        "outputId": "568e7dfd-a769-4ac1-d2cf-c07207304447"
      },
      "source": [
        "df.groupby([\"A\", \"B\"]).sum()"
      ],
      "execution_count": 87,
      "outputs": [
        {
          "output_type": "execute_result",
          "data": {
            "text/html": [
              "<div>\n",
              "<style scoped>\n",
              "    .dataframe tbody tr th:only-of-type {\n",
              "        vertical-align: middle;\n",
              "    }\n",
              "\n",
              "    .dataframe tbody tr th {\n",
              "        vertical-align: top;\n",
              "    }\n",
              "\n",
              "    .dataframe thead th {\n",
              "        text-align: right;\n",
              "    }\n",
              "</style>\n",
              "<table border=\"1\" class=\"dataframe\">\n",
              "  <thead>\n",
              "    <tr style=\"text-align: right;\">\n",
              "      <th></th>\n",
              "      <th></th>\n",
              "      <th>C</th>\n",
              "      <th>D</th>\n",
              "    </tr>\n",
              "    <tr>\n",
              "      <th>A</th>\n",
              "      <th>B</th>\n",
              "      <th></th>\n",
              "      <th></th>\n",
              "    </tr>\n",
              "  </thead>\n",
              "  <tbody>\n",
              "    <tr>\n",
              "      <th rowspan=\"3\" valign=\"top\">bar</th>\n",
              "      <th>one</th>\n",
              "      <td>-1.100206</td>\n",
              "      <td>-0.224802</td>\n",
              "    </tr>\n",
              "    <tr>\n",
              "      <th>three</th>\n",
              "      <td>-0.383577</td>\n",
              "      <td>1.100142</td>\n",
              "    </tr>\n",
              "    <tr>\n",
              "      <th>two</th>\n",
              "      <td>0.757571</td>\n",
              "      <td>0.043945</td>\n",
              "    </tr>\n",
              "    <tr>\n",
              "      <th rowspan=\"3\" valign=\"top\">foo</th>\n",
              "      <th>one</th>\n",
              "      <td>0.584406</td>\n",
              "      <td>2.129676</td>\n",
              "    </tr>\n",
              "    <tr>\n",
              "      <th>three</th>\n",
              "      <td>-1.763909</td>\n",
              "      <td>-0.642626</td>\n",
              "    </tr>\n",
              "    <tr>\n",
              "      <th>two</th>\n",
              "      <td>0.093150</td>\n",
              "      <td>-0.503899</td>\n",
              "    </tr>\n",
              "  </tbody>\n",
              "</table>\n",
              "</div>"
            ],
            "text/plain": [
              "                  C         D\n",
              "A   B                        \n",
              "bar one   -1.100206 -0.224802\n",
              "    three -0.383577  1.100142\n",
              "    two    0.757571  0.043945\n",
              "foo one    0.584406  2.129676\n",
              "    three -1.763909 -0.642626\n",
              "    two    0.093150 -0.503899"
            ]
          },
          "metadata": {
            "tags": []
          },
          "execution_count": 87
        }
      ]
    },
    {
      "cell_type": "markdown",
      "metadata": {
        "id": "QQZ8iGajgG80"
      },
      "source": [
        "# 재구성\n",
        "\n",
        "## 스택"
      ]
    },
    {
      "cell_type": "code",
      "metadata": {
        "colab": {
          "base_uri": "https://localhost:8080/",
          "height": 204
        },
        "id": "xSbHpGkOgJcF",
        "outputId": "e1faf862-3256-4b87-f0af-e9cda879f69e"
      },
      "source": [
        "tuples = list(\n",
        "    zip(\n",
        "        *[\n",
        "               [\"bar\", \"bar\", \"baz\", \"baz\", \"foo\", \"foo\", \"qux\", \"qux\"],\n",
        "               [\"one\", \"two\", \"one\", \"two\", \"one\", \"two\", \"one\", \"two\"],\n",
        "           ]\n",
        "    )\n",
        ")\n",
        "\n",
        "index = pd.MultiIndex.from_tuples(tuples, names=[\"first\",\"second\"])\n",
        "\n",
        "df = pd.DataFrame(np.random.randn(8,2), index=index, columns=[\"A\", \"B\"])\n",
        "\n",
        "df2 = df[:4]\n",
        "\n",
        "df2"
      ],
      "execution_count": 88,
      "outputs": [
        {
          "output_type": "execute_result",
          "data": {
            "text/html": [
              "<div>\n",
              "<style scoped>\n",
              "    .dataframe tbody tr th:only-of-type {\n",
              "        vertical-align: middle;\n",
              "    }\n",
              "\n",
              "    .dataframe tbody tr th {\n",
              "        vertical-align: top;\n",
              "    }\n",
              "\n",
              "    .dataframe thead th {\n",
              "        text-align: right;\n",
              "    }\n",
              "</style>\n",
              "<table border=\"1\" class=\"dataframe\">\n",
              "  <thead>\n",
              "    <tr style=\"text-align: right;\">\n",
              "      <th></th>\n",
              "      <th></th>\n",
              "      <th>A</th>\n",
              "      <th>B</th>\n",
              "    </tr>\n",
              "    <tr>\n",
              "      <th>first</th>\n",
              "      <th>second</th>\n",
              "      <th></th>\n",
              "      <th></th>\n",
              "    </tr>\n",
              "  </thead>\n",
              "  <tbody>\n",
              "    <tr>\n",
              "      <th rowspan=\"2\" valign=\"top\">bar</th>\n",
              "      <th>one</th>\n",
              "      <td>-1.662320</td>\n",
              "      <td>0.032596</td>\n",
              "    </tr>\n",
              "    <tr>\n",
              "      <th>two</th>\n",
              "      <td>-2.130549</td>\n",
              "      <td>-0.498520</td>\n",
              "    </tr>\n",
              "    <tr>\n",
              "      <th rowspan=\"2\" valign=\"top\">baz</th>\n",
              "      <th>one</th>\n",
              "      <td>-1.052036</td>\n",
              "      <td>-0.809309</td>\n",
              "    </tr>\n",
              "    <tr>\n",
              "      <th>two</th>\n",
              "      <td>-0.611723</td>\n",
              "      <td>-0.269502</td>\n",
              "    </tr>\n",
              "  </tbody>\n",
              "</table>\n",
              "</div>"
            ],
            "text/plain": [
              "                     A         B\n",
              "first second                    \n",
              "bar   one    -1.662320  0.032596\n",
              "      two    -2.130549 -0.498520\n",
              "baz   one    -1.052036 -0.809309\n",
              "      two    -0.611723 -0.269502"
            ]
          },
          "metadata": {
            "tags": []
          },
          "execution_count": 88
        }
      ]
    },
    {
      "cell_type": "markdown",
      "metadata": {
        "id": "fSZZg2Xcgp3B"
      },
      "source": [
        "이 stack()메소드는 DataFrame의 열에서 수준을 \"압축\"합니다."
      ]
    },
    {
      "cell_type": "code",
      "metadata": {
        "colab": {
          "base_uri": "https://localhost:8080/"
        },
        "id": "fcvoxen0guI6",
        "outputId": "d316657a-e111-40ed-c437-0a2a6c2bddf0"
      },
      "source": [
        "stacked = df2.stack()\n",
        "\n",
        "stacked"
      ],
      "execution_count": 89,
      "outputs": [
        {
          "output_type": "execute_result",
          "data": {
            "text/plain": [
              "first  second   \n",
              "bar    one     A   -1.662320\n",
              "               B    0.032596\n",
              "       two     A   -2.130549\n",
              "               B   -0.498520\n",
              "baz    one     A   -1.052036\n",
              "               B   -0.809309\n",
              "       two     A   -0.611723\n",
              "               B   -0.269502\n",
              "dtype: float64"
            ]
          },
          "metadata": {
            "tags": []
          },
          "execution_count": 89
        }
      ]
    },
    {
      "cell_type": "markdown",
      "metadata": {
        "id": "-2hxp0TVgyqx"
      },
      "source": [
        "는 \"누적\"DataFrame 또는 직렬 (a 갖는 MultiIndex은 AS를 index중), 역 동작 stack()이다 unstack()기본적 unstacks, 최종 레벨 :"
      ]
    },
    {
      "cell_type": "code",
      "metadata": {
        "colab": {
          "base_uri": "https://localhost:8080/",
          "height": 204
        },
        "id": "fZ4pMi_Gg2J-",
        "outputId": "6ff69620-a901-41b1-d1be-049a962f88e2"
      },
      "source": [
        "stacked.unstack()\n",
        "\n",
        "stacked.unstack(1)\n",
        "\n",
        "stacked.unstack(0)"
      ],
      "execution_count": 90,
      "outputs": [
        {
          "output_type": "execute_result",
          "data": {
            "text/html": [
              "<div>\n",
              "<style scoped>\n",
              "    .dataframe tbody tr th:only-of-type {\n",
              "        vertical-align: middle;\n",
              "    }\n",
              "\n",
              "    .dataframe tbody tr th {\n",
              "        vertical-align: top;\n",
              "    }\n",
              "\n",
              "    .dataframe thead th {\n",
              "        text-align: right;\n",
              "    }\n",
              "</style>\n",
              "<table border=\"1\" class=\"dataframe\">\n",
              "  <thead>\n",
              "    <tr style=\"text-align: right;\">\n",
              "      <th></th>\n",
              "      <th>first</th>\n",
              "      <th>bar</th>\n",
              "      <th>baz</th>\n",
              "    </tr>\n",
              "    <tr>\n",
              "      <th>second</th>\n",
              "      <th></th>\n",
              "      <th></th>\n",
              "      <th></th>\n",
              "    </tr>\n",
              "  </thead>\n",
              "  <tbody>\n",
              "    <tr>\n",
              "      <th rowspan=\"2\" valign=\"top\">one</th>\n",
              "      <th>A</th>\n",
              "      <td>-1.662320</td>\n",
              "      <td>-1.052036</td>\n",
              "    </tr>\n",
              "    <tr>\n",
              "      <th>B</th>\n",
              "      <td>0.032596</td>\n",
              "      <td>-0.809309</td>\n",
              "    </tr>\n",
              "    <tr>\n",
              "      <th rowspan=\"2\" valign=\"top\">two</th>\n",
              "      <th>A</th>\n",
              "      <td>-2.130549</td>\n",
              "      <td>-0.611723</td>\n",
              "    </tr>\n",
              "    <tr>\n",
              "      <th>B</th>\n",
              "      <td>-0.498520</td>\n",
              "      <td>-0.269502</td>\n",
              "    </tr>\n",
              "  </tbody>\n",
              "</table>\n",
              "</div>"
            ],
            "text/plain": [
              "first          bar       baz\n",
              "second                      \n",
              "one    A -1.662320 -1.052036\n",
              "       B  0.032596 -0.809309\n",
              "two    A -2.130549 -0.611723\n",
              "       B -0.498520 -0.269502"
            ]
          },
          "metadata": {
            "tags": []
          },
          "execution_count": 90
        }
      ]
    },
    {
      "cell_type": "markdown",
      "metadata": {
        "id": "iMnNAvaFg_XA"
      },
      "source": [
        "# 피벗 테이블"
      ]
    },
    {
      "cell_type": "code",
      "metadata": {
        "colab": {
          "base_uri": "https://localhost:8080/",
          "height": 421
        },
        "id": "CXQqyQLzhChk",
        "outputId": "0af70fdc-15cf-4fc4-8b60-58eea3fcceda"
      },
      "source": [
        "df = pd.DataFrame({\n",
        "    \"A\": [\"one\", \"one\", \"two\", \"three\"] * 3,\n",
        "            \"B\": [\"A\", \"B\", \"C\"] * 4,\n",
        "            \"C\": [\"foo\", \"foo\", \"foo\", \"bar\", \"bar\", \"bar\"] * 2,\n",
        "            \"D\": np.random.randn(12),\n",
        "            \"E\": np.random.randn(12)\n",
        "})\n",
        "\n",
        "df"
      ],
      "execution_count": 91,
      "outputs": [
        {
          "output_type": "execute_result",
          "data": {
            "text/html": [
              "<div>\n",
              "<style scoped>\n",
              "    .dataframe tbody tr th:only-of-type {\n",
              "        vertical-align: middle;\n",
              "    }\n",
              "\n",
              "    .dataframe tbody tr th {\n",
              "        vertical-align: top;\n",
              "    }\n",
              "\n",
              "    .dataframe thead th {\n",
              "        text-align: right;\n",
              "    }\n",
              "</style>\n",
              "<table border=\"1\" class=\"dataframe\">\n",
              "  <thead>\n",
              "    <tr style=\"text-align: right;\">\n",
              "      <th></th>\n",
              "      <th>A</th>\n",
              "      <th>B</th>\n",
              "      <th>C</th>\n",
              "      <th>D</th>\n",
              "      <th>E</th>\n",
              "    </tr>\n",
              "  </thead>\n",
              "  <tbody>\n",
              "    <tr>\n",
              "      <th>0</th>\n",
              "      <td>one</td>\n",
              "      <td>A</td>\n",
              "      <td>foo</td>\n",
              "      <td>1.306726</td>\n",
              "      <td>-1.615560</td>\n",
              "    </tr>\n",
              "    <tr>\n",
              "      <th>1</th>\n",
              "      <td>one</td>\n",
              "      <td>B</td>\n",
              "      <td>foo</td>\n",
              "      <td>-0.017440</td>\n",
              "      <td>-0.390718</td>\n",
              "    </tr>\n",
              "    <tr>\n",
              "      <th>2</th>\n",
              "      <td>two</td>\n",
              "      <td>C</td>\n",
              "      <td>foo</td>\n",
              "      <td>-0.020291</td>\n",
              "      <td>-0.710189</td>\n",
              "    </tr>\n",
              "    <tr>\n",
              "      <th>3</th>\n",
              "      <td>three</td>\n",
              "      <td>A</td>\n",
              "      <td>bar</td>\n",
              "      <td>-0.752024</td>\n",
              "      <td>-0.598660</td>\n",
              "    </tr>\n",
              "    <tr>\n",
              "      <th>4</th>\n",
              "      <td>one</td>\n",
              "      <td>B</td>\n",
              "      <td>bar</td>\n",
              "      <td>-1.524553</td>\n",
              "      <td>-0.916927</td>\n",
              "    </tr>\n",
              "    <tr>\n",
              "      <th>5</th>\n",
              "      <td>one</td>\n",
              "      <td>C</td>\n",
              "      <td>bar</td>\n",
              "      <td>0.206644</td>\n",
              "      <td>0.784663</td>\n",
              "    </tr>\n",
              "    <tr>\n",
              "      <th>6</th>\n",
              "      <td>two</td>\n",
              "      <td>A</td>\n",
              "      <td>foo</td>\n",
              "      <td>1.864018</td>\n",
              "      <td>-0.087309</td>\n",
              "    </tr>\n",
              "    <tr>\n",
              "      <th>7</th>\n",
              "      <td>three</td>\n",
              "      <td>B</td>\n",
              "      <td>foo</td>\n",
              "      <td>-1.175187</td>\n",
              "      <td>0.724690</td>\n",
              "    </tr>\n",
              "    <tr>\n",
              "      <th>8</th>\n",
              "      <td>one</td>\n",
              "      <td>C</td>\n",
              "      <td>foo</td>\n",
              "      <td>0.006408</td>\n",
              "      <td>0.313060</td>\n",
              "    </tr>\n",
              "    <tr>\n",
              "      <th>9</th>\n",
              "      <td>one</td>\n",
              "      <td>A</td>\n",
              "      <td>bar</td>\n",
              "      <td>-0.174987</td>\n",
              "      <td>0.181471</td>\n",
              "    </tr>\n",
              "    <tr>\n",
              "      <th>10</th>\n",
              "      <td>two</td>\n",
              "      <td>B</td>\n",
              "      <td>bar</td>\n",
              "      <td>1.864114</td>\n",
              "      <td>0.835734</td>\n",
              "    </tr>\n",
              "    <tr>\n",
              "      <th>11</th>\n",
              "      <td>three</td>\n",
              "      <td>C</td>\n",
              "      <td>bar</td>\n",
              "      <td>-0.788907</td>\n",
              "      <td>-0.686647</td>\n",
              "    </tr>\n",
              "  </tbody>\n",
              "</table>\n",
              "</div>"
            ],
            "text/plain": [
              "        A  B    C         D         E\n",
              "0     one  A  foo  1.306726 -1.615560\n",
              "1     one  B  foo -0.017440 -0.390718\n",
              "2     two  C  foo -0.020291 -0.710189\n",
              "3   three  A  bar -0.752024 -0.598660\n",
              "4     one  B  bar -1.524553 -0.916927\n",
              "5     one  C  bar  0.206644  0.784663\n",
              "6     two  A  foo  1.864018 -0.087309\n",
              "7   three  B  foo -1.175187  0.724690\n",
              "8     one  C  foo  0.006408  0.313060\n",
              "9     one  A  bar -0.174987  0.181471\n",
              "10    two  B  bar  1.864114  0.835734\n",
              "11  three  C  bar -0.788907 -0.686647"
            ]
          },
          "metadata": {
            "tags": []
          },
          "execution_count": 91
        }
      ]
    },
    {
      "cell_type": "markdown",
      "metadata": {
        "id": "jYRwzkGphRWq"
      },
      "source": [
        "이 데이터에서 매우 쉽게 피벗 테이블을 생성할 수 있습니다."
      ]
    },
    {
      "cell_type": "code",
      "metadata": {
        "colab": {
          "base_uri": "https://localhost:8080/",
          "height": 359
        },
        "id": "yV08iq8fhT6u",
        "outputId": "6d50eef0-bb78-4fad-b3a2-8ad89c22b3ba"
      },
      "source": [
        "pd.pivot_table(df, values=\"D\", index=[\"A\", \"B\"], columns=[\"C\"])"
      ],
      "execution_count": 92,
      "outputs": [
        {
          "output_type": "execute_result",
          "data": {
            "text/html": [
              "<div>\n",
              "<style scoped>\n",
              "    .dataframe tbody tr th:only-of-type {\n",
              "        vertical-align: middle;\n",
              "    }\n",
              "\n",
              "    .dataframe tbody tr th {\n",
              "        vertical-align: top;\n",
              "    }\n",
              "\n",
              "    .dataframe thead th {\n",
              "        text-align: right;\n",
              "    }\n",
              "</style>\n",
              "<table border=\"1\" class=\"dataframe\">\n",
              "  <thead>\n",
              "    <tr style=\"text-align: right;\">\n",
              "      <th></th>\n",
              "      <th>C</th>\n",
              "      <th>bar</th>\n",
              "      <th>foo</th>\n",
              "    </tr>\n",
              "    <tr>\n",
              "      <th>A</th>\n",
              "      <th>B</th>\n",
              "      <th></th>\n",
              "      <th></th>\n",
              "    </tr>\n",
              "  </thead>\n",
              "  <tbody>\n",
              "    <tr>\n",
              "      <th rowspan=\"3\" valign=\"top\">one</th>\n",
              "      <th>A</th>\n",
              "      <td>-0.174987</td>\n",
              "      <td>1.306726</td>\n",
              "    </tr>\n",
              "    <tr>\n",
              "      <th>B</th>\n",
              "      <td>-1.524553</td>\n",
              "      <td>-0.017440</td>\n",
              "    </tr>\n",
              "    <tr>\n",
              "      <th>C</th>\n",
              "      <td>0.206644</td>\n",
              "      <td>0.006408</td>\n",
              "    </tr>\n",
              "    <tr>\n",
              "      <th rowspan=\"3\" valign=\"top\">three</th>\n",
              "      <th>A</th>\n",
              "      <td>-0.752024</td>\n",
              "      <td>NaN</td>\n",
              "    </tr>\n",
              "    <tr>\n",
              "      <th>B</th>\n",
              "      <td>NaN</td>\n",
              "      <td>-1.175187</td>\n",
              "    </tr>\n",
              "    <tr>\n",
              "      <th>C</th>\n",
              "      <td>-0.788907</td>\n",
              "      <td>NaN</td>\n",
              "    </tr>\n",
              "    <tr>\n",
              "      <th rowspan=\"3\" valign=\"top\">two</th>\n",
              "      <th>A</th>\n",
              "      <td>NaN</td>\n",
              "      <td>1.864018</td>\n",
              "    </tr>\n",
              "    <tr>\n",
              "      <th>B</th>\n",
              "      <td>1.864114</td>\n",
              "      <td>NaN</td>\n",
              "    </tr>\n",
              "    <tr>\n",
              "      <th>C</th>\n",
              "      <td>NaN</td>\n",
              "      <td>-0.020291</td>\n",
              "    </tr>\n",
              "  </tbody>\n",
              "</table>\n",
              "</div>"
            ],
            "text/plain": [
              "C             bar       foo\n",
              "A     B                    \n",
              "one   A -0.174987  1.306726\n",
              "      B -1.524553 -0.017440\n",
              "      C  0.206644  0.006408\n",
              "three A -0.752024       NaN\n",
              "      B       NaN -1.175187\n",
              "      C -0.788907       NaN\n",
              "two   A       NaN  1.864018\n",
              "      B  1.864114       NaN\n",
              "      C       NaN -0.020291"
            ]
          },
          "metadata": {
            "tags": []
          },
          "execution_count": 92
        }
      ]
    },
    {
      "cell_type": "markdown",
      "metadata": {
        "id": "816pecqvhcoi"
      },
      "source": [
        "# 시계열\n",
        "\n",
        "Pandas는 주파수 변환(예 : 2차 데이터를 5분 데이터로 변환) 중에 리샘플링 작업을 수행하기 위한 간단하고 강력하며 효율적인 기능을 제공합니다. 이는 금융 애플리케이션에서 매우 일반적이지만 이에 국한되지는 않습니다."
      ]
    },
    {
      "cell_type": "code",
      "metadata": {
        "colab": {
          "base_uri": "https://localhost:8080/"
        },
        "id": "9-SRFyHkhpmR",
        "outputId": "ba426fa9-7354-4962-9d06-45dd011ce5db"
      },
      "source": [
        "rng = pd.date_range(\"1/1/2012\", periods=100, freq=\"S\")\n",
        "\n",
        "ts = pd.Series(np.random.randint(0, 500, len(rng)), index=rng)\n",
        "\n",
        "ts.resample(\"5Min\").sum()"
      ],
      "execution_count": 97,
      "outputs": [
        {
          "output_type": "execute_result",
          "data": {
            "text/plain": [
              "2012-01-01    24059\n",
              "Freq: 5T, dtype: int64"
            ]
          },
          "metadata": {
            "tags": []
          },
          "execution_count": 97
        }
      ]
    },
    {
      "cell_type": "markdown",
      "metadata": {
        "id": "greAqhRMjsx-"
      },
      "source": [
        "시간대 표현 :"
      ]
    },
    {
      "cell_type": "code",
      "metadata": {
        "colab": {
          "base_uri": "https://localhost:8080/"
        },
        "id": "tZuO2zQMjxfz",
        "outputId": "bd46405d-08f2-4bb4-8827-797f0956d3cb"
      },
      "source": [
        "rng = pd.date_range(\"3/6/2012 00:00\", periods=5, freq=\"D\")\n",
        "\n",
        "ts = pd.Series(np.random.randn(len(rng)), rng)\n",
        "\n",
        "ts\n",
        "\n",
        "ts_utc = ts.tz_localize(\"UTC\")\n",
        "\n",
        "ts_utc"
      ],
      "execution_count": 103,
      "outputs": [
        {
          "output_type": "execute_result",
          "data": {
            "text/plain": [
              "2012-03-06 00:00:00+00:00    0.244296\n",
              "2012-03-07 00:00:00+00:00   -0.722339\n",
              "2012-03-08 00:00:00+00:00    0.509596\n",
              "2012-03-09 00:00:00+00:00   -0.530605\n",
              "2012-03-10 00:00:00+00:00   -0.810000\n",
              "Freq: D, dtype: float64"
            ]
          },
          "metadata": {
            "tags": []
          },
          "execution_count": 103
        }
      ]
    },
    {
      "cell_type": "markdown",
      "metadata": {
        "id": "PQ5hpK0ykGLY"
      },
      "source": [
        "다른 시간대로 변환 :"
      ]
    },
    {
      "cell_type": "code",
      "metadata": {
        "colab": {
          "base_uri": "https://localhost:8080/"
        },
        "id": "G0HnyIgmkHh3",
        "outputId": "f84f3242-6c72-4cd9-8d25-5c7914198432"
      },
      "source": [
        "ts_utc.tz_convert(\"US/Eastern\")"
      ],
      "execution_count": 104,
      "outputs": [
        {
          "output_type": "execute_result",
          "data": {
            "text/plain": [
              "2012-03-05 19:00:00-05:00    0.244296\n",
              "2012-03-06 19:00:00-05:00   -0.722339\n",
              "2012-03-07 19:00:00-05:00    0.509596\n",
              "2012-03-08 19:00:00-05:00   -0.530605\n",
              "2012-03-09 19:00:00-05:00   -0.810000\n",
              "Freq: D, dtype: float64"
            ]
          },
          "metadata": {
            "tags": []
          },
          "execution_count": 104
        }
      ]
    },
    {
      "cell_type": "markdown",
      "metadata": {
        "id": "CSoGo99dkLzj"
      },
      "source": [
        "시간 범위 표현 간 변환 :"
      ]
    },
    {
      "cell_type": "code",
      "metadata": {
        "colab": {
          "base_uri": "https://localhost:8080/"
        },
        "id": "lw_b19mJkNpG",
        "outputId": "f944803a-4ca4-4b19-e85b-688ae2c34f58"
      },
      "source": [
        "rng = pd.date_range(\"1/1/2012\", periods=5, freq=\"M\")\n",
        "\n",
        "ts = pd.Series(np.random.randn(len(rng)), index=rng)\n",
        "\n",
        "ts\n",
        "\n",
        "ps = ts.to_period()\n",
        "\n",
        "ps\n",
        "\n",
        "ps.to_timestamp()"
      ],
      "execution_count": 111,
      "outputs": [
        {
          "output_type": "execute_result",
          "data": {
            "text/plain": [
              "2012-01-01    0.696409\n",
              "2012-02-01   -0.801259\n",
              "2012-03-01    0.236351\n",
              "2012-04-01    0.249498\n",
              "2012-05-01   -0.781067\n",
              "Freq: MS, dtype: float64"
            ]
          },
          "metadata": {
            "tags": []
          },
          "execution_count": 111
        }
      ]
    },
    {
      "cell_type": "markdown",
      "metadata": {
        "id": "y16R_Qg_kyB1"
      },
      "source": [
        "기간과 타임 스탬프 사이를 변환하면 편리한 산술 함수를 사용할 수 있습니다. 다음 예에서는 연도가 11월로 끝나는 분기 별 빈도를 분기 종료 다음 달의 오전 9시로 변환합니다."
      ]
    },
    {
      "cell_type": "code",
      "metadata": {
        "colab": {
          "base_uri": "https://localhost:8080/"
        },
        "id": "DccsYkddlCyz",
        "outputId": "527f57fa-ff61-4c73-8a1d-e8ae8c887673"
      },
      "source": [
        "prng = pd.period_range(\"1990Q1\", \"2000Q4\", freq=\"Q-NOV\")\n",
        "\n",
        "ts = pd.Series(np.random.randn(len(prng)), prng)\n",
        "\n",
        "ts.index = (prng.asfreq(\"M\", \"e\")+1).asfreq(\"H\", \"s\") + 9\n",
        "\n",
        "ts.head()"
      ],
      "execution_count": 115,
      "outputs": [
        {
          "output_type": "execute_result",
          "data": {
            "text/plain": [
              "1990-03-01 09:00   -0.982376\n",
              "1990-06-01 09:00    1.155590\n",
              "1990-09-01 09:00   -0.304843\n",
              "1990-12-01 09:00    0.494812\n",
              "1991-03-01 09:00    0.667193\n",
              "Freq: H, dtype: float64"
            ]
          },
          "metadata": {
            "tags": []
          },
          "execution_count": 115
        }
      ]
    },
    {
      "cell_type": "markdown",
      "metadata": {
        "id": "rprKbjjWltoO"
      },
      "source": [
        "# 카테고리\n",
        "\n",
        "pandas는 DataFrame"
      ]
    },
    {
      "cell_type": "code",
      "metadata": {
        "id": "B4uyUprXlxee"
      },
      "source": [
        "df = pd.DataFrame({\n",
        "    \"id\": [1, 2, 3, 4, 5, 6], \"raw_grade\": [\"a\", \"b\", \"b\", \"a\", \"a\", \"e\"]\n",
        "})"
      ],
      "execution_count": 116,
      "outputs": []
    },
    {
      "cell_type": "markdown",
      "metadata": {
        "id": "QkVStcaVl2PF"
      },
      "source": [
        "원시 성적을 범주 형 데이터 유형으로 변환합니다."
      ]
    },
    {
      "cell_type": "code",
      "metadata": {
        "colab": {
          "base_uri": "https://localhost:8080/"
        },
        "id": "1FdCryPal5nj",
        "outputId": "9755945a-6b3b-41fa-bdf4-3c0465104ddb"
      },
      "source": [
        "df[\"grade\"] = df[\"raw_grade\"].astype(\"category\")\n",
        "\n",
        "df[\"grade\"]"
      ],
      "execution_count": 118,
      "outputs": [
        {
          "output_type": "execute_result",
          "data": {
            "text/plain": [
              "0    a\n",
              "1    b\n",
              "2    b\n",
              "3    a\n",
              "4    a\n",
              "5    e\n",
              "Name: grade, dtype: category\n",
              "Categories (3, object): ['a', 'b', 'e']"
            ]
          },
          "metadata": {
            "tags": []
          },
          "execution_count": 118
        }
      ]
    },
    {
      "cell_type": "markdown",
      "metadata": {
        "id": "57xeVWnbmDpx"
      },
      "source": [
        "범주 이름을 보다 의미있는 이름으로 바꿉니다."
      ]
    },
    {
      "cell_type": "code",
      "metadata": {
        "id": "4gzmpjewmF8t"
      },
      "source": [
        "df[\"grade\"].cat.categories = [\"very good\", \"good\", \"very bad\"]"
      ],
      "execution_count": 119,
      "outputs": []
    },
    {
      "cell_type": "markdown",
      "metadata": {
        "id": "xhTu8YwVmMvq"
      },
      "source": [
        "범주를 재정렬하고 동시에 누락 된 범주를 추가합니다.(기본적으로 Series.cat() 새로운 방법을 반환하는 방법 Series)"
      ]
    },
    {
      "cell_type": "code",
      "metadata": {
        "colab": {
          "base_uri": "https://localhost:8080/"
        },
        "id": "0xht3WnXmUSX",
        "outputId": "5a567107-72f4-42a8-9ce6-1ed51e882083"
      },
      "source": [
        "df[\"grade\"] = df[\"grade\"].cat.set_categories(\n",
        "    [\"very bad\", \"bad\", \"medium\", \"good\", \"very good\"]\n",
        ")\n",
        "\n",
        "df[\"grade\"]"
      ],
      "execution_count": 121,
      "outputs": [
        {
          "output_type": "execute_result",
          "data": {
            "text/plain": [
              "0    very good\n",
              "1         good\n",
              "2         good\n",
              "3    very good\n",
              "4    very good\n",
              "5     very bad\n",
              "Name: grade, dtype: category\n",
              "Categories (5, object): ['very bad', 'bad', 'medium', 'good', 'very good']"
            ]
          },
          "metadata": {
            "tags": []
          },
          "execution_count": 121
        }
      ]
    },
    {
      "cell_type": "markdown",
      "metadata": {
        "id": "JaMqZX7JmdT1"
      },
      "source": [
        "정렬은 어휘 순서가 아닌 범주의 순서에 따라 이루어집니다."
      ]
    },
    {
      "cell_type": "code",
      "metadata": {
        "colab": {
          "base_uri": "https://localhost:8080/",
          "height": 235
        },
        "id": "gtuUmwoOmghV",
        "outputId": "69acffe4-7ed6-42c8-c98b-0f3e3c16aa14"
      },
      "source": [
        "df.sort_values(by=\"grade\")"
      ],
      "execution_count": 122,
      "outputs": [
        {
          "output_type": "execute_result",
          "data": {
            "text/html": [
              "<div>\n",
              "<style scoped>\n",
              "    .dataframe tbody tr th:only-of-type {\n",
              "        vertical-align: middle;\n",
              "    }\n",
              "\n",
              "    .dataframe tbody tr th {\n",
              "        vertical-align: top;\n",
              "    }\n",
              "\n",
              "    .dataframe thead th {\n",
              "        text-align: right;\n",
              "    }\n",
              "</style>\n",
              "<table border=\"1\" class=\"dataframe\">\n",
              "  <thead>\n",
              "    <tr style=\"text-align: right;\">\n",
              "      <th></th>\n",
              "      <th>id</th>\n",
              "      <th>raw_grade</th>\n",
              "      <th>grade</th>\n",
              "    </tr>\n",
              "  </thead>\n",
              "  <tbody>\n",
              "    <tr>\n",
              "      <th>5</th>\n",
              "      <td>6</td>\n",
              "      <td>e</td>\n",
              "      <td>very bad</td>\n",
              "    </tr>\n",
              "    <tr>\n",
              "      <th>1</th>\n",
              "      <td>2</td>\n",
              "      <td>b</td>\n",
              "      <td>good</td>\n",
              "    </tr>\n",
              "    <tr>\n",
              "      <th>2</th>\n",
              "      <td>3</td>\n",
              "      <td>b</td>\n",
              "      <td>good</td>\n",
              "    </tr>\n",
              "    <tr>\n",
              "      <th>0</th>\n",
              "      <td>1</td>\n",
              "      <td>a</td>\n",
              "      <td>very good</td>\n",
              "    </tr>\n",
              "    <tr>\n",
              "      <th>3</th>\n",
              "      <td>4</td>\n",
              "      <td>a</td>\n",
              "      <td>very good</td>\n",
              "    </tr>\n",
              "    <tr>\n",
              "      <th>4</th>\n",
              "      <td>5</td>\n",
              "      <td>a</td>\n",
              "      <td>very good</td>\n",
              "    </tr>\n",
              "  </tbody>\n",
              "</table>\n",
              "</div>"
            ],
            "text/plain": [
              "   id raw_grade      grade\n",
              "5   6         e   very bad\n",
              "1   2         b       good\n",
              "2   3         b       good\n",
              "0   1         a  very good\n",
              "3   4         a  very good\n",
              "4   5         a  very good"
            ]
          },
          "metadata": {
            "tags": []
          },
          "execution_count": 122
        }
      ]
    },
    {
      "cell_type": "markdown",
      "metadata": {
        "id": "iEsBYydAmkkJ"
      },
      "source": [
        "범주형 열로 그룹화하면 빈 범주도 표시됩니다."
      ]
    },
    {
      "cell_type": "code",
      "metadata": {
        "colab": {
          "base_uri": "https://localhost:8080/"
        },
        "id": "zKdDvrCLmnAi",
        "outputId": "b11fe321-d560-4fbc-f338-6455c4a3a5bf"
      },
      "source": [
        "df.groupby(\"grade\").size()"
      ],
      "execution_count": 123,
      "outputs": [
        {
          "output_type": "execute_result",
          "data": {
            "text/plain": [
              "grade\n",
              "very bad     1\n",
              "bad          0\n",
              "medium       0\n",
              "good         2\n",
              "very good    3\n",
              "dtype: int64"
            ]
          },
          "metadata": {
            "tags": []
          },
          "execution_count": 123
        }
      ]
    },
    {
      "cell_type": "markdown",
      "metadata": {
        "id": "hBA677xNmq1k"
      },
      "source": [
        "# 플로팅\n",
        "\n",
        "matplotlib API를 참조하기 위해 표준 규칙을 사용합니다."
      ]
    },
    {
      "cell_type": "code",
      "metadata": {
        "id": "_IT83YaKmu7t"
      },
      "source": [
        "import matplotlib.pyplot as plt\n",
        "\n",
        "plt.close(\"all\")"
      ],
      "execution_count": 124,
      "outputs": []
    },
    {
      "cell_type": "code",
      "metadata": {
        "colab": {
          "base_uri": "https://localhost:8080/",
          "height": 296
        },
        "id": "QSHk6RWamyrt",
        "outputId": "0b5e1d6e-dcc2-49a9-fb89-e39ae4be922d"
      },
      "source": [
        "ts = pd.Series(np.random.randn(1000), index=pd.date_range(\"1/1/2000\", periods=1000))\n",
        "\n",
        "ts = ts.cumsum()\n",
        "\n",
        "ts.plot()"
      ],
      "execution_count": 127,
      "outputs": [
        {
          "output_type": "execute_result",
          "data": {
            "text/plain": [
              "<matplotlib.axes._subplots.AxesSubplot at 0x7f8300728fd0>"
            ]
          },
          "metadata": {
            "tags": []
          },
          "execution_count": 127
        },
        {
          "output_type": "display_data",
          "data": {
            "image/png": "[encoded data removed]",
            "text/plain": [
              "<Figure size 432x288 with 1 Axes>"
            ]
          },
          "metadata": {
            "tags": [],
            "needs_background": "light"
          }
        }
      ]
    },
    {
      "cell_type": "markdown",
      "metadata": {
        "id": "xTreT80gm5oY"
      },
      "source": [
        "DataFrame에서 이 plot()메소드는 레이블이 있는 모든 열을 표시하는데 편리합니다."
      ]
    },
    {
      "cell_type": "code",
      "metadata": {
        "colab": {
          "base_uri": "https://localhost:8080/",
          "height": 313
        },
        "id": "nuYEhUEvm-B7",
        "outputId": "62287297-eea2-4796-ce84-038042b6fad6"
      },
      "source": [
        "df = pd.DataFrame(\n",
        "    np.random.randn(1000,4), index=ts.index, columns=[\"A\",\"B\",\"C\",\"D\"]\n",
        ")\n",
        "\n",
        "df = df.cumsum()\n",
        "\n",
        "plt.figure()\n",
        "\n",
        "df.plot()\n",
        "\n",
        "plt.legend(loc='best')"
      ],
      "execution_count": 132,
      "outputs": [
        {
          "output_type": "execute_result",
          "data": {
            "text/plain": [
              "<matplotlib.legend.Legend at 0x7f82ffc5f6d0>"
            ]
          },
          "metadata": {
            "tags": []
          },
          "execution_count": 132
        },
        {
          "output_type": "display_data",
          "data": {
            "text/plain": [
              "<Figure size 432x288 with 0 Axes>"
            ]
          },
          "metadata": {
            "tags": []
          }
        },
        {
          "output_type": "display_data",
          "data": {
            "image/png": "[encoded data removed]",
            "text/plain": [
              "<Figure size 432x288 with 1 Axes>"
            ]
          },
          "metadata": {
            "tags": [],
            "needs_background": "light"
          }
        }
      ]
    },
    {
      "cell_type": "markdown",
      "metadata": {
        "id": "lW9PU1PxnSNT"
      },
      "source": [
        "# 데이터 입출력\n",
        "\n",
        "## CSV\n",
        "\n",
        "csv파일에 쓰는 중 입니다."
      ]
    },
    {
      "cell_type": "code",
      "metadata": {
        "id": "E2fTULTznVGi"
      },
      "source": [
        "df.to_csv(\"foo.csv\")"
      ],
      "execution_count": 133,
      "outputs": []
    },
    {
      "cell_type": "markdown",
      "metadata": {
        "id": "RM_Nkl08nazS"
      },
      "source": [
        "csv파일에서 읽기"
      ]
    },
    {
      "cell_type": "code",
      "metadata": {
        "colab": {
          "base_uri": "https://localhost:8080/",
          "height": 419
        },
        "id": "iZvKmqgSnh_a",
        "outputId": "3e6909e4-1af2-4e31-db76-1baf9d7cd262"
      },
      "source": [
        "pd.read_csv(\"foo.csv\")"
      ],
      "execution_count": 134,
      "outputs": [
        {
          "output_type": "execute_result",
          "data": {
            "text/html": [
              "<div>\n",
              "<style scoped>\n",
              "    .dataframe tbody tr th:only-of-type {\n",
              "        vertical-align: middle;\n",
              "    }\n",
              "\n",
              "    .dataframe tbody tr th {\n",
              "        vertical-align: top;\n",
              "    }\n",
              "\n",
              "    .dataframe thead th {\n",
              "        text-align: right;\n",
              "    }\n",
              "</style>\n",
              "<table border=\"1\" class=\"dataframe\">\n",
              "  <thead>\n",
              "    <tr style=\"text-align: right;\">\n",
              "      <th></th>\n",
              "      <th>Unnamed: 0</th>\n",
              "      <th>A</th>\n",
              "      <th>B</th>\n",
              "      <th>C</th>\n",
              "      <th>D</th>\n",
              "    </tr>\n",
              "  </thead>\n",
              "  <tbody>\n",
              "    <tr>\n",
              "      <th>0</th>\n",
              "      <td>2000-01-01</td>\n",
              "      <td>-0.946268</td>\n",
              "      <td>0.588085</td>\n",
              "      <td>-1.102185</td>\n",
              "      <td>-2.011696</td>\n",
              "    </tr>\n",
              "    <tr>\n",
              "      <th>1</th>\n",
              "      <td>2000-01-02</td>\n",
              "      <td>-0.940977</td>\n",
              "      <td>-0.645644</td>\n",
              "      <td>-2.615629</td>\n",
              "      <td>-2.244082</td>\n",
              "    </tr>\n",
              "    <tr>\n",
              "      <th>2</th>\n",
              "      <td>2000-01-03</td>\n",
              "      <td>0.448965</td>\n",
              "      <td>-0.183296</td>\n",
              "      <td>-2.437258</td>\n",
              "      <td>-3.986212</td>\n",
              "    </tr>\n",
              "    <tr>\n",
              "      <th>3</th>\n",
              "      <td>2000-01-04</td>\n",
              "      <td>-0.694449</td>\n",
              "      <td>-0.597946</td>\n",
              "      <td>-2.220138</td>\n",
              "      <td>-4.774340</td>\n",
              "    </tr>\n",
              "    <tr>\n",
              "      <th>4</th>\n",
              "      <td>2000-01-05</td>\n",
              "      <td>-0.909153</td>\n",
              "      <td>-0.200734</td>\n",
              "      <td>-2.831575</td>\n",
              "      <td>-5.637019</td>\n",
              "    </tr>\n",
              "    <tr>\n",
              "      <th>...</th>\n",
              "      <td>...</td>\n",
              "      <td>...</td>\n",
              "      <td>...</td>\n",
              "      <td>...</td>\n",
              "      <td>...</td>\n",
              "    </tr>\n",
              "    <tr>\n",
              "      <th>995</th>\n",
              "      <td>2002-09-22</td>\n",
              "      <td>14.836307</td>\n",
              "      <td>-33.955098</td>\n",
              "      <td>-16.642909</td>\n",
              "      <td>-88.413076</td>\n",
              "    </tr>\n",
              "    <tr>\n",
              "      <th>996</th>\n",
              "      <td>2002-09-23</td>\n",
              "      <td>13.802744</td>\n",
              "      <td>-34.419502</td>\n",
              "      <td>-17.817695</td>\n",
              "      <td>-88.713839</td>\n",
              "    </tr>\n",
              "    <tr>\n",
              "      <th>997</th>\n",
              "      <td>2002-09-24</td>\n",
              "      <td>14.080196</td>\n",
              "      <td>-34.360305</td>\n",
              "      <td>-19.016304</td>\n",
              "      <td>-89.204070</td>\n",
              "    </tr>\n",
              "    <tr>\n",
              "      <th>998</th>\n",
              "      <td>2002-09-25</td>\n",
              "      <td>13.348737</td>\n",
              "      <td>-36.193934</td>\n",
              "      <td>-18.960392</td>\n",
              "      <td>-89.111542</td>\n",
              "    </tr>\n",
              "    <tr>\n",
              "      <th>999</th>\n",
              "      <td>2002-09-26</td>\n",
              "      <td>12.908612</td>\n",
              "      <td>-37.943369</td>\n",
              "      <td>-16.614981</td>\n",
              "      <td>-90.344603</td>\n",
              "    </tr>\n",
              "  </tbody>\n",
              "</table>\n",
              "<p>1000 rows × 5 columns</p>\n",
              "</div>"
            ],
            "text/plain": [
              "     Unnamed: 0          A          B          C          D\n",
              "0    2000-01-01  -0.946268   0.588085  -1.102185  -2.011696\n",
              "1    2000-01-02  -0.940977  -0.645644  -2.615629  -2.244082\n",
              "2    2000-01-03   0.448965  -0.183296  -2.437258  -3.986212\n",
              "3    2000-01-04  -0.694449  -0.597946  -2.220138  -4.774340\n",
              "4    2000-01-05  -0.909153  -0.200734  -2.831575  -5.637019\n",
              "..          ...        ...        ...        ...        ...\n",
              "995  2002-09-22  14.836307 -33.955098 -16.642909 -88.413076\n",
              "996  2002-09-23  13.802744 -34.419502 -17.817695 -88.713839\n",
              "997  2002-09-24  14.080196 -34.360305 -19.016304 -89.204070\n",
              "998  2002-09-25  13.348737 -36.193934 -18.960392 -89.111542\n",
              "999  2002-09-26  12.908612 -37.943369 -16.614981 -90.344603\n",
              "\n",
              "[1000 rows x 5 columns]"
            ]
          },
          "metadata": {
            "tags": []
          },
          "execution_count": 134
        }
      ]
    },
    {
      "cell_type": "markdown",
      "metadata": {
        "id": "bY58nQXTnlMa"
      },
      "source": [
        "# HDF5\n",
        "\n",
        "HDFStores 읽기 및 쓰기\n",
        "\n",
        "HDF5 스토어에 쓰기"
      ]
    },
    {
      "cell_type": "code",
      "metadata": {
        "id": "PKQp_eaYnrNd"
      },
      "source": [
        "df.to_hdf(\"foo.h5\", \"df\")"
      ],
      "execution_count": 135,
      "outputs": []
    },
    {
      "cell_type": "markdown",
      "metadata": {
        "id": "NsQvT1Jwnu55"
      },
      "source": [
        "HDF5스토어에서 읽기"
      ]
    },
    {
      "cell_type": "code",
      "metadata": {
        "colab": {
          "base_uri": "https://localhost:8080/",
          "height": 419
        },
        "id": "-4tsX1Zwnwme",
        "outputId": "093978dc-76b1-4ecf-f4d0-e65ee36b0443"
      },
      "source": [
        "pd.read_hdf(\"foo.h5\", \"df\")"
      ],
      "execution_count": 136,
      "outputs": [
        {
          "output_type": "execute_result",
          "data": {
            "text/html": [
              "<div>\n",
              "<style scoped>\n",
              "    .dataframe tbody tr th:only-of-type {\n",
              "        vertical-align: middle;\n",
              "    }\n",
              "\n",
              "    .dataframe tbody tr th {\n",
              "        vertical-align: top;\n",
              "    }\n",
              "\n",
              "    .dataframe thead th {\n",
              "        text-align: right;\n",
              "    }\n",
              "</style>\n",
              "<table border=\"1\" class=\"dataframe\">\n",
              "  <thead>\n",
              "    <tr style=\"text-align: right;\">\n",
              "      <th></th>\n",
              "      <th>A</th>\n",
              "      <th>B</th>\n",
              "      <th>C</th>\n",
              "      <th>D</th>\n",
              "    </tr>\n",
              "  </thead>\n",
              "  <tbody>\n",
              "    <tr>\n",
              "      <th>2000-01-01</th>\n",
              "      <td>-0.946268</td>\n",
              "      <td>0.588085</td>\n",
              "      <td>-1.102185</td>\n",
              "      <td>-2.011696</td>\n",
              "    </tr>\n",
              "    <tr>\n",
              "      <th>2000-01-02</th>\n",
              "      <td>-0.940977</td>\n",
              "      <td>-0.645644</td>\n",
              "      <td>-2.615629</td>\n",
              "      <td>-2.244082</td>\n",
              "    </tr>\n",
              "    <tr>\n",
              "      <th>2000-01-03</th>\n",
              "      <td>0.448965</td>\n",
              "      <td>-0.183296</td>\n",
              "      <td>-2.437258</td>\n",
              "      <td>-3.986212</td>\n",
              "    </tr>\n",
              "    <tr>\n",
              "      <th>2000-01-04</th>\n",
              "      <td>-0.694449</td>\n",
              "      <td>-0.597946</td>\n",
              "      <td>-2.220138</td>\n",
              "      <td>-4.774340</td>\n",
              "    </tr>\n",
              "    <tr>\n",
              "      <th>2000-01-05</th>\n",
              "      <td>-0.909153</td>\n",
              "      <td>-0.200734</td>\n",
              "      <td>-2.831575</td>\n",
              "      <td>-5.637019</td>\n",
              "    </tr>\n",
              "    <tr>\n",
              "      <th>...</th>\n",
              "      <td>...</td>\n",
              "      <td>...</td>\n",
              "      <td>...</td>\n",
              "      <td>...</td>\n",
              "    </tr>\n",
              "    <tr>\n",
              "      <th>2002-09-22</th>\n",
              "      <td>14.836307</td>\n",
              "      <td>-33.955098</td>\n",
              "      <td>-16.642909</td>\n",
              "      <td>-88.413076</td>\n",
              "    </tr>\n",
              "    <tr>\n",
              "      <th>2002-09-23</th>\n",
              "      <td>13.802744</td>\n",
              "      <td>-34.419502</td>\n",
              "      <td>-17.817695</td>\n",
              "      <td>-88.713839</td>\n",
              "    </tr>\n",
              "    <tr>\n",
              "      <th>2002-09-24</th>\n",
              "      <td>14.080196</td>\n",
              "      <td>-34.360305</td>\n",
              "      <td>-19.016304</td>\n",
              "      <td>-89.204070</td>\n",
              "    </tr>\n",
              "    <tr>\n",
              "      <th>2002-09-25</th>\n",
              "      <td>13.348737</td>\n",
              "      <td>-36.193934</td>\n",
              "      <td>-18.960392</td>\n",
              "      <td>-89.111542</td>\n",
              "    </tr>\n",
              "    <tr>\n",
              "      <th>2002-09-26</th>\n",
              "      <td>12.908612</td>\n",
              "      <td>-37.943369</td>\n",
              "      <td>-16.614981</td>\n",
              "      <td>-90.344603</td>\n",
              "    </tr>\n",
              "  </tbody>\n",
              "</table>\n",
              "<p>1000 rows × 4 columns</p>\n",
              "</div>"
            ],
            "text/plain": [
              "                    A          B          C          D\n",
              "2000-01-01  -0.946268   0.588085  -1.102185  -2.011696\n",
              "2000-01-02  -0.940977  -0.645644  -2.615629  -2.244082\n",
              "2000-01-03   0.448965  -0.183296  -2.437258  -3.986212\n",
              "2000-01-04  -0.694449  -0.597946  -2.220138  -4.774340\n",
              "2000-01-05  -0.909153  -0.200734  -2.831575  -5.637019\n",
              "...               ...        ...        ...        ...\n",
              "2002-09-22  14.836307 -33.955098 -16.642909 -88.413076\n",
              "2002-09-23  13.802744 -34.419502 -17.817695 -88.713839\n",
              "2002-09-24  14.080196 -34.360305 -19.016304 -89.204070\n",
              "2002-09-25  13.348737 -36.193934 -18.960392 -89.111542\n",
              "2002-09-26  12.908612 -37.943369 -16.614981 -90.344603\n",
              "\n",
              "[1000 rows x 4 columns]"
            ]
          },
          "metadata": {
            "tags": []
          },
          "execution_count": 136
        }
      ]
    },
    {
      "cell_type": "markdown",
      "metadata": {
        "id": "R-7VmCAsn06E"
      },
      "source": [
        "# 엑셀\n",
        "\n",
        "MS Excel 읽기 및 쓰기\n",
        "\n",
        "엑셀파일에 쓰기"
      ]
    },
    {
      "cell_type": "code",
      "metadata": {
        "id": "bTO3p1t6n7wE"
      },
      "source": [
        "df.to_excel(\"foo.xlsx\", sheet_name=\"Sheet1\")"
      ],
      "execution_count": 137,
      "outputs": []
    },
    {
      "cell_type": "markdown",
      "metadata": {
        "id": "anfL4IVzoJB-"
      },
      "source": [
        "엑셀 파일에서 읽기."
      ]
    },
    {
      "cell_type": "code",
      "metadata": {
        "colab": {
          "base_uri": "https://localhost:8080/",
          "height": 419
        },
        "id": "ou_pAZCfoKUI",
        "outputId": "86d7f000-f011-417c-e1ce-59dc40beeb23"
      },
      "source": [
        "pd.read_excel(\"foo.xlsx\", \"Sheet1\", index_col=None, na_values=[\"NA\"])"
      ],
      "execution_count": 138,
      "outputs": [
        {
          "output_type": "execute_result",
          "data": {
            "text/html": [
              "<div>\n",
              "<style scoped>\n",
              "    .dataframe tbody tr th:only-of-type {\n",
              "        vertical-align: middle;\n",
              "    }\n",
              "\n",
              "    .dataframe tbody tr th {\n",
              "        vertical-align: top;\n",
              "    }\n",
              "\n",
              "    .dataframe thead th {\n",
              "        text-align: right;\n",
              "    }\n",
              "</style>\n",
              "<table border=\"1\" class=\"dataframe\">\n",
              "  <thead>\n",
              "    <tr style=\"text-align: right;\">\n",
              "      <th></th>\n",
              "      <th>Unnamed: 0</th>\n",
              "      <th>A</th>\n",
              "      <th>B</th>\n",
              "      <th>C</th>\n",
              "      <th>D</th>\n",
              "    </tr>\n",
              "  </thead>\n",
              "  <tbody>\n",
              "    <tr>\n",
              "      <th>0</th>\n",
              "      <td>2000-01-01</td>\n",
              "      <td>-0.946268</td>\n",
              "      <td>0.588085</td>\n",
              "      <td>-1.102185</td>\n",
              "      <td>-2.011696</td>\n",
              "    </tr>\n",
              "    <tr>\n",
              "      <th>1</th>\n",
              "      <td>2000-01-02</td>\n",
              "      <td>-0.940977</td>\n",
              "      <td>-0.645644</td>\n",
              "      <td>-2.615629</td>\n",
              "      <td>-2.244082</td>\n",
              "    </tr>\n",
              "    <tr>\n",
              "      <th>2</th>\n",
              "      <td>2000-01-03</td>\n",
              "      <td>0.448965</td>\n",
              "      <td>-0.183296</td>\n",
              "      <td>-2.437258</td>\n",
              "      <td>-3.986212</td>\n",
              "    </tr>\n",
              "    <tr>\n",
              "      <th>3</th>\n",
              "      <td>2000-01-04</td>\n",
              "      <td>-0.694449</td>\n",
              "      <td>-0.597946</td>\n",
              "      <td>-2.220138</td>\n",
              "      <td>-4.774340</td>\n",
              "    </tr>\n",
              "    <tr>\n",
              "      <th>4</th>\n",
              "      <td>2000-01-05</td>\n",
              "      <td>-0.909153</td>\n",
              "      <td>-0.200734</td>\n",
              "      <td>-2.831575</td>\n",
              "      <td>-5.637019</td>\n",
              "    </tr>\n",
              "    <tr>\n",
              "      <th>...</th>\n",
              "      <td>...</td>\n",
              "      <td>...</td>\n",
              "      <td>...</td>\n",
              "      <td>...</td>\n",
              "      <td>...</td>\n",
              "    </tr>\n",
              "    <tr>\n",
              "      <th>995</th>\n",
              "      <td>2002-09-22</td>\n",
              "      <td>14.836307</td>\n",
              "      <td>-33.955098</td>\n",
              "      <td>-16.642909</td>\n",
              "      <td>-88.413076</td>\n",
              "    </tr>\n",
              "    <tr>\n",
              "      <th>996</th>\n",
              "      <td>2002-09-23</td>\n",
              "      <td>13.802744</td>\n",
              "      <td>-34.419502</td>\n",
              "      <td>-17.817695</td>\n",
              "      <td>-88.713839</td>\n",
              "    </tr>\n",
              "    <tr>\n",
              "      <th>997</th>\n",
              "      <td>2002-09-24</td>\n",
              "      <td>14.080196</td>\n",
              "      <td>-34.360305</td>\n",
              "      <td>-19.016304</td>\n",
              "      <td>-89.204070</td>\n",
              "    </tr>\n",
              "    <tr>\n",
              "      <th>998</th>\n",
              "      <td>2002-09-25</td>\n",
              "      <td>13.348737</td>\n",
              "      <td>-36.193934</td>\n",
              "      <td>-18.960392</td>\n",
              "      <td>-89.111542</td>\n",
              "    </tr>\n",
              "    <tr>\n",
              "      <th>999</th>\n",
              "      <td>2002-09-26</td>\n",
              "      <td>12.908612</td>\n",
              "      <td>-37.943369</td>\n",
              "      <td>-16.614981</td>\n",
              "      <td>-90.344603</td>\n",
              "    </tr>\n",
              "  </tbody>\n",
              "</table>\n",
              "<p>1000 rows × 5 columns</p>\n",
              "</div>"
            ],
            "text/plain": [
              "    Unnamed: 0          A          B          C          D\n",
              "0   2000-01-01  -0.946268   0.588085  -1.102185  -2.011696\n",
              "1   2000-01-02  -0.940977  -0.645644  -2.615629  -2.244082\n",
              "2   2000-01-03   0.448965  -0.183296  -2.437258  -3.986212\n",
              "3   2000-01-04  -0.694449  -0.597946  -2.220138  -4.774340\n",
              "4   2000-01-05  -0.909153  -0.200734  -2.831575  -5.637019\n",
              "..         ...        ...        ...        ...        ...\n",
              "995 2002-09-22  14.836307 -33.955098 -16.642909 -88.413076\n",
              "996 2002-09-23  13.802744 -34.419502 -17.817695 -88.713839\n",
              "997 2002-09-24  14.080196 -34.360305 -19.016304 -89.204070\n",
              "998 2002-09-25  13.348737 -36.193934 -18.960392 -89.111542\n",
              "999 2002-09-26  12.908612 -37.943369 -16.614981 -90.344603\n",
              "\n",
              "[1000 rows x 5 columns]"
            ]
          },
          "metadata": {
            "tags": []
          },
          "execution_count": 138
        }
      ]
    },
    {
      "cell_type": "markdown",
      "metadata": {
        "id": "uLhjlF_8oSiC"
      },
      "source": [
        "# 고차\n",
        "\n",
        "작업을 수행하려는 경우 다음과 같은 예외가 표시될 수 있습니다."
      ]
    },
    {
      "cell_type": "code",
      "metadata": {
        "colab": {
          "base_uri": "https://localhost:8080/",
          "height": 334
        },
        "id": "ag8KH43koWNI",
        "outputId": "38e8c38c-a592-4143-a06f-03946cb03760"
      },
      "source": [
        "if pd.Series([False, True, False]):\n",
        "    print(\"I was true\")"
      ],
      "execution_count": 140,
      "outputs": [
        {
          "output_type": "error",
          "ename": "ValueError",
          "evalue": "ignored",
          "traceback": [
            "\u001b[0;31m---------------------------------------------------------------------------\u001b[0m",
            "\u001b[0;31mValueError\u001b[0m                                Traceback (most recent call last)",
            "\u001b[0;32m<ipython-input-140-5c782b38cd2f>\u001b[0m in \u001b[0;36m<module>\u001b[0;34m()\u001b[0m\n\u001b[0;32m----> 1\u001b[0;31m \u001b[0;32mif\u001b[0m \u001b[0mpd\u001b[0m\u001b[0;34m.\u001b[0m\u001b[0mSeries\u001b[0m\u001b[0;34m(\u001b[0m\u001b[0;34m[\u001b[0m\u001b[0;32mFalse\u001b[0m\u001b[0;34m,\u001b[0m \u001b[0;32mTrue\u001b[0m\u001b[0;34m,\u001b[0m \u001b[0;32mFalse\u001b[0m\u001b[0;34m]\u001b[0m\u001b[0;34m)\u001b[0m\u001b[0;34m:\u001b[0m\u001b[0;34m\u001b[0m\u001b[0;34m\u001b[0m\u001b[0m\n\u001b[0m\u001b[1;32m      2\u001b[0m     \u001b[0mprint\u001b[0m\u001b[0;34m(\u001b[0m\u001b[0;34m\"I was true\"\u001b[0m\u001b[0;34m)\u001b[0m\u001b[0;34m\u001b[0m\u001b[0;34m\u001b[0m\u001b[0m\n",
            "\u001b[0;32m/usr/local/lib/python3.7/dist-packages/pandas/core/generic.py\u001b[0m in \u001b[0;36m__nonzero__\u001b[0;34m(self)\u001b[0m\n\u001b[1;32m   1328\u001b[0m     \u001b[0;32mdef\u001b[0m \u001b[0m__nonzero__\u001b[0m\u001b[0;34m(\u001b[0m\u001b[0mself\u001b[0m\u001b[0;34m)\u001b[0m\u001b[0;34m:\u001b[0m\u001b[0;34m\u001b[0m\u001b[0;34m\u001b[0m\u001b[0m\n\u001b[1;32m   1329\u001b[0m         raise ValueError(\n\u001b[0;32m-> 1330\u001b[0;31m             \u001b[0;34mf\"The truth value of a {type(self).__name__} is ambiguous. \"\u001b[0m\u001b[0;34m\u001b[0m\u001b[0;34m\u001b[0m\u001b[0m\n\u001b[0m\u001b[1;32m   1331\u001b[0m             \u001b[0;34m\"Use a.empty, a.bool(), a.item(), a.any() or a.all().\"\u001b[0m\u001b[0;34m\u001b[0m\u001b[0;34m\u001b[0m\u001b[0m\n\u001b[1;32m   1332\u001b[0m         )\n",
            "\u001b[0;31mValueError\u001b[0m: The truth value of a Series is ambiguous. Use a.empty, a.bool(), a.item(), a.any() or a.all()."
          ]
        }
      ]
    }
  ]
}