{
  "nbformat": 4,
  "nbformat_minor": 5,
  "metadata": {
    "kernelspec": {
      "display_name": "Python 3",
      "language": "python",
      "name": "python3"
    },
    "language_info": {
      "codemirror_mode": {
        "name": "ipython",
        "version": 3
      },
      "file_extension": ".py",
      "mimetype": "text/x-python",
      "name": "python",
      "nbconvert_exporter": "python",
      "pygments_lexer": "ipython3",
      "version": "3.7.9"
    },
    "papermill": {
      "default_parameters": {},
      "duration": 2797.468865,
      "end_time": "2021-04-22T13:09:39.135621",
      "environment_variables": {},
      "exception": null,
      "input_path": "__notebook__.ipynb",
      "output_path": "__notebook__.ipynb",
      "parameters": {},
      "start_time": "2021-04-22T12:23:01.666756",
      "version": "2.3.2"
    },
    "widgets": {
      "application/vnd.jupyter.widget-state+json": {
        "29cce9f696b545b5a857d160daadff0d": {
          "model_module": "@jupyter-widgets/controls",
          "model_name": "IntProgressModel",
          "state": {
            "_view_name": "ProgressView",
            "style": "IPY_MODEL_268a85c4e811468ab5e87ee85318312b",
            "_dom_classes": [],
            "description": "Processing: ",
            "_model_name": "IntProgressModel",
            "bar_style": "",
            "max": 3,
            "_view_module": "@jupyter-widgets/controls",
            "_model_module_version": "1.5.0",
            "value": 3,
            "_view_count": null,
            "_view_module_version": "1.5.0",
            "orientation": "horizontal",
            "min": 0,
            "description_tooltip": null,
            "_model_module": "@jupyter-widgets/controls",
            "layout": "IPY_MODEL_471651ab9ebb4cd68b290fad3f4b69ec"
          }
        },
        "268a85c4e811468ab5e87ee85318312b": {
          "model_module": "@jupyter-widgets/controls",
          "model_name": "ProgressStyleModel",
          "state": {
            "_view_name": "StyleView",
            "_model_name": "ProgressStyleModel",
            "description_width": "",
            "_view_module": "@jupyter-widgets/base",
            "_model_module_version": "1.5.0",
            "_view_count": null,
            "_view_module_version": "1.2.0",
            "bar_color": null,
            "_model_module": "@jupyter-widgets/controls"
          }
        },
        "471651ab9ebb4cd68b290fad3f4b69ec": {
          "model_module": "@jupyter-widgets/base",
          "model_name": "LayoutModel",
          "state": {
            "_view_name": "LayoutView",
            "grid_template_rows": null,
            "right": null,
            "justify_content": null,
            "_view_module": "@jupyter-widgets/base",
            "overflow": null,
            "_model_module_version": "1.2.0",
            "_view_count": null,
            "flex_flow": null,
            "width": null,
            "min_width": null,
            "border": null,
            "align_items": null,
            "bottom": null,
            "_model_module": "@jupyter-widgets/base",
            "top": null,
            "grid_column": null,
            "overflow_y": null,
            "overflow_x": null,
            "grid_auto_flow": null,
            "grid_area": null,
            "grid_template_columns": null,
            "flex": null,
            "_model_name": "LayoutModel",
            "justify_items": null,
            "grid_row": null,
            "max_height": null,
            "align_content": null,
            "visibility": null,
            "align_self": null,
            "height": null,
            "min_height": null,
            "padding": null,
            "grid_auto_rows": null,
            "grid_gap": null,
            "max_width": null,
            "order": null,
            "_view_module_version": "1.2.0",
            "grid_template_areas": null,
            "object_position": null,
            "object_fit": null,
            "grid_auto_columns": null,
            "margin": null,
            "display": null,
            "left": null
          }
        },
        "249ba85f48d0424ba4eb8aedd43c542c": {
          "model_module": "@jupyter-widgets/controls",
          "model_name": "IntProgressModel",
          "state": {
            "_view_name": "ProgressView",
            "style": "IPY_MODEL_3d6d34f025234c9da5893581cdf75969",
            "_dom_classes": [],
            "description": "Processing: ",
            "_model_name": "IntProgressModel",
            "bar_style": "",
            "max": 4,
            "_view_module": "@jupyter-widgets/controls",
            "_model_module_version": "1.5.0",
            "value": 4,
            "_view_count": null,
            "_view_module_version": "1.5.0",
            "orientation": "horizontal",
            "min": 0,
            "description_tooltip": null,
            "_model_module": "@jupyter-widgets/controls",
            "layout": "IPY_MODEL_9a4f98d986494566a28306ba88c40021"
          }
        },
        "3d6d34f025234c9da5893581cdf75969": {
          "model_module": "@jupyter-widgets/controls",
          "model_name": "ProgressStyleModel",
          "state": {
            "_view_name": "StyleView",
            "_model_name": "ProgressStyleModel",
            "description_width": "",
            "_view_module": "@jupyter-widgets/base",
            "_model_module_version": "1.5.0",
            "_view_count": null,
            "_view_module_version": "1.2.0",
            "bar_color": null,
            "_model_module": "@jupyter-widgets/controls"
          }
        },
        "9a4f98d986494566a28306ba88c40021": {
          "model_module": "@jupyter-widgets/base",
          "model_name": "LayoutModel",
          "state": {
            "_view_name": "LayoutView",
            "grid_template_rows": null,
            "right": null,
            "justify_content": null,
            "_view_module": "@jupyter-widgets/base",
            "overflow": null,
            "_model_module_version": "1.2.0",
            "_view_count": null,
            "flex_flow": null,
            "width": null,
            "min_width": null,
            "border": null,
            "align_items": null,
            "bottom": null,
            "_model_module": "@jupyter-widgets/base",
            "top": null,
            "grid_column": null,
            "overflow_y": null,
            "overflow_x": null,
            "grid_auto_flow": null,
            "grid_area": null,
            "grid_template_columns": null,
            "flex": null,
            "_model_name": "LayoutModel",
            "justify_items": null,
            "grid_row": null,
            "max_height": null,
            "align_content": null,
            "visibility": null,
            "align_self": null,
            "height": null,
            "min_height": null,
            "padding": null,
            "grid_auto_rows": null,
            "grid_gap": null,
            "max_width": null,
            "order": null,
            "_view_module_version": "1.2.0",
            "grid_template_areas": null,
            "object_position": null,
            "object_fit": null,
            "grid_auto_columns": null,
            "margin": null,
            "display": null,
            "left": null
          }
        },
        "0f71f2458a0a4f1597c35ff5c1dedd1d": {
          "model_module": "@jupyter-widgets/controls",
          "model_name": "IntProgressModel",
          "state": {
            "_view_name": "ProgressView",
            "style": "IPY_MODEL_3fc0f3cbb32343c38f2776046d1d84f9",
            "_dom_classes": [],
            "description": "Processing: ",
            "_model_name": "IntProgressModel",
            "bar_style": "",
            "max": 7,
            "_view_module": "@jupyter-widgets/controls",
            "_model_module_version": "1.5.0",
            "value": 7,
            "_view_count": null,
            "_view_module_version": "1.5.0",
            "orientation": "horizontal",
            "min": 0,
            "description_tooltip": null,
            "_model_module": "@jupyter-widgets/controls",
            "layout": "IPY_MODEL_ffdf707223a442388fbf73d30d577dfe"
          }
        },
        "3fc0f3cbb32343c38f2776046d1d84f9": {
          "model_module": "@jupyter-widgets/controls",
          "model_name": "ProgressStyleModel",
          "state": {
            "_view_name": "StyleView",
            "_model_name": "ProgressStyleModel",
            "description_width": "",
            "_view_module": "@jupyter-widgets/base",
            "_model_module_version": "1.5.0",
            "_view_count": null,
            "_view_module_version": "1.2.0",
            "bar_color": null,
            "_model_module": "@jupyter-widgets/controls"
          }
        },
        "ffdf707223a442388fbf73d30d577dfe": {
          "model_module": "@jupyter-widgets/base",
          "model_name": "LayoutModel",
          "state": {
            "_view_name": "LayoutView",
            "grid_template_rows": null,
            "right": null,
            "justify_content": null,
            "_view_module": "@jupyter-widgets/base",
            "overflow": null,
            "_model_module_version": "1.2.0",
            "_view_count": null,
            "flex_flow": null,
            "width": null,
            "min_width": null,
            "border": null,
            "align_items": null,
            "bottom": null,
            "_model_module": "@jupyter-widgets/base",
            "top": null,
            "grid_column": null,
            "overflow_y": null,
            "overflow_x": null,
            "grid_auto_flow": null,
            "grid_area": null,
            "grid_template_columns": null,
            "flex": null,
            "_model_name": "LayoutModel",
            "justify_items": null,
            "grid_row": null,
            "max_height": null,
            "align_content": null,
            "visibility": null,
            "align_self": null,
            "height": null,
            "min_height": null,
            "padding": null,
            "grid_auto_rows": null,
            "grid_gap": null,
            "max_width": null,
            "order": null,
            "_view_module_version": "1.2.0",
            "grid_template_areas": null,
            "object_position": null,
            "object_fit": null,
            "grid_auto_columns": null,
            "margin": null,
            "display": null,
            "left": null
          }
        },
        "2af2ac4e042540f498da2427ff13ae43": {
          "model_module": "@jupyter-widgets/controls",
          "model_name": "IntProgressModel",
          "state": {
            "_view_name": "ProgressView",
            "style": "IPY_MODEL_80d08e3837234b788832734364bbe445",
            "_dom_classes": [],
            "description": "Processing: ",
            "_model_name": "IntProgressModel",
            "bar_style": "",
            "max": 4,
            "_view_module": "@jupyter-widgets/controls",
            "_model_module_version": "1.5.0",
            "value": 4,
            "_view_count": null,
            "_view_module_version": "1.5.0",
            "orientation": "horizontal",
            "min": 0,
            "description_tooltip": null,
            "_model_module": "@jupyter-widgets/controls",
            "layout": "IPY_MODEL_8213430b9204499da75f75c61de6dee6"
          }
        },
        "80d08e3837234b788832734364bbe445": {
          "model_module": "@jupyter-widgets/controls",
          "model_name": "ProgressStyleModel",
          "state": {
            "_view_name": "StyleView",
            "_model_name": "ProgressStyleModel",
            "description_width": "",
            "_view_module": "@jupyter-widgets/base",
            "_model_module_version": "1.5.0",
            "_view_count": null,
            "_view_module_version": "1.2.0",
            "bar_color": null,
            "_model_module": "@jupyter-widgets/controls"
          }
        },
        "8213430b9204499da75f75c61de6dee6": {
          "model_module": "@jupyter-widgets/base",
          "model_name": "LayoutModel",
          "state": {
            "_view_name": "LayoutView",
            "grid_template_rows": null,
            "right": null,
            "justify_content": null,
            "_view_module": "@jupyter-widgets/base",
            "overflow": null,
            "_model_module_version": "1.2.0",
            "_view_count": null,
            "flex_flow": null,
            "width": null,
            "min_width": null,
            "border": null,
            "align_items": null,
            "bottom": null,
            "_model_module": "@jupyter-widgets/base",
            "top": null,
            "grid_column": null,
            "overflow_y": null,
            "overflow_x": null,
            "grid_auto_flow": null,
            "grid_area": null,
            "grid_template_columns": null,
            "flex": null,
            "_model_name": "LayoutModel",
            "justify_items": null,
            "grid_row": null,
            "max_height": null,
            "align_content": null,
            "visibility": null,
            "align_self": null,
            "height": null,
            "min_height": null,
            "padding": null,
            "grid_auto_rows": null,
            "grid_gap": null,
            "max_width": null,
            "order": null,
            "_view_module_version": "1.2.0",
            "grid_template_areas": null,
            "object_position": null,
            "object_fit": null,
            "grid_auto_columns": null,
            "margin": null,
            "display": null,
            "left": null
          }
        },
        "36f773c9311142e3bdde8dd8f0970090": {
          "model_module": "@jupyter-widgets/controls",
          "model_name": "IntProgressModel",
          "state": {
            "_view_name": "ProgressView",
            "style": "IPY_MODEL_293a9ec59844442086f0aa045225018c",
            "_dom_classes": [],
            "description": "Processing: ",
            "_model_name": "IntProgressModel",
            "bar_style": "",
            "max": 7,
            "_view_module": "@jupyter-widgets/controls",
            "_model_module_version": "1.5.0",
            "value": 7,
            "_view_count": null,
            "_view_module_version": "1.5.0",
            "orientation": "horizontal",
            "min": 0,
            "description_tooltip": null,
            "_model_module": "@jupyter-widgets/controls",
            "layout": "IPY_MODEL_a2de2483b3c8495d98187d31c07c40f6"
          }
        },
        "293a9ec59844442086f0aa045225018c": {
          "model_module": "@jupyter-widgets/controls",
          "model_name": "ProgressStyleModel",
          "state": {
            "_view_name": "StyleView",
            "_model_name": "ProgressStyleModel",
            "description_width": "",
            "_view_module": "@jupyter-widgets/base",
            "_model_module_version": "1.5.0",
            "_view_count": null,
            "_view_module_version": "1.2.0",
            "bar_color": null,
            "_model_module": "@jupyter-widgets/controls"
          }
        },
        "a2de2483b3c8495d98187d31c07c40f6": {
          "model_module": "@jupyter-widgets/base",
          "model_name": "LayoutModel",
          "state": {
            "_view_name": "LayoutView",
            "grid_template_rows": null,
            "right": null,
            "justify_content": null,
            "_view_module": "@jupyter-widgets/base",
            "overflow": null,
            "_model_module_version": "1.2.0",
            "_view_count": null,
            "flex_flow": null,
            "width": null,
            "min_width": null,
            "border": null,
            "align_items": null,
            "bottom": null,
            "_model_module": "@jupyter-widgets/base",
            "top": null,
            "grid_column": null,
            "overflow_y": null,
            "overflow_x": null,
            "grid_auto_flow": null,
            "grid_area": null,
            "grid_template_columns": null,
            "flex": null,
            "_model_name": "LayoutModel",
            "justify_items": null,
            "grid_row": null,
            "max_height": null,
            "align_content": null,
            "visibility": null,
            "align_self": null,
            "height": null,
            "min_height": null,
            "padding": null,
            "grid_auto_rows": null,
            "grid_gap": null,
            "max_width": null,
            "order": null,
            "_view_module_version": "1.2.0",
            "grid_template_areas": null,
            "object_position": null,
            "object_fit": null,
            "grid_auto_columns": null,
            "margin": null,
            "display": null,
            "left": null
          }
        },
        "a953bc930153449087ed893dd0283e06": {
          "model_module": "@jupyter-widgets/controls",
          "model_name": "IntProgressModel",
          "state": {
            "_view_name": "ProgressView",
            "style": "IPY_MODEL_626dea0d13df419794725d6f698fd8e8",
            "_dom_classes": [],
            "description": "Processing: ",
            "_model_name": "IntProgressModel",
            "bar_style": "",
            "max": 4,
            "_view_module": "@jupyter-widgets/controls",
            "_model_module_version": "1.5.0",
            "value": 4,
            "_view_count": null,
            "_view_module_version": "1.5.0",
            "orientation": "horizontal",
            "min": 0,
            "description_tooltip": null,
            "_model_module": "@jupyter-widgets/controls",
            "layout": "IPY_MODEL_58834ab7089e46d0918593cdc1930452"
          }
        },
        "626dea0d13df419794725d6f698fd8e8": {
          "model_module": "@jupyter-widgets/controls",
          "model_name": "ProgressStyleModel",
          "state": {
            "_view_name": "StyleView",
            "_model_name": "ProgressStyleModel",
            "description_width": "",
            "_view_module": "@jupyter-widgets/base",
            "_model_module_version": "1.5.0",
            "_view_count": null,
            "_view_module_version": "1.2.0",
            "bar_color": null,
            "_model_module": "@jupyter-widgets/controls"
          }
        },
        "58834ab7089e46d0918593cdc1930452": {
          "model_module": "@jupyter-widgets/base",
          "model_name": "LayoutModel",
          "state": {
            "_view_name": "LayoutView",
            "grid_template_rows": null,
            "right": null,
            "justify_content": null,
            "_view_module": "@jupyter-widgets/base",
            "overflow": null,
            "_model_module_version": "1.2.0",
            "_view_count": null,
            "flex_flow": null,
            "width": null,
            "min_width": null,
            "border": null,
            "align_items": null,
            "bottom": null,
            "_model_module": "@jupyter-widgets/base",
            "top": null,
            "grid_column": null,
            "overflow_y": null,
            "overflow_x": null,
            "grid_auto_flow": null,
            "grid_area": null,
            "grid_template_columns": null,
            "flex": null,
            "_model_name": "LayoutModel",
            "justify_items": null,
            "grid_row": null,
            "max_height": null,
            "align_content": null,
            "visibility": null,
            "align_self": null,
            "height": null,
            "min_height": null,
            "padding": null,
            "grid_auto_rows": null,
            "grid_gap": null,
            "max_width": null,
            "order": null,
            "_view_module_version": "1.2.0",
            "grid_template_areas": null,
            "object_position": null,
            "object_fit": null,
            "grid_auto_columns": null,
            "margin": null,
            "display": null,
            "left": null
          }
        },
        "602fd72a65ce4fadabd637cf068c6508": {
          "model_module": "@jupyter-widgets/controls",
          "model_name": "IntProgressModel",
          "state": {
            "_view_name": "ProgressView",
            "style": "IPY_MODEL_b48782d040874fa683ef0591bd7fd0ac",
            "_dom_classes": [],
            "description": "Processing: ",
            "_model_name": "IntProgressModel",
            "bar_style": "",
            "max": 7,
            "_view_module": "@jupyter-widgets/controls",
            "_model_module_version": "1.5.0",
            "value": 7,
            "_view_count": null,
            "_view_module_version": "1.5.0",
            "orientation": "horizontal",
            "min": 0,
            "description_tooltip": null,
            "_model_module": "@jupyter-widgets/controls",
            "layout": "IPY_MODEL_469b0101ca1b418fa997a894dce3d662"
          }
        },
        "b48782d040874fa683ef0591bd7fd0ac": {
          "model_module": "@jupyter-widgets/controls",
          "model_name": "ProgressStyleModel",
          "state": {
            "_view_name": "StyleView",
            "_model_name": "ProgressStyleModel",
            "description_width": "",
            "_view_module": "@jupyter-widgets/base",
            "_model_module_version": "1.5.0",
            "_view_count": null,
            "_view_module_version": "1.2.0",
            "bar_color": null,
            "_model_module": "@jupyter-widgets/controls"
          }
        },
        "469b0101ca1b418fa997a894dce3d662": {
          "model_module": "@jupyter-widgets/base",
          "model_name": "LayoutModel",
          "state": {
            "_view_name": "LayoutView",
            "grid_template_rows": null,
            "right": null,
            "justify_content": null,
            "_view_module": "@jupyter-widgets/base",
            "overflow": null,
            "_model_module_version": "1.2.0",
            "_view_count": null,
            "flex_flow": null,
            "width": null,
            "min_width": null,
            "border": null,
            "align_items": null,
            "bottom": null,
            "_model_module": "@jupyter-widgets/base",
            "top": null,
            "grid_column": null,
            "overflow_y": null,
            "overflow_x": null,
            "grid_auto_flow": null,
            "grid_area": null,
            "grid_template_columns": null,
            "flex": null,
            "_model_name": "LayoutModel",
            "justify_items": null,
            "grid_row": null,
            "max_height": null,
            "align_content": null,
            "visibility": null,
            "align_self": null,
            "height": null,
            "min_height": null,
            "padding": null,
            "grid_auto_rows": null,
            "grid_gap": null,
            "max_width": null,
            "order": null,
            "_view_module_version": "1.2.0",
            "grid_template_areas": null,
            "object_position": null,
            "object_fit": null,
            "grid_auto_columns": null,
            "margin": null,
            "display": null,
            "left": null
          }
        },
        "061fe678c72e4e4d871a5c38a3c0ecd3": {
          "model_module": "@jupyter-widgets/controls",
          "model_name": "IntProgressModel",
          "state": {
            "_view_name": "ProgressView",
            "style": "IPY_MODEL_834260a3bed948b1949e47bb455ae964",
            "_dom_classes": [],
            "description": "Processing: ",
            "_model_name": "IntProgressModel",
            "bar_style": "",
            "max": 6,
            "_view_module": "@jupyter-widgets/controls",
            "_model_module_version": "1.5.0",
            "value": 6,
            "_view_count": null,
            "_view_module_version": "1.5.0",
            "orientation": "horizontal",
            "min": 0,
            "description_tooltip": null,
            "_model_module": "@jupyter-widgets/controls",
            "layout": "IPY_MODEL_357038fc690a4d7a85df40bb5c8774aa"
          }
        },
        "834260a3bed948b1949e47bb455ae964": {
          "model_module": "@jupyter-widgets/controls",
          "model_name": "ProgressStyleModel",
          "state": {
            "_view_name": "StyleView",
            "_model_name": "ProgressStyleModel",
            "description_width": "",
            "_view_module": "@jupyter-widgets/base",
            "_model_module_version": "1.5.0",
            "_view_count": null,
            "_view_module_version": "1.2.0",
            "bar_color": null,
            "_model_module": "@jupyter-widgets/controls"
          }
        },
        "357038fc690a4d7a85df40bb5c8774aa": {
          "model_module": "@jupyter-widgets/base",
          "model_name": "LayoutModel",
          "state": {
            "_view_name": "LayoutView",
            "grid_template_rows": null,
            "right": null,
            "justify_content": null,
            "_view_module": "@jupyter-widgets/base",
            "overflow": null,
            "_model_module_version": "1.2.0",
            "_view_count": null,
            "flex_flow": null,
            "width": null,
            "min_width": null,
            "border": null,
            "align_items": null,
            "bottom": null,
            "_model_module": "@jupyter-widgets/base",
            "top": null,
            "grid_column": null,
            "overflow_y": null,
            "overflow_x": null,
            "grid_auto_flow": null,
            "grid_area": null,
            "grid_template_columns": null,
            "flex": null,
            "_model_name": "LayoutModel",
            "justify_items": null,
            "grid_row": null,
            "max_height": null,
            "align_content": null,
            "visibility": null,
            "align_self": null,
            "height": null,
            "min_height": null,
            "padding": null,
            "grid_auto_rows": null,
            "grid_gap": null,
            "max_width": null,
            "order": null,
            "_view_module_version": "1.2.0",
            "grid_template_areas": null,
            "object_position": null,
            "object_fit": null,
            "grid_auto_columns": null,
            "margin": null,
            "display": null,
            "left": null
          }
        },
        "0f96e3c9c16c49369a2d6c6c83a4a2db": {
          "model_module": "@jupyter-widgets/controls",
          "model_name": "IntProgressModel",
          "state": {
            "_view_name": "ProgressView",
            "style": "IPY_MODEL_84fa675bbd3045d998b32e8dc9fbbdb8",
            "_dom_classes": [],
            "description": "Processing: ",
            "_model_name": "IntProgressModel",
            "bar_style": "",
            "max": 6,
            "_view_module": "@jupyter-widgets/controls",
            "_model_module_version": "1.5.0",
            "value": 4,
            "_view_count": null,
            "_view_module_version": "1.5.0",
            "orientation": "horizontal",
            "min": 0,
            "description_tooltip": null,
            "_model_module": "@jupyter-widgets/controls",
            "layout": "IPY_MODEL_47abe2d0d73548dd96db05165f1aac72"
          }
        },
        "84fa675bbd3045d998b32e8dc9fbbdb8": {
          "model_module": "@jupyter-widgets/controls",
          "model_name": "ProgressStyleModel",
          "state": {
            "_view_name": "StyleView",
            "_model_name": "ProgressStyleModel",
            "description_width": "",
            "_view_module": "@jupyter-widgets/base",
            "_model_module_version": "1.5.0",
            "_view_count": null,
            "_view_module_version": "1.2.0",
            "bar_color": null,
            "_model_module": "@jupyter-widgets/controls"
          }
        },
        "47abe2d0d73548dd96db05165f1aac72": {
          "model_module": "@jupyter-widgets/base",
          "model_name": "LayoutModel",
          "state": {
            "_view_name": "LayoutView",
            "grid_template_rows": null,
            "right": null,
            "justify_content": null,
            "_view_module": "@jupyter-widgets/base",
            "overflow": null,
            "_model_module_version": "1.2.0",
            "_view_count": null,
            "flex_flow": null,
            "width": null,
            "min_width": null,
            "border": null,
            "align_items": null,
            "bottom": null,
            "_model_module": "@jupyter-widgets/base",
            "top": null,
            "grid_column": null,
            "overflow_y": null,
            "overflow_x": null,
            "grid_auto_flow": null,
            "grid_area": null,
            "grid_template_columns": null,
            "flex": null,
            "_model_name": "LayoutModel",
            "justify_items": null,
            "grid_row": null,
            "max_height": null,
            "align_content": null,
            "visibility": null,
            "align_self": null,
            "height": null,
            "min_height": null,
            "padding": null,
            "grid_auto_rows": null,
            "grid_gap": null,
            "max_width": null,
            "order": null,
            "_view_module_version": "1.2.0",
            "grid_template_areas": null,
            "object_position": null,
            "object_fit": null,
            "grid_auto_columns": null,
            "margin": null,
            "display": null,
            "left": null
          }
        }
      }
    },
    "colab": {
      "name": "april_tps_starter_with_pycaret.ipynb",
      "provenance": [],
      "collapsed_sections": [],
      "include_colab_link": true
    }
  },
  "cells": [
    {
      "cell_type": "markdown",
      "metadata": {
        "id": "view-in-github",
        "colab_type": "text"
      },
      "source": [
        "<a href=\"https://colab.research.google.com/github/KJM94/pym/blob/main/src/april_tps_starter_with_pycaret.ipynb\" target=\"_parent\"><img src=\"https://colab.research.google.com/assets/colab-badge.svg\" alt=\"Open In Colab\"/></a>"
      ]
    },
    {
      "cell_type": "code",
      "metadata": {
        "colab": {
          "base_uri": "https://localhost:8080/"
        },
        "id": "Qtd5KS0FIQb-",
        "outputId": "5538bbc9-9f9d-4d82-cd83-14b4f659966b"
      },
      "source": [
        "!pip install kaggle"
      ],
      "id": "Qtd5KS0FIQb-",
      "execution_count": null,
      "outputs": [
        {
          "output_type": "stream",
          "text": [
            "Requirement already satisfied: kaggle in /usr/local/lib/python3.7/dist-packages (1.5.12)\n",
            "Requirement already satisfied: tqdm in /usr/local/lib/python3.7/dist-packages (from kaggle) (4.41.1)\n",
            "Requirement already satisfied: python-dateutil in /usr/local/lib/python3.7/dist-packages (from kaggle) (2.8.1)\n",
            "Requirement already satisfied: certifi in /usr/local/lib/python3.7/dist-packages (from kaggle) (2020.12.5)\n",
            "Requirement already satisfied: requests in /usr/local/lib/python3.7/dist-packages (from kaggle) (2.23.0)\n",
            "Requirement already satisfied: six>=1.10 in /usr/local/lib/python3.7/dist-packages (from kaggle) (1.15.0)\n",
            "Requirement already satisfied: python-slugify in /usr/local/lib/python3.7/dist-packages (from kaggle) (4.0.1)\n",
            "Requirement already satisfied: urllib3 in /usr/local/lib/python3.7/dist-packages (from kaggle) (1.24.3)\n",
            "Requirement already satisfied: idna<3,>=2.5 in /usr/local/lib/python3.7/dist-packages (from requests->kaggle) (2.10)\n",
            "Requirement already satisfied: chardet<4,>=3.0.2 in /usr/local/lib/python3.7/dist-packages (from requests->kaggle) (3.0.4)\n",
            "Requirement already satisfied: text-unidecode>=1.3 in /usr/local/lib/python3.7/dist-packages (from python-slugify->kaggle) (1.3)\n"
          ],
          "name": "stdout"
        }
      ]
    },
    {
      "cell_type": "code",
      "metadata": {
        "id": "cHOgI9QjIQ_l"
      },
      "source": [
        "!mkdir ~/.kaggle\n",
        "!echo '{}' > ~/.kaggle/kaggle.json\n",
        "!chmod 600 ~/.kaggle/kaggle.json"
      ],
      "id": "cHOgI9QjIQ_l",
      "execution_count": null,
      "outputs": []
    },
    {
      "cell_type": "code",
      "metadata": {
        "colab": {
          "base_uri": "https://localhost:8080/"
        },
        "id": "ofjzTYdyISil",
        "outputId": "7b08af09-9c09-402b-be75-6d9841a5f3fd"
      },
      "source": [
        "!kaggle competitions download -c tabular-playground-series-apr-2021"
      ],
      "id": "ofjzTYdyISil",
      "execution_count": null,
      "outputs": [
        {
          "output_type": "stream",
          "text": [
            "Warning: Looks like you're using an outdated API Version, please consider updating (server 1.5.12 / client 1.5.4)\n",
            "Downloading sample_submission.csv to /content\n",
            "  0% 0.00/879k [00:00<?, ?B/s]\n",
            "100% 879k/879k [00:00<00:00, 49.9MB/s]\n",
            "Downloading test.csv.zip to /content\n",
            "  0% 0.00/2.07M [00:00<?, ?B/s]\n",
            "100% 2.07M/2.07M [00:00<00:00, 136MB/s]\n",
            "Downloading train.csv.zip to /content\n",
            "  0% 0.00/2.13M [00:00<?, ?B/s]\n",
            "100% 2.13M/2.13M [00:00<00:00, 18.9MB/s]\n"
          ],
          "name": "stdout"
        }
      ]
    },
    {
      "cell_type": "code",
      "metadata": {
        "colab": {
          "base_uri": "https://localhost:8080/"
        },
        "id": "uxV566eqIb4T",
        "outputId": "2c64317b-1f70-4fd6-afb9-b31b2f504693"
      },
      "source": [
        "!ls"
      ],
      "id": "uxV566eqIb4T",
      "execution_count": null,
      "outputs": [
        {
          "output_type": "stream",
          "text": [
            "sample_data  sample_submission.csv  test.csv.zip  train.csv.zip\n"
          ],
          "name": "stdout"
        }
      ]
    },
    {
      "cell_type": "code",
      "metadata": {
        "colab": {
          "base_uri": "https://localhost:8080/"
        },
        "id": "a3ewf9j-Lsv2",
        "outputId": "7fea0cef-8600-4ae3-84ef-127e9f8e63a2"
      },
      "source": [
        "!unzip train.csv.zip\n",
        "!unzip test.csv.zip"
      ],
      "id": "a3ewf9j-Lsv2",
      "execution_count": null,
      "outputs": [
        {
          "output_type": "stream",
          "text": [
            "Archive:  train.csv.zip\n",
            "  inflating: train.csv               \n",
            "Archive:  test.csv.zip\n",
            "  inflating: test.csv                \n"
          ],
          "name": "stdout"
        }
      ]
    },
    {
      "cell_type": "code",
      "metadata": {
        "execution": {
          "iopub.execute_input": "2021-04-22T12:23:08.878803Z",
          "iopub.status.busy": "2021-04-22T12:23:08.863013Z",
          "iopub.status.idle": "2021-04-22T12:23:58.553777Z",
          "shell.execute_reply": "2021-04-22T12:23:58.554382Z"
        },
        "papermill": {
          "duration": 49.757264,
          "end_time": "2021-04-22T12:23:58.554743",
          "exception": false,
          "start_time": "2021-04-22T12:23:08.797479",
          "status": "completed"
        },
        "tags": [],
        "colab": {
          "base_uri": "https://localhost:8080/"
        },
        "id": "existing-fleet",
        "outputId": "d8a0475a-3b68-437a-a412-0848791dab08"
      },
      "source": [
        "!pip install pycaret"
      ],
      "id": "existing-fleet",
      "execution_count": null,
      "outputs": [
        {
          "output_type": "stream",
          "text": [
            "Collecting pycaret\n",
            "\u001b[?25l  Downloading https://files.pythonhosted.org/packages/30/4b/c2b856b18c0553238908f34d53e6c211f3cc4bfa13a8e8d522567a00b3d7/pycaret-2.3.0-py3-none-any.whl (261kB)\n",
            "\r\u001b[K     |█▎                              | 10kB 10.1MB/s eta 0:00:01\r\u001b[K     |██▌                             | 20kB 13.6MB/s eta 0:00:01\r\u001b[K     |███▊                            | 30kB 16.1MB/s eta 0:00:01\r\u001b[K     |█████                           | 40kB 17.6MB/s eta 0:00:01\r\u001b[K     |██████▎                         | 51kB 19.3MB/s eta 0:00:01\r\u001b[K     |███████▌                        | 61kB 18.1MB/s eta 0:00:01\r\u001b[K     |████████▊                       | 71kB 14.5MB/s eta 0:00:01\r\u001b[K     |██████████                      | 81kB 14.6MB/s eta 0:00:01\r\u001b[K     |███████████▎                    | 92kB 14.8MB/s eta 0:00:01\r\u001b[K     |████████████▌                   | 102kB 15.6MB/s eta 0:00:01\r\u001b[K     |█████████████▊                  | 112kB 15.6MB/s eta 0:00:01\r\u001b[K     |███████████████                 | 122kB 15.6MB/s eta 0:00:01\r\u001b[K     |████████████████▎               | 133kB 15.6MB/s eta 0:00:01\r\u001b[K     |█████████████████▌              | 143kB 15.6MB/s eta 0:00:01\r\u001b[K     |██████████████████▉             | 153kB 15.6MB/s eta 0:00:01\r\u001b[K     |████████████████████            | 163kB 15.6MB/s eta 0:00:01\r\u001b[K     |█████████████████████▎          | 174kB 15.6MB/s eta 0:00:01\r\u001b[K     |██████████████████████▌         | 184kB 15.6MB/s eta 0:00:01\r\u001b[K     |███████████████████████▉        | 194kB 15.6MB/s eta 0:00:01\r\u001b[K     |█████████████████████████       | 204kB 15.6MB/s eta 0:00:01\r\u001b[K     |██████████████████████████▎     | 215kB 15.6MB/s eta 0:00:01\r\u001b[K     |███████████████████████████▌    | 225kB 15.6MB/s eta 0:00:01\r\u001b[K     |████████████████████████████▉   | 235kB 15.6MB/s eta 0:00:01\r\u001b[K     |██████████████████████████████  | 245kB 15.6MB/s eta 0:00:01\r\u001b[K     |███████████████████████████████▎| 256kB 15.6MB/s eta 0:00:01\r\u001b[K     |████████████████████████████████| 266kB 15.6MB/s \n",
            "\u001b[?25hCollecting kmodes>=0.10.1\n",
            "  Downloading https://files.pythonhosted.org/packages/9b/34/fffc601aa4d44b94e945a7cc72f477e09dffa7dce888898f2ffd9f4e343e/kmodes-0.11.0-py2.py3-none-any.whl\n",
            "Collecting Boruta\n",
            "\u001b[?25l  Downloading https://files.pythonhosted.org/packages/b2/11/583f4eac99d802c79af9217e1eff56027742a69e6c866b295cce6a5a8fc2/Boruta-0.3-py3-none-any.whl (56kB)\n",
            "\u001b[K     |████████████████████████████████| 61kB 6.9MB/s \n",
            "\u001b[?25hRequirement already satisfied: numpy==1.19.5 in /usr/local/lib/python3.7/dist-packages (from pycaret) (1.19.5)\n",
            "Requirement already satisfied: IPython in /usr/local/lib/python3.7/dist-packages (from pycaret) (5.5.0)\n",
            "Requirement already satisfied: plotly>=4.4.1 in /usr/local/lib/python3.7/dist-packages (from pycaret) (4.4.1)\n",
            "Collecting pandas-profiling>=2.8.0\n",
            "\u001b[?25l  Downloading https://files.pythonhosted.org/packages/dd/12/e2870750c5320116efe7bebd4ae1709cd7e35e3bc23ac8039864b05b9497/pandas_profiling-2.11.0-py2.py3-none-any.whl (243kB)\n",
            "\u001b[K     |████████████████████████████████| 245kB 36.8MB/s \n",
            "\u001b[?25hCollecting pyod\n",
            "\u001b[?25l  Downloading https://files.pythonhosted.org/packages/37/50/94ac3c301b06e291ce52938e4a037b147cf01b40ff458dea5441ac42addf/pyod-0.8.7.tar.gz (101kB)\n",
            "\u001b[K     |████████████████████████████████| 102kB 9.8MB/s \n",
            "\u001b[?25hCollecting scikit-learn==0.23.2\n",
            "\u001b[?25l  Downloading https://files.pythonhosted.org/packages/f4/cb/64623369f348e9bfb29ff898a57ac7c91ed4921f228e9726546614d63ccb/scikit_learn-0.23.2-cp37-cp37m-manylinux1_x86_64.whl (6.8MB)\n",
            "\u001b[K     |████████████████████████████████| 6.8MB 46.1MB/s \n",
            "\u001b[?25hRequirement already satisfied: ipywidgets in /usr/local/lib/python3.7/dist-packages (from pycaret) (7.6.3)\n",
            "Collecting lightgbm>=2.3.1\n",
            "\u001b[?25l  Downloading https://files.pythonhosted.org/packages/18/b2/fff8370f48549ce223f929fe8cab4ee6bf285a41f86037d91312b48ed95b/lightgbm-3.2.1-py3-none-manylinux1_x86_64.whl (2.0MB)\n",
            "\u001b[K     |████████████████████████████████| 2.0MB 33.6MB/s \n",
            "\u001b[?25hRequirement already satisfied: scipy<=1.5.4 in /usr/local/lib/python3.7/dist-packages (from pycaret) (1.4.1)\n",
            "Collecting yellowbrick>=1.0.1\n",
            "\u001b[?25l  Downloading https://files.pythonhosted.org/packages/3a/15/58feb940b6a2f52d3335cccf9e5d00704ec5ba62782da83f7e2abeca5e4b/yellowbrick-1.3.post1-py3-none-any.whl (271kB)\n",
            "\u001b[K     |████████████████████████████████| 276kB 44.6MB/s \n",
            "\u001b[?25hCollecting scikit-plot\n",
            "  Downloading https://files.pythonhosted.org/packages/7c/47/32520e259340c140a4ad27c1b97050dd3254fdc517b1d59974d47037510e/scikit_plot-0.3.7-py3-none-any.whl\n",
            "Requirement already satisfied: nltk in /usr/local/lib/python3.7/dist-packages (from pycaret) (3.2.5)\n",
            "Requirement already satisfied: cufflinks>=0.17.0 in /usr/local/lib/python3.7/dist-packages (from pycaret) (0.17.3)\n",
            "Collecting pyLDAvis\n",
            "\u001b[?25l  Downloading https://files.pythonhosted.org/packages/03/a5/15a0da6b0150b8b68610cc78af80364a80a9a4c8b6dd5ee549b8989d4b60/pyLDAvis-3.3.1.tar.gz (1.7MB)\n",
            "\u001b[K     |████████████████████████████████| 1.7MB 42.3MB/s \n",
            "\u001b[?25h  Installing build dependencies ... \u001b[?25l\u001b[?25hdone\n",
            "  Getting requirements to build wheel ... \u001b[?25l\u001b[?25hdone\n",
            "  Installing backend dependencies ... \u001b[?25l\u001b[?25hdone\n",
            "    Preparing wheel metadata ... \u001b[?25l\u001b[?25hdone\n",
            "Requirement already satisfied: wordcloud in /usr/local/lib/python3.7/dist-packages (from pycaret) (1.5.0)\n",
            "Requirement already satisfied: pandas in /usr/local/lib/python3.7/dist-packages (from pycaret) (1.1.5)\n",
            "Requirement already satisfied: matplotlib in /usr/local/lib/python3.7/dist-packages (from pycaret) (3.2.2)\n",
            "Requirement already satisfied: seaborn in /usr/local/lib/python3.7/dist-packages (from pycaret) (0.11.1)\n",
            "Collecting umap-learn\n",
            "\u001b[?25l  Downloading https://files.pythonhosted.org/packages/75/69/85e7f950bb75792ad5d666d86c5f3e62eedbb942848e7e3126513af9999c/umap-learn-0.5.1.tar.gz (80kB)\n",
            "\u001b[K     |████████████████████████████████| 81kB 8.6MB/s \n",
            "\u001b[?25hRequirement already satisfied: gensim in /usr/local/lib/python3.7/dist-packages (from pycaret) (3.6.0)\n",
            "Collecting mlflow\n",
            "\u001b[?25l  Downloading https://files.pythonhosted.org/packages/44/03/27a5457d0dfd7cd05016e54c0c00b33e99b968d3cc49e4b87824307f1560/mlflow-1.15.0-py3-none-any.whl (14.2MB)\n",
            "\u001b[K     |████████████████████████████████| 14.2MB 41.1MB/s \n",
            "\u001b[?25hRequirement already satisfied: mlxtend in /usr/local/lib/python3.7/dist-packages (from pycaret) (0.14.0)\n",
            "Collecting imbalanced-learn>=0.7.0\n",
            "\u001b[?25l  Downloading https://files.pythonhosted.org/packages/80/98/dc784205a7e3034e84d41ac4781660c67ad6327f2f5a80c568df31673d1c/imbalanced_learn-0.8.0-py3-none-any.whl (206kB)\n",
            "\u001b[K     |████████████████████████████████| 215kB 48.2MB/s \n",
            "\u001b[?25hRequirement already satisfied: joblib in /usr/local/lib/python3.7/dist-packages (from pycaret) (1.0.1)\n",
            "Requirement already satisfied: textblob in /usr/local/lib/python3.7/dist-packages (from pycaret) (0.15.3)\n",
            "Requirement already satisfied: spacy<2.4.0 in /usr/local/lib/python3.7/dist-packages (from pycaret) (2.2.4)\n",
            "Requirement already satisfied: setuptools>=18.5 in /usr/local/lib/python3.7/dist-packages (from IPython->pycaret) (56.0.0)\n",
            "Requirement already satisfied: decorator in /usr/local/lib/python3.7/dist-packages (from IPython->pycaret) (4.4.2)\n",
            "Requirement already satisfied: traitlets>=4.2 in /usr/local/lib/python3.7/dist-packages (from IPython->pycaret) (5.0.5)\n",
            "Requirement already satisfied: pygments in /usr/local/lib/python3.7/dist-packages (from IPython->pycaret) (2.6.1)\n",
            "Requirement already satisfied: pickleshare in /usr/local/lib/python3.7/dist-packages (from IPython->pycaret) (0.7.5)\n",
            "Requirement already satisfied: prompt-toolkit<2.0.0,>=1.0.4 in /usr/local/lib/python3.7/dist-packages (from IPython->pycaret) (1.0.18)\n",
            "Requirement already satisfied: pexpect; sys_platform != \"win32\" in /usr/local/lib/python3.7/dist-packages (from IPython->pycaret) (4.8.0)\n",
            "Requirement already satisfied: simplegeneric>0.8 in /usr/local/lib/python3.7/dist-packages (from IPython->pycaret) (0.8.1)\n",
            "Requirement already satisfied: retrying>=1.3.3 in /usr/local/lib/python3.7/dist-packages (from plotly>=4.4.1->pycaret) (1.3.3)\n",
            "Requirement already satisfied: six in /usr/local/lib/python3.7/dist-packages (from plotly>=4.4.1->pycaret) (1.15.0)\n",
            "Requirement already satisfied: attrs>=19.3.0 in /usr/local/lib/python3.7/dist-packages (from pandas-profiling>=2.8.0->pycaret) (20.3.0)\n",
            "Collecting tqdm>=4.48.2\n",
            "\u001b[?25l  Downloading https://files.pythonhosted.org/packages/72/8a/34efae5cf9924328a8f34eeb2fdaae14c011462d9f0e3fcded48e1266d1c/tqdm-4.60.0-py2.py3-none-any.whl (75kB)\n",
            "\u001b[K     |████████████████████████████████| 81kB 9.1MB/s \n",
            "\u001b[?25hRequirement already satisfied: missingno>=0.4.2 in /usr/local/lib/python3.7/dist-packages (from pandas-profiling>=2.8.0->pycaret) (0.4.2)\n",
            "Collecting visions[type_image_path]==0.6.0\n",
            "\u001b[?25l  Downloading https://files.pythonhosted.org/packages/98/30/b1e70bc55962239c4c3c9660e892be2d8247a882135a3035c10ff7f02cde/visions-0.6.0-py3-none-any.whl (75kB)\n",
            "\u001b[K     |████████████████████████████████| 81kB 8.0MB/s \n",
            "\u001b[?25hRequirement already satisfied: jinja2>=2.11.1 in /usr/local/lib/python3.7/dist-packages (from pandas-profiling>=2.8.0->pycaret) (2.11.3)\n",
            "Collecting tangled-up-in-unicode>=0.0.6\n",
            "\u001b[?25l  Downloading https://files.pythonhosted.org/packages/ec/d1/58bfbe263494741a47140049b989ad42a8941854e8d34f1af90640c6c9f9/tangled_up_in_unicode-0.0.7-py3-none-any.whl (3.1MB)\n",
            "\u001b[K     |████████████████████████████████| 3.2MB 43.0MB/s \n",
            "\u001b[?25hCollecting requests>=2.24.0\n",
            "\u001b[?25l  Downloading https://files.pythonhosted.org/packages/29/c1/24814557f1d22c56d50280771a17307e6bf87b70727d975fd6b2ce6b014a/requests-2.25.1-py2.py3-none-any.whl (61kB)\n",
            "\u001b[K     |████████████████████████████████| 61kB 7.0MB/s \n",
            "\u001b[?25hCollecting htmlmin>=0.1.12\n",
            "  Downloading https://files.pythonhosted.org/packages/b3/e7/fcd59e12169de19f0131ff2812077f964c6b960e7c09804d30a7bf2ab461/htmlmin-0.1.12.tar.gz\n",
            "Collecting phik>=0.10.0\n",
            "\u001b[?25l  Downloading https://files.pythonhosted.org/packages/b7/ce/193e8ddf62d4be643b9b4b20e8e9c63b2f6a20f92778c0410c629f89bdaa/phik-0.11.2.tar.gz (1.1MB)\n",
            "\u001b[K     |████████████████████████████████| 1.1MB 42.0MB/s \n",
            "\u001b[?25hCollecting confuse>=1.0.0\n",
            "  Downloading https://files.pythonhosted.org/packages/6d/55/b4726d81e5d6509fa3441f770f8a9524612627dc1b2a7d6209d1d20083fe/confuse-1.4.0-py2.py3-none-any.whl\n",
            "Requirement already satisfied: numba>=0.35 in /usr/local/lib/python3.7/dist-packages (from pyod->pycaret) (0.51.2)\n",
            "Requirement already satisfied: statsmodels in /usr/local/lib/python3.7/dist-packages (from pyod->pycaret) (0.10.2)\n",
            "Collecting threadpoolctl>=2.0.0\n",
            "  Downloading https://files.pythonhosted.org/packages/f7/12/ec3f2e203afa394a149911729357aa48affc59c20e2c1c8297a60f33f133/threadpoolctl-2.1.0-py3-none-any.whl\n",
            "Requirement already satisfied: ipykernel>=4.5.1 in /usr/local/lib/python3.7/dist-packages (from ipywidgets->pycaret) (4.10.1)\n",
            "Requirement already satisfied: widgetsnbextension~=3.5.0 in /usr/local/lib/python3.7/dist-packages (from ipywidgets->pycaret) (3.5.1)\n",
            "Requirement already satisfied: jupyterlab-widgets>=1.0.0; python_version >= \"3.6\" in /usr/local/lib/python3.7/dist-packages (from ipywidgets->pycaret) (1.0.0)\n",
            "Requirement already satisfied: nbformat>=4.2.0 in /usr/local/lib/python3.7/dist-packages (from ipywidgets->pycaret) (5.1.3)\n",
            "Requirement already satisfied: wheel in /usr/local/lib/python3.7/dist-packages (from lightgbm>=2.3.1->pycaret) (0.36.2)\n",
            "Requirement already satisfied: cycler>=0.10.0 in /usr/local/lib/python3.7/dist-packages (from yellowbrick>=1.0.1->pycaret) (0.10.0)\n",
            "Requirement already satisfied: colorlover>=0.2.1 in /usr/local/lib/python3.7/dist-packages (from cufflinks>=0.17.0->pycaret) (0.3.0)\n",
            "Requirement already satisfied: numexpr in /usr/local/lib/python3.7/dist-packages (from pyLDAvis->pycaret) (2.7.3)\n",
            "Requirement already satisfied: future in /usr/local/lib/python3.7/dist-packages (from pyLDAvis->pycaret) (0.16.0)\n",
            "Collecting funcy\n",
            "  Downloading https://files.pythonhosted.org/packages/66/89/479de0afbbfb98d1c4b887936808764627300208bb771fcd823403645a36/funcy-1.15-py2.py3-none-any.whl\n",
            "Requirement already satisfied: sklearn in /usr/local/lib/python3.7/dist-packages (from pyLDAvis->pycaret) (0.0)\n",
            "Requirement already satisfied: pillow in /usr/local/lib/python3.7/dist-packages (from wordcloud->pycaret) (7.1.2)\n",
            "Requirement already satisfied: pytz>=2017.2 in /usr/local/lib/python3.7/dist-packages (from pandas->pycaret) (2018.9)\n",
            "Requirement already satisfied: python-dateutil>=2.7.3 in /usr/local/lib/python3.7/dist-packages (from pandas->pycaret) (2.8.1)\n",
            "Requirement already satisfied: kiwisolver>=1.0.1 in /usr/local/lib/python3.7/dist-packages (from matplotlib->pycaret) (1.3.1)\n",
            "Requirement already satisfied: pyparsing!=2.0.4,!=2.1.2,!=2.1.6,>=2.0.1 in /usr/local/lib/python3.7/dist-packages (from matplotlib->pycaret) (2.4.7)\n",
            "Collecting pynndescent>=0.5\n",
            "\u001b[?25l  Downloading https://files.pythonhosted.org/packages/af/65/8189298dd3a05bbad716ee8e249764ff8800e365d8dc652ad2192ca01b4a/pynndescent-0.5.2.tar.gz (1.1MB)\n",
            "\u001b[K     |████████████████████████████████| 1.2MB 34.6MB/s \n",
            "\u001b[?25hRequirement already satisfied: smart-open>=1.2.1 in /usr/local/lib/python3.7/dist-packages (from gensim->pycaret) (5.0.0)\n",
            "Requirement already satisfied: click>=7.0 in /usr/local/lib/python3.7/dist-packages (from mlflow->pycaret) (7.1.2)\n",
            "Requirement already satisfied: cloudpickle in /usr/local/lib/python3.7/dist-packages (from mlflow->pycaret) (1.3.0)\n",
            "Collecting databricks-cli>=0.8.7\n",
            "\u001b[?25l  Downloading https://files.pythonhosted.org/packages/bc/af/631375abc29e59cedfa4467a5f7755503ba19898890751e1f2636ef02f92/databricks-cli-0.14.3.tar.gz (54kB)\n",
            "\u001b[K     |████████████████████████████████| 61kB 6.5MB/s \n",
            "\u001b[?25hCollecting alembic<=1.4.1\n",
            "\u001b[?25l  Downloading https://files.pythonhosted.org/packages/e0/e9/359dbb77c35c419df0aedeb1d53e71e7e3f438ff64a8fdb048c907404de3/alembic-1.4.1.tar.gz (1.1MB)\n",
            "\u001b[K     |████████████████████████████████| 1.1MB 37.9MB/s \n",
            "\u001b[?25hRequirement already satisfied: protobuf>=3.6.0 in /usr/local/lib/python3.7/dist-packages (from mlflow->pycaret) (3.12.4)\n",
            "Collecting querystring-parser\n",
            "  Downloading https://files.pythonhosted.org/packages/88/6b/572b2590fd55114118bf08bde63c0a421dcc82d593700f3e2ad89908a8a9/querystring_parser-1.2.4-py2.py3-none-any.whl\n",
            "Collecting prometheus-flask-exporter\n",
            "  Downloading https://files.pythonhosted.org/packages/4c/d5/8a046d683c2cc084b6a502812827ede69b1064f95d93f94b83f809b21723/prometheus_flask_exporter-0.18.1.tar.gz\n",
            "Requirement already satisfied: Flask in /usr/local/lib/python3.7/dist-packages (from mlflow->pycaret) (1.1.2)\n",
            "Requirement already satisfied: entrypoints in /usr/local/lib/python3.7/dist-packages (from mlflow->pycaret) (0.3)\n",
            "Collecting docker>=4.0.0\n",
            "\u001b[?25l  Downloading https://files.pythonhosted.org/packages/b2/5a/f988909dfed18c1ac42ad8d9e611e6c5657e270aa6eb68559985dbb69c13/docker-5.0.0-py2.py3-none-any.whl (146kB)\n",
            "\u001b[K     |████████████████████████████████| 153kB 45.3MB/s \n",
            "\u001b[?25hCollecting gunicorn; platform_system != \"Windows\"\n",
            "\u001b[?25l  Downloading https://files.pythonhosted.org/packages/28/5b/0d1f0296485a6af03366604142ea8f19f0833894db3512a40ed07b2a56dd/gunicorn-20.1.0.tar.gz (370kB)\n",
            "\u001b[K     |████████████████████████████████| 378kB 44.4MB/s \n",
            "\u001b[?25hRequirement already satisfied: pyyaml in /usr/local/lib/python3.7/dist-packages (from mlflow->pycaret) (3.13)\n",
            "Collecting gitpython>=2.1.0\n",
            "\u001b[?25l  Downloading https://files.pythonhosted.org/packages/a6/99/98019716955ba243657daedd1de8f3a88ca1f5b75057c38e959db22fb87b/GitPython-3.1.14-py3-none-any.whl (159kB)\n",
            "\u001b[K     |████████████████████████████████| 163kB 45.7MB/s \n",
            "\u001b[?25hRequirement already satisfied: sqlparse>=0.3.1 in /usr/local/lib/python3.7/dist-packages (from mlflow->pycaret) (0.4.1)\n",
            "Requirement already satisfied: sqlalchemy in /usr/local/lib/python3.7/dist-packages (from mlflow->pycaret) (1.4.7)\n",
            "Requirement already satisfied: cymem<2.1.0,>=2.0.2 in /usr/local/lib/python3.7/dist-packages (from spacy<2.4.0->pycaret) (2.0.5)\n",
            "Requirement already satisfied: wasabi<1.1.0,>=0.4.0 in /usr/local/lib/python3.7/dist-packages (from spacy<2.4.0->pycaret) (0.8.2)\n",
            "Requirement already satisfied: thinc==7.4.0 in /usr/local/lib/python3.7/dist-packages (from spacy<2.4.0->pycaret) (7.4.0)\n",
            "Requirement already satisfied: plac<1.2.0,>=0.9.6 in /usr/local/lib/python3.7/dist-packages (from spacy<2.4.0->pycaret) (1.1.3)\n",
            "Requirement already satisfied: preshed<3.1.0,>=3.0.2 in /usr/local/lib/python3.7/dist-packages (from spacy<2.4.0->pycaret) (3.0.5)\n",
            "Requirement already satisfied: srsly<1.1.0,>=1.0.2 in /usr/local/lib/python3.7/dist-packages (from spacy<2.4.0->pycaret) (1.0.5)\n",
            "Requirement already satisfied: murmurhash<1.1.0,>=0.28.0 in /usr/local/lib/python3.7/dist-packages (from spacy<2.4.0->pycaret) (1.0.5)\n",
            "Requirement already satisfied: blis<0.5.0,>=0.4.0 in /usr/local/lib/python3.7/dist-packages (from spacy<2.4.0->pycaret) (0.4.1)\n",
            "Requirement already satisfied: catalogue<1.1.0,>=0.0.7 in /usr/local/lib/python3.7/dist-packages (from spacy<2.4.0->pycaret) (1.0.0)\n",
            "Requirement already satisfied: ipython-genutils in /usr/local/lib/python3.7/dist-packages (from traitlets>=4.2->IPython->pycaret) (0.2.0)\n",
            "Requirement already satisfied: wcwidth in /usr/local/lib/python3.7/dist-packages (from prompt-toolkit<2.0.0,>=1.0.4->IPython->pycaret) (0.2.5)\n",
            "Requirement already satisfied: ptyprocess>=0.5 in /usr/local/lib/python3.7/dist-packages (from pexpect; sys_platform != \"win32\"->IPython->pycaret) (0.7.0)\n",
            "Requirement already satisfied: networkx>=2.4 in /usr/local/lib/python3.7/dist-packages (from visions[type_image_path]==0.6.0->pandas-profiling>=2.8.0->pycaret) (2.5.1)\n",
            "Collecting imagehash; extra == \"type_image_path\"\n",
            "\u001b[?25l  Downloading https://files.pythonhosted.org/packages/8e/18/9dbb772b5ef73a3069c66bb5bf29b9fb4dd57af0d5790c781c3f559bcca6/ImageHash-4.2.0-py2.py3-none-any.whl (295kB)\n",
            "\u001b[K     |████████████████████████████████| 296kB 54.3MB/s \n",
            "\u001b[?25hRequirement already satisfied: MarkupSafe>=0.23 in /usr/local/lib/python3.7/dist-packages (from jinja2>=2.11.1->pandas-profiling>=2.8.0->pycaret) (1.1.1)\n",
            "Requirement already satisfied: urllib3<1.27,>=1.21.1 in /usr/local/lib/python3.7/dist-packages (from requests>=2.24.0->pandas-profiling>=2.8.0->pycaret) (1.24.3)\n",
            "Requirement already satisfied: idna<3,>=2.5 in /usr/local/lib/python3.7/dist-packages (from requests>=2.24.0->pandas-profiling>=2.8.0->pycaret) (2.10)\n",
            "Requirement already satisfied: chardet<5,>=3.0.2 in /usr/local/lib/python3.7/dist-packages (from requests>=2.24.0->pandas-profiling>=2.8.0->pycaret) (3.0.4)\n",
            "Requirement already satisfied: certifi>=2017.4.17 in /usr/local/lib/python3.7/dist-packages (from requests>=2.24.0->pandas-profiling>=2.8.0->pycaret) (2020.12.5)\n",
            "Requirement already satisfied: llvmlite<0.35,>=0.34.0.dev0 in /usr/local/lib/python3.7/dist-packages (from numba>=0.35->pyod->pycaret) (0.34.0)\n",
            "Requirement already satisfied: patsy>=0.4.0 in /usr/local/lib/python3.7/dist-packages (from statsmodels->pyod->pycaret) (0.5.1)\n",
            "Requirement already satisfied: jupyter-client in /usr/local/lib/python3.7/dist-packages (from ipykernel>=4.5.1->ipywidgets->pycaret) (5.3.5)\n",
            "Requirement already satisfied: tornado>=4.0 in /usr/local/lib/python3.7/dist-packages (from ipykernel>=4.5.1->ipywidgets->pycaret) (5.1.1)\n",
            "Requirement already satisfied: notebook>=4.4.1 in /usr/local/lib/python3.7/dist-packages (from widgetsnbextension~=3.5.0->ipywidgets->pycaret) (5.3.1)\n",
            "Requirement already satisfied: jupyter-core in /usr/local/lib/python3.7/dist-packages (from nbformat>=4.2.0->ipywidgets->pycaret) (4.7.1)\n",
            "Requirement already satisfied: jsonschema!=2.5.0,>=2.4 in /usr/local/lib/python3.7/dist-packages (from nbformat>=4.2.0->ipywidgets->pycaret) (2.6.0)\n",
            "Requirement already satisfied: tabulate>=0.7.7 in /usr/local/lib/python3.7/dist-packages (from databricks-cli>=0.8.7->mlflow->pycaret) (0.8.9)\n",
            "Collecting Mako\n",
            "\u001b[?25l  Downloading https://files.pythonhosted.org/packages/f3/54/dbc07fbb20865d3b78fdb7cf7fa713e2cba4f87f71100074ef2dc9f9d1f7/Mako-1.1.4-py2.py3-none-any.whl (75kB)\n",
            "\u001b[K     |████████████████████████████████| 81kB 9.1MB/s \n",
            "\u001b[?25hCollecting python-editor>=0.3\n",
            "  Downloading https://files.pythonhosted.org/packages/c6/d3/201fc3abe391bbae6606e6f1d598c15d367033332bd54352b12f35513717/python_editor-1.0.4-py3-none-any.whl\n",
            "Requirement already satisfied: prometheus_client in /usr/local/lib/python3.7/dist-packages (from prometheus-flask-exporter->mlflow->pycaret) (0.10.1)\n",
            "Requirement already satisfied: Werkzeug>=0.15 in /usr/local/lib/python3.7/dist-packages (from Flask->mlflow->pycaret) (1.0.1)\n",
            "Requirement already satisfied: itsdangerous>=0.24 in /usr/local/lib/python3.7/dist-packages (from Flask->mlflow->pycaret) (1.1.0)\n",
            "Collecting websocket-client>=0.32.0\n",
            "\u001b[?25l  Downloading https://files.pythonhosted.org/packages/08/33/80e0d4f60e84a1ddd9a03f340be1065a2a363c47ce65c4bd3bae65ce9631/websocket_client-0.58.0-py2.py3-none-any.whl (61kB)\n",
            "\u001b[K     |████████████████████████████████| 61kB 6.3MB/s \n",
            "\u001b[?25hCollecting gitdb<5,>=4.0.1\n",
            "\u001b[?25l  Downloading https://files.pythonhosted.org/packages/ea/e8/f414d1a4f0bbc668ed441f74f44c116d9816833a48bf81d22b697090dba8/gitdb-4.0.7-py3-none-any.whl (63kB)\n",
            "\u001b[K     |████████████████████████████████| 71kB 7.9MB/s \n",
            "\u001b[?25hRequirement already satisfied: importlib-metadata; python_version < \"3.8\" in /usr/local/lib/python3.7/dist-packages (from sqlalchemy->mlflow->pycaret) (3.10.1)\n",
            "Requirement already satisfied: greenlet!=0.4.17; python_version >= \"3\" in /usr/local/lib/python3.7/dist-packages (from sqlalchemy->mlflow->pycaret) (1.0.0)\n",
            "Requirement already satisfied: PyWavelets in /usr/local/lib/python3.7/dist-packages (from imagehash; extra == \"type_image_path\"->visions[type_image_path]==0.6.0->pandas-profiling>=2.8.0->pycaret) (1.1.1)\n",
            "Requirement already satisfied: pyzmq>=13 in /usr/local/lib/python3.7/dist-packages (from jupyter-client->ipykernel>=4.5.1->ipywidgets->pycaret) (22.0.3)\n",
            "Requirement already satisfied: nbconvert in /usr/local/lib/python3.7/dist-packages (from notebook>=4.4.1->widgetsnbextension~=3.5.0->ipywidgets->pycaret) (5.6.1)\n",
            "Requirement already satisfied: Send2Trash in /usr/local/lib/python3.7/dist-packages (from notebook>=4.4.1->widgetsnbextension~=3.5.0->ipywidgets->pycaret) (1.5.0)\n",
            "Requirement already satisfied: terminado>=0.8.1 in /usr/local/lib/python3.7/dist-packages (from notebook>=4.4.1->widgetsnbextension~=3.5.0->ipywidgets->pycaret) (0.9.4)\n",
            "Collecting smmap<5,>=3.0.1\n",
            "  Downloading https://files.pythonhosted.org/packages/68/ee/d540eb5e5996eb81c26ceffac6ee49041d473bc5125f2aa995cf51ec1cf1/smmap-4.0.0-py2.py3-none-any.whl\n",
            "Requirement already satisfied: typing-extensions>=3.6.4; python_version < \"3.8\" in /usr/local/lib/python3.7/dist-packages (from importlib-metadata; python_version < \"3.8\"->sqlalchemy->mlflow->pycaret) (3.7.4.3)\n",
            "Requirement already satisfied: zipp>=0.5 in /usr/local/lib/python3.7/dist-packages (from importlib-metadata; python_version < \"3.8\"->sqlalchemy->mlflow->pycaret) (3.4.1)\n",
            "Requirement already satisfied: pandocfilters>=1.4.1 in /usr/local/lib/python3.7/dist-packages (from nbconvert->notebook>=4.4.1->widgetsnbextension~=3.5.0->ipywidgets->pycaret) (1.4.3)\n",
            "Requirement already satisfied: bleach in /usr/local/lib/python3.7/dist-packages (from nbconvert->notebook>=4.4.1->widgetsnbextension~=3.5.0->ipywidgets->pycaret) (3.3.0)\n",
            "Requirement already satisfied: mistune<2,>=0.8.1 in /usr/local/lib/python3.7/dist-packages (from nbconvert->notebook>=4.4.1->widgetsnbextension~=3.5.0->ipywidgets->pycaret) (0.8.4)\n",
            "Requirement already satisfied: defusedxml in /usr/local/lib/python3.7/dist-packages (from nbconvert->notebook>=4.4.1->widgetsnbextension~=3.5.0->ipywidgets->pycaret) (0.7.1)\n",
            "Requirement already satisfied: testpath in /usr/local/lib/python3.7/dist-packages (from nbconvert->notebook>=4.4.1->widgetsnbextension~=3.5.0->ipywidgets->pycaret) (0.4.4)\n",
            "Requirement already satisfied: webencodings in /usr/local/lib/python3.7/dist-packages (from bleach->nbconvert->notebook>=4.4.1->widgetsnbextension~=3.5.0->ipywidgets->pycaret) (0.5.1)\n",
            "Requirement already satisfied: packaging in /usr/local/lib/python3.7/dist-packages (from bleach->nbconvert->notebook>=4.4.1->widgetsnbextension~=3.5.0->ipywidgets->pycaret) (20.9)\n",
            "Building wheels for collected packages: pyLDAvis\n",
            "  Building wheel for pyLDAvis (PEP 517) ... \u001b[?25l\u001b[?25hdone\n",
            "  Created wheel for pyLDAvis: filename=pyLDAvis-3.3.1-cp37-none-any.whl size=136870 sha256=6eed1855b60f6f522126c23f72c0e7227859a245a1a9dd52979673869e54cbe0\n",
            "  Stored in directory: /root/.cache/pip/wheels/a0/9c/fc/c6e00689d35c82cf96a8adc70edfe7ba7904374fdac3240ac2\n",
            "Successfully built pyLDAvis\n",
            "Building wheels for collected packages: pyod, umap-learn, htmlmin, phik, pynndescent, databricks-cli, alembic, prometheus-flask-exporter, gunicorn\n",
            "  Building wheel for pyod (setup.py) ... \u001b[?25l\u001b[?25hdone\n",
            "  Created wheel for pyod: filename=pyod-0.8.7-cp37-none-any.whl size=115979 sha256=6de3fe0d9882f06774a59f83222235d5c4633122046ec6e5ce2c9dd83ef8981d\n",
            "  Stored in directory: /root/.cache/pip/wheels/b7/8a/c9/5fe3f32692ad445fe573cf5b953d7a0d55dc1f7c8e229ebda0\n",
            "  Building wheel for umap-learn (setup.py) ... \u001b[?25l\u001b[?25hdone\n",
            "  Created wheel for umap-learn: filename=umap_learn-0.5.1-cp37-none-any.whl size=76569 sha256=7679f735de646291ad48750be84ce9e5b33480101611e0a7320893806c045815\n",
            "  Stored in directory: /root/.cache/pip/wheels/ad/df/d5/a3691296ff779f25cd1cf415a3af954b987fb53111e3392cf4\n",
            "  Building wheel for htmlmin (setup.py) ... \u001b[?25l\u001b[?25hdone\n",
            "  Created wheel for htmlmin: filename=htmlmin-0.1.12-cp37-none-any.whl size=27085 sha256=b064639f065044dbc932aa9ee273da05577e54b52a9cdd415142a14c52d5d7a6\n",
            "  Stored in directory: /root/.cache/pip/wheels/43/07/ac/7c5a9d708d65247ac1f94066cf1db075540b85716c30255459\n",
            "  Building wheel for phik (setup.py) ... \u001b[?25l\u001b[?25hdone\n",
            "  Created wheel for phik: filename=phik-0.11.2-cp37-none-any.whl size=1107413 sha256=851ee58eede0cf75560f43c6967f157323ce21a26ae34c0c6fe46629c848d58d\n",
            "  Stored in directory: /root/.cache/pip/wheels/c0/a3/b0/f27b1cfe32ea131a3715169132ff6d85653789e80e966c3bf6\n",
            "  Building wheel for pynndescent (setup.py) ... \u001b[?25l\u001b[?25hdone\n",
            "  Created wheel for pynndescent: filename=pynndescent-0.5.2-cp37-none-any.whl size=51351 sha256=5c175457af591b96eaaa78259d6086dfc12f0bfb510a29526a637ccd82de4c0b\n",
            "  Stored in directory: /root/.cache/pip/wheels/ba/52/4e/4c28d04d144a28f89e2575fb63628df6e6d49b56c5ddd0c74e\n",
            "  Building wheel for databricks-cli (setup.py) ... \u001b[?25l\u001b[?25hdone\n",
            "  Created wheel for databricks-cli: filename=databricks_cli-0.14.3-cp37-none-any.whl size=100557 sha256=8ad9175cf4f110485df1398584e979f064b6acbf1ec90de4b49a4417cdd6224a\n",
            "  Stored in directory: /root/.cache/pip/wheels/5b/24/f3/34d8e3964dac4ba849d844273c49a679111b00d5799ebb934a\n",
            "  Building wheel for alembic (setup.py) ... \u001b[?25l\u001b[?25hdone\n",
            "  Created wheel for alembic: filename=alembic-1.4.1-py2.py3-none-any.whl size=158155 sha256=7651d5cedf035c4c1d4f3a88560135cc03b60b733f70422bf0d9355a4d5ff9fd\n",
            "  Stored in directory: /root/.cache/pip/wheels/84/07/f7/12f7370ca47a66030c2edeedcc23dec26ea0ac22dcb4c4a0f3\n",
            "  Building wheel for prometheus-flask-exporter (setup.py) ... \u001b[?25l\u001b[?25hdone\n",
            "  Created wheel for prometheus-flask-exporter: filename=prometheus_flask_exporter-0.18.1-cp37-none-any.whl size=17159 sha256=94421aaa05e8f972b9f01d6e3c1f07f371a33c90e7bcea49904b9167608ee853\n",
            "  Stored in directory: /root/.cache/pip/wheels/b4/1f/b8/66bd9bc3a9d6c6987ff6c4dfeb6f1fe97b5a0e5ed5849c0437\n",
            "  Building wheel for gunicorn (setup.py) ... \u001b[?25l\u001b[?25hdone\n",
            "  Created wheel for gunicorn: filename=gunicorn-20.1.0-cp37-none-any.whl size=78918 sha256=9ee6d31dde89e0738d378ffede704cded53cf3a4580b5b6670f8e8b692670632\n",
            "  Stored in directory: /root/.cache/pip/wheels/4c/ea/e2/698dde91d46e32a449e60f785a91954f67f72fea8890bb1072\n",
            "Successfully built pyod umap-learn htmlmin phik pynndescent databricks-cli alembic prometheus-flask-exporter gunicorn\n",
            "\u001b[31mERROR: imbalanced-learn 0.8.0 has requirement scikit-learn>=0.24, but you'll have scikit-learn 0.23.2 which is incompatible.\u001b[0m\n",
            "\u001b[31mERROR: google-colab 1.0.0 has requirement requests~=2.23.0, but you'll have requests 2.25.1 which is incompatible.\u001b[0m\n",
            "\u001b[31mERROR: datascience 0.10.6 has requirement folium==0.2.1, but you'll have folium 0.8.3 which is incompatible.\u001b[0m\n",
            "\u001b[31mERROR: phik 0.11.2 has requirement scipy>=1.5.2, but you'll have scipy 1.4.1 which is incompatible.\u001b[0m\n",
            "\u001b[31mERROR: pyldavis 3.3.1 has requirement numpy>=1.20.0, but you'll have numpy 1.19.5 which is incompatible.\u001b[0m\n",
            "\u001b[31mERROR: pyldavis 3.3.1 has requirement pandas>=1.2.0, but you'll have pandas 1.1.5 which is incompatible.\u001b[0m\n",
            "Installing collected packages: threadpoolctl, scikit-learn, kmodes, Boruta, tqdm, tangled-up-in-unicode, imagehash, visions, requests, htmlmin, phik, confuse, pandas-profiling, pyod, lightgbm, yellowbrick, scikit-plot, funcy, pyLDAvis, pynndescent, umap-learn, databricks-cli, Mako, python-editor, alembic, querystring-parser, prometheus-flask-exporter, websocket-client, docker, gunicorn, smmap, gitdb, gitpython, mlflow, imbalanced-learn, pycaret\n",
            "  Found existing installation: scikit-learn 0.22.2.post1\n",
            "    Uninstalling scikit-learn-0.22.2.post1:\n",
            "      Successfully uninstalled scikit-learn-0.22.2.post1\n",
            "  Found existing installation: tqdm 4.41.1\n",
            "    Uninstalling tqdm-4.41.1:\n",
            "      Successfully uninstalled tqdm-4.41.1\n",
            "  Found existing installation: requests 2.23.0\n",
            "    Uninstalling requests-2.23.0:\n",
            "      Successfully uninstalled requests-2.23.0\n",
            "  Found existing installation: pandas-profiling 1.4.1\n",
            "    Uninstalling pandas-profiling-1.4.1:\n",
            "      Successfully uninstalled pandas-profiling-1.4.1\n",
            "  Found existing installation: lightgbm 2.2.3\n",
            "    Uninstalling lightgbm-2.2.3:\n",
            "      Successfully uninstalled lightgbm-2.2.3\n",
            "  Found existing installation: yellowbrick 0.9.1\n",
            "    Uninstalling yellowbrick-0.9.1:\n",
            "      Successfully uninstalled yellowbrick-0.9.1\n",
            "  Found existing installation: imbalanced-learn 0.4.3\n",
            "    Uninstalling imbalanced-learn-0.4.3:\n",
            "      Successfully uninstalled imbalanced-learn-0.4.3\n",
            "Successfully installed Boruta-0.3 Mako-1.1.4 alembic-1.4.1 confuse-1.4.0 databricks-cli-0.14.3 docker-5.0.0 funcy-1.15 gitdb-4.0.7 gitpython-3.1.14 gunicorn-20.1.0 htmlmin-0.1.12 imagehash-4.2.0 imbalanced-learn-0.8.0 kmodes-0.11.0 lightgbm-3.2.1 mlflow-1.15.0 pandas-profiling-2.11.0 phik-0.11.2 prometheus-flask-exporter-0.18.1 pyLDAvis-3.3.1 pycaret-2.3.0 pynndescent-0.5.2 pyod-0.8.7 python-editor-1.0.4 querystring-parser-1.2.4 requests-2.25.1 scikit-learn-0.23.2 scikit-plot-0.3.7 smmap-4.0.0 tangled-up-in-unicode-0.0.7 threadpoolctl-2.1.0 tqdm-4.60.0 umap-learn-0.5.1 visions-0.6.0 websocket-client-0.58.0 yellowbrick-1.3.post1\n"
          ],
          "name": "stdout"
        }
      ]
    },
    {
      "cell_type": "code",
      "metadata": {
        "colab": {
          "base_uri": "https://localhost:8080/"
        },
        "id": "L8mh_5Q2JofO",
        "outputId": "a485b21d-6eec-4e23-adf5-f7d729a5b519"
      },
      "source": [
        "!pip install optuna-dashboard"
      ],
      "id": "L8mh_5Q2JofO",
      "execution_count": null,
      "outputs": [
        {
          "output_type": "stream",
          "text": [
            "Collecting optuna-dashboard\n",
            "\u001b[?25l  Downloading https://files.pythonhosted.org/packages/68/d1/6fe11238d28f8996496735927f9e966d116194803cf5e804c1c6a1a1ab46/optuna_dashboard-0.4.1-py3-none-any.whl (1.2MB)\n",
            "\u001b[K     |████████████████████████████████| 1.2MB 16.6MB/s \n",
            "\u001b[?25hCollecting bottle\n",
            "\u001b[?25l  Downloading https://files.pythonhosted.org/packages/bf/44/aeafdd6ca05a8e1c3f91eeeb272a202d5cb1b3b23730a5ca686a81c48d24/bottle-0.12.19-py3-none-any.whl (89kB)\n",
            "\u001b[K     |████████████████████████████████| 92kB 9.0MB/s \n",
            "\u001b[?25hRequirement already satisfied: typing-extensions; python_version < \"3.8\" in /usr/local/lib/python3.7/dist-packages (from optuna-dashboard) (3.7.4.3)\n",
            "Collecting optuna>=2.4\n",
            "\u001b[?25l  Downloading https://files.pythonhosted.org/packages/2b/21/d13081805e1e1afc71f5bb743ece324c8bd576237c51b899ecb38a717502/optuna-2.7.0-py3-none-any.whl (293kB)\n",
            "\u001b[K     |████████████████████████████████| 296kB 44.0MB/s \n",
            "\u001b[?25hRequirement already satisfied: scikit-learn in /usr/local/lib/python3.7/dist-packages (from optuna-dashboard) (0.23.2)\n",
            "Requirement already satisfied: tqdm in /usr/local/lib/python3.7/dist-packages (from optuna>=2.4->optuna-dashboard) (4.60.0)\n",
            "Requirement already satisfied: packaging>=20.0 in /usr/local/lib/python3.7/dist-packages (from optuna>=2.4->optuna-dashboard) (20.9)\n",
            "Requirement already satisfied: alembic in /usr/local/lib/python3.7/dist-packages (from optuna>=2.4->optuna-dashboard) (1.4.1)\n",
            "Requirement already satisfied: scipy!=1.4.0 in /usr/local/lib/python3.7/dist-packages (from optuna>=2.4->optuna-dashboard) (1.4.1)\n",
            "Collecting cmaes>=0.8.2\n",
            "  Downloading https://files.pythonhosted.org/packages/01/1f/43b01223a0366171f474320c6e966c39a11587287f098a5f09809b45e05f/cmaes-0.8.2-py3-none-any.whl\n",
            "Collecting cliff\n",
            "\u001b[?25l  Downloading https://files.pythonhosted.org/packages/a2/d6/7d9acb68a77acd140be7fececb7f2701b2a29d2da9c54184cb8f93509590/cliff-3.7.0-py3-none-any.whl (80kB)\n",
            "\u001b[K     |████████████████████████████████| 81kB 7.8MB/s \n",
            "\u001b[?25hRequirement already satisfied: sqlalchemy>=1.1.0 in /usr/local/lib/python3.7/dist-packages (from optuna>=2.4->optuna-dashboard) (1.4.7)\n",
            "Requirement already satisfied: numpy in /usr/local/lib/python3.7/dist-packages (from optuna>=2.4->optuna-dashboard) (1.19.5)\n",
            "Collecting colorlog\n",
            "  Downloading https://files.pythonhosted.org/packages/32/e6/e9ddc6fa1104fda718338b341e4b3dc31cd8039ab29e52fc73b508515361/colorlog-5.0.1-py2.py3-none-any.whl\n",
            "Requirement already satisfied: threadpoolctl>=2.0.0 in /usr/local/lib/python3.7/dist-packages (from scikit-learn->optuna-dashboard) (2.1.0)\n",
            "Requirement already satisfied: joblib>=0.11 in /usr/local/lib/python3.7/dist-packages (from scikit-learn->optuna-dashboard) (1.0.1)\n",
            "Requirement already satisfied: pyparsing>=2.0.2 in /usr/local/lib/python3.7/dist-packages (from packaging>=20.0->optuna>=2.4->optuna-dashboard) (2.4.7)\n",
            "Requirement already satisfied: python-editor>=0.3 in /usr/local/lib/python3.7/dist-packages (from alembic->optuna>=2.4->optuna-dashboard) (1.0.4)\n",
            "Requirement already satisfied: python-dateutil in /usr/local/lib/python3.7/dist-packages (from alembic->optuna>=2.4->optuna-dashboard) (2.8.1)\n",
            "Requirement already satisfied: Mako in /usr/local/lib/python3.7/dist-packages (from alembic->optuna>=2.4->optuna-dashboard) (1.1.4)\n",
            "Collecting cmd2>=1.0.0\n",
            "\u001b[?25l  Downloading https://files.pythonhosted.org/packages/15/8b/15061b32332bb35ea2a2f6263d0f616779d576e82739ec8e7fcf3c94abf5/cmd2-1.5.0-py3-none-any.whl (133kB)\n",
            "\u001b[K     |████████████████████████████████| 143kB 42.6MB/s \n",
            "\u001b[?25hRequirement already satisfied: PyYAML>=3.12 in /usr/local/lib/python3.7/dist-packages (from cliff->optuna>=2.4->optuna-dashboard) (3.13)\n",
            "Collecting stevedore>=2.0.1\n",
            "\u001b[?25l  Downloading https://files.pythonhosted.org/packages/d4/49/b602307aeac3df3384ff1fcd05da9c0376c622a6c48bb5325f28ab165b57/stevedore-3.3.0-py3-none-any.whl (49kB)\n",
            "\u001b[K     |████████████████████████████████| 51kB 5.9MB/s \n",
            "\u001b[?25hCollecting pbr!=2.1.0,>=2.0.0\n",
            "\u001b[?25l  Downloading https://files.pythonhosted.org/packages/fb/48/69046506f6ac61c1eaa9a0d42d22d54673b69e176d30ca98e3f61513e980/pbr-5.5.1-py2.py3-none-any.whl (106kB)\n",
            "\u001b[K     |████████████████████████████████| 112kB 39.2MB/s \n",
            "\u001b[?25hRequirement already satisfied: PrettyTable>=0.7.2 in /usr/local/lib/python3.7/dist-packages (from cliff->optuna>=2.4->optuna-dashboard) (2.1.0)\n",
            "Requirement already satisfied: greenlet!=0.4.17; python_version >= \"3\" in /usr/local/lib/python3.7/dist-packages (from sqlalchemy>=1.1.0->optuna>=2.4->optuna-dashboard) (1.0.0)\n",
            "Requirement already satisfied: importlib-metadata; python_version < \"3.8\" in /usr/local/lib/python3.7/dist-packages (from sqlalchemy>=1.1.0->optuna>=2.4->optuna-dashboard) (3.10.1)\n",
            "Requirement already satisfied: six>=1.5 in /usr/local/lib/python3.7/dist-packages (from python-dateutil->alembic->optuna>=2.4->optuna-dashboard) (1.15.0)\n",
            "Requirement already satisfied: MarkupSafe>=0.9.2 in /usr/local/lib/python3.7/dist-packages (from Mako->alembic->optuna>=2.4->optuna-dashboard) (1.1.1)\n",
            "Requirement already satisfied: attrs>=16.3.0 in /usr/local/lib/python3.7/dist-packages (from cmd2>=1.0.0->cliff->optuna>=2.4->optuna-dashboard) (20.3.0)\n",
            "Requirement already satisfied: wcwidth>=0.1.7 in /usr/local/lib/python3.7/dist-packages (from cmd2>=1.0.0->cliff->optuna>=2.4->optuna-dashboard) (0.2.5)\n",
            "Collecting colorama>=0.3.7\n",
            "  Downloading https://files.pythonhosted.org/packages/44/98/5b86278fbbf250d239ae0ecb724f8572af1c91f4a11edf4d36a206189440/colorama-0.4.4-py2.py3-none-any.whl\n",
            "Collecting pyperclip>=1.6\n",
            "  Downloading https://files.pythonhosted.org/packages/a7/2c/4c64579f847bd5d539803c8b909e54ba087a79d01bb3aba433a95879a6c5/pyperclip-1.8.2.tar.gz\n",
            "Requirement already satisfied: zipp>=0.5 in /usr/local/lib/python3.7/dist-packages (from importlib-metadata; python_version < \"3.8\"->sqlalchemy>=1.1.0->optuna>=2.4->optuna-dashboard) (3.4.1)\n",
            "Building wheels for collected packages: pyperclip\n",
            "  Building wheel for pyperclip (setup.py) ... \u001b[?25l\u001b[?25hdone\n",
            "  Created wheel for pyperclip: filename=pyperclip-1.8.2-cp37-none-any.whl size=11107 sha256=04f4cfc3646c7ff71612a90762f0ac9f671cfd70422fdc034f35c1a1fe35ed24\n",
            "  Stored in directory: /root/.cache/pip/wheels/25/af/b8/3407109267803f4015e1ee2ff23be0c8c19ce4008665931ee1\n",
            "Successfully built pyperclip\n",
            "Installing collected packages: bottle, cmaes, colorama, pyperclip, cmd2, pbr, stevedore, cliff, colorlog, optuna, optuna-dashboard\n",
            "Successfully installed bottle-0.12.19 cliff-3.7.0 cmaes-0.8.2 cmd2-1.5.0 colorama-0.4.4 colorlog-5.0.1 optuna-2.7.0 optuna-dashboard-0.4.1 pbr-5.5.1 pyperclip-1.8.2 stevedore-3.3.0\n"
          ],
          "name": "stdout"
        }
      ]
    },
    {
      "cell_type": "code",
      "metadata": {
        "colab": {
          "base_uri": "https://localhost:8080/"
        },
        "id": "z9UP5hESKMfW",
        "outputId": "b4d043af-1f15-48a0-a9c6-d3011240d4b8"
      },
      "source": [
        "!pip install catboost"
      ],
      "id": "z9UP5hESKMfW",
      "execution_count": null,
      "outputs": [
        {
          "output_type": "stream",
          "text": [
            "Collecting catboost\n",
            "\u001b[?25l  Downloading https://files.pythonhosted.org/packages/47/80/8e9c57ec32dfed6ba2922bc5c96462cbf8596ce1a6f5de532ad1e43e53fe/catboost-0.25.1-cp37-none-manylinux1_x86_64.whl (67.3MB)\n",
            "\u001b[K     |████████████████████████████████| 67.3MB 55kB/s \n",
            "\u001b[?25hRequirement already satisfied: plotly in /usr/local/lib/python3.7/dist-packages (from catboost) (4.4.1)\n",
            "Requirement already satisfied: graphviz in /usr/local/lib/python3.7/dist-packages (from catboost) (0.10.1)\n",
            "Requirement already satisfied: numpy>=1.16.0 in /usr/local/lib/python3.7/dist-packages (from catboost) (1.19.5)\n",
            "Requirement already satisfied: scipy in /usr/local/lib/python3.7/dist-packages (from catboost) (1.4.1)\n",
            "Requirement already satisfied: six in /usr/local/lib/python3.7/dist-packages (from catboost) (1.15.0)\n",
            "Requirement already satisfied: pandas>=0.24.0 in /usr/local/lib/python3.7/dist-packages (from catboost) (1.1.5)\n",
            "Requirement already satisfied: matplotlib in /usr/local/lib/python3.7/dist-packages (from catboost) (3.2.2)\n",
            "Requirement already satisfied: retrying>=1.3.3 in /usr/local/lib/python3.7/dist-packages (from plotly->catboost) (1.3.3)\n",
            "Requirement already satisfied: python-dateutil>=2.7.3 in /usr/local/lib/python3.7/dist-packages (from pandas>=0.24.0->catboost) (2.8.1)\n",
            "Requirement already satisfied: pytz>=2017.2 in /usr/local/lib/python3.7/dist-packages (from pandas>=0.24.0->catboost) (2018.9)\n",
            "Requirement already satisfied: cycler>=0.10 in /usr/local/lib/python3.7/dist-packages (from matplotlib->catboost) (0.10.0)\n",
            "Requirement already satisfied: pyparsing!=2.0.4,!=2.1.2,!=2.1.6,>=2.0.1 in /usr/local/lib/python3.7/dist-packages (from matplotlib->catboost) (2.4.7)\n",
            "Requirement already satisfied: kiwisolver>=1.0.1 in /usr/local/lib/python3.7/dist-packages (from matplotlib->catboost) (1.3.1)\n",
            "Installing collected packages: catboost\n",
            "Successfully installed catboost-0.25.1\n"
          ],
          "name": "stdout"
        }
      ]
    },
    {
      "cell_type": "code",
      "metadata": {
        "_cell_guid": "b1076dfc-b9ad-4769-8c92-a6c4dae69d19",
        "_uuid": "8f2839f25d086af736a60e9eeb907d3b93b6e0e5",
        "execution": {
          "iopub.execute_input": "2021-04-22T12:23:58.762825Z",
          "iopub.status.busy": "2021-04-22T12:23:58.762056Z",
          "iopub.status.idle": "2021-04-22T12:24:01.252152Z",
          "shell.execute_reply": "2021-04-22T12:24:01.251421Z"
        },
        "papermill": {
          "duration": 2.592864,
          "end_time": "2021-04-22T12:24:01.252301",
          "exception": false,
          "start_time": "2021-04-22T12:23:58.659437",
          "status": "completed"
        },
        "tags": [],
        "id": "strategic-project"
      },
      "source": [
        "import pandas as pd \n",
        "import numpy as np\n",
        "pd.plotting.register_matplotlib_converters()\n",
        "import matplotlib.pyplot as plt\n",
        "import seaborn as sns\n",
        "import optuna\n",
        "from sklearn.model_selection import train_test_split\n",
        "from lightgbm import LGBMClassifier\n",
        "from xgboost import XGBClassifier\n",
        "from catboost import CatBoostClassifier\n",
        "from sklearn.ensemble import RandomForestClassifier\n",
        "from sklearn.metrics import accuracy_score\n",
        "from sklearn.preprocessing import LabelEncoder\n",
        "from sklearn.svm import SVC\n"
      ],
      "id": "strategic-project",
      "execution_count": null,
      "outputs": []
    },
    {
      "cell_type": "code",
      "metadata": {
        "execution": {
          "iopub.execute_input": "2021-04-22T12:24:01.463030Z",
          "iopub.status.busy": "2021-04-22T12:24:01.461781Z",
          "iopub.status.idle": "2021-04-22T12:24:01.465879Z",
          "shell.execute_reply": "2021-04-22T12:24:01.465233Z"
        },
        "papermill": {
          "duration": 0.114199,
          "end_time": "2021-04-22T12:24:01.466064",
          "exception": false,
          "start_time": "2021-04-22T12:24:01.351865",
          "status": "completed"
        },
        "tags": [],
        "id": "potential-phase"
      },
      "source": [
        "%matplotlib inline\n",
        "sns.set(color_codes=True)\n",
        "pal = sns.color_palette(\"Set2\", 10)\n",
        "sns.set_palette(pal)"
      ],
      "id": "potential-phase",
      "execution_count": null,
      "outputs": []
    },
    {
      "cell_type": "code",
      "metadata": {
        "execution": {
          "iopub.execute_input": "2021-04-22T12:24:01.663538Z",
          "iopub.status.busy": "2021-04-22T12:24:01.662526Z",
          "iopub.status.idle": "2021-04-22T12:24:02.261845Z",
          "shell.execute_reply": "2021-04-22T12:24:02.262396Z"
        },
        "papermill": {
          "duration": 0.700172,
          "end_time": "2021-04-22T12:24:02.262603",
          "exception": false,
          "start_time": "2021-04-22T12:24:01.562431",
          "status": "completed"
        },
        "tags": [],
        "id": "comparative-gregory"
      },
      "source": [
        "train = pd.read_csv('train.csv')\n",
        "test = pd.read_csv('test.csv')"
      ],
      "id": "comparative-gregory",
      "execution_count": null,
      "outputs": []
    },
    {
      "cell_type": "code",
      "metadata": {
        "execution": {
          "iopub.execute_input": "2021-04-22T12:24:02.455237Z",
          "iopub.status.busy": "2021-04-22T12:24:02.454184Z",
          "iopub.status.idle": "2021-04-22T12:24:02.531242Z",
          "shell.execute_reply": "2021-04-22T12:24:02.530565Z"
        },
        "papermill": {
          "duration": 0.17462,
          "end_time": "2021-04-22T12:24:02.531381",
          "exception": false,
          "start_time": "2021-04-22T12:24:02.356761",
          "status": "completed"
        },
        "tags": [],
        "colab": {
          "base_uri": "https://localhost:8080/"
        },
        "id": "assigned-handy",
        "outputId": "954fedaf-7719-4783-83a3-d391dd366355"
      },
      "source": [
        "train.info()"
      ],
      "id": "assigned-handy",
      "execution_count": null,
      "outputs": [
        {
          "output_type": "stream",
          "text": [
            "<class 'pandas.core.frame.DataFrame'>\n",
            "RangeIndex: 100000 entries, 0 to 99999\n",
            "Data columns (total 12 columns):\n",
            " #   Column       Non-Null Count   Dtype  \n",
            "---  ------       --------------   -----  \n",
            " 0   PassengerId  100000 non-null  int64  \n",
            " 1   Survived     100000 non-null  int64  \n",
            " 2   Pclass       100000 non-null  int64  \n",
            " 3   Name         100000 non-null  object \n",
            " 4   Sex          100000 non-null  object \n",
            " 5   Age          96708 non-null   float64\n",
            " 6   SibSp        100000 non-null  int64  \n",
            " 7   Parch        100000 non-null  int64  \n",
            " 8   Ticket       95377 non-null   object \n",
            " 9   Fare         99866 non-null   float64\n",
            " 10  Cabin        32134 non-null   object \n",
            " 11  Embarked     99750 non-null   object \n",
            "dtypes: float64(2), int64(5), object(5)\n",
            "memory usage: 9.2+ MB\n"
          ],
          "name": "stdout"
        }
      ]
    },
    {
      "cell_type": "code",
      "metadata": {
        "execution": {
          "iopub.execute_input": "2021-04-22T12:24:02.727076Z",
          "iopub.status.busy": "2021-04-22T12:24:02.726392Z",
          "iopub.status.idle": "2021-04-22T12:24:02.748995Z",
          "shell.execute_reply": "2021-04-22T12:24:02.748393Z"
        },
        "papermill": {
          "duration": 0.12198,
          "end_time": "2021-04-22T12:24:02.749141",
          "exception": false,
          "start_time": "2021-04-22T12:24:02.627161",
          "status": "completed"
        },
        "tags": [],
        "colab": {
          "base_uri": "https://localhost:8080/",
          "height": 204
        },
        "id": "accredited-disease",
        "outputId": "655a3768-2f50-4a94-9a2a-58425078debe"
      },
      "source": [
        "train.head()"
      ],
      "id": "accredited-disease",
      "execution_count": null,
      "outputs": [
        {
          "output_type": "execute_result",
          "data": {
            "text/html": [
              "<div>\n",
              "<style scoped>\n",
              "    .dataframe tbody tr th:only-of-type {\n",
              "        vertical-align: middle;\n",
              "    }\n",
              "\n",
              "    .dataframe tbody tr th {\n",
              "        vertical-align: top;\n",
              "    }\n",
              "\n",
              "    .dataframe thead th {\n",
              "        text-align: right;\n",
              "    }\n",
              "</style>\n",
              "<table border=\"1\" class=\"dataframe\">\n",
              "  <thead>\n",
              "    <tr style=\"text-align: right;\">\n",
              "      <th></th>\n",
              "      <th>PassengerId</th>\n",
              "      <th>Survived</th>\n",
              "      <th>Pclass</th>\n",
              "      <th>Name</th>\n",
              "      <th>Sex</th>\n",
              "      <th>Age</th>\n",
              "      <th>SibSp</th>\n",
              "      <th>Parch</th>\n",
              "      <th>Ticket</th>\n",
              "      <th>Fare</th>\n",
              "      <th>Cabin</th>\n",
              "      <th>Embarked</th>\n",
              "    </tr>\n",
              "  </thead>\n",
              "  <tbody>\n",
              "    <tr>\n",
              "      <th>0</th>\n",
              "      <td>0</td>\n",
              "      <td>1</td>\n",
              "      <td>1</td>\n",
              "      <td>Oconnor, Frankie</td>\n",
              "      <td>male</td>\n",
              "      <td>NaN</td>\n",
              "      <td>2</td>\n",
              "      <td>0</td>\n",
              "      <td>209245</td>\n",
              "      <td>27.14</td>\n",
              "      <td>C12239</td>\n",
              "      <td>S</td>\n",
              "    </tr>\n",
              "    <tr>\n",
              "      <th>1</th>\n",
              "      <td>1</td>\n",
              "      <td>0</td>\n",
              "      <td>3</td>\n",
              "      <td>Bryan, Drew</td>\n",
              "      <td>male</td>\n",
              "      <td>NaN</td>\n",
              "      <td>0</td>\n",
              "      <td>0</td>\n",
              "      <td>27323</td>\n",
              "      <td>13.35</td>\n",
              "      <td>NaN</td>\n",
              "      <td>S</td>\n",
              "    </tr>\n",
              "    <tr>\n",
              "      <th>2</th>\n",
              "      <td>2</td>\n",
              "      <td>0</td>\n",
              "      <td>3</td>\n",
              "      <td>Owens, Kenneth</td>\n",
              "      <td>male</td>\n",
              "      <td>0.33</td>\n",
              "      <td>1</td>\n",
              "      <td>2</td>\n",
              "      <td>CA 457703</td>\n",
              "      <td>71.29</td>\n",
              "      <td>NaN</td>\n",
              "      <td>S</td>\n",
              "    </tr>\n",
              "    <tr>\n",
              "      <th>3</th>\n",
              "      <td>3</td>\n",
              "      <td>0</td>\n",
              "      <td>3</td>\n",
              "      <td>Kramer, James</td>\n",
              "      <td>male</td>\n",
              "      <td>19.00</td>\n",
              "      <td>0</td>\n",
              "      <td>0</td>\n",
              "      <td>A. 10866</td>\n",
              "      <td>13.04</td>\n",
              "      <td>NaN</td>\n",
              "      <td>S</td>\n",
              "    </tr>\n",
              "    <tr>\n",
              "      <th>4</th>\n",
              "      <td>4</td>\n",
              "      <td>1</td>\n",
              "      <td>3</td>\n",
              "      <td>Bond, Michael</td>\n",
              "      <td>male</td>\n",
              "      <td>25.00</td>\n",
              "      <td>0</td>\n",
              "      <td>0</td>\n",
              "      <td>427635</td>\n",
              "      <td>7.76</td>\n",
              "      <td>NaN</td>\n",
              "      <td>S</td>\n",
              "    </tr>\n",
              "  </tbody>\n",
              "</table>\n",
              "</div>"
            ],
            "text/plain": [
              "   PassengerId  Survived  Pclass  ...   Fare   Cabin  Embarked\n",
              "0            0         1       1  ...  27.14  C12239         S\n",
              "1            1         0       3  ...  13.35     NaN         S\n",
              "2            2         0       3  ...  71.29     NaN         S\n",
              "3            3         0       3  ...  13.04     NaN         S\n",
              "4            4         1       3  ...   7.76     NaN         S\n",
              "\n",
              "[5 rows x 12 columns]"
            ]
          },
          "metadata": {
            "tags": []
          },
          "execution_count": 112
        }
      ]
    },
    {
      "cell_type": "markdown",
      "metadata": {
        "papermill": {
          "duration": 0.094025,
          "end_time": "2021-04-22T12:24:02.938297",
          "exception": false,
          "start_time": "2021-04-22T12:24:02.844272",
          "status": "completed"
        },
        "tags": [],
        "id": "cleared-hunter"
      },
      "source": [
        "## Mostly data is fully available, in some columns there is only 5-7% of data missing, only in the Cabin column theres arounfd 70% data missing so we should drop that column"
      ],
      "id": "cleared-hunter"
    },
    {
      "cell_type": "markdown",
      "metadata": {
        "papermill": {
          "duration": 0.095085,
          "end_time": "2021-04-22T12:24:03.130116",
          "exception": false,
          "start_time": "2021-04-22T12:24:03.035031",
          "status": "completed"
        },
        "tags": [],
        "id": "insured-homework"
      },
      "source": [
        "Dropping **Cabin**"
      ],
      "id": "insured-homework"
    },
    {
      "cell_type": "code",
      "metadata": {
        "execution": {
          "iopub.execute_input": "2021-04-22T12:24:03.344080Z",
          "iopub.status.busy": "2021-04-22T12:24:03.335110Z",
          "iopub.status.idle": "2021-04-22T12:24:03.347095Z",
          "shell.execute_reply": "2021-04-22T12:24:03.346444Z"
        },
        "papermill": {
          "duration": 0.122205,
          "end_time": "2021-04-22T12:24:03.347239",
          "exception": false,
          "start_time": "2021-04-22T12:24:03.225034",
          "status": "completed"
        },
        "tags": [],
        "colab": {
          "base_uri": "https://localhost:8080/"
        },
        "id": "electronic-reggae",
        "outputId": "11450471-0580-41b8-fc4f-1e2f74e937f0"
      },
      "source": [
        "train = train.drop(['Cabin'],axis=1)\n",
        "test = test.drop(['Cabin'],axis=1)\n",
        "\n",
        "train.shape, test.shape"
      ],
      "id": "electronic-reggae",
      "execution_count": null,
      "outputs": [
        {
          "output_type": "execute_result",
          "data": {
            "text/plain": [
              "((100000, 11), (100000, 10))"
            ]
          },
          "metadata": {
            "tags": []
          },
          "execution_count": 113
        }
      ]
    },
    {
      "cell_type": "markdown",
      "metadata": {
        "papermill": {
          "duration": 0.098394,
          "end_time": "2021-04-22T12:24:03.543665",
          "exception": false,
          "start_time": "2021-04-22T12:24:03.445271",
          "status": "completed"
        },
        "tags": [],
        "id": "informal-pharmacology"
      },
      "source": [
        "## Sex-Survived Comparison"
      ],
      "id": "informal-pharmacology"
    },
    {
      "cell_type": "code",
      "metadata": {
        "execution": {
          "iopub.execute_input": "2021-04-22T12:24:03.774320Z",
          "iopub.status.busy": "2021-04-22T12:24:03.765994Z",
          "iopub.status.idle": "2021-04-22T12:24:04.107461Z",
          "shell.execute_reply": "2021-04-22T12:24:04.105894Z"
        },
        "papermill": {
          "duration": 0.465947,
          "end_time": "2021-04-22T12:24:04.107641",
          "exception": false,
          "start_time": "2021-04-22T12:24:03.641694",
          "status": "completed"
        },
        "tags": [],
        "colab": {
          "base_uri": "https://localhost:8080/",
          "height": 303
        },
        "id": "unsigned-clerk",
        "outputId": "d81ca786-3026-4dc0-effe-19d5d5b700f6"
      },
      "source": [
        "sns.countplot(x='Sex',hue='Survived',data=train)"
      ],
      "id": "unsigned-clerk",
      "execution_count": null,
      "outputs": [
        {
          "output_type": "execute_result",
          "data": {
            "text/plain": [
              "<matplotlib.axes._subplots.AxesSubplot at 0x7fd8e74e8f10>"
            ]
          },
          "metadata": {
            "tags": []
          },
          "execution_count": 114
        },
        {
          "output_type": "display_data",
          "data": {
            "image/png": "[encoded data removed]",
            "text/plain": [
              "<Figure size 432x288 with 1 Axes>"
            ]
          },
          "metadata": {
            "tags": []
          }
        }
      ]
    },
    {
      "cell_type": "markdown",
      "metadata": {
        "papermill": {
          "duration": 0.102126,
          "end_time": "2021-04-22T12:24:04.311243",
          "exception": false,
          "start_time": "2021-04-22T12:24:04.209117",
          "status": "completed"
        },
        "tags": [],
        "id": "atomic-feelings"
      },
      "source": [
        "## Handling Missing values for\n",
        "1. Age\n",
        "2. Ticket\n",
        "3. Fare\n",
        "4. Embarked"
      ],
      "id": "atomic-feelings"
    },
    {
      "cell_type": "code",
      "metadata": {
        "execution": {
          "iopub.execute_input": "2021-04-22T12:24:04.519904Z",
          "iopub.status.busy": "2021-04-22T12:24:04.518640Z",
          "iopub.status.idle": "2021-04-22T12:24:05.682247Z",
          "shell.execute_reply": "2021-04-22T12:24:05.682818Z"
        },
        "papermill": {
          "duration": 1.271011,
          "end_time": "2021-04-22T12:24:05.683058",
          "exception": false,
          "start_time": "2021-04-22T12:24:04.412047",
          "status": "completed"
        },
        "tags": [],
        "colab": {
          "base_uri": "https://localhost:8080/",
          "height": 383
        },
        "id": "under-masters",
        "outputId": "3a67a271-55f1-474e-d1e1-b820432cdc8a"
      },
      "source": [
        "##Age\n",
        "sns.displot(train, x=\"Age\", kind=\"kde\",hue='Survived')"
      ],
      "id": "under-masters",
      "execution_count": null,
      "outputs": [
        {
          "output_type": "execute_result",
          "data": {
            "text/plain": [
              "<seaborn.axisgrid.FacetGrid at 0x7fd8eefdbe50>"
            ]
          },
          "metadata": {
            "tags": []
          },
          "execution_count": 115
        },
        {
          "output_type": "display_data",
          "data": {
            "image/png": "[encoded data removed]",
            "text/plain": [
              "<Figure size 421.55x360 with 1 Axes>"
            ]
          },
          "metadata": {
            "tags": []
          }
        }
      ]
    },
    {
      "cell_type": "code",
      "metadata": {
        "execution": {
          "iopub.execute_input": "2021-04-22T12:24:05.900429Z",
          "iopub.status.busy": "2021-04-22T12:24:05.899399Z",
          "iopub.status.idle": "2021-04-22T12:24:06.119365Z",
          "shell.execute_reply": "2021-04-22T12:24:06.119871Z"
        },
        "papermill": {
          "duration": 0.330821,
          "end_time": "2021-04-22T12:24:06.120083",
          "exception": false,
          "start_time": "2021-04-22T12:24:05.789262",
          "status": "completed"
        },
        "tags": [],
        "colab": {
          "base_uri": "https://localhost:8080/",
          "height": 303
        },
        "id": "spiritual-wedding",
        "outputId": "c778070f-d7b7-4208-9bc6-63cf909188ed"
      },
      "source": [
        "plt.hist(x=train.Age, bins=10)\n",
        "plt.grid(axis='y', alpha=0.5)\n",
        "plt.xlabel('Age')"
      ],
      "id": "spiritual-wedding",
      "execution_count": null,
      "outputs": [
        {
          "output_type": "execute_result",
          "data": {
            "text/plain": [
              "Text(0.5, 0, 'Age')"
            ]
          },
          "metadata": {
            "tags": []
          },
          "execution_count": 116
        },
        {
          "output_type": "display_data",
          "data": {
            "image/png": "[encoded data removed]",
            "text/plain": [
              "<Figure size 432x288 with 1 Axes>"
            ]
          },
          "metadata": {
            "tags": []
          }
        }
      ]
    },
    {
      "cell_type": "code",
      "metadata": {
        "execution": {
          "iopub.execute_input": "2021-04-22T12:24:06.335714Z",
          "iopub.status.busy": "2021-04-22T12:24:06.335002Z",
          "iopub.status.idle": "2021-04-22T12:24:06.353836Z",
          "shell.execute_reply": "2021-04-22T12:24:06.353286Z"
        },
        "papermill": {
          "duration": 0.12718,
          "end_time": "2021-04-22T12:24:06.354013",
          "exception": false,
          "start_time": "2021-04-22T12:24:06.226833",
          "status": "completed"
        },
        "tags": [],
        "colab": {
          "base_uri": "https://localhost:8080/"
        },
        "id": "prescription-shift",
        "outputId": "084adf47-ecd9-477d-af25-58c8f3768d8f"
      },
      "source": [
        "print('For Missing Values')\n",
        "print('Total no. of observations:', train[train['Age'].isnull()].shape[0])\n",
        "a = train[train['Age'].isnull()].groupby('Survived').Survived.count()\n",
        "b =  pd.DataFrame({'Survived': a.index, '%age':a.values*100/a.values.sum()})\n",
        "print(b.to_string(index=False))"
      ],
      "id": "prescription-shift",
      "execution_count": null,
      "outputs": [
        {
          "output_type": "stream",
          "text": [
            "For Missing Values\n",
            "Total no. of observations: 3292\n",
            " Survived       %age\n",
            "        0  58.809235\n",
            "        1  41.190765\n"
          ],
          "name": "stdout"
        }
      ]
    },
    {
      "cell_type": "code",
      "metadata": {
        "execution": {
          "iopub.execute_input": "2021-04-22T12:24:06.581705Z",
          "iopub.status.busy": "2021-04-22T12:24:06.580589Z",
          "iopub.status.idle": "2021-04-22T12:24:06.593882Z",
          "shell.execute_reply": "2021-04-22T12:24:06.593326Z"
        },
        "papermill": {
          "duration": 0.1331,
          "end_time": "2021-04-22T12:24:06.594081",
          "exception": false,
          "start_time": "2021-04-22T12:24:06.460981",
          "status": "completed"
        },
        "tags": [],
        "colab": {
          "base_uri": "https://localhost:8080/"
        },
        "id": "rough-thong",
        "outputId": "242cf18d-dfe6-4bf8-f1f4-96281a913527"
      },
      "source": [
        "mu=int(train['Age'].mean())\n",
        "print('For mean')\n",
        "print('Total no. of observations:', train[train['Age']==mu].shape[0])\n",
        "a = train[train['Age']==mu].groupby('Survived').Survived.count()\n",
        "b =  pd.DataFrame({'Survived': a.index, '%age':a.values*100/a.values.sum()})\n",
        "print(b.to_string(index=False))"
      ],
      "id": "rough-thong",
      "execution_count": null,
      "outputs": [
        {
          "output_type": "stream",
          "text": [
            "For mean\n",
            "Total no. of observations: 1547\n",
            " Survived       %age\n",
            "        0  59.534583\n",
            "        1  40.465417\n"
          ],
          "name": "stdout"
        }
      ]
    },
    {
      "cell_type": "markdown",
      "metadata": {
        "papermill": {
          "duration": 0.10375,
          "end_time": "2021-04-22T12:24:06.806017",
          "exception": false,
          "start_time": "2021-04-22T12:24:06.702267",
          "status": "completed"
        },
        "tags": [],
        "id": "popular-liechtenstein"
      },
      "source": [
        "### Distribution matches with mean"
      ],
      "id": "popular-liechtenstein"
    },
    {
      "cell_type": "code",
      "metadata": {
        "execution": {
          "iopub.execute_input": "2021-04-22T12:24:07.020108Z",
          "iopub.status.busy": "2021-04-22T12:24:07.019356Z",
          "iopub.status.idle": "2021-04-22T12:24:07.026074Z",
          "shell.execute_reply": "2021-04-22T12:24:07.025196Z"
        },
        "papermill": {
          "duration": 0.117644,
          "end_time": "2021-04-22T12:24:07.026243",
          "exception": false,
          "start_time": "2021-04-22T12:24:06.908599",
          "status": "completed"
        },
        "tags": [],
        "id": "exciting-cedar"
      },
      "source": [
        "train['Age'].fillna(train['Age'].mean(),inplace=True)\n",
        "test['Age'].fillna(train['Age'].mean(),inplace=True)"
      ],
      "id": "exciting-cedar",
      "execution_count": null,
      "outputs": []
    },
    {
      "cell_type": "code",
      "metadata": {
        "execution": {
          "iopub.execute_input": "2021-04-22T12:24:07.245690Z",
          "iopub.status.busy": "2021-04-22T12:24:07.244942Z",
          "iopub.status.idle": "2021-04-22T12:24:08.368646Z",
          "shell.execute_reply": "2021-04-22T12:24:08.369301Z"
        },
        "papermill": {
          "duration": 1.237692,
          "end_time": "2021-04-22T12:24:08.369489",
          "exception": false,
          "start_time": "2021-04-22T12:24:07.131797",
          "status": "completed"
        },
        "tags": [],
        "colab": {
          "base_uri": "https://localhost:8080/",
          "height": 383
        },
        "id": "vocational-ownership",
        "outputId": "5757169c-73d1-4c23-c1ad-1252633b74b6"
      },
      "source": [
        "##Ticket\n",
        "sns.displot(train, x=\"Fare\", kind=\"kde\",hue='Survived')"
      ],
      "id": "vocational-ownership",
      "execution_count": null,
      "outputs": [
        {
          "output_type": "execute_result",
          "data": {
            "text/plain": [
              "<seaborn.axisgrid.FacetGrid at 0x7fd8fba42150>"
            ]
          },
          "metadata": {
            "tags": []
          },
          "execution_count": 120
        },
        {
          "output_type": "display_data",
          "data": {
            "image/png": "[encoded data removed]",
            "text/plain": [
              "<Figure size 421.55x360 with 1 Axes>"
            ]
          },
          "metadata": {
            "tags": []
          }
        }
      ]
    },
    {
      "cell_type": "markdown",
      "metadata": {
        "papermill": {
          "duration": 0.103152,
          "end_time": "2021-04-22T12:24:08.579015",
          "exception": false,
          "start_time": "2021-04-22T12:24:08.475863",
          "status": "completed"
        },
        "tags": [],
        "id": "respected-disco"
      },
      "source": [
        "### A very imbalanced distribution in which we can see high fare passengers survived more than others"
      ],
      "id": "respected-disco"
    },
    {
      "cell_type": "code",
      "metadata": {
        "execution": {
          "iopub.execute_input": "2021-04-22T12:24:08.794607Z",
          "iopub.status.busy": "2021-04-22T12:24:08.793443Z",
          "iopub.status.idle": "2021-04-22T12:24:08.803834Z",
          "shell.execute_reply": "2021-04-22T12:24:08.804369Z"
        },
        "papermill": {
          "duration": 0.118705,
          "end_time": "2021-04-22T12:24:08.804542",
          "exception": false,
          "start_time": "2021-04-22T12:24:08.685837",
          "status": "completed"
        },
        "tags": [],
        "colab": {
          "base_uri": "https://localhost:8080/"
        },
        "id": "protected-carbon",
        "outputId": "adf79313-a308-44b5-b6cc-68cd1a413c52"
      },
      "source": [
        "train.groupby('Pclass').Fare.mean()"
      ],
      "id": "protected-carbon",
      "execution_count": null,
      "outputs": [
        {
          "output_type": "execute_result",
          "data": {
            "text/plain": [
              "Pclass\n",
              "1    92.653113\n",
              "2    25.756003\n",
              "3    20.618226\n",
              "Name: Fare, dtype: float64"
            ]
          },
          "metadata": {
            "tags": []
          },
          "execution_count": 121
        }
      ]
    },
    {
      "cell_type": "markdown",
      "metadata": {
        "papermill": {
          "duration": 0.103032,
          "end_time": "2021-04-22T12:24:09.012021",
          "exception": false,
          "start_time": "2021-04-22T12:24:08.908989",
          "status": "completed"
        },
        "tags": [],
        "id": "serious-bracelet"
      },
      "source": [
        "### As we can see Fare is corelated to the Pclass so we can impute accordingly"
      ],
      "id": "serious-bracelet"
    },
    {
      "cell_type": "code",
      "metadata": {
        "execution": {
          "iopub.execute_input": "2021-04-22T12:24:09.285360Z",
          "iopub.status.busy": "2021-04-22T12:24:09.280167Z",
          "iopub.status.idle": "2021-04-22T12:24:13.014575Z",
          "shell.execute_reply": "2021-04-22T12:24:13.015203Z"
        },
        "papermill": {
          "duration": 3.898169,
          "end_time": "2021-04-22T12:24:13.015413",
          "exception": false,
          "start_time": "2021-04-22T12:24:09.117244",
          "status": "completed"
        },
        "tags": [],
        "id": "challenging-baltimore"
      },
      "source": [
        "c1 = 92.65\n",
        "c2 = 25.76\n",
        "c3 = 20.62\n",
        "l=[]\n",
        "s=set(train['Fare'])\n",
        "for i in range(train['Fare'].shape[0]):\n",
        "    if train['Fare'][i] not in s:\n",
        "        if train['Pclass'][i]==1:\n",
        "            l.append(c1)\n",
        "        elif train['Pclass'][i]==2:\n",
        "            l.append(c2)\n",
        "        else:\n",
        "            l.append(c3)\n",
        "    else:\n",
        "        l.append(train['Fare'][i])\n",
        "        \n",
        "train['Fare'] = l\n",
        "\n",
        "l=[]\n",
        "s=set(test['Fare'])\n",
        "for i in range(test['Fare'].shape[0]):\n",
        "    if test['Fare'][i] not in s:\n",
        "        if test['Pclass'][i]==1:\n",
        "            l.append(c1)\n",
        "        elif test['Pclass'][i]==2:\n",
        "            l.append(c2)\n",
        "        else:\n",
        "            l.append(c3)\n",
        "    else:\n",
        "        l.append(test['Fare'][i])\n",
        "        \n",
        "test['Fare'] = l"
      ],
      "id": "challenging-baltimore",
      "execution_count": null,
      "outputs": []
    },
    {
      "cell_type": "code",
      "metadata": {
        "execution": {
          "iopub.execute_input": "2021-04-22T12:24:13.423010Z",
          "iopub.status.busy": "2021-04-22T12:24:13.416897Z",
          "iopub.status.idle": "2021-04-22T12:24:13.465264Z",
          "shell.execute_reply": "2021-04-22T12:24:13.464407Z"
        },
        "papermill": {
          "duration": 0.339922,
          "end_time": "2021-04-22T12:24:13.465478",
          "exception": false,
          "start_time": "2021-04-22T12:24:13.125556",
          "status": "completed"
        },
        "tags": [],
        "colab": {
          "base_uri": "https://localhost:8080/"
        },
        "id": "metropolitan-protein",
        "outputId": "f3d42123-6004-40ab-a3ce-bc00843041d7"
      },
      "source": [
        "##Ticket\n",
        "train.groupby('Ticket').Ticket.count().sort_values(ascending=False).head(20)\n"
      ],
      "id": "metropolitan-protein",
      "execution_count": null,
      "outputs": [
        {
          "output_type": "execute_result",
          "data": {
            "text/plain": [
              "Ticket\n",
              "A/5            602\n",
              "C.A.           177\n",
              "SC/PARIS       145\n",
              "SOTON/O.Q.      80\n",
              "SC              57\n",
              "W./C.           53\n",
              "A/5.            40\n",
              "W.E.P.          23\n",
              "CA              22\n",
              "STON/O2.        21\n",
              "PP              15\n",
              "CA.             15\n",
              "A/4             12\n",
              "LP              12\n",
              "SOTON/OQ        11\n",
              "S.P.            10\n",
              "9566            10\n",
              "PC               9\n",
              "12736            9\n",
              "S.O.C.           9\n",
              "Name: Ticket, dtype: int64"
            ]
          },
          "metadata": {
            "tags": []
          },
          "execution_count": 123
        }
      ]
    },
    {
      "cell_type": "code",
      "metadata": {
        "execution": {
          "iopub.execute_input": "2021-04-22T12:24:13.745770Z",
          "iopub.status.busy": "2021-04-22T12:24:13.718508Z",
          "iopub.status.idle": "2021-04-22T12:24:13.968409Z",
          "shell.execute_reply": "2021-04-22T12:24:13.967743Z"
        },
        "papermill": {
          "duration": 0.381368,
          "end_time": "2021-04-22T12:24:13.968586",
          "exception": false,
          "start_time": "2021-04-22T12:24:13.587218",
          "status": "completed"
        },
        "tags": [],
        "colab": {
          "base_uri": "https://localhost:8080/"
        },
        "id": "ranging-input",
        "outputId": "aaeee9c4-e287-4b7f-a194-5d0836127650"
      },
      "source": [
        "train.groupby(['Ticket','Survived']).Survived.count().sort_values(ascending=False).head(20)"
      ],
      "id": "ranging-input",
      "execution_count": null,
      "outputs": [
        {
          "output_type": "execute_result",
          "data": {
            "text/plain": [
              "Ticket       Survived\n",
              "A/5          0           383\n",
              "             1           219\n",
              "C.A.         0           108\n",
              "SC/PARIS     0            80\n",
              "C.A.         1            69\n",
              "SC/PARIS     1            65\n",
              "SOTON/O.Q.   0            53\n",
              "SC           0            29\n",
              "             1            28\n",
              "SOTON/O.Q.   1            27\n",
              "W./C.        0            27\n",
              "             1            26\n",
              "A/5.         0            26\n",
              "             1            14\n",
              "CA           0            14\n",
              "STON/O2.     0            12\n",
              "W.E.P.       1            12\n",
              "CA.          0            11\n",
              "LP           0            11\n",
              "W.E.P.       0            11\n",
              "Name: Survived, dtype: int64"
            ]
          },
          "metadata": {
            "tags": []
          },
          "execution_count": 124
        }
      ]
    },
    {
      "cell_type": "code",
      "metadata": {
        "execution": {
          "iopub.execute_input": "2021-04-22T12:24:14.212353Z",
          "iopub.status.busy": "2021-04-22T12:24:14.211663Z",
          "iopub.status.idle": "2021-04-22T12:24:14.911385Z",
          "shell.execute_reply": "2021-04-22T12:24:14.910531Z"
        },
        "papermill": {
          "duration": 0.828957,
          "end_time": "2021-04-22T12:24:14.911573",
          "exception": false,
          "start_time": "2021-04-22T12:24:14.082616",
          "status": "completed"
        },
        "tags": [],
        "id": "occasional-bracelet"
      },
      "source": [
        "train['Ticket'] = train['Ticket'].str.replace('[^a-zA-Z]', 'r').str[:1]\n",
        "\n",
        "test['Ticket'] = test['Ticket'].str.replace('[^a-zA-Z]', 'r').str[:1]"
      ],
      "id": "occasional-bracelet",
      "execution_count": null,
      "outputs": []
    },
    {
      "cell_type": "code",
      "metadata": {
        "execution": {
          "iopub.execute_input": "2021-04-22T12:24:15.190970Z",
          "iopub.status.busy": "2021-04-22T12:24:15.165076Z",
          "iopub.status.idle": "2021-04-22T12:24:15.281472Z",
          "shell.execute_reply": "2021-04-22T12:24:15.280833Z"
        },
        "papermill": {
          "duration": 0.249237,
          "end_time": "2021-04-22T12:24:15.281627",
          "exception": false,
          "start_time": "2021-04-22T12:24:15.032390",
          "status": "completed"
        },
        "tags": [],
        "id": "qualified-fraction"
      },
      "source": [
        "train['Ticket'].fillna('Random',inplace=True)\n",
        "l=[]\n",
        "for i in train['Ticket']:\n",
        "    if i == 'r':\n",
        "        l.append('Random')\n",
        "    else:\n",
        "        l.append(i)\n",
        "        \n",
        "train['Ticket'] = l\n",
        "\n",
        "\n",
        "test['Ticket'].fillna('Random',inplace=True)\n",
        "l=[]\n",
        "for i in test['Ticket']:\n",
        "    if i == 'r':\n",
        "        l.append('Random')\n",
        "    else:\n",
        "        l.append(i)\n",
        "        \n",
        "test['Ticket'] = l\n"
      ],
      "id": "qualified-fraction",
      "execution_count": null,
      "outputs": []
    },
    {
      "cell_type": "code",
      "metadata": {
        "execution": {
          "iopub.execute_input": "2021-04-22T12:24:15.516372Z",
          "iopub.status.busy": "2021-04-22T12:24:15.515645Z",
          "iopub.status.idle": "2021-04-22T12:24:15.541166Z",
          "shell.execute_reply": "2021-04-22T12:24:15.541662Z"
        },
        "papermill": {
          "duration": 0.148488,
          "end_time": "2021-04-22T12:24:15.541867",
          "exception": false,
          "start_time": "2021-04-22T12:24:15.393379",
          "status": "completed"
        },
        "tags": [],
        "colab": {
          "base_uri": "https://localhost:8080/"
        },
        "id": "trying-manor",
        "outputId": "895109a0-2f71-4a7a-dd9d-db0afba7cf82"
      },
      "source": [
        "train.groupby('Ticket').Ticket.count().sort_values(ascending=False).head(20)"
      ],
      "id": "trying-manor",
      "execution_count": null,
      "outputs": [
        {
          "output_type": "execute_result",
          "data": {
            "text/plain": [
              "Ticket\n",
              "Random    75345\n",
              "P          7146\n",
              "S          6532\n",
              "A          6234\n",
              "C          2705\n",
              "W          1055\n",
              "F           927\n",
              "L            56\n",
              "Name: Ticket, dtype: int64"
            ]
          },
          "metadata": {
            "tags": []
          },
          "execution_count": 127
        }
      ]
    },
    {
      "cell_type": "code",
      "metadata": {
        "execution": {
          "iopub.execute_input": "2021-04-22T12:24:15.773127Z",
          "iopub.status.busy": "2021-04-22T12:24:15.772333Z",
          "iopub.status.idle": "2021-04-22T12:24:16.239782Z",
          "shell.execute_reply": "2021-04-22T12:24:16.238379Z"
        },
        "papermill": {
          "duration": 0.585957,
          "end_time": "2021-04-22T12:24:16.240040",
          "exception": false,
          "start_time": "2021-04-22T12:24:15.654083",
          "status": "completed"
        },
        "tags": [],
        "colab": {
          "base_uri": "https://localhost:8080/",
          "height": 303
        },
        "id": "promotional-popularity",
        "outputId": "a6704ec8-1576-4f41-8f3c-8e1ad6acf16e"
      },
      "source": [
        "sns.countplot(x='Ticket',hue='Survived',data=train)"
      ],
      "id": "promotional-popularity",
      "execution_count": null,
      "outputs": [
        {
          "output_type": "execute_result",
          "data": {
            "text/plain": [
              "<matplotlib.axes._subplots.AxesSubplot at 0x7fd8ef4f31d0>"
            ]
          },
          "metadata": {
            "tags": []
          },
          "execution_count": 128
        },
        {
          "output_type": "display_data",
          "data": {
            "image/png": "[encoded data removed]",
            "text/plain": [
              "<Figure size 432x288 with 1 Axes>"
            ]
          },
          "metadata": {
            "tags": []
          }
        }
      ]
    },
    {
      "cell_type": "code",
      "metadata": {
        "execution": {
          "iopub.execute_input": "2021-04-22T12:24:16.493126Z",
          "iopub.status.busy": "2021-04-22T12:24:16.492237Z",
          "iopub.status.idle": "2021-04-22T12:24:16.514796Z",
          "shell.execute_reply": "2021-04-22T12:24:16.513987Z"
        },
        "papermill": {
          "duration": 0.161032,
          "end_time": "2021-04-22T12:24:16.514999",
          "exception": false,
          "start_time": "2021-04-22T12:24:16.353967",
          "status": "completed"
        },
        "tags": [],
        "colab": {
          "base_uri": "https://localhost:8080/"
        },
        "id": "correct-things",
        "outputId": "3037e1a4-0073-43cb-b280-2a3bfaf37884"
      },
      "source": [
        "#Embarked\n",
        "train.groupby('Embarked').Embarked.count()"
      ],
      "id": "correct-things",
      "execution_count": null,
      "outputs": [
        {
          "output_type": "execute_result",
          "data": {
            "text/plain": [
              "Embarked\n",
              "C    22187\n",
              "Q     5424\n",
              "S    72139\n",
              "Name: Embarked, dtype: int64"
            ]
          },
          "metadata": {
            "tags": []
          },
          "execution_count": 129
        }
      ]
    },
    {
      "cell_type": "code",
      "metadata": {
        "execution": {
          "iopub.execute_input": "2021-04-22T12:24:16.773635Z",
          "iopub.status.busy": "2021-04-22T12:24:16.761611Z",
          "iopub.status.idle": "2021-04-22T12:24:17.083329Z",
          "shell.execute_reply": "2021-04-22T12:24:17.082380Z"
        },
        "papermill": {
          "duration": 0.452955,
          "end_time": "2021-04-22T12:24:17.083508",
          "exception": false,
          "start_time": "2021-04-22T12:24:16.630553",
          "status": "completed"
        },
        "tags": [],
        "colab": {
          "base_uri": "https://localhost:8080/",
          "height": 303
        },
        "id": "occupied-reaction",
        "outputId": "9109f5f9-7229-44e2-d436-1f68deae181f"
      },
      "source": [
        "sns.countplot(x='Embarked',hue='Survived',data=train)"
      ],
      "id": "occupied-reaction",
      "execution_count": null,
      "outputs": [
        {
          "output_type": "execute_result",
          "data": {
            "text/plain": [
              "<matplotlib.axes._subplots.AxesSubplot at 0x7fd8ec5e8790>"
            ]
          },
          "metadata": {
            "tags": []
          },
          "execution_count": 130
        },
        {
          "output_type": "display_data",
          "data": {
            "image/png": "[encoded data removed]",
            "text/plain": [
              "<Figure size 432x288 with 1 Axes>"
            ]
          },
          "metadata": {
            "tags": []
          }
        }
      ]
    },
    {
      "cell_type": "code",
      "metadata": {
        "execution": {
          "iopub.execute_input": "2021-04-22T12:24:17.321821Z",
          "iopub.status.busy": "2021-04-22T12:24:17.320787Z",
          "iopub.status.idle": "2021-04-22T12:24:17.341966Z",
          "shell.execute_reply": "2021-04-22T12:24:17.341418Z"
        },
        "papermill": {
          "duration": 0.142929,
          "end_time": "2021-04-22T12:24:17.342119",
          "exception": false,
          "start_time": "2021-04-22T12:24:17.199190",
          "status": "completed"
        },
        "tags": [],
        "colab": {
          "base_uri": "https://localhost:8080/"
        },
        "id": "frozen-melissa",
        "outputId": "db69d37f-6e68-4bdd-b807-8bc44e54047b"
      },
      "source": [
        "train.groupby(['Embarked','Survived']).Survived.count()"
      ],
      "id": "frozen-melissa",
      "execution_count": null,
      "outputs": [
        {
          "output_type": "execute_result",
          "data": {
            "text/plain": [
              "Embarked  Survived\n",
              "C         0            5518\n",
              "          1           16669\n",
              "Q         0            2186\n",
              "          1            3238\n",
              "S         0           49394\n",
              "          1           22745\n",
              "Name: Survived, dtype: int64"
            ]
          },
          "metadata": {
            "tags": []
          },
          "execution_count": 131
        }
      ]
    },
    {
      "cell_type": "code",
      "metadata": {
        "execution": {
          "iopub.execute_input": "2021-04-22T12:24:17.578843Z",
          "iopub.status.busy": "2021-04-22T12:24:17.577674Z",
          "iopub.status.idle": "2021-04-22T12:24:17.598424Z",
          "shell.execute_reply": "2021-04-22T12:24:17.598991Z"
        },
        "papermill": {
          "duration": 0.140582,
          "end_time": "2021-04-22T12:24:17.599178",
          "exception": false,
          "start_time": "2021-04-22T12:24:17.458596",
          "status": "completed"
        },
        "tags": [],
        "colab": {
          "base_uri": "https://localhost:8080/"
        },
        "id": "concrete-cardiff",
        "outputId": "9bff2124-6416-4819-99a4-a3c200e6c52d"
      },
      "source": [
        "train[train['Embarked'].isnull()].groupby('Survived').Survived.count()"
      ],
      "id": "concrete-cardiff",
      "execution_count": null,
      "outputs": [
        {
          "output_type": "execute_result",
          "data": {
            "text/plain": [
              "Survived\n",
              "0    128\n",
              "1    122\n",
              "Name: Survived, dtype: int64"
            ]
          },
          "metadata": {
            "tags": []
          },
          "execution_count": 132
        }
      ]
    },
    {
      "cell_type": "markdown",
      "metadata": {
        "papermill": {
          "duration": 0.126218,
          "end_time": "2021-04-22T12:24:17.845321",
          "exception": false,
          "start_time": "2021-04-22T12:24:17.719103",
          "status": "completed"
        },
        "tags": [],
        "id": "crucial-listening"
      },
      "source": [
        "### Here we have two options to impute the mode that is **S** or impute the category which has most equal ratio as survived that is **Q** So we can do trial and error"
      ],
      "id": "crucial-listening"
    },
    {
      "cell_type": "code",
      "metadata": {
        "execution": {
          "iopub.execute_input": "2021-04-22T12:24:18.132014Z",
          "iopub.status.busy": "2021-04-22T12:24:18.130864Z",
          "iopub.status.idle": "2021-04-22T12:24:18.261097Z",
          "shell.execute_reply": "2021-04-22T12:24:18.260372Z"
        },
        "papermill": {
          "duration": 0.299888,
          "end_time": "2021-04-22T12:24:18.261250",
          "exception": false,
          "start_time": "2021-04-22T12:24:17.961362",
          "status": "completed"
        },
        "tags": [],
        "id": "illegal-wallace"
      },
      "source": [
        "# imputing Q\n",
        "l=[]\n",
        "for i in train['Embarked']:\n",
        "    if i in[np.nan]:\n",
        "        l.append('S')\n",
        "    else:\n",
        "        l.append(i)\n",
        "\n",
        "train['Embarked']=l\n",
        "\n",
        "l=[]\n",
        "for i in test['Embarked']:\n",
        "    if i in[np.nan]:\n",
        "        l.append('S')\n",
        "    else:\n",
        "        l.append(i)\n",
        "\n",
        "test['Embarked']=l"
      ],
      "id": "illegal-wallace",
      "execution_count": null,
      "outputs": []
    },
    {
      "cell_type": "markdown",
      "metadata": {
        "papermill": {
          "duration": 0.148118,
          "end_time": "2021-04-22T12:24:18.533247",
          "exception": false,
          "start_time": "2021-04-22T12:24:18.385129",
          "status": "completed"
        },
        "tags": [],
        "id": "persistent-evanescence"
      },
      "source": [
        "## Every missing value has been handled"
      ],
      "id": "persistent-evanescence"
    },
    {
      "cell_type": "code",
      "metadata": {
        "execution": {
          "iopub.execute_input": "2021-04-22T12:24:18.843810Z",
          "iopub.status.busy": "2021-04-22T12:24:18.843133Z",
          "iopub.status.idle": "2021-04-22T12:24:18.859176Z",
          "shell.execute_reply": "2021-04-22T12:24:18.858552Z"
        },
        "papermill": {
          "duration": 0.197477,
          "end_time": "2021-04-22T12:24:18.859348",
          "exception": false,
          "start_time": "2021-04-22T12:24:18.661871",
          "status": "completed"
        },
        "tags": [],
        "colab": {
          "base_uri": "https://localhost:8080/"
        },
        "id": "polyphonic-karen",
        "outputId": "2b03a177-59e2-439a-942c-08ed8311767c"
      },
      "source": [
        "train.isnull().sum()"
      ],
      "id": "polyphonic-karen",
      "execution_count": null,
      "outputs": [
        {
          "output_type": "execute_result",
          "data": {
            "text/plain": [
              "PassengerId    0\n",
              "Survived       0\n",
              "Pclass         0\n",
              "Name           0\n",
              "Sex            0\n",
              "Age            0\n",
              "SibSp          0\n",
              "Parch          0\n",
              "Ticket         0\n",
              "Fare           0\n",
              "Embarked       0\n",
              "dtype: int64"
            ]
          },
          "metadata": {
            "tags": []
          },
          "execution_count": 134
        }
      ]
    },
    {
      "cell_type": "code",
      "metadata": {
        "execution": {
          "iopub.execute_input": "2021-04-22T12:24:19.157741Z",
          "iopub.status.busy": "2021-04-22T12:24:19.156529Z",
          "iopub.status.idle": "2021-04-22T12:24:19.166205Z",
          "shell.execute_reply": "2021-04-22T12:24:19.166739Z"
        },
        "papermill": {
          "duration": 0.184396,
          "end_time": "2021-04-22T12:24:19.166963",
          "exception": false,
          "start_time": "2021-04-22T12:24:18.982567",
          "status": "completed"
        },
        "tags": [],
        "colab": {
          "base_uri": "https://localhost:8080/"
        },
        "id": "external-walnut",
        "outputId": "a3e044d4-4728-4b29-8887-84b223e8e75f"
      },
      "source": [
        "test.isnull().sum()"
      ],
      "id": "external-walnut",
      "execution_count": null,
      "outputs": [
        {
          "output_type": "execute_result",
          "data": {
            "text/plain": [
              "PassengerId    0\n",
              "Pclass         0\n",
              "Name           0\n",
              "Sex            0\n",
              "Age            0\n",
              "SibSp          0\n",
              "Parch          0\n",
              "Ticket         0\n",
              "Fare           0\n",
              "Embarked       0\n",
              "dtype: int64"
            ]
          },
          "metadata": {
            "tags": []
          },
          "execution_count": 135
        }
      ]
    },
    {
      "cell_type": "code",
      "metadata": {
        "execution": {
          "iopub.execute_input": "2021-04-22T12:24:19.419558Z",
          "iopub.status.busy": "2021-04-22T12:24:19.418497Z",
          "iopub.status.idle": "2021-04-22T12:24:20.398778Z",
          "shell.execute_reply": "2021-04-22T12:24:20.398059Z"
        },
        "papermill": {
          "duration": 1.108877,
          "end_time": "2021-04-22T12:24:20.398953",
          "exception": false,
          "start_time": "2021-04-22T12:24:19.290076",
          "status": "completed"
        },
        "tags": [],
        "id": "alpha-wilderness"
      },
      "source": [
        "train['LastName'] = train['Name'].str.split(', ').str[0:1]\n",
        "test['LastName'] = test['Name'].str.split(', ').str[0:1]"
      ],
      "id": "alpha-wilderness",
      "execution_count": null,
      "outputs": []
    },
    {
      "cell_type": "code",
      "metadata": {
        "execution": {
          "iopub.execute_input": "2021-04-22T12:24:20.656988Z",
          "iopub.status.busy": "2021-04-22T12:24:20.651706Z",
          "iopub.status.idle": "2021-04-22T12:24:20.747570Z",
          "shell.execute_reply": "2021-04-22T12:24:20.746767Z"
        },
        "papermill": {
          "duration": 0.231165,
          "end_time": "2021-04-22T12:24:20.747729",
          "exception": false,
          "start_time": "2021-04-22T12:24:20.516564",
          "status": "completed"
        },
        "tags": [],
        "id": "hispanic-project"
      },
      "source": [
        "l=[]\n",
        "for i in train['LastName']:\n",
        "    \n",
        "    l.append(i[0])\n",
        "    \n",
        "train['LastName'] = l\n",
        "\n",
        "\n",
        "l=[]\n",
        "for i in test['LastName']:\n",
        "    l.append(i[0])\n",
        "    \n",
        "test['LastName'] = l"
      ],
      "id": "hispanic-project",
      "execution_count": null,
      "outputs": []
    },
    {
      "cell_type": "code",
      "metadata": {
        "execution": {
          "iopub.execute_input": "2021-04-22T12:24:20.996015Z",
          "iopub.status.busy": "2021-04-22T12:24:20.995112Z",
          "iopub.status.idle": "2021-04-22T12:24:21.074795Z",
          "shell.execute_reply": "2021-04-22T12:24:21.074158Z"
        },
        "papermill": {
          "duration": 0.206575,
          "end_time": "2021-04-22T12:24:21.074985",
          "exception": false,
          "start_time": "2021-04-22T12:24:20.868410",
          "status": "completed"
        },
        "tags": [],
        "colab": {
          "base_uri": "https://localhost:8080/",
          "height": 669
        },
        "id": "irish-inspector",
        "outputId": "6aadbffa-f356-4de5-c2cc-8ebb32dfadb2"
      },
      "source": [
        "df = train.groupby('LastName').Survived.agg(['count','mean']).sort_values(by='count',ascending=False)\n",
        "df = df.reset_index()\n",
        "df.head(20)\n"
      ],
      "id": "irish-inspector",
      "execution_count": null,
      "outputs": [
        {
          "output_type": "execute_result",
          "data": {
            "text/html": [
              "<div>\n",
              "<style scoped>\n",
              "    .dataframe tbody tr th:only-of-type {\n",
              "        vertical-align: middle;\n",
              "    }\n",
              "\n",
              "    .dataframe tbody tr th {\n",
              "        vertical-align: top;\n",
              "    }\n",
              "\n",
              "    .dataframe thead th {\n",
              "        text-align: right;\n",
              "    }\n",
              "</style>\n",
              "<table border=\"1\" class=\"dataframe\">\n",
              "  <thead>\n",
              "    <tr style=\"text-align: right;\">\n",
              "      <th></th>\n",
              "      <th>LastName</th>\n",
              "      <th>count</th>\n",
              "      <th>mean</th>\n",
              "    </tr>\n",
              "  </thead>\n",
              "  <tbody>\n",
              "    <tr>\n",
              "      <th>0</th>\n",
              "      <td>Smith</td>\n",
              "      <td>1162</td>\n",
              "      <td>0.435456</td>\n",
              "    </tr>\n",
              "    <tr>\n",
              "      <th>1</th>\n",
              "      <td>Johnson</td>\n",
              "      <td>950</td>\n",
              "      <td>0.424211</td>\n",
              "    </tr>\n",
              "    <tr>\n",
              "      <th>2</th>\n",
              "      <td>Williams</td>\n",
              "      <td>733</td>\n",
              "      <td>0.410641</td>\n",
              "    </tr>\n",
              "    <tr>\n",
              "      <th>3</th>\n",
              "      <td>Jones</td>\n",
              "      <td>681</td>\n",
              "      <td>0.439060</td>\n",
              "    </tr>\n",
              "    <tr>\n",
              "      <th>4</th>\n",
              "      <td>Brown</td>\n",
              "      <td>665</td>\n",
              "      <td>0.433083</td>\n",
              "    </tr>\n",
              "    <tr>\n",
              "      <th>5</th>\n",
              "      <td>Davis</td>\n",
              "      <td>519</td>\n",
              "      <td>0.420039</td>\n",
              "    </tr>\n",
              "    <tr>\n",
              "      <th>6</th>\n",
              "      <td>Miller</td>\n",
              "      <td>427</td>\n",
              "      <td>0.449649</td>\n",
              "    </tr>\n",
              "    <tr>\n",
              "      <th>7</th>\n",
              "      <td>Thomas</td>\n",
              "      <td>374</td>\n",
              "      <td>0.401070</td>\n",
              "    </tr>\n",
              "    <tr>\n",
              "      <th>8</th>\n",
              "      <td>Wilson</td>\n",
              "      <td>371</td>\n",
              "      <td>0.431267</td>\n",
              "    </tr>\n",
              "    <tr>\n",
              "      <th>9</th>\n",
              "      <td>Moore</td>\n",
              "      <td>363</td>\n",
              "      <td>0.407713</td>\n",
              "    </tr>\n",
              "    <tr>\n",
              "      <th>10</th>\n",
              "      <td>Jackson</td>\n",
              "      <td>357</td>\n",
              "      <td>0.456583</td>\n",
              "    </tr>\n",
              "    <tr>\n",
              "      <th>11</th>\n",
              "      <td>Anderson</td>\n",
              "      <td>341</td>\n",
              "      <td>0.407625</td>\n",
              "    </tr>\n",
              "    <tr>\n",
              "      <th>12</th>\n",
              "      <td>Taylor</td>\n",
              "      <td>337</td>\n",
              "      <td>0.427300</td>\n",
              "    </tr>\n",
              "    <tr>\n",
              "      <th>13</th>\n",
              "      <td>Martin</td>\n",
              "      <td>317</td>\n",
              "      <td>0.441640</td>\n",
              "    </tr>\n",
              "    <tr>\n",
              "      <th>14</th>\n",
              "      <td>Thompson</td>\n",
              "      <td>305</td>\n",
              "      <td>0.488525</td>\n",
              "    </tr>\n",
              "    <tr>\n",
              "      <th>15</th>\n",
              "      <td>White</td>\n",
              "      <td>305</td>\n",
              "      <td>0.426230</td>\n",
              "    </tr>\n",
              "    <tr>\n",
              "      <th>16</th>\n",
              "      <td>Garcia</td>\n",
              "      <td>300</td>\n",
              "      <td>0.393333</td>\n",
              "    </tr>\n",
              "    <tr>\n",
              "      <th>17</th>\n",
              "      <td>Walker</td>\n",
              "      <td>281</td>\n",
              "      <td>0.459075</td>\n",
              "    </tr>\n",
              "    <tr>\n",
              "      <th>18</th>\n",
              "      <td>Martinez</td>\n",
              "      <td>265</td>\n",
              "      <td>0.498113</td>\n",
              "    </tr>\n",
              "    <tr>\n",
              "      <th>19</th>\n",
              "      <td>Harris</td>\n",
              "      <td>263</td>\n",
              "      <td>0.456274</td>\n",
              "    </tr>\n",
              "  </tbody>\n",
              "</table>\n",
              "</div>"
            ],
            "text/plain": [
              "    LastName  count      mean\n",
              "0      Smith   1162  0.435456\n",
              "1    Johnson    950  0.424211\n",
              "2   Williams    733  0.410641\n",
              "3      Jones    681  0.439060\n",
              "4      Brown    665  0.433083\n",
              "5      Davis    519  0.420039\n",
              "6     Miller    427  0.449649\n",
              "7     Thomas    374  0.401070\n",
              "8     Wilson    371  0.431267\n",
              "9      Moore    363  0.407713\n",
              "10   Jackson    357  0.456583\n",
              "11  Anderson    341  0.407625\n",
              "12    Taylor    337  0.427300\n",
              "13    Martin    317  0.441640\n",
              "14  Thompson    305  0.488525\n",
              "15     White    305  0.426230\n",
              "16    Garcia    300  0.393333\n",
              "17    Walker    281  0.459075\n",
              "18  Martinez    265  0.498113\n",
              "19    Harris    263  0.456274"
            ]
          },
          "metadata": {
            "tags": []
          },
          "execution_count": 138
        }
      ]
    },
    {
      "cell_type": "code",
      "metadata": {
        "execution": {
          "iopub.execute_input": "2021-04-22T12:24:21.314463Z",
          "iopub.status.busy": "2021-04-22T12:24:21.313796Z",
          "iopub.status.idle": "2021-04-22T12:24:21.402182Z",
          "shell.execute_reply": "2021-04-22T12:24:21.402764Z"
        },
        "papermill": {
          "duration": 0.210911,
          "end_time": "2021-04-22T12:24:21.402987",
          "exception": false,
          "start_time": "2021-04-22T12:24:21.192076",
          "status": "completed"
        },
        "tags": [],
        "colab": {
          "base_uri": "https://localhost:8080/",
          "height": 669
        },
        "id": "fourth-worker",
        "outputId": "5f87ddfe-c161-48f8-cada-0c069d9833ec"
      },
      "source": [
        "df2 = test.groupby('LastName').LastName.agg(['count']).sort_values(by='count',ascending=False)\n",
        "df2 = df2.reset_index()\n",
        "df2.head(20)\n"
      ],
      "id": "fourth-worker",
      "execution_count": null,
      "outputs": [
        {
          "output_type": "execute_result",
          "data": {
            "text/html": [
              "<div>\n",
              "<style scoped>\n",
              "    .dataframe tbody tr th:only-of-type {\n",
              "        vertical-align: middle;\n",
              "    }\n",
              "\n",
              "    .dataframe tbody tr th {\n",
              "        vertical-align: top;\n",
              "    }\n",
              "\n",
              "    .dataframe thead th {\n",
              "        text-align: right;\n",
              "    }\n",
              "</style>\n",
              "<table border=\"1\" class=\"dataframe\">\n",
              "  <thead>\n",
              "    <tr style=\"text-align: right;\">\n",
              "      <th></th>\n",
              "      <th>LastName</th>\n",
              "      <th>count</th>\n",
              "    </tr>\n",
              "  </thead>\n",
              "  <tbody>\n",
              "    <tr>\n",
              "      <th>0</th>\n",
              "      <td>Smith</td>\n",
              "      <td>1143</td>\n",
              "    </tr>\n",
              "    <tr>\n",
              "      <th>1</th>\n",
              "      <td>Johnson</td>\n",
              "      <td>867</td>\n",
              "    </tr>\n",
              "    <tr>\n",
              "      <th>2</th>\n",
              "      <td>Williams</td>\n",
              "      <td>755</td>\n",
              "    </tr>\n",
              "    <tr>\n",
              "      <th>3</th>\n",
              "      <td>Brown</td>\n",
              "      <td>687</td>\n",
              "    </tr>\n",
              "    <tr>\n",
              "      <th>4</th>\n",
              "      <td>Jones</td>\n",
              "      <td>651</td>\n",
              "    </tr>\n",
              "    <tr>\n",
              "      <th>5</th>\n",
              "      <td>Davis</td>\n",
              "      <td>546</td>\n",
              "    </tr>\n",
              "    <tr>\n",
              "      <th>6</th>\n",
              "      <td>Miller</td>\n",
              "      <td>478</td>\n",
              "    </tr>\n",
              "    <tr>\n",
              "      <th>7</th>\n",
              "      <td>Wilson</td>\n",
              "      <td>419</td>\n",
              "    </tr>\n",
              "    <tr>\n",
              "      <th>8</th>\n",
              "      <td>Moore</td>\n",
              "      <td>379</td>\n",
              "    </tr>\n",
              "    <tr>\n",
              "      <th>9</th>\n",
              "      <td>Anderson</td>\n",
              "      <td>370</td>\n",
              "    </tr>\n",
              "    <tr>\n",
              "      <th>10</th>\n",
              "      <td>Taylor</td>\n",
              "      <td>358</td>\n",
              "    </tr>\n",
              "    <tr>\n",
              "      <th>11</th>\n",
              "      <td>Jackson</td>\n",
              "      <td>353</td>\n",
              "    </tr>\n",
              "    <tr>\n",
              "      <th>12</th>\n",
              "      <td>Thomas</td>\n",
              "      <td>350</td>\n",
              "    </tr>\n",
              "    <tr>\n",
              "      <th>13</th>\n",
              "      <td>Martin</td>\n",
              "      <td>305</td>\n",
              "    </tr>\n",
              "    <tr>\n",
              "      <th>14</th>\n",
              "      <td>Thompson</td>\n",
              "      <td>302</td>\n",
              "    </tr>\n",
              "    <tr>\n",
              "      <th>15</th>\n",
              "      <td>White</td>\n",
              "      <td>297</td>\n",
              "    </tr>\n",
              "    <tr>\n",
              "      <th>16</th>\n",
              "      <td>Garcia</td>\n",
              "      <td>297</td>\n",
              "    </tr>\n",
              "    <tr>\n",
              "      <th>17</th>\n",
              "      <td>Walker</td>\n",
              "      <td>277</td>\n",
              "    </tr>\n",
              "    <tr>\n",
              "      <th>18</th>\n",
              "      <td>Lee</td>\n",
              "      <td>266</td>\n",
              "    </tr>\n",
              "    <tr>\n",
              "      <th>19</th>\n",
              "      <td>Rodriguez</td>\n",
              "      <td>266</td>\n",
              "    </tr>\n",
              "  </tbody>\n",
              "</table>\n",
              "</div>"
            ],
            "text/plain": [
              "     LastName  count\n",
              "0       Smith   1143\n",
              "1     Johnson    867\n",
              "2    Williams    755\n",
              "3       Brown    687\n",
              "4       Jones    651\n",
              "5       Davis    546\n",
              "6      Miller    478\n",
              "7      Wilson    419\n",
              "8       Moore    379\n",
              "9    Anderson    370\n",
              "10     Taylor    358\n",
              "11    Jackson    353\n",
              "12     Thomas    350\n",
              "13     Martin    305\n",
              "14   Thompson    302\n",
              "15      White    297\n",
              "16     Garcia    297\n",
              "17     Walker    277\n",
              "18        Lee    266\n",
              "19  Rodriguez    266"
            ]
          },
          "metadata": {
            "tags": []
          },
          "execution_count": 139
        }
      ]
    },
    {
      "cell_type": "code",
      "metadata": {
        "execution": {
          "iopub.execute_input": "2021-04-22T12:24:21.647795Z",
          "iopub.status.busy": "2021-04-22T12:24:21.646962Z",
          "iopub.status.idle": "2021-04-22T12:24:22.661785Z",
          "shell.execute_reply": "2021-04-22T12:24:22.662463Z"
        },
        "papermill": {
          "duration": 1.144187,
          "end_time": "2021-04-22T12:24:22.662674",
          "exception": false,
          "start_time": "2021-04-22T12:24:21.518487",
          "status": "completed"
        },
        "tags": [],
        "id": "mature-advocate"
      },
      "source": [
        "d = {}\n",
        "for i in range(df.shape[0]):\n",
        "    d[df['LastName'][i]] = df['count'][i]\n",
        "\n",
        "for i in range (df2.shape[0]):\n",
        "    if df2['LastName'][i] not in d.keys():\n",
        "        d[df2['LastName'][i]] = 0\n",
        "    d[df2['LastName'][i]] += df2['count'][i]"
      ],
      "id": "mature-advocate",
      "execution_count": null,
      "outputs": []
    },
    {
      "cell_type": "code",
      "metadata": {
        "execution": {
          "iopub.execute_input": "2021-04-22T12:24:22.910893Z",
          "iopub.status.busy": "2021-04-22T12:24:22.910242Z",
          "iopub.status.idle": "2021-04-22T12:24:23.163672Z",
          "shell.execute_reply": "2021-04-22T12:24:23.164405Z"
        },
        "papermill": {
          "duration": 0.376331,
          "end_time": "2021-04-22T12:24:23.164613",
          "exception": false,
          "start_time": "2021-04-22T12:24:22.788282",
          "status": "completed"
        },
        "tags": [],
        "id": "polar-structure"
      },
      "source": [
        "l=[]\n",
        "for i in train['LastName']:\n",
        "    if(d[i]>=10):\n",
        "        l.append(i)\n",
        "    else:\n",
        "        l.append('RandomSurname')\n",
        "    \n",
        "train['LastName'] = l\n",
        "\n",
        "\n",
        "l=[]\n",
        "for i in test['LastName']:\n",
        "    if(d[i]>=5):\n",
        "        l.append(i)\n",
        "    else:\n",
        "        l.append('RandomSurname')\n",
        "    \n",
        "test['LastName'] = l"
      ],
      "id": "polar-structure",
      "execution_count": null,
      "outputs": []
    },
    {
      "cell_type": "code",
      "metadata": {
        "execution": {
          "iopub.execute_input": "2021-04-22T12:24:23.418409Z",
          "iopub.status.busy": "2021-04-22T12:24:23.417041Z",
          "iopub.status.idle": "2021-04-22T12:24:23.899778Z",
          "shell.execute_reply": "2021-04-22T12:24:23.900449Z"
        },
        "papermill": {
          "duration": 0.609433,
          "end_time": "2021-04-22T12:24:23.900672",
          "exception": false,
          "start_time": "2021-04-22T12:24:23.291239",
          "status": "completed"
        },
        "tags": [],
        "id": "sublime-providence"
      },
      "source": [
        "## Encoding CATEGORICAL variables Sex, Embarked\n",
        "le =LabelEncoder()\n",
        "train['Sex'] = le.fit_transform(train['Sex'])\n",
        "test['Sex'] = le.transform(test['Sex'])\n",
        "train['Embarked'] = le.fit_transform(train['Embarked'])\n",
        "test['Embarked'] = le.transform(test['Embarked'])\n",
        "train['Ticket'] = le.fit_transform(train['Ticket'])\n",
        "test['Ticket'] = le.transform(test['Ticket'])\n",
        "le.fit(list(train['LastName'])+list(test['LastName']))\n",
        "train['LastName']=le.transform(train['LastName'])\n",
        "test['LastName'] = le.transform(test['LastName'])\n"
      ],
      "id": "sublime-providence",
      "execution_count": null,
      "outputs": []
    },
    {
      "cell_type": "code",
      "metadata": {
        "execution": {
          "iopub.execute_input": "2021-04-22T12:24:24.154515Z",
          "iopub.status.busy": "2021-04-22T12:24:24.153249Z",
          "iopub.status.idle": "2021-04-22T12:24:24.431041Z",
          "shell.execute_reply": "2021-04-22T12:24:24.431583Z"
        },
        "papermill": {
          "duration": 0.405343,
          "end_time": "2021-04-22T12:24:24.431790",
          "exception": false,
          "start_time": "2021-04-22T12:24:24.026447",
          "status": "completed"
        },
        "tags": [],
        "colab": {
          "base_uri": "https://localhost:8080/",
          "height": 303
        },
        "id": "italic-mechanism",
        "outputId": "ccef9f3d-7e1e-447e-9f1b-ce52e8071ffd"
      },
      "source": [
        "sns.countplot(x='Parch',hue='Survived',data=train)"
      ],
      "id": "italic-mechanism",
      "execution_count": null,
      "outputs": [
        {
          "output_type": "execute_result",
          "data": {
            "text/plain": [
              "<matplotlib.axes._subplots.AxesSubplot at 0x7fd8e6c9dd90>"
            ]
          },
          "metadata": {
            "tags": []
          },
          "execution_count": 143
        },
        {
          "output_type": "display_data",
          "data": {
            "image/png": "[encoded data removed]",
            "text/plain": [
              "<Figure size 432x288 with 1 Axes>"
            ]
          },
          "metadata": {
            "tags": []
          }
        }
      ]
    },
    {
      "cell_type": "code",
      "metadata": {
        "execution": {
          "iopub.execute_input": "2021-04-22T12:24:24.676626Z",
          "iopub.status.busy": "2021-04-22T12:24:24.675353Z",
          "iopub.status.idle": "2021-04-22T12:24:24.957961Z",
          "shell.execute_reply": "2021-04-22T12:24:24.957416Z"
        },
        "papermill": {
          "duration": 0.406775,
          "end_time": "2021-04-22T12:24:24.958124",
          "exception": false,
          "start_time": "2021-04-22T12:24:24.551349",
          "status": "completed"
        },
        "tags": [],
        "colab": {
          "base_uri": "https://localhost:8080/",
          "height": 303
        },
        "id": "powerful-rebate",
        "outputId": "0cf1a5a9-bb37-4e8c-df4b-257be067593a"
      },
      "source": [
        "sns.countplot(x='SibSp',hue='Survived',data=train)"
      ],
      "id": "powerful-rebate",
      "execution_count": null,
      "outputs": [
        {
          "output_type": "execute_result",
          "data": {
            "text/plain": [
              "<matplotlib.axes._subplots.AxesSubplot at 0x7fd8e6ce20d0>"
            ]
          },
          "metadata": {
            "tags": []
          },
          "execution_count": 144
        },
        {
          "output_type": "display_data",
          "data": {
            "image/png": "[encoded data removed]",
            "text/plain": [
              "<Figure size 432x288 with 1 Axes>"
            ]
          },
          "metadata": {
            "tags": []
          }
        }
      ]
    },
    {
      "cell_type": "markdown",
      "metadata": {
        "papermill": {
          "duration": 0.118563,
          "end_time": "2021-04-22T12:24:25.203218",
          "exception": false,
          "start_time": "2021-04-22T12:24:25.084655",
          "status": "completed"
        },
        "tags": [],
        "id": "varying-resource"
      },
      "source": [
        "### We can make another feature corelating with both Parch and Sibsp"
      ],
      "id": "varying-resource"
    },
    {
      "cell_type": "code",
      "metadata": {
        "execution": {
          "iopub.execute_input": "2021-04-22T12:24:25.447991Z",
          "iopub.status.busy": "2021-04-22T12:24:25.447280Z",
          "iopub.status.idle": "2021-04-22T12:24:25.742570Z",
          "shell.execute_reply": "2021-04-22T12:24:25.741889Z"
        },
        "papermill": {
          "duration": 0.424075,
          "end_time": "2021-04-22T12:24:25.742712",
          "exception": false,
          "start_time": "2021-04-22T12:24:25.318637",
          "status": "completed"
        },
        "tags": [],
        "id": "lasting-assembly"
      },
      "source": [
        "train['FamOnBoard'] = train['Parch']+train['SibSp']\n",
        "test['FamOnBoard'] = test['Parch']+test['SibSp']\n",
        "l=[]\n",
        "l2=[]\n",
        "for i in train['FamOnBoard']:\n",
        "    if i ==0:\n",
        "        l.append(1)\n",
        "    else:\n",
        "        l.append(0)\n",
        "    if i>=3:\n",
        "        l2.append(1)\n",
        "    else:\n",
        "        l2.append(0)\n",
        "\n",
        "train['Alone'] = l\n",
        "train['BigFam'] = l2\n",
        "\n",
        "\n",
        "\n",
        "l=[]\n",
        "l2=[]\n",
        "for i in test['FamOnBoard']:\n",
        "    if i ==0:\n",
        "        l.append(1)\n",
        "    else:\n",
        "        l.append(0)\n",
        "    if i>=3:\n",
        "        l2.append(1)\n",
        "    else:\n",
        "        l2.append(0)\n",
        "\n",
        "test['Alone'] = l\n",
        "test['BigFam'] = l2"
      ],
      "id": "lasting-assembly",
      "execution_count": null,
      "outputs": []
    },
    {
      "cell_type": "code",
      "metadata": {
        "execution": {
          "iopub.execute_input": "2021-04-22T12:24:25.993734Z",
          "iopub.status.busy": "2021-04-22T12:24:25.992160Z",
          "iopub.status.idle": "2021-04-22T12:24:26.019783Z",
          "shell.execute_reply": "2021-04-22T12:24:26.019167Z"
        },
        "papermill": {
          "duration": 0.155285,
          "end_time": "2021-04-22T12:24:26.019954",
          "exception": false,
          "start_time": "2021-04-22T12:24:25.864669",
          "status": "completed"
        },
        "tags": [],
        "id": "forty-illness"
      },
      "source": [
        "X = train.drop(['PassengerId','Survived','Name'],axis=1)\n",
        "X_test = test.drop(['PassengerId','Name'],axis=1)   \n",
        "y = train['Survived']"
      ],
      "id": "forty-illness",
      "execution_count": null,
      "outputs": []
    },
    {
      "cell_type": "code",
      "metadata": {
        "execution": {
          "iopub.execute_input": "2021-04-22T12:24:26.276334Z",
          "iopub.status.busy": "2021-04-22T12:24:26.275377Z",
          "iopub.status.idle": "2021-04-22T12:24:26.280679Z",
          "shell.execute_reply": "2021-04-22T12:24:26.280081Z"
        },
        "papermill": {
          "duration": 0.1404,
          "end_time": "2021-04-22T12:24:26.280828",
          "exception": false,
          "start_time": "2021-04-22T12:24:26.140428",
          "status": "completed"
        },
        "tags": [],
        "colab": {
          "base_uri": "https://localhost:8080/",
          "height": 204
        },
        "id": "alpine-avenue",
        "outputId": "84bc58ac-08e5-4c43-bf2a-2834ac234f5f"
      },
      "source": [
        "X.head()"
      ],
      "id": "alpine-avenue",
      "execution_count": null,
      "outputs": [
        {
          "output_type": "execute_result",
          "data": {
            "text/html": [
              "<div>\n",
              "<style scoped>\n",
              "    .dataframe tbody tr th:only-of-type {\n",
              "        vertical-align: middle;\n",
              "    }\n",
              "\n",
              "    .dataframe tbody tr th {\n",
              "        vertical-align: top;\n",
              "    }\n",
              "\n",
              "    .dataframe thead th {\n",
              "        text-align: right;\n",
              "    }\n",
              "</style>\n",
              "<table border=\"1\" class=\"dataframe\">\n",
              "  <thead>\n",
              "    <tr style=\"text-align: right;\">\n",
              "      <th></th>\n",
              "      <th>Pclass</th>\n",
              "      <th>Sex</th>\n",
              "      <th>Age</th>\n",
              "      <th>SibSp</th>\n",
              "      <th>Parch</th>\n",
              "      <th>Ticket</th>\n",
              "      <th>Fare</th>\n",
              "      <th>Embarked</th>\n",
              "      <th>LastName</th>\n",
              "      <th>FamOnBoard</th>\n",
              "      <th>Alone</th>\n",
              "      <th>BigFam</th>\n",
              "    </tr>\n",
              "  </thead>\n",
              "  <tbody>\n",
              "    <tr>\n",
              "      <th>0</th>\n",
              "      <td>1</td>\n",
              "      <td>1</td>\n",
              "      <td>38.355472</td>\n",
              "      <td>2</td>\n",
              "      <td>0</td>\n",
              "      <td>5</td>\n",
              "      <td>27.14</td>\n",
              "      <td>2</td>\n",
              "      <td>4912</td>\n",
              "      <td>2</td>\n",
              "      <td>0</td>\n",
              "      <td>0</td>\n",
              "    </tr>\n",
              "    <tr>\n",
              "      <th>1</th>\n",
              "      <td>3</td>\n",
              "      <td>1</td>\n",
              "      <td>38.355472</td>\n",
              "      <td>0</td>\n",
              "      <td>0</td>\n",
              "      <td>5</td>\n",
              "      <td>13.35</td>\n",
              "      <td>2</td>\n",
              "      <td>896</td>\n",
              "      <td>0</td>\n",
              "      <td>1</td>\n",
              "      <td>0</td>\n",
              "    </tr>\n",
              "    <tr>\n",
              "      <th>2</th>\n",
              "      <td>3</td>\n",
              "      <td>1</td>\n",
              "      <td>0.330000</td>\n",
              "      <td>1</td>\n",
              "      <td>2</td>\n",
              "      <td>1</td>\n",
              "      <td>71.29</td>\n",
              "      <td>2</td>\n",
              "      <td>5002</td>\n",
              "      <td>3</td>\n",
              "      <td>0</td>\n",
              "      <td>1</td>\n",
              "    </tr>\n",
              "    <tr>\n",
              "      <th>3</th>\n",
              "      <td>3</td>\n",
              "      <td>1</td>\n",
              "      <td>19.000000</td>\n",
              "      <td>0</td>\n",
              "      <td>0</td>\n",
              "      <td>0</td>\n",
              "      <td>13.04</td>\n",
              "      <td>2</td>\n",
              "      <td>3655</td>\n",
              "      <td>0</td>\n",
              "      <td>1</td>\n",
              "      <td>0</td>\n",
              "    </tr>\n",
              "    <tr>\n",
              "      <th>4</th>\n",
              "      <td>3</td>\n",
              "      <td>1</td>\n",
              "      <td>25.000000</td>\n",
              "      <td>0</td>\n",
              "      <td>0</td>\n",
              "      <td>5</td>\n",
              "      <td>7.76</td>\n",
              "      <td>2</td>\n",
              "      <td>670</td>\n",
              "      <td>0</td>\n",
              "      <td>1</td>\n",
              "      <td>0</td>\n",
              "    </tr>\n",
              "  </tbody>\n",
              "</table>\n",
              "</div>"
            ],
            "text/plain": [
              "   Pclass  Sex        Age  SibSp  ...  LastName  FamOnBoard  Alone  BigFam\n",
              "0       1    1  38.355472      2  ...      4912           2      0       0\n",
              "1       3    1  38.355472      0  ...       896           0      1       0\n",
              "2       3    1   0.330000      1  ...      5002           3      0       1\n",
              "3       3    1  19.000000      0  ...      3655           0      1       0\n",
              "4       3    1  25.000000      0  ...       670           0      1       0\n",
              "\n",
              "[5 rows x 12 columns]"
            ]
          },
          "metadata": {
            "tags": []
          },
          "execution_count": 147
        }
      ]
    },
    {
      "cell_type": "code",
      "metadata": {
        "execution": {
          "iopub.execute_input": "2021-04-22T12:24:26.523990Z",
          "iopub.status.busy": "2021-04-22T12:24:26.523328Z",
          "iopub.status.idle": "2021-04-22T12:24:26.989329Z",
          "shell.execute_reply": "2021-04-22T12:24:26.988614Z"
        },
        "papermill": {
          "duration": 0.589986,
          "end_time": "2021-04-22T12:24:26.989502",
          "exception": false,
          "start_time": "2021-04-22T12:24:26.399516",
          "status": "completed"
        },
        "tags": [],
        "colab": {
          "base_uri": "https://localhost:8080/",
          "height": 303
        },
        "id": "medieval-flashing",
        "outputId": "fb935fda-6223-479f-c552-7f51383b4dc2"
      },
      "source": [
        "sns.countplot(x='FamOnBoard',hue='Survived',data=train)"
      ],
      "id": "medieval-flashing",
      "execution_count": null,
      "outputs": [
        {
          "output_type": "execute_result",
          "data": {
            "text/plain": [
              "<matplotlib.axes._subplots.AxesSubplot at 0x7fd8e6ceb890>"
            ]
          },
          "metadata": {
            "tags": []
          },
          "execution_count": 148
        },
        {
          "output_type": "display_data",
          "data": {
            "image/png": "[encoded data removed]",
            "text/plain": [
              "<Figure size 432x288 with 1 Axes>"
            ]
          },
          "metadata": {
            "tags": []
          }
        }
      ]
    },
    {
      "cell_type": "code",
      "metadata": {
        "execution": {
          "iopub.execute_input": "2021-04-22T12:24:27.246081Z",
          "iopub.status.busy": "2021-04-22T12:24:27.245285Z",
          "iopub.status.idle": "2021-04-22T12:24:27.449417Z",
          "shell.execute_reply": "2021-04-22T12:24:27.448744Z"
        },
        "papermill": {
          "duration": 0.332434,
          "end_time": "2021-04-22T12:24:27.449573",
          "exception": false,
          "start_time": "2021-04-22T12:24:27.117139",
          "status": "completed"
        },
        "tags": [],
        "colab": {
          "base_uri": "https://localhost:8080/",
          "height": 303
        },
        "id": "impaired-welcome",
        "outputId": "4a79f7d5-875c-4a7d-b298-a6dfba6b0e95"
      },
      "source": [
        "sns.countplot(x='Alone',hue='Survived',data=train)"
      ],
      "id": "impaired-welcome",
      "execution_count": null,
      "outputs": [
        {
          "output_type": "execute_result",
          "data": {
            "text/plain": [
              "<matplotlib.axes._subplots.AxesSubplot at 0x7fd8e6d77910>"
            ]
          },
          "metadata": {
            "tags": []
          },
          "execution_count": 149
        },
        {
          "output_type": "display_data",
          "data": {
            "image/png": "[encoded data removed]",
            "text/plain": [
              "<Figure size 432x288 with 1 Axes>"
            ]
          },
          "metadata": {
            "tags": []
          }
        }
      ]
    },
    {
      "cell_type": "code",
      "metadata": {
        "execution": {
          "iopub.execute_input": "2021-04-22T12:24:27.716613Z",
          "iopub.status.busy": "2021-04-22T12:24:27.714611Z",
          "iopub.status.idle": "2021-04-22T12:24:27.901521Z",
          "shell.execute_reply": "2021-04-22T12:24:27.900832Z"
        },
        "papermill": {
          "duration": 0.319432,
          "end_time": "2021-04-22T12:24:27.901679",
          "exception": false,
          "start_time": "2021-04-22T12:24:27.582247",
          "status": "completed"
        },
        "tags": [],
        "colab": {
          "base_uri": "https://localhost:8080/",
          "height": 303
        },
        "id": "favorite-valley",
        "outputId": "30424f0f-6ba9-4e4a-f277-dfed9caaa4a8"
      },
      "source": [
        "sns.countplot(x='BigFam',hue='Survived',data=train)"
      ],
      "id": "favorite-valley",
      "execution_count": null,
      "outputs": [
        {
          "output_type": "execute_result",
          "data": {
            "text/plain": [
              "<matplotlib.axes._subplots.AxesSubplot at 0x7fd8e6ddb250>"
            ]
          },
          "metadata": {
            "tags": []
          },
          "execution_count": 150
        },
        {
          "output_type": "display_data",
          "data": {
            "image/png": "[encoded data removed]",
            "text/plain": [
              "<Figure size 432x288 with 1 Axes>"
            ]
          },
          "metadata": {
            "tags": []
          }
        }
      ]
    },
    {
      "cell_type": "code",
      "metadata": {
        "execution": {
          "iopub.execute_input": "2021-04-22T12:24:28.164791Z",
          "iopub.status.busy": "2021-04-22T12:24:28.163198Z",
          "iopub.status.idle": "2021-04-22T12:24:29.280777Z",
          "shell.execute_reply": "2021-04-22T12:24:29.281316Z"
        },
        "papermill": {
          "duration": 1.2545,
          "end_time": "2021-04-22T12:24:29.281744",
          "exception": false,
          "start_time": "2021-04-22T12:24:28.027244",
          "status": "completed"
        },
        "tags": [],
        "colab": {
          "base_uri": "https://localhost:8080/",
          "height": 514
        },
        "id": "finite-penguin",
        "outputId": "e4509599-2370-4224-eca3-d8f854f60e35"
      },
      "source": [
        "plt.figure(figsize=(10,7))\n",
        "sns.heatmap(X.corr(),annot=True,vmin=-1,vmax=1,cmap='coolwarm')"
      ],
      "id": "finite-penguin",
      "execution_count": null,
      "outputs": [
        {
          "output_type": "execute_result",
          "data": {
            "text/plain": [
              "<matplotlib.axes._subplots.AxesSubplot at 0x7fd8e6dd7c50>"
            ]
          },
          "metadata": {
            "tags": []
          },
          "execution_count": 151
        },
        {
          "output_type": "display_data",
          "data": {
            "image/png": "[encoded data removed]",
            "text/plain": [
              "<Figure size 720x504 with 2 Axes>"
            ]
          },
          "metadata": {
            "tags": []
          }
        }
      ]
    },
    {
      "cell_type": "code",
      "metadata": {
        "execution": {
          "iopub.execute_input": "2021-04-22T12:24:29.561038Z",
          "iopub.status.busy": "2021-04-22T12:24:29.560030Z",
          "iopub.status.idle": "2021-04-22T12:24:29.580557Z",
          "shell.execute_reply": "2021-04-22T12:24:29.579935Z"
        },
        "papermill": {
          "duration": 0.164173,
          "end_time": "2021-04-22T12:24:29.580708",
          "exception": false,
          "start_time": "2021-04-22T12:24:29.416535",
          "status": "completed"
        },
        "tags": [],
        "id": "sporting-advocacy"
      },
      "source": [
        "X_train, X_dev, y_train, y_dev = train_test_split(X, y, test_size=0.2,random_state=42)"
      ],
      "id": "sporting-advocacy",
      "execution_count": null,
      "outputs": []
    },
    {
      "cell_type": "markdown",
      "metadata": {
        "papermill": {
          "duration": 0.132717,
          "end_time": "2021-04-22T12:24:29.846226",
          "exception": false,
          "start_time": "2021-04-22T12:24:29.713509",
          "status": "completed"
        },
        "tags": [],
        "id": "representative-class"
      },
      "source": [
        "# Model Selection using Pycaret 🥕  "
      ],
      "id": "representative-class"
    },
    {
      "cell_type": "markdown",
      "metadata": {
        "papermill": {
          "duration": 0.132662,
          "end_time": "2021-04-22T12:24:30.111828",
          "exception": false,
          "start_time": "2021-04-22T12:24:29.979166",
          "status": "completed"
        },
        "tags": [],
        "id": "phantom-prediction"
      },
      "source": [
        "## Comparing baselines"
      ],
      "id": "phantom-prediction"
    },
    {
      "cell_type": "code",
      "metadata": {
        "execution": {
          "iopub.execute_input": "2021-04-22T12:24:30.376256Z",
          "iopub.status.busy": "2021-04-22T12:24:30.374989Z",
          "iopub.status.idle": "2021-04-22T12:24:33.648047Z",
          "shell.execute_reply": "2021-04-22T12:24:33.647352Z"
        },
        "papermill": {
          "duration": 3.407954,
          "end_time": "2021-04-22T12:24:33.648252",
          "exception": false,
          "start_time": "2021-04-22T12:24:30.240298",
          "status": "completed"
        },
        "tags": [],
        "colab": {
          "base_uri": "https://localhost:8080/",
          "height": 1000,
          "referenced_widgets": [
            "29cce9f696b545b5a857d160daadff0d",
            "268a85c4e811468ab5e87ee85318312b",
            "471651ab9ebb4cd68b290fad3f4b69ec"
          ]
        },
        "id": "spread-offer",
        "outputId": "7c6cd60a-1d62-4084-b9eb-bac13fc9f0e8"
      },
      "source": [
        "from pycaret.classification import *\n",
        "clf1 = setup(data=train.drop(['PassengerId','Name'],axis=1), target='Survived',silent=True,train_size=0.8, imputation_type='simple')"
      ],
      "id": "spread-offer",
      "execution_count": null,
      "outputs": [
        {
          "output_type": "display_data",
          "data": {
            "text/html": [
              "<div>\n",
              "<style scoped>\n",
              "    .dataframe tbody tr th:only-of-type {\n",
              "        vertical-align: middle;\n",
              "    }\n",
              "\n",
              "    .dataframe tbody tr th {\n",
              "        vertical-align: top;\n",
              "    }\n",
              "\n",
              "    .dataframe thead th {\n",
              "        text-align: right;\n",
              "    }\n",
              "</style>\n",
              "<table border=\"1\" class=\"dataframe\">\n",
              "  <thead>\n",
              "    <tr style=\"text-align: right;\">\n",
              "      <th></th>\n",
              "      <th>Description</th>\n",
              "      <th>Value</th>\n",
              "    </tr>\n",
              "  </thead>\n",
              "  <tbody>\n",
              "    <tr>\n",
              "      <th>0</th>\n",
              "      <td>session_id</td>\n",
              "      <td>2741</td>\n",
              "    </tr>\n",
              "    <tr>\n",
              "      <th>1</th>\n",
              "      <td>Target</td>\n",
              "      <td>Survived</td>\n",
              "    </tr>\n",
              "    <tr>\n",
              "      <th>2</th>\n",
              "      <td>Target Type</td>\n",
              "      <td>Binary</td>\n",
              "    </tr>\n",
              "    <tr>\n",
              "      <th>3</th>\n",
              "      <td>Label Encoded</td>\n",
              "      <td>0: 0, 1: 1</td>\n",
              "    </tr>\n",
              "    <tr>\n",
              "      <th>4</th>\n",
              "      <td>Original Data</td>\n",
              "      <td>(100000, 13)</td>\n",
              "    </tr>\n",
              "    <tr>\n",
              "      <th>5</th>\n",
              "      <td>Missing Values</td>\n",
              "      <td>False</td>\n",
              "    </tr>\n",
              "    <tr>\n",
              "      <th>6</th>\n",
              "      <td>Numeric Features</td>\n",
              "      <td>3</td>\n",
              "    </tr>\n",
              "    <tr>\n",
              "      <th>7</th>\n",
              "      <td>Categorical Features</td>\n",
              "      <td>9</td>\n",
              "    </tr>\n",
              "    <tr>\n",
              "      <th>8</th>\n",
              "      <td>Ordinal Features</td>\n",
              "      <td>False</td>\n",
              "    </tr>\n",
              "    <tr>\n",
              "      <th>9</th>\n",
              "      <td>High Cardinality Features</td>\n",
              "      <td>False</td>\n",
              "    </tr>\n",
              "    <tr>\n",
              "      <th>10</th>\n",
              "      <td>High Cardinality Method</td>\n",
              "      <td>None</td>\n",
              "    </tr>\n",
              "    <tr>\n",
              "      <th>11</th>\n",
              "      <td>Transformed Train Set</td>\n",
              "      <td>(80000, 50)</td>\n",
              "    </tr>\n",
              "    <tr>\n",
              "      <th>12</th>\n",
              "      <td>Transformed Test Set</td>\n",
              "      <td>(20000, 50)</td>\n",
              "    </tr>\n",
              "    <tr>\n",
              "      <th>13</th>\n",
              "      <td>Shuffle Train-Test</td>\n",
              "      <td>True</td>\n",
              "    </tr>\n",
              "    <tr>\n",
              "      <th>14</th>\n",
              "      <td>Stratify Train-Test</td>\n",
              "      <td>False</td>\n",
              "    </tr>\n",
              "    <tr>\n",
              "      <th>15</th>\n",
              "      <td>Fold Generator</td>\n",
              "      <td>StratifiedKFold</td>\n",
              "    </tr>\n",
              "    <tr>\n",
              "      <th>16</th>\n",
              "      <td>Fold Number</td>\n",
              "      <td>10</td>\n",
              "    </tr>\n",
              "    <tr>\n",
              "      <th>17</th>\n",
              "      <td>CPU Jobs</td>\n",
              "      <td>-1</td>\n",
              "    </tr>\n",
              "    <tr>\n",
              "      <th>18</th>\n",
              "      <td>Use GPU</td>\n",
              "      <td>False</td>\n",
              "    </tr>\n",
              "    <tr>\n",
              "      <th>19</th>\n",
              "      <td>Log Experiment</td>\n",
              "      <td>False</td>\n",
              "    </tr>\n",
              "    <tr>\n",
              "      <th>20</th>\n",
              "      <td>Experiment Name</td>\n",
              "      <td>clf-default-name</td>\n",
              "    </tr>\n",
              "    <tr>\n",
              "      <th>21</th>\n",
              "      <td>USI</td>\n",
              "      <td>fd0d</td>\n",
              "    </tr>\n",
              "    <tr>\n",
              "      <th>22</th>\n",
              "      <td>Imputation Type</td>\n",
              "      <td>simple</td>\n",
              "    </tr>\n",
              "    <tr>\n",
              "      <th>23</th>\n",
              "      <td>Iterative Imputation Iteration</td>\n",
              "      <td>None</td>\n",
              "    </tr>\n",
              "    <tr>\n",
              "      <th>24</th>\n",
              "      <td>Numeric Imputer</td>\n",
              "      <td>mean</td>\n",
              "    </tr>\n",
              "    <tr>\n",
              "      <th>25</th>\n",
              "      <td>Iterative Imputation Numeric Model</td>\n",
              "      <td>None</td>\n",
              "    </tr>\n",
              "    <tr>\n",
              "      <th>26</th>\n",
              "      <td>Categorical Imputer</td>\n",
              "      <td>constant</td>\n",
              "    </tr>\n",
              "    <tr>\n",
              "      <th>27</th>\n",
              "      <td>Iterative Imputation Categorical Model</td>\n",
              "      <td>None</td>\n",
              "    </tr>\n",
              "    <tr>\n",
              "      <th>28</th>\n",
              "      <td>Unknown Categoricals Handling</td>\n",
              "      <td>least_frequent</td>\n",
              "    </tr>\n",
              "    <tr>\n",
              "      <th>29</th>\n",
              "      <td>Normalize</td>\n",
              "      <td>False</td>\n",
              "    </tr>\n",
              "    <tr>\n",
              "      <th>30</th>\n",
              "      <td>Normalize Method</td>\n",
              "      <td>None</td>\n",
              "    </tr>\n",
              "    <tr>\n",
              "      <th>31</th>\n",
              "      <td>Transformation</td>\n",
              "      <td>False</td>\n",
              "    </tr>\n",
              "    <tr>\n",
              "      <th>32</th>\n",
              "      <td>Transformation Method</td>\n",
              "      <td>None</td>\n",
              "    </tr>\n",
              "    <tr>\n",
              "      <th>33</th>\n",
              "      <td>PCA</td>\n",
              "      <td>False</td>\n",
              "    </tr>\n",
              "    <tr>\n",
              "      <th>34</th>\n",
              "      <td>PCA Method</td>\n",
              "      <td>None</td>\n",
              "    </tr>\n",
              "    <tr>\n",
              "      <th>35</th>\n",
              "      <td>PCA Components</td>\n",
              "      <td>None</td>\n",
              "    </tr>\n",
              "    <tr>\n",
              "      <th>36</th>\n",
              "      <td>Ignore Low Variance</td>\n",
              "      <td>False</td>\n",
              "    </tr>\n",
              "    <tr>\n",
              "      <th>37</th>\n",
              "      <td>Combine Rare Levels</td>\n",
              "      <td>False</td>\n",
              "    </tr>\n",
              "    <tr>\n",
              "      <th>38</th>\n",
              "      <td>Rare Level Threshold</td>\n",
              "      <td>None</td>\n",
              "    </tr>\n",
              "    <tr>\n",
              "      <th>39</th>\n",
              "      <td>Numeric Binning</td>\n",
              "      <td>False</td>\n",
              "    </tr>\n",
              "    <tr>\n",
              "      <th>40</th>\n",
              "      <td>Remove Outliers</td>\n",
              "      <td>False</td>\n",
              "    </tr>\n",
              "    <tr>\n",
              "      <th>41</th>\n",
              "      <td>Outliers Threshold</td>\n",
              "      <td>None</td>\n",
              "    </tr>\n",
              "    <tr>\n",
              "      <th>42</th>\n",
              "      <td>Remove Multicollinearity</td>\n",
              "      <td>False</td>\n",
              "    </tr>\n",
              "    <tr>\n",
              "      <th>43</th>\n",
              "      <td>Multicollinearity Threshold</td>\n",
              "      <td>None</td>\n",
              "    </tr>\n",
              "    <tr>\n",
              "      <th>44</th>\n",
              "      <td>Clustering</td>\n",
              "      <td>False</td>\n",
              "    </tr>\n",
              "    <tr>\n",
              "      <th>45</th>\n",
              "      <td>Clustering Iteration</td>\n",
              "      <td>None</td>\n",
              "    </tr>\n",
              "    <tr>\n",
              "      <th>46</th>\n",
              "      <td>Polynomial Features</td>\n",
              "      <td>False</td>\n",
              "    </tr>\n",
              "    <tr>\n",
              "      <th>47</th>\n",
              "      <td>Polynomial Degree</td>\n",
              "      <td>None</td>\n",
              "    </tr>\n",
              "    <tr>\n",
              "      <th>48</th>\n",
              "      <td>Trignometry Features</td>\n",
              "      <td>False</td>\n",
              "    </tr>\n",
              "    <tr>\n",
              "      <th>49</th>\n",
              "      <td>Polynomial Threshold</td>\n",
              "      <td>None</td>\n",
              "    </tr>\n",
              "    <tr>\n",
              "      <th>50</th>\n",
              "      <td>Group Features</td>\n",
              "      <td>False</td>\n",
              "    </tr>\n",
              "    <tr>\n",
              "      <th>51</th>\n",
              "      <td>Feature Selection</td>\n",
              "      <td>False</td>\n",
              "    </tr>\n",
              "    <tr>\n",
              "      <th>52</th>\n",
              "      <td>Feature Selection Method</td>\n",
              "      <td>classic</td>\n",
              "    </tr>\n",
              "    <tr>\n",
              "      <th>53</th>\n",
              "      <td>Features Selection Threshold</td>\n",
              "      <td>None</td>\n",
              "    </tr>\n",
              "    <tr>\n",
              "      <th>54</th>\n",
              "      <td>Feature Interaction</td>\n",
              "      <td>False</td>\n",
              "    </tr>\n",
              "    <tr>\n",
              "      <th>55</th>\n",
              "      <td>Feature Ratio</td>\n",
              "      <td>False</td>\n",
              "    </tr>\n",
              "    <tr>\n",
              "      <th>56</th>\n",
              "      <td>Interaction Threshold</td>\n",
              "      <td>None</td>\n",
              "    </tr>\n",
              "    <tr>\n",
              "      <th>57</th>\n",
              "      <td>Fix Imbalance</td>\n",
              "      <td>False</td>\n",
              "    </tr>\n",
              "    <tr>\n",
              "      <th>58</th>\n",
              "      <td>Fix Imbalance Method</td>\n",
              "      <td>SMOTE</td>\n",
              "    </tr>\n",
              "  </tbody>\n",
              "</table>\n",
              "</div>"
            ],
            "text/plain": [
              "                               Description             Value\n",
              "0                               session_id              2741\n",
              "1                                   Target          Survived\n",
              "2                              Target Type            Binary\n",
              "3                            Label Encoded        0: 0, 1: 1\n",
              "4                            Original Data      (100000, 13)\n",
              "5                           Missing Values             False\n",
              "6                         Numeric Features                 3\n",
              "7                     Categorical Features                 9\n",
              "8                         Ordinal Features             False\n",
              "9                High Cardinality Features             False\n",
              "10                 High Cardinality Method              None\n",
              "11                   Transformed Train Set       (80000, 50)\n",
              "12                    Transformed Test Set       (20000, 50)\n",
              "13                      Shuffle Train-Test              True\n",
              "14                     Stratify Train-Test             False\n",
              "15                          Fold Generator   StratifiedKFold\n",
              "16                             Fold Number                10\n",
              "17                                CPU Jobs                -1\n",
              "18                                 Use GPU             False\n",
              "19                          Log Experiment             False\n",
              "20                         Experiment Name  clf-default-name\n",
              "21                                     USI              fd0d\n",
              "22                         Imputation Type            simple\n",
              "23          Iterative Imputation Iteration              None\n",
              "24                         Numeric Imputer              mean\n",
              "25      Iterative Imputation Numeric Model              None\n",
              "26                     Categorical Imputer          constant\n",
              "27  Iterative Imputation Categorical Model              None\n",
              "28           Unknown Categoricals Handling    least_frequent\n",
              "29                               Normalize             False\n",
              "30                        Normalize Method              None\n",
              "31                          Transformation             False\n",
              "32                   Transformation Method              None\n",
              "33                                     PCA             False\n",
              "34                              PCA Method              None\n",
              "35                          PCA Components              None\n",
              "36                     Ignore Low Variance             False\n",
              "37                     Combine Rare Levels             False\n",
              "38                    Rare Level Threshold              None\n",
              "39                         Numeric Binning             False\n",
              "40                         Remove Outliers             False\n",
              "41                      Outliers Threshold              None\n",
              "42                Remove Multicollinearity             False\n",
              "43             Multicollinearity Threshold              None\n",
              "44                              Clustering             False\n",
              "45                    Clustering Iteration              None\n",
              "46                     Polynomial Features             False\n",
              "47                       Polynomial Degree              None\n",
              "48                    Trignometry Features             False\n",
              "49                    Polynomial Threshold              None\n",
              "50                          Group Features             False\n",
              "51                       Feature Selection             False\n",
              "52                Feature Selection Method           classic\n",
              "53            Features Selection Threshold              None\n",
              "54                     Feature Interaction             False\n",
              "55                           Feature Ratio             False\n",
              "56                   Interaction Threshold              None\n",
              "57                           Fix Imbalance             False\n",
              "58                    Fix Imbalance Method             SMOTE"
            ]
          },
          "metadata": {
            "tags": []
          }
        }
      ]
    },
    {
      "cell_type": "code",
      "metadata": {
        "execution": {
          "iopub.execute_input": "2021-04-22T12:24:33.952528Z",
          "iopub.status.busy": "2021-04-22T12:24:33.947070Z",
          "iopub.status.idle": "2021-04-22T12:24:34.086879Z",
          "shell.execute_reply": "2021-04-22T12:24:34.086210Z"
        },
        "papermill": {
          "duration": 0.299164,
          "end_time": "2021-04-22T12:24:34.087068",
          "exception": false,
          "start_time": "2021-04-22T12:24:33.787904",
          "status": "completed"
        },
        "tags": [],
        "id": "cheap-vault"
      },
      "source": [
        "models()"
      ],
      "id": "cheap-vault",
      "execution_count": null,
      "outputs": []
    },
    {
      "cell_type": "code",
      "metadata": {
        "execution": {
          "iopub.execute_input": "2021-04-22T12:24:34.351519Z",
          "iopub.status.busy": "2021-04-22T12:24:34.350831Z",
          "iopub.status.idle": "2021-04-22T12:36:40.100972Z",
          "shell.execute_reply": "2021-04-22T12:36:40.101440Z"
        },
        "papermill": {
          "duration": 725.884366,
          "end_time": "2021-04-22T12:36:40.101643",
          "exception": false,
          "start_time": "2021-04-22T12:24:34.217277",
          "status": "completed"
        },
        "tags": [],
        "id": "saved-spanish"
      },
      "source": [
        "compare_models()"
      ],
      "id": "saved-spanish",
      "execution_count": null,
      "outputs": []
    },
    {
      "cell_type": "markdown",
      "metadata": {
        "papermill": {
          "duration": 0.129026,
          "end_time": "2021-04-22T12:36:40.361059",
          "exception": false,
          "start_time": "2021-04-22T12:36:40.232033",
          "status": "completed"
        },
        "tags": [],
        "id": "cathedral-survey"
      },
      "source": [
        "## Creating and Tuning Top 3 models"
      ],
      "id": "cathedral-survey"
    },
    {
      "cell_type": "code",
      "metadata": {
        "execution": {
          "iopub.execute_input": "2021-04-22T12:36:40.687860Z",
          "iopub.status.busy": "2021-04-22T12:36:40.687238Z",
          "iopub.status.idle": "2021-04-22T12:36:46.675304Z",
          "shell.execute_reply": "2021-04-22T12:36:46.674113Z"
        },
        "papermill": {
          "duration": 6.184315,
          "end_time": "2021-04-22T12:36:46.675467",
          "exception": false,
          "start_time": "2021-04-22T12:36:40.491152",
          "status": "completed"
        },
        "tags": [],
        "colab": {
          "base_uri": "https://localhost:8080/",
          "height": 421,
          "referenced_widgets": [
            "249ba85f48d0424ba4eb8aedd43c542c",
            "3d6d34f025234c9da5893581cdf75969",
            "9a4f98d986494566a28306ba88c40021"
          ]
        },
        "id": "democratic-charles",
        "outputId": "d7530d38-65f6-49c8-ba7f-4c12b3afbdeb"
      },
      "source": [
        "lgbm = create_model('lightgbm')"
      ],
      "id": "democratic-charles",
      "execution_count": null,
      "outputs": [
        {
          "output_type": "display_data",
          "data": {
            "text/html": [
              "<div>\n",
              "<style scoped>\n",
              "    .dataframe tbody tr th:only-of-type {\n",
              "        vertical-align: middle;\n",
              "    }\n",
              "\n",
              "    .dataframe tbody tr th {\n",
              "        vertical-align: top;\n",
              "    }\n",
              "\n",
              "    .dataframe thead th {\n",
              "        text-align: right;\n",
              "    }\n",
              "</style>\n",
              "<table border=\"1\" class=\"dataframe\">\n",
              "  <thead>\n",
              "    <tr style=\"text-align: right;\">\n",
              "      <th></th>\n",
              "      <th>Accuracy</th>\n",
              "      <th>AUC</th>\n",
              "      <th>Recall</th>\n",
              "      <th>Prec.</th>\n",
              "      <th>F1</th>\n",
              "      <th>Kappa</th>\n",
              "      <th>MCC</th>\n",
              "    </tr>\n",
              "  </thead>\n",
              "  <tbody>\n",
              "    <tr>\n",
              "      <th>0</th>\n",
              "      <td>0.7698</td>\n",
              "      <td>0.8413</td>\n",
              "      <td>0.7360</td>\n",
              "      <td>0.7270</td>\n",
              "      <td>0.7315</td>\n",
              "      <td>0.5300</td>\n",
              "      <td>0.5300</td>\n",
              "    </tr>\n",
              "    <tr>\n",
              "      <th>1</th>\n",
              "      <td>0.7764</td>\n",
              "      <td>0.8464</td>\n",
              "      <td>0.7512</td>\n",
              "      <td>0.7313</td>\n",
              "      <td>0.7411</td>\n",
              "      <td>0.5444</td>\n",
              "      <td>0.5445</td>\n",
              "    </tr>\n",
              "    <tr>\n",
              "      <th>2</th>\n",
              "      <td>0.7801</td>\n",
              "      <td>0.8523</td>\n",
              "      <td>0.7495</td>\n",
              "      <td>0.7384</td>\n",
              "      <td>0.7439</td>\n",
              "      <td>0.5513</td>\n",
              "      <td>0.5513</td>\n",
              "    </tr>\n",
              "    <tr>\n",
              "      <th>3</th>\n",
              "      <td>0.7762</td>\n",
              "      <td>0.8449</td>\n",
              "      <td>0.7378</td>\n",
              "      <td>0.7373</td>\n",
              "      <td>0.7375</td>\n",
              "      <td>0.5425</td>\n",
              "      <td>0.5425</td>\n",
              "    </tr>\n",
              "    <tr>\n",
              "      <th>4</th>\n",
              "      <td>0.7706</td>\n",
              "      <td>0.8431</td>\n",
              "      <td>0.7357</td>\n",
              "      <td>0.7286</td>\n",
              "      <td>0.7322</td>\n",
              "      <td>0.5316</td>\n",
              "      <td>0.5316</td>\n",
              "    </tr>\n",
              "    <tr>\n",
              "      <th>5</th>\n",
              "      <td>0.7716</td>\n",
              "      <td>0.8426</td>\n",
              "      <td>0.7308</td>\n",
              "      <td>0.7327</td>\n",
              "      <td>0.7318</td>\n",
              "      <td>0.5329</td>\n",
              "      <td>0.5329</td>\n",
              "    </tr>\n",
              "    <tr>\n",
              "      <th>6</th>\n",
              "      <td>0.7721</td>\n",
              "      <td>0.8464</td>\n",
              "      <td>0.7378</td>\n",
              "      <td>0.7303</td>\n",
              "      <td>0.7341</td>\n",
              "      <td>0.5347</td>\n",
              "      <td>0.5347</td>\n",
              "    </tr>\n",
              "    <tr>\n",
              "      <th>7</th>\n",
              "      <td>0.7780</td>\n",
              "      <td>0.8465</td>\n",
              "      <td>0.7478</td>\n",
              "      <td>0.7357</td>\n",
              "      <td>0.7417</td>\n",
              "      <td>0.5471</td>\n",
              "      <td>0.5471</td>\n",
              "    </tr>\n",
              "    <tr>\n",
              "      <th>8</th>\n",
              "      <td>0.7819</td>\n",
              "      <td>0.8510</td>\n",
              "      <td>0.7475</td>\n",
              "      <td>0.7425</td>\n",
              "      <td>0.7450</td>\n",
              "      <td>0.5544</td>\n",
              "      <td>0.5544</td>\n",
              "    </tr>\n",
              "    <tr>\n",
              "      <th>9</th>\n",
              "      <td>0.7739</td>\n",
              "      <td>0.8445</td>\n",
              "      <td>0.7381</td>\n",
              "      <td>0.7332</td>\n",
              "      <td>0.7356</td>\n",
              "      <td>0.5381</td>\n",
              "      <td>0.5381</td>\n",
              "    </tr>\n",
              "    <tr>\n",
              "      <th>Mean</th>\n",
              "      <td>0.7751</td>\n",
              "      <td>0.8459</td>\n",
              "      <td>0.7412</td>\n",
              "      <td>0.7337</td>\n",
              "      <td>0.7374</td>\n",
              "      <td>0.5407</td>\n",
              "      <td>0.5407</td>\n",
              "    </tr>\n",
              "    <tr>\n",
              "      <th>SD</th>\n",
              "      <td>0.0039</td>\n",
              "      <td>0.0033</td>\n",
              "      <td>0.0067</td>\n",
              "      <td>0.0045</td>\n",
              "      <td>0.0049</td>\n",
              "      <td>0.0081</td>\n",
              "      <td>0.0081</td>\n",
              "    </tr>\n",
              "  </tbody>\n",
              "</table>\n",
              "</div>"
            ],
            "text/plain": [
              "      Accuracy     AUC  Recall   Prec.      F1   Kappa     MCC\n",
              "0       0.7698  0.8413  0.7360  0.7270  0.7315  0.5300  0.5300\n",
              "1       0.7764  0.8464  0.7512  0.7313  0.7411  0.5444  0.5445\n",
              "2       0.7801  0.8523  0.7495  0.7384  0.7439  0.5513  0.5513\n",
              "3       0.7762  0.8449  0.7378  0.7373  0.7375  0.5425  0.5425\n",
              "4       0.7706  0.8431  0.7357  0.7286  0.7322  0.5316  0.5316\n",
              "5       0.7716  0.8426  0.7308  0.7327  0.7318  0.5329  0.5329\n",
              "6       0.7721  0.8464  0.7378  0.7303  0.7341  0.5347  0.5347\n",
              "7       0.7780  0.8465  0.7478  0.7357  0.7417  0.5471  0.5471\n",
              "8       0.7819  0.8510  0.7475  0.7425  0.7450  0.5544  0.5544\n",
              "9       0.7739  0.8445  0.7381  0.7332  0.7356  0.5381  0.5381\n",
              "Mean    0.7751  0.8459  0.7412  0.7337  0.7374  0.5407  0.5407\n",
              "SD      0.0039  0.0033  0.0067  0.0045  0.0049  0.0081  0.0081"
            ]
          },
          "metadata": {
            "tags": []
          }
        }
      ]
    },
    {
      "cell_type": "code",
      "metadata": {
        "id": "MVknfrnmXKty"
      },
      "source": [
        "FOLD = 2"
      ],
      "id": "MVknfrnmXKty",
      "execution_count": null,
      "outputs": []
    },
    {
      "cell_type": "code",
      "metadata": {
        "execution": {
          "iopub.execute_input": "2021-04-22T12:36:46.944437Z",
          "iopub.status.busy": "2021-04-22T12:36:46.943757Z",
          "iopub.status.idle": "2021-04-22T12:39:02.000708Z",
          "shell.execute_reply": "2021-04-22T12:39:02.000129Z"
        },
        "papermill": {
          "duration": 135.193699,
          "end_time": "2021-04-22T12:39:02.000865",
          "exception": false,
          "start_time": "2021-04-22T12:36:46.807166",
          "status": "completed"
        },
        "tags": [],
        "colab": {
          "base_uri": "https://localhost:8080/",
          "height": 173,
          "referenced_widgets": [
            "0f71f2458a0a4f1597c35ff5c1dedd1d",
            "3fc0f3cbb32343c38f2776046d1d84f9",
            "ffdf707223a442388fbf73d30d577dfe"
          ]
        },
        "id": "timely-bloom",
        "outputId": "4c31e106-0afc-4574-e6b3-f0b8c67b47b2"
      },
      "source": [
        "tuned_lgbm = tune_model(lgbm, fold = FOLD)"
      ],
      "id": "timely-bloom",
      "execution_count": null,
      "outputs": [
        {
          "output_type": "display_data",
          "data": {
            "text/html": [
              "<div>\n",
              "<style scoped>\n",
              "    .dataframe tbody tr th:only-of-type {\n",
              "        vertical-align: middle;\n",
              "    }\n",
              "\n",
              "    .dataframe tbody tr th {\n",
              "        vertical-align: top;\n",
              "    }\n",
              "\n",
              "    .dataframe thead th {\n",
              "        text-align: right;\n",
              "    }\n",
              "</style>\n",
              "<table border=\"1\" class=\"dataframe\">\n",
              "  <thead>\n",
              "    <tr style=\"text-align: right;\">\n",
              "      <th></th>\n",
              "      <th>Accuracy</th>\n",
              "      <th>AUC</th>\n",
              "      <th>Recall</th>\n",
              "      <th>Prec.</th>\n",
              "      <th>F1</th>\n",
              "      <th>Kappa</th>\n",
              "      <th>MCC</th>\n",
              "    </tr>\n",
              "  </thead>\n",
              "  <tbody>\n",
              "    <tr>\n",
              "      <th>0</th>\n",
              "      <td>0.7729</td>\n",
              "      <td>0.8439</td>\n",
              "      <td>0.7378</td>\n",
              "      <td>0.7316</td>\n",
              "      <td>0.7347</td>\n",
              "      <td>0.5362</td>\n",
              "      <td>0.5363</td>\n",
              "    </tr>\n",
              "    <tr>\n",
              "      <th>1</th>\n",
              "      <td>0.7740</td>\n",
              "      <td>0.8437</td>\n",
              "      <td>0.7343</td>\n",
              "      <td>0.7351</td>\n",
              "      <td>0.7347</td>\n",
              "      <td>0.5378</td>\n",
              "      <td>0.5378</td>\n",
              "    </tr>\n",
              "    <tr>\n",
              "      <th>Mean</th>\n",
              "      <td>0.7734</td>\n",
              "      <td>0.8438</td>\n",
              "      <td>0.7361</td>\n",
              "      <td>0.7333</td>\n",
              "      <td>0.7347</td>\n",
              "      <td>0.5370</td>\n",
              "      <td>0.5370</td>\n",
              "    </tr>\n",
              "    <tr>\n",
              "      <th>SD</th>\n",
              "      <td>0.0005</td>\n",
              "      <td>0.0001</td>\n",
              "      <td>0.0018</td>\n",
              "      <td>0.0017</td>\n",
              "      <td>0.0000</td>\n",
              "      <td>0.0008</td>\n",
              "      <td>0.0008</td>\n",
              "    </tr>\n",
              "  </tbody>\n",
              "</table>\n",
              "</div>"
            ],
            "text/plain": [
              "      Accuracy     AUC  Recall   Prec.      F1   Kappa     MCC\n",
              "0       0.7729  0.8439  0.7378  0.7316  0.7347  0.5362  0.5363\n",
              "1       0.7740  0.8437  0.7343  0.7351  0.7347  0.5378  0.5378\n",
              "Mean    0.7734  0.8438  0.7361  0.7333  0.7347  0.5370  0.5370\n",
              "SD      0.0005  0.0001  0.0018  0.0017  0.0000  0.0008  0.0008"
            ]
          },
          "metadata": {
            "tags": []
          }
        }
      ]
    },
    {
      "cell_type": "code",
      "metadata": {
        "execution": {
          "iopub.execute_input": "2021-04-22T12:39:02.272535Z",
          "iopub.status.busy": "2021-04-22T12:39:02.271803Z",
          "iopub.status.idle": "2021-04-22T12:41:22.051268Z",
          "shell.execute_reply": "2021-04-22T12:41:22.050477Z"
        },
        "papermill": {
          "duration": 139.916592,
          "end_time": "2021-04-22T12:41:22.051435",
          "exception": false,
          "start_time": "2021-04-22T12:39:02.134843",
          "status": "completed"
        },
        "tags": [],
        "colab": {
          "base_uri": "https://localhost:8080/",
          "height": 173,
          "referenced_widgets": [
            "2af2ac4e042540f498da2427ff13ae43",
            "80d08e3837234b788832734364bbe445",
            "8213430b9204499da75f75c61de6dee6"
          ]
        },
        "id": "perfect-bangladesh",
        "outputId": "bf66ad84-9aed-47a1-9e4e-fd5b909b8adb"
      },
      "source": [
        "cb = create_model('catboost',fold=FOLD)"
      ],
      "id": "perfect-bangladesh",
      "execution_count": null,
      "outputs": [
        {
          "output_type": "display_data",
          "data": {
            "text/html": [
              "<div>\n",
              "<style scoped>\n",
              "    .dataframe tbody tr th:only-of-type {\n",
              "        vertical-align: middle;\n",
              "    }\n",
              "\n",
              "    .dataframe tbody tr th {\n",
              "        vertical-align: top;\n",
              "    }\n",
              "\n",
              "    .dataframe thead th {\n",
              "        text-align: right;\n",
              "    }\n",
              "</style>\n",
              "<table border=\"1\" class=\"dataframe\">\n",
              "  <thead>\n",
              "    <tr style=\"text-align: right;\">\n",
              "      <th></th>\n",
              "      <th>Accuracy</th>\n",
              "      <th>AUC</th>\n",
              "      <th>Recall</th>\n",
              "      <th>Prec.</th>\n",
              "      <th>F1</th>\n",
              "      <th>Kappa</th>\n",
              "      <th>MCC</th>\n",
              "    </tr>\n",
              "  </thead>\n",
              "  <tbody>\n",
              "    <tr>\n",
              "      <th>0</th>\n",
              "      <td>0.7718</td>\n",
              "      <td>0.8425</td>\n",
              "      <td>0.7347</td>\n",
              "      <td>0.7312</td>\n",
              "      <td>0.7330</td>\n",
              "      <td>0.5338</td>\n",
              "      <td>0.5338</td>\n",
              "    </tr>\n",
              "    <tr>\n",
              "      <th>1</th>\n",
              "      <td>0.7736</td>\n",
              "      <td>0.8432</td>\n",
              "      <td>0.7357</td>\n",
              "      <td>0.7337</td>\n",
              "      <td>0.7347</td>\n",
              "      <td>0.5372</td>\n",
              "      <td>0.5372</td>\n",
              "    </tr>\n",
              "    <tr>\n",
              "      <th>Mean</th>\n",
              "      <td>0.7727</td>\n",
              "      <td>0.8429</td>\n",
              "      <td>0.7352</td>\n",
              "      <td>0.7325</td>\n",
              "      <td>0.7338</td>\n",
              "      <td>0.5355</td>\n",
              "      <td>0.5355</td>\n",
              "    </tr>\n",
              "    <tr>\n",
              "      <th>SD</th>\n",
              "      <td>0.0008</td>\n",
              "      <td>0.0003</td>\n",
              "      <td>0.0005</td>\n",
              "      <td>0.0012</td>\n",
              "      <td>0.0009</td>\n",
              "      <td>0.0017</td>\n",
              "      <td>0.0017</td>\n",
              "    </tr>\n",
              "  </tbody>\n",
              "</table>\n",
              "</div>"
            ],
            "text/plain": [
              "      Accuracy     AUC  Recall   Prec.      F1   Kappa     MCC\n",
              "0       0.7718  0.8425  0.7347  0.7312  0.7330  0.5338  0.5338\n",
              "1       0.7736  0.8432  0.7357  0.7337  0.7347  0.5372  0.5372\n",
              "Mean    0.7727  0.8429  0.7352  0.7325  0.7338  0.5355  0.5355\n",
              "SD      0.0008  0.0003  0.0005  0.0012  0.0009  0.0017  0.0017"
            ]
          },
          "metadata": {
            "tags": []
          }
        }
      ]
    },
    {
      "cell_type": "code",
      "metadata": {
        "execution": {
          "iopub.execute_input": "2021-04-22T12:41:22.342289Z",
          "iopub.status.busy": "2021-04-22T12:41:22.341239Z",
          "iopub.status.idle": "2021-04-22T12:45:34.730017Z",
          "shell.execute_reply": "2021-04-22T12:45:34.729436Z"
        },
        "papermill": {
          "duration": 252.53937,
          "end_time": "2021-04-22T12:45:34.730194",
          "exception": false,
          "start_time": "2021-04-22T12:41:22.190824",
          "status": "completed"
        },
        "tags": [],
        "colab": {
          "base_uri": "https://localhost:8080/",
          "height": 173,
          "referenced_widgets": [
            "36f773c9311142e3bdde8dd8f0970090",
            "293a9ec59844442086f0aa045225018c",
            "a2de2483b3c8495d98187d31c07c40f6"
          ]
        },
        "id": "floppy-audio",
        "outputId": "f53cd774-2ff5-4f23-cd45-c8306c5b0094"
      },
      "source": [
        "tuned_cb = tune_model(cb,fold=FOLD)"
      ],
      "id": "floppy-audio",
      "execution_count": null,
      "outputs": [
        {
          "output_type": "display_data",
          "data": {
            "text/html": [
              "<div>\n",
              "<style scoped>\n",
              "    .dataframe tbody tr th:only-of-type {\n",
              "        vertical-align: middle;\n",
              "    }\n",
              "\n",
              "    .dataframe tbody tr th {\n",
              "        vertical-align: top;\n",
              "    }\n",
              "\n",
              "    .dataframe thead th {\n",
              "        text-align: right;\n",
              "    }\n",
              "</style>\n",
              "<table border=\"1\" class=\"dataframe\">\n",
              "  <thead>\n",
              "    <tr style=\"text-align: right;\">\n",
              "      <th></th>\n",
              "      <th>Accuracy</th>\n",
              "      <th>AUC</th>\n",
              "      <th>Recall</th>\n",
              "      <th>Prec.</th>\n",
              "      <th>F1</th>\n",
              "      <th>Kappa</th>\n",
              "      <th>MCC</th>\n",
              "    </tr>\n",
              "  </thead>\n",
              "  <tbody>\n",
              "    <tr>\n",
              "      <th>0</th>\n",
              "      <td>0.7744</td>\n",
              "      <td>0.8445</td>\n",
              "      <td>0.7404</td>\n",
              "      <td>0.733</td>\n",
              "      <td>0.7366</td>\n",
              "      <td>0.5393</td>\n",
              "      <td>0.5394</td>\n",
              "    </tr>\n",
              "    <tr>\n",
              "      <th>1</th>\n",
              "      <td>0.7756</td>\n",
              "      <td>0.8451</td>\n",
              "      <td>0.7404</td>\n",
              "      <td>0.735</td>\n",
              "      <td>0.7377</td>\n",
              "      <td>0.5417</td>\n",
              "      <td>0.5417</td>\n",
              "    </tr>\n",
              "    <tr>\n",
              "      <th>Mean</th>\n",
              "      <td>0.7750</td>\n",
              "      <td>0.8448</td>\n",
              "      <td>0.7404</td>\n",
              "      <td>0.734</td>\n",
              "      <td>0.7372</td>\n",
              "      <td>0.5405</td>\n",
              "      <td>0.5405</td>\n",
              "    </tr>\n",
              "    <tr>\n",
              "      <th>SD</th>\n",
              "      <td>0.0006</td>\n",
              "      <td>0.0003</td>\n",
              "      <td>0.0000</td>\n",
              "      <td>0.001</td>\n",
              "      <td>0.0005</td>\n",
              "      <td>0.0012</td>\n",
              "      <td>0.0012</td>\n",
              "    </tr>\n",
              "  </tbody>\n",
              "</table>\n",
              "</div>"
            ],
            "text/plain": [
              "      Accuracy     AUC  Recall  Prec.      F1   Kappa     MCC\n",
              "0       0.7744  0.8445  0.7404  0.733  0.7366  0.5393  0.5394\n",
              "1       0.7756  0.8451  0.7404  0.735  0.7377  0.5417  0.5417\n",
              "Mean    0.7750  0.8448  0.7404  0.734  0.7372  0.5405  0.5405\n",
              "SD      0.0006  0.0003  0.0000  0.001  0.0005  0.0012  0.0012"
            ]
          },
          "metadata": {
            "tags": []
          }
        }
      ]
    },
    {
      "cell_type": "code",
      "metadata": {
        "execution": {
          "iopub.execute_input": "2021-04-22T12:45:35.016342Z",
          "iopub.status.busy": "2021-04-22T12:45:35.003360Z",
          "iopub.status.idle": "2021-04-22T12:46:06.355280Z",
          "shell.execute_reply": "2021-04-22T12:46:06.354609Z"
        },
        "papermill": {
          "duration": 31.491396,
          "end_time": "2021-04-22T12:46:06.355445",
          "exception": false,
          "start_time": "2021-04-22T12:45:34.864049",
          "status": "completed"
        },
        "tags": [],
        "colab": {
          "base_uri": "https://localhost:8080/",
          "height": 173,
          "referenced_widgets": [
            "a953bc930153449087ed893dd0283e06",
            "626dea0d13df419794725d6f698fd8e8",
            "58834ab7089e46d0918593cdc1930452"
          ]
        },
        "id": "healthy-affair",
        "outputId": "3baaa59c-db77-4f34-d27e-5d5d16a948a0"
      },
      "source": [
        "gbc = create_model('gbc',fold=FOLD)"
      ],
      "id": "healthy-affair",
      "execution_count": null,
      "outputs": [
        {
          "output_type": "display_data",
          "data": {
            "text/html": [
              "<div>\n",
              "<style scoped>\n",
              "    .dataframe tbody tr th:only-of-type {\n",
              "        vertical-align: middle;\n",
              "    }\n",
              "\n",
              "    .dataframe tbody tr th {\n",
              "        vertical-align: top;\n",
              "    }\n",
              "\n",
              "    .dataframe thead th {\n",
              "        text-align: right;\n",
              "    }\n",
              "</style>\n",
              "<table border=\"1\" class=\"dataframe\">\n",
              "  <thead>\n",
              "    <tr style=\"text-align: right;\">\n",
              "      <th></th>\n",
              "      <th>Accuracy</th>\n",
              "      <th>AUC</th>\n",
              "      <th>Recall</th>\n",
              "      <th>Prec.</th>\n",
              "      <th>F1</th>\n",
              "      <th>Kappa</th>\n",
              "      <th>MCC</th>\n",
              "    </tr>\n",
              "  </thead>\n",
              "  <tbody>\n",
              "    <tr>\n",
              "      <th>0</th>\n",
              "      <td>0.7727</td>\n",
              "      <td>0.8443</td>\n",
              "      <td>0.7545</td>\n",
              "      <td>0.7238</td>\n",
              "      <td>0.7388</td>\n",
              "      <td>0.5377</td>\n",
              "      <td>0.5381</td>\n",
              "    </tr>\n",
              "    <tr>\n",
              "      <th>1</th>\n",
              "      <td>0.7744</td>\n",
              "      <td>0.8444</td>\n",
              "      <td>0.7506</td>\n",
              "      <td>0.7284</td>\n",
              "      <td>0.7394</td>\n",
              "      <td>0.5407</td>\n",
              "      <td>0.5408</td>\n",
              "    </tr>\n",
              "    <tr>\n",
              "      <th>Mean</th>\n",
              "      <td>0.7736</td>\n",
              "      <td>0.8443</td>\n",
              "      <td>0.7526</td>\n",
              "      <td>0.7261</td>\n",
              "      <td>0.7391</td>\n",
              "      <td>0.5392</td>\n",
              "      <td>0.5395</td>\n",
              "    </tr>\n",
              "    <tr>\n",
              "      <th>SD</th>\n",
              "      <td>0.0009</td>\n",
              "      <td>0.0000</td>\n",
              "      <td>0.0019</td>\n",
              "      <td>0.0023</td>\n",
              "      <td>0.0003</td>\n",
              "      <td>0.0015</td>\n",
              "      <td>0.0014</td>\n",
              "    </tr>\n",
              "  </tbody>\n",
              "</table>\n",
              "</div>"
            ],
            "text/plain": [
              "      Accuracy     AUC  Recall   Prec.      F1   Kappa     MCC\n",
              "0       0.7727  0.8443  0.7545  0.7238  0.7388  0.5377  0.5381\n",
              "1       0.7744  0.8444  0.7506  0.7284  0.7394  0.5407  0.5408\n",
              "Mean    0.7736  0.8443  0.7526  0.7261  0.7391  0.5392  0.5395\n",
              "SD      0.0009  0.0000  0.0019  0.0023  0.0003  0.0015  0.0014"
            ]
          },
          "metadata": {
            "tags": []
          }
        }
      ]
    },
    {
      "cell_type": "code",
      "metadata": {
        "execution": {
          "iopub.execute_input": "2021-04-22T12:46:06.644747Z",
          "iopub.status.busy": "2021-04-22T12:46:06.643855Z",
          "iopub.status.idle": "2021-04-22T12:50:10.411816Z",
          "shell.execute_reply": "2021-04-22T12:50:10.411144Z"
        },
        "papermill": {
          "duration": 243.915158,
          "end_time": "2021-04-22T12:50:10.411989",
          "exception": false,
          "start_time": "2021-04-22T12:46:06.496831",
          "status": "completed"
        },
        "tags": [],
        "colab": {
          "base_uri": "https://localhost:8080/",
          "height": 173,
          "referenced_widgets": [
            "602fd72a65ce4fadabd637cf068c6508",
            "b48782d040874fa683ef0591bd7fd0ac",
            "469b0101ca1b418fa997a894dce3d662"
          ]
        },
        "id": "greenhouse-economics",
        "outputId": "dc512fd1-8517-4eee-f3c6-749c024d0fa8"
      },
      "source": [
        "tuned_gbc = tune_model(gbc,fold=FOLD)"
      ],
      "id": "greenhouse-economics",
      "execution_count": null,
      "outputs": [
        {
          "output_type": "display_data",
          "data": {
            "text/html": [
              "<div>\n",
              "<style scoped>\n",
              "    .dataframe tbody tr th:only-of-type {\n",
              "        vertical-align: middle;\n",
              "    }\n",
              "\n",
              "    .dataframe tbody tr th {\n",
              "        vertical-align: top;\n",
              "    }\n",
              "\n",
              "    .dataframe thead th {\n",
              "        text-align: right;\n",
              "    }\n",
              "</style>\n",
              "<table border=\"1\" class=\"dataframe\">\n",
              "  <thead>\n",
              "    <tr style=\"text-align: right;\">\n",
              "      <th></th>\n",
              "      <th>Accuracy</th>\n",
              "      <th>AUC</th>\n",
              "      <th>Recall</th>\n",
              "      <th>Prec.</th>\n",
              "      <th>F1</th>\n",
              "      <th>Kappa</th>\n",
              "      <th>MCC</th>\n",
              "    </tr>\n",
              "  </thead>\n",
              "  <tbody>\n",
              "    <tr>\n",
              "      <th>0</th>\n",
              "      <td>0.7678</td>\n",
              "      <td>0.8348</td>\n",
              "      <td>0.6929</td>\n",
              "      <td>0.7446</td>\n",
              "      <td>0.7178</td>\n",
              "      <td>0.5210</td>\n",
              "      <td>0.5220</td>\n",
              "    </tr>\n",
              "    <tr>\n",
              "      <th>1</th>\n",
              "      <td>0.7712</td>\n",
              "      <td>0.8367</td>\n",
              "      <td>0.7288</td>\n",
              "      <td>0.7329</td>\n",
              "      <td>0.7308</td>\n",
              "      <td>0.5319</td>\n",
              "      <td>0.5319</td>\n",
              "    </tr>\n",
              "    <tr>\n",
              "      <th>Mean</th>\n",
              "      <td>0.7695</td>\n",
              "      <td>0.8357</td>\n",
              "      <td>0.7108</td>\n",
              "      <td>0.7387</td>\n",
              "      <td>0.7243</td>\n",
              "      <td>0.5264</td>\n",
              "      <td>0.5269</td>\n",
              "    </tr>\n",
              "    <tr>\n",
              "      <th>SD</th>\n",
              "      <td>0.0017</td>\n",
              "      <td>0.0009</td>\n",
              "      <td>0.0179</td>\n",
              "      <td>0.0058</td>\n",
              "      <td>0.0065</td>\n",
              "      <td>0.0054</td>\n",
              "      <td>0.0049</td>\n",
              "    </tr>\n",
              "  </tbody>\n",
              "</table>\n",
              "</div>"
            ],
            "text/plain": [
              "      Accuracy     AUC  Recall   Prec.      F1   Kappa     MCC\n",
              "0       0.7678  0.8348  0.6929  0.7446  0.7178  0.5210  0.5220\n",
              "1       0.7712  0.8367  0.7288  0.7329  0.7308  0.5319  0.5319\n",
              "Mean    0.7695  0.8357  0.7108  0.7387  0.7243  0.5264  0.5269\n",
              "SD      0.0017  0.0009  0.0179  0.0058  0.0065  0.0054  0.0049"
            ]
          },
          "metadata": {
            "tags": []
          }
        }
      ]
    },
    {
      "cell_type": "markdown",
      "metadata": {
        "papermill": {
          "duration": 0.135266,
          "end_time": "2021-04-22T12:50:10.685834",
          "exception": false,
          "start_time": "2021-04-22T12:50:10.550568",
          "status": "completed"
        },
        "tags": [],
        "id": "steady-silicon"
      },
      "source": [
        "## Blending"
      ],
      "id": "steady-silicon"
    },
    {
      "cell_type": "code",
      "metadata": {
        "execution": {
          "iopub.execute_input": "2021-04-22T12:50:10.964358Z",
          "iopub.status.busy": "2021-04-22T12:50:10.963591Z",
          "iopub.status.idle": "2021-04-22T12:51:40.655263Z",
          "shell.execute_reply": "2021-04-22T12:51:40.655829Z"
        },
        "papermill": {
          "duration": 89.834735,
          "end_time": "2021-04-22T12:51:40.656050",
          "exception": false,
          "start_time": "2021-04-22T12:50:10.821315",
          "status": "completed"
        },
        "tags": [],
        "colab": {
          "base_uri": "https://localhost:8080/",
          "height": 421,
          "referenced_widgets": [
            "061fe678c72e4e4d871a5c38a3c0ecd3",
            "834260a3bed948b1949e47bb455ae964",
            "357038fc690a4d7a85df40bb5c8774aa"
          ]
        },
        "id": "potential-broadcasting",
        "outputId": "1ba926ea-495b-4da1-a1e8-7d0c911900d2"
      },
      "source": [
        "blender = blend_models(estimator_list = [tuned_lgbm,tuned_cb], method = 'soft')"
      ],
      "id": "potential-broadcasting",
      "execution_count": null,
      "outputs": [
        {
          "output_type": "display_data",
          "data": {
            "text/html": [
              "<div>\n",
              "<style scoped>\n",
              "    .dataframe tbody tr th:only-of-type {\n",
              "        vertical-align: middle;\n",
              "    }\n",
              "\n",
              "    .dataframe tbody tr th {\n",
              "        vertical-align: top;\n",
              "    }\n",
              "\n",
              "    .dataframe thead th {\n",
              "        text-align: right;\n",
              "    }\n",
              "</style>\n",
              "<table border=\"1\" class=\"dataframe\">\n",
              "  <thead>\n",
              "    <tr style=\"text-align: right;\">\n",
              "      <th></th>\n",
              "      <th>Accuracy</th>\n",
              "      <th>AUC</th>\n",
              "      <th>Recall</th>\n",
              "      <th>Prec.</th>\n",
              "      <th>F1</th>\n",
              "      <th>Kappa</th>\n",
              "      <th>MCC</th>\n",
              "    </tr>\n",
              "  </thead>\n",
              "  <tbody>\n",
              "    <tr>\n",
              "      <th>0</th>\n",
              "      <td>0.7704</td>\n",
              "      <td>0.8419</td>\n",
              "      <td>0.7380</td>\n",
              "      <td>0.7272</td>\n",
              "      <td>0.7326</td>\n",
              "      <td>0.5314</td>\n",
              "      <td>0.5314</td>\n",
              "    </tr>\n",
              "    <tr>\n",
              "      <th>1</th>\n",
              "      <td>0.7755</td>\n",
              "      <td>0.8464</td>\n",
              "      <td>0.7507</td>\n",
              "      <td>0.7301</td>\n",
              "      <td>0.7402</td>\n",
              "      <td>0.5426</td>\n",
              "      <td>0.5428</td>\n",
              "    </tr>\n",
              "    <tr>\n",
              "      <th>2</th>\n",
              "      <td>0.7821</td>\n",
              "      <td>0.8535</td>\n",
              "      <td>0.7510</td>\n",
              "      <td>0.7412</td>\n",
              "      <td>0.7460</td>\n",
              "      <td>0.5553</td>\n",
              "      <td>0.5553</td>\n",
              "    </tr>\n",
              "    <tr>\n",
              "      <th>3</th>\n",
              "      <td>0.7786</td>\n",
              "      <td>0.8465</td>\n",
              "      <td>0.7424</td>\n",
              "      <td>0.7392</td>\n",
              "      <td>0.7408</td>\n",
              "      <td>0.5476</td>\n",
              "      <td>0.5476</td>\n",
              "    </tr>\n",
              "    <tr>\n",
              "      <th>4</th>\n",
              "      <td>0.7699</td>\n",
              "      <td>0.8433</td>\n",
              "      <td>0.7339</td>\n",
              "      <td>0.7282</td>\n",
              "      <td>0.7310</td>\n",
              "      <td>0.5300</td>\n",
              "      <td>0.5300</td>\n",
              "    </tr>\n",
              "    <tr>\n",
              "      <th>5</th>\n",
              "      <td>0.7732</td>\n",
              "      <td>0.8423</td>\n",
              "      <td>0.7311</td>\n",
              "      <td>0.7354</td>\n",
              "      <td>0.7332</td>\n",
              "      <td>0.5361</td>\n",
              "      <td>0.5361</td>\n",
              "    </tr>\n",
              "    <tr>\n",
              "      <th>6</th>\n",
              "      <td>0.7740</td>\n",
              "      <td>0.8459</td>\n",
              "      <td>0.7428</td>\n",
              "      <td>0.7312</td>\n",
              "      <td>0.7370</td>\n",
              "      <td>0.5389</td>\n",
              "      <td>0.5389</td>\n",
              "    </tr>\n",
              "    <tr>\n",
              "      <th>7</th>\n",
              "      <td>0.7778</td>\n",
              "      <td>0.8466</td>\n",
              "      <td>0.7507</td>\n",
              "      <td>0.7339</td>\n",
              "      <td>0.7422</td>\n",
              "      <td>0.5469</td>\n",
              "      <td>0.5471</td>\n",
              "    </tr>\n",
              "    <tr>\n",
              "      <th>8</th>\n",
              "      <td>0.7836</td>\n",
              "      <td>0.8515</td>\n",
              "      <td>0.7516</td>\n",
              "      <td>0.7435</td>\n",
              "      <td>0.7476</td>\n",
              "      <td>0.5582</td>\n",
              "      <td>0.5583</td>\n",
              "    </tr>\n",
              "    <tr>\n",
              "      <th>9</th>\n",
              "      <td>0.7734</td>\n",
              "      <td>0.8454</td>\n",
              "      <td>0.7408</td>\n",
              "      <td>0.7311</td>\n",
              "      <td>0.7359</td>\n",
              "      <td>0.5375</td>\n",
              "      <td>0.5375</td>\n",
              "    </tr>\n",
              "    <tr>\n",
              "      <th>Mean</th>\n",
              "      <td>0.7758</td>\n",
              "      <td>0.8463</td>\n",
              "      <td>0.7433</td>\n",
              "      <td>0.7341</td>\n",
              "      <td>0.7387</td>\n",
              "      <td>0.5424</td>\n",
              "      <td>0.5425</td>\n",
              "    </tr>\n",
              "    <tr>\n",
              "      <th>SD</th>\n",
              "      <td>0.0044</td>\n",
              "      <td>0.0035</td>\n",
              "      <td>0.0071</td>\n",
              "      <td>0.0053</td>\n",
              "      <td>0.0054</td>\n",
              "      <td>0.0090</td>\n",
              "      <td>0.0090</td>\n",
              "    </tr>\n",
              "  </tbody>\n",
              "</table>\n",
              "</div>"
            ],
            "text/plain": [
              "      Accuracy     AUC  Recall   Prec.      F1   Kappa     MCC\n",
              "0       0.7704  0.8419  0.7380  0.7272  0.7326  0.5314  0.5314\n",
              "1       0.7755  0.8464  0.7507  0.7301  0.7402  0.5426  0.5428\n",
              "2       0.7821  0.8535  0.7510  0.7412  0.7460  0.5553  0.5553\n",
              "3       0.7786  0.8465  0.7424  0.7392  0.7408  0.5476  0.5476\n",
              "4       0.7699  0.8433  0.7339  0.7282  0.7310  0.5300  0.5300\n",
              "5       0.7732  0.8423  0.7311  0.7354  0.7332  0.5361  0.5361\n",
              "6       0.7740  0.8459  0.7428  0.7312  0.7370  0.5389  0.5389\n",
              "7       0.7778  0.8466  0.7507  0.7339  0.7422  0.5469  0.5471\n",
              "8       0.7836  0.8515  0.7516  0.7435  0.7476  0.5582  0.5583\n",
              "9       0.7734  0.8454  0.7408  0.7311  0.7359  0.5375  0.5375\n",
              "Mean    0.7758  0.8463  0.7433  0.7341  0.7387  0.5424  0.5425\n",
              "SD      0.0044  0.0035  0.0071  0.0053  0.0054  0.0090  0.0090"
            ]
          },
          "metadata": {
            "tags": []
          }
        }
      ]
    },
    {
      "cell_type": "markdown",
      "metadata": {
        "papermill": {
          "duration": 0.136887,
          "end_time": "2021-04-22T12:51:40.929797",
          "exception": false,
          "start_time": "2021-04-22T12:51:40.792910",
          "status": "completed"
        },
        "tags": [],
        "id": "proprietary-suggestion"
      },
      "source": [
        "## Stacking"
      ],
      "id": "proprietary-suggestion"
    },
    {
      "cell_type": "code",
      "metadata": {
        "execution": {
          "iopub.execute_input": "2021-04-22T12:51:41.207365Z",
          "iopub.status.busy": "2021-04-22T12:51:41.206674Z",
          "iopub.status.idle": "2021-04-22T13:09:29.956169Z",
          "shell.execute_reply": "2021-04-22T13:09:29.955505Z"
        },
        "papermill": {
          "duration": 1068.889164,
          "end_time": "2021-04-22T13:09:29.956407",
          "exception": false,
          "start_time": "2021-04-22T12:51:41.067243",
          "status": "completed"
        },
        "tags": [],
        "colab": {
          "base_uri": "https://localhost:8080/",
          "height": 508,
          "referenced_widgets": [
            "0f96e3c9c16c49369a2d6c6c83a4a2db",
            "84fa675bbd3045d998b32e8dc9fbbdb8",
            "47abe2d0d73548dd96db05165f1aac72"
          ]
        },
        "id": "greenhouse-porter",
        "outputId": "7ecf3e2d-30e4-49ec-a629-b69edc7b3866"
      },
      "source": [
        "stacker = stack_models(estimator_list = [tuned_lgbm,tuned_cb,tuned_gbc], meta_model=tuned_lgbm)"
      ],
      "id": "greenhouse-porter",
      "execution_count": null,
      "outputs": [
        {
          "output_type": "display_data",
          "data": {
            "application/vnd.jupyter.widget-view+json": {
              "model_id": "0f96e3c9c16c49369a2d6c6c83a4a2db",
              "version_minor": 0,
              "version_major": 2
            },
            "text/plain": [
              "IntProgress(value=0, description='Processing: ', max=6)"
            ]
          },
          "metadata": {
            "tags": []
          }
        },
        {
          "output_type": "display_data",
          "data": {
            "text/html": [
              "<div>\n",
              "<style scoped>\n",
              "    .dataframe tbody tr th:only-of-type {\n",
              "        vertical-align: middle;\n",
              "    }\n",
              "\n",
              "    .dataframe tbody tr th {\n",
              "        vertical-align: top;\n",
              "    }\n",
              "\n",
              "    .dataframe thead th {\n",
              "        text-align: right;\n",
              "    }\n",
              "</style>\n",
              "<table border=\"1\" class=\"dataframe\">\n",
              "  <thead>\n",
              "    <tr style=\"text-align: right;\">\n",
              "      <th></th>\n",
              "      <th></th>\n",
              "      <th></th>\n",
              "    </tr>\n",
              "    <tr>\n",
              "      <th></th>\n",
              "      <th></th>\n",
              "      <th></th>\n",
              "    </tr>\n",
              "  </thead>\n",
              "  <tbody>\n",
              "    <tr>\n",
              "      <th>Initiated</th>\n",
              "      <td>. . . . . . . . . . . . . . . . . .</td>\n",
              "      <td>06:23:10</td>\n",
              "    </tr>\n",
              "    <tr>\n",
              "      <th>Status</th>\n",
              "      <td>. . . . . . . . . . . . . . . . . .</td>\n",
              "      <td>Fitting 10 Folds</td>\n",
              "    </tr>\n",
              "    <tr>\n",
              "      <th>Estimator</th>\n",
              "      <td>. . . . . . . . . . . . . . . . . .</td>\n",
              "      <td>Stacking Classifier</td>\n",
              "    </tr>\n",
              "  </tbody>\n",
              "</table>\n",
              "</div>"
            ],
            "text/plain": [
              "                                                                   \n",
              "                                                                   \n",
              "Initiated  . . . . . . . . . . . . . . . . . .             06:23:10\n",
              "Status     . . . . . . . . . . . . . . . . . .     Fitting 10 Folds\n",
              "Estimator  . . . . . . . . . . . . . . . . . .  Stacking Classifier"
            ]
          },
          "metadata": {
            "tags": []
          }
        },
        {
          "output_type": "display_data",
          "data": {
            "text/html": [
              "<div>\n",
              "<style scoped>\n",
              "    .dataframe tbody tr th:only-of-type {\n",
              "        vertical-align: middle;\n",
              "    }\n",
              "\n",
              "    .dataframe tbody tr th {\n",
              "        vertical-align: top;\n",
              "    }\n",
              "\n",
              "    .dataframe thead th {\n",
              "        text-align: right;\n",
              "    }\n",
              "</style>\n",
              "<table border=\"1\" class=\"dataframe\">\n",
              "  <thead>\n",
              "    <tr style=\"text-align: right;\">\n",
              "      <th></th>\n",
              "      <th>Accuracy</th>\n",
              "      <th>AUC</th>\n",
              "      <th>Recall</th>\n",
              "      <th>Prec.</th>\n",
              "      <th>F1</th>\n",
              "      <th>Kappa</th>\n",
              "      <th>MCC</th>\n",
              "    </tr>\n",
              "  </thead>\n",
              "  <tbody>\n",
              "  </tbody>\n",
              "</table>\n",
              "</div>"
            ],
            "text/plain": [
              "Empty DataFrame\n",
              "Columns: [Accuracy, AUC, Recall, Prec., F1, Kappa, MCC]\n",
              "Index: []"
            ]
          },
          "metadata": {
            "tags": []
          }
        },
        {
          "output_type": "error",
          "ename": "KeyboardInterrupt",
          "evalue": "ignored",
          "traceback": [
            "\u001b[0;31m---------------------------------------------------------------------------\u001b[0m",
            "\u001b[0;31mKeyboardInterrupt\u001b[0m                         Traceback (most recent call last)",
            "\u001b[0;32m<ipython-input-182-137f1e52c62d>\u001b[0m in \u001b[0;36m<module>\u001b[0;34m()\u001b[0m\n\u001b[0;32m----> 1\u001b[0;31m \u001b[0mstacker\u001b[0m \u001b[0;34m=\u001b[0m \u001b[0mstack_models\u001b[0m\u001b[0;34m(\u001b[0m\u001b[0mestimator_list\u001b[0m \u001b[0;34m=\u001b[0m \u001b[0;34m[\u001b[0m\u001b[0mtuned_lgbm\u001b[0m\u001b[0;34m,\u001b[0m\u001b[0mtuned_cb\u001b[0m\u001b[0;34m,\u001b[0m\u001b[0mtuned_gbc\u001b[0m\u001b[0;34m]\u001b[0m\u001b[0;34m,\u001b[0m \u001b[0mmeta_model\u001b[0m\u001b[0;34m=\u001b[0m\u001b[0mtuned_lgbm\u001b[0m\u001b[0;34m)\u001b[0m\u001b[0;34m\u001b[0m\u001b[0;34m\u001b[0m\u001b[0m\n\u001b[0m",
            "\u001b[0;32m/usr/local/lib/python3.7/dist-packages/pycaret/classification.py\u001b[0m in \u001b[0;36mstack_models\u001b[0;34m(estimator_list, meta_model, fold, round, method, restack, choose_better, optimize, fit_kwargs, groups, verbose)\u001b[0m\n\u001b[1;32m   1420\u001b[0m         \u001b[0mfit_kwargs\u001b[0m\u001b[0;34m=\u001b[0m\u001b[0mfit_kwargs\u001b[0m\u001b[0;34m,\u001b[0m\u001b[0;34m\u001b[0m\u001b[0;34m\u001b[0m\u001b[0m\n\u001b[1;32m   1421\u001b[0m         \u001b[0mgroups\u001b[0m\u001b[0;34m=\u001b[0m\u001b[0mgroups\u001b[0m\u001b[0;34m,\u001b[0m\u001b[0;34m\u001b[0m\u001b[0;34m\u001b[0m\u001b[0m\n\u001b[0;32m-> 1422\u001b[0;31m         \u001b[0mverbose\u001b[0m\u001b[0;34m=\u001b[0m\u001b[0mverbose\u001b[0m\u001b[0;34m,\u001b[0m\u001b[0;34m\u001b[0m\u001b[0;34m\u001b[0m\u001b[0m\n\u001b[0m\u001b[1;32m   1423\u001b[0m     )\n\u001b[1;32m   1424\u001b[0m \u001b[0;34m\u001b[0m\u001b[0m\n",
            "\u001b[0;32m/usr/local/lib/python3.7/dist-packages/pycaret/internal/tabular.py\u001b[0m in \u001b[0;36mstack_models\u001b[0;34m(estimator_list, meta_model, fold, round, method, restack, choose_better, optimize, fit_kwargs, groups, verbose, display)\u001b[0m\n\u001b[1;32m   5565\u001b[0m         \u001b[0mround\u001b[0m\u001b[0;34m=\u001b[0m\u001b[0mround\u001b[0m\u001b[0;34m,\u001b[0m\u001b[0;34m\u001b[0m\u001b[0;34m\u001b[0m\u001b[0m\n\u001b[1;32m   5566\u001b[0m         \u001b[0mfit_kwargs\u001b[0m\u001b[0;34m=\u001b[0m\u001b[0mfit_kwargs\u001b[0m\u001b[0;34m,\u001b[0m\u001b[0;34m\u001b[0m\u001b[0;34m\u001b[0m\u001b[0m\n\u001b[0;32m-> 5567\u001b[0;31m         \u001b[0mgroups\u001b[0m\u001b[0;34m=\u001b[0m\u001b[0mgroups\u001b[0m\u001b[0;34m,\u001b[0m\u001b[0;34m\u001b[0m\u001b[0;34m\u001b[0m\u001b[0m\n\u001b[0m\u001b[1;32m   5568\u001b[0m     )\n\u001b[1;32m   5569\u001b[0m     \u001b[0mmodel_results\u001b[0m \u001b[0;34m=\u001b[0m \u001b[0mpull\u001b[0m\u001b[0;34m(\u001b[0m\u001b[0;34m)\u001b[0m\u001b[0;34m\u001b[0m\u001b[0;34m\u001b[0m\u001b[0m\n",
            "\u001b[0;32m/usr/local/lib/python3.7/dist-packages/pycaret/internal/tabular.py\u001b[0m in \u001b[0;36mcreate_model_supervised\u001b[0;34m(estimator, fold, round, cross_validation, predict, fit_kwargs, groups, refit, verbose, system, X_train_data, y_train_data, metrics, display, **kwargs)\u001b[0m\n\u001b[1;32m   3120\u001b[0m             \u001b[0mn_jobs\u001b[0m\u001b[0;34m=\u001b[0m\u001b[0mn_jobs\u001b[0m\u001b[0;34m,\u001b[0m\u001b[0;34m\u001b[0m\u001b[0;34m\u001b[0m\u001b[0m\n\u001b[1;32m   3121\u001b[0m             \u001b[0mreturn_train_score\u001b[0m\u001b[0;34m=\u001b[0m\u001b[0;32mFalse\u001b[0m\u001b[0;34m,\u001b[0m\u001b[0;34m\u001b[0m\u001b[0;34m\u001b[0m\u001b[0m\n\u001b[0;32m-> 3122\u001b[0;31m             \u001b[0merror_score\u001b[0m\u001b[0;34m=\u001b[0m\u001b[0;36m0\u001b[0m\u001b[0;34m,\u001b[0m\u001b[0;34m\u001b[0m\u001b[0;34m\u001b[0m\u001b[0m\n\u001b[0m\u001b[1;32m   3123\u001b[0m         )\n\u001b[1;32m   3124\u001b[0m         \u001b[0mmodel_fit_end\u001b[0m \u001b[0;34m=\u001b[0m \u001b[0mtime\u001b[0m\u001b[0;34m.\u001b[0m\u001b[0mtime\u001b[0m\u001b[0;34m(\u001b[0m\u001b[0;34m)\u001b[0m\u001b[0;34m\u001b[0m\u001b[0;34m\u001b[0m\u001b[0m\n",
            "\u001b[0;32m/usr/local/lib/python3.7/dist-packages/sklearn/utils/validation.py\u001b[0m in \u001b[0;36minner_f\u001b[0;34m(*args, **kwargs)\u001b[0m\n\u001b[1;32m     70\u001b[0m                           FutureWarning)\n\u001b[1;32m     71\u001b[0m         \u001b[0mkwargs\u001b[0m\u001b[0;34m.\u001b[0m\u001b[0mupdate\u001b[0m\u001b[0;34m(\u001b[0m\u001b[0;34m{\u001b[0m\u001b[0mk\u001b[0m\u001b[0;34m:\u001b[0m \u001b[0marg\u001b[0m \u001b[0;32mfor\u001b[0m \u001b[0mk\u001b[0m\u001b[0;34m,\u001b[0m \u001b[0marg\u001b[0m \u001b[0;32min\u001b[0m \u001b[0mzip\u001b[0m\u001b[0;34m(\u001b[0m\u001b[0msig\u001b[0m\u001b[0;34m.\u001b[0m\u001b[0mparameters\u001b[0m\u001b[0;34m,\u001b[0m \u001b[0margs\u001b[0m\u001b[0;34m)\u001b[0m\u001b[0;34m}\u001b[0m\u001b[0;34m)\u001b[0m\u001b[0;34m\u001b[0m\u001b[0;34m\u001b[0m\u001b[0m\n\u001b[0;32m---> 72\u001b[0;31m         \u001b[0;32mreturn\u001b[0m \u001b[0mf\u001b[0m\u001b[0;34m(\u001b[0m\u001b[0;34m**\u001b[0m\u001b[0mkwargs\u001b[0m\u001b[0;34m)\u001b[0m\u001b[0;34m\u001b[0m\u001b[0;34m\u001b[0m\u001b[0m\n\u001b[0m\u001b[1;32m     73\u001b[0m     \u001b[0;32mreturn\u001b[0m \u001b[0minner_f\u001b[0m\u001b[0;34m\u001b[0m\u001b[0;34m\u001b[0m\u001b[0m\n\u001b[1;32m     74\u001b[0m \u001b[0;34m\u001b[0m\u001b[0m\n",
            "\u001b[0;32m/usr/local/lib/python3.7/dist-packages/sklearn/model_selection/_validation.py\u001b[0m in \u001b[0;36mcross_validate\u001b[0;34m(estimator, X, y, groups, scoring, cv, n_jobs, verbose, fit_params, pre_dispatch, return_train_score, return_estimator, error_score)\u001b[0m\n\u001b[1;32m    246\u001b[0m             \u001b[0mreturn_times\u001b[0m\u001b[0;34m=\u001b[0m\u001b[0;32mTrue\u001b[0m\u001b[0;34m,\u001b[0m \u001b[0mreturn_estimator\u001b[0m\u001b[0;34m=\u001b[0m\u001b[0mreturn_estimator\u001b[0m\u001b[0;34m,\u001b[0m\u001b[0;34m\u001b[0m\u001b[0;34m\u001b[0m\u001b[0m\n\u001b[1;32m    247\u001b[0m             error_score=error_score)\n\u001b[0;32m--> 248\u001b[0;31m         for train, test in cv.split(X, y, groups))\n\u001b[0m\u001b[1;32m    249\u001b[0m \u001b[0;34m\u001b[0m\u001b[0m\n\u001b[1;32m    250\u001b[0m     \u001b[0mzipped_scores\u001b[0m \u001b[0;34m=\u001b[0m \u001b[0mlist\u001b[0m\u001b[0;34m(\u001b[0m\u001b[0mzip\u001b[0m\u001b[0;34m(\u001b[0m\u001b[0;34m*\u001b[0m\u001b[0mscores\u001b[0m\u001b[0;34m)\u001b[0m\u001b[0;34m)\u001b[0m\u001b[0;34m\u001b[0m\u001b[0;34m\u001b[0m\u001b[0m\n",
            "\u001b[0;32m/usr/local/lib/python3.7/dist-packages/joblib/parallel.py\u001b[0m in \u001b[0;36m__call__\u001b[0;34m(self, iterable)\u001b[0m\n\u001b[1;32m   1052\u001b[0m \u001b[0;34m\u001b[0m\u001b[0m\n\u001b[1;32m   1053\u001b[0m             \u001b[0;32mwith\u001b[0m \u001b[0mself\u001b[0m\u001b[0;34m.\u001b[0m\u001b[0m_backend\u001b[0m\u001b[0;34m.\u001b[0m\u001b[0mretrieval_context\u001b[0m\u001b[0;34m(\u001b[0m\u001b[0;34m)\u001b[0m\u001b[0;34m:\u001b[0m\u001b[0;34m\u001b[0m\u001b[0;34m\u001b[0m\u001b[0m\n\u001b[0;32m-> 1054\u001b[0;31m                 \u001b[0mself\u001b[0m\u001b[0;34m.\u001b[0m\u001b[0mretrieve\u001b[0m\u001b[0;34m(\u001b[0m\u001b[0;34m)\u001b[0m\u001b[0;34m\u001b[0m\u001b[0;34m\u001b[0m\u001b[0m\n\u001b[0m\u001b[1;32m   1055\u001b[0m             \u001b[0;31m# Make sure that we get a last message telling us we are done\u001b[0m\u001b[0;34m\u001b[0m\u001b[0;34m\u001b[0m\u001b[0;34m\u001b[0m\u001b[0m\n\u001b[1;32m   1056\u001b[0m             \u001b[0melapsed_time\u001b[0m \u001b[0;34m=\u001b[0m \u001b[0mtime\u001b[0m\u001b[0;34m.\u001b[0m\u001b[0mtime\u001b[0m\u001b[0;34m(\u001b[0m\u001b[0;34m)\u001b[0m \u001b[0;34m-\u001b[0m \u001b[0mself\u001b[0m\u001b[0;34m.\u001b[0m\u001b[0m_start_time\u001b[0m\u001b[0;34m\u001b[0m\u001b[0;34m\u001b[0m\u001b[0m\n",
            "\u001b[0;32m/usr/local/lib/python3.7/dist-packages/joblib/parallel.py\u001b[0m in \u001b[0;36mretrieve\u001b[0;34m(self)\u001b[0m\n\u001b[1;32m    931\u001b[0m             \u001b[0;32mtry\u001b[0m\u001b[0;34m:\u001b[0m\u001b[0;34m\u001b[0m\u001b[0;34m\u001b[0m\u001b[0m\n\u001b[1;32m    932\u001b[0m                 \u001b[0;32mif\u001b[0m \u001b[0mgetattr\u001b[0m\u001b[0;34m(\u001b[0m\u001b[0mself\u001b[0m\u001b[0;34m.\u001b[0m\u001b[0m_backend\u001b[0m\u001b[0;34m,\u001b[0m \u001b[0;34m'supports_timeout'\u001b[0m\u001b[0;34m,\u001b[0m \u001b[0;32mFalse\u001b[0m\u001b[0;34m)\u001b[0m\u001b[0;34m:\u001b[0m\u001b[0;34m\u001b[0m\u001b[0;34m\u001b[0m\u001b[0m\n\u001b[0;32m--> 933\u001b[0;31m                     \u001b[0mself\u001b[0m\u001b[0;34m.\u001b[0m\u001b[0m_output\u001b[0m\u001b[0;34m.\u001b[0m\u001b[0mextend\u001b[0m\u001b[0;34m(\u001b[0m\u001b[0mjob\u001b[0m\u001b[0;34m.\u001b[0m\u001b[0mget\u001b[0m\u001b[0;34m(\u001b[0m\u001b[0mtimeout\u001b[0m\u001b[0;34m=\u001b[0m\u001b[0mself\u001b[0m\u001b[0;34m.\u001b[0m\u001b[0mtimeout\u001b[0m\u001b[0;34m)\u001b[0m\u001b[0;34m)\u001b[0m\u001b[0;34m\u001b[0m\u001b[0;34m\u001b[0m\u001b[0m\n\u001b[0m\u001b[1;32m    934\u001b[0m                 \u001b[0;32melse\u001b[0m\u001b[0;34m:\u001b[0m\u001b[0;34m\u001b[0m\u001b[0;34m\u001b[0m\u001b[0m\n\u001b[1;32m    935\u001b[0m                     \u001b[0mself\u001b[0m\u001b[0;34m.\u001b[0m\u001b[0m_output\u001b[0m\u001b[0;34m.\u001b[0m\u001b[0mextend\u001b[0m\u001b[0;34m(\u001b[0m\u001b[0mjob\u001b[0m\u001b[0;34m.\u001b[0m\u001b[0mget\u001b[0m\u001b[0;34m(\u001b[0m\u001b[0;34m)\u001b[0m\u001b[0;34m)\u001b[0m\u001b[0;34m\u001b[0m\u001b[0;34m\u001b[0m\u001b[0m\n",
            "\u001b[0;32m/usr/local/lib/python3.7/dist-packages/joblib/_parallel_backends.py\u001b[0m in \u001b[0;36mwrap_future_result\u001b[0;34m(future, timeout)\u001b[0m\n\u001b[1;32m    540\u001b[0m         AsyncResults.get from multiprocessing.\"\"\"\n\u001b[1;32m    541\u001b[0m         \u001b[0;32mtry\u001b[0m\u001b[0;34m:\u001b[0m\u001b[0;34m\u001b[0m\u001b[0;34m\u001b[0m\u001b[0m\n\u001b[0;32m--> 542\u001b[0;31m             \u001b[0;32mreturn\u001b[0m \u001b[0mfuture\u001b[0m\u001b[0;34m.\u001b[0m\u001b[0mresult\u001b[0m\u001b[0;34m(\u001b[0m\u001b[0mtimeout\u001b[0m\u001b[0;34m=\u001b[0m\u001b[0mtimeout\u001b[0m\u001b[0;34m)\u001b[0m\u001b[0;34m\u001b[0m\u001b[0;34m\u001b[0m\u001b[0m\n\u001b[0m\u001b[1;32m    543\u001b[0m         \u001b[0;32mexcept\u001b[0m \u001b[0mCfTimeoutError\u001b[0m \u001b[0;32mas\u001b[0m \u001b[0me\u001b[0m\u001b[0;34m:\u001b[0m\u001b[0;34m\u001b[0m\u001b[0;34m\u001b[0m\u001b[0m\n\u001b[1;32m    544\u001b[0m             \u001b[0;32mraise\u001b[0m \u001b[0mTimeoutError\u001b[0m \u001b[0;32mfrom\u001b[0m \u001b[0me\u001b[0m\u001b[0;34m\u001b[0m\u001b[0;34m\u001b[0m\u001b[0m\n",
            "\u001b[0;32m/usr/lib/python3.7/concurrent/futures/_base.py\u001b[0m in \u001b[0;36mresult\u001b[0;34m(self, timeout)\u001b[0m\n\u001b[1;32m    428\u001b[0m                 \u001b[0;32mreturn\u001b[0m \u001b[0mself\u001b[0m\u001b[0;34m.\u001b[0m\u001b[0m__get_result\u001b[0m\u001b[0;34m(\u001b[0m\u001b[0;34m)\u001b[0m\u001b[0;34m\u001b[0m\u001b[0;34m\u001b[0m\u001b[0m\n\u001b[1;32m    429\u001b[0m \u001b[0;34m\u001b[0m\u001b[0m\n\u001b[0;32m--> 430\u001b[0;31m             \u001b[0mself\u001b[0m\u001b[0;34m.\u001b[0m\u001b[0m_condition\u001b[0m\u001b[0;34m.\u001b[0m\u001b[0mwait\u001b[0m\u001b[0;34m(\u001b[0m\u001b[0mtimeout\u001b[0m\u001b[0;34m)\u001b[0m\u001b[0;34m\u001b[0m\u001b[0;34m\u001b[0m\u001b[0m\n\u001b[0m\u001b[1;32m    431\u001b[0m \u001b[0;34m\u001b[0m\u001b[0m\n\u001b[1;32m    432\u001b[0m             \u001b[0;32mif\u001b[0m \u001b[0mself\u001b[0m\u001b[0;34m.\u001b[0m\u001b[0m_state\u001b[0m \u001b[0;32min\u001b[0m \u001b[0;34m[\u001b[0m\u001b[0mCANCELLED\u001b[0m\u001b[0;34m,\u001b[0m \u001b[0mCANCELLED_AND_NOTIFIED\u001b[0m\u001b[0;34m]\u001b[0m\u001b[0;34m:\u001b[0m\u001b[0;34m\u001b[0m\u001b[0;34m\u001b[0m\u001b[0m\n",
            "\u001b[0;32m/usr/lib/python3.7/threading.py\u001b[0m in \u001b[0;36mwait\u001b[0;34m(self, timeout)\u001b[0m\n\u001b[1;32m    294\u001b[0m         \u001b[0;32mtry\u001b[0m\u001b[0;34m:\u001b[0m    \u001b[0;31m# restore state no matter what (e.g., KeyboardInterrupt)\u001b[0m\u001b[0;34m\u001b[0m\u001b[0;34m\u001b[0m\u001b[0m\n\u001b[1;32m    295\u001b[0m             \u001b[0;32mif\u001b[0m \u001b[0mtimeout\u001b[0m \u001b[0;32mis\u001b[0m \u001b[0;32mNone\u001b[0m\u001b[0;34m:\u001b[0m\u001b[0;34m\u001b[0m\u001b[0;34m\u001b[0m\u001b[0m\n\u001b[0;32m--> 296\u001b[0;31m                 \u001b[0mwaiter\u001b[0m\u001b[0;34m.\u001b[0m\u001b[0macquire\u001b[0m\u001b[0;34m(\u001b[0m\u001b[0;34m)\u001b[0m\u001b[0;34m\u001b[0m\u001b[0;34m\u001b[0m\u001b[0m\n\u001b[0m\u001b[1;32m    297\u001b[0m                 \u001b[0mgotit\u001b[0m \u001b[0;34m=\u001b[0m \u001b[0;32mTrue\u001b[0m\u001b[0;34m\u001b[0m\u001b[0;34m\u001b[0m\u001b[0m\n\u001b[1;32m    298\u001b[0m             \u001b[0;32melse\u001b[0m\u001b[0;34m:\u001b[0m\u001b[0;34m\u001b[0m\u001b[0;34m\u001b[0m\u001b[0m\n",
            "\u001b[0;31mKeyboardInterrupt\u001b[0m: "
          ]
        }
      ]
    },
    {
      "cell_type": "markdown",
      "metadata": {
        "papermill": {
          "duration": 0.137596,
          "end_time": "2021-04-22T13:09:30.232892",
          "exception": false,
          "start_time": "2021-04-22T13:09:30.095296",
          "status": "completed"
        },
        "tags": [],
        "id": "incorporated-greece"
      },
      "source": [
        "## Making Predictions"
      ],
      "id": "incorporated-greece"
    },
    {
      "cell_type": "markdown",
      "metadata": {
        "papermill": {
          "duration": 0.138413,
          "end_time": "2021-04-22T13:09:30.508570",
          "exception": false,
          "start_time": "2021-04-22T13:09:30.370157",
          "status": "completed"
        },
        "tags": [],
        "id": "conditional-train"
      },
      "source": [
        "### Individual model predictions"
      ],
      "id": "conditional-train"
    },
    {
      "cell_type": "code",
      "metadata": {
        "id": "LyEP3UluRtvt"
      },
      "source": [
        "X_test.shape"
      ],
      "id": "LyEP3UluRtvt",
      "execution_count": null,
      "outputs": []
    },
    {
      "cell_type": "code",
      "metadata": {
        "id": "AH_U-caKR1MN"
      },
      "source": [
        "preds = tuned_lgbm.predict(X_test)\n",
        "preds.head()"
      ],
      "id": "AH_U-caKR1MN",
      "execution_count": null,
      "outputs": []
    },
    {
      "cell_type": "code",
      "metadata": {
        "execution": {
          "iopub.execute_input": "2021-04-22T13:09:30.795495Z",
          "iopub.status.busy": "2021-04-22T13:09:30.794486Z",
          "iopub.status.idle": "2021-04-22T13:09:31.748591Z",
          "shell.execute_reply": "2021-04-22T13:09:31.747873Z"
        },
        "papermill": {
          "duration": 1.100378,
          "end_time": "2021-04-22T13:09:31.748737",
          "exception": false,
          "start_time": "2021-04-22T13:09:30.648359",
          "status": "completed"
        },
        "tags": [],
        "id": "answering-drama"
      },
      "source": [
        "df = pd.DataFrame({'PassengerId':test['PassengerId'],'Survived':predict_model(tuned_lgbm, X_test)['Label']})\n",
        "df.to_csv('submit.csv',index=False)"
      ],
      "id": "answering-drama",
      "execution_count": null,
      "outputs": []
    },
    {
      "cell_type": "code",
      "metadata": {
        "execution": {
          "iopub.execute_input": "2021-04-22T13:09:32.032477Z",
          "iopub.status.busy": "2021-04-22T13:09:32.031438Z",
          "iopub.status.idle": "2021-04-22T13:09:32.288962Z",
          "shell.execute_reply": "2021-04-22T13:09:32.288359Z"
        },
        "papermill": {
          "duration": 0.402442,
          "end_time": "2021-04-22T13:09:32.289222",
          "exception": false,
          "start_time": "2021-04-22T13:09:31.886780",
          "status": "completed"
        },
        "tags": [],
        "id": "latter-navigation"
      },
      "source": [
        "df2 = pd.DataFrame({'PassengerId':test['PassengerId'],'Survived':predict_model(tuned_cb, X_test)['Label']})\n",
        "df2.to_csv('submit2.csv',index=False)"
      ],
      "id": "latter-navigation",
      "execution_count": null,
      "outputs": []
    },
    {
      "cell_type": "code",
      "metadata": {
        "execution": {
          "iopub.execute_input": "2021-04-22T13:09:32.574727Z",
          "iopub.status.busy": "2021-04-22T13:09:32.573240Z",
          "iopub.status.idle": "2021-04-22T13:09:32.991058Z",
          "shell.execute_reply": "2021-04-22T13:09:32.990290Z"
        },
        "papermill": {
          "duration": 0.565458,
          "end_time": "2021-04-22T13:09:32.991227",
          "exception": false,
          "start_time": "2021-04-22T13:09:32.425769",
          "status": "completed"
        },
        "tags": [],
        "id": "nervous-fitting"
      },
      "source": [
        "df3 = pd.DataFrame({'PassengerId':test['PassengerId'],'Survived':predict_model(tuned_gbc, X_test)['Label']})\n",
        "df.to_csv('submit3.csv',index=False)"
      ],
      "id": "nervous-fitting",
      "execution_count": null,
      "outputs": []
    },
    {
      "cell_type": "markdown",
      "metadata": {
        "papermill": {
          "duration": 0.138508,
          "end_time": "2021-04-22T13:09:33.268145",
          "exception": false,
          "start_time": "2021-04-22T13:09:33.129637",
          "status": "completed"
        },
        "tags": [],
        "id": "competent-internship"
      },
      "source": [
        "### Blender Model Predictions"
      ],
      "id": "competent-internship"
    },
    {
      "cell_type": "code",
      "metadata": {
        "execution": {
          "iopub.execute_input": "2021-04-22T13:09:33.558379Z",
          "iopub.status.busy": "2021-04-22T13:09:33.556890Z",
          "iopub.status.idle": "2021-04-22T13:09:34.582150Z",
          "shell.execute_reply": "2021-04-22T13:09:34.581013Z"
        },
        "papermill": {
          "duration": 1.173765,
          "end_time": "2021-04-22T13:09:34.582308",
          "exception": false,
          "start_time": "2021-04-22T13:09:33.408543",
          "status": "completed"
        },
        "tags": [],
        "id": "generic-georgia"
      },
      "source": [
        "df4 =pd.DataFrame({'PassengerId':test['PassengerId'],'Survived':predict_model(blender, X_test)['Label']})\n",
        "df.to_csv('submit4.csv',index=False)"
      ],
      "id": "generic-georgia",
      "execution_count": null,
      "outputs": []
    },
    {
      "cell_type": "markdown",
      "metadata": {
        "papermill": {
          "duration": 0.137089,
          "end_time": "2021-04-22T13:09:34.857854",
          "exception": false,
          "start_time": "2021-04-22T13:09:34.720765",
          "status": "completed"
        },
        "tags": [],
        "id": "joined-smith"
      },
      "source": [
        "### Stacker Model Predictions"
      ],
      "id": "joined-smith"
    },
    {
      "cell_type": "code",
      "metadata": {
        "execution": {
          "iopub.execute_input": "2021-04-22T13:09:35.138733Z",
          "iopub.status.busy": "2021-04-22T13:09:35.138098Z",
          "iopub.status.idle": "2021-04-22T13:09:37.086781Z",
          "shell.execute_reply": "2021-04-22T13:09:37.085739Z"
        },
        "papermill": {
          "duration": 2.091027,
          "end_time": "2021-04-22T13:09:37.086959",
          "exception": false,
          "start_time": "2021-04-22T13:09:34.995932",
          "status": "completed"
        },
        "tags": [],
        "colab": {
          "base_uri": "https://localhost:8080/",
          "height": 412
        },
        "id": "experienced-surname",
        "outputId": "929ee5a9-46d9-49a1-f41e-632d9e316880"
      },
      "source": [
        "df5 = pd.DataFrame({'PassengerId':test['PassengerId'],'Survived':predict_model(stacker, X_test)['Label']})\n",
        "df.to_csv('submit5.csv',index=False)"
      ],
      "id": "experienced-surname",
      "execution_count": null,
      "outputs": [
        {
          "output_type": "error",
          "ename": "CatBoostError",
          "evalue": "ignored",
          "traceback": [
            "\u001b[0;31m---------------------------------------------------------------------------\u001b[0m",
            "\u001b[0;31mCatBoostError\u001b[0m                             Traceback (most recent call last)",
            "\u001b[0;32m<ipython-input-187-822c958a2574>\u001b[0m in \u001b[0;36m<module>\u001b[0;34m()\u001b[0m\n\u001b[0;32m----> 1\u001b[0;31m \u001b[0mdf5\u001b[0m \u001b[0;34m=\u001b[0m \u001b[0mpd\u001b[0m\u001b[0;34m.\u001b[0m\u001b[0mDataFrame\u001b[0m\u001b[0;34m(\u001b[0m\u001b[0;34m{\u001b[0m\u001b[0;34m'PassengerId'\u001b[0m\u001b[0;34m:\u001b[0m\u001b[0mtest\u001b[0m\u001b[0;34m[\u001b[0m\u001b[0;34m'PassengerId'\u001b[0m\u001b[0;34m]\u001b[0m\u001b[0;34m,\u001b[0m\u001b[0;34m'Survived'\u001b[0m\u001b[0;34m:\u001b[0m\u001b[0mpredict_model\u001b[0m\u001b[0;34m(\u001b[0m\u001b[0mstacker\u001b[0m\u001b[0;34m,\u001b[0m \u001b[0mX_test\u001b[0m\u001b[0;34m)\u001b[0m\u001b[0;34m[\u001b[0m\u001b[0;34m'Label'\u001b[0m\u001b[0;34m]\u001b[0m\u001b[0;34m}\u001b[0m\u001b[0;34m)\u001b[0m\u001b[0;34m\u001b[0m\u001b[0;34m\u001b[0m\u001b[0m\n\u001b[0m\u001b[1;32m      2\u001b[0m \u001b[0mdf\u001b[0m\u001b[0;34m.\u001b[0m\u001b[0mto_csv\u001b[0m\u001b[0;34m(\u001b[0m\u001b[0;34m'submit5.csv'\u001b[0m\u001b[0;34m,\u001b[0m\u001b[0mindex\u001b[0m\u001b[0;34m=\u001b[0m\u001b[0;32mFalse\u001b[0m\u001b[0;34m)\u001b[0m\u001b[0;34m\u001b[0m\u001b[0;34m\u001b[0m\u001b[0m\n",
            "\u001b[0;32m/usr/local/lib/python3.7/dist-packages/pycaret/classification.py\u001b[0m in \u001b[0;36mpredict_model\u001b[0;34m(estimator, data, probability_threshold, encoded_labels, raw_score, round, verbose)\u001b[0m\n\u001b[1;32m   1921\u001b[0m         \u001b[0mround\u001b[0m\u001b[0;34m=\u001b[0m\u001b[0mround\u001b[0m\u001b[0;34m,\u001b[0m\u001b[0;34m\u001b[0m\u001b[0;34m\u001b[0m\u001b[0m\n\u001b[1;32m   1922\u001b[0m         \u001b[0mverbose\u001b[0m\u001b[0;34m=\u001b[0m\u001b[0mverbose\u001b[0m\u001b[0;34m,\u001b[0m\u001b[0;34m\u001b[0m\u001b[0;34m\u001b[0m\u001b[0m\n\u001b[0;32m-> 1923\u001b[0;31m         \u001b[0mml_usecase\u001b[0m\u001b[0;34m=\u001b[0m\u001b[0mMLUsecase\u001b[0m\u001b[0;34m.\u001b[0m\u001b[0mCLASSIFICATION\u001b[0m\u001b[0;34m,\u001b[0m\u001b[0;34m\u001b[0m\u001b[0;34m\u001b[0m\u001b[0m\n\u001b[0m\u001b[1;32m   1924\u001b[0m     )\n\u001b[1;32m   1925\u001b[0m \u001b[0;34m\u001b[0m\u001b[0m\n",
            "\u001b[0;32m/usr/local/lib/python3.7/dist-packages/pycaret/internal/tabular.py\u001b[0m in \u001b[0;36mpredict_model\u001b[0;34m(estimator, data, probability_threshold, encoded_labels, raw_score, round, verbose, ml_usecase, display)\u001b[0m\n\u001b[1;32m   8388\u001b[0m     \u001b[0;31m# prediction starts here\u001b[0m\u001b[0;34m\u001b[0m\u001b[0;34m\u001b[0m\u001b[0;34m\u001b[0m\u001b[0m\n\u001b[1;32m   8389\u001b[0m \u001b[0;34m\u001b[0m\u001b[0m\n\u001b[0;32m-> 8390\u001b[0;31m     \u001b[0mpred\u001b[0m \u001b[0;34m=\u001b[0m \u001b[0mnp\u001b[0m\u001b[0;34m.\u001b[0m\u001b[0mnan_to_num\u001b[0m\u001b[0;34m(\u001b[0m\u001b[0mestimator\u001b[0m\u001b[0;34m.\u001b[0m\u001b[0mpredict\u001b[0m\u001b[0;34m(\u001b[0m\u001b[0mX_test_\u001b[0m\u001b[0;34m)\u001b[0m\u001b[0;34m)\u001b[0m\u001b[0;34m\u001b[0m\u001b[0;34m\u001b[0m\u001b[0m\n\u001b[0m\u001b[1;32m   8391\u001b[0m \u001b[0;34m\u001b[0m\u001b[0m\n\u001b[1;32m   8392\u001b[0m     \u001b[0;32mtry\u001b[0m\u001b[0;34m:\u001b[0m\u001b[0;34m\u001b[0m\u001b[0;34m\u001b[0m\u001b[0m\n",
            "\u001b[0;32m/usr/local/lib/python3.7/dist-packages/sklearn/utils/metaestimators.py\u001b[0m in \u001b[0;36m<lambda>\u001b[0;34m(*args, **kwargs)\u001b[0m\n\u001b[1;32m    117\u001b[0m \u001b[0;34m\u001b[0m\u001b[0m\n\u001b[1;32m    118\u001b[0m         \u001b[0;31m# lambda, but not partial, allows help() to work with update_wrapper\u001b[0m\u001b[0;34m\u001b[0m\u001b[0;34m\u001b[0m\u001b[0;34m\u001b[0m\u001b[0m\n\u001b[0;32m--> 119\u001b[0;31m         \u001b[0mout\u001b[0m \u001b[0;34m=\u001b[0m \u001b[0;32mlambda\u001b[0m \u001b[0;34m*\u001b[0m\u001b[0margs\u001b[0m\u001b[0;34m,\u001b[0m \u001b[0;34m**\u001b[0m\u001b[0mkwargs\u001b[0m\u001b[0;34m:\u001b[0m \u001b[0mself\u001b[0m\u001b[0;34m.\u001b[0m\u001b[0mfn\u001b[0m\u001b[0;34m(\u001b[0m\u001b[0mobj\u001b[0m\u001b[0;34m,\u001b[0m \u001b[0;34m*\u001b[0m\u001b[0margs\u001b[0m\u001b[0;34m,\u001b[0m \u001b[0;34m**\u001b[0m\u001b[0mkwargs\u001b[0m\u001b[0;34m)\u001b[0m\u001b[0;34m\u001b[0m\u001b[0;34m\u001b[0m\u001b[0m\n\u001b[0m\u001b[1;32m    120\u001b[0m         \u001b[0;31m# update the docstring of the returned function\u001b[0m\u001b[0;34m\u001b[0m\u001b[0;34m\u001b[0m\u001b[0;34m\u001b[0m\u001b[0m\n\u001b[1;32m    121\u001b[0m         \u001b[0mupdate_wrapper\u001b[0m\u001b[0;34m(\u001b[0m\u001b[0mout\u001b[0m\u001b[0;34m,\u001b[0m \u001b[0mself\u001b[0m\u001b[0;34m.\u001b[0m\u001b[0mfn\u001b[0m\u001b[0;34m)\u001b[0m\u001b[0;34m\u001b[0m\u001b[0;34m\u001b[0m\u001b[0m\n",
            "\u001b[0;32m/usr/local/lib/python3.7/dist-packages/sklearn/pipeline.py\u001b[0m in \u001b[0;36mpredict\u001b[0;34m(self, X, **predict_params)\u001b[0m\n\u001b[1;32m    406\u001b[0m         \u001b[0;32mfor\u001b[0m \u001b[0m_\u001b[0m\u001b[0;34m,\u001b[0m \u001b[0mname\u001b[0m\u001b[0;34m,\u001b[0m \u001b[0mtransform\u001b[0m \u001b[0;32min\u001b[0m \u001b[0mself\u001b[0m\u001b[0;34m.\u001b[0m\u001b[0m_iter\u001b[0m\u001b[0;34m(\u001b[0m\u001b[0mwith_final\u001b[0m\u001b[0;34m=\u001b[0m\u001b[0;32mFalse\u001b[0m\u001b[0;34m)\u001b[0m\u001b[0;34m:\u001b[0m\u001b[0;34m\u001b[0m\u001b[0;34m\u001b[0m\u001b[0m\n\u001b[1;32m    407\u001b[0m             \u001b[0mXt\u001b[0m \u001b[0;34m=\u001b[0m \u001b[0mtransform\u001b[0m\u001b[0;34m.\u001b[0m\u001b[0mtransform\u001b[0m\u001b[0;34m(\u001b[0m\u001b[0mXt\u001b[0m\u001b[0;34m)\u001b[0m\u001b[0;34m\u001b[0m\u001b[0;34m\u001b[0m\u001b[0m\n\u001b[0;32m--> 408\u001b[0;31m         \u001b[0;32mreturn\u001b[0m \u001b[0mself\u001b[0m\u001b[0;34m.\u001b[0m\u001b[0msteps\u001b[0m\u001b[0;34m[\u001b[0m\u001b[0;34m-\u001b[0m\u001b[0;36m1\u001b[0m\u001b[0;34m]\u001b[0m\u001b[0;34m[\u001b[0m\u001b[0;34m-\u001b[0m\u001b[0;36m1\u001b[0m\u001b[0;34m]\u001b[0m\u001b[0;34m.\u001b[0m\u001b[0mpredict\u001b[0m\u001b[0;34m(\u001b[0m\u001b[0mXt\u001b[0m\u001b[0;34m,\u001b[0m \u001b[0;34m**\u001b[0m\u001b[0mpredict_params\u001b[0m\u001b[0;34m)\u001b[0m\u001b[0;34m\u001b[0m\u001b[0;34m\u001b[0m\u001b[0m\n\u001b[0m\u001b[1;32m    409\u001b[0m \u001b[0;34m\u001b[0m\u001b[0m\n\u001b[1;32m    410\u001b[0m     \u001b[0;34m@\u001b[0m\u001b[0mif_delegate_has_method\u001b[0m\u001b[0;34m(\u001b[0m\u001b[0mdelegate\u001b[0m\u001b[0;34m=\u001b[0m\u001b[0;34m'_final_estimator'\u001b[0m\u001b[0;34m)\u001b[0m\u001b[0;34m\u001b[0m\u001b[0;34m\u001b[0m\u001b[0m\n",
            "\u001b[0;32m/usr/local/lib/python3.7/dist-packages/sklearn/utils/metaestimators.py\u001b[0m in \u001b[0;36m<lambda>\u001b[0;34m(*args, **kwargs)\u001b[0m\n\u001b[1;32m    117\u001b[0m \u001b[0;34m\u001b[0m\u001b[0m\n\u001b[1;32m    118\u001b[0m         \u001b[0;31m# lambda, but not partial, allows help() to work with update_wrapper\u001b[0m\u001b[0;34m\u001b[0m\u001b[0;34m\u001b[0m\u001b[0;34m\u001b[0m\u001b[0m\n\u001b[0;32m--> 119\u001b[0;31m         \u001b[0mout\u001b[0m \u001b[0;34m=\u001b[0m \u001b[0;32mlambda\u001b[0m \u001b[0;34m*\u001b[0m\u001b[0margs\u001b[0m\u001b[0;34m,\u001b[0m \u001b[0;34m**\u001b[0m\u001b[0mkwargs\u001b[0m\u001b[0;34m:\u001b[0m \u001b[0mself\u001b[0m\u001b[0;34m.\u001b[0m\u001b[0mfn\u001b[0m\u001b[0;34m(\u001b[0m\u001b[0mobj\u001b[0m\u001b[0;34m,\u001b[0m \u001b[0;34m*\u001b[0m\u001b[0margs\u001b[0m\u001b[0;34m,\u001b[0m \u001b[0;34m**\u001b[0m\u001b[0mkwargs\u001b[0m\u001b[0;34m)\u001b[0m\u001b[0;34m\u001b[0m\u001b[0;34m\u001b[0m\u001b[0m\n\u001b[0m\u001b[1;32m    120\u001b[0m         \u001b[0;31m# update the docstring of the returned function\u001b[0m\u001b[0;34m\u001b[0m\u001b[0;34m\u001b[0m\u001b[0;34m\u001b[0m\u001b[0m\n\u001b[1;32m    121\u001b[0m         \u001b[0mupdate_wrapper\u001b[0m\u001b[0;34m(\u001b[0m\u001b[0mout\u001b[0m\u001b[0;34m,\u001b[0m \u001b[0mself\u001b[0m\u001b[0;34m.\u001b[0m\u001b[0mfn\u001b[0m\u001b[0;34m)\u001b[0m\u001b[0;34m\u001b[0m\u001b[0;34m\u001b[0m\u001b[0m\n",
            "\u001b[0;32m/usr/local/lib/python3.7/dist-packages/sklearn/ensemble/_stacking.py\u001b[0m in \u001b[0;36mpredict\u001b[0;34m(self, X, **predict_params)\u001b[0m\n\u001b[1;32m    457\u001b[0m             \u001b[0mPredicted\u001b[0m \u001b[0mtargets\u001b[0m\u001b[0;34m.\u001b[0m\u001b[0;34m\u001b[0m\u001b[0;34m\u001b[0m\u001b[0m\n\u001b[1;32m    458\u001b[0m         \"\"\"\n\u001b[0;32m--> 459\u001b[0;31m         \u001b[0my_pred\u001b[0m \u001b[0;34m=\u001b[0m \u001b[0msuper\u001b[0m\u001b[0;34m(\u001b[0m\u001b[0;34m)\u001b[0m\u001b[0;34m.\u001b[0m\u001b[0mpredict\u001b[0m\u001b[0;34m(\u001b[0m\u001b[0mX\u001b[0m\u001b[0;34m,\u001b[0m \u001b[0;34m**\u001b[0m\u001b[0mpredict_params\u001b[0m\u001b[0;34m)\u001b[0m\u001b[0;34m\u001b[0m\u001b[0;34m\u001b[0m\u001b[0m\n\u001b[0m\u001b[1;32m    460\u001b[0m         \u001b[0;32mreturn\u001b[0m \u001b[0mself\u001b[0m\u001b[0;34m.\u001b[0m\u001b[0m_le\u001b[0m\u001b[0;34m.\u001b[0m\u001b[0minverse_transform\u001b[0m\u001b[0;34m(\u001b[0m\u001b[0my_pred\u001b[0m\u001b[0;34m)\u001b[0m\u001b[0;34m\u001b[0m\u001b[0;34m\u001b[0m\u001b[0m\n\u001b[1;32m    461\u001b[0m \u001b[0;34m\u001b[0m\u001b[0m\n",
            "\u001b[0;32m/usr/local/lib/python3.7/dist-packages/sklearn/utils/metaestimators.py\u001b[0m in \u001b[0;36m<lambda>\u001b[0;34m(*args, **kwargs)\u001b[0m\n\u001b[1;32m    117\u001b[0m \u001b[0;34m\u001b[0m\u001b[0m\n\u001b[1;32m    118\u001b[0m         \u001b[0;31m# lambda, but not partial, allows help() to work with update_wrapper\u001b[0m\u001b[0;34m\u001b[0m\u001b[0;34m\u001b[0m\u001b[0;34m\u001b[0m\u001b[0m\n\u001b[0;32m--> 119\u001b[0;31m         \u001b[0mout\u001b[0m \u001b[0;34m=\u001b[0m \u001b[0;32mlambda\u001b[0m \u001b[0;34m*\u001b[0m\u001b[0margs\u001b[0m\u001b[0;34m,\u001b[0m \u001b[0;34m**\u001b[0m\u001b[0mkwargs\u001b[0m\u001b[0;34m:\u001b[0m \u001b[0mself\u001b[0m\u001b[0;34m.\u001b[0m\u001b[0mfn\u001b[0m\u001b[0;34m(\u001b[0m\u001b[0mobj\u001b[0m\u001b[0;34m,\u001b[0m \u001b[0;34m*\u001b[0m\u001b[0margs\u001b[0m\u001b[0;34m,\u001b[0m \u001b[0;34m**\u001b[0m\u001b[0mkwargs\u001b[0m\u001b[0;34m)\u001b[0m\u001b[0;34m\u001b[0m\u001b[0;34m\u001b[0m\u001b[0m\n\u001b[0m\u001b[1;32m    120\u001b[0m         \u001b[0;31m# update the docstring of the returned function\u001b[0m\u001b[0;34m\u001b[0m\u001b[0;34m\u001b[0m\u001b[0;34m\u001b[0m\u001b[0m\n\u001b[1;32m    121\u001b[0m         \u001b[0mupdate_wrapper\u001b[0m\u001b[0;34m(\u001b[0m\u001b[0mout\u001b[0m\u001b[0;34m,\u001b[0m \u001b[0mself\u001b[0m\u001b[0;34m.\u001b[0m\u001b[0mfn\u001b[0m\u001b[0;34m)\u001b[0m\u001b[0;34m\u001b[0m\u001b[0;34m\u001b[0m\u001b[0m\n",
            "\u001b[0;32m/usr/local/lib/python3.7/dist-packages/sklearn/ensemble/_stacking.py\u001b[0m in \u001b[0;36mpredict\u001b[0;34m(self, X, **predict_params)\u001b[0m\n\u001b[1;32m    243\u001b[0m         \u001b[0mcheck_is_fitted\u001b[0m\u001b[0;34m(\u001b[0m\u001b[0mself\u001b[0m\u001b[0;34m)\u001b[0m\u001b[0;34m\u001b[0m\u001b[0;34m\u001b[0m\u001b[0m\n\u001b[1;32m    244\u001b[0m         return self.final_estimator_.predict(\n\u001b[0;32m--> 245\u001b[0;31m             \u001b[0mself\u001b[0m\u001b[0;34m.\u001b[0m\u001b[0mtransform\u001b[0m\u001b[0;34m(\u001b[0m\u001b[0mX\u001b[0m\u001b[0;34m)\u001b[0m\u001b[0;34m,\u001b[0m \u001b[0;34m**\u001b[0m\u001b[0mpredict_params\u001b[0m\u001b[0;34m\u001b[0m\u001b[0;34m\u001b[0m\u001b[0m\n\u001b[0m\u001b[1;32m    246\u001b[0m         )\n\u001b[1;32m    247\u001b[0m \u001b[0;34m\u001b[0m\u001b[0m\n",
            "\u001b[0;32m/usr/local/lib/python3.7/dist-packages/sklearn/ensemble/_stacking.py\u001b[0m in \u001b[0;36mtransform\u001b[0;34m(self, X)\u001b[0m\n\u001b[1;32m    515\u001b[0m             \u001b[0mPrediction\u001b[0m \u001b[0moutputs\u001b[0m \u001b[0;32mfor\u001b[0m \u001b[0meach\u001b[0m \u001b[0mestimator\u001b[0m\u001b[0;34m.\u001b[0m\u001b[0;34m\u001b[0m\u001b[0;34m\u001b[0m\u001b[0m\n\u001b[1;32m    516\u001b[0m         \"\"\"\n\u001b[0;32m--> 517\u001b[0;31m         \u001b[0;32mreturn\u001b[0m \u001b[0mself\u001b[0m\u001b[0;34m.\u001b[0m\u001b[0m_transform\u001b[0m\u001b[0;34m(\u001b[0m\u001b[0mX\u001b[0m\u001b[0;34m)\u001b[0m\u001b[0;34m\u001b[0m\u001b[0;34m\u001b[0m\u001b[0m\n\u001b[0m\u001b[1;32m    518\u001b[0m \u001b[0;34m\u001b[0m\u001b[0m\n\u001b[1;32m    519\u001b[0m     \u001b[0;32mdef\u001b[0m \u001b[0m_sk_visual_block_\u001b[0m\u001b[0;34m(\u001b[0m\u001b[0mself\u001b[0m\u001b[0;34m)\u001b[0m\u001b[0;34m:\u001b[0m\u001b[0;34m\u001b[0m\u001b[0;34m\u001b[0m\u001b[0m\n",
            "\u001b[0;32m/usr/local/lib/python3.7/dist-packages/sklearn/ensemble/_stacking.py\u001b[0m in \u001b[0;36m_transform\u001b[0;34m(self, X)\u001b[0m\n\u001b[1;32m    214\u001b[0m         predictions = [\n\u001b[1;32m    215\u001b[0m             \u001b[0mgetattr\u001b[0m\u001b[0;34m(\u001b[0m\u001b[0mest\u001b[0m\u001b[0;34m,\u001b[0m \u001b[0mmeth\u001b[0m\u001b[0;34m)\u001b[0m\u001b[0;34m(\u001b[0m\u001b[0mX\u001b[0m\u001b[0;34m)\u001b[0m\u001b[0;34m\u001b[0m\u001b[0;34m\u001b[0m\u001b[0m\n\u001b[0;32m--> 216\u001b[0;31m             \u001b[0;32mfor\u001b[0m \u001b[0mest\u001b[0m\u001b[0;34m,\u001b[0m \u001b[0mmeth\u001b[0m \u001b[0;32min\u001b[0m \u001b[0mzip\u001b[0m\u001b[0;34m(\u001b[0m\u001b[0mself\u001b[0m\u001b[0;34m.\u001b[0m\u001b[0mestimators_\u001b[0m\u001b[0;34m,\u001b[0m \u001b[0mself\u001b[0m\u001b[0;34m.\u001b[0m\u001b[0mstack_method_\u001b[0m\u001b[0;34m)\u001b[0m\u001b[0;34m\u001b[0m\u001b[0;34m\u001b[0m\u001b[0m\n\u001b[0m\u001b[1;32m    217\u001b[0m             \u001b[0;32mif\u001b[0m \u001b[0mest\u001b[0m \u001b[0;34m!=\u001b[0m \u001b[0;34m'drop'\u001b[0m\u001b[0;34m\u001b[0m\u001b[0;34m\u001b[0m\u001b[0m\n\u001b[1;32m    218\u001b[0m         ]\n",
            "\u001b[0;32m/usr/local/lib/python3.7/dist-packages/sklearn/ensemble/_stacking.py\u001b[0m in \u001b[0;36m<listcomp>\u001b[0;34m(.0)\u001b[0m\n\u001b[1;32m    215\u001b[0m             \u001b[0mgetattr\u001b[0m\u001b[0;34m(\u001b[0m\u001b[0mest\u001b[0m\u001b[0;34m,\u001b[0m \u001b[0mmeth\u001b[0m\u001b[0;34m)\u001b[0m\u001b[0;34m(\u001b[0m\u001b[0mX\u001b[0m\u001b[0;34m)\u001b[0m\u001b[0;34m\u001b[0m\u001b[0;34m\u001b[0m\u001b[0m\n\u001b[1;32m    216\u001b[0m             \u001b[0;32mfor\u001b[0m \u001b[0mest\u001b[0m\u001b[0;34m,\u001b[0m \u001b[0mmeth\u001b[0m \u001b[0;32min\u001b[0m \u001b[0mzip\u001b[0m\u001b[0;34m(\u001b[0m\u001b[0mself\u001b[0m\u001b[0;34m.\u001b[0m\u001b[0mestimators_\u001b[0m\u001b[0;34m,\u001b[0m \u001b[0mself\u001b[0m\u001b[0;34m.\u001b[0m\u001b[0mstack_method_\u001b[0m\u001b[0;34m)\u001b[0m\u001b[0;34m\u001b[0m\u001b[0;34m\u001b[0m\u001b[0m\n\u001b[0;32m--> 217\u001b[0;31m             \u001b[0;32mif\u001b[0m \u001b[0mest\u001b[0m \u001b[0;34m!=\u001b[0m \u001b[0;34m'drop'\u001b[0m\u001b[0;34m\u001b[0m\u001b[0;34m\u001b[0m\u001b[0m\n\u001b[0m\u001b[1;32m    218\u001b[0m         ]\n\u001b[1;32m    219\u001b[0m         \u001b[0;32mreturn\u001b[0m \u001b[0mself\u001b[0m\u001b[0;34m.\u001b[0m\u001b[0m_concatenate_predictions\u001b[0m\u001b[0;34m(\u001b[0m\u001b[0mX\u001b[0m\u001b[0;34m,\u001b[0m \u001b[0mpredictions\u001b[0m\u001b[0;34m)\u001b[0m\u001b[0;34m\u001b[0m\u001b[0;34m\u001b[0m\u001b[0m\n",
            "\u001b[0;32m/usr/local/lib/python3.7/dist-packages/catboost/core.py\u001b[0m in \u001b[0;36mpredict_proba\u001b[0;34m(self, data, ntree_start, ntree_end, thread_count, verbose)\u001b[0m\n\u001b[1;32m   4631\u001b[0m                 \u001b[0;32mwith\u001b[0m \u001b[0mprobability\u001b[0m \u001b[0;32mfor\u001b[0m \u001b[0mevery\u001b[0m \u001b[0;32mclass\u001b[0m \u001b[0;32mfor\u001b[0m \u001b[0meach\u001b[0m \u001b[0mobject\u001b[0m\u001b[0;34m.\u001b[0m\u001b[0;34m\u001b[0m\u001b[0;34m\u001b[0m\u001b[0m\n\u001b[1;32m   4632\u001b[0m         \"\"\"\n\u001b[0;32m-> 4633\u001b[0;31m         \u001b[0;32mreturn\u001b[0m \u001b[0mself\u001b[0m\u001b[0;34m.\u001b[0m\u001b[0m_predict\u001b[0m\u001b[0;34m(\u001b[0m\u001b[0mdata\u001b[0m\u001b[0;34m,\u001b[0m \u001b[0;34m'Probability'\u001b[0m\u001b[0;34m,\u001b[0m \u001b[0mntree_start\u001b[0m\u001b[0;34m,\u001b[0m \u001b[0mntree_end\u001b[0m\u001b[0;34m,\u001b[0m \u001b[0mthread_count\u001b[0m\u001b[0;34m,\u001b[0m \u001b[0mverbose\u001b[0m\u001b[0;34m,\u001b[0m \u001b[0;34m'predict_proba'\u001b[0m\u001b[0;34m)\u001b[0m\u001b[0;34m\u001b[0m\u001b[0;34m\u001b[0m\u001b[0m\n\u001b[0m\u001b[1;32m   4634\u001b[0m \u001b[0;34m\u001b[0m\u001b[0m\n\u001b[1;32m   4635\u001b[0m \u001b[0;34m\u001b[0m\u001b[0m\n",
            "\u001b[0;32m/usr/local/lib/python3.7/dist-packages/catboost/core.py\u001b[0m in \u001b[0;36m_predict\u001b[0;34m(self, data, prediction_type, ntree_start, ntree_end, thread_count, verbose, parent_method_name)\u001b[0m\n\u001b[1;32m   2091\u001b[0m         \u001b[0mself\u001b[0m\u001b[0;34m.\u001b[0m\u001b[0m_validate_prediction_type\u001b[0m\u001b[0;34m(\u001b[0m\u001b[0mprediction_type\u001b[0m\u001b[0;34m)\u001b[0m\u001b[0;34m\u001b[0m\u001b[0;34m\u001b[0m\u001b[0m\n\u001b[1;32m   2092\u001b[0m \u001b[0;34m\u001b[0m\u001b[0m\n\u001b[0;32m-> 2093\u001b[0;31m         \u001b[0mpredictions\u001b[0m \u001b[0;34m=\u001b[0m \u001b[0mself\u001b[0m\u001b[0;34m.\u001b[0m\u001b[0m_base_predict\u001b[0m\u001b[0;34m(\u001b[0m\u001b[0mdata\u001b[0m\u001b[0;34m,\u001b[0m \u001b[0mprediction_type\u001b[0m\u001b[0;34m,\u001b[0m \u001b[0mntree_start\u001b[0m\u001b[0;34m,\u001b[0m \u001b[0mntree_end\u001b[0m\u001b[0;34m,\u001b[0m \u001b[0mthread_count\u001b[0m\u001b[0;34m,\u001b[0m \u001b[0mverbose\u001b[0m\u001b[0;34m)\u001b[0m\u001b[0;34m\u001b[0m\u001b[0;34m\u001b[0m\u001b[0m\n\u001b[0m\u001b[1;32m   2094\u001b[0m         \u001b[0;32mreturn\u001b[0m \u001b[0mpredictions\u001b[0m\u001b[0;34m[\u001b[0m\u001b[0;36m0\u001b[0m\u001b[0;34m]\u001b[0m \u001b[0;32mif\u001b[0m \u001b[0mdata_is_single_object\u001b[0m \u001b[0;32melse\u001b[0m \u001b[0mpredictions\u001b[0m\u001b[0;34m\u001b[0m\u001b[0;34m\u001b[0m\u001b[0m\n\u001b[1;32m   2095\u001b[0m \u001b[0;34m\u001b[0m\u001b[0m\n",
            "\u001b[0;32m/usr/local/lib/python3.7/dist-packages/catboost/core.py\u001b[0m in \u001b[0;36m_base_predict\u001b[0;34m(self, pool, prediction_type, ntree_start, ntree_end, thread_count, verbose)\u001b[0m\n\u001b[1;32m   1416\u001b[0m \u001b[0;34m\u001b[0m\u001b[0m\n\u001b[1;32m   1417\u001b[0m     \u001b[0;32mdef\u001b[0m \u001b[0m_base_predict\u001b[0m\u001b[0;34m(\u001b[0m\u001b[0mself\u001b[0m\u001b[0;34m,\u001b[0m \u001b[0mpool\u001b[0m\u001b[0;34m,\u001b[0m \u001b[0mprediction_type\u001b[0m\u001b[0;34m,\u001b[0m \u001b[0mntree_start\u001b[0m\u001b[0;34m,\u001b[0m \u001b[0mntree_end\u001b[0m\u001b[0;34m,\u001b[0m \u001b[0mthread_count\u001b[0m\u001b[0;34m,\u001b[0m \u001b[0mverbose\u001b[0m\u001b[0;34m)\u001b[0m\u001b[0;34m:\u001b[0m\u001b[0;34m\u001b[0m\u001b[0;34m\u001b[0m\u001b[0m\n\u001b[0;32m-> 1418\u001b[0;31m         \u001b[0;32mreturn\u001b[0m \u001b[0mself\u001b[0m\u001b[0;34m.\u001b[0m\u001b[0m_object\u001b[0m\u001b[0;34m.\u001b[0m\u001b[0m_base_predict\u001b[0m\u001b[0;34m(\u001b[0m\u001b[0mpool\u001b[0m\u001b[0;34m,\u001b[0m \u001b[0mprediction_type\u001b[0m\u001b[0;34m,\u001b[0m \u001b[0mntree_start\u001b[0m\u001b[0;34m,\u001b[0m \u001b[0mntree_end\u001b[0m\u001b[0;34m,\u001b[0m \u001b[0mthread_count\u001b[0m\u001b[0;34m,\u001b[0m \u001b[0mverbose\u001b[0m\u001b[0;34m)\u001b[0m\u001b[0;34m\u001b[0m\u001b[0;34m\u001b[0m\u001b[0m\n\u001b[0m\u001b[1;32m   1419\u001b[0m \u001b[0;34m\u001b[0m\u001b[0m\n\u001b[1;32m   1420\u001b[0m     \u001b[0;32mdef\u001b[0m \u001b[0m_base_virtual_ensembles_predict\u001b[0m\u001b[0;34m(\u001b[0m\u001b[0mself\u001b[0m\u001b[0;34m,\u001b[0m \u001b[0mpool\u001b[0m\u001b[0;34m,\u001b[0m \u001b[0mprediction_type\u001b[0m\u001b[0;34m,\u001b[0m \u001b[0mntree_end\u001b[0m\u001b[0;34m,\u001b[0m \u001b[0mvirtual_ensembles_count\u001b[0m\u001b[0;34m,\u001b[0m \u001b[0mthread_count\u001b[0m\u001b[0;34m,\u001b[0m \u001b[0mverbose\u001b[0m\u001b[0;34m)\u001b[0m\u001b[0;34m:\u001b[0m\u001b[0;34m\u001b[0m\u001b[0;34m\u001b[0m\u001b[0m\n",
            "\u001b[0;32m_catboost.pyx\u001b[0m in \u001b[0;36m_catboost._CatBoost._base_predict\u001b[0;34m()\u001b[0m\n",
            "\u001b[0;32m_catboost.pyx\u001b[0m in \u001b[0;36m_catboost._CatBoost._base_predict\u001b[0;34m()\u001b[0m\n",
            "\u001b[0;31mCatBoostError\u001b[0m: catboost/libs/data/model_dataset_compatibility.cpp:81: At position 6 should be feature with name Sex_1 (found Sex_0)."
          ]
        }
      ]
    }
  ]
}