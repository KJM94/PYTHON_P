{
 "cells": [
  {
   "cell_type": "markdown",
   "metadata": {
    "id": "DxabdcwbF2JF"
   },
   "source": [
    "#로그로스"
   ]
  },
  {
   "cell_type": "code",
   "execution_count": 1,
   "metadata": {
    "colab": {
     "base_uri": "https://localhost:8080/"
    },
    "executionInfo": {
     "elapsed": 3156,
     "status": "ok",
     "timestamp": 1618533847434,
     "user": {
      "displayName": "jo jo",
      "photoUrl": "",
      "userId": "04678984846038923364"
     },
     "user_tz": -540
    },
    "id": "1jvPX1TxELB8",
    "outputId": "35845091-7f5a-4160-d1ca-f3ec292a7c9d"
   },
   "outputs": [
    {
     "name": "stdout",
     "output_type": "stream",
     "text": [
      "1.2798766713748249\n"
     ]
    }
   ],
   "source": [
    "import numpy as np # linear algebra\n",
    "import pandas as pd # data processing, CSV file I/O (e.g. pd.read_csv)\n",
    "\n",
    "# Input data files are available in the \"../input/\" directory.\n",
    "# For example, running this (by clicking run or pressing Shift+Enter) will list the files in the input directory\n",
    "\n",
    "from subprocess import check_output\n",
    "import matplotlib.pyplot as plt\n",
    "import numpy as np\n",
    "\n",
    "from sklearn.datasets import make_blobs\n",
    "from sklearn.ensemble import RandomForestClassifier\n",
    "from sklearn.calibration import CalibratedClassifierCV\n",
    "from sklearn.metrics import log_loss\n",
    "\n",
    "np.random.seed(0)\n",
    "\n",
    "# Generate data\n",
    "X, y = make_blobs(n_samples=1000, n_features=2, random_state=42,\n",
    "                  cluster_std=5.0)\n",
    "X_train, y_train = X[:600], y[:600]\n",
    "X_valid, y_valid = X[600:800], y[600:800]\n",
    "X_train_valid, y_train_valid = X[:800], y[:800]\n",
    "X_test, y_test = X[800:], y[800:]\n",
    "\n",
    "# Train uncalibrated random forest classifier on whole train and validation\n",
    "# data and evaluate on test data\n",
    "clf = RandomForestClassifier(n_estimators=25)\n",
    "clf.fit(X_train_valid, y_train_valid)\n",
    "clf_probs = clf.predict_proba(X_test)\n",
    "score = log_loss(y_test, clf_probs)\n",
    "print(score)\n",
    "\n",
    "# Any results you write to the current directory are saved as output."
   ]
  },
  {
   "cell_type": "code",
   "execution_count": 2,
   "metadata": {
    "colab": {
     "base_uri": "https://localhost:8080/"
    },
    "executionInfo": {
     "elapsed": 3145,
     "status": "ok",
     "timestamp": 1618533847437,
     "user": {
      "displayName": "jo jo",
      "photoUrl": "",
      "userId": "04678984846038923364"
     },
     "user_tz": -540
    },
    "id": "fiER_91iF5Rt",
    "outputId": "0a16299d-39c2-434b-c8cc-922a51523c63"
   },
   "outputs": [
    {
     "data": {
      "text/plain": [
       "True"
      ]
     },
     "execution_count": 2,
     "metadata": {
      "tags": []
     },
     "output_type": "execute_result"
    }
   ],
   "source": [
    "import numpy as np\n",
    "from sklearn.metrics import log_loss\n",
    "\n",
    "def cross_entropy(predictions, targets):\n",
    "    N = predictions.shape[0]\n",
    "    ce = -np.sum(targets*np.log(predictions))/N\n",
    "    return ce\n",
    "\n",
    "predictions = np.array([[0.25,0.25,0.25,0.25],\n",
    "                        [0.01,0.01,0.01,0.97]])\n",
    "targets = np.array([[1,0,0,0],\n",
    "                   [0,0,0,1]])\n",
    "\n",
    "cross_entropy(predictions, targets)\n",
    "# 0.7083767843022996\n",
    "\n",
    "log_loss(targets, predictions)\n",
    "# 0.7083767843022996\n",
    "\n",
    "log_loss(targets, predictions) == cross_entropy(predictions, targets)\n",
    "# True   \n"
   ]
  },
  {
   "cell_type": "code",
   "execution_count": 4,
   "metadata": {
    "executionInfo": {
     "elapsed": 3280,
     "status": "ok",
     "timestamp": 1618534109880,
     "user": {
      "displayName": "jo jo",
      "photoUrl": "",
      "userId": "04678984846038923364"
     },
     "user_tz": -540
    },
    "id": "OwfbNA54BsWr"
   },
   "outputs": [],
   "source": [
    "import numpy as np\n",
    "import matplotlib.pyplot as plt\n",
    "from sklearn import datasets\n",
    "\n",
    "iris = datasets.load_iris()\n",
    "X = iris.data[:, :2]\n",
    "y = iris.target\n",
    "\n",
    "from sklearn.model_selection import train_test_split\n",
    "X_train, X_test, y_train, y_test = train_test_split(X, y, random_state=666)"
   ]
  },
  {
   "cell_type": "markdown",
   "metadata": {
    "id": "mvBAfRv1Cafb"
   },
   "source": [
    "모든 데이터 사용"
   ]
  },
  {
   "cell_type": "code",
   "execution_count": null,
   "metadata": {
    "executionInfo": {
     "elapsed": 4270,
     "status": "aborted",
     "timestamp": 1618533848573,
     "user": {
      "displayName": "jo jo",
      "photoUrl": "",
      "userId": "04678984846038923364"
     },
     "user_tz": -540
    },
    "id": "HYYvkDlSBxZb"
   },
   "outputs": [],
   "source": [
    "X = iris.data\n",
    "y = iris.target\n",
    "from sklearn.model_selection import train_test_split\n",
    "X_train, X_test, y_train, y_test = train_test_split(X, y, random_state=666)\n",
    "\n",
    "from sklearn.linear_model import LogisticRegression\n",
    "log_reg = LogisticRegression(multi_class='ovr')\n",
    "log_reg.fit(X_train, y_train)\n",
    "log_reg.score(X_test, y_test)    # 0.9473684210526315\n",
    "\n",
    "log_reg2 = LogisticRegression(multi_class='multinomial', solver='newton-cg')\n",
    "log_reg2.fit(X_train, y_train)\n",
    "log_reg2.score(X_test, y_test)   # 1.0"
   ]
  },
  {
   "cell_type": "markdown",
   "metadata": {
    "id": "M8gB-6KeCHV7"
   },
   "source": [
    "scikit-learn에서 ovr 및 ovo를 사용하여 모든 이진 분류 알고리즘을 다중 분류 알고리즘으로 변환할 수 있다."
   ]
  },
  {
   "cell_type": "markdown",
   "metadata": {
    "id": "-HX_GVumtLIo"
   },
   "source": [
    "#타이타닉 예제"
   ]
  },
  {
   "cell_type": "code",
   "execution_count": null,
   "metadata": {
    "id": "Bvpga5yMCBFb"
   },
   "outputs": [],
   "source": [
    "import numpy as np\n",
    "import pandas as pd\n",
    "\n",
    "import seaborn as sns\n",
    "import matplotlib.pyplot as plt\n",
    "%matplotlib inline\n",
    "    \n",
    "from sklearn.model_selection import train_test_split\n",
    "\n",
    "# Pipeline library for Training\n",
    "from sklearn.compose import ColumnTransformer\n",
    "from sklearn.pipeline import Pipeline\n",
    "from sklearn.impute import SimpleImputer\n",
    "from sklearn.preprocessing import OneHotEncoder\n",
    "\n",
    "from sklearn.ensemble import RandomForestClassifier\n",
    "from sklearn.model_selection import cross_val_score\n",
    "from sklearn.metrics import mean_absolute_error"
   ]
  },
  {
   "cell_type": "markdown",
   "metadata": {
    "id": "kdMsW02jViyl"
   },
   "source": [
    "train data로부터 target값이 결측치인 값을 제거  \n",
    "categorical_variable에 대해서는 unique값이 10이하인 feature만 사용"
   ]
  },
  {
   "cell_type": "code",
   "execution_count": null,
   "metadata": {
    "colab": {
     "base_uri": "https://localhost:8080/"
    },
    "executionInfo": {
     "elapsed": 564,
     "status": "ok",
     "timestamp": 1618472651348,
     "user": {
      "displayName": "jo jo",
      "photoUrl": "",
      "userId": "04678984846038923364"
     },
     "user_tz": -540
    },
    "id": "VkYCuNGY9GYF",
    "outputId": "57bf404c-24a1-4dfe-8a77-e440f5439fdd"
   },
   "outputs": [
    {
     "name": "stdout",
     "output_type": "stream",
     "text": [
      "(891, 12) (418, 11)\n"
     ]
    }
   ],
   "source": [
    "X = pd.read_csv(\"../content/drive/MyDrive/Colab Notebooks/titanic/train.csv\")\n",
    "X_test = pd.read_csv(\"../content/drive/MyDrive/Colab Notebooks/titanic/test.csv\")\n",
    "print(X.shape, X_test.shape)\n",
    "\n",
    "\n",
    "#누락 된 대상이있는 행을 제거하고 예측 변수에서 대상을 분리\n",
    "X.dropna(axis=0, subset=['Survived'], inplace=True)\n",
    "y = X.Survived\n",
    "X.drop(['Survived'], axis=1, inplace=True)\n",
    "\n",
    "#categorical_variable에 대해서는 unique값이 10이하인 feature만 사용\n",
    "categorical_cols = [cname for cname in X.columns if X[cname].nunique() < 10 and X[cname].dtype == 'object']\n",
    "\n",
    "\n",
    "numerical_cols = [cname for cname in X.columns if X[cname].dtype in ['float64', 'int64']]\n",
    "\n",
    "\n",
    "my_cols = categorical_cols + numerical_cols\n",
    "X = X[my_cols].copy()\n",
    "X_test = X[my_cols].copy()"
   ]
  },
  {
   "cell_type": "code",
   "execution_count": null,
   "metadata": {
    "id": "DjEJAC3P9T00"
   },
   "outputs": [],
   "source": [
    "X_ = pd.read_csv(\"/content/drive/MyDrive/Colab Notebooks/titanic/train.csv\")\n",
    "#데이터 불러오기"
   ]
  },
  {
   "cell_type": "code",
   "execution_count": null,
   "metadata": {
    "colab": {
     "base_uri": "https://localhost:8080/",
     "height": 351
    },
    "executionInfo": {
     "elapsed": 629,
     "status": "ok",
     "timestamp": 1618471662596,
     "user": {
      "displayName": "jo jo",
      "photoUrl": "",
      "userId": "04678984846038923364"
     },
     "user_tz": -540
    },
    "id": "bcw-HEGH9Z-t",
    "outputId": "814b37df-1796-45ec-81e4-3ccff3402acb"
   },
   "outputs": [
    {
     "name": "stderr",
     "output_type": "stream",
     "text": [
      "/usr/local/lib/python3.7/dist-packages/seaborn/_decorators.py:43: FutureWarning: Pass the following variable as a keyword arg: x. From version 0.12, the only valid positional argument will be `data`, and passing other arguments without an explicit keyword will result in an error or misinterpretation.\n",
      "  FutureWarning\n"
     ]
    },
    {
     "data": {
      "text/plain": [
       "<matplotlib.axes._subplots.AxesSubplot at 0x7f31dd3ce7d0>"
      ]
     },
     "execution_count": 24,
     "metadata": {
      "tags": []
     },
     "output_type": "execute_result"
    },
    {
     "data": {
      "image/png": "[encoded data removed]",
      "text/plain": [
       "<Figure size 864x288 with 2 Axes>"
      ]
     },
     "metadata": {
      "needs_background": "light",
      "tags": []
     },
     "output_type": "display_data"
    }
   ],
   "source": [
    "f, ax = plt.subplots(1, 2, figsize=(12, 4))\n",
    "X_\n",
    "X_['Survived'].value_counts().plot.pie(autopct='%1.1f%%')\n",
    "\n",
    "sns.countplot('Sex', data=X_, ax=ax[0])"
   ]
  },
  {
   "cell_type": "markdown",
   "metadata": {
    "id": "Pk5jGAYgArhk"
   },
   "source": [
    "Pipelines 전처리기기library"
   ]
  },
  {
   "cell_type": "code",
   "execution_count": null,
   "metadata": {
    "id": "gtEvopMx9ckl"
   },
   "outputs": [],
   "source": [
    "numerical_transformer = SimpleImputer(strategy='constant')\n",
    "\n",
    "categorical_transformer = Pipeline(steps=[\n",
    "    ('imputer', SimpleImputer(strategy='most_frequent')),\n",
    "    ('onehot', OneHotEncoder(handle_unknown='ignore'))\n",
    "])\n",
    "\n",
    "preprocessor = ColumnTransformer(\n",
    "        transformers =[\n",
    "            ('num', numerical_transformer, numerical_cols),\n",
    "            ('cat', categorical_transformer, categorical_cols)\n",
    "        ])"
   ]
  },
  {
   "cell_type": "markdown",
   "metadata": {
    "id": "YFdhH5DGA44M"
   },
   "source": [
    "RandomForestClassifier"
   ]
  },
  {
   "cell_type": "code",
   "execution_count": null,
   "metadata": {
    "colab": {
     "base_uri": "https://localhost:8080/"
    },
    "executionInfo": {
     "elapsed": 2805,
     "status": "ok",
     "timestamp": 1618472666084,
     "user": {
      "displayName": "jo jo",
      "photoUrl": "",
      "userId": "04678984846038923364"
     },
     "user_tz": -540
    },
    "id": "RSuzg9BP9em1",
    "outputId": "bb8d763b-c850-4ecc-b845-218f0b944020"
   },
   "outputs": [
    {
     "name": "stdout",
     "output_type": "stream",
     "text": [
      "0.8216104868913856\n"
     ]
    }
   ],
   "source": [
    "rf_clf = RandomForestClassifier()\n",
    "# 랜덤 포레스트는 여러 개의 결정트리(Decision Tree)를 활용한 배깅 방식의 대표적인 알고리즘\n",
    "\n",
    "\n",
    "clf = Pipeline(steps=[\n",
    "    ('preprocessor', preprocessor),\n",
    "    ('model', rf_clf)\n",
    "])\n",
    "#print(rf_clf)\n",
    "print(cross_val_score(clf, X, y, cv=10).mean())"
   ]
  },
  {
   "cell_type": "markdown",
   "metadata": {
    "id": "a4NfVSpABA0c"
   },
   "source": [
    "혼동행렬  \n",
    "         예측양성  예측음성  \n",
    " 실제 양성   TP      FN  \n",
    " 실제 음성   FP      TN  "
   ]
  },
  {
   "cell_type": "code",
   "execution_count": null,
   "metadata": {
    "id": "NAfOnjbY9iK1"
   },
   "outputs": [],
   "source": [
    "from sklearn.metrics import confusion_matrix\n",
    "from sklearn.metrics import accuracy_score"
   ]
  },
  {
   "cell_type": "code",
   "execution_count": null,
   "metadata": {
    "colab": {
     "base_uri": "https://localhost:8080/"
    },
    "executionInfo": {
     "elapsed": 1399,
     "status": "ok",
     "timestamp": 1618472793544,
     "user": {
      "displayName": "jo jo",
      "photoUrl": "",
      "userId": "04678984846038923364"
     },
     "user_tz": -540
    },
    "id": "nWQwMKIN9ipm",
    "outputId": "7fd932bd-2f52-48ce-ccfd-76256bfe197c"
   },
   "outputs": [
    {
     "name": "stdout",
     "output_type": "stream",
     "text": [
      "[[100  14]\n",
      " [ 20  45]]\n"
     ]
    }
   ],
   "source": [
    "# train_test_split: 80%, 20%\n",
    "X_train, X_val, y_train, y_val = train_test_split(X, y, train_size=0.8, test_size=0.2)\n",
    "\n",
    "#print(X_val)\n",
    "# modeling\n",
    "rf_clf = RandomForestClassifier()\n",
    "\n",
    "# Bundle preprocessing and modeling code in a pipeline\n",
    "clf = Pipeline(steps=[\n",
    "    ('preprocessor', preprocessor),\n",
    "    ('model', rf_clf)\n",
    "])\n",
    "\n",
    "# train\n",
    "clf.fit(X_train, y_train)\n",
    "preds = clf.predict(X_val)\n",
    "\n",
    "\n",
    "# confusion_matrix\n",
    "cm = confusion_matrix(y_val, preds)\n",
    "print(cm)\n",
    "#sns.heatmap(cm, annot=True, fmt=\"d\")"
   ]
  },
  {
   "cell_type": "markdown",
   "metadata": {
    "id": "hLw8hXxoA-o8"
   },
   "source": [
    "정확도는 target variable이 거의 균등할때 사용하면 좋음\n",
    "\n",
    "불균형한 데이터셋에서 정확도를 사용한다면 그 결과는 상당히 왜곡됨\n",
    "정확도는 높지만 쓸모없는 모델이 만들어 지는데 이 때, Accuracy 대신 사용할 수 있는 지표가 정밀도와 재현율이다.\n"
   ]
  },
  {
   "cell_type": "code",
   "execution_count": null,
   "metadata": {
    "colab": {
     "base_uri": "https://localhost:8080/"
    },
    "executionInfo": {
     "elapsed": 1202,
     "status": "ok",
     "timestamp": 1618474021275,
     "user": {
      "displayName": "jo jo",
      "photoUrl": "",
      "userId": "04678984846038923364"
     },
     "user_tz": -540
    },
    "id": "loUSUpVM9kh1",
    "outputId": "39da303b-29d7-4c98-ecf1-30d80f61e7e3"
   },
   "outputs": [
    {
     "data": {
      "text/plain": [
       "0.8100558659217877"
      ]
     },
     "execution_count": 40,
     "metadata": {
      "tags": []
     },
     "output_type": "execute_result"
    }
   ],
   "source": [
    "clf.score(X_val, y_val)  #테스트 데이터 및 레이블에 대한 평균 정확도\n",
    "accuracy_score(y_val, preds)\n",
    "# 전체 샘플중 맞게 예측한 샘플수"
   ]
  },
  {
   "cell_type": "code",
   "execution_count": null,
   "metadata": {
    "colab": {
     "base_uri": "https://localhost:8080/"
    },
    "executionInfo": {
     "elapsed": 783,
     "status": "ok",
     "timestamp": 1618474116959,
     "user": {
      "displayName": "jo jo",
      "photoUrl": "",
      "userId": "04678984846038923364"
     },
     "user_tz": -540
    },
    "id": "r2SZ6QO7ksSi",
    "outputId": "ed6b7f2f-0600-455c-9ecd-1347b0e38f9b"
   },
   "outputs": [
    {
     "data": {
      "text/plain": [
       "0.7627118644067796"
      ]
     },
     "execution_count": 41,
     "metadata": {
      "tags": []
     },
     "output_type": "execute_result"
    }
   ],
   "source": [
    "from sklearn.metrics import precision_score\n",
    "precision_score(y_val, preds, pos_label=1)"
   ]
  },
  {
   "cell_type": "code",
   "execution_count": null,
   "metadata": {
    "colab": {
     "base_uri": "https://localhost:8080/"
    },
    "executionInfo": {
     "elapsed": 615,
     "status": "ok",
     "timestamp": 1618474163623,
     "user": {
      "displayName": "jo jo",
      "photoUrl": "",
      "userId": "04678984846038923364"
     },
     "user_tz": -540
    },
    "id": "jujUAybHk2oB",
    "outputId": "6173c1d7-0794-47b5-b996-214f0b73ebc0"
   },
   "outputs": [
    {
     "data": {
      "text/plain": [
       "0.6923076923076923"
      ]
     },
     "execution_count": 42,
     "metadata": {
      "tags": []
     },
     "output_type": "execute_result"
    }
   ],
   "source": [
    "from sklearn.metrics import recall_score\n",
    "recall_score(y_val, preds, pos_label=1)"
   ]
  },
  {
   "cell_type": "markdown",
   "metadata": {
    "id": "BWCkrefSlsTZ"
   },
   "source": [
    "F1 score는 정밀도와 재현율을 결합한 지표이며, 정밀도와 재현율이 어느 한쪽으로 치우치지 않는 수치를 나타낼 때 상대적으로 높은 값을 가진다.  \n",
    "정확도만큼 이해하기 쉽지는 않지만 일반적으로 F1이 정확도보다 더 유용하다  \n",
    "f1-score는 데이터가 imbalance할 때 측정 도구로 사용하면 좋습니다  "
   ]
  },
  {
   "cell_type": "code",
   "execution_count": null,
   "metadata": {
    "colab": {
     "base_uri": "https://localhost:8080/"
    },
    "executionInfo": {
     "elapsed": 571,
     "status": "ok",
     "timestamp": 1618474312062,
     "user": {
      "displayName": "jo jo",
      "photoUrl": "",
      "userId": "04678984846038923364"
     },
     "user_tz": -540
    },
    "id": "Zronm1Fkld3B",
    "outputId": "cf2669ce-f18a-4d27-cff1-dc55798f9ecb"
   },
   "outputs": [
    {
     "name": "stdout",
     "output_type": "stream",
     "text": [
      "0.7258064516129032\n"
     ]
    }
   ],
   "source": [
    "from sklearn.metrics import f1_score\n",
    "print(f1_score(y_val, preds, pos_label=1))"
   ]
  },
  {
   "cell_type": "markdown",
   "metadata": {
    "id": "f-Gn7152mgqZ"
   },
   "source": [
    "AUC : 아래 면적이 1에 가까울수록, 넓을 수록 좋은 모형  "
   ]
  },
  {
   "cell_type": "code",
   "execution_count": null,
   "metadata": {
    "colab": {
     "base_uri": "https://localhost:8080/"
    },
    "executionInfo": {
     "elapsed": 600,
     "status": "ok",
     "timestamp": 1618474521400,
     "user": {
      "displayName": "jo jo",
      "photoUrl": "",
      "userId": "04678984846038923364"
     },
     "user_tz": -540
    },
    "id": "8wD6ZvhNmUsi",
    "outputId": "b83f4240-3f01-4299-f191-40d18532fb8a"
   },
   "outputs": [
    {
     "data": {
      "text/plain": [
       "0.7847503373819164"
      ]
     },
     "execution_count": 47,
     "metadata": {
      "tags": []
     },
     "output_type": "execute_result"
    }
   ],
   "source": [
    "from sklearn.metrics import auc\n",
    "auc(fpr, tpr)"
   ]
  },
  {
   "cell_type": "code",
   "execution_count": null,
   "metadata": {
    "colab": {
     "base_uri": "https://localhost:8080/"
    },
    "executionInfo": {
     "elapsed": 537,
     "status": "ok",
     "timestamp": 1618474609290,
     "user": {
      "displayName": "jo jo",
      "photoUrl": "",
      "userId": "04678984846038923364"
     },
     "user_tz": -540
    },
    "id": "p5Frq-c3mk7y",
    "outputId": "704a37af-332d-48fa-9fb3-d08ab5b4f963"
   },
   "outputs": [
    {
     "data": {
      "text/plain": [
       "0.7847503373819164"
      ]
     },
     "execution_count": 49,
     "metadata": {
      "tags": []
     },
     "output_type": "execute_result"
    }
   ],
   "source": [
    "from sklearn.metrics import roc_auc_score\n",
    "roc_auc_score(y_val, preds)"
   ]
  },
  {
   "cell_type": "code",
   "execution_count": null,
   "metadata": {
    "colab": {
     "base_uri": "https://localhost:8080/"
    },
    "executionInfo": {
     "elapsed": 600,
     "status": "ok",
     "timestamp": 1618363222371,
     "user": {
      "displayName": "jo jo",
      "photoUrl": "",
      "userId": "04678984846038923364"
     },
     "user_tz": -540
    },
    "id": "vg64kupy9wQt",
    "outputId": "e890baa2-2bbd-4ce1-abb3-f9d863ef4903"
   },
   "outputs": [
    {
     "data": {
      "text/plain": [
       "6.560496045774054"
      ]
     },
     "execution_count": 60,
     "metadata": {
      "tags": []
     },
     "output_type": "execute_result"
    }
   ],
   "source": [
    "from sklearn.metrics import log_loss\n",
    "log_loss(y_val, preds)"
   ]
  },
  {
   "cell_type": "markdown",
   "metadata": {
    "id": "thTghKByBVX7"
   },
   "source": [
    "#성능평가 모두 구하기"
   ]
  },
  {
   "cell_type": "markdown",
   "metadata": {
    "id": "_E__55Jxjp4J"
   },
   "source": [
    "sklearn 에서 classification_report module을 사용하여 평가 지표를 한번에 볼 수 있음"
   ]
  },
  {
   "cell_type": "code",
   "execution_count": null,
   "metadata": {
    "colab": {
     "base_uri": "https://localhost:8080/"
    },
    "executionInfo": {
     "elapsed": 630,
     "status": "ok",
     "timestamp": 1618387071466,
     "user": {
      "displayName": "jo jo",
      "photoUrl": "",
      "userId": "04678984846038923364"
     },
     "user_tz": -540
    },
    "id": "3lyLa_s19q3V",
    "outputId": "5b9619f8-e9e1-4b62-fb71-6252835d94c3"
   },
   "outputs": [
    {
     "name": "stdout",
     "output_type": "stream",
     "text": [
      "              precision    recall  f1-score   support\n",
      "\n",
      "           0       0.85      0.87      0.86       120\n",
      "           1       0.71      0.68      0.70        59\n",
      "\n",
      "    accuracy                           0.80       179\n",
      "   macro avg       0.78      0.77      0.78       179\n",
      "weighted avg       0.80      0.80      0.80       179\n",
      "\n"
     ]
    }
   ],
   "source": [
    "from sklearn.metrics import classification_report\n",
    "\n",
    "print(classification_report(y_val, preds))"
   ]
  },
  {
   "cell_type": "markdown",
   "metadata": {
    "id": "6H-ZAo-im57y"
   },
   "source": [
    "f1-score는 데이터가 imbalance할 때 측정 도구로 사용하면 좋음\n",
    "\n",
    "정확도는 80%  \n",
    "학습데이터에서 생존자가 38.4% 사망자가61.6%로 조금 불균형한 데이터에는 f1-score를 사용 \n",
    "\n",
    "\n",
    "macro avg: 단순평균값\n",
    "weighted avg: 각 클래스에 속하는 표본의 갯수로 가중평균값\n",
    "\n",
    "단순평균값으로는 78%의 f1-score를 보이며 가중평균으로는 0.80의 f1-score\n",
    "\n",
    "정확도와도 크게 차이가 나지않는것 보면 클래스 불균형 X"
   ]
  },
  {
   "cell_type": "code",
   "execution_count": null,
   "metadata": {
    "id": "XSo6Wa6p9r1k"
   },
   "outputs": [],
   "source": [
    "from sklearn.metrics import roc_curve\n",
    "import matplotlib.pyplot as plt\n",
    "%matplotlib inline"
   ]
  },
  {
   "cell_type": "markdown",
   "metadata": {
    "id": "DWeS1C0vonMi"
   },
   "source": [
    "UC-ROC curve는 모델이 class를 얼마나 잘 구별해 줄 수 있는지\n",
    "\n",
    "AUC가 클수록 모델은 타이타닉호의 생존자와 사망자를 더 잘 구별\n",
    "\n"
   ]
  },
  {
   "cell_type": "markdown",
   "metadata": {
    "id": "rIEQEAtJl7jy"
   },
   "source": [
    "면적을 측정하여 TPR FPR 복합적으로 평가가능  \n",
    "thresholds : 임계값 => 의미: thresholds 의 이하의 값은 False, 이상은 True 로 판단.\n"
   ]
  },
  {
   "cell_type": "code",
   "execution_count": null,
   "metadata": {
    "colab": {
     "base_uri": "https://localhost:8080/"
    },
    "executionInfo": {
     "elapsed": 586,
     "status": "ok",
     "timestamp": 1618474397836,
     "user": {
      "displayName": "jo jo",
      "photoUrl": "",
      "userId": "04678984846038923364"
     },
     "user_tz": -540
    },
    "id": "l4Z3uBDQlUIR",
    "outputId": "e75e9813-9725-42c6-d3ff-e3e238cad681"
   },
   "outputs": [
    {
     "name": "stdout",
     "output_type": "stream",
     "text": [
      "[0.         0.12280702 1.        ] [0.         0.69230769 1.        ] [2 1 0]\n"
     ]
    }
   ],
   "source": [
    "from sklearn.metrics import roc_curve\n",
    "fpr, tpr, thresholds = roc_curve(y_val, preds, pos_label=1)\n",
    "print(fpr, tpr, thresholds)"
   ]
  },
  {
   "cell_type": "code",
   "execution_count": null,
   "metadata": {
    "colab": {
     "base_uri": "https://localhost:8080/",
     "height": 311
    },
    "executionInfo": {
     "elapsed": 883,
     "status": "ok",
     "timestamp": 1618475521990,
     "user": {
      "displayName": "jo jo",
      "photoUrl": "",
      "userId": "04678984846038923364"
     },
     "user_tz": -540
    },
    "id": "AJOrZjCh9uiN",
    "outputId": "1a12b570-7cd2-4310-a339-4cf998d025f5"
   },
   "outputs": [
    {
     "data": {
      "text/plain": [
       "<matplotlib.legend.Legend at 0x7f31d4623090>"
      ]
     },
     "execution_count": 52,
     "metadata": {
      "tags": []
     },
     "output_type": "execute_result"
    },
    {
     "data": {
      "image/png": "[encoded data removed]",
      "text/plain": [
       "<Figure size 432x288 with 1 Axes>"
      ]
     },
     "metadata": {
      "needs_background": "light",
      "tags": []
     },
     "output_type": "display_data"
    }
   ],
   "source": [
    "plt.plot(fpr, tpr, label='ROC curve')\n",
    "plt.plot([0, 1], [0, 1], 'k--', label='Random guess')\n",
    "plt.xlabel('FPRate')\n",
    "plt.ylabel('TPR')\n",
    "plt.title('ROC Curve')\n",
    "plt.xlim([-0.02, 1])\n",
    "plt.ylim([0, 1.02])\n",
    "plt.legend(loc=\"lower right\")"
   ]
  }
 ],
 "metadata": {
  "colab": {
   "authorship_tag": "ABX9TyM6XvivJQckAakM6jMrA8kg",
   "collapsed_sections": [
    "DxabdcwbF2JF"
   ],
   "mount_file_id": "1iVg-s2h_EMEoRWTcc0g9jGEtr-UwwK-g",
   "name": "Untitled5.ipynb",
   "provenance": [],
   "toc_visible": true
  },
  "kernelspec": {
   "display_name": "Python 3",
   "language": "python",
   "name": "python3"
  },
  "language_info": {
   "codemirror_mode": {
    "name": "ipython",
    "version": 3
   },
   "file_extension": ".py",
   "mimetype": "text/x-python",
   "name": "python",
   "nbconvert_exporter": "python",
   "pygments_lexer": "ipython3",
   "version": "3.8.5"
  }
 },
 "nbformat": 4,
 "nbformat_minor": 4
}
