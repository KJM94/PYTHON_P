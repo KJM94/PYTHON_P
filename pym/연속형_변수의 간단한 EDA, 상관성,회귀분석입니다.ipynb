{
 "cells": [
  {
   "cell_type": "markdown",
   "id": "10348e93",
   "metadata": {},
   "source": [
    "# 데이콘 소득예측 데이터 EDA"
   ]
  },
  {
   "cell_type": "code",
   "execution_count": 1,
   "id": "0b5a9952",
   "metadata": {},
   "outputs": [],
   "source": [
    "import numpy as np\n",
    "import pandas as pd\n",
    "import matplotlib.pyplot as plt"
   ]
  },
  {
   "cell_type": "markdown",
   "id": "90c0805b",
   "metadata": {},
   "source": [
    "## 1. read data"
   ]
  },
  {
   "cell_type": "code",
   "execution_count": 2,
   "id": "a3c5411c",
   "metadata": {},
   "outputs": [],
   "source": [
    "df = pd.read_csv('C:\\\\Users\\\\kjm\\\\Downloads\\\\open\\\\train.csv')"
   ]
  },
  {
   "cell_type": "code",
   "execution_count": 3,
   "id": "acb87669",
   "metadata": {},
   "outputs": [
    {
     "data": {
      "text/html": [
       "<div>\n",
       "<style scoped>\n",
       "    .dataframe tbody tr th:only-of-type {\n",
       "        vertical-align: middle;\n",
       "    }\n",
       "\n",
       "    .dataframe tbody tr th {\n",
       "        vertical-align: top;\n",
       "    }\n",
       "\n",
       "    .dataframe thead th {\n",
       "        text-align: right;\n",
       "    }\n",
       "</style>\n",
       "<table border=\"1\" class=\"dataframe\">\n",
       "  <thead>\n",
       "    <tr style=\"text-align: right;\">\n",
       "      <th></th>\n",
       "      <th>ID</th>\n",
       "      <th>Age</th>\n",
       "      <th>Gender</th>\n",
       "      <th>Education_Status</th>\n",
       "      <th>Employment_Status</th>\n",
       "      <th>Working_Week (Yearly)</th>\n",
       "      <th>Industry_Status</th>\n",
       "      <th>Occupation_Status</th>\n",
       "      <th>Race</th>\n",
       "      <th>Hispanic_Origin</th>\n",
       "      <th>...</th>\n",
       "      <th>Citizenship</th>\n",
       "      <th>Birth_Country</th>\n",
       "      <th>Birth_Country (Father)</th>\n",
       "      <th>Birth_Country (Mother)</th>\n",
       "      <th>Tax_Status</th>\n",
       "      <th>Gains</th>\n",
       "      <th>Losses</th>\n",
       "      <th>Dividends</th>\n",
       "      <th>Income_Status</th>\n",
       "      <th>Income</th>\n",
       "    </tr>\n",
       "  </thead>\n",
       "  <tbody>\n",
       "    <tr>\n",
       "      <th>0</th>\n",
       "      <td>TRAIN_00000</td>\n",
       "      <td>63</td>\n",
       "      <td>M</td>\n",
       "      <td>Middle (7-8)</td>\n",
       "      <td>Full-Time</td>\n",
       "      <td>4</td>\n",
       "      <td>Social Services</td>\n",
       "      <td>Services</td>\n",
       "      <td>White</td>\n",
       "      <td>All other</td>\n",
       "      <td>...</td>\n",
       "      <td>Native</td>\n",
       "      <td>US</td>\n",
       "      <td>US</td>\n",
       "      <td>US</td>\n",
       "      <td>Nonfiler</td>\n",
       "      <td>0</td>\n",
       "      <td>0</td>\n",
       "      <td>0</td>\n",
       "      <td>Unknown</td>\n",
       "      <td>425</td>\n",
       "    </tr>\n",
       "    <tr>\n",
       "      <th>1</th>\n",
       "      <td>TRAIN_00001</td>\n",
       "      <td>37</td>\n",
       "      <td>M</td>\n",
       "      <td>Associates degree (Vocational)</td>\n",
       "      <td>Full-Time</td>\n",
       "      <td>52</td>\n",
       "      <td>Entertainment</td>\n",
       "      <td>Services</td>\n",
       "      <td>White</td>\n",
       "      <td>All other</td>\n",
       "      <td>...</td>\n",
       "      <td>Native</td>\n",
       "      <td>US</td>\n",
       "      <td>US</td>\n",
       "      <td>US</td>\n",
       "      <td>Single</td>\n",
       "      <td>0</td>\n",
       "      <td>0</td>\n",
       "      <td>0</td>\n",
       "      <td>Under Median</td>\n",
       "      <td>0</td>\n",
       "    </tr>\n",
       "    <tr>\n",
       "      <th>2</th>\n",
       "      <td>TRAIN_00002</td>\n",
       "      <td>58</td>\n",
       "      <td>F</td>\n",
       "      <td>High graduate</td>\n",
       "      <td>Full-Time</td>\n",
       "      <td>52</td>\n",
       "      <td>Manufacturing (Non-durable)</td>\n",
       "      <td>Admin Support (include Clerical)</td>\n",
       "      <td>Black</td>\n",
       "      <td>All other</td>\n",
       "      <td>...</td>\n",
       "      <td>Native</td>\n",
       "      <td>US</td>\n",
       "      <td>US</td>\n",
       "      <td>US</td>\n",
       "      <td>Married Filling Jointly both under 65 (MFJ)</td>\n",
       "      <td>3411</td>\n",
       "      <td>0</td>\n",
       "      <td>0</td>\n",
       "      <td>Under Median</td>\n",
       "      <td>860</td>\n",
       "    </tr>\n",
       "    <tr>\n",
       "      <th>3</th>\n",
       "      <td>TRAIN_00003</td>\n",
       "      <td>44</td>\n",
       "      <td>M</td>\n",
       "      <td>High graduate</td>\n",
       "      <td>Full-Time</td>\n",
       "      <td>52</td>\n",
       "      <td>Retail</td>\n",
       "      <td>Technicians &amp; Support</td>\n",
       "      <td>White</td>\n",
       "      <td>All other</td>\n",
       "      <td>...</td>\n",
       "      <td>Native</td>\n",
       "      <td>US</td>\n",
       "      <td>US</td>\n",
       "      <td>US</td>\n",
       "      <td>Single</td>\n",
       "      <td>0</td>\n",
       "      <td>0</td>\n",
       "      <td>0</td>\n",
       "      <td>Under Median</td>\n",
       "      <td>850</td>\n",
       "    </tr>\n",
       "    <tr>\n",
       "      <th>4</th>\n",
       "      <td>TRAIN_00004</td>\n",
       "      <td>37</td>\n",
       "      <td>F</td>\n",
       "      <td>High graduate</td>\n",
       "      <td>Full-Time</td>\n",
       "      <td>52</td>\n",
       "      <td>Retail</td>\n",
       "      <td>Sales</td>\n",
       "      <td>White</td>\n",
       "      <td>All other</td>\n",
       "      <td>...</td>\n",
       "      <td>Native</td>\n",
       "      <td>US</td>\n",
       "      <td>US</td>\n",
       "      <td>US</td>\n",
       "      <td>Head of Household (HOH)</td>\n",
       "      <td>0</td>\n",
       "      <td>0</td>\n",
       "      <td>0</td>\n",
       "      <td>Unknown</td>\n",
       "      <td>570</td>\n",
       "    </tr>\n",
       "  </tbody>\n",
       "</table>\n",
       "<p>5 rows × 23 columns</p>\n",
       "</div>"
      ],
      "text/plain": [
       "            ID  Age Gender                Education_Status Employment_Status  \\\n",
       "0  TRAIN_00000   63      M                    Middle (7-8)         Full-Time   \n",
       "1  TRAIN_00001   37      M  Associates degree (Vocational)         Full-Time   \n",
       "2  TRAIN_00002   58      F                   High graduate         Full-Time   \n",
       "3  TRAIN_00003   44      M                   High graduate         Full-Time   \n",
       "4  TRAIN_00004   37      F                   High graduate         Full-Time   \n",
       "\n",
       "   Working_Week (Yearly)              Industry_Status  \\\n",
       "0                      4              Social Services   \n",
       "1                     52                Entertainment   \n",
       "2                     52  Manufacturing (Non-durable)   \n",
       "3                     52                       Retail   \n",
       "4                     52                       Retail   \n",
       "\n",
       "                  Occupation_Status   Race Hispanic_Origin  ... Citizenship  \\\n",
       "0                          Services  White       All other  ...      Native   \n",
       "1                          Services  White       All other  ...      Native   \n",
       "2  Admin Support (include Clerical)  Black       All other  ...      Native   \n",
       "3             Technicians & Support  White       All other  ...      Native   \n",
       "4                             Sales  White       All other  ...      Native   \n",
       "\n",
       "  Birth_Country Birth_Country (Father) Birth_Country (Mother)  \\\n",
       "0            US                     US                     US   \n",
       "1            US                     US                     US   \n",
       "2            US                     US                     US   \n",
       "3            US                     US                     US   \n",
       "4            US                     US                     US   \n",
       "\n",
       "                                    Tax_Status Gains Losses Dividends  \\\n",
       "0                                     Nonfiler     0      0         0   \n",
       "1                                       Single     0      0         0   \n",
       "2  Married Filling Jointly both under 65 (MFJ)  3411      0         0   \n",
       "3                                       Single     0      0         0   \n",
       "4                      Head of Household (HOH)     0      0         0   \n",
       "\n",
       "   Income_Status  Income  \n",
       "0        Unknown     425  \n",
       "1   Under Median       0  \n",
       "2   Under Median     860  \n",
       "3   Under Median     850  \n",
       "4        Unknown     570  \n",
       "\n",
       "[5 rows x 23 columns]"
      ]
     },
     "execution_count": 3,
     "metadata": {},
     "output_type": "execute_result"
    }
   ],
   "source": [
    "df.head()"
   ]
  },
  {
   "cell_type": "code",
   "execution_count": 4,
   "id": "9b33d81c",
   "metadata": {},
   "outputs": [
    {
     "data": {
      "text/plain": [
       "(20000, 23)"
      ]
     },
     "execution_count": 4,
     "metadata": {},
     "output_type": "execute_result"
    }
   ],
   "source": [
    "df.shape"
   ]
  },
  {
   "cell_type": "code",
   "execution_count": 5,
   "id": "fae7ff82",
   "metadata": {},
   "outputs": [
    {
     "data": {
      "text/plain": [
       "ID                        0\n",
       "Age                       0\n",
       "Gender                    0\n",
       "Education_Status          0\n",
       "Employment_Status         0\n",
       "Working_Week (Yearly)     0\n",
       "Industry_Status           0\n",
       "Occupation_Status         0\n",
       "Race                      0\n",
       "Hispanic_Origin           0\n",
       "Martial_Status            0\n",
       "Household_Status          0\n",
       "Household_Summary         0\n",
       "Citizenship               0\n",
       "Birth_Country             0\n",
       "Birth_Country (Father)    0\n",
       "Birth_Country (Mother)    0\n",
       "Tax_Status                0\n",
       "Gains                     0\n",
       "Losses                    0\n",
       "Dividends                 0\n",
       "Income_Status             0\n",
       "Income                    0\n",
       "dtype: int64"
      ]
     },
     "execution_count": 5,
     "metadata": {},
     "output_type": "execute_result"
    }
   ],
   "source": [
    "df.isnull().sum()"
   ]
  },
  {
   "cell_type": "markdown",
   "id": "f5436cd9",
   "metadata": {},
   "source": [
    "`-` read data\n",
    "\n",
    "- data shape은 20000개의 행과 23개의 칼럼으로 구성되어있다.\n",
    "- 결측치는 존재하지 않는 것으로 보인다\n",
    "- 각 칼럼은 연속형과 이산형 변수가 혼합되어있어 이들을 분리하는 것이 필요해보인다."
   ]
  },
  {
   "cell_type": "markdown",
   "id": "8c3abcf0",
   "metadata": {},
   "source": [
    "`-` 변수\n",
    "- ID : 고객의 지정 넘버로 별다른 정보가 없기 때문에 분석에 사용하지 않을 것임\n",
    "- Age : 고객의 나이, 연속형 변수\n",
    "- Gender : 성별, 이산형 변수\n",
    "- Education_Status  : 최종학력을 의미한다. 이산형 변수\n",
    "- Employment_Status  : 취업 상태를 의미한다. 이산형 변수\n",
    "- Working_Week (Yearly) : 주당 일하는 시간으로 해석된다. 연속형변수 or 범주를 잡아 이산형으로 파악 가능\n",
    "- Industry_Status  : 산업분야, 이산형 변수\n",
    "- Occupation_Status : 직업 분야, 이산형 변수\n",
    "- Race : 인종, 이산형변수\n",
    "- Hispanic_Origin : 히스패닉 출신, 이산형 변수\n",
    "- Martial_Status : 결혼 여부, 이산형 변수\n",
    "- Household_Status : 가족 구성, 이산형 변수\n",
    "- Household_Summary : 가족 구성 요약, 이산형 변수\n",
    "- Citizenship : 시민권, 이산형 변수\n",
    "- Birth_Country  : 국적, 이산형변수\n",
    "- Birth_Country (Father) : 아버지의 국적, 이산형변수\n",
    "- Birth_Country (Mother) : 어머니의 국적, 이산형변수\n",
    "- Tax_Status : 세금 여부, 이산형변수\n",
    "- Gains : 이득또는 매출로 보인다, 연속형 변수\n",
    "- Losses : 지출로 보인다, 연속형 변수\n",
    "- Dividends : 배당금, 연속형 변수\n",
    "- Income_Status : 소득 상태, 이산형변수\n",
    "- income : 소득, 연속형 변수\n",
    "    \n",
    "`-` 정리\n",
    "- 이산형 변수가 매우 많아 이들을 전처리하는 과정이 매우 중요할 것으로 보인다.\n",
    "- 변수들끼리 서로 상관성이 높아보이는 요소가 있다. 이들은 fitting할때, 어떤 처리를 해볼 수도 있을 것이다. "
   ]
  },
  {
   "cell_type": "markdown",
   "id": "c8f492a4",
   "metadata": {},
   "source": [
    "---"
   ]
  },
  {
   "cell_type": "code",
   "execution_count": 6,
   "id": "225ccc12",
   "metadata": {},
   "outputs": [],
   "source": [
    "# 연속형 변수 추출\n",
    "df_int = df[df.describe().columns]\n",
    "# 이산형 변수 추출\n",
    "df_str = df[df.columns.difference(df.describe().columns)]"
   ]
  },
  {
   "cell_type": "markdown",
   "id": "837c7e5f",
   "metadata": {},
   "source": [
    "## 2. 연속형 변수 EDA"
   ]
  },
  {
   "cell_type": "code",
   "execution_count": 7,
   "id": "549e7042",
   "metadata": {
    "scrolled": true
   },
   "outputs": [
    {
     "data": {
      "text/html": [
       "<div>\n",
       "<style scoped>\n",
       "    .dataframe tbody tr th:only-of-type {\n",
       "        vertical-align: middle;\n",
       "    }\n",
       "\n",
       "    .dataframe tbody tr th {\n",
       "        vertical-align: top;\n",
       "    }\n",
       "\n",
       "    .dataframe thead th {\n",
       "        text-align: right;\n",
       "    }\n",
       "</style>\n",
       "<table border=\"1\" class=\"dataframe\">\n",
       "  <thead>\n",
       "    <tr style=\"text-align: right;\">\n",
       "      <th></th>\n",
       "      <th>Age</th>\n",
       "      <th>Working_Week (Yearly)</th>\n",
       "      <th>Gains</th>\n",
       "      <th>Losses</th>\n",
       "      <th>Dividends</th>\n",
       "      <th>Income</th>\n",
       "    </tr>\n",
       "  </thead>\n",
       "  <tbody>\n",
       "    <tr>\n",
       "      <th>count</th>\n",
       "      <td>20000.000000</td>\n",
       "      <td>20000.000000</td>\n",
       "      <td>20000.000000</td>\n",
       "      <td>20000.000000</td>\n",
       "      <td>20000.000000</td>\n",
       "      <td>20000.000000</td>\n",
       "    </tr>\n",
       "    <tr>\n",
       "      <th>mean</th>\n",
       "      <td>35.632500</td>\n",
       "      <td>34.943050</td>\n",
       "      <td>383.129500</td>\n",
       "      <td>40.202150</td>\n",
       "      <td>123.451450</td>\n",
       "      <td>554.565250</td>\n",
       "    </tr>\n",
       "    <tr>\n",
       "      <th>std</th>\n",
       "      <td>17.994414</td>\n",
       "      <td>22.254592</td>\n",
       "      <td>4144.247487</td>\n",
       "      <td>279.182677</td>\n",
       "      <td>1206.949429</td>\n",
       "      <td>701.553155</td>\n",
       "    </tr>\n",
       "    <tr>\n",
       "      <th>min</th>\n",
       "      <td>0.000000</td>\n",
       "      <td>0.000000</td>\n",
       "      <td>0.000000</td>\n",
       "      <td>0.000000</td>\n",
       "      <td>0.000000</td>\n",
       "      <td>0.000000</td>\n",
       "    </tr>\n",
       "    <tr>\n",
       "      <th>25%</th>\n",
       "      <td>23.000000</td>\n",
       "      <td>7.000000</td>\n",
       "      <td>0.000000</td>\n",
       "      <td>0.000000</td>\n",
       "      <td>0.000000</td>\n",
       "      <td>0.000000</td>\n",
       "    </tr>\n",
       "    <tr>\n",
       "      <th>50%</th>\n",
       "      <td>34.000000</td>\n",
       "      <td>52.000000</td>\n",
       "      <td>0.000000</td>\n",
       "      <td>0.000000</td>\n",
       "      <td>0.000000</td>\n",
       "      <td>500.000000</td>\n",
       "    </tr>\n",
       "    <tr>\n",
       "      <th>75%</th>\n",
       "      <td>47.000000</td>\n",
       "      <td>52.000000</td>\n",
       "      <td>0.000000</td>\n",
       "      <td>0.000000</td>\n",
       "      <td>0.000000</td>\n",
       "      <td>875.000000</td>\n",
       "    </tr>\n",
       "    <tr>\n",
       "      <th>max</th>\n",
       "      <td>90.000000</td>\n",
       "      <td>52.000000</td>\n",
       "      <td>99999.000000</td>\n",
       "      <td>4356.000000</td>\n",
       "      <td>45000.000000</td>\n",
       "      <td>9999.000000</td>\n",
       "    </tr>\n",
       "  </tbody>\n",
       "</table>\n",
       "</div>"
      ],
      "text/plain": [
       "                Age  Working_Week (Yearly)         Gains        Losses  \\\n",
       "count  20000.000000           20000.000000  20000.000000  20000.000000   \n",
       "mean      35.632500              34.943050    383.129500     40.202150   \n",
       "std       17.994414              22.254592   4144.247487    279.182677   \n",
       "min        0.000000               0.000000      0.000000      0.000000   \n",
       "25%       23.000000               7.000000      0.000000      0.000000   \n",
       "50%       34.000000              52.000000      0.000000      0.000000   \n",
       "75%       47.000000              52.000000      0.000000      0.000000   \n",
       "max       90.000000              52.000000  99999.000000   4356.000000   \n",
       "\n",
       "          Dividends        Income  \n",
       "count  20000.000000  20000.000000  \n",
       "mean     123.451450    554.565250  \n",
       "std     1206.949429    701.553155  \n",
       "min        0.000000      0.000000  \n",
       "25%        0.000000      0.000000  \n",
       "50%        0.000000    500.000000  \n",
       "75%        0.000000    875.000000  \n",
       "max    45000.000000   9999.000000  "
      ]
     },
     "execution_count": 7,
     "metadata": {},
     "output_type": "execute_result"
    }
   ],
   "source": [
    "df_int.describe() # 전체 요약 통계량"
   ]
  },
  {
   "cell_type": "markdown",
   "id": "275a0c91",
   "metadata": {},
   "source": [
    "### 1. AGE"
   ]
  },
  {
   "cell_type": "code",
   "execution_count": 8,
   "id": "cf79a4ab",
   "metadata": {},
   "outputs": [
    {
     "data": {
      "image/png": "[encoded data removed]",
      "text/plain": [
       "<Figure size 720x288 with 2 Axes>"
      ]
     },
     "metadata": {
      "needs_background": "light"
     },
     "output_type": "display_data"
    }
   ],
   "source": [
    "fig, axes = plt.subplots(1, 2, figsize=(10, 4))\n",
    "\n",
    "df_int['Age'].hist(bins =  50,ax=axes[0])\n",
    "axes[0].set_title('Histogram')\n",
    "\n",
    "df_int['Age'].plot(kind = 'box',ax=axes[1])\n",
    "axes[1].set_title('Boxplot')\n",
    "\n",
    "plt.tight_layout()\n",
    "\n",
    "# Show the plot\n",
    "plt.show()"
   ]
  },
  {
   "cell_type": "code",
   "execution_count": 9,
   "id": "0fc17cd1",
   "metadata": {},
   "outputs": [
    {
     "data": {
      "text/plain": [
       "count    20000.000000\n",
       "mean        35.632500\n",
       "std         17.994414\n",
       "min          0.000000\n",
       "25%         23.000000\n",
       "50%         34.000000\n",
       "75%         47.000000\n",
       "max         90.000000\n",
       "Name: Age, dtype: float64"
      ]
     },
     "execution_count": 9,
     "metadata": {},
     "output_type": "execute_result"
    }
   ],
   "source": [
    "df_int['Age'].describe()"
   ]
  },
  {
   "cell_type": "markdown",
   "id": "be855bfd",
   "metadata": {},
   "source": [
    "`-` AGE의 히스토그램과 박스플랏\n",
    "- 이들의 분포는 크게 이상하지 않다\n",
    "- 평균과 중앙값에 큰차이가 없지만 오른쪽이 다소 조금 긴 형태를 띄고 있다.\n",
    "- 박스플랏을 통해서도 큰 이상치는 존재하지 않아 보인다."
   ]
  },
  {
   "cell_type": "markdown",
   "id": "1e354bdc",
   "metadata": {},
   "source": [
    "---"
   ]
  },
  {
   "cell_type": "markdown",
   "id": "b77aca42",
   "metadata": {},
   "source": [
    "### 2. Working_Week (Yearly)"
   ]
  },
  {
   "cell_type": "code",
   "execution_count": 10,
   "id": "081cf1d7",
   "metadata": {
    "scrolled": true
   },
   "outputs": [
    {
     "data": {
      "image/png": "[encoded data removed]",
      "text/plain": [
       "<Figure size 720x288 with 2 Axes>"
      ]
     },
     "metadata": {
      "needs_background": "light"
     },
     "output_type": "display_data"
    }
   ],
   "source": [
    "fig, axes = plt.subplots(1, 2, figsize=(10, 4))\n",
    "\n",
    "df_int['Working_Week (Yearly)'].hist(bins =  50,ax=axes[0])\n",
    "axes[0].set_title('Histogram')\n",
    "\n",
    "df_int['Working_Week (Yearly)'].plot(kind = 'box',ax=axes[1])\n",
    "axes[1].set_title('Boxplot')\n",
    "\n",
    "plt.tight_layout()\n",
    "\n",
    "# Show the plot\n",
    "plt.show()"
   ]
  },
  {
   "cell_type": "code",
   "execution_count": 11,
   "id": "73eed9be",
   "metadata": {},
   "outputs": [
    {
     "data": {
      "text/plain": [
       "count    20000.000000\n",
       "mean        34.943050\n",
       "std         22.254592\n",
       "min          0.000000\n",
       "25%          7.000000\n",
       "50%         52.000000\n",
       "75%         52.000000\n",
       "max         52.000000\n",
       "Name: Working_Week (Yearly), dtype: float64"
      ]
     },
     "execution_count": 11,
     "metadata": {},
     "output_type": "execute_result"
    }
   ],
   "source": [
    "df_int['Working_Week (Yearly)'].describe()"
   ]
  },
  {
   "cell_type": "markdown",
   "id": "5e9957cc",
   "metadata": {},
   "source": [
    "`-`  Working_Week (Yearly)\n",
    "- 히스토그램을 통해 분포가 아주 극단적인 것을 확인할 수 있다.\n",
    "- 평균과 중앙값에 차이가 있으며 심지어 최댓값이 중앙값과 일치한다.\n",
    "- 이는 평균이나 중앙값이 가진 통계량에 정보가 크리티컬하지 않음을 보여준다\n",
    "- boxplot을 통해 이상치가 없는 것을 확인할 수 있다\n",
    "- 모델에 fitting할때 특수한 전처리가 필요할 것으로 보여진다. 또는 범주 그룹을 나누어 볼 법도 하다.\n",
    "- 연속형이지만 히스토그램을 통한 분포는 베르누이분포와 유사하며 이산형으로 전처리가 가능해보인다"
   ]
  },
  {
   "cell_type": "markdown",
   "id": "e5c3bb4f",
   "metadata": {},
   "source": [
    "---"
   ]
  },
  {
   "cell_type": "markdown",
   "id": "2034b1d1",
   "metadata": {},
   "source": [
    "### 3. Gains"
   ]
  },
  {
   "cell_type": "code",
   "execution_count": 12,
   "id": "17b3675c",
   "metadata": {},
   "outputs": [
    {
     "data": {
      "image/png": "[encoded data removed]",
      "text/plain": [
       "<Figure size 720x288 with 2 Axes>"
      ]
     },
     "metadata": {
      "needs_background": "light"
     },
     "output_type": "display_data"
    }
   ],
   "source": [
    "fig, axes = plt.subplots(1, 2, figsize=(10, 4))\n",
    "\n",
    "df_int['Gains'].hist(bins =  50,ax=axes[0])\n",
    "axes[0].set_title('Histogram')\n",
    "\n",
    "df_int['Gains'].plot(kind = 'box',ax=axes[1])\n",
    "axes[1].set_title('Boxplot')\n",
    "\n",
    "plt.tight_layout()\n",
    "\n",
    "# Show the plot\n",
    "plt.show()"
   ]
  },
  {
   "cell_type": "code",
   "execution_count": 13,
   "id": "77f8eff4",
   "metadata": {},
   "outputs": [
    {
     "data": {
      "text/plain": [
       "count    20000.000000\n",
       "mean       383.129500\n",
       "std       4144.247487\n",
       "min          0.000000\n",
       "25%          0.000000\n",
       "50%          0.000000\n",
       "75%          0.000000\n",
       "max      99999.000000\n",
       "Name: Gains, dtype: float64"
      ]
     },
     "execution_count": 13,
     "metadata": {},
     "output_type": "execute_result"
    }
   ],
   "source": [
    "df_int['Gains'].describe()"
   ]
  },
  {
   "cell_type": "markdown",
   "id": "fe6a8789",
   "metadata": {},
   "source": [
    "`-` Gains\n",
    "- 왼쪽에 극단적으로 쏠려있는 분포로 경제 분야에서 많이 나타나는 형태로 변수 변환이 필요해보인다.\n",
    "- 최솟값, 중위값, 평균, 75%분위수 값이 전부 0으로 통일되있다. 범주형 변수로 그룹화도 가능해보인다.\n",
    "- boxplot을 통해서 이상치가 있음을 알 수 있다. 실제 관측치라고 하더라도 모델 적합에 불리해보이니 처리가 필요해보인다"
   ]
  },
  {
   "cell_type": "markdown",
   "id": "31b2c04a",
   "metadata": {},
   "source": [
    "---"
   ]
  },
  {
   "cell_type": "markdown",
   "id": "4fa578a1",
   "metadata": {},
   "source": [
    "### 4. LOSSES"
   ]
  },
  {
   "cell_type": "code",
   "execution_count": 14,
   "id": "e34d0246",
   "metadata": {
    "scrolled": true
   },
   "outputs": [
    {
     "data": {
      "image/png": "[encoded data removed]",
      "text/plain": [
       "<Figure size 720x288 with 2 Axes>"
      ]
     },
     "metadata": {
      "needs_background": "light"
     },
     "output_type": "display_data"
    }
   ],
   "source": [
    "fig, axes = plt.subplots(1, 2, figsize=(10, 4))\n",
    "\n",
    "df_int['Losses'].hist(bins =  50,ax=axes[0])\n",
    "axes[0].set_title('Histogram')\n",
    "\n",
    "df_int['Losses'].plot(kind = 'box',ax=axes[1])\n",
    "axes[1].set_title('Boxplot')\n",
    "\n",
    "plt.tight_layout()\n",
    "\n",
    "# Show the plot\n",
    "plt.show()"
   ]
  },
  {
   "cell_type": "code",
   "execution_count": 15,
   "id": "51df8355",
   "metadata": {},
   "outputs": [
    {
     "data": {
      "text/plain": [
       "count    20000.000000\n",
       "mean        40.202150\n",
       "std        279.182677\n",
       "min          0.000000\n",
       "25%          0.000000\n",
       "50%          0.000000\n",
       "75%          0.000000\n",
       "max       4356.000000\n",
       "Name: Losses, dtype: float64"
      ]
     },
     "execution_count": 15,
     "metadata": {},
     "output_type": "execute_result"
    }
   ],
   "source": [
    "df_int['Losses'].describe()"
   ]
  },
  {
   "cell_type": "markdown",
   "id": "d093ebb4",
   "metadata": {},
   "source": [
    "`-` Losses\n",
    "- 마찬가지로 왼쪽에 극단적으로 쏠려 있는 분포로 변수 변환이 필요해보인다.\n",
    "- 최솟값, 중위값, 평균, 75%분위수 값이 전부 0으로 통일되있다. 범주형 변수로 그룹화도 가능해보인다.\n",
    "- 이상치가 존재하지만 삭제에 대한 고려를 해보아야할 것 같다. "
   ]
  },
  {
   "cell_type": "markdown",
   "id": "0615cca9",
   "metadata": {},
   "source": [
    "---"
   ]
  },
  {
   "cell_type": "markdown",
   "id": "e287e224",
   "metadata": {},
   "source": [
    "### 5. INCOME"
   ]
  },
  {
   "cell_type": "code",
   "execution_count": 16,
   "id": "0029454c",
   "metadata": {},
   "outputs": [
    {
     "data": {
      "image/png": "[encoded data removed]",
      "text/plain": [
       "<Figure size 720x288 with 2 Axes>"
      ]
     },
     "metadata": {
      "needs_background": "light"
     },
     "output_type": "display_data"
    }
   ],
   "source": [
    "fig, axes = plt.subplots(1, 2, figsize=(10, 4))\n",
    "\n",
    "df_int['Income'].hist(bins =  50,ax=axes[0])\n",
    "axes[0].set_title('Histogram')\n",
    "\n",
    "df_int['Income'].plot(kind = 'box',ax=axes[1])\n",
    "axes[1].set_title('Boxplot')\n",
    "\n",
    "plt.tight_layout()\n",
    "\n",
    "plt.show()"
   ]
  },
  {
   "cell_type": "markdown",
   "id": "a913704e",
   "metadata": {},
   "source": [
    "`-` income\n",
    "- 마찬가지로 경제, 금융과 관련된 변수의 분포는 왼쪽에 몰려있는 것을 확인할 수 있고 이또한 변수변환이 필요해보인다.\n",
    "- 이상치또한 존재하지만, 삭제에 대한 고려가 필요해보인다."
   ]
  },
  {
   "cell_type": "markdown",
   "id": "8866f0f1",
   "metadata": {},
   "source": [
    "### 6. log 변환"
   ]
  },
  {
   "cell_type": "code",
   "execution_count": 17,
   "id": "ae6f29b1",
   "metadata": {},
   "outputs": [
    {
     "data": {
      "image/png": "[encoded data removed]",
      "text/plain": [
       "<Figure size 432x288 with 6 Axes>"
      ]
     },
     "metadata": {
      "needs_background": "light"
     },
     "output_type": "display_data"
    }
   ],
   "source": [
    "np.log(df_int+1).hist(bins=100)\n",
    "\n",
    "plt.tight_layout()\n",
    "\n",
    "plt.show()"
   ]
  },
  {
   "cell_type": "markdown",
   "id": "7bcd716a",
   "metadata": {},
   "source": [
    "- log 변환를 진행했지만 극단적인 분포꼴이 대부분 그대로 나타나 있다."
   ]
  },
  {
   "cell_type": "markdown",
   "id": "51c67753",
   "metadata": {},
   "source": [
    "### 6.2 범주형으로 변환\n",
    "\n",
    "- 연속형 변수중에서 분포가 극단적인 변수를 범주로 바꾼 히스토그램이다.\n",
    "- log 변환 x"
   ]
  },
  {
   "cell_type": "code",
   "execution_count": 18,
   "id": "4199b161",
   "metadata": {},
   "outputs": [
    {
     "data": {
      "image/png": "[encoded data removed]",
      "text/plain": [
       "<Figure size 432x288 with 6 Axes>"
      ]
     },
     "metadata": {
      "needs_background": "light"
     },
     "output_type": "display_data"
    }
   ],
   "source": [
    "zeroone= [df_int.iloc[:,i].apply(lambda x: 0 if x == 0 else 1) for i in range(1,5)]\n",
    "df_zeroone= pd.DataFrame(zeroone).T\n",
    "df_int_zeroone= pd.concat([df_int.iloc[:,[0]],df_zeroone,df_int.iloc[:,[-1]]],axis=1)\n",
    "df_int_zeroone.hist(bins=50);\n",
    "plt.tight_layout()\n",
    "\n",
    "plt.show()"
   ]
  },
  {
   "cell_type": "markdown",
   "id": "7a42cfbd",
   "metadata": {},
   "source": [
    "## 3. 변수간 상관성\n",
    "\n",
    "- 오류 방지를 위해 모든 변수에 +1을 하고 log 변환 진행 후 확인"
   ]
  },
  {
   "cell_type": "code",
   "execution_count": 19,
   "id": "6593b908",
   "metadata": {
    "scrolled": false
   },
   "outputs": [
    {
     "data": {
      "image/png": "[encoded data removed]",
      "text/plain": [
       "<Figure size 576x432 with 2 Axes>"
      ]
     },
     "metadata": {
      "needs_background": "light"
     },
     "output_type": "display_data"
    }
   ],
   "source": [
    "import seaborn as sns\n",
    "\n",
    "plt.figure(figsize=(8, 6))\n",
    "sns.heatmap(np.log(df_int+1).corr(), annot=True, cmap='coolwarm', fmt=\".2f\")\n",
    "plt.show()"
   ]
  },
  {
   "cell_type": "markdown",
   "id": "9346e4a3",
   "metadata": {},
   "source": [
    "- 소득과 주중근로시간이 양의 상관성이 높게 나왔다. \n",
    "    - 근로시간의 많고 적음에 따라 급여가 달라질 수 있으니 어찌보면 당연한 것\n",
    "\n",
    "\n",
    "\n",
    "- 나이와 주중근로시간이 양의 상관성이 높게 나왔다\n",
    "    - 나이가 많아짐에 따라 직장인의 비율이 높아질 것으로 보임\n",
    "    - 따라서 취업 비율이 높아짐에 따라 주중근로시간은 높게 나타날 것\n",
    "\n",
    "\n",
    "\n",
    "- 나이와 소득또한 어느정도 상관성이 있어보인다.\n",
    "    - 마찬가지로 청소년과 직장인 누가 더 소득이 높을 것인가?\n",
    "    - 나이에 따라 소득은 어느정도 양의 상관성을 지닐 것이다"
   ]
  },
  {
   "cell_type": "markdown",
   "id": "c36769a5",
   "metadata": {},
   "source": [
    "---"
   ]
  },
  {
   "cell_type": "markdown",
   "id": "d5f039b1",
   "metadata": {},
   "source": [
    "## 4.  회귀분석\n",
    "- income 변수를 y로 설정하고 나머지 연속형 변수를 설명변수로 모델에 적합\n",
    "- model1 : 연속형 변수에 로그변환만을 취함\n",
    "- 로그변환은 하는 것이 하지 않는 것보다 모델 적합에 훨씬 용이하게 나왔음"
   ]
  },
  {
   "cell_type": "code",
   "execution_count": 20,
   "id": "6734a8c0",
   "metadata": {},
   "outputs": [],
   "source": [
    "import statsmodels.api as sm"
   ]
  },
  {
   "cell_type": "markdown",
   "id": "92d6cad8",
   "metadata": {},
   "source": [
    "### model1 "
   ]
  },
  {
   "cell_type": "code",
   "execution_count": 21,
   "id": "c6b820e0",
   "metadata": {
    "scrolled": false
   },
   "outputs": [
    {
     "name": "stderr",
     "output_type": "stream",
     "text": [
      "C:\\Users\\kjm\\anaconda3\\lib\\site-packages\\statsmodels\\tsa\\tsatools.py:142: FutureWarning: In a future version of pandas all arguments of concat except for the argument 'objs' will be keyword-only\n",
      "  x = pd.concat(x[::order], 1)\n"
     ]
    },
    {
     "data": {
      "text/html": [
       "<table class=\"simpletable\">\n",
       "<caption>OLS Regression Results</caption>\n",
       "<tr>\n",
       "  <th>Dep. Variable:</th>         <td>Income</td>      <th>  R-squared:         </th> <td>   0.327</td> \n",
       "</tr>\n",
       "<tr>\n",
       "  <th>Model:</th>                   <td>OLS</td>       <th>  Adj. R-squared:    </th> <td>   0.327</td> \n",
       "</tr>\n",
       "<tr>\n",
       "  <th>Method:</th>             <td>Least Squares</td>  <th>  F-statistic:       </th> <td>   1944.</td> \n",
       "</tr>\n",
       "<tr>\n",
       "  <th>Date:</th>             <td>Wed, 13 Mar 2024</td> <th>  Prob (F-statistic):</th>  <td>  0.00</td>  \n",
       "</tr>\n",
       "<tr>\n",
       "  <th>Time:</th>                 <td>13:36:19</td>     <th>  Log-Likelihood:    </th> <td> -48688.</td> \n",
       "</tr>\n",
       "<tr>\n",
       "  <th>No. Observations:</th>      <td> 20000</td>      <th>  AIC:               </th> <td>9.739e+04</td>\n",
       "</tr>\n",
       "<tr>\n",
       "  <th>Df Residuals:</th>          <td> 19994</td>      <th>  BIC:               </th> <td>9.744e+04</td>\n",
       "</tr>\n",
       "<tr>\n",
       "  <th>Df Model:</th>              <td>     5</td>      <th>                     </th>     <td> </td>    \n",
       "</tr>\n",
       "<tr>\n",
       "  <th>Covariance Type:</th>      <td>nonrobust</td>    <th>                     </th>     <td> </td>    \n",
       "</tr>\n",
       "</table>\n",
       "<table class=\"simpletable\">\n",
       "<tr>\n",
       "            <td></td>               <th>coef</th>     <th>std err</th>      <th>t</th>      <th>P>|t|</th>  <th>[0.025</th>    <th>0.975]</th>  \n",
       "</tr>\n",
       "<tr>\n",
       "  <th>const</th>                 <td>    0.3127</td> <td>    0.097</td> <td>    3.223</td> <td> 0.001</td> <td>    0.123</td> <td>    0.503</td>\n",
       "</tr>\n",
       "<tr>\n",
       "  <th>Age</th>                   <td>    0.0658</td> <td>    0.031</td> <td>    2.139</td> <td> 0.032</td> <td>    0.005</td> <td>    0.126</td>\n",
       "</tr>\n",
       "<tr>\n",
       "  <th>Working_Week (Yearly)</th> <td>    1.1597</td> <td>    0.013</td> <td>   88.975</td> <td> 0.000</td> <td>    1.134</td> <td>    1.185</td>\n",
       "</tr>\n",
       "<tr>\n",
       "  <th>Gains</th>                 <td>   -0.0588</td> <td>    0.012</td> <td>   -4.988</td> <td> 0.000</td> <td>   -0.082</td> <td>   -0.036</td>\n",
       "</tr>\n",
       "<tr>\n",
       "  <th>Losses</th>                <td>   -0.0460</td> <td>    0.018</td> <td>   -2.557</td> <td> 0.011</td> <td>   -0.081</td> <td>   -0.011</td>\n",
       "</tr>\n",
       "<tr>\n",
       "  <th>Dividends</th>             <td>   -0.0745</td> <td>    0.011</td> <td>   -6.501</td> <td> 0.000</td> <td>   -0.097</td> <td>   -0.052</td>\n",
       "</tr>\n",
       "</table>\n",
       "<table class=\"simpletable\">\n",
       "<tr>\n",
       "  <th>Omnibus:</th>       <td>1761.047</td> <th>  Durbin-Watson:     </th> <td>   1.983</td>\n",
       "</tr>\n",
       "<tr>\n",
       "  <th>Prob(Omnibus):</th>  <td> 0.000</td>  <th>  Jarque-Bera (JB):  </th> <td>2068.317</td>\n",
       "</tr>\n",
       "<tr>\n",
       "  <th>Skew:</th>           <td>-0.761</td>  <th>  Prob(JB):          </th> <td>    0.00</td>\n",
       "</tr>\n",
       "<tr>\n",
       "  <th>Kurtosis:</th>       <td> 2.595</td>  <th>  Cond. No.          </th> <td>    25.1</td>\n",
       "</tr>\n",
       "</table><br/><br/>Notes:<br/>[1] Standard Errors assume that the covariance matrix of the errors is correctly specified."
      ],
      "text/plain": [
       "<class 'statsmodels.iolib.summary.Summary'>\n",
       "\"\"\"\n",
       "                            OLS Regression Results                            \n",
       "==============================================================================\n",
       "Dep. Variable:                 Income   R-squared:                       0.327\n",
       "Model:                            OLS   Adj. R-squared:                  0.327\n",
       "Method:                 Least Squares   F-statistic:                     1944.\n",
       "Date:                Wed, 13 Mar 2024   Prob (F-statistic):               0.00\n",
       "Time:                        13:36:19   Log-Likelihood:                -48688.\n",
       "No. Observations:               20000   AIC:                         9.739e+04\n",
       "Df Residuals:                   19994   BIC:                         9.744e+04\n",
       "Df Model:                           5                                         \n",
       "Covariance Type:            nonrobust                                         \n",
       "=========================================================================================\n",
       "                            coef    std err          t      P>|t|      [0.025      0.975]\n",
       "-----------------------------------------------------------------------------------------\n",
       "const                     0.3127      0.097      3.223      0.001       0.123       0.503\n",
       "Age                       0.0658      0.031      2.139      0.032       0.005       0.126\n",
       "Working_Week (Yearly)     1.1597      0.013     88.975      0.000       1.134       1.185\n",
       "Gains                    -0.0588      0.012     -4.988      0.000      -0.082      -0.036\n",
       "Losses                   -0.0460      0.018     -2.557      0.011      -0.081      -0.011\n",
       "Dividends                -0.0745      0.011     -6.501      0.000      -0.097      -0.052\n",
       "==============================================================================\n",
       "Omnibus:                     1761.047   Durbin-Watson:                   1.983\n",
       "Prob(Omnibus):                  0.000   Jarque-Bera (JB):             2068.317\n",
       "Skew:                          -0.761   Prob(JB):                         0.00\n",
       "Kurtosis:                       2.595   Cond. No.                         25.1\n",
       "==============================================================================\n",
       "\n",
       "Notes:\n",
       "[1] Standard Errors assume that the covariance matrix of the errors is correctly specified.\n",
       "\"\"\""
      ]
     },
     "execution_count": 21,
     "metadata": {},
     "output_type": "execute_result"
    }
   ],
   "source": [
    "df_int1 = np.log(df_int+1)\n",
    "X = df_int1.drop(['Income'], axis=1) \n",
    "X = sm.add_constant(X)  # 상수 항 추가\n",
    "y = df_int1['Income']\n",
    "\n",
    "model1 = sm.OLS(y,X)\n",
    "results1 = model1.fit()\n",
    "\n",
    "results1.summary()"
   ]
  },
  {
   "cell_type": "markdown",
   "id": "06d08af4",
   "metadata": {},
   "source": [
    "- 결정계수 0.327, f통계량 1944 모델의 유의성은 있어보인다.\n",
    "- 각 변수끼리의 신뢰여부 또한 Age와 Losses 제외하고 유의함\n",
    "- 특히 주중근로시간이 t-value가 매우 높아 모델적합에 있어 중요한 변수로 작용\n",
    "- gains, losses, dividends 변수는 계수가 음수를 띄고 있어 이들이 증가하며 소득에 불리한 영향을 미치는 것으로 보여진다."
   ]
  },
  {
   "cell_type": "code",
   "execution_count": 22,
   "id": "4890758e",
   "metadata": {},
   "outputs": [
    {
     "name": "stdout",
     "output_type": "stream",
     "text": [
      "                Variable        VIF\n",
      "0                  const  24.705914\n",
      "1                    Age   1.250449\n",
      "2  Working_Week (Yearly)   1.219781\n",
      "3                  Gains   1.020965\n",
      "4                 Losses   1.007572\n",
      "5              Dividends   1.040005\n"
     ]
    }
   ],
   "source": [
    "from statsmodels.stats.outliers_influence import variance_inflation_factor\n",
    "\n",
    "# 독립 변수 간의 VIF 계산\n",
    "vif_data = X.assign(const=1) # 상수항 추가\n",
    "vif = pd.DataFrame()\n",
    "vif[\"Variable\"] = vif_data.columns\n",
    "vif[\"VIF\"] = [variance_inflation_factor(vif_data.values, i) for i in range(vif_data.shape[1])]\n",
    "\n",
    "# 결과 출력\n",
    "print(vif)"
   ]
  },
  {
   "cell_type": "code",
   "execution_count": 23,
   "id": "ba9373ea",
   "metadata": {},
   "outputs": [
    {
     "data": {
      "image/png": "[encoded data removed]",
      "text/plain": [
       "<Figure size 432x432 with 1 Axes>"
      ]
     },
     "metadata": {
      "needs_background": "light"
     },
     "output_type": "display_data"
    },
    {
     "data": {
      "image/png": "[encoded data removed]",
      "text/plain": [
       "<Figure size 432x432 with 1 Axes>"
      ]
     },
     "metadata": {
      "needs_background": "light"
     },
     "output_type": "display_data"
    }
   ],
   "source": [
    "import scipy.stats as stats\n",
    "\n",
    "# 회귀 모델 결과\n",
    "results = sm.OLS(y, X).fit()\n",
    "\n",
    "# 잔차 계산\n",
    "residuals = results.resid\n",
    "\n",
    "# QQ 플롯 그리기 (잔차의 정규성 확인)\n",
    "fig, ax = plt.subplots(figsize=(6, 6))\n",
    "stats.probplot(residuals, dist=\"norm\", plot=ax)\n",
    "ax.set_title('QQ Plot of Residuals')\n",
    "plt.show()\n",
    "\n",
    "# 잔차와 예측 값의 산점도 그리기 (등분산성 확인)\n",
    "fig, ax = plt.subplots(figsize=(6, 6))\n",
    "ax.scatter(results.fittedvalues, residuals)\n",
    "ax.set_xlabel('Fitted values')\n",
    "ax.set_ylabel('Residuals')\n",
    "ax.set_title('Residuals vs Fitted')\n",
    "plt.show()"
   ]
  },
  {
   "cell_type": "code",
   "execution_count": 25,
   "id": "a04ceefa",
   "metadata": {},
   "outputs": [],
   "source": [
    "# test.csv 파일에서 데이터 불러오기\n",
    "test_data = pd.read_csv(\"C:\\\\Users\\\\kjm\\\\Downloads\\\\open\\\\test.csv\")"
   ]
  },
  {
   "cell_type": "code",
   "execution_count": 30,
   "id": "6c18eed3",
   "metadata": {},
   "outputs": [
    {
     "name": "stderr",
     "output_type": "stream",
     "text": [
      "C:\\Users\\kjm\\anaconda3\\lib\\site-packages\\statsmodels\\tsa\\tsatools.py:142: FutureWarning: In a future version of pandas all arguments of concat except for the argument 'objs' will be keyword-only\n",
      "  x = pd.concat(x[::order], 1)\n"
     ]
    }
   ],
   "source": [
    "# 독립 변수 추출 (const 상수항은 자동으로 추가됨)\n",
    "X_test = sm.add_constant(test_data[['Age', 'Working_Week (Yearly)', 'Gains', 'Losses', 'Dividends']])"
   ]
  },
  {
   "cell_type": "code",
   "execution_count": 31,
   "id": "2d69b00b",
   "metadata": {},
   "outputs": [],
   "source": [
    "# 모델을 사용하여 예측값 계산\n",
    "predicted_values = results.predict(X_test)"
   ]
  },
  {
   "cell_type": "code",
   "execution_count": 32,
   "id": "b23d83e7",
   "metadata": {},
   "outputs": [
    {
     "name": "stdout",
     "output_type": "stream",
     "text": [
      "예측된 수입:\n",
      "0        5.509926\n",
      "1        3.404736\n",
      "2       61.801640\n",
      "3       37.669630\n",
      "4        0.707461\n",
      "          ...    \n",
      "9995    62.656873\n",
      "9996    62.393724\n",
      "9997     9.614852\n",
      "9998     0.904823\n",
      "9999    47.778051\n",
      "Length: 10000, dtype: float64\n"
     ]
    }
   ],
   "source": [
    "print(\"예측된 수입:\")\n",
    "print(predicted_values)"
   ]
  },
  {
   "cell_type": "code",
   "execution_count": 36,
   "id": "7f8f7983",
   "metadata": {},
   "outputs": [],
   "source": [
    "# 예측값을 데이터프레임으로 변환\n",
    "predictions_df = pd.DataFrame({'ID': test_data['ID'], 'Income': predicted_values})"
   ]
  },
  {
   "cell_type": "code",
   "execution_count": 38,
   "id": "6161ae63",
   "metadata": {},
   "outputs": [
    {
     "data": {
      "text/html": [
       "<div>\n",
       "<style scoped>\n",
       "    .dataframe tbody tr th:only-of-type {\n",
       "        vertical-align: middle;\n",
       "    }\n",
       "\n",
       "    .dataframe tbody tr th {\n",
       "        vertical-align: top;\n",
       "    }\n",
       "\n",
       "    .dataframe thead th {\n",
       "        text-align: right;\n",
       "    }\n",
       "</style>\n",
       "<table border=\"1\" class=\"dataframe\">\n",
       "  <thead>\n",
       "    <tr style=\"text-align: right;\">\n",
       "      <th></th>\n",
       "      <th>ID</th>\n",
       "      <th>Income</th>\n",
       "    </tr>\n",
       "  </thead>\n",
       "  <tbody>\n",
       "    <tr>\n",
       "      <th>0</th>\n",
       "      <td>TEST_0000</td>\n",
       "      <td>5.509926</td>\n",
       "    </tr>\n",
       "    <tr>\n",
       "      <th>1</th>\n",
       "      <td>TEST_0001</td>\n",
       "      <td>3.404736</td>\n",
       "    </tr>\n",
       "    <tr>\n",
       "      <th>2</th>\n",
       "      <td>TEST_0002</td>\n",
       "      <td>61.801640</td>\n",
       "    </tr>\n",
       "    <tr>\n",
       "      <th>3</th>\n",
       "      <td>TEST_0003</td>\n",
       "      <td>37.669630</td>\n",
       "    </tr>\n",
       "    <tr>\n",
       "      <th>4</th>\n",
       "      <td>TEST_0004</td>\n",
       "      <td>0.707461</td>\n",
       "    </tr>\n",
       "  </tbody>\n",
       "</table>\n",
       "</div>"
      ],
      "text/plain": [
       "          ID     Income\n",
       "0  TEST_0000   5.509926\n",
       "1  TEST_0001   3.404736\n",
       "2  TEST_0002  61.801640\n",
       "3  TEST_0003  37.669630\n",
       "4  TEST_0004   0.707461"
      ]
     },
     "execution_count": 38,
     "metadata": {},
     "output_type": "execute_result"
    }
   ],
   "source": [
    "predictions_df.head()"
   ]
  },
  {
   "cell_type": "code",
   "execution_count": 39,
   "id": "9fd2f232",
   "metadata": {},
   "outputs": [],
   "source": [
    "# CSV 파일로 저장\n",
    "predictions_df.to_csv('sample_submission.csv', index=False)"
   ]
  },
  {
   "cell_type": "markdown",
   "id": "beeb9f5d",
   "metadata": {},
   "source": [
    "---"
   ]
  }
 ],
 "metadata": {
  "kernelspec": {
   "display_name": "Python 3 (ipykernel)",
   "language": "python",
   "name": "python3"
  },
  "language_info": {
   "codemirror_mode": {
    "name": "ipython",
    "version": 3
   },
   "file_extension": ".py",
   "mimetype": "text/x-python",
   "name": "python",
   "nbconvert_exporter": "python",
   "pygments_lexer": "ipython3",
   "version": "3.9.7"
  }
 },
 "nbformat": 4,
 "nbformat_minor": 5
}
