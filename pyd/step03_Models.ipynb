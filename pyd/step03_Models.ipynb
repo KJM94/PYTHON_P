{
  "nbformat": 4,
  "nbformat_minor": 0,
  "metadata": {
    "accelerator": "GPU",
    "colab": {
      "name": "step03_Models.ipynb",
      "provenance": [],
      "toc_visible": true,
      "include_colab_link": true
    },
    "kernelspec": {
      "display_name": "Python 3",
      "language": "python",
      "name": "python3"
    },
    "language_info": {
      "codemirror_mode": {
        "name": "ipython",
        "version": 3
      },
      "file_extension": ".py",
      "mimetype": "text/x-python",
      "name": "python",
      "nbconvert_exporter": "python",
      "pygments_lexer": "ipython3",
      "version": "3.8.10"
    }
  },
  "cells": [
    {
      "cell_type": "markdown",
      "metadata": {
        "id": "view-in-github",
        "colab_type": "text"
      },
      "source": [
        "<a href=\"https://colab.research.google.com/github/KJM94/pyd/blob/main/step03_Models.ipynb\" target=\"_parent\"><img src=\"https://colab.research.google.com/assets/colab-badge.svg\" alt=\"Open In Colab\"/></a>"
      ]
    },
    {
      "cell_type": "markdown",
      "metadata": {
        "id": "sEmg6h6bt5YG"
      },
      "source": [
        "## torch GPU 설정"
      ]
    },
    {
      "cell_type": "code",
      "metadata": {
        "id": "KgwJ9hMXpQEQ"
      },
      "source": [
        "import torch\n",
        "\n",
        "if torch.cuda.is_available():\n",
        "  device = torch.device(\"cuda:0\")"
      ],
      "execution_count": null,
      "outputs": []
    },
    {
      "cell_type": "markdown",
      "metadata": {
        "id": "XmKKMV6NuMH6"
      },
      "source": [
        "## MNIST 데이터 셋"
      ]
    },
    {
      "cell_type": "code",
      "metadata": {
        "id": "nohvD9wbt47i"
      },
      "source": [
        "from torchvision import datasets\n",
        "\n",
        "PATH_DATA = \"./data\"\n",
        "train_data = datasets.MNIST(PATH_DATA, train = True, download=True)"
      ],
      "execution_count": null,
      "outputs": []
    },
    {
      "cell_type": "markdown",
      "metadata": {
        "id": "7C0GUjTmudZN"
      },
      "source": [
        "- extract the input data and target labels"
      ]
    },
    {
      "cell_type": "code",
      "metadata": {
        "colab": {
          "base_uri": "https://localhost:8080/"
        },
        "id": "GG19_QgZuwXt",
        "outputId": "0554ac7f-a54f-412a-b7c6-2865ee84860c"
      },
      "source": [
        "X_train, y_train = train_data.data, train_data.targets\n",
        "print(X_train.shape)\n",
        "print(y_train.shape)"
      ],
      "execution_count": null,
      "outputs": [
        {
          "output_type": "stream",
          "text": [
            "torch.Size([60000, 28, 28])\n",
            "torch.Size([60000])\n"
          ],
          "name": "stdout"
        }
      ]
    },
    {
      "cell_type": "markdown",
      "metadata": {
        "id": "rDnPYuXUvBuY"
      },
      "source": [
        "- Load the MNIST test dataset"
      ]
    },
    {
      "cell_type": "code",
      "metadata": {
        "colab": {
          "base_uri": "https://localhost:8080/"
        },
        "id": "WdkuB2xOvZ34",
        "outputId": "df5f2558-7376-4130-9032-5b3e8e1e7a65"
      },
      "source": [
        "val_data = datasets.MNIST(PATH_DATA, train = False, download=True)\n",
        "X_val, y_val = val_data.data, val_data.targets\n",
        "print(X_val.shape)\n",
        "print(y_val.shape)"
      ],
      "execution_count": null,
      "outputs": [
        {
          "output_type": "stream",
          "text": [
            "torch.Size([10000, 28, 28])\n",
            "torch.Size([10000])\n"
          ],
          "name": "stdout"
        }
      ]
    },
    {
      "cell_type": "markdown",
      "metadata": {
        "id": "ezILHpWYwhFS"
      },
      "source": [
        "- Add a new dimension to the tensors\n"
      ]
    },
    {
      "cell_type": "code",
      "metadata": {
        "colab": {
          "base_uri": "https://localhost:8080/"
        },
        "id": "Ihc9Iw7Nwj-a",
        "outputId": "c4bc95ed-144b-4af3-d11c-1886126d109b"
      },
      "source": [
        "if len(X_train.shape) == 3:\n",
        "  X_train = X_train.unsqueeze(1)\n",
        "print(X_train.shape)\n",
        "\n",
        "if len(X_val.shape) == 3:\n",
        "  X_val = X_val.unsqueeze(1)\n",
        "print(X_val.shape)"
      ],
      "execution_count": null,
      "outputs": [
        {
          "output_type": "stream",
          "text": [
            "torch.Size([60000, 1, 28, 28])\n",
            "torch.Size([10000, 1, 28, 28])\n"
          ],
          "name": "stdout"
        }
      ]
    },
    {
      "cell_type": "markdown",
      "metadata": {
        "id": "Nfdc-KkWwzR9"
      },
      "source": [
        "## Visualization"
      ]
    },
    {
      "cell_type": "code",
      "metadata": {
        "id": "PFe6QaVTw1IT"
      },
      "source": [
        "from torchvision import utils\n",
        "import matplotlib.pyplot as plt\n",
        "import numpy as np\n",
        "\n",
        "%matplotlib inline"
      ],
      "execution_count": null,
      "outputs": []
    },
    {
      "cell_type": "code",
      "metadata": {
        "id": "khHGsK7nxPvT"
      },
      "source": [
        "def show(img):\n",
        "  # convert tensor to numpy array\n",
        "  np_img = img.numpy()\n",
        "\n",
        "  # Convert to H * W * C shape\n",
        "  np_img_tr = np.transpose(np_img, (1, 2, 0))\n",
        "\n",
        "  plt.imshow(np_img_tr, interpolation='nearest')"
      ],
      "execution_count": null,
      "outputs": []
    },
    {
      "cell_type": "code",
      "metadata": {
        "colab": {
          "base_uri": "https://localhost:8080/"
        },
        "id": "Ln7pi3ruxnsS",
        "outputId": "83319f05-ef49-4739-94fd-9473391691fe"
      },
      "source": [
        "X_grid = utils.make_grid(X_train[:20], nrow=4, padding=2)\n",
        "print(X_grid.shape)\n",
        "\n",
        "show(X_grid)"
      ],
      "execution_count": null,
      "outputs": [
        {
          "output_type": "stream",
          "text": [
            "torch.Size([3, 152, 122])\n"
          ],
          "name": "stdout"
        },
        {
          "output_type": "display_data",
          "data": {
            "image/png": "[encoded data removed]",
            "text/plain": [
              "<Figure size 432x288 with 1 Axes>"
            ]
          },
          "metadata": {
            "tags": [],
            "needs_background": "light"
          }
        }
      ]
    },
    {
      "cell_type": "markdown",
      "metadata": {
        "id": "gCL1TSm0OSlB"
      },
      "source": [
        "## Data Transformation\n",
        "- Image Transformation is an effective technique that's used to improve a models' performance"
      ]
    },
    {
      "cell_type": "code",
      "metadata": {
        "colab": {
          "base_uri": "https://localhost:8080/"
        },
        "id": "3ZvkUCKcOW2f",
        "outputId": "e0360450-7f2d-47af-9ab8-c5f3d42945a1"
      },
      "source": [
        "from torchvision import transforms\n",
        "from torchvision import datasets\n",
        "\n",
        "PATH_DATA = \"./data\"\n",
        "train_data = datasets.MNIST(PATH_DATA, train = True, download=True)\n",
        "\n",
        "# define transformations\n",
        "data_transform = transforms.Compose([\n",
        "  transforms.RandomHorizontalFlip(p=1), \n",
        "  transforms.RandomVerticalFlip(p=1), \n",
        "  transforms.ToTensor(), \n",
        "])\n",
        "\n",
        "# image dataset\n",
        "img = train_data[0][0]\n",
        "\n",
        "# transform sample image\n",
        "img_tr = data_transform(img)\n",
        "\n",
        "# convert tensor to numpy array\n",
        "img_tr_np = img_tr.numpy()\n",
        "\n",
        "fig, ax = plt.subplots(ncols=2)\n",
        "ax[0].imshow(img, cmap=\"gray\")\n",
        "ax[0].set_title(\"original\")\n",
        "ax[1].imshow(img_tr_np[0], cmap=\"gray\")\n",
        "ax[1].set_title(\"transformed\")\n",
        "\n",
        "plt.show()"
      ],
      "execution_count": null,
      "outputs": [
        {
          "output_type": "display_data",
          "data": {
            "image/png": "[encoded data removed]",
            "text/plain": [
              "<Figure size 432x288 with 2 Axes>"
            ]
          },
          "metadata": {
            "tags": [],
            "needs_background": "light"
          }
        }
      ]
    },
    {
      "cell_type": "code",
      "metadata": {
        "colab": {
          "base_uri": "https://localhost:8080/"
        },
        "id": "CWv902FLRFkr",
        "outputId": "ec821ef5-5ed6-4eed-995c-2b8dbb3f8a5c"
      },
      "source": [
        "data_transform = transforms.Compose([\n",
        "  transforms.RandomHorizontalFlip(p=1), \n",
        "  transforms.RandomVerticalFlip(p=1), \n",
        "  transforms.ToTensor(), \n",
        "])\n",
        "\n",
        "train_data = datasets.MNIST(PATH_DATA, train = True, download=True, transform=data_transform)\n",
        "\n",
        "# image dataset\n",
        "img = train_data[0][0]\n",
        "fig, ax = plt.subplots()\n",
        "ax.imshow(img[0], cmap=\"gray\")\n",
        "ax.set_title(\"transformed\")\n",
        "plt.show()"
      ],
      "execution_count": null,
      "outputs": [
        {
          "output_type": "display_data",
          "data": {
            "image/png": "[encoded data removed]",
            "text/plain": [
              "<Figure size 432x288 with 1 Axes>"
            ]
          },
          "metadata": {
            "tags": [],
            "needs_background": "light"
          }
        }
      ]
    },
    {
      "cell_type": "markdown",
      "metadata": {
        "id": "87KryvvqRm3N"
      },
      "source": [
        "## Wrapping tensors into a dataset"
      ]
    },
    {
      "cell_type": "code",
      "metadata": {
        "colab": {
          "base_uri": "https://localhost:8080/"
        },
        "id": "5oTmJOTlR-i4",
        "outputId": "6e0c7c5d-32d5-4d3b-df6f-84b3f55b2486"
      },
      "source": [
        "from torchvision import datasets\n",
        "from torch.utils.data import TensorDataset\n",
        "\n",
        "PATH_DATA = \"./data\"\n",
        "\n",
        "train_data = datasets.MNIST(PATH_DATA, train = True, download=True)\n",
        "X_train, y_train = train_data.data, train_data.targets\n",
        "\n",
        "val_data = datasets.MNIST(PATH_DATA, train = False, download=True)\n",
        "X_val, y_val = val_data.data, val_data.targets\n",
        "\n",
        "train_ds = TensorDataset(X_train, y_train)\n",
        "val_ds = TensorDataset(X_val, y_val)\n",
        "\n",
        "for x, y in train_ds:\n",
        "  print(x.shape, y.item())\n",
        "  break"
      ],
      "execution_count": null,
      "outputs": [
        {
          "output_type": "stream",
          "text": [
            "torch.Size([28, 28]) 5\n"
          ],
          "name": "stdout"
        }
      ]
    },
    {
      "cell_type": "markdown",
      "metadata": {
        "id": "cL7IXYIxTQJp"
      },
      "source": [
        "## Creating Data Loaders"
      ]
    },
    {
      "cell_type": "code",
      "metadata": {
        "colab": {
          "base_uri": "https://localhost:8080/"
        },
        "id": "aoeQQS67TR9t",
        "outputId": "933e0b72-df97-41b8-d406-ee20a01efc77"
      },
      "source": [
        "from torch.utils.data import DataLoader\n",
        "\n",
        "# create a data loader from dataset\n",
        "train_dl = DataLoader(train_ds, batch_size=8)\n",
        "val_dl = DataLoader(val_ds, batch_size = 8)\n",
        "\n",
        "for xb, yb in train_dl:\n",
        "  print(xb.shape)\n",
        "  print(yb.shape)\n",
        "  break"
      ],
      "execution_count": null,
      "outputs": [
        {
          "output_type": "stream",
          "text": [
            "torch.Size([8, 28, 28])\n",
            "torch.Size([8])\n"
          ],
          "name": "stdout"
        }
      ]
    },
    {
      "cell_type": "markdown",
      "metadata": {
        "id": "GTRsagFaTwBY"
      },
      "source": [
        "## Building Models\n",
        "- define linear layer, two-layer network, and a multilayer convolutional network. "
      ]
    },
    {
      "cell_type": "code",
      "metadata": {
        "colab": {
          "base_uri": "https://localhost:8080/"
        },
        "id": "5gcFtB75TvXr",
        "outputId": "85568237-9c78-4e27-ef38-3aad483f41c6"
      },
      "source": [
        "from torch import nn\n",
        "\n",
        "# input tensor 64 * 1000\n",
        "input_tensor = torch.randn(64, 1000)\n",
        "linear_layer = nn.Linear(1000, 100)\n",
        "output = linear_layer(input_tensor)\n",
        "print(output.size())"
      ],
      "execution_count": null,
      "outputs": [
        {
          "output_type": "stream",
          "text": [
            "torch.Size([64, 100])\n"
          ],
          "name": "stdout"
        }
      ]
    },
    {
      "cell_type": "markdown",
      "metadata": {
        "id": "lQGHSTgdUzbc"
      },
      "source": [
        "### Defining models using nn.Sequential\n",
        "- four nodes as input\n",
        "- five nodes in the hidden layer\n",
        "- one node as the output\n",
        "- `nn.Sequential` package is to create a deep learning model by passing layers in order\n",
        "\n",
        "<img src='http://drive.google.com/uc?export=view&id=1K-lS9ewySzNL3A8vzOoYiqzTAHmYOGCG' /><br>\n",
        "\n"
      ]
    },
    {
      "cell_type": "code",
      "metadata": {
        "colab": {
          "base_uri": "https://localhost:8080/"
        },
        "id": "8nWCEz_KS6fm",
        "outputId": "cf4ee769-c4de-4cfb-dfb1-aeb28a734343"
      },
      "source": [
        "from torch import nn \n",
        "model = nn.Sequential(\n",
        "    nn.Linear(4, 5), \n",
        "    nn.Linear(5, 10),\n",
        "    nn.ReLU(), \n",
        "    nn.Linear(10, 1), \n",
        ")\n",
        "\n",
        "print(model)"
      ],
      "execution_count": null,
      "outputs": [
        {
          "output_type": "stream",
          "text": [
            "Sequential(\n",
            "  (0): Linear(in_features=4, out_features=5, bias=True)\n",
            "  (1): Linear(in_features=5, out_features=10, bias=True)\n",
            "  (2): ReLU()\n",
            "  (3): Linear(in_features=10, out_features=1, bias=True)\n",
            ")\n"
          ],
          "name": "stdout"
        }
      ]
    },
    {
      "cell_type": "markdown",
      "metadata": {
        "id": "P-0HgXh7VvFW"
      },
      "source": [
        "### Defining models using nn.Module\n",
        "- __init__ method 사용. \n",
        "- in the forward method, we apply the layers to inputs. \n",
        "<img src='http://drive.google.com/uc?export=view&id=1kjADsfGCT5-ENrjNGliNjBE8poZHuWkt' /><br>"
      ]
    },
    {
      "cell_type": "code",
      "metadata": {
        "colab": {
          "base_uri": "https://localhost:8080/"
        },
        "id": "T-bqPv4ZVuhb",
        "outputId": "e3b2e99d-5cfa-414b-f459-93a19b7e52d1"
      },
      "source": [
        "import torch.nn.functional as F\n",
        "class Net(nn.Module):\n",
        "    def __init__(self):\n",
        "        super(Net, self).__init__()\n",
        "        self.conv1 = nn.Conv2d(1, 8, 5, 1)\n",
        "        self.conv2 = nn.Conv2d(8, 16, 5, 1)\n",
        "        self.fc1 = nn.Linear(4*4*16, 100)\n",
        "        self.fc2 = nn.Linear(100, 10)\n",
        "\n",
        "    def forward(self, x):\n",
        "        x = F.relu(self.conv1(x))\n",
        "        x = F.max_pool2d(x, 2, 2)\n",
        "        x = F.relu(self.conv2(x))\n",
        "        x = F.max_pool2d(x, 2, 2)\n",
        "        x = x.view(-1, 4*4*16)\n",
        "        x = F.relu(self.fc1(x))\n",
        "        x = self.fc2(x)\n",
        "        return F.log_softmax(x, dim=1)\n",
        "\n",
        "model = Net()\n",
        "print(model)"
      ],
      "execution_count": null,
      "outputs": [
        {
          "output_type": "stream",
          "text": [
            "Net(\n",
            "  (conv1): Conv2d(1, 8, kernel_size=(5, 5), stride=(1, 1))\n",
            "  (conv2): Conv2d(8, 16, kernel_size=(5, 5), stride=(1, 1))\n",
            "  (fc1): Linear(in_features=256, out_features=100, bias=True)\n",
            "  (fc2): Linear(in_features=100, out_features=10, bias=True)\n",
            ")\n"
          ],
          "name": "stdout"
        }
      ]
    },
    {
      "cell_type": "markdown",
      "metadata": {
        "id": "Z_H3Yk-UduDr"
      },
      "source": [
        "### Moving the model to CUDA device "
      ]
    },
    {
      "cell_type": "code",
      "metadata": {
        "colab": {
          "base_uri": "https://localhost:8080/"
        },
        "id": "gva33ErNdx0h",
        "outputId": "504775fe-b130-40e2-db9b-1ecacfaf318c"
      },
      "source": [
        "print(next(model.parameters()).device)"
      ],
      "execution_count": null,
      "outputs": [
        {
          "output_type": "stream",
          "text": [
            "cpu\n"
          ],
          "name": "stdout"
        }
      ]
    },
    {
      "cell_type": "markdown",
      "metadata": {
        "id": "pGoy-EZPhfsK"
      },
      "source": [
        "- Move the model to the CUDA device"
      ]
    },
    {
      "cell_type": "code",
      "metadata": {
        "colab": {
          "base_uri": "https://localhost:8080/"
        },
        "id": "eibAnJM9hPtp",
        "outputId": "7688ee52-35cb-4b18-8f16-9d734cddc0a6"
      },
      "source": [
        "device = torch.device(\"cuda:0\")\n",
        "model.to(device)\n",
        "\n",
        "print(next(model.parameters()).device)"
      ],
      "execution_count": null,
      "outputs": [
        {
          "output_type": "stream",
          "text": [
            "cuda:0\n"
          ],
          "name": "stdout"
        }
      ]
    },
    {
      "cell_type": "markdown",
      "metadata": {
        "id": "18TLIf-Jhl9U"
      },
      "source": [
        "- pytorch summary"
      ]
    },
    {
      "cell_type": "code",
      "metadata": {
        "colab": {
          "base_uri": "https://localhost:8080/"
        },
        "id": "8a9_5ThrhoRh",
        "outputId": "cf72a9bf-6cd2-440e-cb95-a7e488437542"
      },
      "source": [
        "from torchsummary import summary\n",
        "summary(model, input_size = (1, 28, 28))"
      ],
      "execution_count": null,
      "outputs": [
        {
          "output_type": "stream",
          "text": [
            "----------------------------------------------------------------\n",
            "        Layer (type)               Output Shape         Param #\n",
            "================================================================\n",
            "            Conv2d-1            [-1, 8, 24, 24]             208\n",
            "            Conv2d-2             [-1, 16, 8, 8]           3,216\n",
            "            Linear-3                  [-1, 100]          25,700\n",
            "            Linear-4                   [-1, 10]           1,010\n",
            "================================================================\n",
            "Total params: 30,134\n",
            "Trainable params: 30,134\n",
            "Non-trainable params: 0\n",
            "----------------------------------------------------------------\n",
            "Input size (MB): 0.00\n",
            "Forward/backward pass size (MB): 0.04\n",
            "Params size (MB): 0.11\n",
            "Estimated Total Size (MB): 0.16\n",
            "----------------------------------------------------------------\n"
          ],
          "name": "stdout"
        }
      ]
    },
    {
      "cell_type": "markdown",
      "metadata": {
        "id": "yYwyn2cEi4E0"
      },
      "source": [
        "### Defining the loss function "
      ]
    },
    {
      "cell_type": "code",
      "metadata": {
        "colab": {
          "base_uri": "https://localhost:8080/"
        },
        "id": "0_4YlelBi9MB",
        "outputId": "e7039a0b-b275-4508-91c3-c5a5b2aef88c"
      },
      "source": [
        "from torchvision import datasets\n",
        "from torch.utils.data import TensorDataset\n",
        "from torch.utils.data import DataLoader\n",
        "\n",
        "PATH_DATA = \"./data\"\n",
        "\n",
        "train_data = datasets.MNIST(PATH_DATA, train = True, download=True)\n",
        "X_train, y_train = train_data.data, train_data.targets\n",
        "\n",
        "val_data = datasets.MNIST(PATH_DATA, train = False, download=True)\n",
        "X_val, y_val = val_data.data, val_data.targets\n",
        "\n",
        "# First, add a dimension to tensor to become B*C*H*W\n",
        "if len(X_train.shape)==3:\n",
        "    X_train=X_train.unsqueeze(1)\n",
        "print(X_train.shape)\n",
        "\n",
        "if len(X_val.shape)==3:\n",
        "    X_val=X_val.unsqueeze(1)\n",
        "\n",
        "train_ds = TensorDataset(X_train, y_train)\n",
        "val_ds = TensorDataset(X_val, y_val)\n",
        "\n",
        "# create a data loader from dataset\n",
        "train_dl = DataLoader(train_ds, batch_size=8)\n",
        "val_dl = DataLoader(val_ds, batch_size=8)\n",
        "\n",
        "loss_func = nn.NLLLoss(reduction=\"sum\")\n",
        "\n",
        "# iterate over batches\n",
        "for xb,yb in train_dl:\n",
        "    print(xb.shape)\n",
        "    print(yb.shape)\n",
        "    xb = xb.type(torch.float).to(device)\n",
        "    yb = yb.to(device)\n",
        "\n",
        "    out = model(xb)\n",
        "    # calculate loss value\n",
        "    loss = loss_func(out, yb)\n",
        "    print(loss.item())\n",
        "    break\n",
        "    # your training code will be here!\n"
      ],
      "execution_count": null,
      "outputs": [
        {
          "output_type": "stream",
          "text": [
            "torch.Size([60000, 1, 28, 28])\n",
            "torch.Size([8, 1, 28, 28])\n",
            "torch.Size([8])\n",
            "115.74520874023438\n"
          ],
          "name": "stdout"
        }
      ]
    },
    {
      "cell_type": "code",
      "metadata": {
        "id": "ScgJAwlMqDbs"
      },
      "source": [
        "# compute gradients\n",
        "loss.backward() # Backpropagation Algorithm. "
      ],
      "execution_count": null,
      "outputs": []
    },
    {
      "cell_type": "markdown",
      "metadata": {
        "id": "vLhEcHahqTDK"
      },
      "source": [
        "### Defining the Optimizer\n"
      ]
    },
    {
      "cell_type": "code",
      "metadata": {
        "id": "F_Pm-BQPqWRT"
      },
      "source": [
        "from torch import optim\n",
        "opt = optim.Adam(model.parameters(), lr=1e-4)\n",
        "\n",
        "# update model parameters\n",
        "opt.step()\n",
        "\n",
        "#  Don't forget to set the gradients to zero before computing the gradients of the next batch\n",
        "opt.zero_grad()"
      ],
      "execution_count": null,
      "outputs": []
    },
    {
      "cell_type": "markdown",
      "metadata": {
        "id": "4fTACZUetl5J"
      },
      "source": [
        "### Training and Evaluation\n",
        "- helper function to compute the loss value per mini-batch"
      ]
    },
    {
      "cell_type": "code",
      "metadata": {
        "id": "9AIKrxdsuRiU"
      },
      "source": [
        "def loss_batch(loss_func, xb, yb, yb_h, opt = None):\n",
        "  # obtain loss \n",
        "  loss = loss_func(yb_h, yb)\n",
        "\n",
        "  # obtain performance metric\n",
        "  metric_b = metrics_batch(yb, yb_h)\n",
        "  if opt is not None:\n",
        "    loss.backward()\n",
        "    opt.step()\n",
        "    opt.zero_grad()\n",
        "\n",
        "  return loss.item(), metric_b\n",
        "\n",
        "def metrics_batch(target, output):\n",
        "\n",
        "  # obtain output class\n",
        "  pred = output.argmax(dim=1, keepdim=True)\n",
        "\n",
        "  # Compare output class with target class \n",
        "  corrects = pred.eq(target.view_as(pred)).sum().item()\n",
        "  return corrects\n",
        "\n",
        "def loss_epoch(model, loss_func, dataset_dl, opt=None):\n",
        "  loss = 0.0\n",
        "  metric = 0.0\n",
        "  len_data = len(dataset_dl.dataset)\n",
        "\n",
        "  for xb, yb in dataset_dl:\n",
        "    xb = xb.type(torch.float).to(device)\n",
        "    yb = yb.to(device)\n",
        "\n",
        "    yb_h = model(xb)\n",
        "\n",
        "    loss_b, metric_b = loss_batch(loss_func, xb, yb, yb_h, opt)\n",
        "    loss += loss_b \n",
        "\n",
        "    if metric_b is not None:\n",
        "      metric += metric_b\n",
        "  \n",
        "  loss /= len_data\n",
        "  metric /= len_data\n",
        "\n",
        "  return loss, metric \n",
        "\n",
        "def train_val(epochs, model, loss_func, opt, train_dl, val_dl):\n",
        "  for epoch in range(epochs):\n",
        "    model.train()\n",
        "    train_loss, train_metric=loss_epoch(model, loss_func, train_dl, opt)\n",
        "    model.eval()\n",
        "    with torch.no_grad():\n",
        "      val_loss, val_metric = loss_epoch(model, loss_func, val_dl)\n",
        "\n",
        "    accuracy = 100 * val_metric \n",
        "    print(\"epoch: %d, train loss: %.6f, val loss: %.6f, accuracy: %.2f\"%(epoch, train_loss, val_loss, accuracy))"
      ],
      "execution_count": null,
      "outputs": []
    },
    {
      "cell_type": "code",
      "metadata": {
        "colab": {
          "base_uri": "https://localhost:8080/"
        },
        "id": "MHAwIyoWueZl",
        "outputId": "f56f9314-7f66-4c01-9341-3857fcc08636"
      },
      "source": [
        "import numpy as np \n",
        "num_epochs = 5\n",
        "train_val(num_epochs, model, loss_func, opt, train_dl, val_dl)"
      ],
      "execution_count": null,
      "outputs": [
        {
          "output_type": "stream",
          "text": [
            "epoch: 0, train loss: 0.284165, val loss: 0.145295, accuracy: 95.43\n",
            "epoch: 1, train loss: 0.087662, val loss: 0.099826, accuracy: 96.69\n",
            "epoch: 2, train loss: 0.057517, val loss: 0.081342, accuracy: 97.36\n",
            "epoch: 3, train loss: 0.042108, val loss: 0.061175, accuracy: 98.19\n",
            "epoch: 4, train loss: 0.032013, val loss: 0.060181, accuracy: 98.42\n"
          ],
          "name": "stdout"
        }
      ]
    },
    {
      "cell_type": "markdown",
      "metadata": {
        "id": "b-unPzPP0I_Q"
      },
      "source": [
        "### Storing and loading Models\n",
        "- Save model"
      ]
    },
    {
      "cell_type": "code",
      "metadata": {
        "id": "IEICnvgP0xSV"
      },
      "source": [
        "# Define Path\n",
        "PATH_WEIGHTS = \"./models/weights.pt\""
      ],
      "execution_count": null,
      "outputs": []
    },
    {
      "cell_type": "markdown",
      "metadata": {
        "id": "XP1EFvXb1Up4"
      },
      "source": [
        "- Load Model"
      ]
    },
    {
      "cell_type": "code",
      "metadata": {
        "colab": {
          "base_uri": "https://localhost:8080/"
        },
        "id": "IlEzPmv51aAe",
        "outputId": "0a773f68-6fde-420a-d0d4-f9a78fb8fe71"
      },
      "source": [
        "torch.save(model.state_dict(), PATH_WEIGHTS)\n",
        "\n",
        "# define model: weights are randomly initiated \n",
        "_model = Net()\n",
        "\n",
        "# state_dict from the file\n",
        "weights = torch.load(PATH_WEIGHTS)\n",
        "\n",
        "# set state_dict to the Model\n",
        "_model.load_state_dict(weights)\n",
        "\n",
        "# set model in eval mode for deployment\n",
        "_model.eval()\n",
        "\n",
        "# model model to cuda device for accelerated computation\n",
        "_model.to(device)"
      ],
      "execution_count": null,
      "outputs": [
        {
          "output_type": "execute_result",
          "data": {
            "text/plain": [
              "Net(\n",
              "  (conv1): Conv2d(1, 8, kernel_size=(5, 5), stride=(1, 1))\n",
              "  (conv2): Conv2d(8, 16, kernel_size=(5, 5), stride=(1, 1))\n",
              "  (fc1): Linear(in_features=256, out_features=100, bias=True)\n",
              "  (fc2): Linear(in_features=100, out_features=10, bias=True)\n",
              ")"
            ]
          },
          "metadata": {
            "tags": []
          },
          "execution_count": 96
        }
      ]
    },
    {
      "cell_type": "markdown",
      "metadata": {
        "id": "DDK0FBMQ21G9"
      },
      "source": [
        "- Method 2"
      ]
    },
    {
      "cell_type": "code",
      "metadata": {
        "colab": {
          "base_uri": "https://localhost:8080/"
        },
        "id": "V8mJUBGn22q4",
        "outputId": "bf37ebcb-81e4-4f29-e2d6-9645a3028846"
      },
      "source": [
        "# store model and weights into local file\n",
        "torch.save(model,PATH_WEIGHTS)\n",
        "\n",
        "# define model: weights are randomly initiated\n",
        "_model = Net()\n",
        "\n",
        "# load model and weights from local file\n",
        "_model=torch.load(PATH_WEIGHTS)\n",
        "\n",
        "# set model in eval mode for deployment\n",
        "_model.eval()\n",
        "# move model to cuda device for accelerated computation\n",
        "_model.to(device)"
      ],
      "execution_count": null,
      "outputs": [
        {
          "output_type": "execute_result",
          "data": {
            "text/plain": [
              "Net(\n",
              "  (conv1): Conv2d(1, 8, kernel_size=(5, 5), stride=(1, 1))\n",
              "  (conv2): Conv2d(8, 16, kernel_size=(5, 5), stride=(1, 1))\n",
              "  (fc1): Linear(in_features=256, out_features=100, bias=True)\n",
              "  (fc2): Linear(in_features=100, out_features=10, bias=True)\n",
              ")"
            ]
          },
          "metadata": {
            "tags": []
          },
          "execution_count": 97
        }
      ]
    },
    {
      "cell_type": "markdown",
      "metadata": {
        "id": "NGS1NPel2GDI"
      },
      "source": [
        "### Deploying the model"
      ]
    },
    {
      "cell_type": "code",
      "metadata": {
        "colab": {
          "base_uri": "https://localhost:8080/",
          "height": 318
        },
        "id": "qHzPc0jL2Hpj",
        "outputId": "6be7d41c-cd79-4264-b7cb-79049b41e67b"
      },
      "source": [
        "# x is a data point with C*H*W shape\n",
        "n=100\n",
        "x= X_val[n]\n",
        "y=y_val[n]\n",
        "print(x.shape)\n",
        "plt.imshow(x.numpy()[0],cmap=\"gray\")\n",
        "\n",
        "# we use unsqueeze to expand dimensions to 1*C*H*W\n",
        "x= x.unsqueeze(0)\n",
        "\n",
        "# convert to torch.float32\n",
        "x=x.type(torch.float)\n",
        "\n",
        "# move to cuda device\n",
        "x=x.to(device)\n",
        "\n",
        "# get model output\n",
        "output=_model(x)\n",
        "\n",
        "# get predicted class\n",
        "pred = output.argmax(dim=1, keepdim=True)\n",
        "print(\"The prediction Letter is:\", pred.item())\n",
        "print(\"The Actual Letter is:\", y.item())"
      ],
      "execution_count": null,
      "outputs": [
        {
          "output_type": "stream",
          "text": [
            "torch.Size([1, 28, 28])\n",
            "The prediction Letter is: 6\n",
            "The Actual Letter is: 6\n"
          ],
          "name": "stdout"
        },
        {
          "output_type": "display_data",
          "data": {
            "image/png": "[encoded data removed]",
            "text/plain": [
              "<Figure size 432x288 with 1 Axes>"
            ]
          },
          "metadata": {
            "tags": [],
            "needs_background": "light"
          }
        }
      ]
    },
    {
      "cell_type": "markdown",
      "metadata": {
        "id": "3m-YttWZ2S6W"
      },
      "source": [
        ""
      ]
    }
  ]
}