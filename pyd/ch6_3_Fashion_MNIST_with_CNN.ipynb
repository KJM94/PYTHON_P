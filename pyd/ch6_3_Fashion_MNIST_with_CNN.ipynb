{
  "nbformat": 4,
  "nbformat_minor": 0,
  "metadata": {
    "colab": {
      "name": "ch6_3_Fashion_MNIST_with_CNN.ipynb",
      "provenance": [],
      "collapsed_sections": [],
      "toc_visible": true,
      "include_colab_link": true
    },
    "kernelspec": {
      "name": "python3",
      "display_name": "Python 3"
    },
    "accelerator": "GPU"
  },
  "cells": [
    {
      "cell_type": "markdown",
      "metadata": {
        "id": "view-in-github",
        "colab_type": "text"
      },
      "source": [
        "<a href=\"https://colab.research.google.com/github/KJM94/pyd/blob/main/ch6_3_Fashion_MNIST_with_CNN.ipynb\" target=\"_parent\"><img src=\"https://colab.research.google.com/assets/colab-badge.svg\" alt=\"Open In Colab\"/></a>"
      ]
    },
    {
      "cell_type": "markdown",
      "metadata": {
        "id": "CztO8nHOV8_3"
      },
      "source": [
        "---\n",
        "title: \"Tensorflow 2.0 Tutorial ch6.3 - Fashion MNIST with CNN 실습\"\n",
        "date: 2020-04-21T10:08:30+09:00\n",
        "tags:\n",
        "  - \"Deep Learning\"\n",
        "  - \"Python\"\n",
        "  - \"Google Colab\"\n",
        "  - \"Tensorflow 2.0\"\n",
        "  - \"Binary Classification\"\n",
        "  - \"Classification\"\n",
        "  - \"컨볼루션 신경망\"\n",
        "  - \"Convolutional Neural Network\"\n",
        "  - \"CNN\"\n",
        "  - \"텐서플로 2.0\"\n",
        "  - \"텐서플로 2.0 튜토리얼\"\n",
        "  - \"Tensorflow 2.0 Tutorial\"\n",
        "categories:\n",
        "  - \"Deep Learning\"\n",
        "  - \"딥러닝\"\n",
        "  - \"텐서플로 2.0\"\n",
        "  - \"Python\"\n",
        "  - \"Tensorflow 2.0\"\n",
        "  - \"텐서플로 2.0 튜토리얼\"\n",
        "  - \"Tensorflow 2.0 Tutorial\"\n",
        "menu: \n",
        "  python:\n",
        "    name: Tensorflow 2.0 Tutorial ch6.3 - Fashion MNIST with CNN 실습\n",
        "---\n",
        "\n",
        "## 공지\n",
        "\n",
        "- 본 Tutorial은 교재 `시작하세요 텐서플로 2.0 프로그래밍`의 강사에게 국비교육 강의를 듣는 사람들에게 자료 제공을 목적으로 제작하였습니다. \n",
        "\n",
        "- 강사의 주관적인 판단으로 압축해서 자료를 정리하였기 때문에, 자세하게 공부를 하고 싶은 반드시 교재를 구매하실 것을 권해드립니다. \n",
        "\n",
        "![](/img/tensorflow2.0/book.jpg)<!-- -->\n",
        "\n",
        "\n",
        "- 본 교재 외에 강사가 추가한 내용에 대한 Reference를 확인하셔서, 추가적으로 학습하시는 것을 권유드립니다. \n",
        "\n",
        "\n",
        "## Tutorial\n",
        "\n",
        "이전 강의가 궁금하신 분들은 아래에서 선택하여 추가 학습 하시기를 바랍니다. \n",
        "\n",
        "- [Google Colab Tensorflow 2.0 Installation](https://chloevan.github.io/python/tensorflow2.0/googlecolab/)\n",
        "- [Tensorflow 2.0 Tutorial ch3.3.1 - 난수 생성 및 시그모이드 함수](https://chloevan.github.io/python/tensorflow2.0/ch3_3_1_random_signoid/)\n",
        "- [Tensorflow 2.0 Tutorial ch3.3.2 - 난수 생성 및 시그모이드 함수 편향성](https://chloevan.github.io/python/tensorflow2.0/ch3_3_2_random_signoid_bias/)\n",
        "- [Tensorflow 2.0 Tutorial ch3.3.3 - 첫번째 신경망 네트워크 - AND](https://chloevan.github.io/python/tensorflow2.0/ch3_3_3_network_and/)\n",
        "- [Tensorflow 2.0 Tutorial ch3.3.4 - 두번째 신경망 네트워크 - OR](https://chloevan.github.io/python/tensorflow2.0/ch3_3_4_network_or/)\n",
        "- [Tensorflow 2.0 Tutorial ch3.3.5 - 세번째 신경망 네트워크 - XOR](https://chloevan.github.io/python/tensorflow2.0/ch3_3_5_network_xor/)\n",
        "- [Tensorflow 2.0 Tutorial ch4.1 - 선형회귀](https://chloevan.github.io/python/tensorflow2.0/ch4_1_linear_regression/)\n",
        "- [Tensorflow 2.0 Tutorial ch4.2 - 다항회귀](https://chloevan.github.io/python/tensorflow2.0/ch4_2_multiple_linear_regression/)\n",
        "- [Tensorflow 2.0 Tutorial ch4.3 - 딥러닝 네트워크를 이용한 회귀](https://chloevan.github.io/python/tensorflow2.0/ch4_3_regression_with_deeplearning/)\n",
        "- [Tensorflow 2.0 Tutorial ch4.4 - 보스턴 주택 가격 데이터세트](https://chloevan.github.io/python/tensorflow2.0/ch4_4_boston_housing_deeplearning/)\n",
        "- [Tensorflow 2.0 Tutorial ch5.1 - 분류](https://chloevan.github.io/python/tensorflow2.0/ch5_1_binary_classification/)\n",
        "- [Tensorflow 2.0 Tutorial ch5.2 - 다항분류](https://chloevan.github.io/python/tensorflow2.0/ch5_2_multi_classification/)\n",
        "- [Tensorflow 2.0 Tutorial ch5.3 - Fashion MNIST](https://chloevan.github.io/python/tensorflow2.0/ch5_3_fashion_mnist/)\n",
        "- [Tensorflow 2.0 Tutorial ch6.1-2 - CNN 이론](https://chloevan.github.io/python/tensorflow2.0/ch6_1_2_cnn_theory/)\n",
        "\n",
        "\n",
        "## I. 개요\n",
        "\n",
        "이번 장은 앞에서 이론만 설명했기 때문에 이번에는 실습 위주로 진행합니다. 컨볼루션 레이어와 풀링 레이어, 드롭아웃을 사용해서 분류 문제를 푸는데 어떻게 해야 성능이 개선 되는지 알아봅니다. \n",
        "\n",
        "## II. 데이터 불러오기 및 정규화\n",
        "[5장](https://chloevan.github.io/python/tensorflow2.0/ch5_3_fashion_mnist/)에서 배운 내용을 근거로 데이터를 불러오고 정규화를 진행합니다.  "
      ]
    },
    {
      "cell_type": "code",
      "metadata": {
        "id": "fZLhxn1EXwxR",
        "colab": {
          "base_uri": "https://localhost:8080/"
        },
        "outputId": "40f1fff9-c807-438d-9e40-70c4711a4a6e"
      },
      "source": [
        "import tensorflow as tf\n",
        "fashion_mnist = tf.keras.datasets.fashion_mnist\n",
        "(train_X, train_Y), (test_X, test_Y) = fashion_mnist.load_data()\n",
        "\n",
        "train_X = train_X / 255.0\n",
        "test_X = test_X / 255.0"
      ],
      "execution_count": null,
      "outputs": [
        {
          "output_type": "stream",
          "text": [
            "Downloading data from https://storage.googleapis.com/tensorflow/tf-keras-datasets/train-labels-idx1-ubyte.gz\n",
            "32768/29515 [=================================] - 0s 0us/step\n",
            "Downloading data from https://storage.googleapis.com/tensorflow/tf-keras-datasets/train-images-idx3-ubyte.gz\n",
            "26427392/26421880 [==============================] - 0s 0us/step\n",
            "Downloading data from https://storage.googleapis.com/tensorflow/tf-keras-datasets/t10k-labels-idx1-ubyte.gz\n",
            "8192/5148 [===============================================] - 0s 0us/step\n",
            "Downloading data from https://storage.googleapis.com/tensorflow/tf-keras-datasets/t10k-images-idx3-ubyte.gz\n",
            "4423680/4422102 [==============================] - 0s 0us/step\n"
          ],
          "name": "stdout"
        }
      ]
    },
    {
      "cell_type": "markdown",
      "metadata": {
        "id": "k2zwZ5pMa0d7"
      },
      "source": [
        "그런데, 6장에서는 `Conv2D`레이어로 컨볼루션 연산을 수행해야 합니다. 이미지는 보통 채널을 가지고 있고(컬러 이미지는 `RGB`의 3채널, 흑백 이미지는 1채널), `Conv2D`레이어는 채널을 가진 형태의 데이터를 받도록 기본적으로 설정되어 있기 때문에 예제 6.5에서는 채널을 갖도록 데이터의 `Shape`를 바꿔줍니다. \n",
        "\n"
      ]
    },
    {
      "cell_type": "code",
      "metadata": {
        "id": "zo6ZUdjFbgMM",
        "colab": {
          "base_uri": "https://localhost:8080/"
        },
        "outputId": "1d0c8ef0-ccc6-4c89-80a5-e5a7f058ce91"
      },
      "source": [
        "# reshape 이전\n",
        "print(train_X.shape, test_X.shape)\n",
        "\n",
        "train_X = train_X.reshape(-1, 28, 28, 1)\n",
        "test_X = test_X.reshape(-1, 28, 28, 1)\n",
        "\n",
        "# reshape 이후\n",
        "print(train_X.shape, test_X.shape)"
      ],
      "execution_count": null,
      "outputs": [
        {
          "output_type": "stream",
          "text": [
            "(60000, 28, 28) (10000, 28, 28)\n",
            "(60000, 28, 28, 1) (10000, 28, 28, 1)\n"
          ],
          "name": "stdout"
        }
      ]
    },
    {
      "cell_type": "markdown",
      "metadata": {
        "id": "CpRvLlCDb3No"
      },
      "source": [
        "`Fashion MNIST`데이터를 구성하는 흑백 이미지는 1개의 채널을 갖기 때문에 `reshape()` 함수를 사용해 데이터의 가장 뒤쪽에 채널 차원을 추가합니다. 이 작업으로 데이터 수는 달라지지는 않습니다. \n",
        "\n",
        "데이터를 확인하는 시각화를 진행합니다. "
      ]
    },
    {
      "cell_type": "code",
      "metadata": {
        "id": "JSaBSGgScLlt",
        "colab": {
          "base_uri": "https://localhost:8080/",
          "height": 611
        },
        "outputId": "c2351a7f-a744-41a7-a683-fe3175df4931"
      },
      "source": [
        "import matplotlib.pyplot as plt\n",
        "\n",
        "# 전체 그래프의 크기를 width = 10, height = 10으로 지정합니다. \n",
        "plt.figure(figsize=(10, 10))\n",
        "for c in range(16): \n",
        "  # 4행 4열로 지정한 그리드에서 c+1번째의 칸에 그래프를 그립니다. 1~16번째 칸을 채우게 됩니다. \n",
        "  plt.subplot(4,4,c+1)\n",
        "  plt.imshow(train_X[c].reshape(28,28), cmap='gray')\n",
        "\n",
        "plt.show()\n",
        "\n",
        "# 훈련 데이터이 1~16번째 까지의 라벨 프린트합니다. \n",
        "print(train_Y[:16])"
      ],
      "execution_count": null,
      "outputs": [
        {
          "output_type": "display_data",
          "data": {
            "image/png": "[encoded data removed]",
            "text/plain": [
              "<Figure size 720x720 with 16 Axes>"
            ]
          },
          "metadata": {
            "tags": [],
            "needs_background": "light"
          }
        },
        {
          "output_type": "stream",
          "text": [
            "[9 0 0 3 0 2 7 2 5 5 0 9 5 5 7 9]\n"
          ],
          "name": "stdout"
        }
      ]
    },
    {
      "cell_type": "markdown",
      "metadata": {
        "id": "hLwv0tJidGCK"
      },
      "source": [
        "라벨의 정의는 아래와 같습니다.\n",
        "\n",
        "| 라벨 \t| 범주 \t|\n",
        "|:----:\t|:-----------:\t|\n",
        "| 0 \t| 티셔츠/상의 \t|\n",
        "| 1 \t| 바지 \t|\n",
        "| 2 \t| 스웨터 \t|\n",
        "| 3 \t| 드레스 \t|\n",
        "| 4 \t| 코트 \t|\n",
        "| 5 \t| 샌들 \t|\n",
        "| 6 \t| 셔츠 \t|\n",
        "| 7 \t| 운동화 \t|\n",
        "| 8 \t| 가방 \t|\n",
        "| 9 \t| 부츠 \t|\n",
        "\n",
        "라벨의 정의와 비교해보면, 라벨이 잘 분류되어 있는 것을 확인할 수 있습니다. 이제 모델을 생성합니다. \n",
        "\n",
        "## III. 딥러닝 모델 생성\n",
        "\n",
        "### (1) 컨볼루션 신경망 모델 정의\n",
        "컨볼루션 신경망 모델 정의는 풀링 레이어 또는 드롭아웃 없이 정의된 모델을 말합니다. \n"
      ]
    },
    {
      "cell_type": "code",
      "metadata": {
        "id": "HWayCg-weYMx",
        "colab": {
          "base_uri": "https://localhost:8080/"
        },
        "outputId": "b7bf2dcc-5273-4d53-eac4-e624d60e7596"
      },
      "source": [
        "model = tf.keras.Sequential([\n",
        "  tf.keras.layers.Conv2D(input_shape=(28,28,1), kernel_size=(3,3), filters=16),\n",
        "  tf.keras.layers.Conv2D(kernel_size=(3,3), filters=32), \n",
        "  tf.keras.layers.Conv2D(kernel_size=(3,3), filters=64), \n",
        "  tf.keras.layers.Flatten(), # 완전연결\n",
        "  tf.keras.layers.Dense(units=128, activation='relu'), \n",
        "  tf.keras.layers.Dense(units=10, activation='softmax')                             \n",
        "])\n",
        "\n",
        "model.compile(optimizer=tf.keras.optimizers.Adam(), \n",
        "              loss='sparse_categorical_crossentropy', \n",
        "              metrics=['accuracy'])\n",
        "\n",
        "model.summary()"
      ],
      "execution_count": null,
      "outputs": [
        {
          "output_type": "stream",
          "text": [
            "Model: \"sequential_1\"\n",
            "_________________________________________________________________\n",
            "Layer (type)                 Output Shape              Param #   \n",
            "=================================================================\n",
            "conv2d_3 (Conv2D)            (None, 26, 26, 16)        160       \n",
            "_________________________________________________________________\n",
            "conv2d_4 (Conv2D)            (None, 24, 24, 32)        4640      \n",
            "_________________________________________________________________\n",
            "conv2d_5 (Conv2D)            (None, 22, 22, 64)        18496     \n",
            "_________________________________________________________________\n",
            "flatten_1 (Flatten)          (None, 30976)             0         \n",
            "_________________________________________________________________\n",
            "dense_2 (Dense)              (None, 128)               3965056   \n",
            "_________________________________________________________________\n",
            "dense_3 (Dense)              (None, 10)                1290      \n",
            "=================================================================\n",
            "Total params: 3,989,642\n",
            "Trainable params: 3,989,642\n",
            "Non-trainable params: 0\n",
            "_________________________________________________________________\n"
          ],
          "name": "stdout"
        }
      ]
    },
    {
      "cell_type": "markdown",
      "metadata": {
        "id": "b2tYalClgElM"
      },
      "source": [
        "`Conv2D`의 인수에 대해 정리하도록 합니다. \n",
        "- `kernel_size`: 필터 행렬의 크기를 말하며, 수용 영역(receptive filed)이라고 불리워집니다. 앞의 숫자는 높이, 뒤의 숫자는 너비이고, 숫자를 하나만 쓸 경우 높이와 너비를 동일한 값으로 사용한다는 뜻입니다.[^1]\n",
        "- `filters`: 필터의 개수를 의미하며, 네트워크가 깊어질수록 2배씩 늘려나갑니다. \n",
        "\n",
        "[^1]: 이 부분은 교재 p. 145~147에 이미지로 설명이 잘 되어 있으니 참고하기를 바랍니다. "
      ]
    },
    {
      "cell_type": "code",
      "metadata": {
        "id": "sOkwnjjfhPN9",
        "colab": {
          "base_uri": "https://localhost:8080/"
        },
        "outputId": "6ddb7288-cc6d-462e-96c1-36bce17476bb"
      },
      "source": [
        "!nvidia-smi"
      ],
      "execution_count": null,
      "outputs": [
        {
          "output_type": "stream",
          "text": [
            "Mon May 31 02:36:53 2021       \n",
            "+-----------------------------------------------------------------------------+\n",
            "| NVIDIA-SMI 465.19.01    Driver Version: 460.32.03    CUDA Version: 11.2     |\n",
            "|-------------------------------+----------------------+----------------------+\n",
            "| GPU  Name        Persistence-M| Bus-Id        Disp.A | Volatile Uncorr. ECC |\n",
            "| Fan  Temp  Perf  Pwr:Usage/Cap|         Memory-Usage | GPU-Util  Compute M. |\n",
            "|                               |                      |               MIG M. |\n",
            "|===============================+======================+======================|\n",
            "|   0  Tesla T4            Off  | 00000000:00:04.0 Off |                    0 |\n",
            "| N/A   49C    P0    28W /  70W |    292MiB / 15109MiB |      0%      Default |\n",
            "|                               |                      |                  N/A |\n",
            "+-------------------------------+----------------------+----------------------+\n",
            "                                                                               \n",
            "+-----------------------------------------------------------------------------+\n",
            "| Processes:                                                                  |\n",
            "|  GPU   GI   CI        PID   Type   Process name                  GPU Memory |\n",
            "|        ID   ID                                                   Usage      |\n",
            "|=============================================================================|\n",
            "+-----------------------------------------------------------------------------+\n"
          ],
          "name": "stdout"
        }
      ]
    },
    {
      "cell_type": "markdown",
      "metadata": {
        "id": "209GX76Mhbuy"
      },
      "source": [
        "위 명령어는 현재 구글 코랩에서 지원하는 GPU의 성능입니다. `Tesla K80`을 사용하고 있습니다. \n",
        "\n",
        "구글 코랩에서는 무료로 GPU를 사용할 수 있도록 도와줍니다. 하드웨어 가속기를 사용하려면 [메뉴]-[런타임]-[런타임 유형 변경]-[하드웨어 가속기]-[GPU]로 지정하면 됩니다. \n",
        "\n",
        "## (2) 컨볼루션 신경망 모델 학습\n",
        "\n",
        "신경망 모형을 학습하는데, 시간이 조금 소요되니 참고바란다. (약 10분)"
      ]
    },
    {
      "cell_type": "code",
      "metadata": {
        "id": "36zXlsuOiKXm",
        "colab": {
          "base_uri": "https://localhost:8080/"
        },
        "outputId": "62946dd1-bcda-4219-9421-d4f2da1433ec"
      },
      "source": [
        "history = model.fit(train_X, train_Y, epochs=25, validation_split=0.25)"
      ],
      "execution_count": null,
      "outputs": [
        {
          "output_type": "stream",
          "text": [
            "Epoch 1/25\n",
            "1407/1407 [==============================] - 38s 5ms/step - loss: 0.4718 - accuracy: 0.8302 - val_loss: 0.3918 - val_accuracy: 0.8591\n",
            "Epoch 2/25\n",
            "1407/1407 [==============================] - 7s 5ms/step - loss: 0.3383 - accuracy: 0.8767 - val_loss: 0.3805 - val_accuracy: 0.8671\n",
            "Epoch 3/25\n",
            "1407/1407 [==============================] - 7s 5ms/step - loss: 0.2887 - accuracy: 0.8942 - val_loss: 0.3710 - val_accuracy: 0.8703\n",
            "Epoch 4/25\n",
            "1407/1407 [==============================] - 7s 5ms/step - loss: 0.2443 - accuracy: 0.9099 - val_loss: 0.4030 - val_accuracy: 0.8677\n",
            "Epoch 5/25\n",
            "1407/1407 [==============================] - 7s 5ms/step - loss: 0.2145 - accuracy: 0.9212 - val_loss: 0.4138 - val_accuracy: 0.8697\n",
            "Epoch 6/25\n",
            "1407/1407 [==============================] - 7s 5ms/step - loss: 0.1877 - accuracy: 0.9295 - val_loss: 0.4396 - val_accuracy: 0.8728\n",
            "Epoch 7/25\n",
            "1407/1407 [==============================] - 7s 5ms/step - loss: 0.1629 - accuracy: 0.9405 - val_loss: 0.4712 - val_accuracy: 0.8679\n",
            "Epoch 8/25\n",
            "1407/1407 [==============================] - 7s 5ms/step - loss: 0.1520 - accuracy: 0.9442 - val_loss: 0.5140 - val_accuracy: 0.8691\n",
            "Epoch 9/25\n",
            "1407/1407 [==============================] - 7s 5ms/step - loss: 0.1395 - accuracy: 0.9504 - val_loss: 0.5767 - val_accuracy: 0.8681\n",
            "Epoch 10/25\n",
            "1407/1407 [==============================] - 7s 5ms/step - loss: 0.1208 - accuracy: 0.9557 - val_loss: 0.6097 - val_accuracy: 0.8683\n",
            "Epoch 11/25\n",
            "1407/1407 [==============================] - 7s 5ms/step - loss: 0.1160 - accuracy: 0.9588 - val_loss: 0.6504 - val_accuracy: 0.8609\n",
            "Epoch 12/25\n",
            "1407/1407 [==============================] - 7s 5ms/step - loss: 0.1074 - accuracy: 0.9615 - val_loss: 0.7369 - val_accuracy: 0.8640\n",
            "Epoch 13/25\n",
            "1407/1407 [==============================] - 7s 5ms/step - loss: 0.1017 - accuracy: 0.9637 - val_loss: 0.6538 - val_accuracy: 0.8653\n",
            "Epoch 14/25\n",
            "1407/1407 [==============================] - 7s 5ms/step - loss: 0.0943 - accuracy: 0.9659 - val_loss: 0.7806 - val_accuracy: 0.8584\n",
            "Epoch 15/25\n",
            "1407/1407 [==============================] - 7s 5ms/step - loss: 0.0899 - accuracy: 0.9683 - val_loss: 0.8373 - val_accuracy: 0.8594\n",
            "Epoch 16/25\n",
            "1407/1407 [==============================] - 7s 5ms/step - loss: 0.0901 - accuracy: 0.9695 - val_loss: 0.9147 - val_accuracy: 0.8617\n",
            "Epoch 17/25\n",
            "1407/1407 [==============================] - 7s 5ms/step - loss: 0.0848 - accuracy: 0.9700 - val_loss: 1.0254 - val_accuracy: 0.8649\n",
            "Epoch 18/25\n",
            "1407/1407 [==============================] - 7s 5ms/step - loss: 0.0776 - accuracy: 0.9731 - val_loss: 1.0074 - val_accuracy: 0.8600\n",
            "Epoch 19/25\n",
            "1407/1407 [==============================] - 7s 5ms/step - loss: 0.0830 - accuracy: 0.9710 - val_loss: 0.9755 - val_accuracy: 0.8585\n",
            "Epoch 20/25\n",
            "1407/1407 [==============================] - 7s 5ms/step - loss: 0.0692 - accuracy: 0.9770 - val_loss: 1.0538 - val_accuracy: 0.8599\n",
            "Epoch 21/25\n",
            "1407/1407 [==============================] - 7s 5ms/step - loss: 0.0697 - accuracy: 0.9762 - val_loss: 1.0088 - val_accuracy: 0.8601\n",
            "Epoch 22/25\n",
            "1407/1407 [==============================] - 7s 5ms/step - loss: 0.0793 - accuracy: 0.9752 - val_loss: 1.0702 - val_accuracy: 0.8584\n",
            "Epoch 23/25\n",
            "1407/1407 [==============================] - 7s 5ms/step - loss: 0.0601 - accuracy: 0.9798 - val_loss: 1.0870 - val_accuracy: 0.8580\n",
            "Epoch 24/25\n",
            "1407/1407 [==============================] - 7s 5ms/step - loss: 0.0736 - accuracy: 0.9768 - val_loss: 1.3085 - val_accuracy: 0.8573\n",
            "Epoch 25/25\n",
            "1407/1407 [==============================] - 7s 5ms/step - loss: 0.0594 - accuracy: 0.9802 - val_loss: 1.2217 - val_accuracy: 0.8651\n"
          ],
          "name": "stdout"
        }
      ]
    },
    {
      "cell_type": "markdown",
      "metadata": {
        "id": "bI7yFRNMmLSO"
      },
      "source": [
        "이렇게 생성된 모형은 시각화로 다시 확인한다. "
      ]
    },
    {
      "cell_type": "code",
      "metadata": {
        "id": "aRds0XV6mb1r",
        "colab": {
          "base_uri": "https://localhost:8080/",
          "height": 301
        },
        "outputId": "0416962b-5f89-4e25-d45a-9d5b777d252a"
      },
      "source": [
        "import matplotlib.pyplot as plt\n",
        "plt.figure(figsize=(12, 4))\n",
        "\n",
        "plt.subplot(1,2,1)\n",
        "plt.plot(history.history['loss'], 'b-', label='loss')\n",
        "plt.plot(history.history['val_loss'], 'r--', label='val_loss')\n",
        "plt.xlabel('Epoch')\n",
        "plt.legend()\n",
        "\n",
        "plt.subplot(1,2,2)\n",
        "plt.plot(history.history['accuracy'], 'g-', label='accuracy')\n",
        "plt.plot(history.history['val_accuracy'], 'r--', label='val_accuracy')\n",
        "plt.xlabel('Epoch')\n",
        "plt.ylim(0.7, 1)\n",
        "plt.legend()\n",
        "\n",
        "plt.show()\n",
        "\n",
        "model.evaluate(test_X, test_Y, verbose=0)"
      ],
      "execution_count": null,
      "outputs": [
        {
          "output_type": "display_data",
          "data": {
            "image/png": "[encoded data removed]",
            "text/plain": [
              "<Figure size 864x288 with 2 Axes>"
            ]
          },
          "metadata": {
            "tags": [],
            "needs_background": "light"
          }
        },
        {
          "output_type": "execute_result",
          "data": {
            "text/plain": [
              "[1.3290232419967651, 0.8592000007629395]"
            ]
          },
          "metadata": {
            "tags": []
          },
          "execution_count": 8
        }
      ]
    },
    {
      "cell_type": "markdown",
      "metadata": {
        "id": "2CQFsa0_m7QS"
      },
      "source": [
        "왼쪽 그래프를 확인하면, `loss`는 감소하고, 대신 `var_loss`는 증가하는 전형적인 과적합의 형태를 나타냅니다. 이럴경우 모형에도 악영향이 있어서, 오히려 단순 딥러닝 모형의 성과가 더 좋은 것을 확인할 수 있습니다. \n",
        "\n",
        "- 테스트 데이터의 85.21% Vs. 5.3장의 Dense Layer 88.5%\n",
        "\n",
        "즉, 컨볼루션 레이어만 사용할 경우, 오히려 성능이 더 좋지 않은 것을 확인할 수 있었습니다. 이제 성능을 개선해봅니다. \n",
        "\n",
        "### (3) 풀링 레이어, 드롭아웃 레이어 추가 (약 10분)\n"
      ]
    },
    {
      "cell_type": "code",
      "metadata": {
        "id": "Wcwh_EF3oLlL",
        "colab": {
          "base_uri": "https://localhost:8080/"
        },
        "outputId": "dab70a60-ba77-4a72-f09d-eb0bced88f35"
      },
      "source": [
        "model = tf.keras.Sequential([\n",
        "  tf.keras.layers.Conv2D(input_shape=(28,28,1), kernel_size=(3,3), filters=32), \n",
        "  tf.keras.layers.MaxPool2D(strides=(2,2)), \n",
        "  tf.keras.layers.Conv2D(kernel_size=(3,3), filters=64), \n",
        "  tf.keras.layers.MaxPool2D(strides=(2,2)), \n",
        "  tf.keras.layers.Conv2D(kernel_size=(3,3), filters=128), \n",
        "  tf.keras.layers.Flatten(), \n",
        "  tf.keras.layers.Dense(units=128, activation='relu'), \n",
        "  tf.keras.layers.Dropout(rate=0.3),\n",
        "  tf.keras.layers.Dense(units=10, activation='softmax')                             \n",
        "])\n",
        "\n",
        "model.compile(optimizer=tf.keras.optimizers.Adam(), \n",
        "              loss='sparse_categorical_crossentropy', \n",
        "              metrics=['accuracy'])\n",
        "\n",
        "model.summary()"
      ],
      "execution_count": null,
      "outputs": [
        {
          "output_type": "stream",
          "text": [
            "Model: \"sequential_2\"\n",
            "_________________________________________________________________\n",
            "Layer (type)                 Output Shape              Param #   \n",
            "=================================================================\n",
            "conv2d_6 (Conv2D)            (None, 26, 26, 32)        320       \n",
            "_________________________________________________________________\n",
            "max_pooling2d_2 (MaxPooling2 (None, 13, 13, 32)        0         \n",
            "_________________________________________________________________\n",
            "conv2d_7 (Conv2D)            (None, 11, 11, 64)        18496     \n",
            "_________________________________________________________________\n",
            "max_pooling2d_3 (MaxPooling2 (None, 5, 5, 64)          0         \n",
            "_________________________________________________________________\n",
            "conv2d_8 (Conv2D)            (None, 3, 3, 128)         73856     \n",
            "_________________________________________________________________\n",
            "flatten_2 (Flatten)          (None, 1152)              0         \n",
            "_________________________________________________________________\n",
            "dense_4 (Dense)              (None, 128)               147584    \n",
            "_________________________________________________________________\n",
            "dropout_1 (Dropout)          (None, 128)               0         \n",
            "_________________________________________________________________\n",
            "dense_5 (Dense)              (None, 10)                1290      \n",
            "=================================================================\n",
            "Total params: 241,546\n",
            "Trainable params: 241,546\n",
            "Non-trainable params: 0\n",
            "_________________________________________________________________\n"
          ],
          "name": "stdout"
        }
      ]
    },
    {
      "cell_type": "markdown",
      "metadata": {
        "id": "JBQVLMu3oh1J"
      },
      "source": [
        "이번에 추가된 인수는 `MaxPool2D(strides=(2,2)`)와 `Dropout(rate=0.3)`입니다. \n",
        "- strides: 필터가 계산 과정에서 한 스텝마다 이동하는 크기입니다. 기본값은 (1,1)이고, (2,2) 등으로 설정할 경우 한 칸씩 건너뛰면서 계산하게 되니다. strides=1일 때와 2일 때의 결과 이미지의 크기에 영향을 줍니다. \n",
        "- rate: 제외할 뉴런의 비율을 나타냅니다. \n",
        "\n",
        "여기서 확인해야 하는 개수 `Param`의 개수입니다. \n",
        "\n",
        "기존 `3,989,642`에서 `241,546`으로 대폭 줄어든 것을 확인할 수 있습니다. 이는 `Flatten`에 들어오는 `Params`의 개수가 기존 `(None, 30976)`에 비해 `(None, 1152)`에 비해 크게 줄어들었기 때문입니다. \n",
        "\n",
        "다시한번, 풀링 레이어와 드롭아웃 레어는 모두 과적합을 줄이는 데 기여합니다. "
      ]
    },
    {
      "cell_type": "code",
      "metadata": {
        "id": "T16aiobUqVjV",
        "colab": {
          "base_uri": "https://localhost:8080/"
        },
        "outputId": "a4e4e410-328b-46db-b651-0fd0db1f040c"
      },
      "source": [
        "%%time\n",
        "history = model.fit(train_X, train_Y, epochs=25, validation_split=0.25)"
      ],
      "execution_count": null,
      "outputs": [
        {
          "output_type": "stream",
          "text": [
            "Epoch 1/25\n",
            "1407/1407 [==============================] - 7s 4ms/step - loss: 0.5188 - accuracy: 0.8131 - val_loss: 0.3684 - val_accuracy: 0.8653\n",
            "Epoch 2/25\n",
            "1407/1407 [==============================] - 5s 4ms/step - loss: 0.3547 - accuracy: 0.8724 - val_loss: 0.3195 - val_accuracy: 0.8849\n",
            "Epoch 3/25\n",
            "1407/1407 [==============================] - 5s 4ms/step - loss: 0.3121 - accuracy: 0.8866 - val_loss: 0.3240 - val_accuracy: 0.8833\n",
            "Epoch 4/25\n",
            "1407/1407 [==============================] - 5s 4ms/step - loss: 0.2890 - accuracy: 0.8943 - val_loss: 0.3083 - val_accuracy: 0.8875\n",
            "Epoch 5/25\n",
            "1407/1407 [==============================] - 5s 4ms/step - loss: 0.2655 - accuracy: 0.9029 - val_loss: 0.3119 - val_accuracy: 0.8887\n",
            "Epoch 6/25\n",
            "1407/1407 [==============================] - 5s 4ms/step - loss: 0.2501 - accuracy: 0.9076 - val_loss: 0.3096 - val_accuracy: 0.8919\n",
            "Epoch 7/25\n",
            "1407/1407 [==============================] - 5s 4ms/step - loss: 0.2309 - accuracy: 0.9132 - val_loss: 0.3134 - val_accuracy: 0.8950\n",
            "Epoch 8/25\n",
            "1407/1407 [==============================] - 5s 4ms/step - loss: 0.2190 - accuracy: 0.9192 - val_loss: 0.3354 - val_accuracy: 0.8929\n",
            "Epoch 9/25\n",
            "1407/1407 [==============================] - 5s 4ms/step - loss: 0.2098 - accuracy: 0.9217 - val_loss: 0.3469 - val_accuracy: 0.8845\n",
            "Epoch 10/25\n",
            "1407/1407 [==============================] - 5s 4ms/step - loss: 0.1999 - accuracy: 0.9261 - val_loss: 0.3123 - val_accuracy: 0.8961\n",
            "Epoch 11/25\n",
            "1407/1407 [==============================] - 5s 4ms/step - loss: 0.1908 - accuracy: 0.9296 - val_loss: 0.3493 - val_accuracy: 0.8963\n",
            "Epoch 12/25\n",
            "1407/1407 [==============================] - 5s 4ms/step - loss: 0.1824 - accuracy: 0.9332 - val_loss: 0.3544 - val_accuracy: 0.8985\n",
            "Epoch 13/25\n",
            "1407/1407 [==============================] - 5s 4ms/step - loss: 0.1806 - accuracy: 0.9329 - val_loss: 0.3514 - val_accuracy: 0.8980\n",
            "Epoch 14/25\n",
            "1407/1407 [==============================] - 5s 4ms/step - loss: 0.1704 - accuracy: 0.9359 - val_loss: 0.3503 - val_accuracy: 0.8969\n",
            "Epoch 15/25\n",
            "1407/1407 [==============================] - 5s 4ms/step - loss: 0.1651 - accuracy: 0.9382 - val_loss: 0.3272 - val_accuracy: 0.8990\n",
            "Epoch 16/25\n",
            "1407/1407 [==============================] - 5s 4ms/step - loss: 0.1573 - accuracy: 0.9416 - val_loss: 0.3781 - val_accuracy: 0.8979\n",
            "Epoch 17/25\n",
            "1407/1407 [==============================] - 5s 4ms/step - loss: 0.1521 - accuracy: 0.9416 - val_loss: 0.4011 - val_accuracy: 0.8969\n",
            "Epoch 18/25\n",
            "1407/1407 [==============================] - 6s 4ms/step - loss: 0.1485 - accuracy: 0.9437 - val_loss: 0.4338 - val_accuracy: 0.8953\n",
            "Epoch 19/25\n",
            "1407/1407 [==============================] - 5s 4ms/step - loss: 0.1456 - accuracy: 0.9460 - val_loss: 0.4375 - val_accuracy: 0.8873\n",
            "Epoch 20/25\n",
            "1407/1407 [==============================] - 5s 4ms/step - loss: 0.1439 - accuracy: 0.9468 - val_loss: 0.3810 - val_accuracy: 0.9007\n",
            "Epoch 21/25\n",
            "1407/1407 [==============================] - 5s 4ms/step - loss: 0.1370 - accuracy: 0.9493 - val_loss: 0.3999 - val_accuracy: 0.8973\n",
            "Epoch 22/25\n",
            "1407/1407 [==============================] - 5s 4ms/step - loss: 0.1408 - accuracy: 0.9480 - val_loss: 0.4231 - val_accuracy: 0.8988\n",
            "Epoch 23/25\n",
            "1407/1407 [==============================] - 5s 4ms/step - loss: 0.1354 - accuracy: 0.9489 - val_loss: 0.4343 - val_accuracy: 0.8891\n",
            "Epoch 24/25\n",
            "1407/1407 [==============================] - 5s 4ms/step - loss: 0.1337 - accuracy: 0.9521 - val_loss: 0.4226 - val_accuracy: 0.8981\n",
            "Epoch 25/25\n",
            "1407/1407 [==============================] - 5s 4ms/step - loss: 0.1241 - accuracy: 0.9541 - val_loss: 0.4419 - val_accuracy: 0.8945\n",
            "CPU times: user 2min 38s, sys: 12.6 s, total: 2min 51s\n",
            "Wall time: 2min 13s\n"
          ],
          "name": "stdout"
        }
      ]
    },
    {
      "cell_type": "code",
      "metadata": {
        "id": "mSJpHIgSqrzJ",
        "colab": {
          "base_uri": "https://localhost:8080/",
          "height": 300
        },
        "outputId": "a4e0f39c-7d5f-47e7-a0dc-028a55dfec6b"
      },
      "source": [
        "import matplotlib.pyplot as plt\n",
        "plt.figure(figsize=(12, 4))\n",
        "\n",
        "plt.subplot(1,2,1)\n",
        "plt.plot(history.history['loss'], 'b-', label='loss')\n",
        "plt.plot(history.history['val_loss'], 'r--', label='val_loss')\n",
        "plt.xlabel('Epoch')\n",
        "plt.legend()\n",
        "\n",
        "plt.subplot(1,2,2)\n",
        "plt.plot(history.history['accuracy'], 'g-', label='accuracy')\n",
        "plt.plot(history.history['val_accuracy'], 'r--', label='val_accuracy')\n",
        "plt.xlabel('Epoch')\n",
        "plt.ylim(0.7, 1)\n",
        "plt.legend()\n",
        "\n",
        "plt.show()\n",
        "\n",
        "model.evaluate(test_X, test_Y, verbose=0)"
      ],
      "execution_count": null,
      "outputs": [
        {
          "output_type": "display_data",
          "data": {
            "image/png": "[encoded data removed]",
            "text/plain": [
              "<Figure size 864x288 with 2 Axes>"
            ]
          },
          "metadata": {
            "tags": [],
            "needs_background": "light"
          }
        },
        {
          "output_type": "execute_result",
          "data": {
            "text/plain": [
              "[0.45335546135902405, 0.8939999938011169]"
            ]
          },
          "metadata": {
            "tags": []
          },
          "execution_count": 10
        }
      ]
    },
    {
      "cell_type": "markdown",
      "metadata": {
        "id": "vsrBCPqgrAOd"
      },
      "source": [
        "var_loss는 여전히 증가하지만, `val_accuracy`는 일정한 수준에 머무르고 있습니다. 분류 성적도 `89.06%`로 약 `0.4%` 높은 수치가 나옵니다 (종전: `88.77%`). 그러나, 확실히 컨볼루션 레이어만 활용했을 때 보다는 확실히 좋은 결과가 나온 것을 확인할 수 있습니다. \n",
        "\n",
        "이보다 더 좋은 성과를 낼 수 있습니다. Fashion MNIST의 공식 깃허브 저장소에는 테스트 데이터 분류 성적이 95% 이상을 달성한 방법들도 존재합니다. [^2]\n",
        "\n",
        "## IV. 연습 파일\n",
        "- [구글 Colab에서 직접 연습해보자](https://colab.research.google.com/github/chloevan/deeplearningAI/blob/master/tensorflow2.0/ch6_3_Fashion_MNIST_with_CNN.ipynb) \n",
        "\n",
        "## V. Reference\n",
        "\n",
        "김환희. (2020). 시작하세요! 텐서플로 2.0 프로그래밍: 기초 이론부터 실전 예제까지 한번에 끝내는 머신러닝, 딥러닝 핵심 가이드. 서울: 위키북스.\n",
        "\n",
        "\n",
        "[^2]: https://github.com/zalandoresearch/fashion-mnist#benchmark 파이썬 실력이 되시는 분들은 95%이상의 성능을 보유한 Repo에 있는 코드를 직접 가져와 응용하는 것도 큰 도움이 될 수 있습니다. "
      ]
    }
  ]
}