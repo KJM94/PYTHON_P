{
  "nbformat": 4,
  "nbformat_minor": 0,
  "metadata": {
    "colab": {
      "name": "ch3_1_get_started.ipynb",
      "provenance": [],
      "collapsed_sections": [],
      "include_colab_link": true
    },
    "kernelspec": {
      "name": "python3",
      "display_name": "Python 3"
    },
    "accelerator": "GPU"
  },
  "cells": [
    {
      "cell_type": "markdown",
      "metadata": {
        "id": "view-in-github",
        "colab_type": "text"
      },
      "source": [
        "<a href=\"https://colab.research.google.com/github/KJM94/pyd/blob/main/ch3_1_get_started.ipynb\" target=\"_parent\"><img src=\"https://colab.research.google.com/assets/colab-badge.svg\" alt=\"Open In Colab\"/></a>"
      ]
    },
    {
      "cell_type": "markdown",
      "metadata": {
        "id": "NXBJXqjWuevS"
      },
      "source": [
        "## 1. Hello World 출력하기\n",
        "Hello World는 화면에 \"Hello, World!\"를 출력하는 프로그램이다. 정상적으로 프로그램이 작동하는지 확인하기 위한 과정으로 이해하면 좋다. 빠르게 확인해보자. "
      ]
    },
    {
      "cell_type": "code",
      "metadata": {
        "id": "PjTLd-DruTvu",
        "colab": {
          "base_uri": "https://localhost:8080/"
        },
        "outputId": "78fba0ef-e79e-4906-cadc-4174b793f441"
      },
      "source": [
        "# 1. Hello World 출력하기\n",
        "print(\"Hello, World!\")"
      ],
      "execution_count": null,
      "outputs": [
        {
          "output_type": "stream",
          "text": [
            "Hello, World!\n"
          ],
          "name": "stdout"
        }
      ]
    },
    {
      "cell_type": "markdown",
      "metadata": {
        "id": "Fh-g2cFFudqr"
      },
      "source": [
        "## 2. Hello 텐서플로 2.0 출력하기\n",
        "텐서플로 `1.xx` 버전과 `2.0` 버전의 차이는 매우 크기 때문에, 꼭 버전 확인하는 것이 중요하다. 만약 로컬에서 텐서플로를 구현한다면, 반드시 버전 확인을 해야 한다. 구글 코랩에서는 아래와 같은 명령어로 `tensorflow 2.0`을 설치할 수 있다. \n"
      ]
    },
    {
      "cell_type": "code",
      "metadata": {
        "id": "FG57RlBvzlNP",
        "colab": {
          "base_uri": "https://localhost:8080/"
        },
        "outputId": "9761b66f-1fa7-418e-cefd-1261152c9eeb"
      },
      "source": [
        "try:\n",
        "  # %tensorflow_version only exists in Colab\n",
        "  %tensorflow_version 2.2\n",
        "except Exception:\n",
        "  pass\n",
        "import tensorflow as tf"
      ],
      "execution_count": null,
      "outputs": [
        {
          "output_type": "stream",
          "text": [
            "`%tensorflow_version` only switches the major version: 1.x or 2.x.\n",
            "You set: `2.2`. This will be interpreted as: `2.x`.\n",
            "\n",
            "\n",
            "TensorFlow 2.x selected.\n"
          ],
          "name": "stdout"
        }
      ]
    },
    {
      "cell_type": "markdown",
      "metadata": {
        "id": "6uyns96d0T09"
      },
      "source": [
        "위 소스코드에 대해 간단하게 설명하면 다음과 같다. \n",
        "- `%`기호는 일종의 매직 커맨드라고 불리워진다. \n",
        "- `tensorflow_version` 텐서플로의 버전을 선택하는 기능이며, 이 기능은 구글 코랩에서만 실행이 가능하니, 유의하기 바란다. \n",
        "\n",
        "이제 `tensorflow`를 메모리로 불러오는 과정을 진행한다. 이 과정을 `Python`에서는 모듈(`Module`) 임포트(`import`)이라고 불리워진다. \n"
      ]
    },
    {
      "cell_type": "code",
      "metadata": {
        "id": "lG69-gfF1ReD",
        "colab": {
          "base_uri": "https://localhost:8080/"
        },
        "outputId": "26928b30-7d35-4239-f672-080cf78cefba"
      },
      "source": [
        "import tensorflow as tf\n",
        "print(tf.__version__)"
      ],
      "execution_count": null,
      "outputs": [
        {
          "output_type": "stream",
          "text": [
            "2.5.0\n"
          ],
          "name": "stdout"
        }
      ]
    },
    {
      "cell_type": "markdown",
      "metadata": {
        "id": "T9SQj8Hr2Ygy"
      },
      "source": [
        "위 버전이 확인되었으면 이제 정상적으로 `Hello World`를 출력해본다. "
      ]
    },
    {
      "cell_type": "code",
      "metadata": {
        "id": "CDApWkOs2Igh",
        "colab": {
          "base_uri": "https://localhost:8080/"
        },
        "outputId": "e890897d-dc4d-4681-f7e7-a27b09cc21fe"
      },
      "source": [
        "tf.constant(\"hello world\")"
      ],
      "execution_count": null,
      "outputs": [
        {
          "output_type": "execute_result",
          "data": {
            "text/plain": [
              "<tf.Tensor: shape=(), dtype=string, numpy=b'hello world'>"
            ]
          },
          "metadata": {
            "tags": []
          },
          "execution_count": 4
        }
      ]
    },
    {
      "cell_type": "markdown",
      "metadata": {
        "id": "wVnFrL3J3VYz"
      },
      "source": [
        "위 소스코드에서 확인할 수 있듯이, 실행하는 순간 연산이 되기 때문에 텐서 정보에 실행결과가 저장되는 것을 확인할 수 있다. \n",
        "\n",
        "Congratulation! You installed Tensorflow 2.0"
      ]
    }
  ]
}