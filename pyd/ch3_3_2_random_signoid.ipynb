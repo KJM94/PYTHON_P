{
  "nbformat": 4,
  "nbformat_minor": 0,
  "metadata": {
    "colab": {
      "name": "ch3_3_2_random_signoid.ipynb",
      "provenance": [],
      "collapsed_sections": [],
      "toc_visible": true,
      "include_colab_link": true
    },
    "kernelspec": {
      "name": "python3",
      "display_name": "Python 3"
    },
    "accelerator": "GPU"
  },
  "cells": [
    {
      "cell_type": "markdown",
      "metadata": {
        "id": "view-in-github",
        "colab_type": "text"
      },
      "source": [
        "<a href=\"https://colab.research.google.com/github/KJM94/pyd/blob/main/ch3_3_2_random_signoid.ipynb\" target=\"_parent\"><img src=\"https://colab.research.google.com/assets/colab-badge.svg\" alt=\"Open In Colab\"/></a>"
      ]
    },
    {
      "cell_type": "markdown",
      "metadata": {
        "id": "xnCzPJ0tgbR9"
      },
      "source": [
        "---\n",
        "title: \"Tensorflow 2.0 Tutorial ch3.2 - 난수 생성 및 시그모이드 함수\"\n",
        "date: 2020-04-05T11:20:30+09:00\n",
        "tags:\n",
        "  - \"Deep Learning\"\n",
        "  - \"Python\"\n",
        "  - \"Google Colab\"\n",
        "  - \"Tensorflow 2.0\"\n",
        "  - \"텐서플로 2.0\"\n",
        "  - \"텐서플로 2.0 튜토리얼\"\n",
        "  - \"Tensorflow 2.0 Tutorial\"\n",
        "categories:\n",
        "  - \"Deep Learning\"\n",
        "  - \"딥러닝\"\n",
        "  - \"텐서플로 2.0\"\n",
        "  - \"Python\"\n",
        "  - \"Tensorflow 2.0\"\n",
        "  - \"텐서플로 2.0 튜토리얼\"\n",
        "  - \"Tensorflow 2.0 Tutorial\"\n",
        "menu: \n",
        "  python:\n",
        "    name: Tensorflow 2.0 Tutorial ch3.2 - 난수 생성 및 시그모이드 함수\n",
        "---\n",
        "\n",
        "## 공지\n",
        "\n",
        "- 본 Tutorial은 `시작하세요 텐서플로 2.0 프로그래밍`의 강사에게 국비교육 강의를 듣는 사람들에게 자료 제공을 목적으로 제작하였습니다. \n",
        "- 강사의 주관적인 판단으로 압축해서 자료를 정리하였기 때문에, 자세하게 공부를 하고 싶은 반드시 교재를 구매하실 것을 권해드립니다. \n",
        "- 본 교재 외에 강사가 추가한 내용에 대한 Reference를 확인하셔서, 추가적으로 학습하시는 것을 권유드립니다. \n",
        "\n",
        "## I. 퍼셉트론의 한계 극복\n",
        "\n",
        "`AI`는 과거부터 존재하였지만, 여러가지 한계로 인해 연구의 흥망성쇠가 계속적으로 있어왔다. 퍼셉트론의 한계를 지적하는 데 사용됐던, `AND`, `OR`, `XOR` 연산을 할 수 있는 신경망 네트워크를 직접 만들어보자. \n",
        "\n",
        "## II. 난수(Random Number) 생성\n",
        "신경망을 쉽게 정의하면, 많은 숫자로 구성된 행렬의 의미를 가진다. 행렬을 구성하는 숫자는 처음에 `Random`으로 지정해주어야 하기 때문에 이러한 작업을 초기화(`Initialization`)이라 한다. 대중적으로 많이 쓰이는 방법은 `Xavier 초기화(Xavier Initialization)`, `He 초기화(He Initialization)`가 있다. 이제 난수를 생성해보자. "
      ]
    },
    {
      "cell_type": "code",
      "metadata": {
        "id": "FZ09LDzXaiOL",
        "colab": {
          "base_uri": "https://localhost:8080/"
        },
        "outputId": "bbdf2cbf-cf9d-48dd-81ee-e697eb884fa5"
      },
      "source": [
        "import tensorflow as tf\n",
        "print(tf.__version__)"
      ],
      "execution_count": null,
      "outputs": [
        {
          "output_type": "stream",
          "text": [
            "2.5.0\n"
          ],
          "name": "stdout"
        }
      ]
    },
    {
      "cell_type": "code",
      "metadata": {
        "id": "h8IdRU7hgph6",
        "colab": {
          "base_uri": "https://localhost:8080/"
        },
        "outputId": "dbfb9276-22ac-42e2-c43c-1a2d6a07744e"
      },
      "source": [
        "rand = tf.random.uniform([1], 0, 1)\n",
        "print(rand)"
      ],
      "execution_count": null,
      "outputs": [
        {
          "output_type": "stream",
          "text": [
            "tf.Tensor([0.8967699], shape=(1,), dtype=float32)\n"
          ],
          "name": "stdout"
        }
      ]
    },
    {
      "cell_type": "markdown",
      "metadata": {
        "id": "0VZLCt3O5eq7"
      },
      "source": [
        "`tf.random.uniform` 함수는 일종의 균일 분포(uniform distribution)의 난수를 얻을 수 있다. 균일분포의 뜻이란, 정해진 최소값과 최대값 사이의 모든 수가 나올 확률이 동일한 분포에서 수를 뽑는다는 뜻을 의미한다. \n",
        "- `[1]`: 은 결과값의 `Shape`를 의미하는데, 일종의 행, 열 등 차원의 수를 나타내는 값이다. \n",
        "- `0`: 최소값 0을 의미한다. \n",
        "- `1`: 최대값 1을 의미한다. \n",
        "\n",
        "`shape`를 바꿔서 여러 개의 난수를 얻을 수 있다.\n",
        "\n"
      ]
    },
    {
      "cell_type": "code",
      "metadata": {
        "id": "qrAmqmJh6ZEJ",
        "colab": {
          "base_uri": "https://localhost:8080/"
        },
        "outputId": "9ddce3e0-e055-496d-b507-9ce2796092e3"
      },
      "source": [
        "rand = tf.random.uniform([4], 0, 1)\n",
        "print(rand)"
      ],
      "execution_count": null,
      "outputs": [
        {
          "output_type": "stream",
          "text": [
            "tf.Tensor([0.81561625 0.39635897 0.45017135 0.5549017 ], shape=(4,), dtype=float32)\n"
          ],
          "name": "stdout"
        }
      ]
    },
    {
      "cell_type": "markdown",
      "metadata": {
        "id": "_3aBQOCw6okn"
      },
      "source": [
        "정규(normal) 분포를 통해서 난수를 얻을 수 있다. 정규 분포는 가운데가 높고 양극단으로 갈수록 낮아져서 종 모양을 그리는 분포를 말한다. 정규 분포의 난수를 구하기 위해서는 `tf.random.uniform`을 `tf.random.normal`로 바꾸기만 하면 된다. "
      ]
    },
    {
      "cell_type": "code",
      "metadata": {
        "id": "pgMq2p2H64gd",
        "colab": {
          "base_uri": "https://localhost:8080/"
        },
        "outputId": "6cfbf83b-7ef8-4040-841b-448eaf23aed7"
      },
      "source": [
        "rand = tf.random.normal([4], 0, 1)\n",
        "print(rand)"
      ],
      "execution_count": null,
      "outputs": [
        {
          "output_type": "stream",
          "text": [
            "tf.Tensor([ 0.91247237  0.5765699  -0.11374369  1.1140796 ], shape=(4,), dtype=float32)\n"
          ],
          "name": "stdout"
        }
      ]
    },
    {
      "cell_type": "markdown",
      "metadata": {
        "id": "xy9AFAPe7A-h"
      },
      "source": [
        "1 이상의 값도 나올 수 있고, 음수가 나올 수도 있는데, 여기서 두번째의 0은 정규분포의 평균을 말하고, 세번째의 1은 정규분포의 표준편차를 의미한다. 아래 소스코드를 통해서 균일분포와 정규분포의 차이점을 이해하기 바란다. \n",
        "\n"
      ]
    },
    {
      "cell_type": "code",
      "metadata": {
        "id": "8pfRtHZO9TNC",
        "colab": {
          "base_uri": "https://localhost:8080/",
          "height": 360
        },
        "outputId": "f94b1d88-18b6-4404-cdc3-dda09406d4ce"
      },
      "source": [
        "# Imports\n",
        "import numpy as np\n",
        "import matplotlib.pyplot as plt\n",
        "import seaborn as sns\n",
        "sns.set()\n",
        "import warnings\n",
        "warnings.simplefilter(\"ignore\", UserWarning)\n",
        "\n",
        "# Let's create an array of random numbers from uniform distribution\n",
        "uniform = np.random.uniform(0,1,1000000)\n",
        "\n",
        "# Let's create an array of random numbers from normal distribution\n",
        "normal = np.random.normal(0,1,1000000)\n",
        "\n",
        "# Let's plot them\n",
        "ax = sns.distplot(uniform, label='Uniform Distribution')\n",
        "bx = sns.distplot(normal, label= 'Normal Distribution')\n",
        "legend = plt.legend()\n",
        "plt.show()"
      ],
      "execution_count": null,
      "outputs": [
        {
          "output_type": "stream",
          "text": [
            "/usr/local/lib/python3.7/dist-packages/seaborn/distributions.py:2557: FutureWarning: `distplot` is a deprecated function and will be removed in a future version. Please adapt your code to use either `displot` (a figure-level function with similar flexibility) or `histplot` (an axes-level function for histograms).\n",
            "  warnings.warn(msg, FutureWarning)\n",
            "/usr/local/lib/python3.7/dist-packages/seaborn/distributions.py:2557: FutureWarning: `distplot` is a deprecated function and will be removed in a future version. Please adapt your code to use either `displot` (a figure-level function with similar flexibility) or `histplot` (an axes-level function for histograms).\n",
            "  warnings.warn(msg, FutureWarning)\n"
          ],
          "name": "stderr"
        },
        {
          "output_type": "display_data",
          "data": {
            "image/png": "[encoded data removed]",
            "text/plain": [
              "<Figure size 432x288 with 1 Axes>"
            ]
          },
          "metadata": {
            "tags": []
          }
        }
      ]
    },
    {
      "cell_type": "markdown",
      "metadata": {
        "id": "cZT_2xPg-Gvl"
      },
      "source": [
        "균일 분포와 정규 분포에 대해 각 100만개의 샘플을 구해서 히스토그램으로 나타내면 균일 분포는 최소값 0과 최대값 1 사이에서 균일하게 나타나지만, 정규분포는 평균 0을 기준으로 종형 곡선 (bell curve)를 그리게 되는 것을 확인할 수 있다. \n",
        "\n",
        "정규 분포는 실생활에서 자주 볼 수 있는 분포 형태이며, 앞에서 소개한 Xavier 초기화나 He 초기화는 균일 분포와 정규 분포 중 하나를 택해서 신경망의 초기값을 만든다. \n",
        "\n",
        "## III. 뉴런 만들기\n",
        "신경망의 가장 기본적인 구성요소인 뉴런을 만들어본다. 뉴런은 입력, 가중치, 활성화함수, 출력 등으로 구성된다. 뉴런에 대한 그림 설명은 본 교재 Page 40-41를 참고한다. \n",
        "\n",
        "과거에는 뉴런을 퍼셉트론이라고 불렀으며, 입력을 받아서 계산 후 출력을 반환하는 단순한 구조였지만, 신경망은 이러한 뉴런이 여러 개가 모여 레이어(layer)를 구성한 후, 이 레이어가 다시 모여 구성된 형태를 띈다. \n",
        "\n",
        "이 때의 뉴런은, `입력`, `가중치`, `활성화함수`, `출력`등으로 구성된다. `입력`, `가중치`, `출력`은 보통 `정수(integer)`나 앞에서 살펴본 `float` 등이 많이 사용된다. 활성화함수는 뉴런의 출력값을 정하는 함수이며, 가장 간단한 형태의 뉴런은 입력에 가중치를 곱한 뒤 활성화함수를 취하면 출력을 얻을 수 있다. \n",
        "\n",
        "뉴런에서 학습할 때 변하는 것은 `가중치`이다. 가중치는 처음에는 초기화를 통해 랜덤한 값을 넣고, 학습 과정에서 점차 일정한 값으로 수렴한다. **학습이 잘된다는 뜻의 의미는 좋은 가중치를 얻어서 원하는 출력값에 근접했다는 것을 의미**한다. \n",
        "\n",
        "이 때, 활성화함수가 사용되는데, `시그모이드(sigmoid)`, `ReLU` 등을 주로 쓰게 된다. 결론부터 말하면, 현재에는 시그모이드보다는 ReLU가 더 많이 쓰인다. \n",
        "\n",
        "## (1) 시그모이드(sigmoid)\n",
        "시그모이드는 출력값을 0~1 사이로만 제한하지만, ReLU는 양수를 그대로 반환하기 때문에 값의 왜곡이 적어진다. \n",
        "\n",
        "시그모이드 함수를 파이썬으로 구현해보자. 먼저 `sigmoid()` 구현한뒤 입력이 1일 때 기대출력이 0이 되는 뉴런을 만들어본다. \n"
      ]
    },
    {
      "cell_type": "code",
      "metadata": {
        "id": "G1wGtzkRCy3v"
      },
      "source": [
        "import math\n",
        "def sigmoid(x): \n",
        "  return 1 / (1 + math.exp(-x))"
      ],
      "execution_count": null,
      "outputs": []
    },
    {
      "cell_type": "code",
      "metadata": {
        "id": "TSEFvsxDC3bQ",
        "colab": {
          "base_uri": "https://localhost:8080/"
        },
        "outputId": "b9c9f1ad-e30f-4ebb-c9b0-2f13f498a8d1"
      },
      "source": [
        "x = 1\n",
        "y = 0\n",
        "w = tf.random.normal([1], 0, 1)\n",
        "output = sigmoid(x * w)\n",
        "print(output)"
      ],
      "execution_count": null,
      "outputs": [
        {
          "output_type": "stream",
          "text": [
            "0.4023056792080975\n"
          ],
          "name": "stdout"
        }
      ]
    },
    {
      "cell_type": "markdown",
      "metadata": {
        "id": "TRcTuxR6DN8K"
      },
      "source": [
        "각각의 코드에 대한 설명은 아래와 같다. \n",
        "- `x`는 입력값을 의미\n",
        "- `y`는 출력의 기대값을 의미 \n",
        "- `w`는 가중치로써, 정규분포의 랜덤한 값을 넣는다.\n",
        "- `output`은 sigmoid() 함수에 입력과 가중치를 곱한 값을 넣어서 계산함\n"
      ]
    },
    {
      "cell_type": "code",
      "metadata": {
        "id": "16LbdKOtEWCC",
        "colab": {
          "base_uri": "https://localhost:8080/"
        },
        "outputId": "116d83a0-036b-47c2-be7a-20d5f4a7805a"
      },
      "source": [
        "error = y - output\n",
        "print(error)"
      ],
      "execution_count": null,
      "outputs": [
        {
          "output_type": "stream",
          "text": [
            "-0.4023056792080975\n"
          ],
          "name": "stdout"
        }
      ]
    },
    {
      "cell_type": "markdown",
      "metadata": {
        "id": "8bgcRSs7EbnB"
      },
      "source": [
        "실제 출력으로 나온 값은 `0.25820436275087716`이므로, 기대했던 0과는 오차가 발생함을 알 수가 있다. 여기서 뉴런이란 결국 `w(즉, 가중치)`값이며, 이제 이 가중치에 변화를 주어야 합니다. 대표적으로 가중치에 변화를 주는 것이 경사 하강법이며, 이것은 `w(가중치)`에 입력과 학습률(a)과 에러를 곱한 값을 더해주는 것이다. 학습률은 `가중치(w)`를 업데이트 하는 정도로 생각하면 된다.[^1]\n",
        "\n",
        "w = w + x * a * error\n",
        "\n",
        "경사 하강법이 효과를 발휘하는지 코드로 확인해보자. \n",
        "\n",
        "[^1]: 경사는 손실 곡선의 기울기를 의미하며, 자세한 설명은 구글 머신러닝 단기집중과정의 <<손실 줄이기: 경사하강법>>에서 확인한다. https://developers.google.com/machine-learning/crash-course/reducing-loss/gradient-descent?hl=ko\n"
      ]
    },
    {
      "cell_type": "code",
      "metadata": {
        "id": "wA3GjzSkF8Sj",
        "colab": {
          "base_uri": "https://localhost:8080/"
        },
        "outputId": "90f6b57f-b673-4e78-e9cb-9a1ee1bdcaaf"
      },
      "source": [
        "for i in range(10000): \n",
        "  output = sigmoid(x * w)\n",
        "  error = y - output\n",
        "  w = w + x * 0.1 * error\n",
        "\n",
        "  if i % 100 == 99:\n",
        "    print(i, error, output)"
      ],
      "execution_count": null,
      "outputs": [
        {
          "output_type": "stream",
          "text": [
            "99 -0.09439938620482959 0.09439938620482959\n",
            "199 -0.050139005255021706 0.050139005255021706\n",
            "299 -0.03383640392827357 0.03383640392827357\n",
            "399 -0.0254613675766714 0.0254613675766714\n",
            "499 -0.02038375882215911 0.02038375882215911\n",
            "599 -0.016983160293095628 0.016983160293095628\n",
            "699 -0.014549150636431155 0.014549150636431155\n",
            "799 -0.012722145201506151 0.012722145201506151\n",
            "899 -0.011300842743774223 0.011300842743774223\n",
            "999 -0.010163923408012155 0.010163923408012155\n",
            "1099 -0.009234042102624176 0.009234042102624176\n",
            "1199 -0.0084594465438726 0.0084594465438726\n",
            "1299 -0.007804338014348442 0.007804338014348442\n",
            "1399 -0.007243107911190213 0.007243107911190213\n",
            "1499 -0.0067569637433159855 0.0067569637433159855\n",
            "1599 -0.006331786474522005 0.006331786474522005\n",
            "1699 -0.00595682057990128 0.00595682057990128\n",
            "1799 -0.005623672330819759 0.005623672330819759\n",
            "1899 -0.005325732390008055 0.005325732390008055\n",
            "1999 -0.00505770389652977 0.00505770389652977\n",
            "2099 -0.0048152907241448065 0.0048152907241448065\n",
            "2199 -0.004595012871166587 0.004595012871166587\n",
            "2299 -0.004393971602027441 0.004393971602027441\n",
            "2399 -0.004209755095529177 0.004209755095529177\n",
            "2499 -0.004040333465197827 0.004040333465197827\n",
            "2599 -0.0038839913261537293 0.0038839913261537293\n",
            "2699 -0.0037392835575544197 0.0037392835575544197\n",
            "2799 -0.003604952452210411 0.003604952452210411\n",
            "2899 -0.003479925112841357 0.003479925112841357\n",
            "2999 -0.0033632591304753883 0.0033632591304753883\n",
            "3099 -0.0032541567236391887 0.0032541567236391887\n",
            "3199 -0.003151902142717272 0.003151902142717272\n",
            "3299 -0.003055868063301515 0.003055868063301515\n",
            "3399 -0.002965507741758049 0.002965507741758049\n",
            "3499 -0.002880329010010082 0.002880329010010082\n",
            "3599 -0.0027999029648846773 0.0027999029648846773\n",
            "3699 -0.0027238373474621595 0.0027238373474621595\n",
            "3799 -0.0026517917891932825 0.0026517917891932825\n",
            "3899 -0.0025834561553153756 0.0025834561553153756\n",
            "3999 -0.0025185475949576984 0.0025185475949576984\n",
            "4099 -0.0024568184401641785 0.0024568184401641785\n",
            "4199 -0.0023980400744085455 0.0023980400744085455\n",
            "4299 -0.002342004584203603 0.002342004584203603\n",
            "4399 -0.002288527213957875 0.002288527213957875\n",
            "4499 -0.0022374324745831004 0.0022374324745831004\n",
            "4599 -0.002188569099351884 0.002188569099351884\n",
            "4699 -0.0021417914573860684 0.0021417914573860684\n",
            "4799 -0.002096969207825591 0.002096969207825591\n",
            "4899 -0.002053984013441596 0.002053984013441596\n",
            "4999 -0.0020127227951644952 0.0020127227951644952\n",
            "5099 -0.0019730858468727836 0.0019730858468727836\n",
            "5199 -0.001934977418495468 0.001934977418495468\n",
            "5299 -0.0018983127115815275 0.0018983127115815275\n",
            "5399 -0.0018630090088583965 0.0018630090088583965\n",
            "5499 -0.0018289943025013493 0.0018289943025013493\n",
            "5599 -0.0017961987416575634 0.0017961987416575634\n",
            "5699 -0.0017645587324098524 0.0017645587324098524\n",
            "5799 -0.0017340115254447172 0.0017340115254447172\n",
            "5899 -0.001704502519347602 0.001704502519347602\n",
            "5999 -0.0016759814540931658 0.0016759814540931658\n",
            "6099 -0.0016483997591620627 0.0016483997591620627\n",
            "6199 -0.0016217096982046636 0.0016217096982046636\n",
            "6299 -0.0015958681496759657 0.0015958681496759657\n",
            "6399 -0.001570835541367019 0.001570835541367019\n",
            "6499 -0.0015465778254383374 0.0015465778254383374\n",
            "6599 -0.001523056668207586 0.001523056668207586\n",
            "6699 -0.0015002405180216483 0.0015002405180216483\n",
            "6799 -0.0014780985053277872 0.0014780985053277872\n",
            "6899 -0.001456596952781671 0.001456596952781671\n",
            "6999 -0.001435715324529311 0.001435715324529311\n",
            "7099 -0.0014154210587958348 0.0014154210587958348\n",
            "7199 -0.0013956923572690475 0.0013956923572690475\n",
            "7299 -0.0013765056672509566 0.0013765056672509566\n",
            "7399 -0.0013578396977320844 0.0013578396977320844\n",
            "7499 -0.0013396733707840406 0.0013396733707840406\n",
            "7599 -0.001321985822561621 0.001321985822561621\n",
            "7699 -0.0013047582672931753 0.0013047582672931753\n",
            "7799 -0.0012879751033422725 0.0012879751033422725\n",
            "7899 -0.0012716164561161535 0.0012716164561161535\n",
            "7999 -0.0012556686225933286 0.0012556686225933286\n",
            "8099 -0.0012401166125433998 0.0012401166125433998\n",
            "8199 -0.0012249436531988796 0.0012249436531988796\n",
            "8299 -0.0012101370689890675 0.0012101370689890675\n",
            "8399 -0.0011956834895634138 0.0011956834895634138\n",
            "8499 -0.001181571712040608 0.001181571712040608\n",
            "8599 -0.0011677886883931722 0.0011677886883931722\n",
            "8699 -0.0011543234867574749 0.0011543234867574749\n",
            "8799 -0.0011411644594049243 0.0011411644594049243\n",
            "8899 -0.001128301975767088 0.001128301975767088\n",
            "8999 -0.0011157277840264119 0.0011157277840264119\n",
            "9099 -0.0011034275821130166 0.0011034275821130166\n",
            "9199 -0.0010913990267367687 0.0010913990267367687\n",
            "9299 -0.0010796264095052639 0.0010796264095052639\n",
            "9399 -0.0010681083380269896 0.0010681083380269896\n",
            "9499 -0.0010568303044131899 0.0010568303044131899\n",
            "9599 -0.0010457892844279518 0.0010457892844279518\n",
            "9699 -0.0010349778646361859 0.0010349778646361859\n",
            "9799 -0.0010243859337912343 0.0010243859337912343\n",
            "9899 -0.0010140080676918403 0.0010140080676918403\n",
            "9999 -0.0010038375589243322 0.0010038375589243322\n"
          ],
          "name": "stdout"
        }
      ]
    },
    {
      "cell_type": "markdown",
      "metadata": {
        "id": "RicxV4rEGS0P"
      },
      "source": [
        "기대값 0에 가까우려면 i = 99 보다는 i = 999가 더 0에 가까워지는 것을 확인할 수 있다. \n",
        "\n",
        "\n",
        "## IV. Reference\n",
        "\n",
        "김환희. (2020). 시작하세요! 텐서플로 2.0 프로그래밍: 기초 이론부터 실전 예제까지 한번에 끝내는 머신러닝, 딥러닝 핵심 가이드. 서울: 위키북스."
      ]
    }
  ]
}