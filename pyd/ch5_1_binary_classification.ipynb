{
  "nbformat": 4,
  "nbformat_minor": 0,
  "metadata": {
    "colab": {
      "name": "ch5_1_binary_classification.ipynb",
      "provenance": [],
      "collapsed_sections": [],
      "include_colab_link": true
    },
    "kernelspec": {
      "name": "python3",
      "display_name": "Python 3"
    }
  },
  "cells": [
    {
      "cell_type": "markdown",
      "metadata": {
        "id": "view-in-github",
        "colab_type": "text"
      },
      "source": [
        "<a href=\"https://colab.research.google.com/github/KJM94/pyd/blob/main/ch5_1_binary_classification.ipynb\" target=\"_parent\"><img src=\"https://colab.research.google.com/assets/colab-badge.svg\" alt=\"Open In Colab\"/></a>"
      ]
    },
    {
      "cell_type": "markdown",
      "metadata": {
        "id": "_XAntDE9HHmC"
      },
      "source": [
        "---\n",
        "title: \"Tensorflow 2.0 Tutorial ch5.1 - 분류\"\n",
        "date: 2020-04-18T11:08:30+09:00\n",
        "tags:\n",
        "  - \"Deep Learning\"\n",
        "  - \"Python\"\n",
        "  - \"Google Colab\"\n",
        "  - \"Tensorflow 2.0\"\n",
        "  - \"분류\"\n",
        "  - \"이항분류\"\n",
        "  - \"Binary Classification\"\n",
        "  - \"Classification\"\n",
        "  - \"텐서플로 2.0\"\n",
        "  - \"텐서플로 2.0 튜토리얼\"\n",
        "  - \"Tensorflow 2.0 Tutorial\"\n",
        "categories:\n",
        "  - \"Deep Learning\"\n",
        "  - \"딥러닝\"\n",
        "  - \"텐서플로 2.0\"\n",
        "  - \"Python\"\n",
        "  - \"Tensorflow 2.0\"\n",
        "  - \"텐서플로 2.0 튜토리얼\"\n",
        "  - \"Tensorflow 2.0 Tutorial\"\n",
        "menu: \n",
        "  python:\n",
        "    name: Tensorflow 2.0 Tutorial ch5.1 - 분류\n",
        "---\n",
        "\n",
        "## 공지\n",
        "\n",
        "- 본 Tutorial은 교재 `시작하세요 텐서플로 2.0 프로그래밍`의 강사에게 국비교육 강의를 듣는 사람들에게 자료 제공을 목적으로 제작하였습니다. \n",
        "\n",
        "- 강사의 주관적인 판단으로 압축해서 자료를 정리하였기 때문에, 자세하게 공부를 하고 싶은 반드시 교재를 구매하실 것을 권해드립니다. \n",
        "\n",
        "![](/img/tensorflow2.0/book.jpg)<!-- -->\n",
        "\n",
        "\n",
        "- 본 교재 외에 강사가 추가한 내용에 대한 Reference를 확인하셔서, 추가적으로 학습하시는 것을 권유드립니다. \n",
        "\n",
        "\n",
        "## Tutorial\n",
        "\n",
        "이전 강의가 궁금하신 분들은 아래에서 선택하여 추가 학습 하시기를 바랍니다. \n",
        "\n",
        "- [Google Colab Tensorflow 2.0 Installation](https://chloevan.github.io/python/tensorflow2.0/googlecolab/)\n",
        "- [Tensorflow 2.0 Tutorial ch3.3.1 - 난수 생성 및 시그모이드 함수](https://chloevan.github.io/python/tensorflow2.0/ch3_3_1_random_signoid/)\n",
        "- [Tensorflow 2.0 Tutorial ch3.3.2 - 난수 생성 및 시그모이드 함수 편향성](https://chloevan.github.io/python/tensorflow2.0/ch3_3_2_random_signoid_bias/)\n",
        "- [Tensorflow 2.0 Tutorial ch3.3.3 - 첫번째 신경망 네트워크 - AND](https://chloevan.github.io/python/tensorflow2.0/ch3_3_3_network_and/)\n",
        "- [Tensorflow 2.0 Tutorial ch3.3.4 - 두번째 신경망 네트워크 - OR](https://chloevan.github.io/python/tensorflow2.0/ch3_3_4_network_or/)\n",
        "- [Tensorflow 2.0 Tutorial ch3.3.5 - 세번째 신경망 네트워크 - XOR](https://chloevan.github.io/python/tensorflow2.0/ch3_3_5_network_xor/)\n",
        "- [Tensorflow 2.0 Tutorial ch4.1 - 선형회귀](https://chloevan.github.io/python/tensorflow2.0/ch4_1_linear_regression/)\n",
        "- [Tensorflow 2.0 Tutorial ch4.2 - 다항회귀](https://chloevan.github.io/python/tensorflow2.0/ch4_2_multiple_linear_regression/)\n",
        "- [Tensorflow 2.0 Tutorial ch4.3 - 딥러닝 네트워크를 이용한 회귀](https://chloevan.github.io/python/tensorflow2.0/ch4_3_regression_with_deeplearning/)\n",
        "- [Tensorflow 2.0 Tutorial ch4.4 - 보스턴 주택 가격 데이터세트](https://chloevan.github.io/python/tensorflow2.0/ch4_4_boston_housing_deeplearning/)\n",
        "\n",
        "\n",
        "## I. 분류의 개요\n",
        "\n",
        "분류는 크게 2가지로 구분됩니다. \n",
        "\n",
        "- 분류 문제에 명확한 정답이 있는 경우 Vs. 분류 문제에 명확한 정답이 없는 경우. \n",
        "\n",
        "보통 이러한 경우 지도학습 Vs. 비지도학습이라고 얘기를 하는데, 난이도로 따지면 비지도학습이 조금 더 어렵습니다. 예를 들면, 개인정보가 가려진 신용카드 사용 정보로 비슷한 유형의 구매자 군집을 분류하는 문제도 분류 문제의 일종입니다. 이 부분에 대한 설명이 오토인코더(AutoEncoder)라 불리우는 9장에서 조금더 다루도록합니다. \n",
        "이번장에서는 지도학습(Supervised Learning)에 해당하는 분류 문제만 다룹니다. \n",
        "\n",
        "그 외에 조금 더 구체적인 이론적 개념이 필요하신 분들은 NVIDIA의 글을 한번 읽어보시기를 바랍니다. \n",
        "- [딥러닝 지도학습, 자율학습, 지도/자율 학습, 강화학습의 차이점은 무엇일까?](https://blogs.nvidia.co.kr/2018/09/03/supervised-unsupervised-learning/)\n",
        "\n",
        "## II. 이항분류\n",
        "\n",
        "와인 데이터세트로 이항분류를 진행합니다. 와인은 크게 레드 와인과 화이트 와인의 두 종류로 나눌 수 있습니다. 색깔 없이 단순히, 당도, 산도, 알코올 도수 등으로 분류하는 것은 쉽지 않습니다. 이번에는 데이터 정제 과정을 거쳐야 하기 때문에 주의깊게 살펴보시기를 바랍니다.\n"
      ]
    },
    {
      "cell_type": "code",
      "metadata": {
        "id": "mzIZ1yNn66Wh"
      },
      "source": [
        "# 텐서플로 2 버전 선택\n",
        "try:\n",
        "    # %tensorflow_version only exists in Colab.\n",
        "    %tensorflow_version 2.x\n",
        "except Exception:\n",
        "    pass"
      ],
      "execution_count": null,
      "outputs": []
    },
    {
      "cell_type": "code",
      "metadata": {
        "id": "otf1XyM4HFQH",
        "colab": {
          "base_uri": "https://localhost:8080/"
        },
        "outputId": "13c8067b-8c0d-446e-9e5d-788697fdc941"
      },
      "source": [
        "import pandas as pd\n",
        "red = pd.read_csv('http://archive.ics.uci.edu/ml/machine-learning-databases/wine-quality/winequality-red.csv', sep=';')\n",
        "white = pd.read_csv('http://archive.ics.uci.edu/ml/machine-learning-databases/wine-quality/winequality-white.csv', sep=';')\n",
        "print(red.head())\n",
        "print(white.head())"
      ],
      "execution_count": null,
      "outputs": [
        {
          "output_type": "stream",
          "text": [
            "   fixed acidity  volatile acidity  citric acid  ...  sulphates  alcohol  quality\n",
            "0            7.4              0.70         0.00  ...       0.56      9.4        5\n",
            "1            7.8              0.88         0.00  ...       0.68      9.8        5\n",
            "2            7.8              0.76         0.04  ...       0.65      9.8        5\n",
            "3           11.2              0.28         0.56  ...       0.58      9.8        6\n",
            "4            7.4              0.70         0.00  ...       0.56      9.4        5\n",
            "\n",
            "[5 rows x 12 columns]\n",
            "   fixed acidity  volatile acidity  citric acid  ...  sulphates  alcohol  quality\n",
            "0            7.0              0.27         0.36  ...       0.45      8.8        6\n",
            "1            6.3              0.30         0.34  ...       0.49      9.5        6\n",
            "2            8.1              0.28         0.40  ...       0.44     10.1        6\n",
            "3            7.2              0.23         0.32  ...       0.40      9.9        6\n",
            "4            7.2              0.23         0.32  ...       0.40      9.9        6\n",
            "\n",
            "[5 rows x 12 columns]\n"
          ],
          "name": "stdout"
        }
      ]
    },
    {
      "cell_type": "markdown",
      "metadata": {
        "id": "FcB5FlRGH1rP"
      },
      "source": [
        "판다스 데이터프레임에 관한 설명은 강사가 작성해 놓은 자료를 참조하셔서 공부하시기를 바랍니다. \n",
        "- [Pandas Dataframe](https://chloevan.github.io/python/pandas/pandas_dataframe/)\n",
        "\n",
        "데이터프레임은 여러 개의 행으로 구성되어 있으며, `head()`는 이 가운데 일부를 출력해서 보여줍니다. 각 데이터에 대한 속성은 영어로도 정리가 되어 있지만, 한글 독자분들은 교재 (108 p.)를 참고하시기를 바랍니다. \n",
        "\n",
        "원서의 정리는 다음 자료에서 확인합니다. \n",
        "- [Wine Quality Data Set](http://archive.ics.uci.edu/ml/datasets/Wine+Quality)\n",
        "\n",
        "### (1) 데이터 합치기\n",
        "와인 분류문제에서는 12개 속성으로 와인의 종류(레드/화이트)를 분류해야 합니다. 현재는 `red`와 `white`의 두 데이터프레임으로 데이터가 분리되어 있기 때문에 텐서플로에서 이 데이터를 사용하기 위해 두 데이터프레임을 하나로 합쳐야 합니다. "
      ]
    },
    {
      "cell_type": "code",
      "metadata": {
        "id": "rFP944GUPSwI",
        "colab": {
          "base_uri": "https://localhost:8080/"
        },
        "outputId": "b50a327c-cef0-40c6-b12a-4c713c818647"
      },
      "source": [
        "red['type'] = 0\n",
        "white['type'] = 1\n",
        "print(red.head(2))\n",
        "print(white.head(2))\n",
        "\n",
        "wine = pd.concat([red, white])\n",
        "print(wine.describe())"
      ],
      "execution_count": null,
      "outputs": [
        {
          "output_type": "stream",
          "text": [
            "   fixed acidity  volatile acidity  citric acid  ...  alcohol  quality  type\n",
            "0            7.4              0.70          0.0  ...      9.4        5     0\n",
            "1            7.8              0.88          0.0  ...      9.8        5     0\n",
            "\n",
            "[2 rows x 13 columns]\n",
            "   fixed acidity  volatile acidity  citric acid  ...  alcohol  quality  type\n",
            "0            7.0              0.27         0.36  ...      8.8        6     1\n",
            "1            6.3              0.30         0.34  ...      9.5        6     1\n",
            "\n",
            "[2 rows x 13 columns]\n",
            "       fixed acidity  volatile acidity  ...      quality         type\n",
            "count    6497.000000       6497.000000  ...  6497.000000  6497.000000\n",
            "mean        7.215307          0.339666  ...     5.818378     0.753886\n",
            "std         1.296434          0.164636  ...     0.873255     0.430779\n",
            "min         3.800000          0.080000  ...     3.000000     0.000000\n",
            "25%         6.400000          0.230000  ...     5.000000     1.000000\n",
            "50%         7.000000          0.290000  ...     6.000000     1.000000\n",
            "75%         7.700000          0.400000  ...     6.000000     1.000000\n",
            "max        15.900000          1.580000  ...     9.000000     1.000000\n",
            "\n",
            "[8 rows x 13 columns]\n"
          ],
          "name": "stdout"
        }
      ]
    },
    {
      "cell_type": "markdown",
      "metadata": {
        "id": "6nrLVQJ5lCGL"
      },
      "source": [
        "각 코드에 대한 설명은 다음과 같습니다. \n",
        "- 먼저 데이터프레임에 새로운 속성을 추가하는 방법은 단순히 `red['type'] = 0` 처럼 데이터프레임이 파이썬의 사전(`dictionary`) 타입인 것처럼 속성명과 값을 지정합니다. 레드 와인은 0, 화이트 와인은 1로 지정했습니다. 이 부분이 이항분류의 종속변수가 될 것입니다. \n",
        "- `pd.concat()` 데이터 프레임을 단순히 위아래로 연결하는 새로운 데이터프레임을 만들어 냅니다. \n",
        "- 데이터가 잘 입력되었는지 가설을 확인하기 위해 간단한 그래프를 그려봅니다. \n",
        "\n"
      ]
    },
    {
      "cell_type": "code",
      "metadata": {
        "id": "j4sit0HLmxhI",
        "colab": {
          "base_uri": "https://localhost:8080/",
          "height": 316
        },
        "outputId": "d00ea6a7-202b-487f-88ce-5cbf2c0a6a9e"
      },
      "source": [
        "import matplotlib.pyplot as plt\n",
        "plt.hist(wine['type'])\n",
        "plt.xticks([0, 1])\n",
        "plt.show()\n",
        "\n",
        "print(wine['type'].value_counts())"
      ],
      "execution_count": null,
      "outputs": [
        {
          "output_type": "display_data",
          "data": {
            "image/png": "[encoded data removed]",
            "text/plain": [
              "<Figure size 432x288 with 1 Axes>"
            ]
          },
          "metadata": {
            "tags": [],
            "needs_background": "light"
          }
        },
        {
          "output_type": "stream",
          "text": [
            "1    4898\n",
            "0    1599\n",
            "Name: type, dtype: int64\n"
          ],
          "name": "stdout"
        }
      ]
    },
    {
      "cell_type": "markdown",
      "metadata": {
        "id": "DifVFMa8nAnd"
      },
      "source": [
        " 위 그래프를 토대로 확인해보면 레드 와인보다 화이트 와인이 더 많다는 것을 알 수 있습니다. 정확한 수치로 표현하기 위해 `value_counts()`함수를 사용했습니다. \n",
        "\n",
        " ### (2) 데이터 정규화\n",
        "데이터 정규화는 수치형 값에 적용하는 것이지, 문자열에 적용하는 건 아닙니다. 문제는 외부에서 불러오는 데이터의 경우 어떤 값으로 구성되어 있는지 알기 어려운데, 이 때 데이터의 파악을 도와주는 것이 판다스의 `info()` 입니다. \n"
      ]
    },
    {
      "cell_type": "code",
      "metadata": {
        "id": "-Eo2Xf4MoAFK",
        "colab": {
          "base_uri": "https://localhost:8080/"
        },
        "outputId": "7612614a-7381-4940-91d7-f1f3d61630ea"
      },
      "source": [
        "print(wine.info())"
      ],
      "execution_count": null,
      "outputs": [
        {
          "output_type": "stream",
          "text": [
            "<class 'pandas.core.frame.DataFrame'>\n",
            "Int64Index: 6497 entries, 0 to 4897\n",
            "Data columns (total 13 columns):\n",
            " #   Column                Non-Null Count  Dtype  \n",
            "---  ------                --------------  -----  \n",
            " 0   fixed acidity         6497 non-null   float64\n",
            " 1   volatile acidity      6497 non-null   float64\n",
            " 2   citric acid           6497 non-null   float64\n",
            " 3   residual sugar        6497 non-null   float64\n",
            " 4   chlorides             6497 non-null   float64\n",
            " 5   free sulfur dioxide   6497 non-null   float64\n",
            " 6   total sulfur dioxide  6497 non-null   float64\n",
            " 7   density               6497 non-null   float64\n",
            " 8   pH                    6497 non-null   float64\n",
            " 9   sulphates             6497 non-null   float64\n",
            " 10  alcohol               6497 non-null   float64\n",
            " 11  quality               6497 non-null   int64  \n",
            " 12  type                  6497 non-null   int64  \n",
            "dtypes: float64(11), int64(2)\n",
            "memory usage: 710.6 KB\n",
            "None\n"
          ],
          "name": "stdout"
        }
      ]
    },
    {
      "cell_type": "markdown",
      "metadata": {
        "id": "U3Y58mxuocC8"
      },
      "source": [
        "다행히 모든 데이터가 `float64` & `int64`인 것을 확인할 수 있습니다. 데이터 정규화는 다음의 한줄 코드로 실현이 가능합니다."
      ]
    },
    {
      "cell_type": "code",
      "metadata": {
        "id": "9p125WzJoo2c",
        "colab": {
          "base_uri": "https://localhost:8080/"
        },
        "outputId": "f8c83fac-b444-4704-d9d3-749d4872ed7b"
      },
      "source": [
        "wine_norm = (wine - wine.min()) / (wine.max() - wine.min())\n",
        "print(wine_norm.head())\n",
        "print(wine_norm.describe())"
      ],
      "execution_count": null,
      "outputs": [
        {
          "output_type": "stream",
          "text": [
            "   fixed acidity  volatile acidity  citric acid  ...   alcohol   quality  type\n",
            "0       0.297521          0.413333     0.000000  ...  0.202899  0.333333   0.0\n",
            "1       0.330579          0.533333     0.000000  ...  0.260870  0.333333   0.0\n",
            "2       0.330579          0.453333     0.024096  ...  0.260870  0.333333   0.0\n",
            "3       0.611570          0.133333     0.337349  ...  0.260870  0.500000   0.0\n",
            "4       0.297521          0.413333     0.000000  ...  0.202899  0.333333   0.0\n",
            "\n",
            "[5 rows x 13 columns]\n",
            "       fixed acidity  volatile acidity  ...      quality         type\n",
            "count    6497.000000       6497.000000  ...  6497.000000  6497.000000\n",
            "mean        0.282257          0.173111  ...     0.469730     0.753886\n",
            "std         0.107143          0.109758  ...     0.145543     0.430779\n",
            "min         0.000000          0.000000  ...     0.000000     0.000000\n",
            "25%         0.214876          0.100000  ...     0.333333     1.000000\n",
            "50%         0.264463          0.140000  ...     0.500000     1.000000\n",
            "75%         0.322314          0.213333  ...     0.500000     1.000000\n",
            "max         1.000000          1.000000  ...     1.000000     1.000000\n",
            "\n",
            "[8 rows x 13 columns]\n"
          ],
          "name": "stdout"
        }
      ]
    },
    {
      "cell_type": "markdown",
      "metadata": {
        "id": "TuM4bTqcpZpa"
      },
      "source": [
        "- `pandas`에서는 `max()`, `min()`함수를 이용해 각 속성의 최대값과 최소값을 얻을 수 있고, 이 값들을 이용해 모든 속성과 모든 행에 대한 계산이 가능합니다. \n",
        "- `describe()`함수에서 볼 수 있는 속성들이 0~1사이로 값이 모아진 것을 확인할 수 있습니다.\n",
        "\n",
        "### (3) 데이터 변환 (DataFrame에서 Array)\n",
        "- 이렇게 정규화된 데이터를 `NumPy Array`로 변환합니다."
      ]
    },
    {
      "cell_type": "code",
      "metadata": {
        "id": "sFDVrSsWp7Oy",
        "colab": {
          "base_uri": "https://localhost:8080/"
        },
        "outputId": "7a7f9ea1-a51a-4208-cf8b-6c755180c2d4"
      },
      "source": [
        "import numpy as np\n",
        "wine_shuffle = wine_norm.sample(frac=1)\n",
        "print(wine_shuffle.head())\n",
        "wine_np = wine_shuffle.to_numpy()\n",
        "print(wine_np[:5])"
      ],
      "execution_count": null,
      "outputs": [
        {
          "output_type": "stream",
          "text": [
            "      fixed acidity  volatile acidity  citric acid  ...   alcohol   quality  type\n",
            "1109       0.578512          0.260000     0.259036  ...  0.405797  0.500000   0.0\n",
            "65         0.280992          0.430000     0.030120  ...  0.420290  0.333333   0.0\n",
            "1022       0.247934          0.073333     0.192771  ...  0.449275  0.833333   1.0\n",
            "2019       0.231405          0.160000     0.132530  ...  0.347826  0.500000   1.0\n",
            "2820       0.239669          0.163333     0.493976  ...  0.173913  0.333333   1.0\n",
            "\n",
            "[5 rows x 13 columns]\n",
            "[[0.5785124  0.26       0.25903614 0.02300613 0.26910299 0.09027778\n",
            "  0.13824885 0.21380374 0.34883721 0.30337079 0.4057971  0.5\n",
            "  0.        ]\n",
            " [0.28099174 0.43       0.03012048 0.06211656 0.12790698 0.01041667\n",
            "  0.01152074 0.17524581 0.53488372 0.09550562 0.42028986 0.33333333\n",
            "  0.        ]\n",
            " [0.24793388 0.07333333 0.19277108 0.09892638 0.0166113  0.18402778\n",
            "  0.41935484 0.1231926  0.41085271 0.08426966 0.44927536 0.83333333\n",
            "  1.        ]\n",
            " [0.23140496 0.16       0.13253012 0.24693252 0.06146179 0.12847222\n",
            "  0.29262673 0.20802005 0.3875969  0.25280899 0.34782609 0.5\n",
            "  1.        ]\n",
            " [0.23966942 0.16333333 0.4939759  0.00920245 0.23754153 0.16666667\n",
            "  0.26267281 0.11586659 0.20930233 0.08988764 0.17391304 0.33333333\n",
            "  1.        ]]\n"
          ],
          "name": "stdout"
        }
      ]
    },
    {
      "cell_type": "markdown",
      "metadata": {
        "id": "xTZntl-iqV2O"
      },
      "source": [
        "판다스의 `sample()` 함수는 전체 데이터프레임에서 `frac`인수로 지정된 비율만큼의 행을 랜덤하게 뽑아서 새로운 데이터프레임을 만듭니다. \n",
        "`frac=1`로 지정됐기 때문에 `100%`, 즉 모든 데이터를 뽑아서 섞는 것과 동일한 효과를 가집니다. \n",
        "\n",
        "*Tip: 입문자들이 처음 딥러닝 소스코드 작성하는 것을 어려워 하는 부분이 엑셀데이터와 같은 데이터프레임을 딥러닝의 Input 객체로 변환하는가인데, 위 소스코드는 굉장히 유용하며, 만약 반복적인 작업이 이루어지면 사용자 정의 함수를 사용하여 작성하여 사용하는 것도 도움이 된다. \n",
        "\n",
        "### (4) 훈련 데이터와 테스트 데이터 분리\n",
        "훈련 데이터와 테스트 데이터로 나누어 진행합니다. 검증데이터는 훈련데이터서 일부를 떼서 자동으로 만들 예정이기 때문에, 여기에서는 훈련 데이터와 테스트 데이터로만 나누어 진행합니다."
      ]
    },
    {
      "cell_type": "code",
      "metadata": {
        "id": "NctSD5Jzs2ci",
        "colab": {
          "base_uri": "https://localhost:8080/"
        },
        "outputId": "96a4ec85-dbc4-4770-b13b-1534b7e6d6ad"
      },
      "source": [
        "import tensorflow as tf\n",
        "train_idx = int(len(wine_np) * 0.8)\n",
        "train_X, train_Y = wine_np[:train_idx, :-1], wine_np[:train_idx, -1]\n",
        "test_X, test_Y = wine_np[train_idx:, :-1], wine_np[train_idx:, -1]\n",
        "print(train_X[0])\n",
        "print(train_Y[0])\n",
        "print(test_X[0])\n",
        "print(test_Y[0])\n",
        "train_Y = tf.keras.utils.to_categorical(train_Y, num_classes=2)\n",
        "test_Y = tf.keras.utils.to_categorical(test_Y, num_classes=2)\n",
        "print(train_Y[0])\n",
        "print(test_Y[0])"
      ],
      "execution_count": null,
      "outputs": [
        {
          "output_type": "stream",
          "text": [
            "[0.5785124  0.26       0.25903614 0.02300613 0.26910299 0.09027778\n",
            " 0.13824885 0.21380374 0.34883721 0.30337079 0.4057971  0.5       ]\n",
            "0.0\n",
            "[0.26446281 0.09333333 0.15662651 0.03374233 0.0448505  0.14930556\n",
            " 0.29032258 0.07075381 0.48062016 0.10674157 0.57971014 0.66666667]\n",
            "1.0\n",
            "[1. 0.]\n",
            "[0. 1.]\n"
          ],
          "name": "stdout"
        }
      ]
    },
    {
      "cell_type": "markdown",
      "metadata": {
        "id": "yc75Qaf7v1Vb"
      },
      "source": [
        "위 소스코드에 대한 설명은 아래와 같습니다. \n",
        "\n",
        "- 먼저 80%에 해당하는 데이터를 훈련 데이터와 검증 데이터로 만들기 위해 wine_np의 수의 80%에 해당하는 인덱스를 `int`값으로 저장합니다. \n",
        "- 그 다음 이 인덱스를 이용해 `wine_np`를 분리합니다. NumPy Array에서는 2차원 이상의 인덱스에 접근할 때 쉼표(,)를 사용하기 때문에 쉼표를 이용해 `X`와 `Y`도 구분합니다. 12개의 기존 속성은 `X`가 되고 새롭게 추가한 `type`은 `Y`가 됩니다. \n",
        "- `to_categorical` 분류 문제에서 자주 쓰이는 함수로 정답 행렬을 `원-핫 인코딩(One-Hot Encoding)` 방식으로 바꿉니다. 이 함수의 두번째 인수인 `num_classes`는 정답 클래스의 개수입니다. \n",
        "\n",
        "## III. 딥러닝 학습\n",
        "\n",
        "시퀀셜 모델을 통해서 모형을 학습니다. "
      ]
    },
    {
      "cell_type": "code",
      "metadata": {
        "id": "ZJLcHqR8t-zc",
        "colab": {
          "base_uri": "https://localhost:8080/"
        },
        "outputId": "5d839f1a-e96f-4dcd-ed01-9920831b56ab"
      },
      "source": [
        "# 5.8 와인 데이터셋 분류 모델 생성\n",
        "import tensorflow as tf\n",
        "model = tf.keras.Sequential([\n",
        "    tf.keras.layers.Dense(units=48, activation='relu', input_shape=(12,)),\n",
        "    tf.keras.layers.Dense(units=24, activation='relu'),\n",
        "    tf.keras.layers.Dense(units=12, activation='relu'),\n",
        "    tf.keras.layers.Dense(units=2, activation='softmax')\n",
        "])\n",
        "\n",
        "model.compile(optimizer=tf.keras.optimizers.Adam(lr=0.07), loss='categorical_crossentropy', metrics=['accuracy'])\n",
        "\n",
        "model.summary()"
      ],
      "execution_count": null,
      "outputs": [
        {
          "output_type": "stream",
          "text": [
            "Model: \"sequential\"\n",
            "_________________________________________________________________\n",
            "Layer (type)                 Output Shape              Param #   \n",
            "=================================================================\n",
            "dense (Dense)                (None, 48)                624       \n",
            "_________________________________________________________________\n",
            "dense_1 (Dense)              (None, 24)                1176      \n",
            "_________________________________________________________________\n",
            "dense_2 (Dense)              (None, 12)                300       \n",
            "_________________________________________________________________\n",
            "dense_3 (Dense)              (None, 2)                 26        \n",
            "=================================================================\n",
            "Total params: 2,126\n",
            "Trainable params: 2,126\n",
            "Non-trainable params: 0\n",
            "_________________________________________________________________\n"
          ],
          "name": "stdout"
        }
      ]
    },
    {
      "cell_type": "markdown",
      "metadata": {
        "id": "6Y6AF-f3yC0_"
      },
      "source": [
        "회귀모형과 다르게 분류 모델이기 때문에 소프트맥스(`softmax`)를 사용했습니다. 소프트맥스의 역할은 큰 값을 강조하고 작은 값은 약화하는 효과를 갖습니다. (자세한 내용은 교재 117페이지 참고)\n",
        "\n",
        "우선, [2,1,0]이라는 값이 있습니다. \n",
        "- max로 변환 시, [2,0,0]이 됩니다. \n",
        "- softmax로 변환하면 [0.67, 0.24, 0.09]의 확률값이 됩니다. \n",
        "\n",
        "$e$를 밑으로 하는 지수함수를 취하기 때문에 위의 효과가 발생하며, 0이나 음수에도 적용 가능합니다. `softmax`가 중요한 이유는 분류 문제나 언어 `RNN`에서의 다음 토큰 예측, 강화학습에서 에이전트의 행동 확률을 구하는 결과값으로 확률이 필요한 다양한 분야에서 쓰입니다. \n",
        "\n",
        "여기에서는 예측값이 레드 와인일 확률과 화이트 와인일 확률을 구하는데 사용되며, [0.97, 0.03]처럼 합이 `1.0`인 확률값이 될 것입니다. \n",
        "\n"
      ]
    },
    {
      "cell_type": "code",
      "metadata": {
        "id": "iCgfPprJ5AmT",
        "colab": {
          "base_uri": "https://localhost:8080/",
          "height": 279
        },
        "outputId": "737e6fb6-201a-4102-c2c5-f25c9b0162f8"
      },
      "source": [
        "import matplotlib.pyplot as plt\n",
        "import math\n",
        "import numpy as np\n",
        "x = np.arange(-2, 2, 0.01)\n",
        "e_x = math.e ** x\n",
        "\n",
        "plt.axhline(0, color='gray')\n",
        "plt.axvline(0, color='gray')\n",
        "plt.plot(x, x, 'b-', label='y=x')\n",
        "plt.plot(x, e_x, 'g.', label='y=e^x')\n",
        "plt.xlabel('X')\n",
        "plt.ylabel('Y')\n",
        "plt.legend()\n",
        "plt.show()"
      ],
      "execution_count": null,
      "outputs": [
        {
          "output_type": "display_data",
          "data": {
            "image/png": "[encoded data removed]",
            "text/plain": [
              "<Figure size 432x288 with 1 Axes>"
            ]
          },
          "metadata": {
            "tags": [],
            "needs_background": "light"
          }
        }
      ]
    },
    {
      "cell_type": "markdown",
      "metadata": {
        "id": "rjeUfCde5I05"
      },
      "source": [
        "마지막 레이어에서 한 가지 더 주목할 점은 뉴런의 개수가 2로 설정되어 있다는 점입니다. 이는 종속변수의 클래스 숫자와 동일합니다. \n",
        "\n",
        "손실함수 `loss`에는 `sparse_categorical_crossentropy`라는 값이 들어가 있습니다. 이에 관한 구체적인 설명은 118~119 페이지에 있으니 참고바랍니다. 엔트로피와 정보이론에 관한 설명은 다음 자료를 참고하십시요. \n",
        "- [Cross Entropy 란 무엇인가 (information theory)](http://blog.naver.com/gyrbsdl18/221013188633)\n",
        "\n",
        "이제 분류 네트워크를 학습시켜 봅니다. "
      ]
    },
    {
      "cell_type": "code",
      "metadata": {
        "id": "ED7wvxS04hRX",
        "colab": {
          "base_uri": "https://localhost:8080/"
        },
        "outputId": "b7603826-f7ac-4cf1-95f5-d8e0f3906c61"
      },
      "source": [
        "history = model.fit(train_X, train_Y, epochs=50, batch_size=32, validation_split=0.25)"
      ],
      "execution_count": null,
      "outputs": [
        {
          "output_type": "stream",
          "text": [
            "Epoch 1/50\n",
            "122/122 [==============================] - 0s 3ms/step - loss: 0.1716 - accuracy: 0.9333 - val_loss: 0.0338 - val_accuracy: 0.9908\n",
            "Epoch 2/50\n",
            "122/122 [==============================] - 0s 2ms/step - loss: 0.0637 - accuracy: 0.9802 - val_loss: 0.0604 - val_accuracy: 0.9862\n",
            "Epoch 3/50\n",
            "122/122 [==============================] - 0s 1ms/step - loss: 0.0543 - accuracy: 0.9856 - val_loss: 0.0600 - val_accuracy: 0.9900\n",
            "Epoch 4/50\n",
            "122/122 [==============================] - 0s 1ms/step - loss: 0.0559 - accuracy: 0.9849 - val_loss: 0.1119 - val_accuracy: 0.9723\n",
            "Epoch 5/50\n",
            "122/122 [==============================] - 0s 1ms/step - loss: 0.0446 - accuracy: 0.9892 - val_loss: 0.0675 - val_accuracy: 0.9815\n",
            "Epoch 6/50\n",
            "122/122 [==============================] - 0s 2ms/step - loss: 0.0394 - accuracy: 0.9879 - val_loss: 0.0270 - val_accuracy: 0.9900\n",
            "Epoch 7/50\n",
            "122/122 [==============================] - 0s 2ms/step - loss: 0.0372 - accuracy: 0.9897 - val_loss: 0.0339 - val_accuracy: 0.9931\n",
            "Epoch 8/50\n",
            "122/122 [==============================] - 0s 2ms/step - loss: 0.0593 - accuracy: 0.9818 - val_loss: 0.0176 - val_accuracy: 0.9969\n",
            "Epoch 9/50\n",
            "122/122 [==============================] - 0s 1ms/step - loss: 0.0340 - accuracy: 0.9908 - val_loss: 0.0318 - val_accuracy: 0.9908\n",
            "Epoch 10/50\n",
            "122/122 [==============================] - 0s 2ms/step - loss: 0.0580 - accuracy: 0.9836 - val_loss: 0.0223 - val_accuracy: 0.9946\n",
            "Epoch 11/50\n",
            "122/122 [==============================] - 0s 2ms/step - loss: 0.0409 - accuracy: 0.9915 - val_loss: 0.0269 - val_accuracy: 0.9931\n",
            "Epoch 12/50\n",
            "122/122 [==============================] - 0s 2ms/step - loss: 0.0459 - accuracy: 0.9874 - val_loss: 0.0211 - val_accuracy: 0.9954\n",
            "Epoch 13/50\n",
            "122/122 [==============================] - 0s 2ms/step - loss: 0.0465 - accuracy: 0.9859 - val_loss: 0.0219 - val_accuracy: 0.9946\n",
            "Epoch 14/50\n",
            "122/122 [==============================] - 0s 1ms/step - loss: 0.0354 - accuracy: 0.9918 - val_loss: 0.0298 - val_accuracy: 0.9915\n",
            "Epoch 15/50\n",
            "122/122 [==============================] - 0s 1ms/step - loss: 0.0333 - accuracy: 0.9920 - val_loss: 0.0201 - val_accuracy: 0.9954\n",
            "Epoch 16/50\n",
            "122/122 [==============================] - 0s 2ms/step - loss: 0.0370 - accuracy: 0.9915 - val_loss: 0.0490 - val_accuracy: 0.9854\n",
            "Epoch 17/50\n",
            "122/122 [==============================] - 0s 2ms/step - loss: 0.0332 - accuracy: 0.9913 - val_loss: 0.0224 - val_accuracy: 0.9931\n",
            "Epoch 18/50\n",
            "122/122 [==============================] - 0s 2ms/step - loss: 0.0344 - accuracy: 0.9905 - val_loss: 0.0195 - val_accuracy: 0.9938\n",
            "Epoch 19/50\n",
            "122/122 [==============================] - 0s 1ms/step - loss: 0.0306 - accuracy: 0.9915 - val_loss: 0.0216 - val_accuracy: 0.9931\n",
            "Epoch 20/50\n",
            "122/122 [==============================] - 0s 2ms/step - loss: 0.0379 - accuracy: 0.9915 - val_loss: 0.0175 - val_accuracy: 0.9962\n",
            "Epoch 21/50\n",
            "122/122 [==============================] - 0s 2ms/step - loss: 0.0416 - accuracy: 0.9897 - val_loss: 0.0850 - val_accuracy: 0.9754\n",
            "Epoch 22/50\n",
            "122/122 [==============================] - 0s 2ms/step - loss: 0.0334 - accuracy: 0.9918 - val_loss: 0.0290 - val_accuracy: 0.9915\n",
            "Epoch 23/50\n",
            "122/122 [==============================] - 0s 1ms/step - loss: 0.0302 - accuracy: 0.9920 - val_loss: 0.0134 - val_accuracy: 0.9977\n",
            "Epoch 24/50\n",
            "122/122 [==============================] - 0s 1ms/step - loss: 0.0349 - accuracy: 0.9918 - val_loss: 0.0155 - val_accuracy: 0.9977\n",
            "Epoch 25/50\n",
            "122/122 [==============================] - 0s 1ms/step - loss: 0.0405 - accuracy: 0.9885 - val_loss: 0.0169 - val_accuracy: 0.9985\n",
            "Epoch 26/50\n",
            "122/122 [==============================] - 0s 1ms/step - loss: 0.0259 - accuracy: 0.9951 - val_loss: 0.0199 - val_accuracy: 0.9946\n",
            "Epoch 27/50\n",
            "122/122 [==============================] - 0s 1ms/step - loss: 0.0316 - accuracy: 0.9933 - val_loss: 0.0145 - val_accuracy: 0.9962\n",
            "Epoch 28/50\n",
            "122/122 [==============================] - 0s 2ms/step - loss: 0.0636 - accuracy: 0.9843 - val_loss: 0.1043 - val_accuracy: 0.9477\n",
            "Epoch 29/50\n",
            "122/122 [==============================] - 0s 2ms/step - loss: 0.0380 - accuracy: 0.9910 - val_loss: 0.0141 - val_accuracy: 0.9977\n",
            "Epoch 30/50\n",
            "122/122 [==============================] - 0s 1ms/step - loss: 0.0289 - accuracy: 0.9941 - val_loss: 0.0479 - val_accuracy: 0.9815\n",
            "Epoch 31/50\n",
            "122/122 [==============================] - 0s 2ms/step - loss: 0.0315 - accuracy: 0.9923 - val_loss: 0.0151 - val_accuracy: 0.9985\n",
            "Epoch 32/50\n",
            "122/122 [==============================] - 0s 2ms/step - loss: 0.0258 - accuracy: 0.9938 - val_loss: 0.0272 - val_accuracy: 0.9923\n",
            "Epoch 33/50\n",
            "122/122 [==============================] - 0s 2ms/step - loss: 0.0280 - accuracy: 0.9933 - val_loss: 0.0441 - val_accuracy: 0.9885\n",
            "Epoch 34/50\n",
            "122/122 [==============================] - 0s 2ms/step - loss: 0.0541 - accuracy: 0.9856 - val_loss: 0.0221 - val_accuracy: 0.9938\n",
            "Epoch 35/50\n",
            "122/122 [==============================] - 0s 2ms/step - loss: 0.0364 - accuracy: 0.9913 - val_loss: 0.0362 - val_accuracy: 0.9831\n",
            "Epoch 36/50\n",
            "122/122 [==============================] - 0s 1ms/step - loss: 0.0446 - accuracy: 0.9854 - val_loss: 0.0206 - val_accuracy: 0.9931\n",
            "Epoch 37/50\n",
            "122/122 [==============================] - 0s 2ms/step - loss: 0.0444 - accuracy: 0.9887 - val_loss: 0.0120 - val_accuracy: 0.9985\n",
            "Epoch 38/50\n",
            "122/122 [==============================] - 0s 2ms/step - loss: 0.0235 - accuracy: 0.9954 - val_loss: 0.0138 - val_accuracy: 0.9985\n",
            "Epoch 39/50\n",
            "122/122 [==============================] - 0s 2ms/step - loss: 0.0228 - accuracy: 0.9954 - val_loss: 0.0123 - val_accuracy: 0.9985\n",
            "Epoch 40/50\n",
            "122/122 [==============================] - 0s 2ms/step - loss: 0.0216 - accuracy: 0.9956 - val_loss: 0.0128 - val_accuracy: 0.9977\n",
            "Epoch 41/50\n",
            "122/122 [==============================] - 0s 2ms/step - loss: 0.0216 - accuracy: 0.9959 - val_loss: 0.0222 - val_accuracy: 0.9946\n",
            "Epoch 42/50\n",
            "122/122 [==============================] - 0s 1ms/step - loss: 0.0252 - accuracy: 0.9946 - val_loss: 0.0146 - val_accuracy: 0.9969\n",
            "Epoch 43/50\n",
            "122/122 [==============================] - 0s 2ms/step - loss: 0.0282 - accuracy: 0.9949 - val_loss: 0.0578 - val_accuracy: 0.9792\n",
            "Epoch 44/50\n",
            "122/122 [==============================] - 0s 2ms/step - loss: 0.0264 - accuracy: 0.9923 - val_loss: 0.0343 - val_accuracy: 0.9938\n",
            "Epoch 45/50\n",
            "122/122 [==============================] - 0s 2ms/step - loss: 0.0402 - accuracy: 0.9908 - val_loss: 0.1637 - val_accuracy: 0.9738\n",
            "Epoch 46/50\n",
            "122/122 [==============================] - 0s 2ms/step - loss: 0.0360 - accuracy: 0.9928 - val_loss: 0.0220 - val_accuracy: 0.9931\n",
            "Epoch 47/50\n",
            "122/122 [==============================] - 0s 2ms/step - loss: 0.0226 - accuracy: 0.9941 - val_loss: 0.0319 - val_accuracy: 0.9938\n",
            "Epoch 48/50\n",
            "122/122 [==============================] - 0s 2ms/step - loss: 0.0355 - accuracy: 0.9931 - val_loss: 0.0302 - val_accuracy: 0.9931\n",
            "Epoch 49/50\n",
            "122/122 [==============================] - 0s 2ms/step - loss: 0.0217 - accuracy: 0.9956 - val_loss: 0.0121 - val_accuracy: 0.9985\n",
            "Epoch 50/50\n",
            "122/122 [==============================] - 0s 2ms/step - loss: 0.0217 - accuracy: 0.9949 - val_loss: 0.0630 - val_accuracy: 0.9831\n"
          ],
          "name": "stdout"
        }
      ]
    },
    {
      "cell_type": "markdown",
      "metadata": {
        "id": "NvXm5uJL5hmM"
      },
      "source": [
        "학습 과정에서의 training 데이터의 정확도와 검증 데이터의 정확도가 각각 accuracy와 val_accuracy라는 이름으로 표시됩니다. \n",
        "\n",
        "분류 모델의 학습 결과를 시각화해보면 정확도가 100%에 가까운 매우 좋은 결과를 유지하고 있음을 확인할 수 있습니다. \n"
      ]
    },
    {
      "cell_type": "code",
      "metadata": {
        "id": "yOganTPu6yh4",
        "colab": {
          "base_uri": "https://localhost:8080/",
          "height": 283
        },
        "outputId": "f85a79e6-8263-44ce-871d-50d3890c6085"
      },
      "source": [
        "import matplotlib.pyplot as plt\n",
        "plt.figure(figsize=(12, 4))\n",
        "\n",
        "plt.subplot(1, 2, 1)\n",
        "plt.plot(history.history['loss'], 'b-', label='loss')\n",
        "plt.plot(history.history['val_loss'], 'r--', label='val_loss')\n",
        "plt.xlabel('Epoch')\n",
        "plt.legend()\n",
        "\n",
        "plt.subplot(1, 2, 2)\n",
        "plt.plot(history.history['accuracy'], 'g-', label='accuracy')\n",
        "plt.plot(history.history['val_accuracy'], 'k--', label='val_accuracy')\n",
        "plt.xlabel('Epoch')\n",
        "plt.ylim(0.7, 1)\n",
        "plt.legend()\n",
        "\n",
        "plt.show()"
      ],
      "execution_count": null,
      "outputs": [
        {
          "output_type": "display_data",
          "data": {
            "image/png": "[encoded data removed]",
            "text/plain": [
              "<Figure size 864x288 with 2 Axes>"
            ]
          },
          "metadata": {
            "tags": [],
            "needs_background": "light"
          }
        }
      ]
    },
    {
      "cell_type": "markdown",
      "metadata": {
        "id": "Ww0Ob2C38Wcj"
      },
      "source": [
        "## IV. 딥러닝 모형 평가\n",
        "`model.evaluate()` 함수를 통해서 모델의 성능을 평가할 수 있습니다. "
      ]
    },
    {
      "cell_type": "code",
      "metadata": {
        "id": "GtTxbDtH8kVQ",
        "colab": {
          "base_uri": "https://localhost:8080/"
        },
        "outputId": "f7be3035-e38f-4634-e338-a1cafeefbbe1"
      },
      "source": [
        "model.evaluate(test_X, test_Y)"
      ],
      "execution_count": null,
      "outputs": [
        {
          "output_type": "stream",
          "text": [
            "41/41 [==============================] - 0s 967us/step - loss: 0.1295 - accuracy: 0.9715\n"
          ],
          "name": "stdout"
        },
        {
          "output_type": "execute_result",
          "data": {
            "text/plain": [
              "[0.1295108199119568, 0.9715384840965271]"
            ]
          },
          "metadata": {
            "tags": []
          },
          "execution_count": 13
        }
      ]
    },
    {
      "cell_type": "markdown",
      "metadata": {
        "id": "OjigVSpy8pyV"
      },
      "source": [
        "\n",
        "## V. 연습 파일\n",
        "- [구글 Colab에서 직접 연습해보자](https://colab.research.google.com/github/chloevan/deeplearningAI/blob/master/tensorflow2.0/ch5_1_binary_classification.ipynb) \n",
        "\n",
        "## VI. Reference\n",
        "\n",
        "김환희. (2020). 시작하세요! 텐서플로 2.0 프로그래밍: 기초 이론부터 실전 예제까지 한번에 끝내는 머신러닝, 딥러닝 핵심 가이드. 서울: 위키북스."
      ]
    }
  ]
}