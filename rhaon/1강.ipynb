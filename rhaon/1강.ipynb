{
  "nbformat": 4,
  "nbformat_minor": 0,
  "metadata": {
    "colab": {
      "name": "1강.ipynb",
      "provenance": [],
      "toc_visible": true,
      "authorship_tag": "ABX9TyPuu/7RpWBy4YQtAXSajz3a",
      "include_colab_link": true
    },
    "kernelspec": {
      "name": "python3",
      "display_name": "Python 3"
    },
    "language_info": {
      "name": "python"
    }
  },
  "cells": [
    {
      "cell_type": "markdown",
      "metadata": {
        "id": "view-in-github",
        "colab_type": "text"
      },
      "source": [
        "<a href=\"https://colab.research.google.com/github/KJM94/PYTHON_P/blob/main/rhaon/1%EA%B0%95.ipynb\" target=\"_parent\"><img src=\"https://colab.research.google.com/assets/colab-badge.svg\" alt=\"Open In Colab\"/></a>"
      ]
    },
    {
      "cell_type": "markdown",
      "source": [
        "# 2022년 1월 13일\n",
        "\n",
        "- if, for "
      ],
      "metadata": {
        "id": "GxtuVGexGf1C"
      }
    },
    {
      "cell_type": "code",
      "execution_count": 1,
      "metadata": {
        "colab": {
          "base_uri": "https://localhost:8080/"
        },
        "id": "n2Oilsx35zbH",
        "outputId": "4005db13-dcbf-4d95-bf94-0207886c5fbc"
      },
      "outputs": [
        {
          "output_type": "stream",
          "name": "stdout",
          "text": [
            "[20, 20, 20, 20, 30, 70, 90, 90, 100]\n"
          ]
        }
      ],
      "source": [
        "점수 = [20, 20, 20, 20, 30, 70, 90, 90, 100]\n",
        "print(점수)"
      ]
    },
    {
      "cell_type": "code",
      "source": [
        "import numpy as np"
      ],
      "metadata": {
        "id": "bxAOzDgF64zq"
      },
      "execution_count": 6,
      "outputs": []
    },
    {
      "cell_type": "code",
      "source": [
        "np.mean(점수)"
      ],
      "metadata": {
        "colab": {
          "base_uri": "https://localhost:8080/"
        },
        "id": "A79QGJFz7Fay",
        "outputId": "5a4f58e5-247c-4549-cb13-e552fe796cf1"
      },
      "execution_count": 7,
      "outputs": [
        {
          "output_type": "execute_result",
          "data": {
            "text/plain": [
              "51.111111111111114"
            ]
          },
          "metadata": {},
          "execution_count": 7
        }
      ]
    },
    {
      "cell_type": "code",
      "source": [
        "numpy.median(점수)"
      ],
      "metadata": {
        "colab": {
          "base_uri": "https://localhost:8080/"
        },
        "id": "qaP7jBur7PgR",
        "outputId": "7a5f0517-11c0-46e0-c89a-adf26145ebd4"
      },
      "execution_count": 8,
      "outputs": [
        {
          "output_type": "execute_result",
          "data": {
            "text/plain": [
              "30.0"
            ]
          },
          "metadata": {},
          "execution_count": 8
        }
      ]
    },
    {
      "cell_type": "code",
      "source": [
        "numpy.std(점수)"
      ],
      "metadata": {
        "colab": {
          "base_uri": "https://localhost:8080/"
        },
        "id": "A4urDJ_F7U4X",
        "outputId": "47c9d4a6-7f40-44d0-b7ed-fcd7740aeb81"
      },
      "execution_count": 10,
      "outputs": [
        {
          "output_type": "execute_result",
          "data": {
            "text/plain": [
              "33.48115371848747"
            ]
          },
          "metadata": {},
          "execution_count": 10
        }
      ]
    },
    {
      "cell_type": "code",
      "source": [
        "from scipy.stats import mode"
      ],
      "metadata": {
        "id": "FmaMC--K7xy5"
      },
      "execution_count": 11,
      "outputs": []
    },
    {
      "cell_type": "code",
      "source": [
        "mode(점수)"
      ],
      "metadata": {
        "colab": {
          "base_uri": "https://localhost:8080/"
        },
        "id": "DluATfCl8CsJ",
        "outputId": "1cc291d9-af0d-4491-aad6-5be2e594d454"
      },
      "execution_count": 12,
      "outputs": [
        {
          "output_type": "execute_result",
          "data": {
            "text/plain": [
              "ModeResult(mode=array([20]), count=array([4]))"
            ]
          },
          "metadata": {},
          "execution_count": 12
        }
      ]
    },
    {
      "cell_type": "code",
      "source": [
        "numpy.max(점수)"
      ],
      "metadata": {
        "colab": {
          "base_uri": "https://localhost:8080/"
        },
        "id": "2vzdRi368Suj",
        "outputId": "c6891083-eec7-448a-9511-c00fd416fcc0"
      },
      "execution_count": 13,
      "outputs": [
        {
          "output_type": "execute_result",
          "data": {
            "text/plain": [
              "100"
            ]
          },
          "metadata": {},
          "execution_count": 13
        }
      ]
    },
    {
      "cell_type": "code",
      "source": [
        "numpy.min(점수)"
      ],
      "metadata": {
        "colab": {
          "base_uri": "https://localhost:8080/"
        },
        "id": "-aPlmUiF8VlJ",
        "outputId": "0726db1b-8a74-41df-90ff-3f9647f37686"
      },
      "execution_count": 14,
      "outputs": [
        {
          "output_type": "execute_result",
          "data": {
            "text/plain": [
              "20"
            ]
          },
          "metadata": {},
          "execution_count": 14
        }
      ]
    },
    {
      "cell_type": "code",
      "source": [
        ""
      ],
      "metadata": {
        "id": "nj_lyUYe8Vd9"
      },
      "execution_count": null,
      "outputs": []
    },
    {
      "cell_type": "markdown",
      "source": [
        "# 유지수와 정재호의 고백게임\n"
      ],
      "metadata": {
        "id": "OKpoyB7w8wwD"
      }
    },
    {
      "cell_type": "code",
      "source": [
        "import random"
      ],
      "metadata": {
        "id": "eyHorB6W80z2"
      },
      "execution_count": 15,
      "outputs": []
    },
    {
      "cell_type": "code",
      "source": [
        "유지수 = random.randint(1,100)\n",
        "print(유지수)"
      ],
      "metadata": {
        "colab": {
          "base_uri": "https://localhost:8080/"
        },
        "id": "pO7xJcKi87Be",
        "outputId": "c620ae3c-d0bc-4040-e87f-bd689aa6ca47"
      },
      "execution_count": 16,
      "outputs": [
        {
          "output_type": "stream",
          "name": "stdout",
          "text": [
            "5\n"
          ]
        }
      ]
    },
    {
      "cell_type": "code",
      "source": [
        "정재호 = random.randint(1, 100)\n",
        "print(정재호)"
      ],
      "metadata": {
        "colab": {
          "base_uri": "https://localhost:8080/"
        },
        "id": "TJPyLara9Fxy",
        "outputId": "fdebc4b3-5755-4254-fc58-1f4474a66581"
      },
      "execution_count": 17,
      "outputs": [
        {
          "output_type": "stream",
          "name": "stdout",
          "text": [
            "17\n"
          ]
        }
      ]
    },
    {
      "cell_type": "code",
      "source": [
        "print(\"유지수는\", 유지수, \"정재호는\", 정재호)"
      ],
      "metadata": {
        "colab": {
          "base_uri": "https://localhost:8080/"
        },
        "id": "CJpYllrD9UfQ",
        "outputId": "307a9e9f-5ec0-4930-f951-4b756b7695b4"
      },
      "execution_count": 20,
      "outputs": [
        {
          "output_type": "stream",
          "name": "stdout",
          "text": [
            "유지수는 5 정재호는 17\n"
          ]
        }
      ]
    },
    {
      "cell_type": "code",
      "source": [
        "if 정재호 > 유지수:\n",
        "    print(\"유지수가 고백한다.\")\n",
        "else:\n",
        "    print(\"정재호가 고백한다.\")"
      ],
      "metadata": {
        "colab": {
          "base_uri": "https://localhost:8080/"
        },
        "id": "yeWG6cB29_nN",
        "outputId": "82c56ee3-00c6-4274-fe95-4b9aaa7ed445"
      },
      "execution_count": 22,
      "outputs": [
        {
          "output_type": "stream",
          "name": "stdout",
          "text": [
            "유지수가 고백한다.\n"
          ]
        }
      ]
    },
    {
      "cell_type": "code",
      "source": [
        "정재호고백 = 0\n",
        "유지수고백 = 0\n",
        "\n",
        "for 횟수 in range(3):\n",
        "    유지수 = random.randint(1,100)\n",
        "    정재호 = random.randint(1, 100)\n",
        "\n",
        "    if 정재호 > 유지수:\n",
        "        유지수고백 = 유지수고백 +1\n",
        "    else:\n",
        "        정재호고백 = 정재호고백 + 1\n",
        "\n",
        "if 정재호고백 > 유지수고백:\n",
        "    print(\"정재호가 고백한다\")\n",
        "else:\n",
        "    print(\"유지수가 고백한다\")"
      ],
      "metadata": {
        "colab": {
          "base_uri": "https://localhost:8080/"
        },
        "id": "wT7YC8IO-n4s",
        "outputId": "4cec1afc-9899-42be-8800-90fab068d8bd"
      },
      "execution_count": 32,
      "outputs": [
        {
          "output_type": "stream",
          "name": "stdout",
          "text": [
            "유지수가 고백한다\n"
          ]
        }
      ]
    },
    {
      "cell_type": "code",
      "source": [
        "import random\n",
        "\n",
        "로또 = []\n",
        "\n",
        "for 개수 in range(6):\n",
        "    번호 = random.randint(1,45)\n",
        "    \n",
        "    if 번호 not in 로또:\n",
        "        로또.append(번호)\n",
        "    else:\n",
        "        개수 = 개수 - 1\n",
        "        \n",
        "로또.sort()\n",
        "print(로또)"
      ],
      "metadata": {
        "colab": {
          "base_uri": "https://localhost:8080/"
        },
        "id": "xwWUcSnNAbbN",
        "outputId": "0714d896-8aa3-44ed-af42-f9273d96de6f"
      },
      "execution_count": 61,
      "outputs": [
        {
          "output_type": "stream",
          "name": "stdout",
          "text": [
            "[2, 17, 21, 25, 33, 44]\n"
          ]
        }
      ]
    },
    {
      "cell_type": "code",
      "source": [
        "import random\n",
        "\n",
        "추첨함 = []\n",
        "삭제번호 = [1, 2, 3, 4, 5]\n",
        "고정번호 = [10, 11]\n",
        "\n",
        "for 번호 in range(46):\n",
        "    추첨함.append(번호)\n",
        "\n",
        "for i in range(len(삭제번호)):\n",
        "    추첨함.remove(삭제번호[i])\n",
        "\n",
        "for i in range(len(고정번호)):\n",
        "    추첨함.remove(고정번호[i])\n",
        "\n",
        "random.shuffle(추첨함)\n",
        "print(고정번호 + sorted(추첨함[0:6 - len(고정번호)]))"
      ],
      "metadata": {
        "colab": {
          "base_uri": "https://localhost:8080/"
        },
        "id": "RZ7opd43Cbb2",
        "outputId": "a12a2a41-7f86-4d0d-af50-595c36898712"
      },
      "execution_count": 70,
      "outputs": [
        {
          "output_type": "stream",
          "name": "stdout",
          "text": [
            "[10, 11, 20, 31, 35, 40]\n"
          ]
        }
      ]
    },
    {
      "cell_type": "markdown",
      "source": [
        "--------------------------------"
      ],
      "metadata": {
        "id": "3SkOvehxGeK5"
      }
    }
  ]
}