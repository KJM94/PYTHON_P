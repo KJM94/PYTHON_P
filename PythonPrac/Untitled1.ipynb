{
 "cells": [
  {
   "cell_type": "code",
   "execution_count": 5,
   "id": "c716d99c",
   "metadata": {},
   "outputs": [],
   "source": [
    "from pptx import Presentation\n",
    "from pptx.util import Inches\n",
    "\n",
    "# Load the existing presentation\n",
    "prs = Presentation(\"./프레젠테이션1.pptx\")\n",
    "\n",
    "# Function to add a slide with a title and content\n",
    "def add_slide(prs, title, content):\n",
    "    slide_layout = prs.slide_layouts[1]  # Use the title and content layout\n",
    "    slide = prs.slides.add_slide(slide_layout)\n",
    "    title_placeholder = slide.shapes.title\n",
    "    content_placeholder = slide.placeholders[1]\n",
    "    title_placeholder.text = title\n",
    "    content_placeholder.text = content\n",
    "\n",
    "# Slide 1: 클러스터링 기준\n",
    "add_slide(prs, \"클러스터링 기준\", \"평균 평점 (avg_rating): 사용자가 주는 평점의 평균 값입니다.\\n\"\n",
    "                                   \"리뷰 수 (num_reviews): 사용자가 작성한 리뷰의 수입니다. 많은 리뷰를 작성한 사용자는 서비스나 제품에 대해 활발하게 의견을 남기는 경향이 있으며 이는 추천/검색 시스템에서 중요한 사용자 그룹이 될 수 있습니다.\\n\"\n",
    "                                   \"마지막 리뷰 시간(last_review)을 데이터에 포함시킨 이유는 사용자의 최신 활동이 행동을 이해하는 데 중요한 정보일 수 있기 때문입니다.\")\n",
    "\n",
    "# Slide 2: 클러스터링 기준 중요성\n",
    "add_slide(prs, \"클러스터링 기준의 중요성\", \"평균 평점: 품질에 민감한 사용자일 수 있음\\n\"\n",
    "                                       \"리뷰 수: 활발한 사용자의 의견 반영 가능\\n\"\n",
    "                                       \"마지막 리뷰 시간: 사용자의 최신 활동과 참여도 측정 가능\")\n",
    "\n",
    "# Slide 3: 마지막 리뷰 시간의 중요성\n",
    "add_slide(prs, \"마지막 리뷰 시간의 중요성\", \"1. 사용자의 최근 활동\\n\"\n",
    "                                         \"   - 최근 리뷰를 작성한 사용자는 현재도 플랫폼을 적극적으로 이용할 가능성 큼\\n\"\n",
    "                                         \"   - 오래 전에 리뷰를 작성한 사용자는 더 이상 플랫폼을 사용하지 않거나 관심이 줄어들었을 가능성 큼\\n\"\n",
    "                                         \"2. 사용자 참여도 측정\\n\"\n",
    "                                         \"   - 리뷰 작성 빈도로 사용자의 참여도 측정 가능\\n\"\n",
    "                                         \"   - 자주 리뷰를 작성하는 사용자는 플랫폼에 대해 더 많이 참여하고 더 많은 피드백을 제공할 가능성 큼\\n\"\n",
    "                                         \"3. 추천 및 마케팅 전략\\n\"\n",
    "                                         \"   - 최근 리뷰 작성자에게는 새로운 제품이나 서비스를 추천/프로모션 효과적\\n\"\n",
    "                                         \"   - 오래된 사용자에게는 재참여 유도 전략 필요\")\n",
    "\n",
    "# Slide 4: 클러스터 그룹 제안\n",
    "add_slide(prs, \"클러스터 그룹 제안\", \"각 클러스터의 특성에 따라 다음과 같은 그룹을 제안합니다:\\n\"\n",
    "                                    \"1. 클러스터 4: 과거 활동 긍정적 리뷰어 (평균 평점: 4.15, 리뷰 수: 1.19, 마지막 리뷰 시간: 2009년 초)\\n\"\n",
    "                                    \"2. 클러스터 3: 중간 활동 긍정적 리뷰어 (평균 평점: 4.13, 리뷰 수: 1.50, 마지막 리뷰 시간: 2013년 초)\\n\"\n",
    "                                    \"3. 클러스터 2: 과거 활동한 긍정적 리뷰어 (평균 평점: 4.20, 리뷰 수: 1.13, 마지막 리뷰 시간: 2007년 초)\\n\"\n",
    "                                    \"4. 클러스터 1: 활동이 적은 긍정적 리뷰어 (평균 평점: 4.05, 리뷰 수: 1.28, 마지막 리뷰 시간: 2011년 초)\\n\"\n",
    "                                    \"5. 클러스터 0: 최근 활동한 긍정적 리뷰어 (평균 평점: 4.11, 리뷰 수: 1.99, 마지막 리뷰 시간: 2014년 초)\")\n",
    "\n",
    "# Slide 5: 클러스터 그룹 특성\n",
    "add_slide(prs, \"클러스터 그룹 특성\", \"1. 평균 평점: 모든 클러스터의 평균 평점이 4.0 이상\\n\"\n",
    "                                   \"2. 리뷰 수: 모든 클러스터의 리뷰 수가 2 미만\\n\"\n",
    "                                   \"3. 마지막 리뷰 시간: 마지막 리뷰 시간에 다소 차이가 있으나 데이터가 넓게 분포\")\n",
    "\n",
    "# Slide 6: 분류 기준 및 이름 선택 이유\n",
    "add_slide(prs, \"분류 기준 및 이름 선택 이유\", \"최근 활동 여부: 클러스터의 last_review 값을 통해 최근 활동 여부를 파악\\n\"\n",
    "                                             \"리뷰 수: num_reviews 값을 통해 사용자의 활동량을 파악\\n\"\n",
    "                                             \"평균 평점: avg_rating 값을 통해 사용자 리뷰의 긍정적 또는 부정적 경향을 파악\\n\"\n",
    "                                             \"이러한 기준을 통해 각 클러스터의 특성을 반영한 이름을 제안하였습니다.\")\n",
    "\n",
    "# Slide 7: 결론\n",
    "add_slide(prs, \"결론\", \"각 클러스터의 특성을 반영한 이름 부여\\n\"\n",
    "                      \"추천/검색 서비스에서 사용자 그룹에 맞춤형 모델/시나리오 제공 가능\")\n",
    "\n",
    "# Save the presentation\n",
    "prs.save(\"./프레젠테이션1_수정.pptx\")\n"
   ]
  },
  {
   "cell_type": "code",
   "execution_count": 2,
   "id": "8afea82c",
   "metadata": {},
   "outputs": [
    {
     "name": "stdout",
     "output_type": "stream",
     "text": [
      "Collecting python-pptx\n",
      "  Downloading python_pptx-0.6.23-py3-none-any.whl (471 kB)\n",
      "Requirement already satisfied: Pillow>=3.3.2 in c:\\users\\kjm\\anaconda3\\lib\\site-packages (from python-pptx) (8.4.0)\n",
      "Requirement already satisfied: lxml>=3.1.0 in c:\\users\\kjm\\anaconda3\\lib\\site-packages (from python-pptx) (4.6.3)\n",
      "Requirement already satisfied: XlsxWriter>=0.5.7 in c:\\users\\kjm\\anaconda3\\lib\\site-packages (from python-pptx) (3.0.1)\n",
      "Installing collected packages: python-pptx\n",
      "Successfully installed python-pptx-0.6.23\n",
      "Note: you may need to restart the kernel to use updated packages.\n"
     ]
    }
   ],
   "source": [
    "pip install python-pptx"
   ]
  }
 ],
 "metadata": {
  "kernelspec": {
   "display_name": "Python 3 (ipykernel)",
   "language": "python",
   "name": "python3"
  },
  "language_info": {
   "codemirror_mode": {
    "name": "ipython",
    "version": 3
   },
   "file_extension": ".py",
   "mimetype": "text/x-python",
   "name": "python",
   "nbconvert_exporter": "python",
   "pygments_lexer": "ipython3",
   "version": "3.9.7"
  }
 },
 "nbformat": 4,
 "nbformat_minor": 5
}
