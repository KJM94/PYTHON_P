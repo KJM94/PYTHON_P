{
 "cells": [
  {
   "cell_type": "code",
   "execution_count": 1,
   "id": "d86360b2",
   "metadata": {},
   "outputs": [
    {
     "ename": "AttributeError",
     "evalue": "'NoneType' object has no attribute 'text'",
     "output_type": "error",
     "traceback": [
      "\u001b[1;31m---------------------------------------------------------------------------\u001b[0m",
      "\u001b[1;31mAttributeError\u001b[0m                            Traceback (most recent call last)",
      "\u001b[1;32m~\\AppData\\Local\\Temp/ipykernel_11852/1772681357.py\u001b[0m in \u001b[0;36m<module>\u001b[1;34m\u001b[0m\n\u001b[0;32m     49\u001b[0m     \u001b[0mslide\u001b[0m \u001b[1;33m=\u001b[0m \u001b[0mprs\u001b[0m\u001b[1;33m.\u001b[0m\u001b[0mslides\u001b[0m\u001b[1;33m[\u001b[0m\u001b[0midx\u001b[0m\u001b[1;33m]\u001b[0m\u001b[1;33m\u001b[0m\u001b[1;33m\u001b[0m\u001b[0m\n\u001b[0;32m     50\u001b[0m     \u001b[0mtitle\u001b[0m \u001b[1;33m=\u001b[0m \u001b[0mslide\u001b[0m\u001b[1;33m.\u001b[0m\u001b[0mshapes\u001b[0m\u001b[1;33m.\u001b[0m\u001b[0mtitle\u001b[0m\u001b[1;33m\u001b[0m\u001b[1;33m\u001b[0m\u001b[0m\n\u001b[1;32m---> 51\u001b[1;33m     \u001b[0mtitle\u001b[0m\u001b[1;33m.\u001b[0m\u001b[0mtext\u001b[0m \u001b[1;33m=\u001b[0m \u001b[0mslide_content\u001b[0m\u001b[1;33m[\u001b[0m\u001b[1;34m\"title\"\u001b[0m\u001b[1;33m]\u001b[0m\u001b[1;33m\u001b[0m\u001b[1;33m\u001b[0m\u001b[0m\n\u001b[0m\u001b[0;32m     52\u001b[0m     \u001b[0mcontent\u001b[0m \u001b[1;33m=\u001b[0m \u001b[0mslide\u001b[0m\u001b[1;33m.\u001b[0m\u001b[0mplaceholders\u001b[0m\u001b[1;33m[\u001b[0m\u001b[1;36m1\u001b[0m\u001b[1;33m]\u001b[0m\u001b[1;33m.\u001b[0m\u001b[0mtext_frame\u001b[0m\u001b[1;33m\u001b[0m\u001b[1;33m\u001b[0m\u001b[0m\n\u001b[0;32m     53\u001b[0m     \u001b[0mcontent\u001b[0m\u001b[1;33m.\u001b[0m\u001b[0mclear\u001b[0m\u001b[1;33m(\u001b[0m\u001b[1;33m)\u001b[0m\u001b[1;33m\u001b[0m\u001b[1;33m\u001b[0m\u001b[0m\n",
      "\u001b[1;31mAttributeError\u001b[0m: 'NoneType' object has no attribute 'text'"
     ]
    }
   ],
   "source": [
    "from pptx import Presentation\n",
    "\n",
    "# Load the provided presentation\n",
    "input_path = './프레젠테이션2.pptx'\n",
    "prs = Presentation(input_path)\n",
    "\n",
    "# Define the slides content based on the previous outline in Korean\n",
    "slides_content = [\n",
    "    {\n",
    "        \"title\": \"무신사 검색 시스템 개선 방안\",\n",
    "        \"content\": \"발표자: [발표자 이름]\\n발표 일자: [발표 일자]\"\n",
    "    },\n",
    "    {\n",
    "        \"title\": \"현황 분석\",\n",
    "        \"content\": \"현재 무신사는 인기 검색어와 급상승 검색어만 제공하고 있으며 사용자의 개인 취향을 반영하지 않은 상태입니다.\"\n",
    "    },\n",
    "    {\n",
    "        \"title\": \"개선 목표\",\n",
    "        \"content\": \"개선 목표\\n- 연령대별 검색어 제공\\n- 성별 검색어 제공\\n- 사용자 맞춤형 검색어 제공\\n- 비슷한 취향의 사용자 검색어 제공\"\n",
    "    },\n",
    "    {\n",
    "        \"title\": \"데이터 수집 및 분석\",\n",
    "        \"content\": \"데이터 수집 및 분석\\n1. 사용자 데이터 수집\\n- 사용자 프로필: 연령대, 성별, 지역, 선호 브랜드 및 스타일\\n- 검색 이력: 검색한 키워드와 검색 빈도\\n- 클릭 이력: 클릭한 제품과 관련 키워드\\n- 구매 이력: 구매한 제품과 관련 키워드\\n2. 데이터 분석\\n- 상위 검색어 추출: 연령대, 성별, 지역별 상위 검색어 분석\\n- 유사 사용자 그룹화: 클러스터링 알고리즘을 사용해 유사한 취향을 가진 사용자 그룹화\"\n",
    "    },\n",
    "    {\n",
    "        \"title\": \"기술적 구현 방안\",\n",
    "        \"content\": \"기술적 구현 방안\\n1. 데이터베이스 설계\\n- 테이블 구조: 사용자 정보, 검색 이력, 클릭 이력, 구매 이력 등을 저장하는 테이블 설계\\n- 인덱싱: 빠른 검색 결과 제공을 위한 검색어 테이블 인덱싱\\n2. 알고리즘 개발\\n- 협업 필터링: 사용자 기반 협업 필터링 알고리즘 구현\\n- 추천 시스템: 비슷한 취향의 사용자가 검색한 키워드를 기반으로 추천\"\n",
    "    },\n",
    "    {\n",
    "        \"title\": \"시스템 통합\",\n",
    "        \"content\": \"시스템 통합\\n1. 필터 기능 추가\\n- UI/UX 디자인: 검색 페이지에 연령대, 성별, 지역 필터 추가\\n- 검색 옵션: ‘비슷한 취향의 사람들이 찾은 키워드’ 필터 추가\\n- 백엔드 개발: 필터 선택에 따른 검색어 데이터를 실시간으로 제공\\n2. 개인화 추천\\n- 추천 알고리즘 적용: 사용자의 연령대, 성별, 지역 정보를 반영하여 검색 결과 개인화\\n- 머신 러닝 모델: 사용자의 검색 패턴을 분석해 맞춤형 검색어 추천\"\n",
    "    },\n",
    "    {\n",
    "        \"title\": \"평가 계획\",\n",
    "        \"content\": \"평가 계획\\n1. 사용자 테스트\\n- A/B 테스트: 새로운 검색 기능을 일부 사용자에게 제공하고 기존 기능과 성과 비교\\n- 사용자 피드백: 설문조사와 인터뷰를 통해 개선된 검색 기능에 대한 피드백 수집\\n2. 성과 지표 분석\\n- 검색 정확도: 원하는 검색 결과를 얼마나 정확하게 찾을 수 있는지 평가\\n- 구매 전환율: 검색 후 구매로 이어지는 비율 분석\\n- 사용자 만족도: 사용자 만족도를 조사해 개선된 기능의 효과 평가\"\n",
    "    },\n",
    "    {\n",
    "        \"title\": \"결론\",\n",
    "        \"content\": \"비슷한 취향을 가진 사용자들이 찾는 키워드 검색어를 제공함으로써, 무신사는 사용자들에게 더욱 개인화된 쇼핑 경험을 제공할 수 있습니다. 이를 통해 사용자의 만족도를 높이고 플랫폼의 경쟁력을 강화할 수 있을 것입니다.\"\n",
    "    },\n",
    "    {\n",
    "        \"title\": \"Q&A\",\n",
    "        \"content\": \"질문과 답변\"\n",
    "    }\n",
    "]\n",
    "\n",
    "# Update each slide in the presentation\n",
    "for idx, slide_content in enumerate(slides_content):\n",
    "    slide = prs.slides[idx]\n",
    "    title = slide.shapes.title\n",
    "    title.text = slide_content[\"title\"]\n",
    "    content = slide.placeholders[1].text_frame\n",
    "    content.clear()\n",
    "    content.text = slide_content[\"content\"]\n",
    "\n",
    "# Save the updated presentation\n",
    "output_path = './무신사_검색_시스템_개선_방안_updated_v2.pptx'\n",
    "prs.save(output_path)\n",
    "\n",
    "output_path\n"
   ]
  }
 ],
 "metadata": {
  "kernelspec": {
   "display_name": "Python 3 (ipykernel)",
   "language": "python",
   "name": "python3"
  },
  "language_info": {
   "codemirror_mode": {
    "name": "ipython",
    "version": 3
   },
   "file_extension": ".py",
   "mimetype": "text/x-python",
   "name": "python",
   "nbconvert_exporter": "python",
   "pygments_lexer": "ipython3",
   "version": "3.9.7"
  }
 },
 "nbformat": 4,
 "nbformat_minor": 5
}
